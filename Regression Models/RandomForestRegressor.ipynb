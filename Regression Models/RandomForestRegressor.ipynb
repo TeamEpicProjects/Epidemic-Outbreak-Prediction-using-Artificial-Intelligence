{
  "nbformat": 4,
  "nbformat_minor": 0,
  "metadata": {
    "colab": {
      "name": "RandomForestRegressor.ipynb",
      "provenance": [],
      "collapsed_sections": []
    },
    "kernelspec": {
      "display_name": "Python 3",
      "name": "python3"
    },
    "language_info": {
      "name": "python"
    }
  },
  "cells": [
    {
      "cell_type": "code",
      "metadata": {
        "id": "GFs7Y1qmAR_A"
      },
      "source": [
        "import pandas as pd\n",
        "import numpy as np"
      ],
      "execution_count": null,
      "outputs": []
    },
    {
      "cell_type": "code",
      "metadata": {
        "colab": {
          "base_uri": "https://localhost:8080/",
          "height": 224
        },
        "id": "3BJI5q4_B9-4",
        "outputId": "b4c5b778-c66d-4440-ba7e-098ee4f03571"
      },
      "source": [
        "data = pd.read_csv('regression_dataset.csv')\n",
        "data.head()"
      ],
      "execution_count": null,
      "outputs": [
        {
          "output_type": "execute_result",
          "data": {
            "text/html": [
              "<div>\n",
              "<style scoped>\n",
              "    .dataframe tbody tr th:only-of-type {\n",
              "        vertical-align: middle;\n",
              "    }\n",
              "\n",
              "    .dataframe tbody tr th {\n",
              "        vertical-align: top;\n",
              "    }\n",
              "\n",
              "    .dataframe thead th {\n",
              "        text-align: right;\n",
              "    }\n",
              "</style>\n",
              "<table border=\"1\" class=\"dataframe\">\n",
              "  <thead>\n",
              "    <tr style=\"text-align: right;\">\n",
              "      <th></th>\n",
              "      <th>cases</th>\n",
              "      <th>latitude</th>\n",
              "      <th>longitude</th>\n",
              "      <th>maxtempC</th>\n",
              "      <th>mintempC</th>\n",
              "      <th>totalSnow_cm</th>\n",
              "      <th>sunHour</th>\n",
              "      <th>uvIndex</th>\n",
              "      <th>moon_illumination</th>\n",
              "      <th>DewPointC</th>\n",
              "      <th>FeelsLikeC</th>\n",
              "      <th>HeatIndexC</th>\n",
              "      <th>WindChillC</th>\n",
              "      <th>WindGustKmph</th>\n",
              "      <th>cloudcover</th>\n",
              "      <th>humidity</th>\n",
              "      <th>pressure</th>\n",
              "      <th>tempC</th>\n",
              "      <th>visibility</th>\n",
              "      <th>winddirDegree</th>\n",
              "      <th>windspeedKmph</th>\n",
              "      <th>year</th>\n",
              "      <th>month</th>\n",
              "      <th>density_per_km</th>\n",
              "      <th>precipMM</th>\n",
              "    </tr>\n",
              "  </thead>\n",
              "  <tbody>\n",
              "    <tr>\n",
              "      <th>0</th>\n",
              "      <td>2</td>\n",
              "      <td>-34.603684</td>\n",
              "      <td>-58.381559</td>\n",
              "      <td>24</td>\n",
              "      <td>7</td>\n",
              "      <td>0.0</td>\n",
              "      <td>11.6</td>\n",
              "      <td>5</td>\n",
              "      <td>87</td>\n",
              "      <td>6</td>\n",
              "      <td>14</td>\n",
              "      <td>15</td>\n",
              "      <td>14</td>\n",
              "      <td>16</td>\n",
              "      <td>0</td>\n",
              "      <td>59</td>\n",
              "      <td>1018</td>\n",
              "      <td>24</td>\n",
              "      <td>10</td>\n",
              "      <td>189</td>\n",
              "      <td>10</td>\n",
              "      <td>2016</td>\n",
              "      <td>3</td>\n",
              "      <td>0.505636</td>\n",
              "      <td>0.0</td>\n",
              "    </tr>\n",
              "    <tr>\n",
              "      <th>1</th>\n",
              "      <td>0</td>\n",
              "      <td>-34.603684</td>\n",
              "      <td>-58.381559</td>\n",
              "      <td>24</td>\n",
              "      <td>7</td>\n",
              "      <td>0.0</td>\n",
              "      <td>11.6</td>\n",
              "      <td>5</td>\n",
              "      <td>87</td>\n",
              "      <td>6</td>\n",
              "      <td>14</td>\n",
              "      <td>15</td>\n",
              "      <td>14</td>\n",
              "      <td>16</td>\n",
              "      <td>0</td>\n",
              "      <td>59</td>\n",
              "      <td>1018</td>\n",
              "      <td>24</td>\n",
              "      <td>10</td>\n",
              "      <td>189</td>\n",
              "      <td>10</td>\n",
              "      <td>2016</td>\n",
              "      <td>3</td>\n",
              "      <td>0.505636</td>\n",
              "      <td>0.0</td>\n",
              "    </tr>\n",
              "    <tr>\n",
              "      <th>2</th>\n",
              "      <td>1</td>\n",
              "      <td>-34.603684</td>\n",
              "      <td>-58.381559</td>\n",
              "      <td>24</td>\n",
              "      <td>7</td>\n",
              "      <td>0.0</td>\n",
              "      <td>11.6</td>\n",
              "      <td>5</td>\n",
              "      <td>87</td>\n",
              "      <td>6</td>\n",
              "      <td>14</td>\n",
              "      <td>15</td>\n",
              "      <td>14</td>\n",
              "      <td>16</td>\n",
              "      <td>0</td>\n",
              "      <td>59</td>\n",
              "      <td>1018</td>\n",
              "      <td>24</td>\n",
              "      <td>10</td>\n",
              "      <td>189</td>\n",
              "      <td>10</td>\n",
              "      <td>2016</td>\n",
              "      <td>3</td>\n",
              "      <td>0.505636</td>\n",
              "      <td>0.0</td>\n",
              "    </tr>\n",
              "    <tr>\n",
              "      <th>3</th>\n",
              "      <td>0</td>\n",
              "      <td>-34.603684</td>\n",
              "      <td>-58.381559</td>\n",
              "      <td>22</td>\n",
              "      <td>10</td>\n",
              "      <td>0.0</td>\n",
              "      <td>11.5</td>\n",
              "      <td>5</td>\n",
              "      <td>76</td>\n",
              "      <td>10</td>\n",
              "      <td>14</td>\n",
              "      <td>16</td>\n",
              "      <td>14</td>\n",
              "      <td>27</td>\n",
              "      <td>34</td>\n",
              "      <td>72</td>\n",
              "      <td>1025</td>\n",
              "      <td>22</td>\n",
              "      <td>10</td>\n",
              "      <td>99</td>\n",
              "      <td>18</td>\n",
              "      <td>2016</td>\n",
              "      <td>4</td>\n",
              "      <td>0.505636</td>\n",
              "      <td>0.0</td>\n",
              "    </tr>\n",
              "    <tr>\n",
              "      <th>4</th>\n",
              "      <td>1</td>\n",
              "      <td>-34.603684</td>\n",
              "      <td>-58.381559</td>\n",
              "      <td>22</td>\n",
              "      <td>10</td>\n",
              "      <td>0.0</td>\n",
              "      <td>11.5</td>\n",
              "      <td>5</td>\n",
              "      <td>76</td>\n",
              "      <td>10</td>\n",
              "      <td>14</td>\n",
              "      <td>16</td>\n",
              "      <td>14</td>\n",
              "      <td>27</td>\n",
              "      <td>34</td>\n",
              "      <td>72</td>\n",
              "      <td>1025</td>\n",
              "      <td>22</td>\n",
              "      <td>10</td>\n",
              "      <td>99</td>\n",
              "      <td>18</td>\n",
              "      <td>2016</td>\n",
              "      <td>4</td>\n",
              "      <td>0.505636</td>\n",
              "      <td>0.0</td>\n",
              "    </tr>\n",
              "  </tbody>\n",
              "</table>\n",
              "</div>"
            ],
            "text/plain": [
              "   cases   latitude  longitude  maxtempC  ...  year  month  density_per_km  precipMM\n",
              "0      2 -34.603684 -58.381559        24  ...  2016      3        0.505636       0.0\n",
              "1      0 -34.603684 -58.381559        24  ...  2016      3        0.505636       0.0\n",
              "2      1 -34.603684 -58.381559        24  ...  2016      3        0.505636       0.0\n",
              "3      0 -34.603684 -58.381559        22  ...  2016      4        0.505636       0.0\n",
              "4      1 -34.603684 -58.381559        22  ...  2016      4        0.505636       0.0\n",
              "\n",
              "[5 rows x 25 columns]"
            ]
          },
          "metadata": {},
          "execution_count": 2
        }
      ]
    },
    {
      "cell_type": "code",
      "metadata": {
        "id": "3Dy-ekIRCJXY"
      },
      "source": [
        "X = data[['maxtempC', 'mintempC', 'windspeedKmph', 'year', 'month', 'density_per_km', 'precipMM', 'cloudcover',\n",
        "       'humidity','DewPointC', 'latitude', 'longitude','FeelsLikeC', 'winddirDegree', 'sunHour']]\n",
        "y = data['cases']"
      ],
      "execution_count": null,
      "outputs": []
    },
    {
      "cell_type": "code",
      "metadata": {
        "id": "z4AFHhnACPio"
      },
      "source": [
        "from sklearn.model_selection import train_test_split\n",
        "X_train,X_test,Y_train,Y_test = train_test_split(X,y,test_size=0.2,random_state=10)"
      ],
      "execution_count": null,
      "outputs": []
    },
    {
      "cell_type": "code",
      "metadata": {
        "colab": {
          "base_uri": "https://localhost:8080/"
        },
        "id": "gss5amJ4FOFL",
        "outputId": "a48719c4-b9e2-4b97-8ade-c7a9d229fde1"
      },
      "source": [
        "from sklearn.ensemble import RandomForestRegressor\n",
        "from sklearn.metrics import mean_squared_error, r2_score\n",
        "\n",
        "regressor_rf = RandomForestRegressor(n_estimators=100, random_state=10)\n",
        "regressor_rf.fit(X_train, Y_train)\n",
        "y_pred = regressor_rf.predict(X_test)\n",
        "y_pred"
      ],
      "execution_count": null,
      "outputs": [
        {
          "output_type": "execute_result",
          "data": {
            "text/plain": [
              "array([ 0.30602381, 26.79255952,  0.        , ...,  1.5845    ,\n",
              "       42.64833333, 22.44666667])"
            ]
          },
          "metadata": {},
          "execution_count": 5
        }
      ]
    },
    {
      "cell_type": "code",
      "metadata": {
        "colab": {
          "base_uri": "https://localhost:8080/"
        },
        "id": "tm1DCocuFroo",
        "outputId": "47fbfd5c-29da-48f8-b02b-419bafbf98b3"
      },
      "source": [
        "mse = mean_squared_error(Y_test, y_pred)\n",
        "rmse = np.sqrt(mse)\n",
        "r2 = r2_score(Y_test, y_pred)\n",
        "r2 = np.absolute(r2)\n",
        "print(mse, rmse, r2)"
      ],
      "execution_count": null,
      "outputs": [
        {
          "output_type": "stream",
          "name": "stdout",
          "text": [
            "669564.4275701249 818.2691657212343 0.37918008576550943\n"
          ]
        }
      ]
    },
    {
      "cell_type": "code",
      "metadata": {
        "id": "S9XO2WozgiQx"
      },
      "source": [
        "# parameters = {'bootstrap': [True, False],\n",
        "#               'max_depth': [50, 60, 70, 80, 90, 100],\n",
        "#               'max_features': ['auto', 'sqrt'],\n",
        "#               'min_samples_leaf': [1, 2, 4],\n",
        "#               'min_samples_split': [2, 5, 10],\n",
        "#               'n_estimators': [200, 400, 600, 800, 1000]}\n"
      ],
      "execution_count": null,
      "outputs": []
    },
    {
      "cell_type": "code",
      "metadata": {
        "id": "3coHZEjMJich"
      },
      "source": [
        "# from sklearn.model_selection import GridSearchCV\n",
        "\n",
        "# # First create the base model to tune\n",
        "# rf = RandomForestRegressor(random_state = 42)\n",
        "# # Random search of parameters, using 3 fold cross validation, \n",
        "# # search across 100 different combinations, and use all available cores\n",
        "# grid_search = GridSearchCV(estimator = rf, param_grid = parameters, \n",
        "#                           cv = 3, verbose = 2, return_train_score=True)\n",
        "\n",
        "# # Fit the random search model\n",
        "# grid_search.fit(X_train, Y_train);"
      ],
      "execution_count": null,
      "outputs": []
    },
    {
      "cell_type": "code",
      "metadata": {
        "colab": {
          "base_uri": "https://localhost:8080/"
        },
        "id": "DRHRKGqqF4to",
        "outputId": "a7104c26-f0cd-4b5e-f890-121117aa100e"
      },
      "source": [
        "tuned_rf = RandomForestRegressor(max_depth=100, max_features='sqrt', min_samples_leaf=4, min_samples_split=10, n_estimators=1000, random_state=10)\n",
        "tuned_rf.fit(X_train, Y_train)\n",
        "tuned_pred = tuned_rf.predict(X_test)\n",
        "tuned_pred"
      ],
      "execution_count": null,
      "outputs": [
        {
          "output_type": "execute_result",
          "data": {
            "text/plain": [
              "array([21.25409563, 64.23941036,  0.40803496, ...,  7.53035223,\n",
              "       49.86970271, 15.82387342])"
            ]
          },
          "metadata": {},
          "execution_count": 10
        }
      ]
    },
    {
      "cell_type": "code",
      "metadata": {
        "colab": {
          "base_uri": "https://localhost:8080/"
        },
        "id": "OCCJf2CYH5kp",
        "outputId": "10330e99-fc3b-4baa-a416-5830c8075e8b"
      },
      "source": [
        "mse = mean_squared_error(Y_test, tuned_pred)\n",
        "rmse = np.sqrt(mse)\n",
        "r2 = r2_score(Y_test, tuned_pred)\n",
        "r2 = np.absolute(r2)\n",
        "print(mse, rmse, r2)"
      ],
      "execution_count": null,
      "outputs": [
        {
          "output_type": "stream",
          "name": "stdout",
          "text": [
            "489745.02942980273 699.8178544662909 0.00878506067511542\n"
          ]
        }
      ]
    },
    {
      "cell_type": "code",
      "metadata": {
        "colab": {
          "base_uri": "https://localhost:8080/"
        },
        "id": "DgF6gnyoISNn",
        "outputId": "f88da660-48f6-4d66-c87c-76271000c037"
      },
      "source": [
        "tuned_rf2 = RandomForestRegressor(max_depth=150, max_features='sqrt', min_samples_leaf=8, min_samples_split=16, n_estimators=1600, random_state=10)\n",
        "tuned_rf2.fit(X_train, Y_train)\n",
        "tuned_pred2 = tuned_rf2.predict(X_test)\n",
        "tuned_pred2"
      ],
      "execution_count": null,
      "outputs": [
        {
          "output_type": "execute_result",
          "data": {
            "text/plain": [
              "array([ 29.51792543, 128.38174523,   0.55190434, ...,  12.10660172,\n",
              "        58.7197974 ,  18.96214557])"
            ]
          },
          "metadata": {},
          "execution_count": 13
        }
      ]
    },
    {
      "cell_type": "code",
      "metadata": {
        "colab": {
          "base_uri": "https://localhost:8080/"
        },
        "id": "eHQv26VoIlm-",
        "outputId": "bd2ec74e-463a-4a46-d055-26bd941781b6"
      },
      "source": [
        "mse = mean_squared_error(Y_test, tuned_pred2)\n",
        "rmse = np.sqrt(mse)\n",
        "r2 = r2_score(Y_test, tuned_pred2)\n",
        "r2 = np.absolute(r2)\n",
        "print(mse, rmse, r2)"
      ],
      "execution_count": null,
      "outputs": [
        {
          "output_type": "stream",
          "name": "stdout",
          "text": [
            "457569.3639607456 676.4387362952729 0.05749091701118281\n"
          ]
        }
      ]
    },
    {
      "cell_type": "code",
      "metadata": {
        "colab": {
          "base_uri": "https://localhost:8080/"
        },
        "id": "v0oUER19JiXY",
        "outputId": "556f012a-4abe-4477-81b5-b248f8e0e3fa"
      },
      "source": [
        "tuned_rf3 = RandomForestRegressor(max_depth=200, max_features='sqrt', min_samples_leaf=12, min_samples_split=20, n_estimators=2000, random_state=10)\n",
        "tuned_rf3.fit(X_train, Y_train)\n",
        "tuned_pred3 = tuned_rf3.predict(X_test)\n",
        "tuned_pred3"
      ],
      "execution_count": null,
      "outputs": [
        {
          "output_type": "execute_result",
          "data": {
            "text/plain": [
              "array([ 33.18653696, 160.36971953,   0.64753662, ...,  15.54698146,\n",
              "        59.89348377,  18.39258003])"
            ]
          },
          "metadata": {},
          "execution_count": 15
        }
      ]
    },
    {
      "cell_type": "code",
      "metadata": {
        "colab": {
          "base_uri": "https://localhost:8080/"
        },
        "id": "U6fhRFjOJmVb",
        "outputId": "110d3321-27f0-42f3-ecd2-a7156b2405c7"
      },
      "source": [
        "mse = mean_squared_error(Y_test, tuned_pred3)\n",
        "rmse = np.sqrt(mse)\n",
        "r2 = r2_score(Y_test, tuned_pred3)\n",
        "r2 = np.absolute(r2)\n",
        "print(mse, rmse, r2)"
      ],
      "execution_count": null,
      "outputs": [
        {
          "output_type": "stream",
          "name": "stdout",
          "text": [
            "447253.55088947737 668.7701779307129 0.07873960253052015\n"
          ]
        }
      ]
    },
    {
      "cell_type": "code",
      "metadata": {
        "colab": {
          "base_uri": "https://localhost:8080/"
        },
        "id": "e5fyTiO1LI0Y",
        "outputId": "f046fd32-442b-46bf-f34f-04450105a9fe"
      },
      "source": [
        "tuned_rf4 = RandomForestRegressor(max_depth=200, max_features='sqrt', min_samples_leaf=12, min_samples_split=20, n_estimators=3000, random_state=10)\n",
        "tuned_rf4.fit(X_train, Y_train)\n",
        "tuned_pred4 = tuned_rf4.predict(X_test)\n",
        "\n",
        "mse = mean_squared_error(Y_test, tuned_pred4)\n",
        "rmse = np.sqrt(mse)\n",
        "r2 = r2_score(Y_test, tuned_pred4)\n",
        "r2 = np.absolute(r2)\n",
        "print(mse, rmse, r2)"
      ],
      "execution_count": null,
      "outputs": [
        {
          "output_type": "stream",
          "name": "stdout",
          "text": [
            "447433.3663679514 668.9046018439037 0.07836921557922438\n"
          ]
        }
      ]
    },
    {
      "cell_type": "code",
      "metadata": {
        "colab": {
          "base_uri": "https://localhost:8080/"
        },
        "id": "LZwjyQl9NKbW",
        "outputId": "63769974-f5cf-4dac-eef3-7fc2bd7fda0b"
      },
      "source": [
        "tuned_rf5 = RandomForestRegressor(max_depth=300, max_features='sqrt', min_samples_leaf=16, min_samples_split=30, n_estimators=3000, random_state=10)\n",
        "tuned_rf5.fit(X_train, Y_train)\n",
        "tuned_pred5 = tuned_rf5.predict(X_test)\n",
        "\n",
        "mse = mean_squared_error(Y_test, tuned_pred5)\n",
        "rmse = np.sqrt(mse)\n",
        "r2 = r2_score(Y_test, tuned_pred5)\n",
        "r2 = np.absolute(r2)\n",
        "print(mse, rmse, r2)"
      ],
      "execution_count": null,
      "outputs": [
        {
          "output_type": "stream",
          "name": "stdout",
          "text": [
            "441754.6349246488 664.6462479580011 0.09006636225626041\n"
          ]
        }
      ]
    }
  ]
}