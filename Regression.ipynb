{
  "nbformat": 4,
  "nbformat_minor": 0,
  "metadata": {
    "colab": {
      "name": "Regression.ipynb",
      "provenance": []
    },
    "kernelspec": {
      "name": "python3",
      "display_name": "Python 3"
    },
    "language_info": {
      "name": "python"
    }
  },
  "cells": [
    {
      "cell_type": "code",
      "metadata": {
        "id": "GVylV3gwVu7t"
      },
      "source": [
        "# import library\n",
        "import pandas as pd\n",
        "import numpy as np\n",
        "import matplotlib.pyplot as plt\n",
        "import seaborn as sns"
      ],
      "execution_count": null,
      "outputs": []
    },
    {
      "cell_type": "code",
      "metadata": {
        "colab": {
          "base_uri": "https://localhost:8080/",
          "height": 225
        },
        "id": "Wbh6DvvGV-pE",
        "outputId": "29f5cb1b-8993-494c-d4e8-74eeb5e0b970"
      },
      "source": [
        "df = pd.read_csv('final_dataset.csv')\n",
        "df.head()"
      ],
      "execution_count": null,
      "outputs": [
        {
          "output_type": "execute_result",
          "data": {
            "text/html": [
              "<div>\n",
              "<style scoped>\n",
              "    .dataframe tbody tr th:only-of-type {\n",
              "        vertical-align: middle;\n",
              "    }\n",
              "\n",
              "    .dataframe tbody tr th {\n",
              "        vertical-align: top;\n",
              "    }\n",
              "\n",
              "    .dataframe thead th {\n",
              "        text-align: right;\n",
              "    }\n",
              "</style>\n",
              "<table border=\"1\" class=\"dataframe\">\n",
              "  <thead>\n",
              "    <tr style=\"text-align: right;\">\n",
              "      <th></th>\n",
              "      <th>density_per_km</th>\n",
              "      <th>latitude</th>\n",
              "      <th>longitude</th>\n",
              "      <th>maxtempC</th>\n",
              "      <th>mintempC</th>\n",
              "      <th>totalSnow_cm</th>\n",
              "      <th>sunHour</th>\n",
              "      <th>uvIndex</th>\n",
              "      <th>moon_illumination</th>\n",
              "      <th>DewPointC</th>\n",
              "      <th>FeelsLikeC</th>\n",
              "      <th>HeatIndexC</th>\n",
              "      <th>WindChillC</th>\n",
              "      <th>WindGustKmph</th>\n",
              "      <th>cloudcover</th>\n",
              "      <th>humidity</th>\n",
              "      <th>precipMM</th>\n",
              "      <th>pressure</th>\n",
              "      <th>tempC</th>\n",
              "      <th>visibility</th>\n",
              "      <th>winddirDegree</th>\n",
              "      <th>windspeedKmph</th>\n",
              "      <th>year</th>\n",
              "      <th>month</th>\n",
              "      <th>cases</th>\n",
              "    </tr>\n",
              "  </thead>\n",
              "  <tbody>\n",
              "    <tr>\n",
              "      <th>0</th>\n",
              "      <td>12625.800781</td>\n",
              "      <td>-34.603684</td>\n",
              "      <td>-58.381559</td>\n",
              "      <td>24</td>\n",
              "      <td>7</td>\n",
              "      <td>0.0</td>\n",
              "      <td>11.6</td>\n",
              "      <td>5</td>\n",
              "      <td>87</td>\n",
              "      <td>6</td>\n",
              "      <td>14</td>\n",
              "      <td>15</td>\n",
              "      <td>14</td>\n",
              "      <td>16</td>\n",
              "      <td>0</td>\n",
              "      <td>59</td>\n",
              "      <td>0.0</td>\n",
              "      <td>1018</td>\n",
              "      <td>24</td>\n",
              "      <td>10</td>\n",
              "      <td>189</td>\n",
              "      <td>10</td>\n",
              "      <td>2016</td>\n",
              "      <td>3</td>\n",
              "      <td>2</td>\n",
              "    </tr>\n",
              "    <tr>\n",
              "      <th>1</th>\n",
              "      <td>12625.800781</td>\n",
              "      <td>-34.603684</td>\n",
              "      <td>-58.381559</td>\n",
              "      <td>24</td>\n",
              "      <td>7</td>\n",
              "      <td>0.0</td>\n",
              "      <td>11.6</td>\n",
              "      <td>5</td>\n",
              "      <td>87</td>\n",
              "      <td>6</td>\n",
              "      <td>14</td>\n",
              "      <td>15</td>\n",
              "      <td>14</td>\n",
              "      <td>16</td>\n",
              "      <td>0</td>\n",
              "      <td>59</td>\n",
              "      <td>0.0</td>\n",
              "      <td>1018</td>\n",
              "      <td>24</td>\n",
              "      <td>10</td>\n",
              "      <td>189</td>\n",
              "      <td>10</td>\n",
              "      <td>2016</td>\n",
              "      <td>3</td>\n",
              "      <td>0</td>\n",
              "    </tr>\n",
              "    <tr>\n",
              "      <th>2</th>\n",
              "      <td>12625.800781</td>\n",
              "      <td>-34.603684</td>\n",
              "      <td>-58.381559</td>\n",
              "      <td>24</td>\n",
              "      <td>7</td>\n",
              "      <td>0.0</td>\n",
              "      <td>11.6</td>\n",
              "      <td>5</td>\n",
              "      <td>87</td>\n",
              "      <td>6</td>\n",
              "      <td>14</td>\n",
              "      <td>15</td>\n",
              "      <td>14</td>\n",
              "      <td>16</td>\n",
              "      <td>0</td>\n",
              "      <td>59</td>\n",
              "      <td>0.0</td>\n",
              "      <td>1018</td>\n",
              "      <td>24</td>\n",
              "      <td>10</td>\n",
              "      <td>189</td>\n",
              "      <td>10</td>\n",
              "      <td>2016</td>\n",
              "      <td>3</td>\n",
              "      <td>1</td>\n",
              "    </tr>\n",
              "    <tr>\n",
              "      <th>3</th>\n",
              "      <td>12625.800781</td>\n",
              "      <td>-34.603684</td>\n",
              "      <td>-58.381559</td>\n",
              "      <td>24</td>\n",
              "      <td>7</td>\n",
              "      <td>0.0</td>\n",
              "      <td>11.6</td>\n",
              "      <td>5</td>\n",
              "      <td>87</td>\n",
              "      <td>6</td>\n",
              "      <td>14</td>\n",
              "      <td>15</td>\n",
              "      <td>14</td>\n",
              "      <td>16</td>\n",
              "      <td>0</td>\n",
              "      <td>59</td>\n",
              "      <td>0.0</td>\n",
              "      <td>1018</td>\n",
              "      <td>24</td>\n",
              "      <td>10</td>\n",
              "      <td>189</td>\n",
              "      <td>10</td>\n",
              "      <td>2016</td>\n",
              "      <td>3</td>\n",
              "      <td>0</td>\n",
              "    </tr>\n",
              "    <tr>\n",
              "      <th>4</th>\n",
              "      <td>12625.800781</td>\n",
              "      <td>-34.603684</td>\n",
              "      <td>-58.381559</td>\n",
              "      <td>22</td>\n",
              "      <td>10</td>\n",
              "      <td>0.0</td>\n",
              "      <td>11.5</td>\n",
              "      <td>5</td>\n",
              "      <td>76</td>\n",
              "      <td>10</td>\n",
              "      <td>14</td>\n",
              "      <td>16</td>\n",
              "      <td>14</td>\n",
              "      <td>27</td>\n",
              "      <td>34</td>\n",
              "      <td>72</td>\n",
              "      <td>0.0</td>\n",
              "      <td>1025</td>\n",
              "      <td>22</td>\n",
              "      <td>10</td>\n",
              "      <td>99</td>\n",
              "      <td>18</td>\n",
              "      <td>2016</td>\n",
              "      <td>4</td>\n",
              "      <td>0</td>\n",
              "    </tr>\n",
              "  </tbody>\n",
              "</table>\n",
              "</div>"
            ],
            "text/plain": [
              "   density_per_km   latitude  longitude  ...  year  month  cases\n",
              "0    12625.800781 -34.603684 -58.381559  ...  2016      3      2\n",
              "1    12625.800781 -34.603684 -58.381559  ...  2016      3      0\n",
              "2    12625.800781 -34.603684 -58.381559  ...  2016      3      1\n",
              "3    12625.800781 -34.603684 -58.381559  ...  2016      3      0\n",
              "4    12625.800781 -34.603684 -58.381559  ...  2016      4      0\n",
              "\n",
              "[5 rows x 25 columns]"
            ]
          },
          "metadata": {},
          "execution_count": 94
        }
      ]
    },
    {
      "cell_type": "code",
      "metadata": {
        "colab": {
          "base_uri": "https://localhost:8080/"
        },
        "id": "-bbMhYDfWA0I",
        "outputId": "b142e1e5-64aa-4948-bcb7-ee6bef1422eb"
      },
      "source": [
        "df.shape"
      ],
      "execution_count": null,
      "outputs": [
        {
          "output_type": "execute_result",
          "data": {
            "text/plain": [
              "(174103, 25)"
            ]
          },
          "metadata": {},
          "execution_count": 95
        }
      ]
    },
    {
      "cell_type": "code",
      "metadata": {
        "id": "RFjSQgToWET-"
      },
      "source": [
        "# Remove duplicate rows\n",
        "df = df.drop_duplicates(keep='first', inplace=False)"
      ],
      "execution_count": null,
      "outputs": []
    },
    {
      "cell_type": "code",
      "metadata": {
        "colab": {
          "base_uri": "https://localhost:8080/"
        },
        "id": "6NCN5Bb8WGgq",
        "outputId": "3a10a580-d51b-4717-c64b-1063daa30cdb"
      },
      "source": [
        "df.shape"
      ],
      "execution_count": null,
      "outputs": [
        {
          "output_type": "execute_result",
          "data": {
            "text/plain": [
              "(103045, 25)"
            ]
          },
          "metadata": {},
          "execution_count": 97
        }
      ]
    },
    {
      "cell_type": "markdown",
      "metadata": {
        "id": "p76sooQ_q2Y5"
      },
      "source": [
        "#Feature Scaling"
      ]
    },
    {
      "cell_type": "code",
      "metadata": {
        "id": "MhfQyi85XFMS"
      },
      "source": [
        "# from sklearn.preprocessing import MinMaxScaler\n",
        "\n",
        "# scaler=MinMaxScaler()\n",
        "# data = scaler.fit_transform(df)\n",
        "# data = pd.DataFrame(data, columns= df.columns)\n",
        "# data.head()"
      ],
      "execution_count": null,
      "outputs": []
    },
    {
      "cell_type": "code",
      "metadata": {
        "colab": {
          "base_uri": "https://localhost:8080/",
          "height": 225
        },
        "id": "gvKwXzJPZWa2",
        "outputId": "bdcaa5eb-b8e9-4d3a-f953-b8b9252b0bc7"
      },
      "source": [
        "from sklearn.preprocessing import MinMaxScaler\n",
        "feature_scale=[feature for feature in df.columns if feature not in ['cases']]\n",
        "\n",
        "scaler=MinMaxScaler()\n",
        "scaler.fit(df[feature_scale])\n",
        "\n",
        "data = pd.concat([df[['cases']].reset_index(drop=True),\n",
        "                    pd.DataFrame(scaler.transform(df[feature_scale]), columns=feature_scale)],axis=1)\n",
        "\n",
        "data.head()"
      ],
      "execution_count": null,
      "outputs": [
        {
          "output_type": "execute_result",
          "data": {
            "text/html": [
              "<div>\n",
              "<style scoped>\n",
              "    .dataframe tbody tr th:only-of-type {\n",
              "        vertical-align: middle;\n",
              "    }\n",
              "\n",
              "    .dataframe tbody tr th {\n",
              "        vertical-align: top;\n",
              "    }\n",
              "\n",
              "    .dataframe thead th {\n",
              "        text-align: right;\n",
              "    }\n",
              "</style>\n",
              "<table border=\"1\" class=\"dataframe\">\n",
              "  <thead>\n",
              "    <tr style=\"text-align: right;\">\n",
              "      <th></th>\n",
              "      <th>cases</th>\n",
              "      <th>density_per_km</th>\n",
              "      <th>latitude</th>\n",
              "      <th>longitude</th>\n",
              "      <th>maxtempC</th>\n",
              "      <th>mintempC</th>\n",
              "      <th>totalSnow_cm</th>\n",
              "      <th>sunHour</th>\n",
              "      <th>uvIndex</th>\n",
              "      <th>moon_illumination</th>\n",
              "      <th>DewPointC</th>\n",
              "      <th>FeelsLikeC</th>\n",
              "      <th>HeatIndexC</th>\n",
              "      <th>WindChillC</th>\n",
              "      <th>WindGustKmph</th>\n",
              "      <th>cloudcover</th>\n",
              "      <th>humidity</th>\n",
              "      <th>precipMM</th>\n",
              "      <th>pressure</th>\n",
              "      <th>tempC</th>\n",
              "      <th>visibility</th>\n",
              "      <th>winddirDegree</th>\n",
              "      <th>windspeedKmph</th>\n",
              "      <th>year</th>\n",
              "      <th>month</th>\n",
              "    </tr>\n",
              "  </thead>\n",
              "  <tbody>\n",
              "    <tr>\n",
              "      <th>0</th>\n",
              "      <td>2</td>\n",
              "      <td>0.505636</td>\n",
              "      <td>0.196981</td>\n",
              "      <td>0.742734</td>\n",
              "      <td>0.641791</td>\n",
              "      <td>0.567164</td>\n",
              "      <td>0.0</td>\n",
              "      <td>0.625806</td>\n",
              "      <td>0.444444</td>\n",
              "      <td>0.87</td>\n",
              "      <td>0.622642</td>\n",
              "      <td>0.619718</td>\n",
              "      <td>0.573770</td>\n",
              "      <td>0.628571</td>\n",
              "      <td>0.164835</td>\n",
              "      <td>0.00</td>\n",
              "      <td>0.559140</td>\n",
              "      <td>0.0</td>\n",
              "      <td>0.602941</td>\n",
              "      <td>0.641791</td>\n",
              "      <td>1.0</td>\n",
              "      <td>0.531429</td>\n",
              "      <td>0.152542</td>\n",
              "      <td>0.333333</td>\n",
              "      <td>0.181818</td>\n",
              "    </tr>\n",
              "    <tr>\n",
              "      <th>1</th>\n",
              "      <td>0</td>\n",
              "      <td>0.505636</td>\n",
              "      <td>0.196981</td>\n",
              "      <td>0.742734</td>\n",
              "      <td>0.641791</td>\n",
              "      <td>0.567164</td>\n",
              "      <td>0.0</td>\n",
              "      <td>0.625806</td>\n",
              "      <td>0.444444</td>\n",
              "      <td>0.87</td>\n",
              "      <td>0.622642</td>\n",
              "      <td>0.619718</td>\n",
              "      <td>0.573770</td>\n",
              "      <td>0.628571</td>\n",
              "      <td>0.164835</td>\n",
              "      <td>0.00</td>\n",
              "      <td>0.559140</td>\n",
              "      <td>0.0</td>\n",
              "      <td>0.602941</td>\n",
              "      <td>0.641791</td>\n",
              "      <td>1.0</td>\n",
              "      <td>0.531429</td>\n",
              "      <td>0.152542</td>\n",
              "      <td>0.333333</td>\n",
              "      <td>0.181818</td>\n",
              "    </tr>\n",
              "    <tr>\n",
              "      <th>2</th>\n",
              "      <td>1</td>\n",
              "      <td>0.505636</td>\n",
              "      <td>0.196981</td>\n",
              "      <td>0.742734</td>\n",
              "      <td>0.641791</td>\n",
              "      <td>0.567164</td>\n",
              "      <td>0.0</td>\n",
              "      <td>0.625806</td>\n",
              "      <td>0.444444</td>\n",
              "      <td>0.87</td>\n",
              "      <td>0.622642</td>\n",
              "      <td>0.619718</td>\n",
              "      <td>0.573770</td>\n",
              "      <td>0.628571</td>\n",
              "      <td>0.164835</td>\n",
              "      <td>0.00</td>\n",
              "      <td>0.559140</td>\n",
              "      <td>0.0</td>\n",
              "      <td>0.602941</td>\n",
              "      <td>0.641791</td>\n",
              "      <td>1.0</td>\n",
              "      <td>0.531429</td>\n",
              "      <td>0.152542</td>\n",
              "      <td>0.333333</td>\n",
              "      <td>0.181818</td>\n",
              "    </tr>\n",
              "    <tr>\n",
              "      <th>3</th>\n",
              "      <td>0</td>\n",
              "      <td>0.505636</td>\n",
              "      <td>0.196981</td>\n",
              "      <td>0.742734</td>\n",
              "      <td>0.611940</td>\n",
              "      <td>0.611940</td>\n",
              "      <td>0.0</td>\n",
              "      <td>0.619355</td>\n",
              "      <td>0.444444</td>\n",
              "      <td>0.76</td>\n",
              "      <td>0.698113</td>\n",
              "      <td>0.619718</td>\n",
              "      <td>0.590164</td>\n",
              "      <td>0.628571</td>\n",
              "      <td>0.285714</td>\n",
              "      <td>0.34</td>\n",
              "      <td>0.698925</td>\n",
              "      <td>0.0</td>\n",
              "      <td>0.705882</td>\n",
              "      <td>0.611940</td>\n",
              "      <td>1.0</td>\n",
              "      <td>0.274286</td>\n",
              "      <td>0.288136</td>\n",
              "      <td>0.333333</td>\n",
              "      <td>0.272727</td>\n",
              "    </tr>\n",
              "    <tr>\n",
              "      <th>4</th>\n",
              "      <td>1</td>\n",
              "      <td>0.505636</td>\n",
              "      <td>0.196981</td>\n",
              "      <td>0.742734</td>\n",
              "      <td>0.611940</td>\n",
              "      <td>0.611940</td>\n",
              "      <td>0.0</td>\n",
              "      <td>0.619355</td>\n",
              "      <td>0.444444</td>\n",
              "      <td>0.76</td>\n",
              "      <td>0.698113</td>\n",
              "      <td>0.619718</td>\n",
              "      <td>0.590164</td>\n",
              "      <td>0.628571</td>\n",
              "      <td>0.285714</td>\n",
              "      <td>0.34</td>\n",
              "      <td>0.698925</td>\n",
              "      <td>0.0</td>\n",
              "      <td>0.705882</td>\n",
              "      <td>0.611940</td>\n",
              "      <td>1.0</td>\n",
              "      <td>0.274286</td>\n",
              "      <td>0.288136</td>\n",
              "      <td>0.333333</td>\n",
              "      <td>0.272727</td>\n",
              "    </tr>\n",
              "  </tbody>\n",
              "</table>\n",
              "</div>"
            ],
            "text/plain": [
              "   cases  density_per_km  latitude  ...  windspeedKmph      year     month\n",
              "0      2        0.505636  0.196981  ...       0.152542  0.333333  0.181818\n",
              "1      0        0.505636  0.196981  ...       0.152542  0.333333  0.181818\n",
              "2      1        0.505636  0.196981  ...       0.152542  0.333333  0.181818\n",
              "3      0        0.505636  0.196981  ...       0.288136  0.333333  0.272727\n",
              "4      1        0.505636  0.196981  ...       0.288136  0.333333  0.272727\n",
              "\n",
              "[5 rows x 25 columns]"
            ]
          },
          "metadata": {},
          "execution_count": 99
        }
      ]
    },
    {
      "cell_type": "markdown",
      "metadata": {
        "id": "4_hPYV8Fq8hG"
      },
      "source": [
        "#Feature Selection"
      ]
    },
    {
      "cell_type": "code",
      "metadata": {
        "id": "rKxuAlveXPR0"
      },
      "source": [
        "X = data[['maxtempC', 'mintempC', 'windspeedKmph', 'year', 'month', 'density_per_km', 'precipMM', 'cloudcover',\n",
        "       'humidity','DewPointC', 'latitude', 'longitude','FeelsLikeC', 'winddirDegree', 'sunHour']]\n",
        "y = data['cases']"
      ],
      "execution_count": null,
      "outputs": []
    },
    {
      "cell_type": "code",
      "metadata": {
        "id": "UuUsFHx3XX5m"
      },
      "source": [
        "from sklearn.model_selection import train_test_split\n",
        "X_train,X_test,Y_train,Y_test = train_test_split(X,y,test_size=0.2,random_state=10)"
      ],
      "execution_count": null,
      "outputs": []
    },
    {
      "cell_type": "code",
      "metadata": {
        "colab": {
          "base_uri": "https://localhost:8080/"
        },
        "id": "Qvwyi1lAXYJu",
        "outputId": "fe2930ae-0fe6-457c-df51-113d1754a0f4"
      },
      "source": [
        "X_train.shape, Y_train.shape"
      ],
      "execution_count": null,
      "outputs": [
        {
          "output_type": "execute_result",
          "data": {
            "text/plain": [
              "((82436, 15), (82436,))"
            ]
          },
          "metadata": {},
          "execution_count": 102
        }
      ]
    },
    {
      "cell_type": "code",
      "metadata": {
        "colab": {
          "base_uri": "https://localhost:8080/"
        },
        "id": "tc86e9b1Xf3C",
        "outputId": "05fb91be-9419-4e11-9510-84f00508d121"
      },
      "source": [
        "X_test.shape, Y_test.shape"
      ],
      "execution_count": null,
      "outputs": [
        {
          "output_type": "execute_result",
          "data": {
            "text/plain": [
              "((20609, 15), (20609,))"
            ]
          },
          "metadata": {},
          "execution_count": 103
        }
      ]
    },
    {
      "cell_type": "markdown",
      "metadata": {
        "id": "U0Ng-o_QrGIV"
      },
      "source": [
        "#Linear Regression "
      ]
    },
    {
      "cell_type": "code",
      "metadata": {
        "id": "STyxOJYRXn1Z"
      },
      "source": [
        "from sklearn import linear_model\n",
        "from sklearn.metrics import mean_squared_error, r2_score"
      ],
      "execution_count": null,
      "outputs": []
    },
    {
      "cell_type": "code",
      "metadata": {
        "colab": {
          "base_uri": "https://localhost:8080/"
        },
        "id": "AvMg24TuXq_C",
        "outputId": "21a7d103-9cae-4747-b6c8-bc07537c668e"
      },
      "source": [
        "model = linear_model.LinearRegression()\n",
        "model.fit(X_train, Y_train)\n",
        "\n",
        "Y_pred = model.predict(X_test)\n",
        "\n",
        "\n",
        "print('Mean squared error (MSE): %.2f' % mean_squared_error(Y_test, Y_pred))\n",
        "print('Coefficient of determination (R^2): %.2f' % r2_score(Y_test, Y_pred))"
      ],
      "execution_count": null,
      "outputs": [
        {
          "output_type": "stream",
          "name": "stdout",
          "text": [
            "Mean squared error (MSE): 482209.83\n",
            "Coefficient of determination (R^2): 0.01\n"
          ]
        }
      ]
    },
    {
      "cell_type": "code",
      "metadata": {
        "colab": {
          "base_uri": "https://localhost:8080/",
          "height": 300
        },
        "id": "tD-iEYAerRf5",
        "outputId": "8114a3e1-d109-42fa-f795-5a35009534f9"
      },
      "source": [
        "# Visualising the Linear Regression results\n",
        "sns.scatterplot(x=Y_test, y=Y_pred)"
      ],
      "execution_count": null,
      "outputs": [
        {
          "output_type": "execute_result",
          "data": {
            "text/plain": [
              "<matplotlib.axes._subplots.AxesSubplot at 0x7fc96fa425d0>"
            ]
          },
          "metadata": {},
          "execution_count": 124
        },
        {
          "output_type": "display_data",
          "data": {
            "image/png": "[encoded data removed]",
            "text/plain": [
              "<Figure size 432x288 with 1 Axes>"
            ]
          },
          "metadata": {
            "needs_background": "light"
          }
        }
      ]
    },
    {
      "cell_type": "markdown",
      "metadata": {
        "id": "gvgnQMktvia9"
      },
      "source": [
        "#Lasso Regression"
      ]
    },
    {
      "cell_type": "code",
      "metadata": {
        "colab": {
          "base_uri": "https://localhost:8080/"
        },
        "id": "GykK4tABdoJr",
        "outputId": "0087fbdd-532e-4123-f74a-7a9693b1c6b8"
      },
      "source": [
        "from numpy import mean\n",
        "from numpy import std\n",
        "from numpy import absolute\n",
        "from sklearn.model_selection import cross_val_score\n",
        "from sklearn.model_selection import RepeatedKFold\n",
        "from sklearn.linear_model import Lasso\n",
        "\n",
        "# define model\n",
        "model = Lasso(alpha=1.0)\n",
        "# define model evaluation method\n",
        "cv = RepeatedKFold(n_splits=10, n_repeats=3, random_state=1)\n",
        "# evaluate model\n",
        "scores_mse = cross_val_score(model, X, y, scoring='neg_mean_squared_error', cv=cv, n_jobs=-1)\n",
        "scores_r2 = cross_val_score(model, X, y, scoring='r2', cv=cv, n_jobs=-1)\n",
        "# force scores to be positive\n",
        "scores_mse = absolute(scores_mse)\n",
        "print('Mean MSE: %.3f (%.3f)' % (mean(scores_mse), std(scores_mse)))\n",
        "print('Mean R2: %.3f (%.3f)' % (mean(scores_r2), std(scores_r2)))"
      ],
      "execution_count": null,
      "outputs": [
        {
          "output_type": "stream",
          "name": "stdout",
          "text": [
            "Mean MSE: 526699.455 (233498.049)\n",
            "Mean R2: 0.005 (0.001)\n"
          ]
        }
      ]
    },
    {
      "cell_type": "code",
      "metadata": {
        "colab": {
          "base_uri": "https://localhost:8080/"
        },
        "id": "qyCLL7h6iy-E",
        "outputId": "f814833b-959f-4da6-c824-786b3b32df1b"
      },
      "source": [
        "# model = linear_model.Lasso()\n",
        "# model.fit(X_train, Y_train)\n",
        "\n",
        "# Y_pred = model.predict(X_test)\n",
        "\n",
        "# print('Mean squared error (MSE): %.2f' % mean_squared_error(Y_test, Y_pred))\n",
        "# print('Coefficient of determination (R^2): %.2f' % r2_score(Y_test, Y_pred))"
      ],
      "execution_count": null,
      "outputs": [
        {
          "output_type": "stream",
          "name": "stdout",
          "text": [
            "Mean squared error (MSE): 482941.49\n",
            "Coefficient of determination (R^2): 0.01\n"
          ]
        }
      ]
    },
    {
      "cell_type": "markdown",
      "metadata": {
        "id": "c_GOG2TJvq6F"
      },
      "source": [
        "#Ridge Regression"
      ]
    },
    {
      "cell_type": "code",
      "metadata": {
        "colab": {
          "base_uri": "https://localhost:8080/"
        },
        "id": "TQrid9nbjZqj",
        "outputId": "7bc7ba0d-2562-4321-c9c8-b1f176f77094"
      },
      "source": [
        "from sklearn.linear_model import Ridge\n",
        "from sklearn.model_selection import cross_val_score\n",
        "from sklearn.model_selection import RepeatedKFold\n",
        "from numpy import mean\n",
        "from numpy import std\n",
        "from numpy import absolute\n",
        "\n",
        "model = Ridge(alpha=1.0)\n",
        "cv = RepeatedKFold(n_splits=10, n_repeats=3, random_state=1)\n",
        "scores_mse = cross_val_score(model, X, y, scoring='neg_mean_squared_error', cv=cv, n_jobs=-1)\n",
        "scores_r2 = cross_val_score(model, X, y, scoring='r2', cv=cv, n_jobs=-1)\n",
        "# force scores to be positive\n",
        "scores_mse = absolute(scores_mse)\n",
        "print('Mean MSE: %.3f (%.3f)' % (mean(scores_mse), std(scores_mse)))\n",
        "print('Mean R2: %.3f (%.3f)' % (mean(scores_r2), std(scores_r2)))"
      ],
      "execution_count": null,
      "outputs": [
        {
          "output_type": "stream",
          "name": "stdout",
          "text": [
            "Mean MSE: 525815.597 (232546.139)\n",
            "Mean R2: 0.007 (0.002)\n"
          ]
        }
      ]
    },
    {
      "cell_type": "code",
      "metadata": {
        "id": "FZezRsfLlP2p"
      },
      "source": [
        ""
      ],
      "execution_count": null,
      "outputs": []
    }
  ]
}