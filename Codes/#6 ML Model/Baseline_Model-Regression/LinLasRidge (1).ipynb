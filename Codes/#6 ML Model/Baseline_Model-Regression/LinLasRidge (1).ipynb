{
  "nbformat": 4,
  "nbformat_minor": 0,
  "metadata": {
    "colab": {
      "name": "LinLasRidge.ipynb",
      "provenance": [],
      "collapsed_sections": []
    },
    "kernelspec": {
      "display_name": "Python 3",
      "name": "python3"
    },
    "language_info": {
      "name": "python"
    }
  },
  "cells": [
    {
      "cell_type": "code",
      "metadata": {
        "id": "YwMd8SE2MqKu"
      },
      "source": [
        "import pandas as pd\n",
        "import numpy as np"
      ],
      "execution_count": null,
      "outputs": []
    },
    {
      "cell_type": "code",
      "metadata": {
        "colab": {
          "base_uri": "https://localhost:8080/",
          "height": 224
        },
        "id": "GJRgwMc6M6vb",
        "outputId": "b77898f7-51a9-47b9-f634-1f14b44fce4b"
      },
      "source": [
        "data = pd.read_csv('regression_dataset.csv')\n",
        "data.head()"
      ],
      "execution_count": null,
      "outputs": [
        {
          "data": {
            "text/html": [
              "<div>\n",
              "<style scoped>\n",
              "    .dataframe tbody tr th:only-of-type {\n",
              "        vertical-align: middle;\n",
              "    }\n",
              "\n",
              "    .dataframe tbody tr th {\n",
              "        vertical-align: top;\n",
              "    }\n",
              "\n",
              "    .dataframe thead th {\n",
              "        text-align: right;\n",
              "    }\n",
              "</style>\n",
              "<table border=\"1\" class=\"dataframe\">\n",
              "  <thead>\n",
              "    <tr style=\"text-align: right;\">\n",
              "      <th></th>\n",
              "      <th>cases</th>\n",
              "      <th>latitude</th>\n",
              "      <th>longitude</th>\n",
              "      <th>maxtempC</th>\n",
              "      <th>mintempC</th>\n",
              "      <th>totalSnow_cm</th>\n",
              "      <th>sunHour</th>\n",
              "      <th>uvIndex</th>\n",
              "      <th>moon_illumination</th>\n",
              "      <th>DewPointC</th>\n",
              "      <th>FeelsLikeC</th>\n",
              "      <th>HeatIndexC</th>\n",
              "      <th>WindChillC</th>\n",
              "      <th>WindGustKmph</th>\n",
              "      <th>cloudcover</th>\n",
              "      <th>humidity</th>\n",
              "      <th>pressure</th>\n",
              "      <th>tempC</th>\n",
              "      <th>visibility</th>\n",
              "      <th>winddirDegree</th>\n",
              "      <th>windspeedKmph</th>\n",
              "      <th>year</th>\n",
              "      <th>month</th>\n",
              "      <th>density_per_km</th>\n",
              "      <th>precipMM</th>\n",
              "    </tr>\n",
              "  </thead>\n",
              "  <tbody>\n",
              "    <tr>\n",
              "      <th>0</th>\n",
              "      <td>2</td>\n",
              "      <td>-34.603684</td>\n",
              "      <td>-58.381559</td>\n",
              "      <td>24</td>\n",
              "      <td>7</td>\n",
              "      <td>0.0</td>\n",
              "      <td>11.6</td>\n",
              "      <td>5</td>\n",
              "      <td>87</td>\n",
              "      <td>6</td>\n",
              "      <td>14</td>\n",
              "      <td>15</td>\n",
              "      <td>14</td>\n",
              "      <td>16</td>\n",
              "      <td>0</td>\n",
              "      <td>59</td>\n",
              "      <td>1018</td>\n",
              "      <td>24</td>\n",
              "      <td>10</td>\n",
              "      <td>189</td>\n",
              "      <td>10</td>\n",
              "      <td>2016</td>\n",
              "      <td>3</td>\n",
              "      <td>0.505636</td>\n",
              "      <td>0.0</td>\n",
              "    </tr>\n",
              "    <tr>\n",
              "      <th>1</th>\n",
              "      <td>0</td>\n",
              "      <td>-34.603684</td>\n",
              "      <td>-58.381559</td>\n",
              "      <td>24</td>\n",
              "      <td>7</td>\n",
              "      <td>0.0</td>\n",
              "      <td>11.6</td>\n",
              "      <td>5</td>\n",
              "      <td>87</td>\n",
              "      <td>6</td>\n",
              "      <td>14</td>\n",
              "      <td>15</td>\n",
              "      <td>14</td>\n",
              "      <td>16</td>\n",
              "      <td>0</td>\n",
              "      <td>59</td>\n",
              "      <td>1018</td>\n",
              "      <td>24</td>\n",
              "      <td>10</td>\n",
              "      <td>189</td>\n",
              "      <td>10</td>\n",
              "      <td>2016</td>\n",
              "      <td>3</td>\n",
              "      <td>0.505636</td>\n",
              "      <td>0.0</td>\n",
              "    </tr>\n",
              "    <tr>\n",
              "      <th>2</th>\n",
              "      <td>1</td>\n",
              "      <td>-34.603684</td>\n",
              "      <td>-58.381559</td>\n",
              "      <td>24</td>\n",
              "      <td>7</td>\n",
              "      <td>0.0</td>\n",
              "      <td>11.6</td>\n",
              "      <td>5</td>\n",
              "      <td>87</td>\n",
              "      <td>6</td>\n",
              "      <td>14</td>\n",
              "      <td>15</td>\n",
              "      <td>14</td>\n",
              "      <td>16</td>\n",
              "      <td>0</td>\n",
              "      <td>59</td>\n",
              "      <td>1018</td>\n",
              "      <td>24</td>\n",
              "      <td>10</td>\n",
              "      <td>189</td>\n",
              "      <td>10</td>\n",
              "      <td>2016</td>\n",
              "      <td>3</td>\n",
              "      <td>0.505636</td>\n",
              "      <td>0.0</td>\n",
              "    </tr>\n",
              "    <tr>\n",
              "      <th>3</th>\n",
              "      <td>0</td>\n",
              "      <td>-34.603684</td>\n",
              "      <td>-58.381559</td>\n",
              "      <td>22</td>\n",
              "      <td>10</td>\n",
              "      <td>0.0</td>\n",
              "      <td>11.5</td>\n",
              "      <td>5</td>\n",
              "      <td>76</td>\n",
              "      <td>10</td>\n",
              "      <td>14</td>\n",
              "      <td>16</td>\n",
              "      <td>14</td>\n",
              "      <td>27</td>\n",
              "      <td>34</td>\n",
              "      <td>72</td>\n",
              "      <td>1025</td>\n",
              "      <td>22</td>\n",
              "      <td>10</td>\n",
              "      <td>99</td>\n",
              "      <td>18</td>\n",
              "      <td>2016</td>\n",
              "      <td>4</td>\n",
              "      <td>0.505636</td>\n",
              "      <td>0.0</td>\n",
              "    </tr>\n",
              "    <tr>\n",
              "      <th>4</th>\n",
              "      <td>1</td>\n",
              "      <td>-34.603684</td>\n",
              "      <td>-58.381559</td>\n",
              "      <td>22</td>\n",
              "      <td>10</td>\n",
              "      <td>0.0</td>\n",
              "      <td>11.5</td>\n",
              "      <td>5</td>\n",
              "      <td>76</td>\n",
              "      <td>10</td>\n",
              "      <td>14</td>\n",
              "      <td>16</td>\n",
              "      <td>14</td>\n",
              "      <td>27</td>\n",
              "      <td>34</td>\n",
              "      <td>72</td>\n",
              "      <td>1025</td>\n",
              "      <td>22</td>\n",
              "      <td>10</td>\n",
              "      <td>99</td>\n",
              "      <td>18</td>\n",
              "      <td>2016</td>\n",
              "      <td>4</td>\n",
              "      <td>0.505636</td>\n",
              "      <td>0.0</td>\n",
              "    </tr>\n",
              "  </tbody>\n",
              "</table>\n",
              "</div>"
            ],
            "text/plain": [
              "   cases   latitude  longitude  maxtempC  ...  year  month  density_per_km  precipMM\n",
              "0      2 -34.603684 -58.381559        24  ...  2016      3        0.505636       0.0\n",
              "1      0 -34.603684 -58.381559        24  ...  2016      3        0.505636       0.0\n",
              "2      1 -34.603684 -58.381559        24  ...  2016      3        0.505636       0.0\n",
              "3      0 -34.603684 -58.381559        22  ...  2016      4        0.505636       0.0\n",
              "4      1 -34.603684 -58.381559        22  ...  2016      4        0.505636       0.0\n",
              "\n",
              "[5 rows x 25 columns]"
            ]
          },
          "execution_count": 2,
          "metadata": {},
          "output_type": "execute_result"
        }
      ]
    },
    {
      "cell_type": "code",
      "metadata": {
        "id": "J7gxwar5NDws"
      },
      "source": [
        "#feature selection\n",
        "X = data[['maxtempC', 'mintempC', 'windspeedKmph', 'year', 'month', 'density_per_km', 'precipMM', 'cloudcover',\n",
        "       'humidity','DewPointC', 'latitude', 'longitude','FeelsLikeC', 'winddirDegree', 'sunHour']]\n",
        "y = data['cases']"
      ],
      "execution_count": null,
      "outputs": []
    },
    {
      "cell_type": "code",
      "metadata": {
        "id": "RV_vkAJ8NZp3"
      },
      "source": [
        "from sklearn.model_selection import train_test_split\n",
        "X_train,X_test,y_train,y_test = train_test_split(X,y,test_size=0.2,random_state=10)"
      ],
      "execution_count": null,
      "outputs": []
    },
    {
      "cell_type": "code",
      "metadata": {
        "id": "6UAeMeJeOcJg"
      },
      "source": [
        "#import essential libraries\n",
        "from sklearn.model_selection import cross_val_score\n",
        "from sklearn.linear_model import LinearRegression\n",
        "from sklearn.linear_model import Lasso\n",
        "from sklearn.linear_model import Ridge\n",
        "import matplotlib.pyplot as plt\n",
        "from sklearn.model_selection import GridSearchCV\n",
        "np.set_printoptions(suppress=True)"
      ],
      "execution_count": null,
      "outputs": []
    },
    {
      "cell_type": "code",
      "metadata": {
        "id": "bdM8bMdcOsHd"
      },
      "source": [
        "#empty array for storing the training and testing scores\n",
        "Training_Accuracy_Before = []\n",
        "Testing_Accuracy_Before = []\n",
        "Training_Accuracy_After = []\n",
        "Testing_Accuracy_After = []\n",
        "Models = ['Linear Regression', 'Lasso Regression', 'Ridge Regression']"
      ],
      "execution_count": null,
      "outputs": []
    },
    {
      "cell_type": "markdown",
      "metadata": {
        "id": "MZFuMBfud9S3"
      },
      "source": [
        "#Basic models"
      ]
    },
    {
      "cell_type": "code",
      "metadata": {
        "colab": {
          "base_uri": "https://localhost:8080/"
        },
        "id": "SPmk97EwOzN7",
        "outputId": "214695ca-d4d2-4c9c-e20f-cfa2e86785b7"
      },
      "source": [
        "logreg = LinearRegression()\n",
        "logreg.fit(X_train, y_train)\n",
        "\n",
        "train_score = logreg.score(X_train, y_train)\n",
        "print(train_score)\n",
        "test_score = logreg.score(X_test, y_test)\n",
        "print(test_score)\n",
        "\n",
        "Training_Accuracy_Before.append(train_score)\n",
        "Testing_Accuracy_Before.append(test_score)"
      ],
      "execution_count": null,
      "outputs": [
        {
          "name": "stdout",
          "output_type": "stream",
          "text": [
            "0.007808784228439558\n",
            "0.006736076941831759\n"
          ]
        }
      ]
    },
    {
      "cell_type": "code",
      "metadata": {
        "colab": {
          "base_uri": "https://localhost:8080/"
        },
        "id": "CTu-kBQzPC67",
        "outputId": "409bb313-2161-4c4e-8664-6be22282b8ff"
      },
      "source": [
        "# Checking for alpha from .0001 to 1 and finding the best value for alpha\n",
        "alpha_space = np.logspace(-4, 0, 30)   \n",
        "alpha_space"
      ],
      "execution_count": null,
      "outputs": [
        {
          "data": {
            "text/plain": [
              "array([0.0001    , 0.00013738, 0.00018874, 0.00025929, 0.00035622,\n",
              "       0.00048939, 0.00067234, 0.00092367, 0.00126896, 0.00174333,\n",
              "       0.00239503, 0.00329034, 0.00452035, 0.00621017, 0.00853168,\n",
              "       0.01172102, 0.01610262, 0.02212216, 0.03039195, 0.04175319,\n",
              "       0.05736153, 0.07880463, 0.10826367, 0.14873521, 0.20433597,\n",
              "       0.28072162, 0.38566204, 0.52983169, 0.72789538, 1.        ])"
            ]
          },
          "execution_count": 8,
          "metadata": {},
          "output_type": "execute_result"
        }
      ]
    },
    {
      "cell_type": "code",
      "metadata": {
        "id": "7RcEkamvPJ5d"
      },
      "source": [
        "#storing the ridge scores for each of the alpha values\n",
        "ridge_scores = []\n",
        "ridge = Ridge(normalize = True)\n",
        "for alpha in alpha_space:\n",
        "    ridge.alpha = alpha\n",
        "    val = np.mean(cross_val_score(ridge, X, y, cv = 10))\n",
        "    ridge_scores.append(val)"
      ],
      "execution_count": null,
      "outputs": []
    },
    {
      "cell_type": "code",
      "metadata": {
        "id": "X2270PfCPOmt"
      },
      "source": [
        "#storing the lasso scores for each of the alpha values\n",
        "lasso_scores = []\n",
        "lasso = Lasso(normalize = True)\n",
        "for alpha in alpha_space:\n",
        "    lasso.alpha = alpha\n",
        "    val = np.mean(cross_val_score(lasso, X, y, cv = 10))\n",
        "    lasso_scores.append(val)"
      ],
      "execution_count": null,
      "outputs": []
    },
    {
      "cell_type": "code",
      "metadata": {
        "colab": {
          "base_uri": "https://localhost:8080/",
          "height": 483
        },
        "id": "vvmPq0omPT5d",
        "outputId": "fa32bede-0e7e-427c-b7a1-c0f5e14aad1c"
      },
      "source": [
        "#checking the trend of scores with alpha values\n",
        "plt.figure(figsize=(8, 8))\n",
        "plt.plot(alpha_space, ridge_scores, marker = 'D', label = \"Ridge\")\n",
        "plt.plot(alpha_space, lasso_scores, marker = 'D', label = \"Lasso\")\n",
        "plt.legend()\n",
        "plt.show()"
      ],
      "execution_count": null,
      "outputs": [
        {
          "data": {
            "image/png": "[encoded data removed]",
            "text/plain": [
              "<Figure size 576x576 with 1 Axes>"
            ]
          },
          "metadata": {},
          "output_type": "display_data"
        }
      ]
    },
    {
      "cell_type": "markdown",
      "metadata": {
        "id": "GDppQ9oNe58u"
      },
      "source": [
        "From the chart we can see that, scores increases with increase in alpha value."
      ]
    },
    {
      "cell_type": "markdown",
      "metadata": {
        "id": "bGUH2bBIfKCt"
      },
      "source": [
        "#Hypertuning Lasso and Ridge models"
      ]
    },
    {
      "cell_type": "markdown",
      "metadata": {
        "id": "1iepD2MOfX_S"
      },
      "source": [
        "###Lasso"
      ]
    },
    {
      "cell_type": "code",
      "metadata": {
        "colab": {
          "background_save": true
        },
        "id": "nx0icow4PjoY",
        "outputId": "93e0cb48-0788-4e54-d956-24eaa4ecb167"
      },
      "source": [
        "# Performing GridSearchCV with Cross Validation technique on Lasso Regression and finding the optimum value of alpha\n",
        "\n",
        "params = {'alpha': (np.logspace(-8, 8, 100))} # It will check from 1e-08 to 1e+08\n",
        "lasso = Lasso(normalize=True)\n",
        "lasso_model = GridSearchCV(lasso, params, cv = 10)\n",
        "lasso_model.fit(X_train, y_train)\n",
        "print(lasso_model.best_params_)\n",
        "print(lasso_model.best_score_)"
      ],
      "execution_count": null,
      "outputs": [
        {
          "name": "stdout",
          "output_type": "stream",
          "text": [
            "{'alpha': 0.013848863713938746}\n",
            "0.005827436440729606\n"
          ]
        }
      ]
    },
    {
      "cell_type": "code",
      "metadata": {
        "colab": {
          "background_save": true
        },
        "id": "h5FkhYEKPzNO",
        "outputId": "ce544fbb-5e3f-4477-9a4a-420b9f5de296"
      },
      "source": [
        "# Using value of alpha as 0.013848863713938746 to get best accuracy for Lasso Regression\n",
        "lasso = Lasso(alpha = 0.013848863713938746, normalize = True)\n",
        "lasso.fit(X_train, y_train)\n",
        "\n",
        "train_score = lasso.score(X_train, y_train)\n",
        "print(train_score)\n",
        "test_score = lasso.score(X_test, y_test)\n",
        "print(test_score)\n",
        "\n",
        "Training_Accuracy_Before.append(train_score)\n",
        "Testing_Accuracy_Before.append(test_score)\n"
      ],
      "execution_count": null,
      "outputs": [
        {
          "name": "stdout",
          "output_type": "stream",
          "text": [
            "0.007165783343863752\n",
            "0.006093679895370241\n"
          ]
        }
      ]
    },
    {
      "cell_type": "markdown",
      "metadata": {
        "id": "D7hLlcIgfnz9"
      },
      "source": [
        "###Ridge"
      ]
    },
    {
      "cell_type": "code",
      "metadata": {
        "colab": {
          "background_save": true
        },
        "id": "rfFq1zZvRyg9",
        "outputId": "5d8989bc-08e7-4b51-c9b6-3f9834826335"
      },
      "source": [
        "# Performing GridSearchCV with Cross Validation technique on Ridge Regression and finding the optimum value of alpha\n",
        "\n",
        "params = {'alpha': (np.logspace(-8, 8, 100))} # It will check from 1e-08 to 1e+08\n",
        "ridge = Ridge(normalize=True)\n",
        "ridge_model = GridSearchCV(ridge, params, cv = 10)\n",
        "ridge_model.fit(X_train, y_train)\n",
        "print(ridge_model.best_params_)\n",
        "print(ridge_model.best_score_)"
      ],
      "execution_count": null,
      "outputs": [
        {
          "name": "stdout",
          "output_type": "stream",
          "text": [
            "{'alpha': 0.27185882427329455}\n",
            "0.006153743556846947\n"
          ]
        }
      ]
    },
    {
      "cell_type": "code",
      "metadata": {
        "colab": {
          "background_save": true
        },
        "id": "f0Lz8yyzSAy5",
        "outputId": "005f47db-0d71-417a-c0a5-d3d60347f7b1"
      },
      "source": [
        "# Using value of alpha as 0.27185882427329455 to get best accuracy for Ridge Regression\n",
        "ridge = Ridge(alpha = 0.27185882427329455, normalize = True)\n",
        "ridge.fit(X_train, y_train)\n",
        "\n",
        "train_score = ridge.score(X_train, y_train)\n",
        "print(train_score)\n",
        "test_score = ridge.score(X_test, y_test)\n",
        "print(test_score)\n",
        "\n",
        "Training_Accuracy_Before.append(train_score)\n",
        "Testing_Accuracy_Before.append(test_score)"
      ],
      "execution_count": null,
      "outputs": [
        {
          "name": "stdout",
          "output_type": "stream",
          "text": [
            "0.0069999170400697475\n",
            "0.006256087608942695\n"
          ]
        }
      ]
    },
    {
      "cell_type": "markdown",
      "metadata": {
        "id": "UwkEw5ZhfwYM"
      },
      "source": [
        "###Checking for best features"
      ]
    },
    {
      "cell_type": "code",
      "metadata": {
        "colab": {
          "background_save": true
        },
        "id": "JkHUHdEESWN9",
        "outputId": "2c0fab17-f4bb-484b-df62-6497eef2a0fe"
      },
      "source": [
        "coefficients = lasso.coef_\n",
        "coefficients"
      ],
      "execution_count": null,
      "outputs": [
        {
          "data": {
            "text/plain": [
              "array([ 0.        ,  1.12426025,  5.32508453,  1.39240069,  1.83468587,\n",
              "       86.94760741, -0.        ,  0.        , -0.92882601,  0.        ,\n",
              "        0.95276589,  4.75693983,  0.        ,  0.03862058, -7.16348937])"
            ]
          },
          "execution_count": null,
          "metadata": {},
          "output_type": "execute_result"
        }
      ]
    },
    {
      "cell_type": "code",
      "metadata": {
        "colab": {
          "background_save": true
        },
        "id": "WPxNycBQSb53",
        "outputId": "d7f7e9e2-fcb8-413d-f1ea-14d3f1dc87fd"
      },
      "source": [
        "plt.figure(figsize = (10, 6))\n",
        "plt.plot(range(len(X_train.columns)), coefficients)\n",
        "plt.xticks(range(len(X_train.columns)), X_train.columns.values, rotation = 90)\n",
        "plt.show()"
      ],
      "execution_count": null,
      "outputs": [
        {
          "data": {
            "image/png": "[encoded data removed]",
            "text/plain": [
              "<Figure size 720x432 with 1 Axes>"
            ]
          },
          "metadata": {},
          "output_type": "display_data"
        }
      ]
    },
    {
      "cell_type": "code",
      "metadata": {
        "colab": {
          "background_save": true
        },
        "id": "uPlW8H23SiaI",
        "outputId": "f00150b0-9cb6-41ff-e685-8d5eb904dfd0"
      },
      "source": [
        "X_train.columns"
      ],
      "execution_count": null,
      "outputs": [
        {
          "data": {
            "text/plain": [
              "Index(['maxtempC', 'mintempC', 'windspeedKmph', 'year', 'month',\n",
              "       'density_per_km', 'precipMM', 'cloudcover', 'humidity', 'DewPointC',\n",
              "       'latitude', 'longitude', 'FeelsLikeC', 'winddirDegree', 'sunHour'],\n",
              "      dtype='object')"
            ]
          },
          "execution_count": null,
          "metadata": {},
          "output_type": "execute_result"
        }
      ]
    },
    {
      "cell_type": "markdown",
      "metadata": {
        "id": "QEm3eXd-gG8s"
      },
      "source": [
        "###Training the models with updated features"
      ]
    },
    {
      "cell_type": "code",
      "metadata": {
        "colab": {
          "background_save": true
        },
        "id": "hvkaHnhGTXQW"
      },
      "source": [
        "#Removing the features whose coefficient values are 0.\n",
        "X_mod = data[['mintempC', 'windspeedKmph', 'year', 'month', 'density_per_km', 'humidity', 'latitude', 'longitude', 'winddirDegree', 'sunHour']]\n",
        "y_mod = data.cases"
      ],
      "execution_count": null,
      "outputs": []
    },
    {
      "cell_type": "code",
      "metadata": {
        "colab": {
          "background_save": true
        },
        "id": "G2Es61JRTucB"
      },
      "source": [
        "Xmod_train, Xmod_test, ymod_train, ymod_test = train_test_split(X_mod, y_mod, test_size = 0.2, random_state = 10)"
      ],
      "execution_count": null,
      "outputs": []
    },
    {
      "cell_type": "code",
      "metadata": {
        "colab": {
          "background_save": true
        },
        "id": "xAU80dfPT0xt",
        "outputId": "d622dac4-a808-439b-cc9d-56845f010c01"
      },
      "source": [
        "#Linear Regression\n",
        "logregmod = LinearRegression()\n",
        "logregmod.fit(Xmod_train, ymod_train)\n",
        "\n",
        "train_score1 = logregmod.score(Xmod_train, ymod_train)\n",
        "print(train_score1)\n",
        "test_score1 = logregmod.score(Xmod_test, ymod_test)\n",
        "print(test_score1)\n",
        "\n",
        "Training_Accuracy_After.append(train_score1)\n",
        "Testing_Accuracy_After.append(test_score1)"
      ],
      "execution_count": null,
      "outputs": [
        {
          "name": "stdout",
          "output_type": "stream",
          "text": [
            "0.007628321459259735\n",
            "0.006271652590478349\n"
          ]
        }
      ]
    },
    {
      "cell_type": "code",
      "metadata": {
        "colab": {
          "background_save": true
        },
        "id": "gCaFwg23T4x5",
        "outputId": "414aba7c-f476-499b-f820-9272918cdcda"
      },
      "source": [
        "# Performing GridSearchCV with Cross Validation technique on Lasso Regression and finding the optimum value of alpha\n",
        "\n",
        "paramss = {'alpha': (np.logspace(-8, 8, 100))} # It will check from 1e-08 to 1e+08\n",
        "lassomod = Lasso(normalize=True)\n",
        "lassomod_model = GridSearchCV(lassomod, paramss, cv = 10)\n",
        "lassomod_model.fit(Xmod_train, ymod_train)\n",
        "print(lasso_model.best_params_)\n",
        "print(lasso_model.best_score_)"
      ],
      "execution_count": null,
      "outputs": [
        {
          "name": "stdout",
          "output_type": "stream",
          "text": [
            "{'alpha': 0.013848863713938746}\n",
            "0.005827436440729606\n"
          ]
        }
      ]
    },
    {
      "cell_type": "code",
      "metadata": {
        "colab": {
          "background_save": true
        },
        "id": "Chkz4mlMUGoa",
        "outputId": "487c9007-c584-46bd-f426-42395f8211f2"
      },
      "source": [
        "# Using value of alpha as  0.009545484566618348 to get best accuracy for Lasso Regression\n",
        "lassomod = Lasso(alpha = 0.009545484566618348, normalize = True)\n",
        "lassomod.fit(Xmod_train, ymod_train)\n",
        "\n",
        "train_score2 = lassomod.score(Xmod_train, ymod_train)\n",
        "print(train_score2)\n",
        "test_score2 = lassomod.score(Xmod_test, ymod_test)\n",
        "print(test_score2)\n",
        "\n",
        "Training_Accuracy_After.append(train_score2)\n",
        "Testing_Accuracy_After.append(test_score2)"
      ],
      "execution_count": null,
      "outputs": [
        {
          "name": "stdout",
          "output_type": "stream",
          "text": [
            "0.007408585175250782\n",
            "0.006259451388210824\n"
          ]
        }
      ]
    },
    {
      "cell_type": "code",
      "metadata": {
        "colab": {
          "background_save": true
        },
        "id": "ySownUrqUJgI",
        "outputId": "3eea301f-0cbc-42d2-db31-6d4c0e444fdb"
      },
      "source": [
        "# Performing GridSearchCV with Cross Validation technique on Ridge Regression and finding the optimum value of alpha\n",
        "\n",
        "params = {'alpha': (np.logspace(-8, 8, 100))} # It will check from 1e-08 to 1e+08\n",
        "ridgemod = Ridge(normalize=True)\n",
        "ridgemod_model = GridSearchCV(ridgemod, params, cv = 10)\n",
        "ridgemod_model.fit(Xmod_train, ymod_train)\n",
        "print(ridge_model.best_params_)\n",
        "print(ridge_model.best_score_)"
      ],
      "execution_count": null,
      "outputs": [
        {
          "name": "stdout",
          "output_type": "stream",
          "text": [
            "{'alpha': 0.27185882427329455}\n",
            "0.006153743556846947\n"
          ]
        }
      ]
    },
    {
      "cell_type": "code",
      "metadata": {
        "colab": {
          "background_save": true
        },
        "id": "FuqtcfDkVG0B",
        "outputId": "e53aea1e-004f-46dd-8b47-35f4872af37b"
      },
      "source": [
        "# Using value of alpha as 0 0.2718588242732945 to get best accuracy for Ridge Regression\n",
        "ridgemod = Ridge(alpha =  0.2718588242732945, normalize = True)\n",
        "ridgemod.fit(Xmod_train, ymod_train)\n",
        "\n",
        "train_score3 = ridgemod.score(Xmod_train, ymod_train)\n",
        "print(train_score3)\n",
        "test_score3 = ridgemod.score(Xmod_test, ymod_test)\n",
        "print(test_score3)\n",
        "\n",
        "Training_Accuracy_After.append(train_score3)\n",
        "Testing_Accuracy_After.append(test_score3)"
      ],
      "execution_count": null,
      "outputs": [
        {
          "name": "stdout",
          "output_type": "stream",
          "text": [
            "0.006993581044568931\n",
            "0.006203816356250003\n"
          ]
        }
      ]
    },
    {
      "cell_type": "code",
      "metadata": {
        "colab": {
          "background_save": true
        },
        "id": "1WxotnbOWHE7",
        "outputId": "7f93fd01-08c9-4c2c-cb4f-cbb35195c44e"
      },
      "source": [
        "plt.plot(Training_Accuracy_Before, label = 'Training_Accuracy_Before')\n",
        "plt.plot(Training_Accuracy_After, label = 'Training_Accuracy_After')\n",
        "plt.xticks(range(len(Models)), Models, Rotation = 45)\n",
        "plt.title('Training Accuracy Behaviour')\n",
        "plt.legend()\n",
        "plt.show()"
      ],
      "execution_count": null,
      "outputs": [
        {
          "data": {
            "image/png": "[encoded data removed]",
            "text/plain": [
              "<Figure size 432x288 with 1 Axes>"
            ]
          },
          "metadata": {},
          "output_type": "display_data"
        }
      ]
    },
    {
      "cell_type": "code",
      "metadata": {
        "colab": {
          "background_save": true
        },
        "id": "UHoK0vqLWJ2t",
        "outputId": "af87be06-39b9-4bbe-9d45-24bc98d7e226"
      },
      "source": [
        "plt.plot(Testing_Accuracy_Before, label = 'Testing_Accuracy_Before')\n",
        "plt.plot(Testing_Accuracy_After, label = 'Testing_Accuracy_After')\n",
        "plt.xticks(range(len(Models)), Models, Rotation = 45)\n",
        "plt.title('Testing Accuracy Behaviour')\n",
        "plt.legend()\n",
        "plt.show()"
      ],
      "execution_count": null,
      "outputs": [
        {
          "data": {
            "image/png": "[encoded data removed]",
            "text/plain": [
              "<Figure size 432x288 with 1 Axes>"
            ]
          },
          "metadata": {},
          "output_type": "display_data"
        }
      ]
    },
    {
      "cell_type": "markdown",
      "metadata": {
        "id": "CrFsGI4ggzYF"
      },
      "source": [
        "###MSE of test dataset"
      ]
    },
    {
      "cell_type": "markdown",
      "metadata": {
        "id": "fVNGKmidg8g8"
      },
      "source": [
        "####Before"
      ]
    },
    {
      "cell_type": "code",
      "metadata": {
        "colab": {
          "background_save": true
        },
        "id": "miCa7qh8m7MS",
        "outputId": "afcef6ac-f965-4852-bcc9-dd4ff15a7c58"
      },
      "source": [
        "X_train.shape, X_test.shape"
      ],
      "execution_count": null,
      "outputs": [
        {
          "data": {
            "text/plain": [
              "((82436, 15), (20609, 15))"
            ]
          },
          "execution_count": null,
          "metadata": {},
          "output_type": "execute_result"
        }
      ]
    },
    {
      "cell_type": "code",
      "metadata": {
        "colab": {
          "background_save": true
        },
        "id": "2-t6dt-HZfrE"
      },
      "source": [
        "pred_lin = logreg.predict(X_test)\n",
        "pred_lasso = lasso.predict(X_test)\n",
        "pred_ridge = ridge.predict(X_test)"
      ],
      "execution_count": null,
      "outputs": []
    },
    {
      "cell_type": "code",
      "metadata": {
        "colab": {
          "background_save": true
        },
        "id": "ClPeiCwTXIPe",
        "outputId": "e6ec745f-bef3-4d33-ea5d-b80a03c03f95"
      },
      "source": [
        "from sklearn.metrics import mean_squared_error\n",
        "\n",
        "mse_lin = mean_squared_error(y_test, pred_lin)\n",
        "mse_lasso = mean_squared_error(y_test, pred_lasso)\n",
        "mse_ridge = mean_squared_error(y_test, pred_ridge)\n",
        "\n",
        "print('Linear:', mse_lin)\n",
        "print('Lasso:', mse_lasso)\n",
        "print('Ridge:', mse_ridge)"
      ],
      "execution_count": null,
      "outputs": [
        {
          "name": "stdout",
          "output_type": "stream",
          "text": [
            "Linear: 482209.82664447534\n",
            "Lasso: 482521.6975996364\n",
            "Ridge: 482442.85189348576\n"
          ]
        }
      ]
    },
    {
      "cell_type": "markdown",
      "metadata": {
        "id": "8k7TkUychD4J"
      },
      "source": [
        "####After"
      ]
    },
    {
      "cell_type": "code",
      "metadata": {
        "colab": {
          "background_save": true
        },
        "id": "6uSJfZ0NbfCg"
      },
      "source": [
        "pred_linmod = logregmod.predict(Xmod_test)\n",
        "pred_lassomod = lassomod.predict(Xmod_test)\n",
        "pred_ridgemod = ridgemod.predict(Xmod_test)"
      ],
      "execution_count": null,
      "outputs": []
    },
    {
      "cell_type": "code",
      "metadata": {
        "colab": {
          "background_save": true
        },
        "id": "2PZMTRSjblUW",
        "outputId": "9662726c-9292-49b5-f408-688e5c03bee6"
      },
      "source": [
        "from sklearn.metrics import mean_squared_error\n",
        "\n",
        "mse_linmod = mean_squared_error(ymod_test, pred_linmod)\n",
        "mse_lassomod = mean_squared_error(ymod_test, pred_lassomod)\n",
        "mse_ridgemod = mean_squared_error(ymod_test, pred_ridgemod)\n",
        "\n",
        "print('Linear:', mse_linmod)\n",
        "print('Lasso:', mse_lassomod)\n",
        "print('Ridge:', mse_ridgemod)"
      ],
      "execution_count": null,
      "outputs": [
        {
          "name": "stdout",
          "output_type": "stream",
          "text": [
            "Linear: 482435.2954053522\n",
            "Lasso: 482441.2188457326\n",
            "Ridge: 482468.22854425723\n"
          ]
        }
      ]
    }
  ]
}