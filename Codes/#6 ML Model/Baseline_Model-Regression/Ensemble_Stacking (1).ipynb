{
  "nbformat": 4,
  "nbformat_minor": 0,
  "metadata": {
    "colab": {
      "name": "Ensemble Stacking.ipynb",
      "provenance": []
    },
    "kernelspec": {
      "name": "python3",
      "display_name": "Python 3"
    },
    "language_info": {
      "name": "python"
    }
  },
  "cells": [
    {
      "cell_type": "code",
      "metadata": {
        "id": "yHQPjlTAzqPV"
      },
      "source": [
        "import pandas as pd\n",
        "import numpy as np"
      ],
      "execution_count": null,
      "outputs": []
    },
    {
      "cell_type": "code",
      "metadata": {
        "colab": {
          "base_uri": "https://localhost:8080/",
          "height": 224
        },
        "id": "F5uHZfaJz4t7",
        "outputId": "6bfd4419-40f8-4cdc-825b-e4d6c1c03db2"
      },
      "source": [
        "data = pd.read_csv('regression_dataset.csv')\n",
        "data.head()"
      ],
      "execution_count": null,
      "outputs": [
        {
          "output_type": "execute_result",
          "data": {
            "text/html": [
              "<div>\n",
              "<style scoped>\n",
              "    .dataframe tbody tr th:only-of-type {\n",
              "        vertical-align: middle;\n",
              "    }\n",
              "\n",
              "    .dataframe tbody tr th {\n",
              "        vertical-align: top;\n",
              "    }\n",
              "\n",
              "    .dataframe thead th {\n",
              "        text-align: right;\n",
              "    }\n",
              "</style>\n",
              "<table border=\"1\" class=\"dataframe\">\n",
              "  <thead>\n",
              "    <tr style=\"text-align: right;\">\n",
              "      <th></th>\n",
              "      <th>cases</th>\n",
              "      <th>latitude</th>\n",
              "      <th>longitude</th>\n",
              "      <th>maxtempC</th>\n",
              "      <th>mintempC</th>\n",
              "      <th>totalSnow_cm</th>\n",
              "      <th>sunHour</th>\n",
              "      <th>uvIndex</th>\n",
              "      <th>moon_illumination</th>\n",
              "      <th>DewPointC</th>\n",
              "      <th>FeelsLikeC</th>\n",
              "      <th>HeatIndexC</th>\n",
              "      <th>WindChillC</th>\n",
              "      <th>WindGustKmph</th>\n",
              "      <th>cloudcover</th>\n",
              "      <th>humidity</th>\n",
              "      <th>pressure</th>\n",
              "      <th>tempC</th>\n",
              "      <th>visibility</th>\n",
              "      <th>winddirDegree</th>\n",
              "      <th>windspeedKmph</th>\n",
              "      <th>year</th>\n",
              "      <th>month</th>\n",
              "      <th>density_per_km</th>\n",
              "      <th>precipMM</th>\n",
              "    </tr>\n",
              "  </thead>\n",
              "  <tbody>\n",
              "    <tr>\n",
              "      <th>0</th>\n",
              "      <td>2</td>\n",
              "      <td>-34.603684</td>\n",
              "      <td>-58.381559</td>\n",
              "      <td>24</td>\n",
              "      <td>7</td>\n",
              "      <td>0.0</td>\n",
              "      <td>11.6</td>\n",
              "      <td>5</td>\n",
              "      <td>87</td>\n",
              "      <td>6</td>\n",
              "      <td>14</td>\n",
              "      <td>15</td>\n",
              "      <td>14</td>\n",
              "      <td>16</td>\n",
              "      <td>0</td>\n",
              "      <td>59</td>\n",
              "      <td>1018</td>\n",
              "      <td>24</td>\n",
              "      <td>10</td>\n",
              "      <td>189</td>\n",
              "      <td>10</td>\n",
              "      <td>2016</td>\n",
              "      <td>3</td>\n",
              "      <td>0.505636</td>\n",
              "      <td>0.0</td>\n",
              "    </tr>\n",
              "    <tr>\n",
              "      <th>1</th>\n",
              "      <td>0</td>\n",
              "      <td>-34.603684</td>\n",
              "      <td>-58.381559</td>\n",
              "      <td>24</td>\n",
              "      <td>7</td>\n",
              "      <td>0.0</td>\n",
              "      <td>11.6</td>\n",
              "      <td>5</td>\n",
              "      <td>87</td>\n",
              "      <td>6</td>\n",
              "      <td>14</td>\n",
              "      <td>15</td>\n",
              "      <td>14</td>\n",
              "      <td>16</td>\n",
              "      <td>0</td>\n",
              "      <td>59</td>\n",
              "      <td>1018</td>\n",
              "      <td>24</td>\n",
              "      <td>10</td>\n",
              "      <td>189</td>\n",
              "      <td>10</td>\n",
              "      <td>2016</td>\n",
              "      <td>3</td>\n",
              "      <td>0.505636</td>\n",
              "      <td>0.0</td>\n",
              "    </tr>\n",
              "    <tr>\n",
              "      <th>2</th>\n",
              "      <td>1</td>\n",
              "      <td>-34.603684</td>\n",
              "      <td>-58.381559</td>\n",
              "      <td>24</td>\n",
              "      <td>7</td>\n",
              "      <td>0.0</td>\n",
              "      <td>11.6</td>\n",
              "      <td>5</td>\n",
              "      <td>87</td>\n",
              "      <td>6</td>\n",
              "      <td>14</td>\n",
              "      <td>15</td>\n",
              "      <td>14</td>\n",
              "      <td>16</td>\n",
              "      <td>0</td>\n",
              "      <td>59</td>\n",
              "      <td>1018</td>\n",
              "      <td>24</td>\n",
              "      <td>10</td>\n",
              "      <td>189</td>\n",
              "      <td>10</td>\n",
              "      <td>2016</td>\n",
              "      <td>3</td>\n",
              "      <td>0.505636</td>\n",
              "      <td>0.0</td>\n",
              "    </tr>\n",
              "    <tr>\n",
              "      <th>3</th>\n",
              "      <td>0</td>\n",
              "      <td>-34.603684</td>\n",
              "      <td>-58.381559</td>\n",
              "      <td>22</td>\n",
              "      <td>10</td>\n",
              "      <td>0.0</td>\n",
              "      <td>11.5</td>\n",
              "      <td>5</td>\n",
              "      <td>76</td>\n",
              "      <td>10</td>\n",
              "      <td>14</td>\n",
              "      <td>16</td>\n",
              "      <td>14</td>\n",
              "      <td>27</td>\n",
              "      <td>34</td>\n",
              "      <td>72</td>\n",
              "      <td>1025</td>\n",
              "      <td>22</td>\n",
              "      <td>10</td>\n",
              "      <td>99</td>\n",
              "      <td>18</td>\n",
              "      <td>2016</td>\n",
              "      <td>4</td>\n",
              "      <td>0.505636</td>\n",
              "      <td>0.0</td>\n",
              "    </tr>\n",
              "    <tr>\n",
              "      <th>4</th>\n",
              "      <td>1</td>\n",
              "      <td>-34.603684</td>\n",
              "      <td>-58.381559</td>\n",
              "      <td>22</td>\n",
              "      <td>10</td>\n",
              "      <td>0.0</td>\n",
              "      <td>11.5</td>\n",
              "      <td>5</td>\n",
              "      <td>76</td>\n",
              "      <td>10</td>\n",
              "      <td>14</td>\n",
              "      <td>16</td>\n",
              "      <td>14</td>\n",
              "      <td>27</td>\n",
              "      <td>34</td>\n",
              "      <td>72</td>\n",
              "      <td>1025</td>\n",
              "      <td>22</td>\n",
              "      <td>10</td>\n",
              "      <td>99</td>\n",
              "      <td>18</td>\n",
              "      <td>2016</td>\n",
              "      <td>4</td>\n",
              "      <td>0.505636</td>\n",
              "      <td>0.0</td>\n",
              "    </tr>\n",
              "  </tbody>\n",
              "</table>\n",
              "</div>"
            ],
            "text/plain": [
              "   cases   latitude  longitude  maxtempC  ...  year  month  density_per_km  precipMM\n",
              "0      2 -34.603684 -58.381559        24  ...  2016      3        0.505636       0.0\n",
              "1      0 -34.603684 -58.381559        24  ...  2016      3        0.505636       0.0\n",
              "2      1 -34.603684 -58.381559        24  ...  2016      3        0.505636       0.0\n",
              "3      0 -34.603684 -58.381559        22  ...  2016      4        0.505636       0.0\n",
              "4      1 -34.603684 -58.381559        22  ...  2016      4        0.505636       0.0\n",
              "\n",
              "[5 rows x 25 columns]"
            ]
          },
          "metadata": {},
          "execution_count": 23
        }
      ]
    },
    {
      "cell_type": "code",
      "metadata": {
        "id": "mt1MFd1I0LcZ"
      },
      "source": [
        "X = data[['maxtempC', 'mintempC', 'windspeedKmph', 'year', 'month', 'density_per_km', 'precipMM', 'cloudcover',\n",
        "       'humidity','DewPointC', 'latitude', 'longitude','FeelsLikeC', 'winddirDegree', 'sunHour']]\n",
        "y = data['cases']"
      ],
      "execution_count": null,
      "outputs": []
    },
    {
      "cell_type": "code",
      "metadata": {
        "id": "BpWFWXbtAAvi"
      },
      "source": [
        "from sklearn.model_selection import cross_val_score\n",
        "from sklearn.model_selection import RepeatedKFold\n",
        "from sklearn.linear_model import LinearRegression\n",
        "from sklearn.linear_model import Lasso\n",
        "from sklearn.linear_model import Ridge\n",
        "\n",
        "from sklearn.tree import DecisionTreeRegressor\n",
        "from sklearn.ensemble import StackingRegressor\n",
        "\n",
        "from matplotlib import pyplot"
      ],
      "execution_count": null,
      "outputs": []
    },
    {
      "cell_type": "code",
      "metadata": {
        "id": "JfiockrcEuso"
      },
      "source": [
        "# get a stacking ensemble of models\n",
        "def get_stacking():\n",
        "  # define the base models\n",
        "  level0 = list()\n",
        "  level0.append(('cart', DecisionTreeRegressor()))\n",
        "  level0.append(('lasso', Lasso()))\n",
        "  level0.append(('ridge', Ridge()))\n",
        "  # define meta learner model\n",
        "  level1 = LinearRegression()\n",
        "  # define the stacking ensemble\n",
        "  model = StackingRegressor(estimators=level0, final_estimator=level1, cv=5)\n",
        "  return model"
      ],
      "execution_count": null,
      "outputs": []
    },
    {
      "cell_type": "code",
      "metadata": {
        "id": "moGJWHH1ArAz"
      },
      "source": [
        "# get a list of models to evaluate\n",
        "def get_models():\n",
        "  models = dict()\n",
        "  models['lin'] = LinearRegression()\n",
        "  models['lasso'] = Lasso()\n",
        "  models['ridge'] = Ridge()\n",
        "  models['cart'] = DecisionTreeRegressor()\n",
        "  models['stacking'] = get_stacking()\n",
        "  return models"
      ],
      "execution_count": null,
      "outputs": []
    },
    {
      "cell_type": "code",
      "metadata": {
        "id": "-kbPfGfPBI45"
      },
      "source": [
        "def evaluate_model(model, X, y):\n",
        "\tcv = RepeatedKFold(n_splits=10, n_repeats=3, random_state=1)\n",
        "\tscores = cross_val_score(model, X, y, scoring='neg_mean_absolute_error', cv=cv, n_jobs=-1, error_score='raise')\n",
        "\treturn scores"
      ],
      "execution_count": null,
      "outputs": []
    },
    {
      "cell_type": "code",
      "metadata": {
        "colab": {
          "base_uri": "https://localhost:8080/",
          "height": 139
        },
        "id": "Ce3H_RWRBSHU",
        "outputId": "3170890e-a07f-4508-a9bc-e9a66753eddd"
      },
      "source": [
        "# get the models to evaluate\n",
        "models = get_models()\n",
        "# evaluate the models and store results\n",
        "results, names = list(), list()\n",
        "for name, model in models.items():\n",
        "\tscores = evaluate_model(model, X, y)\n",
        "\tresults.append(scores)\n",
        "\tnames.append(name)\n",
        "\tprint('>%s %.3f (%.3f)' % (name, np.mean(scores), np.std(scores)))\n",
        "# plot model performance for comparison\n",
        "pyplot.boxplot(results, labels=names, showmeans=True)\n",
        "pyplot.show()"
      ],
      "execution_count": null,
      "outputs": [
        {
          "output_type": "stream",
          "name": "stdout",
          "text": [
            ">lin -104.104 (4.982)\n",
            ">lasso -103.762 (5.004)\n",
            ">ridge -104.103 (4.982)\n",
            ">cart -102.383 (6.086)\n",
            ">stacking -93.860 (5.304)\n"
          ]
        },
        {
          "output_type": "display_data",
          "data": {
            "image/png": "[encoded data removed]",
            "text/plain": [
              "<Figure size 432x288 with 1 Axes>"
            ]
          },
          "metadata": {
            "needs_background": "light"
          }
        }
      ]
    }
  ]
}