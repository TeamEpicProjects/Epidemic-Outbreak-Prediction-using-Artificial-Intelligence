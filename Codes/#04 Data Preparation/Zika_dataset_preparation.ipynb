{
 "cells": [
  {
   "cell_type": "markdown",
   "id": "86f839b2",
   "metadata": {},
   "source": [
    "# Data Cleaning of all countries ( one by one )\n",
    "old folder --> clean folder"
   ]
  },
  {
   "cell_type": "code",
   "execution_count": 1,
   "id": "1e94d3bc",
   "metadata": {},
   "outputs": [
    {
     "name": "stdout",
     "output_type": "stream",
     "text": [
      "All modules are ok ......\n"
     ]
    }
   ],
   "source": [
    "try:\n",
    "    import pandas as pd\n",
    "    from glob import glob\n",
    "    import os\n",
    "    print(\"All modules are ok ......\")\n",
    "except Exception as e:\n",
    "    print(\"Error  {} \".format(e))"
   ]
  },
  {
   "cell_type": "code",
   "execution_count": 3,
   "id": "053278bb",
   "metadata": {
    "hide_input": false
   },
   "outputs": [],
   "source": [
    "def tranfrom_data(data): \n",
    "    '''Transform dataset - Drop unnecessary columns'''\n",
    "    \n",
    "    if ((\"Unnamed: 10\" in data) == True) and ((\"Unnamed: 9\" in data) == True) and ((\"ï»¿report_date\" in data) == True):\n",
    "        data['report_date'].fillna(data['ï»¿report_date'], inplace=True)\n",
    "        data = data.drop(['Unnamed: 10','Unnamed: 9','ï»¿report_date'], axis = 1)\n",
    "\n",
    "    elif (\"Unnamed: 9\" in data) == True and (\"ï»¿report_date\" in data) == True:\n",
    "        data['report_date'].fillna(data['ï»¿report_date'], inplace=True)\n",
    "        data = data.drop(['Unnamed: 9','ï»¿report_date'], axis = 1)\n",
    "\n",
    "    elif (\"ï»¿report_date\" in data) == True:\n",
    "        data['report_date'].fillna(data['ï»¿report_date'], inplace=True)\n",
    "        data = data.drop(['ï»¿report_date'], axis = 1)\n",
    "\n",
    "    elif (\"Unnamed: 9\" in data) == True:\n",
    "        data = data.drop(['Unnamed: 9'], axis = 1)\n",
    "    \n",
    "    # drop unnecessary columns\n",
    "    data = data.drop(['data_field_code','time_period','time_period_type','unit','location_type'], axis = 1)\n",
    "  \n",
    "    # rename col\n",
    "    data = data.rename(columns = {'value':'cases'})\n",
    "    \n",
    "    return data"
   ]
  },
  {
   "cell_type": "markdown",
   "id": "28fd2e07",
   "metadata": {},
   "source": [
    "## Merge all countries csv files"
   ]
  },
  {
   "cell_type": "code",
   "execution_count": 5,
   "id": "4fef687b",
   "metadata": {},
   "outputs": [
    {
     "name": "stdout",
     "output_type": "stream",
     "text": [
      "Success...\n"
     ]
    }
   ],
   "source": [
    "stock_files = sorted(glob('Zika_dataset/Zika_Data_Repo/US_Virgin_Islands/*.csv'))\n",
    "data = pd.concat((pd.read_csv(file, encoding='cp1252')\n",
    "                      for file in stock_files), ignore_index=True)\n",
    "data.to_csv(\"Zika_dataset/Old_data/virgin_island.csv\",index=False)\n",
    "print(\"Success...\")"
   ]
  },
  {
   "cell_type": "code",
   "execution_count": 307,
   "id": "6c361304",
   "metadata": {},
   "outputs": [
    {
     "data": {
      "text/html": [
       "<div>\n",
       "<style scoped>\n",
       "    .dataframe tbody tr th:only-of-type {\n",
       "        vertical-align: middle;\n",
       "    }\n",
       "\n",
       "    .dataframe tbody tr th {\n",
       "        vertical-align: top;\n",
       "    }\n",
       "\n",
       "    .dataframe thead th {\n",
       "        text-align: right;\n",
       "    }\n",
       "</style>\n",
       "<table border=\"1\" class=\"dataframe\">\n",
       "  <thead>\n",
       "    <tr style=\"text-align: right;\">\n",
       "      <th></th>\n",
       "      <th>report_date</th>\n",
       "      <th>location</th>\n",
       "      <th>location_type</th>\n",
       "      <th>data_field</th>\n",
       "      <th>data_field_code</th>\n",
       "      <th>time_period</th>\n",
       "      <th>time_period_type</th>\n",
       "      <th>value</th>\n",
       "      <th>unit</th>\n",
       "      <th>ï»¿report_date</th>\n",
       "    </tr>\n",
       "  </thead>\n",
       "  <tbody>\n",
       "    <tr>\n",
       "      <th>0</th>\n",
       "      <td>2016-01-27</td>\n",
       "      <td>United_States-Puerto_Rico</td>\n",
       "      <td>territory</td>\n",
       "      <td>zika_confirmed_4weeks</td>\n",
       "      <td>PR0001</td>\n",
       "      <td>NaN</td>\n",
       "      <td>NaN</td>\n",
       "      <td>15.0</td>\n",
       "      <td>cases</td>\n",
       "      <td>NaN</td>\n",
       "    </tr>\n",
       "    <tr>\n",
       "      <th>1</th>\n",
       "      <td>2016-01-27</td>\n",
       "      <td>United_States-Puerto_Rico</td>\n",
       "      <td>territory</td>\n",
       "      <td>zika_confirmed_cumulative_2016</td>\n",
       "      <td>PR0003</td>\n",
       "      <td>NaN</td>\n",
       "      <td>NaN</td>\n",
       "      <td>9.0</td>\n",
       "      <td>cases</td>\n",
       "      <td>NaN</td>\n",
       "    </tr>\n",
       "    <tr>\n",
       "      <th>2</th>\n",
       "      <td>2016-01-27</td>\n",
       "      <td>United_States-Puerto_Rico</td>\n",
       "      <td>territory</td>\n",
       "      <td>flavi_confirmed_cumulative_2016</td>\n",
       "      <td>PR0005</td>\n",
       "      <td>NaN</td>\n",
       "      <td>NaN</td>\n",
       "      <td>0.0</td>\n",
       "      <td>cases</td>\n",
       "      <td>NaN</td>\n",
       "    </tr>\n",
       "    <tr>\n",
       "      <th>3</th>\n",
       "      <td>2016-01-27</td>\n",
       "      <td>United_States-Puerto_Rico</td>\n",
       "      <td>territory</td>\n",
       "      <td>zika_confirmed_cumulative_2015-2016</td>\n",
       "      <td>PR0006</td>\n",
       "      <td>NaN</td>\n",
       "      <td>NaN</td>\n",
       "      <td>18.0</td>\n",
       "      <td>cases</td>\n",
       "      <td>NaN</td>\n",
       "    </tr>\n",
       "    <tr>\n",
       "      <th>4</th>\n",
       "      <td>2016-01-27</td>\n",
       "      <td>United_States-Puerto_Rico</td>\n",
       "      <td>territory</td>\n",
       "      <td>zika_confirmed_pregnant_cumulative_2015-2016</td>\n",
       "      <td>PR0007</td>\n",
       "      <td>NaN</td>\n",
       "      <td>NaN</td>\n",
       "      <td>0.0</td>\n",
       "      <td>cases</td>\n",
       "      <td>NaN</td>\n",
       "    </tr>\n",
       "  </tbody>\n",
       "</table>\n",
       "</div>"
      ],
      "text/plain": [
       "  report_date                   location location_type  \\\n",
       "0  2016-01-27  United_States-Puerto_Rico     territory   \n",
       "1  2016-01-27  United_States-Puerto_Rico     territory   \n",
       "2  2016-01-27  United_States-Puerto_Rico     territory   \n",
       "3  2016-01-27  United_States-Puerto_Rico     territory   \n",
       "4  2016-01-27  United_States-Puerto_Rico     territory   \n",
       "\n",
       "                                     data_field data_field_code  time_period  \\\n",
       "0                         zika_confirmed_4weeks          PR0001          NaN   \n",
       "1                zika_confirmed_cumulative_2016          PR0003          NaN   \n",
       "2               flavi_confirmed_cumulative_2016          PR0005          NaN   \n",
       "3           zika_confirmed_cumulative_2015-2016          PR0006          NaN   \n",
       "4  zika_confirmed_pregnant_cumulative_2015-2016          PR0007          NaN   \n",
       "\n",
       "   time_period_type  value   unit ï»¿report_date  \n",
       "0               NaN   15.0  cases            NaN  \n",
       "1               NaN    9.0  cases            NaN  \n",
       "2               NaN    0.0  cases            NaN  \n",
       "3               NaN   18.0  cases            NaN  \n",
       "4               NaN    0.0  cases            NaN  "
      ]
     },
     "execution_count": 307,
     "metadata": {},
     "output_type": "execute_result"
    }
   ],
   "source": [
    "# read the dataset\n",
    "df = pd.read_csv('Zika_dataset/Old_data/virgin_island.csv')\n",
    "df.head()"
   ]
  },
  {
   "cell_type": "markdown",
   "id": "f5667c51",
   "metadata": {},
   "source": [
    "### Select data fields"
   ]
  },
  {
   "cell_type": "code",
   "execution_count": 310,
   "id": "4ad586d3",
   "metadata": {},
   "outputs": [],
   "source": [
    "df = df.loc[df.data_field.isin(['zika_confirmed_4weeks'])]"
   ]
  },
  {
   "cell_type": "markdown",
   "id": "f788fca5",
   "metadata": {},
   "source": [
    "### Clean the dataset"
   ]
  },
  {
   "cell_type": "code",
   "execution_count": 311,
   "id": "e9c2c5cb",
   "metadata": {},
   "outputs": [],
   "source": [
    "new_df = tranfrom_data(df)"
   ]
  },
  {
   "cell_type": "code",
   "execution_count": 312,
   "id": "0d84905a",
   "metadata": {},
   "outputs": [
    {
     "data": {
      "text/html": [
       "<div>\n",
       "<style scoped>\n",
       "    .dataframe tbody tr th:only-of-type {\n",
       "        vertical-align: middle;\n",
       "    }\n",
       "\n",
       "    .dataframe tbody tr th {\n",
       "        vertical-align: top;\n",
       "    }\n",
       "\n",
       "    .dataframe thead th {\n",
       "        text-align: right;\n",
       "    }\n",
       "</style>\n",
       "<table border=\"1\" class=\"dataframe\">\n",
       "  <thead>\n",
       "    <tr style=\"text-align: right;\">\n",
       "      <th></th>\n",
       "      <th>report_date</th>\n",
       "      <th>location</th>\n",
       "      <th>data_field</th>\n",
       "      <th>cases</th>\n",
       "    </tr>\n",
       "  </thead>\n",
       "  <tbody>\n",
       "    <tr>\n",
       "      <th>0</th>\n",
       "      <td>2016-01-27</td>\n",
       "      <td>United_States-Puerto_Rico</td>\n",
       "      <td>zika_confirmed_4weeks</td>\n",
       "      <td>15.0</td>\n",
       "    </tr>\n",
       "    <tr>\n",
       "      <th>10</th>\n",
       "      <td>2016-02-04</td>\n",
       "      <td>United_States-Puerto_Rico</td>\n",
       "      <td>zika_confirmed_4weeks</td>\n",
       "      <td>15.0</td>\n",
       "    </tr>\n",
       "    <tr>\n",
       "      <th>20</th>\n",
       "      <td>2016-04-06</td>\n",
       "      <td>United_States-Puerto_Rico</td>\n",
       "      <td>zika_confirmed_4weeks</td>\n",
       "      <td>136.0</td>\n",
       "    </tr>\n",
       "    <tr>\n",
       "      <th>30</th>\n",
       "      <td>2016-04-13</td>\n",
       "      <td>United_States-Puerto_Rico</td>\n",
       "      <td>zika_confirmed_4weeks</td>\n",
       "      <td>199.0</td>\n",
       "    </tr>\n",
       "    <tr>\n",
       "      <th>40</th>\n",
       "      <td>2016-04-20</td>\n",
       "      <td>United_States-Puerto_Rico</td>\n",
       "      <td>zika_confirmed_4weeks</td>\n",
       "      <td>197.0</td>\n",
       "    </tr>\n",
       "  </tbody>\n",
       "</table>\n",
       "</div>"
      ],
      "text/plain": [
       "   report_date                   location             data_field  cases\n",
       "0   2016-01-27  United_States-Puerto_Rico  zika_confirmed_4weeks   15.0\n",
       "10  2016-02-04  United_States-Puerto_Rico  zika_confirmed_4weeks   15.0\n",
       "20  2016-04-06  United_States-Puerto_Rico  zika_confirmed_4weeks  136.0\n",
       "30  2016-04-13  United_States-Puerto_Rico  zika_confirmed_4weeks  199.0\n",
       "40  2016-04-20  United_States-Puerto_Rico  zika_confirmed_4weeks  197.0"
      ]
     },
     "execution_count": 312,
     "metadata": {},
     "output_type": "execute_result"
    }
   ],
   "source": [
    "new_df.head()"
   ]
  },
  {
   "cell_type": "markdown",
   "id": "9bea1da9",
   "metadata": {},
   "source": [
    "### Arrange dataset"
   ]
  },
  {
   "cell_type": "code",
   "execution_count": 313,
   "id": "7048dd76",
   "metadata": {},
   "outputs": [],
   "source": [
    "# arrange data\n",
    "df_zika = new_df.groupby(['report_date','location','data_field']).cases.agg([sum])\n",
    "# reset index\n",
    "df_zika = df_zika.reset_index()\n",
    "# Rename column\n",
    "df_zika = df_zika.rename(columns = {'sum':'cases'})\n",
    "df_zika = df_zika.sort_values('report_date', ascending=True)"
   ]
  },
  {
   "cell_type": "markdown",
   "id": "438727de",
   "metadata": {},
   "source": [
    "## Export Dataset"
   ]
  },
  {
   "cell_type": "code",
   "execution_count": 314,
   "id": "f33e886c",
   "metadata": {},
   "outputs": [],
   "source": [
    "df_zika.to_csv('Zika_dataset/Clean_data/infection_virgin_island.csv',index=False)"
   ]
  }
 ],
 "metadata": {
  "kernelspec": {
   "display_name": "Python 3",
   "language": "python",
   "name": "python3"
  },
  "language_info": {
   "codemirror_mode": {
    "name": "ipython",
    "version": 3
   },
   "file_extension": ".py",
   "mimetype": "text/x-python",
   "name": "python",
   "nbconvert_exporter": "python",
   "pygments_lexer": "ipython3",
   "version": "3.8.8"
  },
  "varInspector": {
   "cols": {
    "lenName": 16,
    "lenType": 16,
    "lenVar": 40
   },
   "kernels_config": {
    "python": {
     "delete_cmd_postfix": "",
     "delete_cmd_prefix": "del ",
     "library": "var_list.py",
     "varRefreshCmd": "print(var_dic_list())"
    },
    "r": {
     "delete_cmd_postfix": ") ",
     "delete_cmd_prefix": "rm(",
     "library": "var_list.r",
     "varRefreshCmd": "cat(var_dic_list()) "
    }
   },
   "types_to_exclude": [
    "module",
    "function",
    "builtin_function_or_method",
    "instance",
    "_Feature"
   ],
   "window_display": false
  }
 },
 "nbformat": 4,
 "nbformat_minor": 5
}
