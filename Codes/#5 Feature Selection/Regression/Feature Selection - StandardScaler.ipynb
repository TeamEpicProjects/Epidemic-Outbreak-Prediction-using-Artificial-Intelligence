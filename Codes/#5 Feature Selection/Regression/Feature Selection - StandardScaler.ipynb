{
 "cells": [
  {
   "cell_type": "code",
   "execution_count": 1,
   "id": "412c85ba",
   "metadata": {},
   "outputs": [],
   "source": [
    "# import library\n",
    "import pandas as pd\n",
    "import numpy as np\n",
    "import matplotlib.pyplot as plt\n",
    "import seaborn as sns\n",
    "sns.set()\n",
    "\n",
    "import matplotlib.style as style\n",
    "%matplotlib inline\n",
    "style.use('ggplot')\n",
    "\n",
    "import warnings\n",
    "warnings.simplefilter(\"ignore\")\n",
    "\n",
    "pd.pandas.set_option('display.max_columns',None)"
   ]
  },
  {
   "cell_type": "code",
   "execution_count": 2,
   "id": "13526266",
   "metadata": {},
   "outputs": [
    {
     "data": {
      "text/html": [
       "<div>\n",
       "<style scoped>\n",
       "    .dataframe tbody tr th:only-of-type {\n",
       "        vertical-align: middle;\n",
       "    }\n",
       "\n",
       "    .dataframe tbody tr th {\n",
       "        vertical-align: top;\n",
       "    }\n",
       "\n",
       "    .dataframe thead th {\n",
       "        text-align: right;\n",
       "    }\n",
       "</style>\n",
       "<table border=\"1\" class=\"dataframe\">\n",
       "  <thead>\n",
       "    <tr style=\"text-align: right;\">\n",
       "      <th></th>\n",
       "      <th>density_per_km</th>\n",
       "      <th>latitude</th>\n",
       "      <th>longitude</th>\n",
       "      <th>maxtempC</th>\n",
       "      <th>mintempC</th>\n",
       "      <th>totalSnow_cm</th>\n",
       "      <th>sunHour</th>\n",
       "      <th>uvIndex</th>\n",
       "      <th>moon_illumination</th>\n",
       "      <th>DewPointC</th>\n",
       "      <th>FeelsLikeC</th>\n",
       "      <th>HeatIndexC</th>\n",
       "      <th>WindChillC</th>\n",
       "      <th>WindGustKmph</th>\n",
       "      <th>cloudcover</th>\n",
       "      <th>humidity</th>\n",
       "      <th>precipMM</th>\n",
       "      <th>pressure</th>\n",
       "      <th>tempC</th>\n",
       "      <th>visibility</th>\n",
       "      <th>winddirDegree</th>\n",
       "      <th>windspeedKmph</th>\n",
       "      <th>year</th>\n",
       "      <th>month</th>\n",
       "      <th>cases</th>\n",
       "    </tr>\n",
       "  </thead>\n",
       "  <tbody>\n",
       "    <tr>\n",
       "      <th>0</th>\n",
       "      <td>12625.800781</td>\n",
       "      <td>-34.603684</td>\n",
       "      <td>-58.381559</td>\n",
       "      <td>24</td>\n",
       "      <td>7</td>\n",
       "      <td>0.0</td>\n",
       "      <td>11.6</td>\n",
       "      <td>5</td>\n",
       "      <td>87</td>\n",
       "      <td>6</td>\n",
       "      <td>14</td>\n",
       "      <td>15</td>\n",
       "      <td>14</td>\n",
       "      <td>16</td>\n",
       "      <td>0</td>\n",
       "      <td>59</td>\n",
       "      <td>0.0</td>\n",
       "      <td>1018</td>\n",
       "      <td>24</td>\n",
       "      <td>10</td>\n",
       "      <td>189</td>\n",
       "      <td>10</td>\n",
       "      <td>2016</td>\n",
       "      <td>3</td>\n",
       "      <td>2</td>\n",
       "    </tr>\n",
       "    <tr>\n",
       "      <th>1</th>\n",
       "      <td>12625.800781</td>\n",
       "      <td>-34.603684</td>\n",
       "      <td>-58.381559</td>\n",
       "      <td>24</td>\n",
       "      <td>7</td>\n",
       "      <td>0.0</td>\n",
       "      <td>11.6</td>\n",
       "      <td>5</td>\n",
       "      <td>87</td>\n",
       "      <td>6</td>\n",
       "      <td>14</td>\n",
       "      <td>15</td>\n",
       "      <td>14</td>\n",
       "      <td>16</td>\n",
       "      <td>0</td>\n",
       "      <td>59</td>\n",
       "      <td>0.0</td>\n",
       "      <td>1018</td>\n",
       "      <td>24</td>\n",
       "      <td>10</td>\n",
       "      <td>189</td>\n",
       "      <td>10</td>\n",
       "      <td>2016</td>\n",
       "      <td>3</td>\n",
       "      <td>0</td>\n",
       "    </tr>\n",
       "    <tr>\n",
       "      <th>2</th>\n",
       "      <td>12625.800781</td>\n",
       "      <td>-34.603684</td>\n",
       "      <td>-58.381559</td>\n",
       "      <td>24</td>\n",
       "      <td>7</td>\n",
       "      <td>0.0</td>\n",
       "      <td>11.6</td>\n",
       "      <td>5</td>\n",
       "      <td>87</td>\n",
       "      <td>6</td>\n",
       "      <td>14</td>\n",
       "      <td>15</td>\n",
       "      <td>14</td>\n",
       "      <td>16</td>\n",
       "      <td>0</td>\n",
       "      <td>59</td>\n",
       "      <td>0.0</td>\n",
       "      <td>1018</td>\n",
       "      <td>24</td>\n",
       "      <td>10</td>\n",
       "      <td>189</td>\n",
       "      <td>10</td>\n",
       "      <td>2016</td>\n",
       "      <td>3</td>\n",
       "      <td>1</td>\n",
       "    </tr>\n",
       "    <tr>\n",
       "      <th>3</th>\n",
       "      <td>12625.800781</td>\n",
       "      <td>-34.603684</td>\n",
       "      <td>-58.381559</td>\n",
       "      <td>24</td>\n",
       "      <td>7</td>\n",
       "      <td>0.0</td>\n",
       "      <td>11.6</td>\n",
       "      <td>5</td>\n",
       "      <td>87</td>\n",
       "      <td>6</td>\n",
       "      <td>14</td>\n",
       "      <td>15</td>\n",
       "      <td>14</td>\n",
       "      <td>16</td>\n",
       "      <td>0</td>\n",
       "      <td>59</td>\n",
       "      <td>0.0</td>\n",
       "      <td>1018</td>\n",
       "      <td>24</td>\n",
       "      <td>10</td>\n",
       "      <td>189</td>\n",
       "      <td>10</td>\n",
       "      <td>2016</td>\n",
       "      <td>3</td>\n",
       "      <td>0</td>\n",
       "    </tr>\n",
       "    <tr>\n",
       "      <th>4</th>\n",
       "      <td>12625.800781</td>\n",
       "      <td>-34.603684</td>\n",
       "      <td>-58.381559</td>\n",
       "      <td>22</td>\n",
       "      <td>10</td>\n",
       "      <td>0.0</td>\n",
       "      <td>11.5</td>\n",
       "      <td>5</td>\n",
       "      <td>76</td>\n",
       "      <td>10</td>\n",
       "      <td>14</td>\n",
       "      <td>16</td>\n",
       "      <td>14</td>\n",
       "      <td>27</td>\n",
       "      <td>34</td>\n",
       "      <td>72</td>\n",
       "      <td>0.0</td>\n",
       "      <td>1025</td>\n",
       "      <td>22</td>\n",
       "      <td>10</td>\n",
       "      <td>99</td>\n",
       "      <td>18</td>\n",
       "      <td>2016</td>\n",
       "      <td>4</td>\n",
       "      <td>0</td>\n",
       "    </tr>\n",
       "  </tbody>\n",
       "</table>\n",
       "</div>"
      ],
      "text/plain": [
       "   density_per_km   latitude  longitude  maxtempC  mintempC  totalSnow_cm  \\\n",
       "0    12625.800781 -34.603684 -58.381559        24         7           0.0   \n",
       "1    12625.800781 -34.603684 -58.381559        24         7           0.0   \n",
       "2    12625.800781 -34.603684 -58.381559        24         7           0.0   \n",
       "3    12625.800781 -34.603684 -58.381559        24         7           0.0   \n",
       "4    12625.800781 -34.603684 -58.381559        22        10           0.0   \n",
       "\n",
       "   sunHour  uvIndex  moon_illumination  DewPointC  FeelsLikeC  HeatIndexC  \\\n",
       "0     11.6        5                 87          6          14          15   \n",
       "1     11.6        5                 87          6          14          15   \n",
       "2     11.6        5                 87          6          14          15   \n",
       "3     11.6        5                 87          6          14          15   \n",
       "4     11.5        5                 76         10          14          16   \n",
       "\n",
       "   WindChillC  WindGustKmph  cloudcover  humidity  precipMM  pressure  tempC  \\\n",
       "0          14            16           0        59       0.0      1018     24   \n",
       "1          14            16           0        59       0.0      1018     24   \n",
       "2          14            16           0        59       0.0      1018     24   \n",
       "3          14            16           0        59       0.0      1018     24   \n",
       "4          14            27          34        72       0.0      1025     22   \n",
       "\n",
       "   visibility  winddirDegree  windspeedKmph  year  month  cases  \n",
       "0          10            189             10  2016      3      2  \n",
       "1          10            189             10  2016      3      0  \n",
       "2          10            189             10  2016      3      1  \n",
       "3          10            189             10  2016      3      0  \n",
       "4          10             99             18  2016      4      0  "
      ]
     },
     "execution_count": 2,
     "metadata": {},
     "output_type": "execute_result"
    }
   ],
   "source": [
    "df = pd.read_csv('final_dataset.csv')\n",
    "df.head()"
   ]
  },
  {
   "cell_type": "code",
   "execution_count": 3,
   "id": "bf6a93ac",
   "metadata": {},
   "outputs": [
    {
     "data": {
      "text/plain": [
       "(174103, 25)"
      ]
     },
     "execution_count": 3,
     "metadata": {},
     "output_type": "execute_result"
    }
   ],
   "source": [
    "df.shape"
   ]
  },
  {
   "cell_type": "code",
   "execution_count": 4,
   "id": "8fdb56b4",
   "metadata": {},
   "outputs": [
    {
     "data": {
      "text/plain": [
       "71058"
      ]
     },
     "execution_count": 4,
     "metadata": {},
     "output_type": "execute_result"
    }
   ],
   "source": [
    "# Total no of duplicate rows\n",
    "df.duplicated().sum()"
   ]
  },
  {
   "cell_type": "code",
   "execution_count": 5,
   "id": "904d9dca",
   "metadata": {},
   "outputs": [],
   "source": [
    "# Remove duplicate rows\n",
    "df = df.drop_duplicates(keep='first', inplace=False)"
   ]
  },
  {
   "cell_type": "code",
   "execution_count": 6,
   "id": "57bf1987",
   "metadata": {},
   "outputs": [
    {
     "data": {
      "text/plain": [
       "(103045, 25)"
      ]
     },
     "execution_count": 6,
     "metadata": {},
     "output_type": "execute_result"
    }
   ],
   "source": [
    "df.shape"
   ]
  },
  {
   "cell_type": "code",
   "execution_count": 7,
   "id": "8f632509",
   "metadata": {},
   "outputs": [
    {
     "data": {
      "text/plain": [
       "Index(['density_per_km', 'latitude', 'longitude', 'maxtempC', 'mintempC',\n",
       "       'totalSnow_cm', 'sunHour', 'uvIndex', 'moon_illumination', 'DewPointC',\n",
       "       'FeelsLikeC', 'HeatIndexC', 'WindChillC', 'WindGustKmph', 'cloudcover',\n",
       "       'humidity', 'precipMM', 'pressure', 'tempC', 'visibility',\n",
       "       'winddirDegree', 'windspeedKmph', 'year', 'month', 'cases'],\n",
       "      dtype='object')"
      ]
     },
     "execution_count": 7,
     "metadata": {},
     "output_type": "execute_result"
    }
   ],
   "source": [
    "df.columns"
   ]
  },
  {
   "cell_type": "markdown",
   "id": "297d2c7a",
   "metadata": {},
   "source": [
    "## Feature Scaling "
   ]
  },
  {
   "cell_type": "code",
   "execution_count": 8,
   "id": "2fadd73e",
   "metadata": {},
   "outputs": [],
   "source": [
    "feature_scale = [feature for feature in df.columns if feature in ['density_per_km','precipMM']]"
   ]
  },
  {
   "cell_type": "code",
   "execution_count": 9,
   "id": "5cbc8828",
   "metadata": {},
   "outputs": [
    {
     "data": {
      "text/plain": [
       "StandardScaler()"
      ]
     },
     "execution_count": 9,
     "metadata": {},
     "output_type": "execute_result"
    }
   ],
   "source": [
    "from sklearn.preprocessing import StandardScaler\n",
    "\n",
    "scaler=StandardScaler()\n",
    "scaler.fit(df[feature_scale])"
   ]
  },
  {
   "cell_type": "code",
   "execution_count": 10,
   "id": "a03de345",
   "metadata": {},
   "outputs": [],
   "source": [
    "# transform the train and test set, and add on the Id and SalePrice variables\n",
    "data = pd.concat([df[['cases','latitude', 'longitude', 'maxtempC', 'mintempC',\n",
    "       'totalSnow_cm', 'sunHour', 'uvIndex', 'moon_illumination', 'DewPointC',\n",
    "       'FeelsLikeC', 'HeatIndexC', 'WindChillC', 'WindGustKmph', 'cloudcover',\n",
    "       'humidity', 'pressure', 'tempC', 'visibility',\n",
    "       'winddirDegree', 'windspeedKmph', 'year', 'month']].reset_index(drop=True),\n",
    "                    pd.DataFrame(scaler.transform(df[feature_scale]), columns=feature_scale)],axis=1)"
   ]
  },
  {
   "cell_type": "code",
   "execution_count": 11,
   "id": "3a089fda",
   "metadata": {},
   "outputs": [
    {
     "data": {
      "text/html": [
       "<div>\n",
       "<style scoped>\n",
       "    .dataframe tbody tr th:only-of-type {\n",
       "        vertical-align: middle;\n",
       "    }\n",
       "\n",
       "    .dataframe tbody tr th {\n",
       "        vertical-align: top;\n",
       "    }\n",
       "\n",
       "    .dataframe thead th {\n",
       "        text-align: right;\n",
       "    }\n",
       "</style>\n",
       "<table border=\"1\" class=\"dataframe\">\n",
       "  <thead>\n",
       "    <tr style=\"text-align: right;\">\n",
       "      <th></th>\n",
       "      <th>cases</th>\n",
       "      <th>latitude</th>\n",
       "      <th>longitude</th>\n",
       "      <th>maxtempC</th>\n",
       "      <th>mintempC</th>\n",
       "      <th>totalSnow_cm</th>\n",
       "      <th>sunHour</th>\n",
       "      <th>uvIndex</th>\n",
       "      <th>moon_illumination</th>\n",
       "      <th>DewPointC</th>\n",
       "      <th>FeelsLikeC</th>\n",
       "      <th>HeatIndexC</th>\n",
       "      <th>WindChillC</th>\n",
       "      <th>WindGustKmph</th>\n",
       "      <th>cloudcover</th>\n",
       "      <th>humidity</th>\n",
       "      <th>pressure</th>\n",
       "      <th>tempC</th>\n",
       "      <th>visibility</th>\n",
       "      <th>winddirDegree</th>\n",
       "      <th>windspeedKmph</th>\n",
       "      <th>year</th>\n",
       "      <th>month</th>\n",
       "      <th>density_per_km</th>\n",
       "      <th>precipMM</th>\n",
       "    </tr>\n",
       "  </thead>\n",
       "  <tbody>\n",
       "    <tr>\n",
       "      <th>0</th>\n",
       "      <td>2</td>\n",
       "      <td>-34.603684</td>\n",
       "      <td>-58.381559</td>\n",
       "      <td>24</td>\n",
       "      <td>7</td>\n",
       "      <td>0.0</td>\n",
       "      <td>11.6</td>\n",
       "      <td>5</td>\n",
       "      <td>87</td>\n",
       "      <td>6</td>\n",
       "      <td>14</td>\n",
       "      <td>15</td>\n",
       "      <td>14</td>\n",
       "      <td>16</td>\n",
       "      <td>0</td>\n",
       "      <td>59</td>\n",
       "      <td>1018</td>\n",
       "      <td>24</td>\n",
       "      <td>10</td>\n",
       "      <td>189</td>\n",
       "      <td>10</td>\n",
       "      <td>2016</td>\n",
       "      <td>3</td>\n",
       "      <td>4.63172</td>\n",
       "      <td>-0.635406</td>\n",
       "    </tr>\n",
       "    <tr>\n",
       "      <th>1</th>\n",
       "      <td>0</td>\n",
       "      <td>-34.603684</td>\n",
       "      <td>-58.381559</td>\n",
       "      <td>24</td>\n",
       "      <td>7</td>\n",
       "      <td>0.0</td>\n",
       "      <td>11.6</td>\n",
       "      <td>5</td>\n",
       "      <td>87</td>\n",
       "      <td>6</td>\n",
       "      <td>14</td>\n",
       "      <td>15</td>\n",
       "      <td>14</td>\n",
       "      <td>16</td>\n",
       "      <td>0</td>\n",
       "      <td>59</td>\n",
       "      <td>1018</td>\n",
       "      <td>24</td>\n",
       "      <td>10</td>\n",
       "      <td>189</td>\n",
       "      <td>10</td>\n",
       "      <td>2016</td>\n",
       "      <td>3</td>\n",
       "      <td>4.63172</td>\n",
       "      <td>-0.635406</td>\n",
       "    </tr>\n",
       "    <tr>\n",
       "      <th>2</th>\n",
       "      <td>1</td>\n",
       "      <td>-34.603684</td>\n",
       "      <td>-58.381559</td>\n",
       "      <td>24</td>\n",
       "      <td>7</td>\n",
       "      <td>0.0</td>\n",
       "      <td>11.6</td>\n",
       "      <td>5</td>\n",
       "      <td>87</td>\n",
       "      <td>6</td>\n",
       "      <td>14</td>\n",
       "      <td>15</td>\n",
       "      <td>14</td>\n",
       "      <td>16</td>\n",
       "      <td>0</td>\n",
       "      <td>59</td>\n",
       "      <td>1018</td>\n",
       "      <td>24</td>\n",
       "      <td>10</td>\n",
       "      <td>189</td>\n",
       "      <td>10</td>\n",
       "      <td>2016</td>\n",
       "      <td>3</td>\n",
       "      <td>4.63172</td>\n",
       "      <td>-0.635406</td>\n",
       "    </tr>\n",
       "    <tr>\n",
       "      <th>3</th>\n",
       "      <td>0</td>\n",
       "      <td>-34.603684</td>\n",
       "      <td>-58.381559</td>\n",
       "      <td>22</td>\n",
       "      <td>10</td>\n",
       "      <td>0.0</td>\n",
       "      <td>11.5</td>\n",
       "      <td>5</td>\n",
       "      <td>76</td>\n",
       "      <td>10</td>\n",
       "      <td>14</td>\n",
       "      <td>16</td>\n",
       "      <td>14</td>\n",
       "      <td>27</td>\n",
       "      <td>34</td>\n",
       "      <td>72</td>\n",
       "      <td>1025</td>\n",
       "      <td>22</td>\n",
       "      <td>10</td>\n",
       "      <td>99</td>\n",
       "      <td>18</td>\n",
       "      <td>2016</td>\n",
       "      <td>4</td>\n",
       "      <td>4.63172</td>\n",
       "      <td>-0.635406</td>\n",
       "    </tr>\n",
       "    <tr>\n",
       "      <th>4</th>\n",
       "      <td>1</td>\n",
       "      <td>-34.603684</td>\n",
       "      <td>-58.381559</td>\n",
       "      <td>22</td>\n",
       "      <td>10</td>\n",
       "      <td>0.0</td>\n",
       "      <td>11.5</td>\n",
       "      <td>5</td>\n",
       "      <td>76</td>\n",
       "      <td>10</td>\n",
       "      <td>14</td>\n",
       "      <td>16</td>\n",
       "      <td>14</td>\n",
       "      <td>27</td>\n",
       "      <td>34</td>\n",
       "      <td>72</td>\n",
       "      <td>1025</td>\n",
       "      <td>22</td>\n",
       "      <td>10</td>\n",
       "      <td>99</td>\n",
       "      <td>18</td>\n",
       "      <td>2016</td>\n",
       "      <td>4</td>\n",
       "      <td>4.63172</td>\n",
       "      <td>-0.635406</td>\n",
       "    </tr>\n",
       "  </tbody>\n",
       "</table>\n",
       "</div>"
      ],
      "text/plain": [
       "   cases   latitude  longitude  maxtempC  mintempC  totalSnow_cm  sunHour  \\\n",
       "0      2 -34.603684 -58.381559        24         7           0.0     11.6   \n",
       "1      0 -34.603684 -58.381559        24         7           0.0     11.6   \n",
       "2      1 -34.603684 -58.381559        24         7           0.0     11.6   \n",
       "3      0 -34.603684 -58.381559        22        10           0.0     11.5   \n",
       "4      1 -34.603684 -58.381559        22        10           0.0     11.5   \n",
       "\n",
       "   uvIndex  moon_illumination  DewPointC  FeelsLikeC  HeatIndexC  WindChillC  \\\n",
       "0        5                 87          6          14          15          14   \n",
       "1        5                 87          6          14          15          14   \n",
       "2        5                 87          6          14          15          14   \n",
       "3        5                 76         10          14          16          14   \n",
       "4        5                 76         10          14          16          14   \n",
       "\n",
       "   WindGustKmph  cloudcover  humidity  pressure  tempC  visibility  \\\n",
       "0            16           0        59      1018     24          10   \n",
       "1            16           0        59      1018     24          10   \n",
       "2            16           0        59      1018     24          10   \n",
       "3            27          34        72      1025     22          10   \n",
       "4            27          34        72      1025     22          10   \n",
       "\n",
       "   winddirDegree  windspeedKmph  year  month  density_per_km  precipMM  \n",
       "0            189             10  2016      3         4.63172 -0.635406  \n",
       "1            189             10  2016      3         4.63172 -0.635406  \n",
       "2            189             10  2016      3         4.63172 -0.635406  \n",
       "3             99             18  2016      4         4.63172 -0.635406  \n",
       "4             99             18  2016      4         4.63172 -0.635406  "
      ]
     },
     "execution_count": 11,
     "metadata": {},
     "output_type": "execute_result"
    }
   ],
   "source": [
    "data.head()"
   ]
  },
  {
   "cell_type": "code",
   "execution_count": 12,
   "id": "18987232",
   "metadata": {},
   "outputs": [],
   "source": [
    "X = data.iloc[:,1:]  #independent columns\n",
    "y = data['cases'] #dependent column"
   ]
  },
  {
   "cell_type": "markdown",
   "id": "ace1f521",
   "metadata": {},
   "source": [
    "## 1. ExtraTreesRegressor"
   ]
  },
  {
   "cell_type": "code",
   "execution_count": 13,
   "id": "92e08963",
   "metadata": {},
   "outputs": [
    {
     "data": {
      "text/plain": [
       "ExtraTreesRegressor()"
      ]
     },
     "execution_count": 13,
     "metadata": {},
     "output_type": "execute_result"
    }
   ],
   "source": [
    "from sklearn.ensemble import ExtraTreesRegressor\n",
    "model = ExtraTreesRegressor()\n",
    "model.fit(X,y)"
   ]
  },
  {
   "cell_type": "code",
   "execution_count": 14,
   "id": "d013d1ee",
   "metadata": {},
   "outputs": [
    {
     "data": {
      "text/plain": [
       "array([8.95506456e-02, 1.02645083e-01, 4.09213463e-02, 4.12185276e-02,\n",
       "       4.17346901e-06, 4.04883361e-02, 2.28299938e-02, 3.19357351e-02,\n",
       "       3.26133169e-02, 2.28735411e-02, 2.71800489e-02, 2.54319001e-02,\n",
       "       3.44160396e-02, 3.44850393e-02, 4.23385296e-02, 3.53930418e-02,\n",
       "       4.03423811e-02, 1.23165354e-02, 4.35150929e-02, 3.78855214e-02,\n",
       "       3.45312836e-02, 7.57947847e-02, 1.12903791e-01, 1.83853123e-02])"
      ]
     },
     "execution_count": 14,
     "metadata": {},
     "output_type": "execute_result"
    }
   ],
   "source": [
    "model.feature_importances_"
   ]
  },
  {
   "cell_type": "code",
   "execution_count": 15,
   "id": "7b70ec12",
   "metadata": {},
   "outputs": [
    {
     "data": {
      "image/png": "[encoded data removed]",
      "text/plain": [
       "<Figure size 432x288 with 1 Axes>"
      ]
     },
     "metadata": {},
     "output_type": "display_data"
    }
   ],
   "source": [
    "#plot graph of feature importances for better visualization\n",
    "feat_importances = pd.Series(model.feature_importances_, index=X.columns)\n",
    "feat_importances.nlargest(24).plot(kind='barh')\n",
    "plt.show()"
   ]
  },
  {
   "cell_type": "code",
   "execution_count": 16,
   "id": "73f783f1",
   "metadata": {},
   "outputs": [
    {
     "name": "stdout",
     "output_type": "stream",
     "text": [
      "density_per_km       0.112904\n",
      "longitude            0.102645\n",
      "latitude             0.089551\n",
      "month                0.075795\n",
      "winddirDegree        0.043515\n",
      "humidity             0.042339\n",
      "mintempC             0.041219\n",
      "maxtempC             0.040921\n",
      "sunHour              0.040488\n",
      "tempC                0.040342\n",
      "windspeedKmph        0.037886\n",
      "pressure             0.035393\n",
      "year                 0.034531\n",
      "cloudcover           0.034485\n",
      "WindGustKmph         0.034416\n",
      "DewPointC            0.032613\n",
      "moon_illumination    0.031936\n",
      "HeatIndexC           0.027180\n",
      "WindChillC           0.025432\n",
      "FeelsLikeC           0.022874\n",
      "uvIndex              0.022830\n",
      "precipMM             0.018385\n",
      "visibility           0.012317\n",
      "totalSnow_cm         0.000004\n",
      "dtype: float64\n"
     ]
    }
   ],
   "source": [
    "print(feat_importances.nlargest(24))"
   ]
  },
  {
   "cell_type": "markdown",
   "id": "b605b43b",
   "metadata": {},
   "source": [
    "## 2. Infromation gain"
   ]
  },
  {
   "cell_type": "code",
   "execution_count": 17,
   "id": "21135422",
   "metadata": {},
   "outputs": [],
   "source": [
    "from sklearn.feature_selection import mutual_info_classif\n",
    "\n",
    "mutual_info = mutual_info_classif(X,y)"
   ]
  },
  {
   "cell_type": "code",
   "execution_count": 18,
   "id": "87606c5e",
   "metadata": {},
   "outputs": [
    {
     "data": {
      "text/plain": [
       "latitude             0.795116\n",
       "longitude            0.780919\n",
       "density_per_km       0.771101\n",
       "year                 0.117240\n",
       "mintempC             0.057771\n",
       "WindChillC           0.057310\n",
       "DewPointC            0.056017\n",
       "HeatIndexC           0.054242\n",
       "FeelsLikeC           0.053747\n",
       "month                0.042779\n",
       "uvIndex              0.042717\n",
       "sunHour              0.042205\n",
       "maxtempC             0.041252\n",
       "tempC                0.039153\n",
       "winddirDegree        0.030920\n",
       "visibility           0.027913\n",
       "windspeedKmph        0.026703\n",
       "pressure             0.025220\n",
       "WindGustKmph         0.024303\n",
       "humidity             0.023117\n",
       "moon_illumination    0.008195\n",
       "cloudcover           0.007456\n",
       "precipMM             0.003883\n",
       "totalSnow_cm         0.000000\n",
       "dtype: float64"
      ]
     },
     "execution_count": 18,
     "metadata": {},
     "output_type": "execute_result"
    }
   ],
   "source": [
    "mutual_data = pd.Series(mutual_info,index=X.columns)\n",
    "mutual_data.sort_values(ascending=False)"
   ]
  },
  {
   "cell_type": "code",
   "execution_count": 19,
   "id": "9984d930",
   "metadata": {},
   "outputs": [
    {
     "data": {
      "text/plain": [
       "<AxesSubplot:>"
      ]
     },
     "execution_count": 19,
     "metadata": {},
     "output_type": "execute_result"
    },
    {
     "data": {
      "image/png": "[encoded data removed]",
      "text/plain": [
       "<Figure size 1080x288 with 1 Axes>"
      ]
     },
     "metadata": {},
     "output_type": "display_data"
    }
   ],
   "source": [
    "mutual_data.sort_values(ascending=False).plot.bar(figsize=(15,4))"
   ]
  },
  {
   "cell_type": "code",
   "execution_count": 20,
   "id": "147a6f00",
   "metadata": {},
   "outputs": [
    {
     "data": {
      "text/plain": [
       "Index(['latitude', 'longitude', 'maxtempC', 'mintempC', 'totalSnow_cm',\n",
       "       'sunHour', 'uvIndex', 'moon_illumination', 'DewPointC', 'FeelsLikeC',\n",
       "       'HeatIndexC', 'WindChillC', 'WindGustKmph', 'cloudcover', 'humidity',\n",
       "       'pressure', 'tempC', 'visibility', 'winddirDegree', 'windspeedKmph',\n",
       "       'year', 'month', 'density_per_km', 'precipMM'],\n",
       "      dtype='object')"
      ]
     },
     "execution_count": 20,
     "metadata": {},
     "output_type": "execute_result"
    }
   ],
   "source": [
    "from sklearn.feature_selection import SelectKBest\n",
    "select_col = SelectKBest(mutual_info_classif,k=24)\n",
    "select_col.fit(X,y)\n",
    "X.columns[select_col.get_support()]"
   ]
  },
  {
   "cell_type": "markdown",
   "id": "b77ba5c0",
   "metadata": {},
   "source": [
    "## 3. XGBoost"
   ]
  },
  {
   "cell_type": "code",
   "execution_count": 21,
   "id": "87eba1da",
   "metadata": {},
   "outputs": [
    {
     "name": "stdout",
     "output_type": "stream",
     "text": [
      "[0.0855759  0.04310305 0.10366858 0.03409354 0.00052314 0.06395987\n",
      " 0.0280664  0.04097275 0.05716718 0.02858397 0.00164909 0.04693686\n",
      " 0.04820725 0.070554   0.07354703 0.01106824 0.         0.0036944\n",
      " 0.06193847 0.00838888 0.08565594 0.03558173 0.05732071 0.00974303]\n"
     ]
    },
    {
     "data": {
      "image/png": "[encoded data removed]",
      "text/plain": [
       "<Figure size 432x288 with 1 Axes>"
      ]
     },
     "metadata": {},
     "output_type": "display_data"
    }
   ],
   "source": [
    "# plot feature importance manually\n",
    "from numpy import loadtxt\n",
    "from xgboost import XGBRegressor\n",
    "from matplotlib import pyplot\n",
    "\n",
    "# fit model no training data\n",
    "model = XGBRegressor()\n",
    "model.fit(X, y)\n",
    "# feature importance\n",
    "print(model.feature_importances_)\n",
    "# plot\n",
    "plt.bar(range(len(model.feature_importances_)), model.feature_importances_)\n",
    "plt.show()"
   ]
  },
  {
   "cell_type": "code",
   "execution_count": 22,
   "id": "930a7d10",
   "metadata": {},
   "outputs": [
    {
     "data": {
      "text/plain": [
       "maxtempC             0.103669\n",
       "year                 0.085656\n",
       "latitude             0.085576\n",
       "humidity             0.073547\n",
       "cloudcover           0.070554\n",
       "sunHour              0.063960\n",
       "winddirDegree        0.061938\n",
       "density_per_km       0.057321\n",
       "DewPointC            0.057167\n",
       "WindGustKmph         0.048207\n",
       "WindChillC           0.046937\n",
       "longitude            0.043103\n",
       "moon_illumination    0.040973\n",
       "month                0.035582\n",
       "mintempC             0.034094\n",
       "FeelsLikeC           0.028584\n",
       "uvIndex              0.028066\n",
       "pressure             0.011068\n",
       "precipMM             0.009743\n",
       "windspeedKmph        0.008389\n",
       "visibility           0.003694\n",
       "HeatIndexC           0.001649\n",
       "totalSnow_cm         0.000523\n",
       "tempC                0.000000\n",
       "dtype: float32"
      ]
     },
     "execution_count": 22,
     "metadata": {},
     "output_type": "execute_result"
    }
   ],
   "source": [
    "feat_importance = pd.Series(model.feature_importances_,index=X.columns)\n",
    "feat_importance.sort_values(ascending=False)"
   ]
  },
  {
   "cell_type": "code",
   "execution_count": 23,
   "id": "cee858bf",
   "metadata": {},
   "outputs": [
    {
     "data": {
      "text/plain": [
       "<AxesSubplot:>"
      ]
     },
     "execution_count": 23,
     "metadata": {},
     "output_type": "execute_result"
    },
    {
     "data": {
      "image/png": "[encoded data removed]",
      "text/plain": [
       "<Figure size 720x288 with 1 Axes>"
      ]
     },
     "metadata": {},
     "output_type": "display_data"
    }
   ],
   "source": [
    "feat_importance = pd.Series(model.feature_importances_,index=X.columns)\n",
    "feat_importance.sort_values(ascending=False)\n",
    "feat_importance.sort_values(ascending=False).plot.bar(figsize=(10,4))"
   ]
  },
  {
   "cell_type": "code",
   "execution_count": 24,
   "id": "1dc3b6b2",
   "metadata": {},
   "outputs": [
    {
     "data": {
      "text/plain": [
       "25"
      ]
     },
     "execution_count": 24,
     "metadata": {},
     "output_type": "execute_result"
    }
   ],
   "source": [
    "len(df.columns)"
   ]
  }
 ],
 "metadata": {
  "kernelspec": {
   "display_name": "Python 3",
   "language": "python",
   "name": "python3"
  },
  "language_info": {
   "codemirror_mode": {
    "name": "ipython",
    "version": 3
   },
   "file_extension": ".py",
   "mimetype": "text/x-python",
   "name": "python",
   "nbconvert_exporter": "python",
   "pygments_lexer": "ipython3",
   "version": "3.7.11"
  },
  "varInspector": {
   "cols": {
    "lenName": 16,
    "lenType": 16,
    "lenVar": 40
   },
   "kernels_config": {
    "python": {
     "delete_cmd_postfix": "",
     "delete_cmd_prefix": "del ",
     "library": "var_list.py",
     "varRefreshCmd": "print(var_dic_list())"
    },
    "r": {
     "delete_cmd_postfix": ") ",
     "delete_cmd_prefix": "rm(",
     "library": "var_list.r",
     "varRefreshCmd": "cat(var_dic_list()) "
    }
   },
   "types_to_exclude": [
    "module",
    "function",
    "builtin_function_or_method",
    "instance",
    "_Feature"
   ],
   "window_display": false
  }
 },
 "nbformat": 4,
 "nbformat_minor": 5
}
