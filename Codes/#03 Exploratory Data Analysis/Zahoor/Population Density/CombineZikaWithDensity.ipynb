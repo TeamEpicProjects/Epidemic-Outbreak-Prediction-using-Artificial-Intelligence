{
 "cells": [
  {
   "cell_type": "markdown",
   "id": "69fa7b99",
   "metadata": {},
   "source": [
    "# Combine zika virus dataset with population density"
   ]
  },
  {
   "cell_type": "code",
   "execution_count": 1,
   "id": "1a11c3fc",
   "metadata": {},
   "outputs": [],
   "source": [
    "# import library\n",
    "import pandas as pd\n",
    "import numpy as np\n",
    "\n",
    "import re\n",
    "import datetime\n",
    "\n",
    "import warnings\n",
    "warnings.simplefilter(\"ignore\")\n",
    "\n",
    "pd.pandas.set_option('display.max_columns',None)"
   ]
  },
  {
   "cell_type": "markdown",
   "id": "aa945d60",
   "metadata": {},
   "source": [
    "# ZikaVirus Dataset\n",
    "Countries : \n",
    "1. Argentina \n",
    "1. Brazil\n",
    "1. Colombia\n",
    "1. Dominican Republic\n",
    "1. Ecuador\n",
    "1. El Salvador\n",
    "1. Guatemala\n",
    "1. Haiti\n",
    "1. Mexico\n",
    "1. Nicaragua\n",
    "1. Pamana\n",
    "1. Puerto Rico\n",
    "1. U.S. Virgin Islands\n",
    "1. United States"
   ]
  },
  {
   "cell_type": "code",
   "execution_count": 64,
   "id": "34aeaed9",
   "metadata": {},
   "outputs": [
    {
     "data": {
      "text/html": [
       "<div>\n",
       "<style scoped>\n",
       "    .dataframe tbody tr th:only-of-type {\n",
       "        vertical-align: middle;\n",
       "    }\n",
       "\n",
       "    .dataframe tbody tr th {\n",
       "        vertical-align: top;\n",
       "    }\n",
       "\n",
       "    .dataframe thead th {\n",
       "        text-align: right;\n",
       "    }\n",
       "</style>\n",
       "<table border=\"1\" class=\"dataframe\">\n",
       "  <thead>\n",
       "    <tr style=\"text-align: right;\">\n",
       "      <th></th>\n",
       "      <th>report_date</th>\n",
       "      <th>location</th>\n",
       "      <th>location_type</th>\n",
       "      <th>data_field</th>\n",
       "      <th>cases</th>\n",
       "    </tr>\n",
       "  </thead>\n",
       "  <tbody>\n",
       "    <tr>\n",
       "      <th>0</th>\n",
       "      <td>2017-01-12</td>\n",
       "      <td>Argentina-Buenos_Aires</td>\n",
       "      <td>province</td>\n",
       "      <td>cumulative_confirmed_imported_cases</td>\n",
       "      <td>0.0</td>\n",
       "    </tr>\n",
       "    <tr>\n",
       "      <th>1</th>\n",
       "      <td>2017-01-12</td>\n",
       "      <td>Argentina-CABA</td>\n",
       "      <td>province</td>\n",
       "      <td>cumulative_confirmed_imported_cases</td>\n",
       "      <td>1.0</td>\n",
       "    </tr>\n",
       "    <tr>\n",
       "      <th>2</th>\n",
       "      <td>2017-01-12</td>\n",
       "      <td>Argentina-Cordoba</td>\n",
       "      <td>province</td>\n",
       "      <td>cumulative_confirmed_imported_cases</td>\n",
       "      <td>2.0</td>\n",
       "    </tr>\n",
       "    <tr>\n",
       "      <th>3</th>\n",
       "      <td>2017-01-12</td>\n",
       "      <td>Argentina-Entre_Rios</td>\n",
       "      <td>province</td>\n",
       "      <td>cumulative_confirmed_imported_cases</td>\n",
       "      <td>0.0</td>\n",
       "    </tr>\n",
       "    <tr>\n",
       "      <th>4</th>\n",
       "      <td>2017-01-12</td>\n",
       "      <td>Argentina-Santa_Fe</td>\n",
       "      <td>province</td>\n",
       "      <td>cumulative_confirmed_imported_cases</td>\n",
       "      <td>2.0</td>\n",
       "    </tr>\n",
       "  </tbody>\n",
       "</table>\n",
       "</div>"
      ],
      "text/plain": [
       "  report_date                location location_type  \\\n",
       "0  2017-01-12  Argentina-Buenos_Aires      province   \n",
       "1  2017-01-12          Argentina-CABA      province   \n",
       "2  2017-01-12       Argentina-Cordoba      province   \n",
       "3  2017-01-12    Argentina-Entre_Rios      province   \n",
       "4  2017-01-12      Argentina-Santa_Fe      province   \n",
       "\n",
       "                            data_field cases  \n",
       "0  cumulative_confirmed_imported_cases   0.0  \n",
       "1  cumulative_confirmed_imported_cases   1.0  \n",
       "2  cumulative_confirmed_imported_cases   2.0  \n",
       "3  cumulative_confirmed_imported_cases   0.0  \n",
       "4  cumulative_confirmed_imported_cases   2.0  "
      ]
     },
     "execution_count": 64,
     "metadata": {},
     "output_type": "execute_result"
    }
   ],
   "source": [
    "zika = pd.read_csv('zikavirus_dataset.csv')\n",
    "zika.head()"
   ]
  },
  {
   "cell_type": "code",
   "execution_count": 65,
   "id": "b564110d",
   "metadata": {},
   "outputs": [
    {
     "data": {
      "text/plain": [
       "(242450, 5)"
      ]
     },
     "execution_count": 65,
     "metadata": {},
     "output_type": "execute_result"
    }
   ],
   "source": [
    "zika.shape"
   ]
  },
  {
   "cell_type": "code",
   "execution_count": 67,
   "id": "0fae2c90",
   "metadata": {},
   "outputs": [],
   "source": [
    "# filter out those rows which does not contain any data\n",
    "zika = zika.dropna(how = 'all')\n",
    "  \n",
    "# Filter all rows for which the report_date is equal to 18437\n",
    "zika.drop(zika[zika['report_date'] == '18437'].index, inplace = True)\n",
    "\n",
    "# covert string to an float\n",
    "zika['cases'] = zika['cases'].astype(float)\n",
    "\n",
    "# Replace nan value with 0,\n",
    "zika['cases'] = zika['cases'].fillna(0)\n",
    "\n",
    "# covert float to an int\n",
    "zika['cases'] = zika['cases'].astype(int)\n",
    "\n",
    "# Convert our report_date columns to datetime datatype\n",
    "zika['report_date'] = pd.to_datetime(zika['report_date'], format=\"%Y-%m-%d\")\n",
    "\n",
    "# create new year and month column from datetime\n",
    "zika['year'] = pd.DatetimeIndex(zika['report_date']).year\n",
    "zika['month'] = pd.DatetimeIndex(zika['report_date']).month"
   ]
  },
  {
   "cell_type": "code",
   "execution_count": 68,
   "id": "c9ebc294",
   "metadata": {},
   "outputs": [
    {
     "data": {
      "text/html": [
       "<div>\n",
       "<style scoped>\n",
       "    .dataframe tbody tr th:only-of-type {\n",
       "        vertical-align: middle;\n",
       "    }\n",
       "\n",
       "    .dataframe tbody tr th {\n",
       "        vertical-align: top;\n",
       "    }\n",
       "\n",
       "    .dataframe thead th {\n",
       "        text-align: right;\n",
       "    }\n",
       "</style>\n",
       "<table border=\"1\" class=\"dataframe\">\n",
       "  <thead>\n",
       "    <tr style=\"text-align: right;\">\n",
       "      <th></th>\n",
       "      <th>report_date</th>\n",
       "      <th>location</th>\n",
       "      <th>location_type</th>\n",
       "      <th>data_field</th>\n",
       "      <th>cases</th>\n",
       "      <th>year</th>\n",
       "      <th>month</th>\n",
       "    </tr>\n",
       "  </thead>\n",
       "  <tbody>\n",
       "    <tr>\n",
       "      <th>0</th>\n",
       "      <td>2017-01-12</td>\n",
       "      <td>Argentina-Buenos_Aires</td>\n",
       "      <td>province</td>\n",
       "      <td>cumulative_confirmed_imported_cases</td>\n",
       "      <td>0</td>\n",
       "      <td>2017.0</td>\n",
       "      <td>1.0</td>\n",
       "    </tr>\n",
       "    <tr>\n",
       "      <th>1</th>\n",
       "      <td>2017-01-12</td>\n",
       "      <td>Argentina-CABA</td>\n",
       "      <td>province</td>\n",
       "      <td>cumulative_confirmed_imported_cases</td>\n",
       "      <td>1</td>\n",
       "      <td>2017.0</td>\n",
       "      <td>1.0</td>\n",
       "    </tr>\n",
       "    <tr>\n",
       "      <th>2</th>\n",
       "      <td>2017-01-12</td>\n",
       "      <td>Argentina-Cordoba</td>\n",
       "      <td>province</td>\n",
       "      <td>cumulative_confirmed_imported_cases</td>\n",
       "      <td>2</td>\n",
       "      <td>2017.0</td>\n",
       "      <td>1.0</td>\n",
       "    </tr>\n",
       "    <tr>\n",
       "      <th>3</th>\n",
       "      <td>2017-01-12</td>\n",
       "      <td>Argentina-Entre_Rios</td>\n",
       "      <td>province</td>\n",
       "      <td>cumulative_confirmed_imported_cases</td>\n",
       "      <td>0</td>\n",
       "      <td>2017.0</td>\n",
       "      <td>1.0</td>\n",
       "    </tr>\n",
       "    <tr>\n",
       "      <th>4</th>\n",
       "      <td>2017-01-12</td>\n",
       "      <td>Argentina-Santa_Fe</td>\n",
       "      <td>province</td>\n",
       "      <td>cumulative_confirmed_imported_cases</td>\n",
       "      <td>2</td>\n",
       "      <td>2017.0</td>\n",
       "      <td>1.0</td>\n",
       "    </tr>\n",
       "  </tbody>\n",
       "</table>\n",
       "</div>"
      ],
      "text/plain": [
       "  report_date                location location_type  \\\n",
       "0  2017-01-12  Argentina-Buenos_Aires      province   \n",
       "1  2017-01-12          Argentina-CABA      province   \n",
       "2  2017-01-12       Argentina-Cordoba      province   \n",
       "3  2017-01-12    Argentina-Entre_Rios      province   \n",
       "4  2017-01-12      Argentina-Santa_Fe      province   \n",
       "\n",
       "                            data_field  cases    year  month  \n",
       "0  cumulative_confirmed_imported_cases      0  2017.0    1.0  \n",
       "1  cumulative_confirmed_imported_cases      1  2017.0    1.0  \n",
       "2  cumulative_confirmed_imported_cases      2  2017.0    1.0  \n",
       "3  cumulative_confirmed_imported_cases      0  2017.0    1.0  \n",
       "4  cumulative_confirmed_imported_cases      2  2017.0    1.0  "
      ]
     },
     "execution_count": 68,
     "metadata": {},
     "output_type": "execute_result"
    }
   ],
   "source": [
    "zika.head()"
   ]
  },
  {
   "cell_type": "markdown",
   "id": "14ca410e",
   "metadata": {},
   "source": [
    "# Population Density Dataset\n",
    "Dataset contain population density per km of 14 countries"
   ]
  },
  {
   "cell_type": "code",
   "execution_count": 76,
   "id": "0e90d1dd",
   "metadata": {},
   "outputs": [
    {
     "data": {
      "text/html": [
       "<div>\n",
       "<style scoped>\n",
       "    .dataframe tbody tr th:only-of-type {\n",
       "        vertical-align: middle;\n",
       "    }\n",
       "\n",
       "    .dataframe tbody tr th {\n",
       "        vertical-align: top;\n",
       "    }\n",
       "\n",
       "    .dataframe thead th {\n",
       "        text-align: right;\n",
       "    }\n",
       "</style>\n",
       "<table border=\"1\" class=\"dataframe\">\n",
       "  <thead>\n",
       "    <tr style=\"text-align: right;\">\n",
       "      <th></th>\n",
       "      <th>location</th>\n",
       "      <th>density_per_km</th>\n",
       "    </tr>\n",
       "  </thead>\n",
       "  <tbody>\n",
       "    <tr>\n",
       "      <th>0</th>\n",
       "      <td>Argentina-Buenos_Aires</td>\n",
       "      <td>12625.800781</td>\n",
       "    </tr>\n",
       "    <tr>\n",
       "      <th>1</th>\n",
       "      <td>Argentina-CABA</td>\n",
       "      <td>12625.800781</td>\n",
       "    </tr>\n",
       "    <tr>\n",
       "      <th>2</th>\n",
       "      <td>Argentina-Cordoba</td>\n",
       "      <td>2404.108887</td>\n",
       "    </tr>\n",
       "    <tr>\n",
       "      <th>3</th>\n",
       "      <td>Argentina-Entre_Rios</td>\n",
       "      <td>72.495293</td>\n",
       "    </tr>\n",
       "    <tr>\n",
       "      <th>4</th>\n",
       "      <td>Argentina-Santa_Fe</td>\n",
       "      <td>208.092285</td>\n",
       "    </tr>\n",
       "  </tbody>\n",
       "</table>\n",
       "</div>"
      ],
      "text/plain": [
       "                 location  density_per_km\n",
       "0  Argentina-Buenos_Aires    12625.800781\n",
       "1          Argentina-CABA    12625.800781\n",
       "2       Argentina-Cordoba     2404.108887\n",
       "3    Argentina-Entre_Rios       72.495293\n",
       "4      Argentina-Santa_Fe      208.092285"
      ]
     },
     "execution_count": 76,
     "metadata": {},
     "output_type": "execute_result"
    }
   ],
   "source": [
    "popden = pd.read_csv('06_population_density.csv')\n",
    "popden.head()"
   ]
  },
  {
   "cell_type": "code",
   "execution_count": 77,
   "id": "9369bb0e",
   "metadata": {},
   "outputs": [
    {
     "data": {
      "text/plain": [
       "(1714, 2)"
      ]
     },
     "execution_count": 77,
     "metadata": {},
     "output_type": "execute_result"
    }
   ],
   "source": [
    "popden.shape"
   ]
  },
  {
   "cell_type": "markdown",
   "id": "0d840454",
   "metadata": {},
   "source": [
    "## Location (countries) wise total cases"
   ]
  },
  {
   "cell_type": "code",
   "execution_count": 115,
   "id": "8c6976f0",
   "metadata": {},
   "outputs": [
    {
     "data": {
      "text/html": [
       "<div>\n",
       "<style scoped>\n",
       "    .dataframe tbody tr th:only-of-type {\n",
       "        vertical-align: middle;\n",
       "    }\n",
       "\n",
       "    .dataframe tbody tr th {\n",
       "        vertical-align: top;\n",
       "    }\n",
       "\n",
       "    .dataframe thead th {\n",
       "        text-align: right;\n",
       "    }\n",
       "</style>\n",
       "<table border=\"1\" class=\"dataframe\">\n",
       "  <thead>\n",
       "    <tr style=\"text-align: right;\">\n",
       "      <th></th>\n",
       "      <th>location</th>\n",
       "      <th>sum</th>\n",
       "    </tr>\n",
       "  </thead>\n",
       "  <tbody>\n",
       "    <tr>\n",
       "      <th>0</th>\n",
       "      <td>Argentina-Buenos_Aires</td>\n",
       "      <td>793</td>\n",
       "    </tr>\n",
       "    <tr>\n",
       "      <th>1</th>\n",
       "      <td>Argentina-CABA</td>\n",
       "      <td>647</td>\n",
       "    </tr>\n",
       "    <tr>\n",
       "      <th>2</th>\n",
       "      <td>Argentina-Catamarca</td>\n",
       "      <td>59</td>\n",
       "    </tr>\n",
       "    <tr>\n",
       "      <th>3</th>\n",
       "      <td>Argentina-Chaco</td>\n",
       "      <td>460</td>\n",
       "    </tr>\n",
       "    <tr>\n",
       "      <th>4</th>\n",
       "      <td>Argentina-Chubut</td>\n",
       "      <td>47</td>\n",
       "    </tr>\n",
       "  </tbody>\n",
       "</table>\n",
       "</div>"
      ],
      "text/plain": [
       "                 location  sum\n",
       "0  Argentina-Buenos_Aires  793\n",
       "1          Argentina-CABA  647\n",
       "2     Argentina-Catamarca   59\n",
       "3         Argentina-Chaco  460\n",
       "4        Argentina-Chubut   47"
      ]
     },
     "execution_count": 115,
     "metadata": {},
     "output_type": "execute_result"
    }
   ],
   "source": [
    "# Location (countries) wise total cases\n",
    "zika_location = zika.groupby(['location']).cases.agg([sum])\n",
    "zika_location = zika_location.reset_index()\n",
    "zika_location.head()"
   ]
  },
  {
   "cell_type": "code",
   "execution_count": 116,
   "id": "732ea92a",
   "metadata": {},
   "outputs": [
    {
     "data": {
      "text/html": [
       "<div>\n",
       "<style scoped>\n",
       "    .dataframe tbody tr th:only-of-type {\n",
       "        vertical-align: middle;\n",
       "    }\n",
       "\n",
       "    .dataframe tbody tr th {\n",
       "        vertical-align: top;\n",
       "    }\n",
       "\n",
       "    .dataframe thead th {\n",
       "        text-align: right;\n",
       "    }\n",
       "</style>\n",
       "<table border=\"1\" class=\"dataframe\">\n",
       "  <thead>\n",
       "    <tr style=\"text-align: right;\">\n",
       "      <th></th>\n",
       "      <th>location</th>\n",
       "      <th>sum</th>\n",
       "      <th>density_per_km</th>\n",
       "    </tr>\n",
       "  </thead>\n",
       "  <tbody>\n",
       "    <tr>\n",
       "      <th>0</th>\n",
       "      <td>Argentina-Buenos_Aires</td>\n",
       "      <td>793</td>\n",
       "      <td>12625.800781</td>\n",
       "    </tr>\n",
       "    <tr>\n",
       "      <th>1</th>\n",
       "      <td>Argentina-CABA</td>\n",
       "      <td>647</td>\n",
       "      <td>12625.800781</td>\n",
       "    </tr>\n",
       "    <tr>\n",
       "      <th>2</th>\n",
       "      <td>Argentina-Catamarca</td>\n",
       "      <td>59</td>\n",
       "      <td>460.153595</td>\n",
       "    </tr>\n",
       "    <tr>\n",
       "      <th>3</th>\n",
       "      <td>Argentina-Chaco</td>\n",
       "      <td>460</td>\n",
       "      <td>121.331650</td>\n",
       "    </tr>\n",
       "    <tr>\n",
       "      <th>4</th>\n",
       "      <td>Argentina-Chubut</td>\n",
       "      <td>47</td>\n",
       "      <td>37.095642</td>\n",
       "    </tr>\n",
       "  </tbody>\n",
       "</table>\n",
       "</div>"
      ],
      "text/plain": [
       "                 location  sum  density_per_km\n",
       "0  Argentina-Buenos_Aires  793    12625.800781\n",
       "1          Argentina-CABA  647    12625.800781\n",
       "2     Argentina-Catamarca   59      460.153595\n",
       "3         Argentina-Chaco  460      121.331650\n",
       "4        Argentina-Chubut   47       37.095642"
      ]
     },
     "execution_count": 116,
     "metadata": {},
     "output_type": "execute_result"
    }
   ],
   "source": [
    "# location wise population density_per_km \n",
    "zika_location = pd.merge(zika_location, popden, on=['location'], how='left') \n",
    "zika_location.head()"
   ]
  },
  {
   "cell_type": "code",
   "execution_count": 117,
   "id": "ee56d723",
   "metadata": {},
   "outputs": [
    {
     "data": {
      "text/plain": [
       "location            0\n",
       "sum                 0\n",
       "density_per_km    122\n",
       "dtype: int64"
      ]
     },
     "execution_count": 117,
     "metadata": {},
     "output_type": "execute_result"
    }
   ],
   "source": [
    "zika_location.isnull().sum()"
   ]
  },
  {
   "cell_type": "code",
   "execution_count": 118,
   "id": "e271b607",
   "metadata": {},
   "outputs": [
    {
     "data": {
      "text/plain": [
       "70.99121856689453"
      ]
     },
     "execution_count": 118,
     "metadata": {},
     "output_type": "execute_result"
    }
   ],
   "source": [
    "zika_location['density_per_km'].median()"
   ]
  },
  {
   "cell_type": "code",
   "execution_count": 119,
   "id": "d30f25a3",
   "metadata": {},
   "outputs": [],
   "source": [
    "zika_location['density_per_km'].fillna(zika_location['density_per_km'].median(), inplace=True)"
   ]
  },
  {
   "cell_type": "code",
   "execution_count": 120,
   "id": "c6657c37",
   "metadata": {},
   "outputs": [
    {
     "data": {
      "text/plain": [
       "location          0\n",
       "sum               0\n",
       "density_per_km    0\n",
       "dtype: int64"
      ]
     },
     "execution_count": 120,
     "metadata": {},
     "output_type": "execute_result"
    }
   ],
   "source": [
    "zika_location.isnull().sum()"
   ]
  },
  {
   "cell_type": "code",
   "execution_count": 124,
   "id": "f224e9fb",
   "metadata": {},
   "outputs": [],
   "source": [
    "zika_location = zika_location.rename(columns = {'sum': 'cases'}, inplace = False)\n",
    "zika_location.to_csv('Data/ZikaWithDensity.csv', index=False )"
   ]
  }
 ],
 "metadata": {
  "kernelspec": {
   "display_name": "Python 3",
   "language": "python",
   "name": "python3"
  },
  "language_info": {
   "codemirror_mode": {
    "name": "ipython",
    "version": 3
   },
   "file_extension": ".py",
   "mimetype": "text/x-python",
   "name": "python",
   "nbconvert_exporter": "python",
   "pygments_lexer": "ipython3",
   "version": "3.7.11"
  },
  "toc": {
   "base_numbering": 1,
   "nav_menu": {},
   "number_sections": true,
   "sideBar": true,
   "skip_h1_title": false,
   "title_cell": "Table of Contents",
   "title_sidebar": "Contents",
   "toc_cell": false,
   "toc_position": {},
   "toc_section_display": true,
   "toc_window_display": false
  },
  "varInspector": {
   "cols": {
    "lenName": 16,
    "lenType": 16,
    "lenVar": 40
   },
   "kernels_config": {
    "python": {
     "delete_cmd_postfix": "",
     "delete_cmd_prefix": "del ",
     "library": "var_list.py",
     "varRefreshCmd": "print(var_dic_list())"
    },
    "r": {
     "delete_cmd_postfix": ") ",
     "delete_cmd_prefix": "rm(",
     "library": "var_list.r",
     "varRefreshCmd": "cat(var_dic_list()) "
    }
   },
   "types_to_exclude": [
    "module",
    "function",
    "builtin_function_or_method",
    "instance",
    "_Feature"
   ],
   "window_display": false
  }
 },
 "nbformat": 4,
 "nbformat_minor": 5
}
