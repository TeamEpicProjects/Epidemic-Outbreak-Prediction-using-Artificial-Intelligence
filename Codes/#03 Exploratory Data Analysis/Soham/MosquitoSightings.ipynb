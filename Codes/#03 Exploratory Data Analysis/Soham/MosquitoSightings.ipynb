{
  "nbformat": 4,
  "nbformat_minor": 0,
  "metadata": {
    "colab": {
      "name": "MosquitoSightings.ipynb",
      "provenance": []
    },
    "kernelspec": {
      "name": "python3",
      "display_name": "Python 3"
    },
    "language_info": {
      "name": "python"
    }
  },
  "cells": [
    {
      "cell_type": "code",
      "metadata": {
        "id": "07X41dv3Vc72"
      },
      "source": [
        "#import libraries\n",
        "import pandas as pd\n",
        "import numpy as np\n",
        "import seaborn as sns\n",
        "import matplotlib.pyplot as plt"
      ],
      "execution_count": null,
      "outputs": []
    },
    {
      "cell_type": "code",
      "metadata": {
        "colab": {
          "base_uri": "https://localhost:8080/",
          "height": 202
        },
        "id": "0SF1Of_QVvWL",
        "outputId": "a8a6d876-c768-46bb-a741-533ab3acfb4d"
      },
      "source": [
        "#read file\n",
        "mosquito = pd.read_csv('05_mosquito_sightings.csv')\n",
        "mosquito.head()"
      ],
      "execution_count": null,
      "outputs": [
        {
          "output_type": "execute_result",
          "data": {
            "text/html": [
              "<div>\n",
              "<style scoped>\n",
              "    .dataframe tbody tr th:only-of-type {\n",
              "        vertical-align: middle;\n",
              "    }\n",
              "\n",
              "    .dataframe tbody tr th {\n",
              "        vertical-align: top;\n",
              "    }\n",
              "\n",
              "    .dataframe thead th {\n",
              "        text-align: right;\n",
              "    }\n",
              "</style>\n",
              "<table border=\"1\" class=\"dataframe\">\n",
              "  <thead>\n",
              "    <tr style=\"text-align: right;\">\n",
              "      <th></th>\n",
              "      <th>vector</th>\n",
              "      <th>occurrence_id</th>\n",
              "      <th>source_type</th>\n",
              "      <th>location_type</th>\n",
              "      <th>polygon_admin</th>\n",
              "      <th>latitude</th>\n",
              "      <th>longitude</th>\n",
              "      <th>year</th>\n",
              "      <th>country</th>\n",
              "      <th>country_id</th>\n",
              "      <th>gaul_ad0</th>\n",
              "      <th>status</th>\n",
              "    </tr>\n",
              "  </thead>\n",
              "  <tbody>\n",
              "    <tr>\n",
              "      <th>0</th>\n",
              "      <td>Aedes albopictus</td>\n",
              "      <td>34479</td>\n",
              "      <td>unpublished</td>\n",
              "      <td>point</td>\n",
              "      <td>-999</td>\n",
              "      <td>22.89</td>\n",
              "      <td>120.44</td>\n",
              "      <td>2006</td>\n",
              "      <td>Taiwan</td>\n",
              "      <td>TWN</td>\n",
              "      <td>886</td>\n",
              "      <td>NaN</td>\n",
              "    </tr>\n",
              "    <tr>\n",
              "      <th>1</th>\n",
              "      <td>Aedes albopictus</td>\n",
              "      <td>34478</td>\n",
              "      <td>unpublished</td>\n",
              "      <td>point</td>\n",
              "      <td>-999</td>\n",
              "      <td>22.86</td>\n",
              "      <td>120.40</td>\n",
              "      <td>2006</td>\n",
              "      <td>Taiwan</td>\n",
              "      <td>TWN</td>\n",
              "      <td>886</td>\n",
              "      <td>NaN</td>\n",
              "    </tr>\n",
              "    <tr>\n",
              "      <th>2</th>\n",
              "      <td>Aedes albopictus</td>\n",
              "      <td>34481</td>\n",
              "      <td>unpublished</td>\n",
              "      <td>point</td>\n",
              "      <td>-999</td>\n",
              "      <td>22.94</td>\n",
              "      <td>120.24</td>\n",
              "      <td>2006</td>\n",
              "      <td>Taiwan</td>\n",
              "      <td>TWN</td>\n",
              "      <td>886</td>\n",
              "      <td>NaN</td>\n",
              "    </tr>\n",
              "    <tr>\n",
              "      <th>3</th>\n",
              "      <td>Aedes albopictus</td>\n",
              "      <td>34480</td>\n",
              "      <td>unpublished</td>\n",
              "      <td>point</td>\n",
              "      <td>-999</td>\n",
              "      <td>23.40</td>\n",
              "      <td>120.36</td>\n",
              "      <td>2006</td>\n",
              "      <td>Taiwan</td>\n",
              "      <td>TWN</td>\n",
              "      <td>886</td>\n",
              "      <td>NaN</td>\n",
              "    </tr>\n",
              "    <tr>\n",
              "      <th>4</th>\n",
              "      <td>Aedes albopictus</td>\n",
              "      <td>34494</td>\n",
              "      <td>unpublished</td>\n",
              "      <td>point</td>\n",
              "      <td>-999</td>\n",
              "      <td>22.91</td>\n",
              "      <td>120.48</td>\n",
              "      <td>2006</td>\n",
              "      <td>Taiwan</td>\n",
              "      <td>TWN</td>\n",
              "      <td>886</td>\n",
              "      <td>NaN</td>\n",
              "    </tr>\n",
              "  </tbody>\n",
              "</table>\n",
              "</div>"
            ],
            "text/plain": [
              "             vector  occurrence_id  source_type  ... country_id gaul_ad0  status\n",
              "0  Aedes albopictus          34479  unpublished  ...        TWN      886     NaN\n",
              "1  Aedes albopictus          34478  unpublished  ...        TWN      886     NaN\n",
              "2  Aedes albopictus          34481  unpublished  ...        TWN      886     NaN\n",
              "3  Aedes albopictus          34480  unpublished  ...        TWN      886     NaN\n",
              "4  Aedes albopictus          34494  unpublished  ...        TWN      886     NaN\n",
              "\n",
              "[5 rows x 12 columns]"
            ]
          },
          "metadata": {},
          "execution_count": 2
        }
      ]
    },
    {
      "cell_type": "code",
      "metadata": {
        "colab": {
          "base_uri": "https://localhost:8080/"
        },
        "id": "1cGpqtQHV2Wq",
        "outputId": "3fa5a765-3d93-4094-a1df-46422da65211"
      },
      "source": [
        "mosquito.shape"
      ],
      "execution_count": null,
      "outputs": [
        {
          "output_type": "execute_result",
          "data": {
            "text/plain": [
              "(24019, 12)"
            ]
          },
          "metadata": {},
          "execution_count": 3
        }
      ]
    },
    {
      "cell_type": "code",
      "metadata": {
        "colab": {
          "base_uri": "https://localhost:8080/"
        },
        "id": "pms6Y2lHV43X",
        "outputId": "e340ab85-dcdb-456f-a98a-7361d9f467e4"
      },
      "source": [
        "mosquito.vector.unique()"
      ],
      "execution_count": null,
      "outputs": [
        {
          "output_type": "execute_result",
          "data": {
            "text/plain": [
              "array(['Aedes albopictus', 'Aedes aegypti'], dtype=object)"
            ]
          },
          "metadata": {},
          "execution_count": 4
        }
      ]
    },
    {
      "cell_type": "code",
      "metadata": {
        "colab": {
          "base_uri": "https://localhost:8080/"
        },
        "id": "oGb4l47mV7cY",
        "outputId": "990da285-5d47-4808-ed23-7e007bd39b1b"
      },
      "source": [
        "mosquito.country.unique()"
      ],
      "execution_count": null,
      "outputs": [
        {
          "output_type": "execute_result",
          "data": {
            "text/plain": [
              "array(['Taiwan', 'India', 'Sri Lanka', 'Costa Rica', 'Viet Nam',\n",
              "       'Trinidad and Tobago', 'Venezuela', 'Cameroon', 'Colombia',\n",
              "       'Brazil', 'Indonesia', 'French Guiana', 'Philippines', 'Nigeria',\n",
              "       'Senegal', 'Thailand', 'Gabon', 'Australia', 'Bolivia', 'Mayotte',\n",
              "       'Peru', 'Mexico', 'Malaysia', 'Hong Kong', 'Japan', 'China',\n",
              "       'R?union', 'United States', 'Madagascar', 'Netherlands', 'Albania',\n",
              "       'Italy', 'Guadeloupe', 'Puerto Rico', 'Myanmar', 'Cuba',\n",
              "       'Bangladesh', 'Saudi Arabia', 'Argentina', 'Paraguay', 'Israel',\n",
              "       'West Bank', 'Seychelles', 'Glorioso Island', 'Mauritius',\n",
              "       'Slovenia', 'Nicaragua', 'Bermuda', 'El Salvador', 'Maldives',\n",
              "       'Uruguay', 'Kenya', 'Comoros', 'Cayman Islands', 'Georgia',\n",
              "       'Singapore', \"Lao People's Democratic Republic\", 'Greece',\n",
              "       'Pakistan', 'Sudan', 'New Caledonia', 'Martinique', 'Yemen',\n",
              "       \"C?te d'Ivoire\", 'Uganda', 'Antigua and Barbuda', 'Serbia',\n",
              "       'French Polynesia', 'Central African Republic', 'France', 'Belize',\n",
              "       'Algeria', 'Saint Kitts and Nevis', 'Guam', 'Lebanon', 'Haiti',\n",
              "       'Korea, Republic of', 'Marshall Islands', 'Malta', 'Spain',\n",
              "       'Switzerland', 'Belgium', 'Nepal', 'Croatia',\n",
              "       'Bosnia and Herzegovina', 'Montenegro', 'Congo', 'Tonga',\n",
              "       'Bulgaria', 'Russian Federation', 'Turkey', 'Germany', 'Austria',\n",
              "       'Czech Republic', 'Brunei Darussalam', 'Romania', 'Slovakia',\n",
              "       'Zambia'], dtype=object)"
            ]
          },
          "metadata": {},
          "execution_count": 5
        }
      ]
    },
    {
      "cell_type": "code",
      "metadata": {
        "colab": {
          "base_uri": "https://localhost:8080/",
          "height": 202
        },
        "id": "ECz5Wly3WDhI",
        "outputId": "be87dbaa-8946-4521-dbdf-6e82a705f71b"
      },
      "source": [
        "#dropping unnecessary columns\n",
        "mosquitoes = mosquito[['vector', 'latitude', 'longitude', 'year', 'country']]\n",
        "mosquitoes.head()"
      ],
      "execution_count": null,
      "outputs": [
        {
          "output_type": "execute_result",
          "data": {
            "text/html": [
              "<div>\n",
              "<style scoped>\n",
              "    .dataframe tbody tr th:only-of-type {\n",
              "        vertical-align: middle;\n",
              "    }\n",
              "\n",
              "    .dataframe tbody tr th {\n",
              "        vertical-align: top;\n",
              "    }\n",
              "\n",
              "    .dataframe thead th {\n",
              "        text-align: right;\n",
              "    }\n",
              "</style>\n",
              "<table border=\"1\" class=\"dataframe\">\n",
              "  <thead>\n",
              "    <tr style=\"text-align: right;\">\n",
              "      <th></th>\n",
              "      <th>vector</th>\n",
              "      <th>latitude</th>\n",
              "      <th>longitude</th>\n",
              "      <th>year</th>\n",
              "      <th>country</th>\n",
              "    </tr>\n",
              "  </thead>\n",
              "  <tbody>\n",
              "    <tr>\n",
              "      <th>0</th>\n",
              "      <td>Aedes albopictus</td>\n",
              "      <td>22.89</td>\n",
              "      <td>120.44</td>\n",
              "      <td>2006</td>\n",
              "      <td>Taiwan</td>\n",
              "    </tr>\n",
              "    <tr>\n",
              "      <th>1</th>\n",
              "      <td>Aedes albopictus</td>\n",
              "      <td>22.86</td>\n",
              "      <td>120.40</td>\n",
              "      <td>2006</td>\n",
              "      <td>Taiwan</td>\n",
              "    </tr>\n",
              "    <tr>\n",
              "      <th>2</th>\n",
              "      <td>Aedes albopictus</td>\n",
              "      <td>22.94</td>\n",
              "      <td>120.24</td>\n",
              "      <td>2006</td>\n",
              "      <td>Taiwan</td>\n",
              "    </tr>\n",
              "    <tr>\n",
              "      <th>3</th>\n",
              "      <td>Aedes albopictus</td>\n",
              "      <td>23.40</td>\n",
              "      <td>120.36</td>\n",
              "      <td>2006</td>\n",
              "      <td>Taiwan</td>\n",
              "    </tr>\n",
              "    <tr>\n",
              "      <th>4</th>\n",
              "      <td>Aedes albopictus</td>\n",
              "      <td>22.91</td>\n",
              "      <td>120.48</td>\n",
              "      <td>2006</td>\n",
              "      <td>Taiwan</td>\n",
              "    </tr>\n",
              "  </tbody>\n",
              "</table>\n",
              "</div>"
            ],
            "text/plain": [
              "             vector  latitude  longitude  year country\n",
              "0  Aedes albopictus     22.89     120.44  2006  Taiwan\n",
              "1  Aedes albopictus     22.86     120.40  2006  Taiwan\n",
              "2  Aedes albopictus     22.94     120.24  2006  Taiwan\n",
              "3  Aedes albopictus     23.40     120.36  2006  Taiwan\n",
              "4  Aedes albopictus     22.91     120.48  2006  Taiwan"
            ]
          },
          "metadata": {},
          "execution_count": 6
        }
      ]
    },
    {
      "cell_type": "code",
      "metadata": {
        "colab": {
          "base_uri": "https://localhost:8080/",
          "height": 202
        },
        "id": "JCDxk80PWGym",
        "outputId": "7e8c4319-85db-47e6-cab7-0a27c8d5dc0e"
      },
      "source": [
        "#argentina\n",
        "mosquito_arg = mosquitoes[mosquitoes['country'].str.startswith('Argentina')].reset_index(drop='True')\n",
        "mosquito_arg.head()"
      ],
      "execution_count": null,
      "outputs": [
        {
          "output_type": "execute_result",
          "data": {
            "text/html": [
              "<div>\n",
              "<style scoped>\n",
              "    .dataframe tbody tr th:only-of-type {\n",
              "        vertical-align: middle;\n",
              "    }\n",
              "\n",
              "    .dataframe tbody tr th {\n",
              "        vertical-align: top;\n",
              "    }\n",
              "\n",
              "    .dataframe thead th {\n",
              "        text-align: right;\n",
              "    }\n",
              "</style>\n",
              "<table border=\"1\" class=\"dataframe\">\n",
              "  <thead>\n",
              "    <tr style=\"text-align: right;\">\n",
              "      <th></th>\n",
              "      <th>vector</th>\n",
              "      <th>latitude</th>\n",
              "      <th>longitude</th>\n",
              "      <th>year</th>\n",
              "      <th>country</th>\n",
              "    </tr>\n",
              "  </thead>\n",
              "  <tbody>\n",
              "    <tr>\n",
              "      <th>0</th>\n",
              "      <td>Aedes aegypti</td>\n",
              "      <td>-22.02</td>\n",
              "      <td>-63.68</td>\n",
              "      <td>2006</td>\n",
              "      <td>Argentina</td>\n",
              "    </tr>\n",
              "    <tr>\n",
              "      <th>1</th>\n",
              "      <td>Aedes aegypti</td>\n",
              "      <td>-34.58</td>\n",
              "      <td>-58.50</td>\n",
              "      <td>2006</td>\n",
              "      <td>Argentina</td>\n",
              "    </tr>\n",
              "    <tr>\n",
              "      <th>2</th>\n",
              "      <td>Aedes aegypti</td>\n",
              "      <td>-31.40</td>\n",
              "      <td>-64.18</td>\n",
              "      <td>2006</td>\n",
              "      <td>Argentina</td>\n",
              "    </tr>\n",
              "    <tr>\n",
              "      <th>3</th>\n",
              "      <td>Aedes aegypti</td>\n",
              "      <td>-25.61</td>\n",
              "      <td>-54.58</td>\n",
              "      <td>2006</td>\n",
              "      <td>Argentina</td>\n",
              "    </tr>\n",
              "    <tr>\n",
              "      <th>4</th>\n",
              "      <td>Aedes aegypti</td>\n",
              "      <td>-23.14</td>\n",
              "      <td>-64.32</td>\n",
              "      <td>2006</td>\n",
              "      <td>Argentina</td>\n",
              "    </tr>\n",
              "  </tbody>\n",
              "</table>\n",
              "</div>"
            ],
            "text/plain": [
              "          vector  latitude  longitude  year    country\n",
              "0  Aedes aegypti    -22.02     -63.68  2006  Argentina\n",
              "1  Aedes aegypti    -34.58     -58.50  2006  Argentina\n",
              "2  Aedes aegypti    -31.40     -64.18  2006  Argentina\n",
              "3  Aedes aegypti    -25.61     -54.58  2006  Argentina\n",
              "4  Aedes aegypti    -23.14     -64.32  2006  Argentina"
            ]
          },
          "metadata": {},
          "execution_count": 7
        }
      ]
    },
    {
      "cell_type": "code",
      "metadata": {
        "colab": {
          "base_uri": "https://localhost:8080/",
          "height": 202
        },
        "id": "fr8DkfCVV7kw",
        "outputId": "c9fdb6c6-71b4-40ad-ab59-3ced911c1df0"
      },
      "source": [
        "#brazil\n",
        "mosquito_braz = mosquitoes[mosquitoes['country'].str.startswith('Brazil')].reset_index(drop='True')\n",
        "mosquito_braz.head()"
      ],
      "execution_count": null,
      "outputs": [
        {
          "output_type": "execute_result",
          "data": {
            "text/html": [
              "<div>\n",
              "<style scoped>\n",
              "    .dataframe tbody tr th:only-of-type {\n",
              "        vertical-align: middle;\n",
              "    }\n",
              "\n",
              "    .dataframe tbody tr th {\n",
              "        vertical-align: top;\n",
              "    }\n",
              "\n",
              "    .dataframe thead th {\n",
              "        text-align: right;\n",
              "    }\n",
              "</style>\n",
              "<table border=\"1\" class=\"dataframe\">\n",
              "  <thead>\n",
              "    <tr style=\"text-align: right;\">\n",
              "      <th></th>\n",
              "      <th>vector</th>\n",
              "      <th>latitude</th>\n",
              "      <th>longitude</th>\n",
              "      <th>year</th>\n",
              "      <th>country</th>\n",
              "    </tr>\n",
              "  </thead>\n",
              "  <tbody>\n",
              "    <tr>\n",
              "      <th>0</th>\n",
              "      <td>Aedes aegypti</td>\n",
              "      <td>2.83</td>\n",
              "      <td>-60.66</td>\n",
              "      <td>2006</td>\n",
              "      <td>Brazil</td>\n",
              "    </tr>\n",
              "    <tr>\n",
              "      <th>1</th>\n",
              "      <td>Aedes aegypti</td>\n",
              "      <td>-15.62</td>\n",
              "      <td>-56.09</td>\n",
              "      <td>2006</td>\n",
              "      <td>Brazil</td>\n",
              "    </tr>\n",
              "    <tr>\n",
              "      <th>2</th>\n",
              "      <td>Aedes aegypti</td>\n",
              "      <td>-9.98</td>\n",
              "      <td>-67.81</td>\n",
              "      <td>2006</td>\n",
              "      <td>Brazil</td>\n",
              "    </tr>\n",
              "    <tr>\n",
              "      <th>3</th>\n",
              "      <td>Aedes aegypti</td>\n",
              "      <td>-21.21</td>\n",
              "      <td>-47.82</td>\n",
              "      <td>2006</td>\n",
              "      <td>Brazil</td>\n",
              "    </tr>\n",
              "    <tr>\n",
              "      <th>4</th>\n",
              "      <td>Aedes aegypti</td>\n",
              "      <td>-21.21</td>\n",
              "      <td>-44.82</td>\n",
              "      <td>2006</td>\n",
              "      <td>Brazil</td>\n",
              "    </tr>\n",
              "  </tbody>\n",
              "</table>\n",
              "</div>"
            ],
            "text/plain": [
              "          vector  latitude  longitude  year country\n",
              "0  Aedes aegypti      2.83     -60.66  2006  Brazil\n",
              "1  Aedes aegypti    -15.62     -56.09  2006  Brazil\n",
              "2  Aedes aegypti     -9.98     -67.81  2006  Brazil\n",
              "3  Aedes aegypti    -21.21     -47.82  2006  Brazil\n",
              "4  Aedes aegypti    -21.21     -44.82  2006  Brazil"
            ]
          },
          "metadata": {},
          "execution_count": 8
        }
      ]
    },
    {
      "cell_type": "code",
      "metadata": {
        "colab": {
          "base_uri": "https://localhost:8080/",
          "height": 202
        },
        "id": "BHXrQvW8Xer3",
        "outputId": "c1bf1d2d-fe72-416d-f9e9-a7792c5662c4"
      },
      "source": [
        "mosquito_col = mosquitoes[mosquitoes['country'].str.startswith('Colombia')].reset_index(drop='True')\n",
        "mosquito_col.head()"
      ],
      "execution_count": null,
      "outputs": [
        {
          "output_type": "execute_result",
          "data": {
            "text/html": [
              "<div>\n",
              "<style scoped>\n",
              "    .dataframe tbody tr th:only-of-type {\n",
              "        vertical-align: middle;\n",
              "    }\n",
              "\n",
              "    .dataframe tbody tr th {\n",
              "        vertical-align: top;\n",
              "    }\n",
              "\n",
              "    .dataframe thead th {\n",
              "        text-align: right;\n",
              "    }\n",
              "</style>\n",
              "<table border=\"1\" class=\"dataframe\">\n",
              "  <thead>\n",
              "    <tr style=\"text-align: right;\">\n",
              "      <th></th>\n",
              "      <th>vector</th>\n",
              "      <th>latitude</th>\n",
              "      <th>longitude</th>\n",
              "      <th>year</th>\n",
              "      <th>country</th>\n",
              "    </tr>\n",
              "  </thead>\n",
              "  <tbody>\n",
              "    <tr>\n",
              "      <th>0</th>\n",
              "      <td>Aedes aegypti</td>\n",
              "      <td>0.67</td>\n",
              "      <td>-76.87</td>\n",
              "      <td>2006</td>\n",
              "      <td>Colombia</td>\n",
              "    </tr>\n",
              "    <tr>\n",
              "      <th>1</th>\n",
              "      <td>Aedes aegypti</td>\n",
              "      <td>0.68</td>\n",
              "      <td>-76.58</td>\n",
              "      <td>2006</td>\n",
              "      <td>Colombia</td>\n",
              "    </tr>\n",
              "    <tr>\n",
              "      <th>2</th>\n",
              "      <td>Aedes aegypti</td>\n",
              "      <td>3.45</td>\n",
              "      <td>-76.52</td>\n",
              "      <td>2006</td>\n",
              "      <td>Colombia</td>\n",
              "    </tr>\n",
              "    <tr>\n",
              "      <th>3</th>\n",
              "      <td>Aedes aegypti</td>\n",
              "      <td>5.69</td>\n",
              "      <td>-76.65</td>\n",
              "      <td>2006</td>\n",
              "      <td>Colombia</td>\n",
              "    </tr>\n",
              "    <tr>\n",
              "      <th>4</th>\n",
              "      <td>Aedes aegypti</td>\n",
              "      <td>6.34</td>\n",
              "      <td>-75.56</td>\n",
              "      <td>2006</td>\n",
              "      <td>Colombia</td>\n",
              "    </tr>\n",
              "  </tbody>\n",
              "</table>\n",
              "</div>"
            ],
            "text/plain": [
              "          vector  latitude  longitude  year   country\n",
              "0  Aedes aegypti      0.67     -76.87  2006  Colombia\n",
              "1  Aedes aegypti      0.68     -76.58  2006  Colombia\n",
              "2  Aedes aegypti      3.45     -76.52  2006  Colombia\n",
              "3  Aedes aegypti      5.69     -76.65  2006  Colombia\n",
              "4  Aedes aegypti      6.34     -75.56  2006  Colombia"
            ]
          },
          "metadata": {},
          "execution_count": 9
        }
      ]
    },
    {
      "cell_type": "code",
      "metadata": {
        "id": "orWrubKlXmOl"
      },
      "source": [
        "mosquito_mex = mosquitoes[mosquitoes['country'].str.startswith('Mexico')].reset_index(drop='True')\n",
        "mosquito_us = mosquitoes[mosquitoes['country'].str.startswith('United States')].reset_index(drop='True')\n",
        "mosquito_puerto = mosquitoes[mosquitoes['country'].str.startswith('Puerto Rico')].reset_index(drop='True')\n",
        "mosquito_nic = mosquitoes[mosquitoes['country'].str.startswith('Nicaragua')].reset_index(drop='True')\n",
        "mosquito_elsal = mosquitoes[mosquitoes['country'].str.startswith('El Salvador')].reset_index(drop='True')\n",
        "mosquito_haiti = mosquitoes[mosquitoes['country'].str.startswith('Haiti')].reset_index(drop='True')\n",
        "\n"
      ],
      "execution_count": null,
      "outputs": []
    },
    {
      "cell_type": "code",
      "metadata": {
        "colab": {
          "base_uri": "https://localhost:8080/",
          "height": 414
        },
        "id": "k3kI0b3GYwCu",
        "outputId": "e46a7bf6-b802-4352-925a-0c15e77bcadd"
      },
      "source": [
        "mosquito_total = pd.concat([mosquito_arg, mosquito_braz, mosquito_col, mosquito_elsal, mosquito_haiti, mosquito_mex, mosquito_nic, mosquito_puerto, mosquito_us], ignore_index=True)\n",
        "mosquito_total"
      ],
      "execution_count": null,
      "outputs": [
        {
          "output_type": "execute_result",
          "data": {
            "text/html": [
              "<div>\n",
              "<style scoped>\n",
              "    .dataframe tbody tr th:only-of-type {\n",
              "        vertical-align: middle;\n",
              "    }\n",
              "\n",
              "    .dataframe tbody tr th {\n",
              "        vertical-align: top;\n",
              "    }\n",
              "\n",
              "    .dataframe thead th {\n",
              "        text-align: right;\n",
              "    }\n",
              "</style>\n",
              "<table border=\"1\" class=\"dataframe\">\n",
              "  <thead>\n",
              "    <tr style=\"text-align: right;\">\n",
              "      <th></th>\n",
              "      <th>vector</th>\n",
              "      <th>latitude</th>\n",
              "      <th>longitude</th>\n",
              "      <th>year</th>\n",
              "      <th>country</th>\n",
              "    </tr>\n",
              "  </thead>\n",
              "  <tbody>\n",
              "    <tr>\n",
              "      <th>0</th>\n",
              "      <td>Aedes aegypti</td>\n",
              "      <td>-22.020000</td>\n",
              "      <td>-63.680000</td>\n",
              "      <td>2006</td>\n",
              "      <td>Argentina</td>\n",
              "    </tr>\n",
              "    <tr>\n",
              "      <th>1</th>\n",
              "      <td>Aedes aegypti</td>\n",
              "      <td>-34.580000</td>\n",
              "      <td>-58.500000</td>\n",
              "      <td>2006</td>\n",
              "      <td>Argentina</td>\n",
              "    </tr>\n",
              "    <tr>\n",
              "      <th>2</th>\n",
              "      <td>Aedes aegypti</td>\n",
              "      <td>-31.400000</td>\n",
              "      <td>-64.180000</td>\n",
              "      <td>2006</td>\n",
              "      <td>Argentina</td>\n",
              "    </tr>\n",
              "    <tr>\n",
              "      <th>3</th>\n",
              "      <td>Aedes aegypti</td>\n",
              "      <td>-25.610000</td>\n",
              "      <td>-54.580000</td>\n",
              "      <td>2006</td>\n",
              "      <td>Argentina</td>\n",
              "    </tr>\n",
              "    <tr>\n",
              "      <th>4</th>\n",
              "      <td>Aedes aegypti</td>\n",
              "      <td>-23.140000</td>\n",
              "      <td>-64.320000</td>\n",
              "      <td>2006</td>\n",
              "      <td>Argentina</td>\n",
              "    </tr>\n",
              "    <tr>\n",
              "      <th>...</th>\n",
              "      <td>...</td>\n",
              "      <td>...</td>\n",
              "      <td>...</td>\n",
              "      <td>...</td>\n",
              "      <td>...</td>\n",
              "    </tr>\n",
              "    <tr>\n",
              "      <th>8205</th>\n",
              "      <td>Aedes aegypti</td>\n",
              "      <td>36.750004</td>\n",
              "      <td>-119.583333</td>\n",
              "      <td>2014</td>\n",
              "      <td>United States</td>\n",
              "    </tr>\n",
              "    <tr>\n",
              "      <th>8206</th>\n",
              "      <td>Aedes aegypti</td>\n",
              "      <td>37.083330</td>\n",
              "      <td>-120.083333</td>\n",
              "      <td>2014</td>\n",
              "      <td>United States</td>\n",
              "    </tr>\n",
              "    <tr>\n",
              "      <th>8207</th>\n",
              "      <td>Aedes aegypti</td>\n",
              "      <td>36.916670</td>\n",
              "      <td>-120.083333</td>\n",
              "      <td>2014</td>\n",
              "      <td>United States</td>\n",
              "    </tr>\n",
              "    <tr>\n",
              "      <th>8208</th>\n",
              "      <td>Aedes aegypti</td>\n",
              "      <td>37.416667</td>\n",
              "      <td>-122.250000</td>\n",
              "      <td>2014</td>\n",
              "      <td>United States</td>\n",
              "    </tr>\n",
              "    <tr>\n",
              "      <th>8209</th>\n",
              "      <td>Aedes albopictus</td>\n",
              "      <td>34.083311</td>\n",
              "      <td>-118.083333</td>\n",
              "      <td>2014</td>\n",
              "      <td>United States</td>\n",
              "    </tr>\n",
              "  </tbody>\n",
              "</table>\n",
              "<p>8210 rows × 5 columns</p>\n",
              "</div>"
            ],
            "text/plain": [
              "                vector   latitude   longitude  year        country\n",
              "0        Aedes aegypti -22.020000  -63.680000  2006      Argentina\n",
              "1        Aedes aegypti -34.580000  -58.500000  2006      Argentina\n",
              "2        Aedes aegypti -31.400000  -64.180000  2006      Argentina\n",
              "3        Aedes aegypti -25.610000  -54.580000  2006      Argentina\n",
              "4        Aedes aegypti -23.140000  -64.320000  2006      Argentina\n",
              "...                ...        ...         ...   ...            ...\n",
              "8205     Aedes aegypti  36.750004 -119.583333  2014  United States\n",
              "8206     Aedes aegypti  37.083330 -120.083333  2014  United States\n",
              "8207     Aedes aegypti  36.916670 -120.083333  2014  United States\n",
              "8208     Aedes aegypti  37.416667 -122.250000  2014  United States\n",
              "8209  Aedes albopictus  34.083311 -118.083333  2014  United States\n",
              "\n",
              "[8210 rows x 5 columns]"
            ]
          },
          "metadata": {},
          "execution_count": 11
        }
      ]
    },
    {
      "cell_type": "code",
      "metadata": {
        "colab": {
          "base_uri": "https://localhost:8080/",
          "height": 447
        },
        "id": "DbGEP-BVZSvr",
        "outputId": "114a80be-83c4-4028-85f6-add45fe6a5e8"
      },
      "source": [
        "\n",
        "mosquito_sightings = pd.DataFrame({'total' : mosquito_total.groupby(['vector', 'country']).size()}).reset_index()\n",
        "mosquito_sightings"
      ],
      "execution_count": null,
      "outputs": [
        {
          "output_type": "execute_result",
          "data": {
            "text/html": [
              "<div>\n",
              "<style scoped>\n",
              "    .dataframe tbody tr th:only-of-type {\n",
              "        vertical-align: middle;\n",
              "    }\n",
              "\n",
              "    .dataframe tbody tr th {\n",
              "        vertical-align: top;\n",
              "    }\n",
              "\n",
              "    .dataframe thead th {\n",
              "        text-align: right;\n",
              "    }\n",
              "</style>\n",
              "<table border=\"1\" class=\"dataframe\">\n",
              "  <thead>\n",
              "    <tr style=\"text-align: right;\">\n",
              "      <th></th>\n",
              "      <th>vector</th>\n",
              "      <th>country</th>\n",
              "      <th>total</th>\n",
              "    </tr>\n",
              "  </thead>\n",
              "  <tbody>\n",
              "    <tr>\n",
              "      <th>0</th>\n",
              "      <td>Aedes aegypti</td>\n",
              "      <td>Argentina</td>\n",
              "      <td>49</td>\n",
              "    </tr>\n",
              "    <tr>\n",
              "      <th>1</th>\n",
              "      <td>Aedes aegypti</td>\n",
              "      <td>Brazil</td>\n",
              "      <td>4550</td>\n",
              "    </tr>\n",
              "    <tr>\n",
              "      <th>2</th>\n",
              "      <td>Aedes aegypti</td>\n",
              "      <td>Colombia</td>\n",
              "      <td>70</td>\n",
              "    </tr>\n",
              "    <tr>\n",
              "      <th>3</th>\n",
              "      <td>Aedes aegypti</td>\n",
              "      <td>El Salvador</td>\n",
              "      <td>1</td>\n",
              "    </tr>\n",
              "    <tr>\n",
              "      <th>4</th>\n",
              "      <td>Aedes aegypti</td>\n",
              "      <td>Mexico</td>\n",
              "      <td>157</td>\n",
              "    </tr>\n",
              "    <tr>\n",
              "      <th>5</th>\n",
              "      <td>Aedes aegypti</td>\n",
              "      <td>Nicaragua</td>\n",
              "      <td>5</td>\n",
              "    </tr>\n",
              "    <tr>\n",
              "      <th>6</th>\n",
              "      <td>Aedes aegypti</td>\n",
              "      <td>Puerto Rico</td>\n",
              "      <td>16</td>\n",
              "    </tr>\n",
              "    <tr>\n",
              "      <th>7</th>\n",
              "      <td>Aedes aegypti</td>\n",
              "      <td>United States</td>\n",
              "      <td>22</td>\n",
              "    </tr>\n",
              "    <tr>\n",
              "      <th>8</th>\n",
              "      <td>Aedes albopictus</td>\n",
              "      <td>Brazil</td>\n",
              "      <td>3285</td>\n",
              "    </tr>\n",
              "    <tr>\n",
              "      <th>9</th>\n",
              "      <td>Aedes albopictus</td>\n",
              "      <td>Colombia</td>\n",
              "      <td>1</td>\n",
              "    </tr>\n",
              "    <tr>\n",
              "      <th>10</th>\n",
              "      <td>Aedes albopictus</td>\n",
              "      <td>Haiti</td>\n",
              "      <td>14</td>\n",
              "    </tr>\n",
              "    <tr>\n",
              "      <th>11</th>\n",
              "      <td>Aedes albopictus</td>\n",
              "      <td>Mexico</td>\n",
              "      <td>15</td>\n",
              "    </tr>\n",
              "    <tr>\n",
              "      <th>12</th>\n",
              "      <td>Aedes albopictus</td>\n",
              "      <td>United States</td>\n",
              "      <td>25</td>\n",
              "    </tr>\n",
              "  </tbody>\n",
              "</table>\n",
              "</div>"
            ],
            "text/plain": [
              "              vector        country  total\n",
              "0      Aedes aegypti      Argentina     49\n",
              "1      Aedes aegypti         Brazil   4550\n",
              "2      Aedes aegypti       Colombia     70\n",
              "3      Aedes aegypti    El Salvador      1\n",
              "4      Aedes aegypti         Mexico    157\n",
              "5      Aedes aegypti      Nicaragua      5\n",
              "6      Aedes aegypti    Puerto Rico     16\n",
              "7      Aedes aegypti  United States     22\n",
              "8   Aedes albopictus         Brazil   3285\n",
              "9   Aedes albopictus       Colombia      1\n",
              "10  Aedes albopictus          Haiti     14\n",
              "11  Aedes albopictus         Mexico     15\n",
              "12  Aedes albopictus  United States     25"
            ]
          },
          "metadata": {},
          "execution_count": 12
        }
      ]
    },
    {
      "cell_type": "code",
      "metadata": {
        "colab": {
          "base_uri": "https://localhost:8080/",
          "height": 729
        },
        "id": "tNfppd0JZeFu",
        "outputId": "5dcf7c03-7d58-4a0e-bc01-aba2fad065a1"
      },
      "source": [
        "\n",
        "m = sns.catplot(\n",
        "    data=mosquito_sightings, kind=\"bar\",\n",
        "    x=\"country\", y=\"total\", hue=\"vector\",\n",
        "    ci=\"sd\", palette=\"dark\", alpha=0.6, height=10)\n",
        "\n",
        "\n",
        "m.despine(left=True)\n",
        "m.set_axis_labels(\"country\", \"Total sightings\")\n",
        "m.legend.set_title(\"Species\")\n"
      ],
      "execution_count": null,
      "outputs": [
        {
          "output_type": "display_data",
          "data": {
            "image/png": "[encoded data removed]",
            "text/plain": [
              "<Figure size 841.125x720 with 1 Axes>"
            ]
          },
          "metadata": {
            "needs_background": "light"
          }
        }
      ]
    },
    {
      "cell_type": "code",
      "metadata": {
        "id": "kv2K_TWt9njM"
      },
      "source": [
        "mosquito_sightings.to_csv('mosquito_sightings.csv', index=False)"
      ],
      "execution_count": null,
      "outputs": []
    },
    {
      "cell_type": "markdown",
      "metadata": {
        "id": "KXLYHNLvBomh"
      },
      "source": [
        "#Conclusion\n",
        "\n"
      ]
    }
  ]
}