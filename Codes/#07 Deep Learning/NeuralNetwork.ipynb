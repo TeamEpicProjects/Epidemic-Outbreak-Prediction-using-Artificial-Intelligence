{
 "cells": [
  {
   "cell_type": "code",
   "execution_count": 1,
   "metadata": {
    "colab": {
     "base_uri": "https://localhost:8080/",
     "height": 35
    },
    "id": "3hgg5AVVO2Q8",
    "outputId": "b486913b-1503-4703-bd1f-c511deca6b53"
   },
   "outputs": [
    {
     "data": {
      "application/vnd.google.colaboratory.intrinsic+json": {
       "type": "string"
      },
      "text/plain": [
       "'/device:GPU:0'"
      ]
     },
     "execution_count": 1,
     "metadata": {},
     "output_type": "execute_result"
    }
   ],
   "source": [
    "# Testing gpu\n",
    "import tensorflow as tf\n",
    "tf.test.gpu_device_name()"
   ]
  },
  {
   "cell_type": "code",
   "execution_count": 3,
   "metadata": {
    "colab": {
     "base_uri": "https://localhost:8080/"
    },
    "id": "TIwY4J-6QBSr",
    "outputId": "47cacd37-c504-432f-fbd4-22dd325ffb26"
   },
   "outputs": [
    {
     "data": {
      "text/plain": [
       "[name: \"/device:CPU:0\"\n",
       " device_type: \"CPU\"\n",
       " memory_limit: 268435456\n",
       " locality {\n",
       " }\n",
       " incarnation: 15912272986735519906, name: \"/device:GPU:0\"\n",
       " device_type: \"GPU\"\n",
       " memory_limit: 11345264640\n",
       " locality {\n",
       "   bus_id: 1\n",
       "   links {\n",
       "   }\n",
       " }\n",
       " incarnation: 1023994389334615637\n",
       " physical_device_desc: \"device: 0, name: Tesla K80, pci bus id: 0000:00:04.0, compute capability: 3.7\"]"
      ]
     },
     "execution_count": 3,
     "metadata": {},
     "output_type": "execute_result"
    }
   ],
   "source": [
    "# which GPU using?\n",
    "from tensorflow.python.client import device_lib\n",
    "device_lib.list_local_devices()"
   ]
  },
  {
   "cell_type": "code",
   "execution_count": 13,
   "metadata": {
    "id": "LJZ6tSZwRfz3"
   },
   "outputs": [],
   "source": [
    "!pip install -q Keras"
   ]
  },
  {
   "cell_type": "code",
   "execution_count": 14,
   "metadata": {
    "id": "6dDYEv3xQBZC"
   },
   "outputs": [],
   "source": [
    "from sklearn.model_selection import train_test_split #for splitting the data in train and test\n",
    "from sklearn.preprocessing import MinMaxScaler #for various scaling methods\n",
    "\n",
    "from sklearn.metrics import accuracy_score,confusion_matrix,recall_score #for accuracy matrices\n",
    "from sklearn.metrics import precision_score,classification_report,roc_auc_score,precision_score #for accuracy matrices\n",
    "import numpy as np\n",
    "import matplotlib.pyplot as plt\n",
    "import pandas as pd"
   ]
  },
  {
   "cell_type": "code",
   "execution_count": 6,
   "metadata": {
    "colab": {
     "base_uri": "https://localhost:8080/",
     "height": 224
    },
    "id": "2LNstkL3QBcB",
    "outputId": "9afac226-fa6f-4ba2-9e70-f03fa9e63260"
   },
   "outputs": [
    {
     "data": {
      "text/html": [
       "<div>\n",
       "<style scoped>\n",
       "    .dataframe tbody tr th:only-of-type {\n",
       "        vertical-align: middle;\n",
       "    }\n",
       "\n",
       "    .dataframe tbody tr th {\n",
       "        vertical-align: top;\n",
       "    }\n",
       "\n",
       "    .dataframe thead th {\n",
       "        text-align: right;\n",
       "    }\n",
       "</style>\n",
       "<table border=\"1\" class=\"dataframe\">\n",
       "  <thead>\n",
       "    <tr style=\"text-align: right;\">\n",
       "      <th></th>\n",
       "      <th>density_per_km</th>\n",
       "      <th>latitude</th>\n",
       "      <th>longitude</th>\n",
       "      <th>maxtempC</th>\n",
       "      <th>mintempC</th>\n",
       "      <th>totalSnow_cm</th>\n",
       "      <th>sunHour</th>\n",
       "      <th>moon_illumination</th>\n",
       "      <th>DewPointC</th>\n",
       "      <th>WindGustKmph</th>\n",
       "      <th>cloudcover</th>\n",
       "      <th>humidity</th>\n",
       "      <th>precipMM</th>\n",
       "      <th>pressure</th>\n",
       "      <th>visibility</th>\n",
       "      <th>winddirDegree</th>\n",
       "      <th>year</th>\n",
       "      <th>month</th>\n",
       "      <th>Target</th>\n",
       "    </tr>\n",
       "  </thead>\n",
       "  <tbody>\n",
       "    <tr>\n",
       "      <th>0</th>\n",
       "      <td>12625.800781</td>\n",
       "      <td>-34.603684</td>\n",
       "      <td>-58.381559</td>\n",
       "      <td>24</td>\n",
       "      <td>7</td>\n",
       "      <td>0.0</td>\n",
       "      <td>11.6</td>\n",
       "      <td>87</td>\n",
       "      <td>6</td>\n",
       "      <td>16</td>\n",
       "      <td>0</td>\n",
       "      <td>59</td>\n",
       "      <td>0.0</td>\n",
       "      <td>1018</td>\n",
       "      <td>10</td>\n",
       "      <td>189</td>\n",
       "      <td>2016</td>\n",
       "      <td>3</td>\n",
       "      <td>1</td>\n",
       "    </tr>\n",
       "    <tr>\n",
       "      <th>1</th>\n",
       "      <td>12625.800781</td>\n",
       "      <td>-34.603684</td>\n",
       "      <td>-58.381559</td>\n",
       "      <td>24</td>\n",
       "      <td>7</td>\n",
       "      <td>0.0</td>\n",
       "      <td>11.6</td>\n",
       "      <td>87</td>\n",
       "      <td>6</td>\n",
       "      <td>16</td>\n",
       "      <td>0</td>\n",
       "      <td>59</td>\n",
       "      <td>0.0</td>\n",
       "      <td>1018</td>\n",
       "      <td>10</td>\n",
       "      <td>189</td>\n",
       "      <td>2016</td>\n",
       "      <td>3</td>\n",
       "      <td>0</td>\n",
       "    </tr>\n",
       "    <tr>\n",
       "      <th>2</th>\n",
       "      <td>12625.800781</td>\n",
       "      <td>-34.603684</td>\n",
       "      <td>-58.381559</td>\n",
       "      <td>24</td>\n",
       "      <td>7</td>\n",
       "      <td>0.0</td>\n",
       "      <td>11.6</td>\n",
       "      <td>87</td>\n",
       "      <td>6</td>\n",
       "      <td>16</td>\n",
       "      <td>0</td>\n",
       "      <td>59</td>\n",
       "      <td>0.0</td>\n",
       "      <td>1018</td>\n",
       "      <td>10</td>\n",
       "      <td>189</td>\n",
       "      <td>2016</td>\n",
       "      <td>3</td>\n",
       "      <td>1</td>\n",
       "    </tr>\n",
       "    <tr>\n",
       "      <th>3</th>\n",
       "      <td>12625.800781</td>\n",
       "      <td>-34.603684</td>\n",
       "      <td>-58.381559</td>\n",
       "      <td>24</td>\n",
       "      <td>7</td>\n",
       "      <td>0.0</td>\n",
       "      <td>11.6</td>\n",
       "      <td>87</td>\n",
       "      <td>6</td>\n",
       "      <td>16</td>\n",
       "      <td>0</td>\n",
       "      <td>59</td>\n",
       "      <td>0.0</td>\n",
       "      <td>1018</td>\n",
       "      <td>10</td>\n",
       "      <td>189</td>\n",
       "      <td>2016</td>\n",
       "      <td>3</td>\n",
       "      <td>0</td>\n",
       "    </tr>\n",
       "    <tr>\n",
       "      <th>4</th>\n",
       "      <td>12625.800781</td>\n",
       "      <td>-34.603684</td>\n",
       "      <td>-58.381559</td>\n",
       "      <td>22</td>\n",
       "      <td>10</td>\n",
       "      <td>0.0</td>\n",
       "      <td>11.5</td>\n",
       "      <td>76</td>\n",
       "      <td>10</td>\n",
       "      <td>27</td>\n",
       "      <td>34</td>\n",
       "      <td>72</td>\n",
       "      <td>0.0</td>\n",
       "      <td>1025</td>\n",
       "      <td>10</td>\n",
       "      <td>99</td>\n",
       "      <td>2016</td>\n",
       "      <td>3</td>\n",
       "      <td>0</td>\n",
       "    </tr>\n",
       "  </tbody>\n",
       "</table>\n",
       "</div>"
      ],
      "text/plain": [
       "   density_per_km   latitude  longitude  ...  year  month  Target\n",
       "0    12625.800781 -34.603684 -58.381559  ...  2016      3       1\n",
       "1    12625.800781 -34.603684 -58.381559  ...  2016      3       0\n",
       "2    12625.800781 -34.603684 -58.381559  ...  2016      3       1\n",
       "3    12625.800781 -34.603684 -58.381559  ...  2016      3       0\n",
       "4    12625.800781 -34.603684 -58.381559  ...  2016      3       0\n",
       "\n",
       "[5 rows x 19 columns]"
      ]
     },
     "execution_count": 6,
     "metadata": {},
     "output_type": "execute_result"
    }
   ],
   "source": [
    "df = pd.read_csv('/content/drive/MyDrive/ZikaVirus/classification_dataset.csv')\n",
    "df.head()"
   ]
  },
  {
   "cell_type": "code",
   "execution_count": 7,
   "metadata": {
    "colab": {
     "base_uri": "https://localhost:8080/"
    },
    "id": "5QIhClCEQBfV",
    "outputId": "29a0d271-52a4-44d9-deb2-63aef230eac6"
   },
   "outputs": [
    {
     "data": {
      "text/plain": [
       "(155223, 19)"
      ]
     },
     "execution_count": 7,
     "metadata": {},
     "output_type": "execute_result"
    }
   ],
   "source": [
    "df.shape"
   ]
  },
  {
   "cell_type": "code",
   "execution_count": 8,
   "metadata": {
    "colab": {
     "base_uri": "https://localhost:8080/"
    },
    "id": "wUniwx7-RBUS",
    "outputId": "e9dffbf1-3dd4-4c58-a3f3-4ac0c4fb9272"
   },
   "outputs": [
    {
     "data": {
      "text/plain": [
       "Index(['density_per_km', 'latitude', 'longitude', 'maxtempC', 'mintempC',\n",
       "       'totalSnow_cm', 'sunHour', 'moon_illumination', 'DewPointC',\n",
       "       'WindGustKmph', 'cloudcover', 'humidity', 'precipMM', 'pressure',\n",
       "       'visibility', 'winddirDegree', 'year', 'month', 'Target'],\n",
       "      dtype='object')"
      ]
     },
     "execution_count": 8,
     "metadata": {},
     "output_type": "execute_result"
    }
   ],
   "source": [
    "df.columns"
   ]
  },
  {
   "cell_type": "code",
   "execution_count": 9,
   "metadata": {
    "colab": {
     "base_uri": "https://localhost:8080/"
    },
    "id": "u47flCPyRBXA",
    "outputId": "c05a17ae-68ea-4c54-a5d8-ffaba64e5c41"
   },
   "outputs": [
    {
     "data": {
      "text/plain": [
       "79878"
      ]
     },
     "execution_count": 9,
     "metadata": {},
     "output_type": "execute_result"
    }
   ],
   "source": [
    "# Total no of duplicate rows\n",
    "df.duplicated().sum()"
   ]
  },
  {
   "cell_type": "code",
   "execution_count": 15,
   "metadata": {
    "colab": {
     "base_uri": "https://localhost:8080/",
     "height": 224
    },
    "id": "30xV5DfIRBfa",
    "outputId": "61368853-e835-4d5e-883e-1fece0e995a6"
   },
   "outputs": [
    {
     "data": {
      "text/html": [
       "<div>\n",
       "<style scoped>\n",
       "    .dataframe tbody tr th:only-of-type {\n",
       "        vertical-align: middle;\n",
       "    }\n",
       "\n",
       "    .dataframe tbody tr th {\n",
       "        vertical-align: top;\n",
       "    }\n",
       "\n",
       "    .dataframe thead th {\n",
       "        text-align: right;\n",
       "    }\n",
       "</style>\n",
       "<table border=\"1\" class=\"dataframe\">\n",
       "  <thead>\n",
       "    <tr style=\"text-align: right;\">\n",
       "      <th></th>\n",
       "      <th>Target</th>\n",
       "      <th>density_per_km</th>\n",
       "      <th>latitude</th>\n",
       "      <th>longitude</th>\n",
       "      <th>maxtempC</th>\n",
       "      <th>mintempC</th>\n",
       "      <th>totalSnow_cm</th>\n",
       "      <th>sunHour</th>\n",
       "      <th>moon_illumination</th>\n",
       "      <th>DewPointC</th>\n",
       "      <th>WindGustKmph</th>\n",
       "      <th>cloudcover</th>\n",
       "      <th>humidity</th>\n",
       "      <th>precipMM</th>\n",
       "      <th>pressure</th>\n",
       "      <th>visibility</th>\n",
       "      <th>winddirDegree</th>\n",
       "      <th>year</th>\n",
       "      <th>month</th>\n",
       "    </tr>\n",
       "  </thead>\n",
       "  <tbody>\n",
       "    <tr>\n",
       "      <th>0</th>\n",
       "      <td>1</td>\n",
       "      <td>0.505636</td>\n",
       "      <td>0.196981</td>\n",
       "      <td>0.742734</td>\n",
       "      <td>0.641791</td>\n",
       "      <td>0.567164</td>\n",
       "      <td>0.0</td>\n",
       "      <td>0.625806</td>\n",
       "      <td>0.87</td>\n",
       "      <td>0.622642</td>\n",
       "      <td>0.164835</td>\n",
       "      <td>0.00</td>\n",
       "      <td>0.559140</td>\n",
       "      <td>0.0</td>\n",
       "      <td>0.602941</td>\n",
       "      <td>1.0</td>\n",
       "      <td>0.531429</td>\n",
       "      <td>0.333333</td>\n",
       "      <td>0.181818</td>\n",
       "    </tr>\n",
       "    <tr>\n",
       "      <th>1</th>\n",
       "      <td>0</td>\n",
       "      <td>0.505636</td>\n",
       "      <td>0.196981</td>\n",
       "      <td>0.742734</td>\n",
       "      <td>0.641791</td>\n",
       "      <td>0.567164</td>\n",
       "      <td>0.0</td>\n",
       "      <td>0.625806</td>\n",
       "      <td>0.87</td>\n",
       "      <td>0.622642</td>\n",
       "      <td>0.164835</td>\n",
       "      <td>0.00</td>\n",
       "      <td>0.559140</td>\n",
       "      <td>0.0</td>\n",
       "      <td>0.602941</td>\n",
       "      <td>1.0</td>\n",
       "      <td>0.531429</td>\n",
       "      <td>0.333333</td>\n",
       "      <td>0.181818</td>\n",
       "    </tr>\n",
       "    <tr>\n",
       "      <th>2</th>\n",
       "      <td>1</td>\n",
       "      <td>0.505636</td>\n",
       "      <td>0.196981</td>\n",
       "      <td>0.742734</td>\n",
       "      <td>0.641791</td>\n",
       "      <td>0.567164</td>\n",
       "      <td>0.0</td>\n",
       "      <td>0.625806</td>\n",
       "      <td>0.87</td>\n",
       "      <td>0.622642</td>\n",
       "      <td>0.164835</td>\n",
       "      <td>0.00</td>\n",
       "      <td>0.559140</td>\n",
       "      <td>0.0</td>\n",
       "      <td>0.602941</td>\n",
       "      <td>1.0</td>\n",
       "      <td>0.531429</td>\n",
       "      <td>0.333333</td>\n",
       "      <td>0.181818</td>\n",
       "    </tr>\n",
       "    <tr>\n",
       "      <th>3</th>\n",
       "      <td>0</td>\n",
       "      <td>0.505636</td>\n",
       "      <td>0.196981</td>\n",
       "      <td>0.742734</td>\n",
       "      <td>0.641791</td>\n",
       "      <td>0.567164</td>\n",
       "      <td>0.0</td>\n",
       "      <td>0.625806</td>\n",
       "      <td>0.87</td>\n",
       "      <td>0.622642</td>\n",
       "      <td>0.164835</td>\n",
       "      <td>0.00</td>\n",
       "      <td>0.559140</td>\n",
       "      <td>0.0</td>\n",
       "      <td>0.602941</td>\n",
       "      <td>1.0</td>\n",
       "      <td>0.531429</td>\n",
       "      <td>0.333333</td>\n",
       "      <td>0.181818</td>\n",
       "    </tr>\n",
       "    <tr>\n",
       "      <th>4</th>\n",
       "      <td>0</td>\n",
       "      <td>0.505636</td>\n",
       "      <td>0.196981</td>\n",
       "      <td>0.742734</td>\n",
       "      <td>0.611940</td>\n",
       "      <td>0.611940</td>\n",
       "      <td>0.0</td>\n",
       "      <td>0.619355</td>\n",
       "      <td>0.76</td>\n",
       "      <td>0.698113</td>\n",
       "      <td>0.285714</td>\n",
       "      <td>0.34</td>\n",
       "      <td>0.698925</td>\n",
       "      <td>0.0</td>\n",
       "      <td>0.705882</td>\n",
       "      <td>1.0</td>\n",
       "      <td>0.274286</td>\n",
       "      <td>0.333333</td>\n",
       "      <td>0.181818</td>\n",
       "    </tr>\n",
       "  </tbody>\n",
       "</table>\n",
       "</div>"
      ],
      "text/plain": [
       "   Target  density_per_km  latitude  ...  winddirDegree      year     month\n",
       "0       1        0.505636  0.196981  ...       0.531429  0.333333  0.181818\n",
       "1       0        0.505636  0.196981  ...       0.531429  0.333333  0.181818\n",
       "2       1        0.505636  0.196981  ...       0.531429  0.333333  0.181818\n",
       "3       0        0.505636  0.196981  ...       0.531429  0.333333  0.181818\n",
       "4       0        0.505636  0.196981  ...       0.274286  0.333333  0.181818\n",
       "\n",
       "[5 rows x 19 columns]"
      ]
     },
     "execution_count": 15,
     "metadata": {},
     "output_type": "execute_result"
    }
   ],
   "source": [
    "feature_scale = [feature for feature in df.columns if feature not in ['Target']]\n",
    "\n",
    "scaler=MinMaxScaler()\n",
    "scaler.fit(df[feature_scale])\n",
    "\n",
    "# transform the train and test set, and add on the Id and SalePrice variables\n",
    "data = pd.concat([df[['Target']].reset_index(drop=True),\n",
    "                    pd.DataFrame(scaler.transform(df[feature_scale]), columns=feature_scale)],axis=1)\n",
    "\n",
    "data.head()"
   ]
  },
  {
   "cell_type": "code",
   "execution_count": 16,
   "metadata": {
    "id": "MmxofhU0RBh3"
   },
   "outputs": [],
   "source": [
    "X = data.drop('Target',axis=1)\n",
    "y = data['Target']\n",
    "\n",
    "X_train,X_test,y_train,y_test = train_test_split(X,y,test_size=0.50,random_state=10, stratify=y) #train test split in 50:50 ratio"
   ]
  },
  {
   "cell_type": "code",
   "execution_count": 17,
   "metadata": {
    "colab": {
     "base_uri": "https://localhost:8080/",
     "height": 224
    },
    "id": "1uzssypBRoCo",
    "outputId": "61074156-f777-4743-a059-45a8c4703f5a"
   },
   "outputs": [
    {
     "data": {
      "text/html": [
       "<div>\n",
       "<style scoped>\n",
       "    .dataframe tbody tr th:only-of-type {\n",
       "        vertical-align: middle;\n",
       "    }\n",
       "\n",
       "    .dataframe tbody tr th {\n",
       "        vertical-align: top;\n",
       "    }\n",
       "\n",
       "    .dataframe thead th {\n",
       "        text-align: right;\n",
       "    }\n",
       "</style>\n",
       "<table border=\"1\" class=\"dataframe\">\n",
       "  <thead>\n",
       "    <tr style=\"text-align: right;\">\n",
       "      <th></th>\n",
       "      <th>density_per_km</th>\n",
       "      <th>latitude</th>\n",
       "      <th>longitude</th>\n",
       "      <th>maxtempC</th>\n",
       "      <th>mintempC</th>\n",
       "      <th>totalSnow_cm</th>\n",
       "      <th>sunHour</th>\n",
       "      <th>moon_illumination</th>\n",
       "      <th>DewPointC</th>\n",
       "      <th>WindGustKmph</th>\n",
       "      <th>cloudcover</th>\n",
       "      <th>humidity</th>\n",
       "      <th>precipMM</th>\n",
       "      <th>pressure</th>\n",
       "      <th>visibility</th>\n",
       "      <th>winddirDegree</th>\n",
       "      <th>year</th>\n",
       "      <th>month</th>\n",
       "    </tr>\n",
       "  </thead>\n",
       "  <tbody>\n",
       "    <tr>\n",
       "      <th>154629</th>\n",
       "      <td>0.001297</td>\n",
       "      <td>0.804145</td>\n",
       "      <td>0.467190</td>\n",
       "      <td>0.776119</td>\n",
       "      <td>0.895522</td>\n",
       "      <td>0.0</td>\n",
       "      <td>0.625806</td>\n",
       "      <td>0.26</td>\n",
       "      <td>0.962264</td>\n",
       "      <td>0.098901</td>\n",
       "      <td>0.28</td>\n",
       "      <td>0.634409</td>\n",
       "      <td>0.016999</td>\n",
       "      <td>0.588235</td>\n",
       "      <td>0.9</td>\n",
       "      <td>0.354286</td>\n",
       "      <td>0.666667</td>\n",
       "      <td>0.636364</td>\n",
       "    </tr>\n",
       "    <tr>\n",
       "      <th>143156</th>\n",
       "      <td>0.002138</td>\n",
       "      <td>0.708354</td>\n",
       "      <td>0.334943</td>\n",
       "      <td>0.895522</td>\n",
       "      <td>0.746269</td>\n",
       "      <td>0.0</td>\n",
       "      <td>0.625806</td>\n",
       "      <td>0.31</td>\n",
       "      <td>0.830189</td>\n",
       "      <td>0.065934</td>\n",
       "      <td>0.22</td>\n",
       "      <td>0.537634</td>\n",
       "      <td>0.000000</td>\n",
       "      <td>0.485294</td>\n",
       "      <td>0.8</td>\n",
       "      <td>0.334286</td>\n",
       "      <td>0.666667</td>\n",
       "      <td>0.272727</td>\n",
       "    </tr>\n",
       "    <tr>\n",
       "      <th>136771</th>\n",
       "      <td>0.027758</td>\n",
       "      <td>0.670686</td>\n",
       "      <td>0.371330</td>\n",
       "      <td>0.805970</td>\n",
       "      <td>0.776119</td>\n",
       "      <td>0.0</td>\n",
       "      <td>0.625806</td>\n",
       "      <td>0.23</td>\n",
       "      <td>0.886792</td>\n",
       "      <td>0.043956</td>\n",
       "      <td>0.18</td>\n",
       "      <td>0.709677</td>\n",
       "      <td>0.000000</td>\n",
       "      <td>0.514706</td>\n",
       "      <td>0.9</td>\n",
       "      <td>0.605714</td>\n",
       "      <td>0.666667</td>\n",
       "      <td>0.727273</td>\n",
       "    </tr>\n",
       "    <tr>\n",
       "      <th>27909</th>\n",
       "      <td>0.017739</td>\n",
       "      <td>0.578125</td>\n",
       "      <td>0.553618</td>\n",
       "      <td>0.611940</td>\n",
       "      <td>0.656716</td>\n",
       "      <td>0.0</td>\n",
       "      <td>0.625806</td>\n",
       "      <td>0.14</td>\n",
       "      <td>0.754717</td>\n",
       "      <td>0.054945</td>\n",
       "      <td>0.23</td>\n",
       "      <td>0.741935</td>\n",
       "      <td>0.011137</td>\n",
       "      <td>0.529412</td>\n",
       "      <td>0.9</td>\n",
       "      <td>0.448571</td>\n",
       "      <td>0.333333</td>\n",
       "      <td>0.181818</td>\n",
       "    </tr>\n",
       "    <tr>\n",
       "      <th>30973</th>\n",
       "      <td>0.023659</td>\n",
       "      <td>0.583067</td>\n",
       "      <td>0.558247</td>\n",
       "      <td>0.597015</td>\n",
       "      <td>0.626866</td>\n",
       "      <td>0.0</td>\n",
       "      <td>0.625806</td>\n",
       "      <td>0.22</td>\n",
       "      <td>0.735849</td>\n",
       "      <td>0.043956</td>\n",
       "      <td>0.41</td>\n",
       "      <td>0.817204</td>\n",
       "      <td>0.029015</td>\n",
       "      <td>0.544118</td>\n",
       "      <td>0.7</td>\n",
       "      <td>0.557143</td>\n",
       "      <td>0.333333</td>\n",
       "      <td>0.181818</td>\n",
       "    </tr>\n",
       "  </tbody>\n",
       "</table>\n",
       "</div>"
      ],
      "text/plain": [
       "        density_per_km  latitude  longitude  ...  winddirDegree      year     month\n",
       "154629        0.001297  0.804145   0.467190  ...       0.354286  0.666667  0.636364\n",
       "143156        0.002138  0.708354   0.334943  ...       0.334286  0.666667  0.272727\n",
       "136771        0.027758  0.670686   0.371330  ...       0.605714  0.666667  0.727273\n",
       "27909         0.017739  0.578125   0.553618  ...       0.448571  0.333333  0.181818\n",
       "30973         0.023659  0.583067   0.558247  ...       0.557143  0.333333  0.181818\n",
       "\n",
       "[5 rows x 18 columns]"
      ]
     },
     "execution_count": 17,
     "metadata": {},
     "output_type": "execute_result"
    }
   ],
   "source": [
    "X_train.head()"
   ]
  },
  {
   "cell_type": "code",
   "execution_count": 19,
   "metadata": {
    "colab": {
     "base_uri": "https://localhost:8080/"
    },
    "id": "i7IBZuo_RoFn",
    "outputId": "7fb3c76c-77ae-46f1-bb6d-c631e03c2532"
   },
   "outputs": [
    {
     "data": {
      "text/plain": [
       "(77611, 18)"
      ]
     },
     "execution_count": 19,
     "metadata": {},
     "output_type": "execute_result"
    }
   ],
   "source": [
    "X_train.shape"
   ]
  },
  {
   "cell_type": "code",
   "execution_count": 18,
   "metadata": {
    "id": "43CSavEXRoLZ"
   },
   "outputs": [],
   "source": [
    "import keras\n",
    "from keras.models import Sequential\n",
    "from keras.layers import Dense\n",
    "from keras.layers import LeakyReLU,PReLU,ELU\n",
    "from keras.layers import Dropout"
   ]
  },
  {
   "cell_type": "code",
   "execution_count": 23,
   "metadata": {
    "colab": {
     "base_uri": "https://localhost:8080/"
    },
    "id": "eNPrMGWlRuEE",
    "outputId": "5d3fe21b-f8fa-40cd-dfae-d07d6ca1e1d9"
   },
   "outputs": [
    {
     "name": "stdout",
     "output_type": "stream",
     "text": [
      "Epoch 1/100\n",
      "3881/3881 [==============================] - 22s 5ms/step - loss: 0.6718 - accuracy: 0.5908 - val_loss: 0.6642 - val_accuracy: 0.5961\n",
      "Epoch 2/100\n",
      "3881/3881 [==============================] - 19s 5ms/step - loss: 0.6621 - accuracy: 0.5992 - val_loss: 0.6586 - val_accuracy: 0.6082\n",
      "Epoch 3/100\n",
      "3881/3881 [==============================] - 24s 6ms/step - loss: 0.6574 - accuracy: 0.6048 - val_loss: 0.6554 - val_accuracy: 0.6101\n",
      "Epoch 4/100\n",
      "3881/3881 [==============================] - 23s 6ms/step - loss: 0.6538 - accuracy: 0.6057 - val_loss: 0.6511 - val_accuracy: 0.6102\n",
      "Epoch 5/100\n",
      "3881/3881 [==============================] - 23s 6ms/step - loss: 0.6508 - accuracy: 0.6086 - val_loss: 0.6500 - val_accuracy: 0.6110\n",
      "Epoch 6/100\n",
      "3881/3881 [==============================] - 19s 5ms/step - loss: 0.6488 - accuracy: 0.6107 - val_loss: 0.6471 - val_accuracy: 0.6143\n",
      "Epoch 7/100\n",
      "3881/3881 [==============================] - 19s 5ms/step - loss: 0.6469 - accuracy: 0.6139 - val_loss: 0.6458 - val_accuracy: 0.6151\n",
      "Epoch 8/100\n",
      "3881/3881 [==============================] - 20s 5ms/step - loss: 0.6456 - accuracy: 0.6149 - val_loss: 0.6452 - val_accuracy: 0.6152\n",
      "Epoch 9/100\n",
      "3881/3881 [==============================] - 24s 6ms/step - loss: 0.6445 - accuracy: 0.6177 - val_loss: 0.6443 - val_accuracy: 0.6163\n",
      "Epoch 10/100\n",
      "3881/3881 [==============================] - 20s 5ms/step - loss: 0.6434 - accuracy: 0.6173 - val_loss: 0.6449 - val_accuracy: 0.6174\n",
      "Epoch 11/100\n",
      "3881/3881 [==============================] - 24s 6ms/step - loss: 0.6429 - accuracy: 0.6195 - val_loss: 0.6446 - val_accuracy: 0.6168\n",
      "Epoch 12/100\n",
      "3881/3881 [==============================] - 19s 5ms/step - loss: 0.6421 - accuracy: 0.6182 - val_loss: 0.6427 - val_accuracy: 0.6181\n",
      "Epoch 13/100\n",
      "3881/3881 [==============================] - 19s 5ms/step - loss: 0.6417 - accuracy: 0.6205 - val_loss: 0.6435 - val_accuracy: 0.6185\n",
      "Epoch 14/100\n",
      "3881/3881 [==============================] - 24s 6ms/step - loss: 0.6410 - accuracy: 0.6214 - val_loss: 0.6415 - val_accuracy: 0.6196\n",
      "Epoch 15/100\n",
      "3881/3881 [==============================] - 19s 5ms/step - loss: 0.6406 - accuracy: 0.6208 - val_loss: 0.6433 - val_accuracy: 0.6179\n",
      "Epoch 16/100\n",
      "3881/3881 [==============================] - 23s 6ms/step - loss: 0.6402 - accuracy: 0.6204 - val_loss: 0.6419 - val_accuracy: 0.6204\n",
      "Epoch 17/100\n",
      "3881/3881 [==============================] - 24s 6ms/step - loss: 0.6397 - accuracy: 0.6214 - val_loss: 0.6409 - val_accuracy: 0.6204\n",
      "Epoch 18/100\n",
      "3881/3881 [==============================] - 23s 6ms/step - loss: 0.6393 - accuracy: 0.6234 - val_loss: 0.6416 - val_accuracy: 0.6194\n",
      "Epoch 19/100\n",
      "3881/3881 [==============================] - 20s 5ms/step - loss: 0.6389 - accuracy: 0.6217 - val_loss: 0.6398 - val_accuracy: 0.6225\n",
      "Epoch 20/100\n",
      "3881/3881 [==============================] - 19s 5ms/step - loss: 0.6387 - accuracy: 0.6243 - val_loss: 0.6394 - val_accuracy: 0.6229\n",
      "Epoch 21/100\n",
      "3881/3881 [==============================] - 23s 6ms/step - loss: 0.6382 - accuracy: 0.6236 - val_loss: 0.6390 - val_accuracy: 0.6205\n",
      "Epoch 22/100\n",
      "3881/3881 [==============================] - 19s 5ms/step - loss: 0.6380 - accuracy: 0.6242 - val_loss: 0.6391 - val_accuracy: 0.6219\n",
      "Epoch 23/100\n",
      "3881/3881 [==============================] - 19s 5ms/step - loss: 0.6376 - accuracy: 0.6238 - val_loss: 0.6390 - val_accuracy: 0.6212\n",
      "Epoch 24/100\n",
      "3881/3881 [==============================] - 20s 5ms/step - loss: 0.6372 - accuracy: 0.6258 - val_loss: 0.6388 - val_accuracy: 0.6217\n",
      "Epoch 25/100\n",
      "3881/3881 [==============================] - 19s 5ms/step - loss: 0.6370 - accuracy: 0.6256 - val_loss: 0.6381 - val_accuracy: 0.6225\n",
      "Epoch 26/100\n",
      "3881/3881 [==============================] - 23s 6ms/step - loss: 0.6366 - accuracy: 0.6248 - val_loss: 0.6392 - val_accuracy: 0.6200\n",
      "Epoch 27/100\n",
      "3881/3881 [==============================] - 23s 6ms/step - loss: 0.6365 - accuracy: 0.6251 - val_loss: 0.6377 - val_accuracy: 0.6252\n",
      "Epoch 28/100\n",
      "3881/3881 [==============================] - 23s 6ms/step - loss: 0.6361 - accuracy: 0.6250 - val_loss: 0.6373 - val_accuracy: 0.6238\n",
      "Epoch 29/100\n",
      "3881/3881 [==============================] - 20s 5ms/step - loss: 0.6358 - accuracy: 0.6262 - val_loss: 0.6373 - val_accuracy: 0.6256\n",
      "Epoch 30/100\n",
      "3881/3881 [==============================] - 20s 5ms/step - loss: 0.6353 - accuracy: 0.6269 - val_loss: 0.6368 - val_accuracy: 0.6234\n",
      "Epoch 31/100\n",
      "3881/3881 [==============================] - 23s 6ms/step - loss: 0.6347 - accuracy: 0.6272 - val_loss: 0.6366 - val_accuracy: 0.6233\n",
      "Epoch 32/100\n",
      "3881/3881 [==============================] - 23s 6ms/step - loss: 0.6344 - accuracy: 0.6279 - val_loss: 0.6361 - val_accuracy: 0.6266\n",
      "Epoch 33/100\n",
      "3881/3881 [==============================] - 20s 5ms/step - loss: 0.6338 - accuracy: 0.6292 - val_loss: 0.6357 - val_accuracy: 0.6266\n",
      "Epoch 34/100\n",
      "3881/3881 [==============================] - 20s 5ms/step - loss: 0.6333 - accuracy: 0.6297 - val_loss: 0.6359 - val_accuracy: 0.6277\n",
      "Epoch 35/100\n",
      "3881/3881 [==============================] - 20s 5ms/step - loss: 0.6327 - accuracy: 0.6301 - val_loss: 0.6341 - val_accuracy: 0.6253\n",
      "Epoch 36/100\n",
      "3881/3881 [==============================] - 23s 6ms/step - loss: 0.6318 - accuracy: 0.6300 - val_loss: 0.6336 - val_accuracy: 0.6278\n",
      "Epoch 37/100\n",
      "3881/3881 [==============================] - 24s 6ms/step - loss: 0.6313 - accuracy: 0.6329 - val_loss: 0.6341 - val_accuracy: 0.6272\n",
      "Epoch 38/100\n",
      "3881/3881 [==============================] - 24s 6ms/step - loss: 0.6308 - accuracy: 0.6325 - val_loss: 0.6332 - val_accuracy: 0.6296\n",
      "Epoch 39/100\n",
      "3881/3881 [==============================] - 23s 6ms/step - loss: 0.6301 - accuracy: 0.6361 - val_loss: 0.6321 - val_accuracy: 0.6292\n",
      "Epoch 40/100\n",
      "3881/3881 [==============================] - 20s 5ms/step - loss: 0.6296 - accuracy: 0.6353 - val_loss: 0.6315 - val_accuracy: 0.6276\n",
      "Epoch 41/100\n",
      "3881/3881 [==============================] - 20s 5ms/step - loss: 0.6290 - accuracy: 0.6357 - val_loss: 0.6319 - val_accuracy: 0.6280\n",
      "Epoch 42/100\n",
      "3881/3881 [==============================] - 24s 6ms/step - loss: 0.6285 - accuracy: 0.6364 - val_loss: 0.6340 - val_accuracy: 0.6263\n",
      "Epoch 43/100\n",
      "3881/3881 [==============================] - 19s 5ms/step - loss: 0.6281 - accuracy: 0.6371 - val_loss: 0.6304 - val_accuracy: 0.6321\n",
      "Epoch 44/100\n",
      "3881/3881 [==============================] - 23s 6ms/step - loss: 0.6276 - accuracy: 0.6379 - val_loss: 0.6311 - val_accuracy: 0.6303\n",
      "Epoch 45/100\n",
      "3881/3881 [==============================] - 19s 5ms/step - loss: 0.6272 - accuracy: 0.6378 - val_loss: 0.6296 - val_accuracy: 0.6335\n",
      "Epoch 46/100\n",
      "3881/3881 [==============================] - 24s 6ms/step - loss: 0.6264 - accuracy: 0.6416 - val_loss: 0.6296 - val_accuracy: 0.6326\n",
      "Epoch 47/100\n",
      "3881/3881 [==============================] - 19s 5ms/step - loss: 0.6264 - accuracy: 0.6400 - val_loss: 0.6293 - val_accuracy: 0.6327\n",
      "Epoch 48/100\n",
      "3881/3881 [==============================] - 19s 5ms/step - loss: 0.6261 - accuracy: 0.6401 - val_loss: 0.6287 - val_accuracy: 0.6326\n",
      "Epoch 49/100\n",
      "3881/3881 [==============================] - 21s 5ms/step - loss: 0.6256 - accuracy: 0.6418 - val_loss: 0.6294 - val_accuracy: 0.6342\n",
      "Epoch 50/100\n",
      "3881/3881 [==============================] - 20s 5ms/step - loss: 0.6248 - accuracy: 0.6441 - val_loss: 0.6277 - val_accuracy: 0.6350\n",
      "Epoch 51/100\n",
      "3881/3881 [==============================] - 23s 6ms/step - loss: 0.6243 - accuracy: 0.6412 - val_loss: 0.6278 - val_accuracy: 0.6345\n",
      "Epoch 52/100\n",
      "3881/3881 [==============================] - 20s 5ms/step - loss: 0.6241 - accuracy: 0.6427 - val_loss: 0.6290 - val_accuracy: 0.6336\n",
      "Epoch 53/100\n",
      "3881/3881 [==============================] - 23s 6ms/step - loss: 0.6237 - accuracy: 0.6443 - val_loss: 0.6272 - val_accuracy: 0.6352\n",
      "Epoch 54/100\n",
      "3881/3881 [==============================] - 23s 6ms/step - loss: 0.6235 - accuracy: 0.6444 - val_loss: 0.6269 - val_accuracy: 0.6370\n",
      "Epoch 55/100\n",
      "3881/3881 [==============================] - 23s 6ms/step - loss: 0.6231 - accuracy: 0.6453 - val_loss: 0.6263 - val_accuracy: 0.6361\n",
      "Epoch 56/100\n",
      "3881/3881 [==============================] - 23s 6ms/step - loss: 0.6227 - accuracy: 0.6465 - val_loss: 0.6258 - val_accuracy: 0.6396\n",
      "Epoch 57/100\n",
      "3881/3881 [==============================] - 23s 6ms/step - loss: 0.6220 - accuracy: 0.6483 - val_loss: 0.6263 - val_accuracy: 0.6408\n",
      "Epoch 58/100\n",
      "3881/3881 [==============================] - 23s 6ms/step - loss: 0.6219 - accuracy: 0.6483 - val_loss: 0.6247 - val_accuracy: 0.6410\n",
      "Epoch 59/100\n",
      "3881/3881 [==============================] - 23s 6ms/step - loss: 0.6216 - accuracy: 0.6478 - val_loss: 0.6272 - val_accuracy: 0.6375\n",
      "Epoch 60/100\n",
      "3881/3881 [==============================] - 23s 6ms/step - loss: 0.6215 - accuracy: 0.6491 - val_loss: 0.6241 - val_accuracy: 0.6391\n",
      "Epoch 61/100\n",
      "3881/3881 [==============================] - 18s 5ms/step - loss: 0.6209 - accuracy: 0.6494 - val_loss: 0.6280 - val_accuracy: 0.6352\n",
      "Epoch 62/100\n",
      "3881/3881 [==============================] - 23s 6ms/step - loss: 0.6205 - accuracy: 0.6492 - val_loss: 0.6238 - val_accuracy: 0.6402\n",
      "Epoch 63/100\n",
      "3881/3881 [==============================] - 23s 6ms/step - loss: 0.6206 - accuracy: 0.6510 - val_loss: 0.6240 - val_accuracy: 0.6425\n",
      "Epoch 64/100\n",
      "3881/3881 [==============================] - 18s 5ms/step - loss: 0.6200 - accuracy: 0.6492 - val_loss: 0.6250 - val_accuracy: 0.6411\n",
      "Epoch 65/100\n",
      "3881/3881 [==============================] - 18s 5ms/step - loss: 0.6200 - accuracy: 0.6508 - val_loss: 0.6237 - val_accuracy: 0.6404\n",
      "Epoch 66/100\n",
      "3881/3881 [==============================] - 19s 5ms/step - loss: 0.6195 - accuracy: 0.6515 - val_loss: 0.6230 - val_accuracy: 0.6423\n",
      "Epoch 67/100\n",
      "3881/3881 [==============================] - 22s 6ms/step - loss: 0.6196 - accuracy: 0.6503 - val_loss: 0.6238 - val_accuracy: 0.6412\n",
      "Epoch 68/100\n",
      "3881/3881 [==============================] - 18s 5ms/step - loss: 0.6188 - accuracy: 0.6526 - val_loss: 0.6222 - val_accuracy: 0.6426\n",
      "Epoch 69/100\n",
      "3881/3881 [==============================] - 22s 6ms/step - loss: 0.6185 - accuracy: 0.6526 - val_loss: 0.6221 - val_accuracy: 0.6431\n",
      "Epoch 70/100\n",
      "3881/3881 [==============================] - 18s 5ms/step - loss: 0.6183 - accuracy: 0.6522 - val_loss: 0.6233 - val_accuracy: 0.6406\n",
      "Epoch 71/100\n",
      "3881/3881 [==============================] - 19s 5ms/step - loss: 0.6187 - accuracy: 0.6514 - val_loss: 0.6237 - val_accuracy: 0.6427\n",
      "Epoch 72/100\n",
      "3881/3881 [==============================] - 23s 6ms/step - loss: 0.6181 - accuracy: 0.6532 - val_loss: 0.6235 - val_accuracy: 0.6406\n",
      "Epoch 73/100\n",
      "3881/3881 [==============================] - 20s 5ms/step - loss: 0.6180 - accuracy: 0.6519 - val_loss: 0.6223 - val_accuracy: 0.6439\n",
      "Epoch 74/100\n",
      "3881/3881 [==============================] - 20s 5ms/step - loss: 0.6181 - accuracy: 0.6523 - val_loss: 0.6224 - val_accuracy: 0.6423\n",
      "Epoch 75/100\n",
      "3881/3881 [==============================] - 19s 5ms/step - loss: 0.6178 - accuracy: 0.6518 - val_loss: 0.6209 - val_accuracy: 0.6439\n",
      "Epoch 76/100\n",
      "3881/3881 [==============================] - 19s 5ms/step - loss: 0.6174 - accuracy: 0.6534 - val_loss: 0.6240 - val_accuracy: 0.6398\n",
      "Epoch 77/100\n",
      "3881/3881 [==============================] - 19s 5ms/step - loss: 0.6173 - accuracy: 0.6521 - val_loss: 0.6214 - val_accuracy: 0.6432\n",
      "Epoch 78/100\n",
      "3881/3881 [==============================] - 20s 5ms/step - loss: 0.6172 - accuracy: 0.6535 - val_loss: 0.6220 - val_accuracy: 0.6439\n",
      "Epoch 79/100\n",
      "3881/3881 [==============================] - 24s 6ms/step - loss: 0.6170 - accuracy: 0.6543 - val_loss: 0.6205 - val_accuracy: 0.6436\n",
      "Epoch 80/100\n",
      "3881/3881 [==============================] - 24s 6ms/step - loss: 0.6169 - accuracy: 0.6530 - val_loss: 0.6200 - val_accuracy: 0.6443\n",
      "Epoch 81/100\n",
      "3881/3881 [==============================] - 24s 6ms/step - loss: 0.6168 - accuracy: 0.6545 - val_loss: 0.6211 - val_accuracy: 0.6421\n",
      "Epoch 82/100\n",
      "3881/3881 [==============================] - 19s 5ms/step - loss: 0.6166 - accuracy: 0.6552 - val_loss: 0.6203 - val_accuracy: 0.6444\n",
      "Epoch 83/100\n",
      "3881/3881 [==============================] - 20s 5ms/step - loss: 0.6165 - accuracy: 0.6540 - val_loss: 0.6196 - val_accuracy: 0.6451\n",
      "Epoch 84/100\n",
      "3881/3881 [==============================] - 24s 6ms/step - loss: 0.6163 - accuracy: 0.6530 - val_loss: 0.6199 - val_accuracy: 0.6451\n",
      "Epoch 85/100\n",
      "3881/3881 [==============================] - 23s 6ms/step - loss: 0.6161 - accuracy: 0.6536 - val_loss: 0.6205 - val_accuracy: 0.6434\n",
      "Epoch 86/100\n",
      "3881/3881 [==============================] - 19s 5ms/step - loss: 0.6162 - accuracy: 0.6523 - val_loss: 0.6206 - val_accuracy: 0.6417\n",
      "Epoch 87/100\n",
      "3881/3881 [==============================] - 19s 5ms/step - loss: 0.6159 - accuracy: 0.6531 - val_loss: 0.6195 - val_accuracy: 0.6452\n",
      "Epoch 88/100\n",
      "3881/3881 [==============================] - 19s 5ms/step - loss: 0.6160 - accuracy: 0.6541 - val_loss: 0.6196 - val_accuracy: 0.6446\n",
      "Epoch 89/100\n",
      "3881/3881 [==============================] - 20s 5ms/step - loss: 0.6158 - accuracy: 0.6550 - val_loss: 0.6203 - val_accuracy: 0.6432\n",
      "Epoch 90/100\n",
      "3881/3881 [==============================] - 20s 5ms/step - loss: 0.6153 - accuracy: 0.6548 - val_loss: 0.6218 - val_accuracy: 0.6445\n",
      "Epoch 91/100\n",
      "3881/3881 [==============================] - 25s 6ms/step - loss: 0.6154 - accuracy: 0.6547 - val_loss: 0.6204 - val_accuracy: 0.6454\n",
      "Epoch 92/100\n",
      "3881/3881 [==============================] - 20s 5ms/step - loss: 0.6154 - accuracy: 0.6555 - val_loss: 0.6216 - val_accuracy: 0.6413\n",
      "Epoch 93/100\n",
      "3881/3881 [==============================] - 20s 5ms/step - loss: 0.6155 - accuracy: 0.6540 - val_loss: 0.6211 - val_accuracy: 0.6451\n",
      "Epoch 94/100\n",
      "3881/3881 [==============================] - 23s 6ms/step - loss: 0.6150 - accuracy: 0.6550 - val_loss: 0.6184 - val_accuracy: 0.6455\n",
      "Epoch 95/100\n",
      "3881/3881 [==============================] - 24s 6ms/step - loss: 0.6151 - accuracy: 0.6548 - val_loss: 0.6207 - val_accuracy: 0.6441\n",
      "Epoch 96/100\n",
      "3881/3881 [==============================] - 21s 5ms/step - loss: 0.6148 - accuracy: 0.6541 - val_loss: 0.6182 - val_accuracy: 0.6455\n",
      "Epoch 97/100\n",
      "3881/3881 [==============================] - 20s 5ms/step - loss: 0.6145 - accuracy: 0.6559 - val_loss: 0.6209 - val_accuracy: 0.6441\n",
      "Epoch 98/100\n",
      "3881/3881 [==============================] - 20s 5ms/step - loss: 0.6147 - accuracy: 0.6545 - val_loss: 0.6201 - val_accuracy: 0.6446\n",
      "Epoch 99/100\n",
      "3881/3881 [==============================] - 20s 5ms/step - loss: 0.6144 - accuracy: 0.6559 - val_loss: 0.6191 - val_accuracy: 0.6422\n",
      "Epoch 100/100\n",
      "3881/3881 [==============================] - 24s 6ms/step - loss: 0.6144 - accuracy: 0.6557 - val_loss: 0.6193 - val_accuracy: 0.6462\n"
     ]
    }
   ],
   "source": [
    "# Initialising the ANN\n",
    "classifier = Sequential()\n",
    "\n",
    "# Adding the input layer and the first hidden layer\n",
    "classifier.add(Dense(units = 6, kernel_initializer= 'he_uniform',activation='relu',input_dim = 18))\n",
    "\n",
    "# Adding the second hidden layer\n",
    "classifier.add(Dense(units = 6, kernel_initializer = 'he_uniform',activation='relu'))\n",
    "# Adding the output layer\n",
    "classifier.add(Dense(units = 1, kernel_initializer = 'glorot_uniform', activation = 'sigmoid'))\n",
    "\n",
    "# Compiling the ANN\n",
    "classifier.compile(optimizer = 'Adamax', loss = 'binary_crossentropy', metrics = ['accuracy'])\n",
    "\n",
    "# Fitting the ANN to the Training set\n",
    "model_history=classifier.fit(X_train, y_train,validation_split=0.50, batch_size = 10, epochs = 100)"
   ]
  },
  {
   "cell_type": "code",
   "execution_count": 24,
   "metadata": {
    "colab": {
     "base_uri": "https://localhost:8080/"
    },
    "id": "ElxhZwIMRuHC",
    "outputId": "29b0204a-89ed-4fa1-effc-627472cb16ec"
   },
   "outputs": [
    {
     "name": "stdout",
     "output_type": "stream",
     "text": [
      "dict_keys(['loss', 'accuracy', 'val_loss', 'val_accuracy'])\n"
     ]
    }
   ],
   "source": [
    "print(model_history.history.keys())\n"
   ]
  },
  {
   "cell_type": "code",
   "execution_count": 26,
   "metadata": {
    "colab": {
     "base_uri": "https://localhost:8080/",
     "height": 295
    },
    "id": "veFYUi6uRuKE",
    "outputId": "936448ad-d41e-4a62-f576-f8032ead4492"
   },
   "outputs": [
    {
     "data": {
      "image/png": "[encoded data removed]",
      "text/plain": [
       "<Figure size 432x288 with 1 Axes>"
      ]
     },
     "metadata": {
      "needs_background": "light"
     },
     "output_type": "display_data"
    }
   ],
   "source": [
    "# summarize history for accuracy\n",
    "plt.plot(model_history.history['accuracy'])\n",
    "plt.plot(model_history.history['val_accuracy'])\n",
    "plt.title('model accuracy')\n",
    "plt.ylabel('accuracy')\n",
    "plt.xlabel('epoch')\n",
    "plt.legend(['train', 'test'], loc='upper left')\n",
    "plt.show()"
   ]
  },
  {
   "cell_type": "code",
   "execution_count": 27,
   "metadata": {
    "colab": {
     "base_uri": "https://localhost:8080/",
     "height": 295
    },
    "id": "3kvF-qgycNDL",
    "outputId": "bc98eae4-6bca-4f60-b186-17927ae34e4e"
   },
   "outputs": [
    {
     "data": {
      "image/png": "[encoded data removed]",
      "text/plain": [
       "<Figure size 432x288 with 1 Axes>"
      ]
     },
     "metadata": {
      "needs_background": "light"
     },
     "output_type": "display_data"
    }
   ],
   "source": [
    "# summarize history for loss\n",
    "plt.plot(model_history.history['loss'])\n",
    "plt.plot(model_history.history['val_loss'])\n",
    "plt.title('model loss')\n",
    "plt.ylabel('loss')\n",
    "plt.xlabel('epoch')\n",
    "plt.legend(['train', 'test'], loc='upper left')\n",
    "plt.show()"
   ]
  },
  {
   "cell_type": "code",
   "execution_count": 28,
   "metadata": {
    "id": "2BWm8esuRuME"
   },
   "outputs": [],
   "source": [
    "# Predicting the Test set results\n",
    "y_pred = classifier.predict(X_test)\n",
    "y_pred = (y_pred > 0.5)\n",
    "\n",
    "# Making the Confusion Matrix\n",
    "from sklearn.metrics import confusion_matrix\n",
    "cm = confusion_matrix(y_test, y_pred)\n",
    "\n",
    "# Calculate the Accuracy\n",
    "from sklearn.metrics import accuracy_score\n",
    "score=accuracy_score(y_pred,y_test)"
   ]
  },
  {
   "cell_type": "code",
   "execution_count": 29,
   "metadata": {
    "colab": {
     "base_uri": "https://localhost:8080/"
    },
    "id": "1X264TTaRoOs",
    "outputId": "74139690-e7de-4e19-aaae-a3734009313f"
   },
   "outputs": [
    {
     "data": {
      "text/plain": [
       "array([[32988, 11934],\n",
       "       [15289, 17401]])"
      ]
     },
     "execution_count": 29,
     "metadata": {},
     "output_type": "execute_result"
    }
   ],
   "source": [
    "cm"
   ]
  },
  {
   "cell_type": "code",
   "execution_count": 30,
   "metadata": {
    "colab": {
     "base_uri": "https://localhost:8080/"
    },
    "id": "jOG3B-fWcY3s",
    "outputId": "94fdd319-b696-403c-b863-b59fc475948a"
   },
   "outputs": [
    {
     "data": {
      "text/plain": [
       "0.6492423851981652"
      ]
     },
     "execution_count": 30,
     "metadata": {},
     "output_type": "execute_result"
    }
   ],
   "source": [
    "score"
   ]
  },
  {
   "cell_type": "code",
   "execution_count": null,
   "metadata": {
    "id": "CQflv_cyfAuB"
   },
   "outputs": [],
   "source": []
  },
  {
   "cell_type": "code",
   "execution_count": 32,
   "metadata": {
    "colab": {
     "base_uri": "https://localhost:8080/"
    },
    "id": "CEPpBzP5fAwt",
    "outputId": "cd4412b9-662f-4546-b123-49ef51623e28"
   },
   "outputs": [
    {
     "name": "stdout",
     "output_type": "stream",
     "text": [
      "Epoch 1/200\n",
      "2329/2329 [==============================] - 11s 5ms/step - loss: 0.6690 - accuracy: 0.5850 - val_loss: 0.6583 - val_accuracy: 0.5998\n",
      "Epoch 2/200\n",
      "2329/2329 [==============================] - 13s 6ms/step - loss: 0.6547 - accuracy: 0.6038 - val_loss: 0.6495 - val_accuracy: 0.6141\n",
      "Epoch 3/200\n",
      "2329/2329 [==============================] - 11s 5ms/step - loss: 0.6483 - accuracy: 0.6133 - val_loss: 0.6450 - val_accuracy: 0.6153\n",
      "Epoch 4/200\n",
      "2329/2329 [==============================] - 11s 5ms/step - loss: 0.6441 - accuracy: 0.6190 - val_loss: 0.6423 - val_accuracy: 0.6233\n",
      "Epoch 5/200\n",
      "2329/2329 [==============================] - 11s 5ms/step - loss: 0.6412 - accuracy: 0.6217 - val_loss: 0.6403 - val_accuracy: 0.6181\n",
      "Epoch 6/200\n",
      "2329/2329 [==============================] - 11s 5ms/step - loss: 0.6391 - accuracy: 0.6226 - val_loss: 0.6408 - val_accuracy: 0.6240\n",
      "Epoch 7/200\n",
      "2329/2329 [==============================] - 11s 5ms/step - loss: 0.6369 - accuracy: 0.6254 - val_loss: 0.6365 - val_accuracy: 0.6230\n",
      "Epoch 8/200\n",
      "2329/2329 [==============================] - 13s 6ms/step - loss: 0.6351 - accuracy: 0.6277 - val_loss: 0.6347 - val_accuracy: 0.6295\n",
      "Epoch 9/200\n",
      "2329/2329 [==============================] - 11s 5ms/step - loss: 0.6333 - accuracy: 0.6287 - val_loss: 0.6334 - val_accuracy: 0.6288\n",
      "Epoch 10/200\n",
      "2329/2329 [==============================] - 11s 5ms/step - loss: 0.6321 - accuracy: 0.6292 - val_loss: 0.6358 - val_accuracy: 0.6295\n",
      "Epoch 11/200\n",
      "2329/2329 [==============================] - 11s 5ms/step - loss: 0.6307 - accuracy: 0.6329 - val_loss: 0.6314 - val_accuracy: 0.6340\n",
      "Epoch 12/200\n",
      "2329/2329 [==============================] - 11s 5ms/step - loss: 0.6292 - accuracy: 0.6341 - val_loss: 0.6304 - val_accuracy: 0.6336\n",
      "Epoch 13/200\n",
      "2329/2329 [==============================] - 11s 5ms/step - loss: 0.6280 - accuracy: 0.6356 - val_loss: 0.6298 - val_accuracy: 0.6338\n",
      "Epoch 14/200\n",
      "2329/2329 [==============================] - 13s 6ms/step - loss: 0.6266 - accuracy: 0.6383 - val_loss: 0.6276 - val_accuracy: 0.6378\n",
      "Epoch 15/200\n",
      "2329/2329 [==============================] - 13s 6ms/step - loss: 0.6250 - accuracy: 0.6395 - val_loss: 0.6267 - val_accuracy: 0.6379\n",
      "Epoch 16/200\n",
      "2329/2329 [==============================] - 13s 6ms/step - loss: 0.6236 - accuracy: 0.6403 - val_loss: 0.6256 - val_accuracy: 0.6387\n",
      "Epoch 17/200\n",
      "2329/2329 [==============================] - 11s 5ms/step - loss: 0.6218 - accuracy: 0.6438 - val_loss: 0.6241 - val_accuracy: 0.6408\n",
      "Epoch 18/200\n",
      "2329/2329 [==============================] - 11s 5ms/step - loss: 0.6205 - accuracy: 0.6428 - val_loss: 0.6233 - val_accuracy: 0.6409\n",
      "Epoch 19/200\n",
      "2329/2329 [==============================] - 13s 6ms/step - loss: 0.6185 - accuracy: 0.6451 - val_loss: 0.6261 - val_accuracy: 0.6371\n",
      "Epoch 20/200\n",
      "2329/2329 [==============================] - 13s 6ms/step - loss: 0.6173 - accuracy: 0.6478 - val_loss: 0.6190 - val_accuracy: 0.6446\n",
      "Epoch 21/200\n",
      "2329/2329 [==============================] - 11s 5ms/step - loss: 0.6163 - accuracy: 0.6474 - val_loss: 0.6216 - val_accuracy: 0.6403\n",
      "Epoch 22/200\n",
      "2329/2329 [==============================] - 11s 5ms/step - loss: 0.6148 - accuracy: 0.6496 - val_loss: 0.6171 - val_accuracy: 0.6467\n",
      "Epoch 23/200\n",
      "2329/2329 [==============================] - 11s 5ms/step - loss: 0.6140 - accuracy: 0.6496 - val_loss: 0.6161 - val_accuracy: 0.6481\n",
      "Epoch 24/200\n",
      "2329/2329 [==============================] - 11s 5ms/step - loss: 0.6128 - accuracy: 0.6509 - val_loss: 0.6167 - val_accuracy: 0.6460\n",
      "Epoch 25/200\n",
      "2329/2329 [==============================] - 10s 4ms/step - loss: 0.6119 - accuracy: 0.6522 - val_loss: 0.6143 - val_accuracy: 0.6494\n",
      "Epoch 26/200\n",
      "2329/2329 [==============================] - 10s 4ms/step - loss: 0.6110 - accuracy: 0.6526 - val_loss: 0.6149 - val_accuracy: 0.6460\n",
      "Epoch 27/200\n",
      "2329/2329 [==============================] - 11s 5ms/step - loss: 0.6101 - accuracy: 0.6536 - val_loss: 0.6127 - val_accuracy: 0.6517\n",
      "Epoch 28/200\n",
      "2329/2329 [==============================] - 13s 6ms/step - loss: 0.6095 - accuracy: 0.6549 - val_loss: 0.6119 - val_accuracy: 0.6544\n",
      "Epoch 29/200\n",
      "2329/2329 [==============================] - 11s 5ms/step - loss: 0.6088 - accuracy: 0.6560 - val_loss: 0.6120 - val_accuracy: 0.6502\n",
      "Epoch 30/200\n",
      "2329/2329 [==============================] - 13s 6ms/step - loss: 0.6084 - accuracy: 0.6549 - val_loss: 0.6114 - val_accuracy: 0.6493\n",
      "Epoch 31/200\n",
      "2329/2329 [==============================] - 13s 6ms/step - loss: 0.6078 - accuracy: 0.6556 - val_loss: 0.6104 - val_accuracy: 0.6525\n",
      "Epoch 32/200\n",
      "2329/2329 [==============================] - 14s 6ms/step - loss: 0.6070 - accuracy: 0.6560 - val_loss: 0.6103 - val_accuracy: 0.6538\n",
      "Epoch 33/200\n",
      "2329/2329 [==============================] - 10s 5ms/step - loss: 0.6064 - accuracy: 0.6578 - val_loss: 0.6099 - val_accuracy: 0.6507\n",
      "Epoch 34/200\n",
      "2329/2329 [==============================] - 11s 5ms/step - loss: 0.6065 - accuracy: 0.6559 - val_loss: 0.6124 - val_accuracy: 0.6494\n",
      "Epoch 35/200\n",
      "2329/2329 [==============================] - 13s 6ms/step - loss: 0.6057 - accuracy: 0.6572 - val_loss: 0.6097 - val_accuracy: 0.6497\n",
      "Epoch 36/200\n",
      "2329/2329 [==============================] - 10s 4ms/step - loss: 0.6054 - accuracy: 0.6574 - val_loss: 0.6094 - val_accuracy: 0.6550\n",
      "Epoch 37/200\n",
      "2329/2329 [==============================] - 11s 5ms/step - loss: 0.6048 - accuracy: 0.6587 - val_loss: 0.6070 - val_accuracy: 0.6552\n",
      "Epoch 38/200\n",
      "2329/2329 [==============================] - 13s 6ms/step - loss: 0.6046 - accuracy: 0.6582 - val_loss: 0.6076 - val_accuracy: 0.6541\n",
      "Epoch 39/200\n",
      "2329/2329 [==============================] - 13s 6ms/step - loss: 0.6042 - accuracy: 0.6590 - val_loss: 0.6092 - val_accuracy: 0.6554\n",
      "Epoch 40/200\n",
      "2329/2329 [==============================] - 13s 6ms/step - loss: 0.6037 - accuracy: 0.6579 - val_loss: 0.6061 - val_accuracy: 0.6552\n",
      "Epoch 41/200\n",
      "2329/2329 [==============================] - 11s 5ms/step - loss: 0.6034 - accuracy: 0.6578 - val_loss: 0.6059 - val_accuracy: 0.6550\n",
      "Epoch 42/200\n",
      "2329/2329 [==============================] - 13s 6ms/step - loss: 0.6030 - accuracy: 0.6584 - val_loss: 0.6051 - val_accuracy: 0.6560\n",
      "Epoch 43/200\n",
      "2329/2329 [==============================] - 13s 6ms/step - loss: 0.6026 - accuracy: 0.6604 - val_loss: 0.6056 - val_accuracy: 0.6532\n",
      "Epoch 44/200\n",
      "2329/2329 [==============================] - 14s 6ms/step - loss: 0.6025 - accuracy: 0.6587 - val_loss: 0.6049 - val_accuracy: 0.6568\n",
      "Epoch 45/200\n",
      "2329/2329 [==============================] - 13s 6ms/step - loss: 0.6022 - accuracy: 0.6584 - val_loss: 0.6122 - val_accuracy: 0.6483\n",
      "Epoch 46/200\n",
      "2329/2329 [==============================] - 11s 5ms/step - loss: 0.6021 - accuracy: 0.6592 - val_loss: 0.6038 - val_accuracy: 0.6570\n",
      "Epoch 47/200\n",
      "2329/2329 [==============================] - 13s 6ms/step - loss: 0.6016 - accuracy: 0.6594 - val_loss: 0.6089 - val_accuracy: 0.6526\n",
      "Epoch 48/200\n",
      "2329/2329 [==============================] - 11s 5ms/step - loss: 0.6014 - accuracy: 0.6597 - val_loss: 0.6039 - val_accuracy: 0.6569\n",
      "Epoch 49/200\n",
      "2329/2329 [==============================] - 11s 5ms/step - loss: 0.6008 - accuracy: 0.6603 - val_loss: 0.6038 - val_accuracy: 0.6575\n",
      "Epoch 50/200\n",
      "2329/2329 [==============================] - 13s 6ms/step - loss: 0.6005 - accuracy: 0.6607 - val_loss: 0.6038 - val_accuracy: 0.6569\n",
      "Epoch 51/200\n",
      "2329/2329 [==============================] - 13s 6ms/step - loss: 0.6002 - accuracy: 0.6624 - val_loss: 0.6038 - val_accuracy: 0.6564\n",
      "Epoch 52/200\n",
      "2329/2329 [==============================] - 11s 5ms/step - loss: 0.5999 - accuracy: 0.6619 - val_loss: 0.6030 - val_accuracy: 0.6565\n",
      "Epoch 53/200\n",
      "2329/2329 [==============================] - 13s 6ms/step - loss: 0.5999 - accuracy: 0.6628 - val_loss: 0.6079 - val_accuracy: 0.6550\n",
      "Epoch 54/200\n",
      "2329/2329 [==============================] - 11s 5ms/step - loss: 0.5994 - accuracy: 0.6620 - val_loss: 0.6029 - val_accuracy: 0.6599\n",
      "Epoch 55/200\n",
      "2329/2329 [==============================] - 13s 6ms/step - loss: 0.5993 - accuracy: 0.6623 - val_loss: 0.6032 - val_accuracy: 0.6563\n",
      "Epoch 56/200\n",
      "2329/2329 [==============================] - 11s 5ms/step - loss: 0.5991 - accuracy: 0.6629 - val_loss: 0.6013 - val_accuracy: 0.6599\n",
      "Epoch 57/200\n",
      "2329/2329 [==============================] - 14s 6ms/step - loss: 0.5987 - accuracy: 0.6624 - val_loss: 0.6020 - val_accuracy: 0.6587\n",
      "Epoch 58/200\n",
      "2329/2329 [==============================] - 11s 5ms/step - loss: 0.5981 - accuracy: 0.6624 - val_loss: 0.6013 - val_accuracy: 0.6608\n",
      "Epoch 59/200\n",
      "2329/2329 [==============================] - 11s 5ms/step - loss: 0.5980 - accuracy: 0.6635 - val_loss: 0.6011 - val_accuracy: 0.6589\n",
      "Epoch 60/200\n",
      "2329/2329 [==============================] - 13s 6ms/step - loss: 0.5977 - accuracy: 0.6619 - val_loss: 0.6038 - val_accuracy: 0.6575\n",
      "Epoch 61/200\n",
      "2329/2329 [==============================] - 11s 5ms/step - loss: 0.5972 - accuracy: 0.6621 - val_loss: 0.6010 - val_accuracy: 0.6566\n",
      "Epoch 62/200\n",
      "2329/2329 [==============================] - 13s 6ms/step - loss: 0.5970 - accuracy: 0.6636 - val_loss: 0.6002 - val_accuracy: 0.6609\n",
      "Epoch 63/200\n",
      "2329/2329 [==============================] - 11s 5ms/step - loss: 0.5965 - accuracy: 0.6640 - val_loss: 0.5997 - val_accuracy: 0.6639\n",
      "Epoch 64/200\n",
      "2329/2329 [==============================] - 11s 5ms/step - loss: 0.5961 - accuracy: 0.6658 - val_loss: 0.6003 - val_accuracy: 0.6588\n",
      "Epoch 65/200\n",
      "2329/2329 [==============================] - 11s 5ms/step - loss: 0.5958 - accuracy: 0.6648 - val_loss: 0.5991 - val_accuracy: 0.6613\n",
      "Epoch 66/200\n",
      "2329/2329 [==============================] - 11s 5ms/step - loss: 0.5956 - accuracy: 0.6652 - val_loss: 0.6003 - val_accuracy: 0.6616\n",
      "Epoch 67/200\n",
      "2329/2329 [==============================] - 11s 5ms/step - loss: 0.5956 - accuracy: 0.6636 - val_loss: 0.5998 - val_accuracy: 0.6596\n",
      "Epoch 68/200\n",
      "2329/2329 [==============================] - 11s 5ms/step - loss: 0.5951 - accuracy: 0.6671 - val_loss: 0.5988 - val_accuracy: 0.6612\n",
      "Epoch 69/200\n",
      "2329/2329 [==============================] - 11s 5ms/step - loss: 0.5952 - accuracy: 0.6641 - val_loss: 0.5978 - val_accuracy: 0.6630\n",
      "Epoch 70/200\n",
      "2329/2329 [==============================] - 11s 5ms/step - loss: 0.5948 - accuracy: 0.6651 - val_loss: 0.5982 - val_accuracy: 0.6616\n",
      "Epoch 71/200\n",
      "2329/2329 [==============================] - 14s 6ms/step - loss: 0.5947 - accuracy: 0.6654 - val_loss: 0.5973 - val_accuracy: 0.6632\n",
      "Epoch 72/200\n",
      "2329/2329 [==============================] - 11s 5ms/step - loss: 0.5945 - accuracy: 0.6647 - val_loss: 0.5980 - val_accuracy: 0.6610\n",
      "Epoch 73/200\n",
      "2329/2329 [==============================] - 11s 5ms/step - loss: 0.5941 - accuracy: 0.6650 - val_loss: 0.6039 - val_accuracy: 0.6612\n",
      "Epoch 74/200\n",
      "2329/2329 [==============================] - 11s 5ms/step - loss: 0.5940 - accuracy: 0.6665 - val_loss: 0.5972 - val_accuracy: 0.6646\n",
      "Epoch 75/200\n",
      "2329/2329 [==============================] - 13s 6ms/step - loss: 0.5931 - accuracy: 0.6663 - val_loss: 0.5982 - val_accuracy: 0.6645\n",
      "Epoch 76/200\n",
      "2329/2329 [==============================] - 13s 6ms/step - loss: 0.5935 - accuracy: 0.6660 - val_loss: 0.5970 - val_accuracy: 0.6645\n",
      "Epoch 77/200\n",
      "2329/2329 [==============================] - 11s 5ms/step - loss: 0.5930 - accuracy: 0.6666 - val_loss: 0.5997 - val_accuracy: 0.6602\n",
      "Epoch 78/200\n",
      "2329/2329 [==============================] - 11s 5ms/step - loss: 0.5932 - accuracy: 0.6665 - val_loss: 0.5968 - val_accuracy: 0.6633\n",
      "Epoch 79/200\n",
      "2329/2329 [==============================] - 11s 5ms/step - loss: 0.5930 - accuracy: 0.6674 - val_loss: 0.6016 - val_accuracy: 0.6577\n",
      "Epoch 80/200\n",
      "2329/2329 [==============================] - 13s 6ms/step - loss: 0.5924 - accuracy: 0.6684 - val_loss: 0.5964 - val_accuracy: 0.6619\n",
      "Epoch 81/200\n",
      "2329/2329 [==============================] - 11s 5ms/step - loss: 0.5924 - accuracy: 0.6703 - val_loss: 0.5959 - val_accuracy: 0.6644\n",
      "Epoch 82/200\n",
      "2329/2329 [==============================] - 11s 5ms/step - loss: 0.5923 - accuracy: 0.6677 - val_loss: 0.5985 - val_accuracy: 0.6605\n",
      "Epoch 83/200\n",
      "2329/2329 [==============================] - 11s 5ms/step - loss: 0.5920 - accuracy: 0.6692 - val_loss: 0.5964 - val_accuracy: 0.6636\n",
      "Epoch 84/200\n",
      "2329/2329 [==============================] - 11s 5ms/step - loss: 0.5919 - accuracy: 0.6690 - val_loss: 0.5963 - val_accuracy: 0.6621\n",
      "Epoch 85/200\n",
      "2329/2329 [==============================] - 11s 5ms/step - loss: 0.5916 - accuracy: 0.6679 - val_loss: 0.5954 - val_accuracy: 0.6646\n",
      "Epoch 86/200\n",
      "2329/2329 [==============================] - 13s 6ms/step - loss: 0.5917 - accuracy: 0.6681 - val_loss: 0.5956 - val_accuracy: 0.6636\n",
      "Epoch 87/200\n",
      "2329/2329 [==============================] - 11s 5ms/step - loss: 0.5911 - accuracy: 0.6705 - val_loss: 0.5955 - val_accuracy: 0.6622\n",
      "Epoch 88/200\n",
      "2329/2329 [==============================] - 11s 5ms/step - loss: 0.5914 - accuracy: 0.6674 - val_loss: 0.5952 - val_accuracy: 0.6651\n",
      "Epoch 89/200\n",
      "2329/2329 [==============================] - 11s 5ms/step - loss: 0.5911 - accuracy: 0.6672 - val_loss: 0.5957 - val_accuracy: 0.6653\n",
      "Epoch 90/200\n",
      "2329/2329 [==============================] - 13s 6ms/step - loss: 0.5908 - accuracy: 0.6697 - val_loss: 0.5952 - val_accuracy: 0.6654\n",
      "Epoch 91/200\n",
      "2329/2329 [==============================] - 13s 6ms/step - loss: 0.5909 - accuracy: 0.6692 - val_loss: 0.5961 - val_accuracy: 0.6621\n",
      "Epoch 92/200\n",
      "2329/2329 [==============================] - 13s 6ms/step - loss: 0.5909 - accuracy: 0.6686 - val_loss: 0.5965 - val_accuracy: 0.6660\n",
      "Epoch 93/200\n",
      "2329/2329 [==============================] - 14s 6ms/step - loss: 0.5905 - accuracy: 0.6683 - val_loss: 0.5960 - val_accuracy: 0.6632\n",
      "Epoch 94/200\n",
      "2329/2329 [==============================] - 11s 5ms/step - loss: 0.5903 - accuracy: 0.6697 - val_loss: 0.5975 - val_accuracy: 0.6622\n",
      "Epoch 95/200\n",
      "2329/2329 [==============================] - 13s 6ms/step - loss: 0.5904 - accuracy: 0.6689 - val_loss: 0.5969 - val_accuracy: 0.6620\n",
      "Epoch 96/200\n",
      "2329/2329 [==============================] - 11s 5ms/step - loss: 0.5902 - accuracy: 0.6693 - val_loss: 0.5952 - val_accuracy: 0.6624\n",
      "Epoch 97/200\n",
      "2329/2329 [==============================] - 11s 5ms/step - loss: 0.5900 - accuracy: 0.6695 - val_loss: 0.5945 - val_accuracy: 0.6645\n",
      "Epoch 98/200\n",
      "2329/2329 [==============================] - 11s 5ms/step - loss: 0.5898 - accuracy: 0.6690 - val_loss: 0.5936 - val_accuracy: 0.6659\n",
      "Epoch 99/200\n",
      "2329/2329 [==============================] - 13s 6ms/step - loss: 0.5898 - accuracy: 0.6684 - val_loss: 0.5960 - val_accuracy: 0.6629\n",
      "Epoch 100/200\n",
      "2329/2329 [==============================] - 11s 5ms/step - loss: 0.5895 - accuracy: 0.6701 - val_loss: 0.5942 - val_accuracy: 0.6658\n",
      "Epoch 101/200\n",
      "2329/2329 [==============================] - 14s 6ms/step - loss: 0.5896 - accuracy: 0.6706 - val_loss: 0.5939 - val_accuracy: 0.6652\n",
      "Epoch 102/200\n",
      "2329/2329 [==============================] - 13s 6ms/step - loss: 0.5892 - accuracy: 0.6703 - val_loss: 0.5931 - val_accuracy: 0.6669\n",
      "Epoch 103/200\n",
      "2329/2329 [==============================] - 13s 6ms/step - loss: 0.5893 - accuracy: 0.6698 - val_loss: 0.5952 - val_accuracy: 0.6623\n",
      "Epoch 104/200\n",
      "2329/2329 [==============================] - 11s 5ms/step - loss: 0.5891 - accuracy: 0.6710 - val_loss: 0.5932 - val_accuracy: 0.6666\n",
      "Epoch 105/200\n",
      "2329/2329 [==============================] - 11s 5ms/step - loss: 0.5889 - accuracy: 0.6693 - val_loss: 0.5933 - val_accuracy: 0.6674\n",
      "Epoch 106/200\n",
      "2329/2329 [==============================] - 11s 5ms/step - loss: 0.5889 - accuracy: 0.6694 - val_loss: 0.5930 - val_accuracy: 0.6659\n",
      "Epoch 107/200\n",
      "2329/2329 [==============================] - 13s 6ms/step - loss: 0.5889 - accuracy: 0.6686 - val_loss: 0.5942 - val_accuracy: 0.6652\n",
      "Epoch 108/200\n",
      "2329/2329 [==============================] - 13s 6ms/step - loss: 0.5883 - accuracy: 0.6703 - val_loss: 0.5944 - val_accuracy: 0.6671\n",
      "Epoch 109/200\n",
      "2329/2329 [==============================] - 14s 6ms/step - loss: 0.5882 - accuracy: 0.6702 - val_loss: 0.5928 - val_accuracy: 0.6697\n",
      "Epoch 110/200\n",
      "2329/2329 [==============================] - 11s 5ms/step - loss: 0.5882 - accuracy: 0.6713 - val_loss: 0.5951 - val_accuracy: 0.6631\n",
      "Epoch 111/200\n",
      "2329/2329 [==============================] - 11s 5ms/step - loss: 0.5881 - accuracy: 0.6701 - val_loss: 0.5942 - val_accuracy: 0.6646\n",
      "Epoch 112/200\n",
      "2329/2329 [==============================] - 13s 6ms/step - loss: 0.5882 - accuracy: 0.6709 - val_loss: 0.5932 - val_accuracy: 0.6656\n",
      "Epoch 113/200\n",
      "2329/2329 [==============================] - 11s 5ms/step - loss: 0.5880 - accuracy: 0.6710 - val_loss: 0.5968 - val_accuracy: 0.6607\n",
      "Epoch 114/200\n",
      "2329/2329 [==============================] - 11s 5ms/step - loss: 0.5875 - accuracy: 0.6726 - val_loss: 0.5926 - val_accuracy: 0.6673\n",
      "Epoch 115/200\n",
      "2329/2329 [==============================] - 11s 5ms/step - loss: 0.5874 - accuracy: 0.6710 - val_loss: 0.5915 - val_accuracy: 0.6675\n",
      "Epoch 116/200\n",
      "2329/2329 [==============================] - 11s 5ms/step - loss: 0.5877 - accuracy: 0.6705 - val_loss: 0.5913 - val_accuracy: 0.6679\n",
      "Epoch 117/200\n",
      "2329/2329 [==============================] - 11s 5ms/step - loss: 0.5871 - accuracy: 0.6706 - val_loss: 0.5926 - val_accuracy: 0.6676\n",
      "Epoch 118/200\n",
      "2329/2329 [==============================] - 11s 5ms/step - loss: 0.5873 - accuracy: 0.6709 - val_loss: 0.6027 - val_accuracy: 0.6550\n",
      "Epoch 119/200\n",
      "2329/2329 [==============================] - 13s 6ms/step - loss: 0.5874 - accuracy: 0.6709 - val_loss: 0.5907 - val_accuracy: 0.6675\n",
      "Epoch 120/200\n",
      "2329/2329 [==============================] - 11s 5ms/step - loss: 0.5867 - accuracy: 0.6718 - val_loss: 0.5963 - val_accuracy: 0.6654\n",
      "Epoch 121/200\n",
      "2329/2329 [==============================] - 11s 5ms/step - loss: 0.5865 - accuracy: 0.6733 - val_loss: 0.5933 - val_accuracy: 0.6648\n",
      "Epoch 122/200\n",
      "2329/2329 [==============================] - 11s 5ms/step - loss: 0.5868 - accuracy: 0.6728 - val_loss: 0.5904 - val_accuracy: 0.6659\n",
      "Epoch 123/200\n",
      "2329/2329 [==============================] - 13s 6ms/step - loss: 0.5867 - accuracy: 0.6723 - val_loss: 0.5910 - val_accuracy: 0.6666\n",
      "Epoch 124/200\n",
      "2329/2329 [==============================] - 11s 5ms/step - loss: 0.5865 - accuracy: 0.6716 - val_loss: 0.5910 - val_accuracy: 0.6672\n",
      "Epoch 125/200\n",
      "2329/2329 [==============================] - 13s 6ms/step - loss: 0.5864 - accuracy: 0.6723 - val_loss: 0.5904 - val_accuracy: 0.6684\n",
      "Epoch 126/200\n",
      "2329/2329 [==============================] - 11s 5ms/step - loss: 0.5853 - accuracy: 0.6731 - val_loss: 0.5930 - val_accuracy: 0.6635\n",
      "Epoch 127/200\n",
      "2329/2329 [==============================] - 11s 5ms/step - loss: 0.5857 - accuracy: 0.6736 - val_loss: 0.5901 - val_accuracy: 0.6711\n",
      "Epoch 128/200\n",
      "2329/2329 [==============================] - 11s 5ms/step - loss: 0.5860 - accuracy: 0.6718 - val_loss: 0.5930 - val_accuracy: 0.6645\n",
      "Epoch 129/200\n",
      "2329/2329 [==============================] - 11s 5ms/step - loss: 0.5857 - accuracy: 0.6733 - val_loss: 0.5905 - val_accuracy: 0.6669\n",
      "Epoch 130/200\n",
      "2329/2329 [==============================] - 14s 6ms/step - loss: 0.5855 - accuracy: 0.6725 - val_loss: 0.5905 - val_accuracy: 0.6689\n",
      "Epoch 131/200\n",
      "2329/2329 [==============================] - 11s 5ms/step - loss: 0.5856 - accuracy: 0.6733 - val_loss: 0.5912 - val_accuracy: 0.6658\n",
      "Epoch 132/200\n",
      "2329/2329 [==============================] - 13s 6ms/step - loss: 0.5853 - accuracy: 0.6736 - val_loss: 0.5898 - val_accuracy: 0.6680\n",
      "Epoch 133/200\n",
      "2329/2329 [==============================] - 14s 6ms/step - loss: 0.5853 - accuracy: 0.6725 - val_loss: 0.5903 - val_accuracy: 0.6677\n",
      "Epoch 134/200\n",
      "2329/2329 [==============================] - 14s 6ms/step - loss: 0.5850 - accuracy: 0.6731 - val_loss: 0.5898 - val_accuracy: 0.6675\n",
      "Epoch 135/200\n",
      "2329/2329 [==============================] - 11s 5ms/step - loss: 0.5851 - accuracy: 0.6729 - val_loss: 0.5892 - val_accuracy: 0.6688\n",
      "Epoch 136/200\n",
      "2329/2329 [==============================] - 14s 6ms/step - loss: 0.5852 - accuracy: 0.6743 - val_loss: 0.5915 - val_accuracy: 0.6667\n",
      "Epoch 137/200\n",
      "2329/2329 [==============================] - 14s 6ms/step - loss: 0.5848 - accuracy: 0.6735 - val_loss: 0.5895 - val_accuracy: 0.6680\n",
      "Epoch 138/200\n",
      "2329/2329 [==============================] - 13s 6ms/step - loss: 0.5851 - accuracy: 0.6722 - val_loss: 0.5919 - val_accuracy: 0.6674\n",
      "Epoch 139/200\n",
      "2329/2329 [==============================] - 11s 5ms/step - loss: 0.5847 - accuracy: 0.6720 - val_loss: 0.5890 - val_accuracy: 0.6696\n",
      "Epoch 140/200\n",
      "2329/2329 [==============================] - 14s 6ms/step - loss: 0.5846 - accuracy: 0.6744 - val_loss: 0.5890 - val_accuracy: 0.6698\n",
      "Epoch 141/200\n",
      "2329/2329 [==============================] - 13s 6ms/step - loss: 0.5846 - accuracy: 0.6730 - val_loss: 0.5896 - val_accuracy: 0.6683\n",
      "Epoch 142/200\n",
      "2329/2329 [==============================] - 14s 6ms/step - loss: 0.5841 - accuracy: 0.6734 - val_loss: 0.5904 - val_accuracy: 0.6664\n",
      "Epoch 143/200\n",
      "2329/2329 [==============================] - 13s 6ms/step - loss: 0.5843 - accuracy: 0.6738 - val_loss: 0.5887 - val_accuracy: 0.6703\n",
      "Epoch 144/200\n",
      "2329/2329 [==============================] - 11s 5ms/step - loss: 0.5845 - accuracy: 0.6736 - val_loss: 0.5890 - val_accuracy: 0.6693\n",
      "Epoch 145/200\n",
      "2329/2329 [==============================] - 14s 6ms/step - loss: 0.5843 - accuracy: 0.6746 - val_loss: 0.5903 - val_accuracy: 0.6668\n",
      "Epoch 146/200\n",
      "2329/2329 [==============================] - 14s 6ms/step - loss: 0.5844 - accuracy: 0.6740 - val_loss: 0.5895 - val_accuracy: 0.6672\n",
      "Epoch 147/200\n",
      "2329/2329 [==============================] - 14s 6ms/step - loss: 0.5839 - accuracy: 0.6732 - val_loss: 0.5898 - val_accuracy: 0.6674\n",
      "Epoch 148/200\n",
      "2329/2329 [==============================] - 14s 6ms/step - loss: 0.5840 - accuracy: 0.6746 - val_loss: 0.5902 - val_accuracy: 0.6696\n",
      "Epoch 149/200\n",
      "2329/2329 [==============================] - 11s 5ms/step - loss: 0.5838 - accuracy: 0.6741 - val_loss: 0.5883 - val_accuracy: 0.6688\n",
      "Epoch 150/200\n",
      "2329/2329 [==============================] - 14s 6ms/step - loss: 0.5836 - accuracy: 0.6753 - val_loss: 0.5917 - val_accuracy: 0.6691\n",
      "Epoch 151/200\n",
      "2329/2329 [==============================] - 14s 6ms/step - loss: 0.5837 - accuracy: 0.6733 - val_loss: 0.5893 - val_accuracy: 0.6682\n",
      "Epoch 152/200\n",
      "2329/2329 [==============================] - 11s 5ms/step - loss: 0.5836 - accuracy: 0.6732 - val_loss: 0.5900 - val_accuracy: 0.6660\n",
      "Epoch 153/200\n",
      "2329/2329 [==============================] - 14s 6ms/step - loss: 0.5837 - accuracy: 0.6736 - val_loss: 0.5892 - val_accuracy: 0.6678\n",
      "Epoch 154/200\n",
      "2329/2329 [==============================] - 14s 6ms/step - loss: 0.5833 - accuracy: 0.6750 - val_loss: 0.5889 - val_accuracy: 0.6692\n",
      "Epoch 155/200\n",
      "2329/2329 [==============================] - 11s 5ms/step - loss: 0.5836 - accuracy: 0.6747 - val_loss: 0.5887 - val_accuracy: 0.6699\n",
      "Epoch 156/200\n",
      "2329/2329 [==============================] - 13s 6ms/step - loss: 0.5832 - accuracy: 0.6731 - val_loss: 0.5907 - val_accuracy: 0.6661\n",
      "Epoch 157/200\n",
      "2329/2329 [==============================] - 11s 5ms/step - loss: 0.5830 - accuracy: 0.6746 - val_loss: 0.5881 - val_accuracy: 0.6692\n",
      "Epoch 158/200\n",
      "2329/2329 [==============================] - 13s 6ms/step - loss: 0.5832 - accuracy: 0.6739 - val_loss: 0.5894 - val_accuracy: 0.6661\n",
      "Epoch 159/200\n",
      "2329/2329 [==============================] - 11s 5ms/step - loss: 0.5833 - accuracy: 0.6743 - val_loss: 0.5898 - val_accuracy: 0.6684\n",
      "Epoch 160/200\n",
      "2329/2329 [==============================] - 14s 6ms/step - loss: 0.5832 - accuracy: 0.6755 - val_loss: 0.5877 - val_accuracy: 0.6684\n",
      "Epoch 161/200\n",
      "2329/2329 [==============================] - 13s 6ms/step - loss: 0.5830 - accuracy: 0.6754 - val_loss: 0.5887 - val_accuracy: 0.6689\n",
      "Epoch 162/200\n",
      "2329/2329 [==============================] - 14s 6ms/step - loss: 0.5828 - accuracy: 0.6751 - val_loss: 0.5876 - val_accuracy: 0.6696\n",
      "Epoch 163/200\n",
      "2329/2329 [==============================] - 14s 6ms/step - loss: 0.5825 - accuracy: 0.6757 - val_loss: 0.5910 - val_accuracy: 0.6651\n",
      "Epoch 164/200\n",
      "2329/2329 [==============================] - 11s 5ms/step - loss: 0.5830 - accuracy: 0.6750 - val_loss: 0.5924 - val_accuracy: 0.6683\n",
      "Epoch 165/200\n",
      "2329/2329 [==============================] - 11s 5ms/step - loss: 0.5831 - accuracy: 0.6746 - val_loss: 0.5894 - val_accuracy: 0.6697\n",
      "Epoch 166/200\n",
      "2329/2329 [==============================] - 14s 6ms/step - loss: 0.5826 - accuracy: 0.6743 - val_loss: 0.5878 - val_accuracy: 0.6691\n",
      "Epoch 167/200\n",
      "2329/2329 [==============================] - 11s 5ms/step - loss: 0.5825 - accuracy: 0.6766 - val_loss: 0.5898 - val_accuracy: 0.6669\n",
      "Epoch 168/200\n",
      "2329/2329 [==============================] - 14s 6ms/step - loss: 0.5828 - accuracy: 0.6753 - val_loss: 0.5878 - val_accuracy: 0.6678\n",
      "Epoch 169/200\n",
      "2329/2329 [==============================] - 14s 6ms/step - loss: 0.5827 - accuracy: 0.6747 - val_loss: 0.5878 - val_accuracy: 0.6694\n",
      "Epoch 170/200\n",
      "2329/2329 [==============================] - 14s 6ms/step - loss: 0.5829 - accuracy: 0.6751 - val_loss: 0.5869 - val_accuracy: 0.6710\n",
      "Epoch 171/200\n",
      "2329/2329 [==============================] - 11s 5ms/step - loss: 0.5827 - accuracy: 0.6756 - val_loss: 0.5890 - val_accuracy: 0.6663\n",
      "Epoch 172/200\n",
      "2329/2329 [==============================] - 14s 6ms/step - loss: 0.5824 - accuracy: 0.6768 - val_loss: 0.5878 - val_accuracy: 0.6670\n",
      "Epoch 173/200\n",
      "2329/2329 [==============================] - 11s 5ms/step - loss: 0.5824 - accuracy: 0.6757 - val_loss: 0.5873 - val_accuracy: 0.6703\n",
      "Epoch 174/200\n",
      "2329/2329 [==============================] - 13s 6ms/step - loss: 0.5821 - accuracy: 0.6750 - val_loss: 0.5873 - val_accuracy: 0.6692\n",
      "Epoch 175/200\n",
      "2329/2329 [==============================] - 11s 5ms/step - loss: 0.5829 - accuracy: 0.6747 - val_loss: 0.5887 - val_accuracy: 0.6664\n",
      "Epoch 176/200\n",
      "2329/2329 [==============================] - 11s 5ms/step - loss: 0.5821 - accuracy: 0.6746 - val_loss: 0.5866 - val_accuracy: 0.6713\n",
      "Epoch 177/200\n",
      "2329/2329 [==============================] - 14s 6ms/step - loss: 0.5828 - accuracy: 0.6739 - val_loss: 0.5869 - val_accuracy: 0.6693\n",
      "Epoch 178/200\n",
      "2329/2329 [==============================] - 14s 6ms/step - loss: 0.5826 - accuracy: 0.6745 - val_loss: 0.5873 - val_accuracy: 0.6703\n",
      "Epoch 179/200\n",
      "2329/2329 [==============================] - 11s 5ms/step - loss: 0.5821 - accuracy: 0.6766 - val_loss: 0.5899 - val_accuracy: 0.6661\n",
      "Epoch 180/200\n",
      "2329/2329 [==============================] - 14s 6ms/step - loss: 0.5823 - accuracy: 0.6745 - val_loss: 0.5884 - val_accuracy: 0.6689\n",
      "Epoch 181/200\n",
      "2329/2329 [==============================] - 13s 6ms/step - loss: 0.5823 - accuracy: 0.6752 - val_loss: 0.5873 - val_accuracy: 0.6714\n",
      "Epoch 182/200\n",
      "2329/2329 [==============================] - 11s 5ms/step - loss: 0.5822 - accuracy: 0.6765 - val_loss: 0.5871 - val_accuracy: 0.6720\n",
      "Epoch 183/200\n",
      "2329/2329 [==============================] - 11s 5ms/step - loss: 0.5820 - accuracy: 0.6760 - val_loss: 0.5873 - val_accuracy: 0.6681\n",
      "Epoch 184/200\n",
      "2329/2329 [==============================] - 11s 5ms/step - loss: 0.5818 - accuracy: 0.6767 - val_loss: 0.5869 - val_accuracy: 0.6701\n",
      "Epoch 185/200\n",
      "2329/2329 [==============================] - 14s 6ms/step - loss: 0.5820 - accuracy: 0.6749 - val_loss: 0.5866 - val_accuracy: 0.6705\n",
      "Epoch 186/200\n",
      "2329/2329 [==============================] - 11s 5ms/step - loss: 0.5817 - accuracy: 0.6752 - val_loss: 0.5906 - val_accuracy: 0.6652\n",
      "Epoch 187/200\n",
      "2329/2329 [==============================] - 11s 5ms/step - loss: 0.5817 - accuracy: 0.6750 - val_loss: 0.5909 - val_accuracy: 0.6645\n",
      "Epoch 188/200\n",
      "2329/2329 [==============================] - 14s 6ms/step - loss: 0.5817 - accuracy: 0.6756 - val_loss: 0.5867 - val_accuracy: 0.6712\n",
      "Epoch 189/200\n",
      "2329/2329 [==============================] - 11s 5ms/step - loss: 0.5817 - accuracy: 0.6762 - val_loss: 0.5867 - val_accuracy: 0.6701\n",
      "Epoch 190/200\n",
      "2329/2329 [==============================] - 14s 6ms/step - loss: 0.5815 - accuracy: 0.6755 - val_loss: 0.5866 - val_accuracy: 0.6703\n",
      "Epoch 191/200\n",
      "2329/2329 [==============================] - 14s 6ms/step - loss: 0.5818 - accuracy: 0.6752 - val_loss: 0.5860 - val_accuracy: 0.6711\n",
      "Epoch 192/200\n",
      "2329/2329 [==============================] - 11s 5ms/step - loss: 0.5817 - accuracy: 0.6757 - val_loss: 0.5865 - val_accuracy: 0.6689\n",
      "Epoch 193/200\n",
      "2329/2329 [==============================] - 11s 5ms/step - loss: 0.5816 - accuracy: 0.6754 - val_loss: 0.5909 - val_accuracy: 0.6637\n",
      "Epoch 194/200\n",
      "2329/2329 [==============================] - 11s 5ms/step - loss: 0.5815 - accuracy: 0.6762 - val_loss: 0.5897 - val_accuracy: 0.6696\n",
      "Epoch 195/200\n",
      "2329/2329 [==============================] - 11s 5ms/step - loss: 0.5813 - accuracy: 0.6766 - val_loss: 0.5863 - val_accuracy: 0.6713\n",
      "Epoch 196/200\n",
      "2329/2329 [==============================] - 11s 5ms/step - loss: 0.5814 - accuracy: 0.6763 - val_loss: 0.5877 - val_accuracy: 0.6682\n",
      "Epoch 197/200\n",
      "2329/2329 [==============================] - 11s 5ms/step - loss: 0.5813 - accuracy: 0.6772 - val_loss: 0.5860 - val_accuracy: 0.6723\n",
      "Epoch 198/200\n",
      "2329/2329 [==============================] - 11s 5ms/step - loss: 0.5813 - accuracy: 0.6758 - val_loss: 0.5851 - val_accuracy: 0.6714\n",
      "Epoch 199/200\n",
      "2329/2329 [==============================] - 14s 6ms/step - loss: 0.5814 - accuracy: 0.6764 - val_loss: 0.5866 - val_accuracy: 0.6699\n",
      "Epoch 200/200\n",
      "2329/2329 [==============================] - 14s 6ms/step - loss: 0.5811 - accuracy: 0.6767 - val_loss: 0.5885 - val_accuracy: 0.6721\n"
     ]
    }
   ],
   "source": [
    "# Initialising the ANN\n",
    "classifier = Sequential()\n",
    "\n",
    "# Adding the input layer and the first hidden layer\n",
    "classifier.add(Dense(units = 12, kernel_initializer= 'he_uniform',activation='relu',input_dim = 18))\n",
    "\n",
    "# Adding the second hidden layer\n",
    "classifier.add(Dense(units = 10, kernel_initializer = 'he_uniform',activation='relu'))\n",
    "\n",
    "# Adding the second hidden layer\n",
    "classifier.add(Dense(units = 6, kernel_initializer = 'he_uniform',activation='relu'))\n",
    "\n",
    "# Adding the output layer\n",
    "classifier.add(Dense(units = 1, kernel_initializer = 'glorot_uniform', activation = 'sigmoid'))\n",
    "\n",
    "# Compiling the ANN\n",
    "classifier.compile(optimizer = 'Adamax', loss = 'binary_crossentropy', metrics = ['accuracy'])\n",
    "\n",
    "# Fitting the ANN to the Training set\n",
    "model_history=classifier.fit(X_train, y_train,validation_split=0.40, batch_size = 20, epochs = 200)"
   ]
  },
  {
   "cell_type": "code",
   "execution_count": 33,
   "metadata": {
    "colab": {
     "base_uri": "https://localhost:8080/",
     "height": 295
    },
    "id": "6pdBEUyqfAz-",
    "outputId": "c9f9d938-6740-4b2a-ff39-c4e485391f19"
   },
   "outputs": [
    {
     "data": {
      "image/png": "[encoded data removed]",
      "text/plain": [
       "<Figure size 432x288 with 1 Axes>"
      ]
     },
     "metadata": {
      "needs_background": "light"
     },
     "output_type": "display_data"
    }
   ],
   "source": [
    "# summarize history for accuracy\n",
    "plt.plot(model_history.history['accuracy'])\n",
    "plt.plot(model_history.history['val_accuracy'])\n",
    "plt.title('model accuracy')\n",
    "plt.ylabel('accuracy')\n",
    "plt.xlabel('epoch')\n",
    "plt.legend(['train', 'test'], loc='upper left')\n",
    "plt.show()"
   ]
  },
  {
   "cell_type": "code",
   "execution_count": 34,
   "metadata": {
    "colab": {
     "base_uri": "https://localhost:8080/",
     "height": 295
    },
    "id": "mnzmxWusfA2Y",
    "outputId": "40b4d75e-7c85-4313-ff1c-eb0c6fc65f56"
   },
   "outputs": [
    {
     "data": {
      "image/png": "[encoded data removed]",
      "text/plain": [
       "<Figure size 432x288 with 1 Axes>"
      ]
     },
     "metadata": {
      "needs_background": "light"
     },
     "output_type": "display_data"
    }
   ],
   "source": [
    "# summarize history for loss\n",
    "plt.plot(model_history.history['loss'])\n",
    "plt.plot(model_history.history['val_loss'])\n",
    "plt.title('model loss')\n",
    "plt.ylabel('loss')\n",
    "plt.xlabel('epoch')\n",
    "plt.legend(['train', 'test'], loc='upper left')\n",
    "plt.show()"
   ]
  },
  {
   "cell_type": "code",
   "execution_count": 35,
   "metadata": {
    "id": "hJf66dRjpQkT"
   },
   "outputs": [],
   "source": [
    "# Predicting the Test set results\n",
    "y_pred = classifier.predict(X_test)\n",
    "y_pred = (y_pred > 0.5)\n",
    "\n",
    "# Making the Confusion Matrix\n",
    "from sklearn.metrics import confusion_matrix\n",
    "cm = confusion_matrix(y_test, y_pred)\n",
    "\n",
    "# Calculate the Accuracy\n",
    "from sklearn.metrics import accuracy_score\n",
    "score=accuracy_score(y_pred,y_test)"
   ]
  },
  {
   "cell_type": "code",
   "execution_count": 36,
   "metadata": {
    "colab": {
     "base_uri": "https://localhost:8080/"
    },
    "id": "b3bpra6WpQng",
    "outputId": "b363fcfc-5c43-4afd-8cd1-e39c2aef0b5e"
   },
   "outputs": [
    {
     "data": {
      "text/plain": [
       "array([[36660,  8262],\n",
       "       [17254, 15436]])"
      ]
     },
     "execution_count": 36,
     "metadata": {},
     "output_type": "execute_result"
    }
   ],
   "source": [
    "cm"
   ]
  },
  {
   "cell_type": "code",
   "execution_count": 37,
   "metadata": {
    "colab": {
     "base_uri": "https://localhost:8080/"
    },
    "id": "rU7Ojw0opQrA",
    "outputId": "302237b6-e6a4-4b0c-a781-99b36a229b8b"
   },
   "outputs": [
    {
     "data": {
      "text/plain": [
       "0.6712364067412255"
      ]
     },
     "execution_count": 37,
     "metadata": {},
     "output_type": "execute_result"
    }
   ],
   "source": [
    "score"
   ]
  }
 ],
 "metadata": {
  "accelerator": "GPU",
  "colab": {
   "collapsed_sections": [],
   "name": "NeuralNetwork.ipynb",
   "provenance": []
  },
  "kernelspec": {
   "display_name": "Python 3",
   "language": "python",
   "name": "python3"
  },
  "language_info": {
   "codemirror_mode": {
    "name": "ipython",
    "version": 3
   },
   "file_extension": ".py",
   "mimetype": "text/x-python",
   "name": "python",
   "nbconvert_exporter": "python",
   "pygments_lexer": "ipython3",
   "version": "3.7.11"
  },
  "varInspector": {
   "cols": {
    "lenName": 16,
    "lenType": 16,
    "lenVar": 40
   },
   "kernels_config": {
    "python": {
     "delete_cmd_postfix": "",
     "delete_cmd_prefix": "del ",
     "library": "var_list.py",
     "varRefreshCmd": "print(var_dic_list())"
    },
    "r": {
     "delete_cmd_postfix": ") ",
     "delete_cmd_prefix": "rm(",
     "library": "var_list.r",
     "varRefreshCmd": "cat(var_dic_list()) "
    }
   },
   "types_to_exclude": [
    "module",
    "function",
    "builtin_function_or_method",
    "instance",
    "_Feature"
   ],
   "window_display": false
  }
 },
 "nbformat": 4,
 "nbformat_minor": 1
}
