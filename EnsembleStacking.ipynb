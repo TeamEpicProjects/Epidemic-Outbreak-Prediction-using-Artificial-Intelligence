{
 "cells": [
  {
   "cell_type": "code",
   "execution_count": 3,
   "metadata": {
    "execution": {
     "iopub.execute_input": "2021-09-19T15:26:23.833256Z",
     "iopub.status.busy": "2021-09-19T15:26:23.833005Z",
     "iopub.status.idle": "2021-09-19T15:26:23.841872Z",
     "shell.execute_reply": "2021-09-19T15:26:23.841241Z",
     "shell.execute_reply.started": "2021-09-19T15:26:23.833230Z"
    }
   },
   "outputs": [
    {
     "data": {
      "text/html": [
       "        <script type=\"text/javascript\">\n",
       "        window.PlotlyConfig = {MathJaxConfig: 'local'};\n",
       "        if (window.MathJax) {MathJax.Hub.Config({SVG: {font: \"STIX-Web\"}});}\n",
       "        if (typeof require !== 'undefined') {\n",
       "        require.undef(\"plotly\");\n",
       "        requirejs.config({\n",
       "            paths: {\n",
       "                'plotly': ['https://cdn.plot.ly/plotly-2.4.2.min']\n",
       "            }\n",
       "        });\n",
       "        require(['plotly'], function(Plotly) {\n",
       "            window._Plotly = Plotly;\n",
       "        });\n",
       "        }\n",
       "        </script>\n",
       "        "
      ]
     },
     "metadata": {},
     "output_type": "display_data"
    }
   ],
   "source": [
    "import sklearn\n",
    "import xgboost as xgb\n",
    "import numpy as np\n",
    "import pandas as pd\n",
    "import re\n",
    "import seaborn as sns\n",
    "import matplotlib.pyplot as plt\n",
    "%matplotlib inline\n",
    "import plotly.offline as py\n",
    "py.init_notebook_mode(connected=True)\n",
    "import plotly.graph_objs as go\n",
    "import plotly.tools as tls\n",
    "import warnings\n",
    "warnings.filterwarnings('ignore')"
   ]
  },
  {
   "cell_type": "code",
   "execution_count": 11,
   "metadata": {
    "execution": {
     "iopub.execute_input": "2021-09-19T15:31:44.197172Z",
     "iopub.status.busy": "2021-09-19T15:31:44.196926Z",
     "iopub.status.idle": "2021-09-19T15:31:44.202089Z",
     "shell.execute_reply": "2021-09-19T15:31:44.201432Z",
     "shell.execute_reply.started": "2021-09-19T15:31:44.197145Z"
    }
   },
   "outputs": [],
   "source": [
    "# ML Algorithms used \n",
    "from sklearn.ensemble import AdaBoostClassifier\n",
    "from catboost import CatBoostClassifier\n",
    "from xgboost import XGBClassifier\n",
    "from sklearn.tree import DecisionTreeClassifier\n",
    "from sklearn.ensemble import RandomForestClassifier\n",
    "from sklearn.model_selection import KFold\n",
    "from sklearn.model_selection import cross_val_score\n",
    "from sklearn.model_selection import cross_val_predict\n",
    "from sklearn.model_selection import train_test_split \n",
    "from sklearn.preprocessing import MinMaxScaler"
   ]
  },
  {
   "cell_type": "code",
   "execution_count": 4,
   "metadata": {
    "execution": {
     "iopub.execute_input": "2021-09-19T15:27:11.638078Z",
     "iopub.status.busy": "2021-09-19T15:27:11.637823Z",
     "iopub.status.idle": "2021-09-19T15:27:12.074253Z",
     "shell.execute_reply": "2021-09-19T15:27:12.073582Z",
     "shell.execute_reply.started": "2021-09-19T15:27:11.638051Z"
    }
   },
   "outputs": [
    {
     "data": {
      "text/html": [
       "<div>\n",
       "<style scoped>\n",
       "    .dataframe tbody tr th:only-of-type {\n",
       "        vertical-align: middle;\n",
       "    }\n",
       "\n",
       "    .dataframe tbody tr th {\n",
       "        vertical-align: top;\n",
       "    }\n",
       "\n",
       "    .dataframe thead th {\n",
       "        text-align: right;\n",
       "    }\n",
       "</style>\n",
       "<table border=\"1\" class=\"dataframe\">\n",
       "  <thead>\n",
       "    <tr style=\"text-align: right;\">\n",
       "      <th></th>\n",
       "      <th>density_per_km</th>\n",
       "      <th>latitude</th>\n",
       "      <th>longitude</th>\n",
       "      <th>maxtempC</th>\n",
       "      <th>mintempC</th>\n",
       "      <th>totalSnow_cm</th>\n",
       "      <th>sunHour</th>\n",
       "      <th>moon_illumination</th>\n",
       "      <th>DewPointC</th>\n",
       "      <th>WindGustKmph</th>\n",
       "      <th>cloudcover</th>\n",
       "      <th>humidity</th>\n",
       "      <th>precipMM</th>\n",
       "      <th>pressure</th>\n",
       "      <th>visibility</th>\n",
       "      <th>winddirDegree</th>\n",
       "      <th>year</th>\n",
       "      <th>month</th>\n",
       "      <th>Target</th>\n",
       "    </tr>\n",
       "  </thead>\n",
       "  <tbody>\n",
       "    <tr>\n",
       "      <th>0</th>\n",
       "      <td>12625.800781</td>\n",
       "      <td>-34.603684</td>\n",
       "      <td>-58.381559</td>\n",
       "      <td>24</td>\n",
       "      <td>7</td>\n",
       "      <td>0.0</td>\n",
       "      <td>11.6</td>\n",
       "      <td>87</td>\n",
       "      <td>6</td>\n",
       "      <td>16</td>\n",
       "      <td>0</td>\n",
       "      <td>59</td>\n",
       "      <td>0.0</td>\n",
       "      <td>1018</td>\n",
       "      <td>10</td>\n",
       "      <td>189</td>\n",
       "      <td>2016</td>\n",
       "      <td>3</td>\n",
       "      <td>1</td>\n",
       "    </tr>\n",
       "    <tr>\n",
       "      <th>1</th>\n",
       "      <td>12625.800781</td>\n",
       "      <td>-34.603684</td>\n",
       "      <td>-58.381559</td>\n",
       "      <td>24</td>\n",
       "      <td>7</td>\n",
       "      <td>0.0</td>\n",
       "      <td>11.6</td>\n",
       "      <td>87</td>\n",
       "      <td>6</td>\n",
       "      <td>16</td>\n",
       "      <td>0</td>\n",
       "      <td>59</td>\n",
       "      <td>0.0</td>\n",
       "      <td>1018</td>\n",
       "      <td>10</td>\n",
       "      <td>189</td>\n",
       "      <td>2016</td>\n",
       "      <td>3</td>\n",
       "      <td>0</td>\n",
       "    </tr>\n",
       "    <tr>\n",
       "      <th>2</th>\n",
       "      <td>12625.800781</td>\n",
       "      <td>-34.603684</td>\n",
       "      <td>-58.381559</td>\n",
       "      <td>24</td>\n",
       "      <td>7</td>\n",
       "      <td>0.0</td>\n",
       "      <td>11.6</td>\n",
       "      <td>87</td>\n",
       "      <td>6</td>\n",
       "      <td>16</td>\n",
       "      <td>0</td>\n",
       "      <td>59</td>\n",
       "      <td>0.0</td>\n",
       "      <td>1018</td>\n",
       "      <td>10</td>\n",
       "      <td>189</td>\n",
       "      <td>2016</td>\n",
       "      <td>3</td>\n",
       "      <td>1</td>\n",
       "    </tr>\n",
       "    <tr>\n",
       "      <th>3</th>\n",
       "      <td>12625.800781</td>\n",
       "      <td>-34.603684</td>\n",
       "      <td>-58.381559</td>\n",
       "      <td>24</td>\n",
       "      <td>7</td>\n",
       "      <td>0.0</td>\n",
       "      <td>11.6</td>\n",
       "      <td>87</td>\n",
       "      <td>6</td>\n",
       "      <td>16</td>\n",
       "      <td>0</td>\n",
       "      <td>59</td>\n",
       "      <td>0.0</td>\n",
       "      <td>1018</td>\n",
       "      <td>10</td>\n",
       "      <td>189</td>\n",
       "      <td>2016</td>\n",
       "      <td>3</td>\n",
       "      <td>0</td>\n",
       "    </tr>\n",
       "    <tr>\n",
       "      <th>4</th>\n",
       "      <td>12625.800781</td>\n",
       "      <td>-34.603684</td>\n",
       "      <td>-58.381559</td>\n",
       "      <td>22</td>\n",
       "      <td>10</td>\n",
       "      <td>0.0</td>\n",
       "      <td>11.5</td>\n",
       "      <td>76</td>\n",
       "      <td>10</td>\n",
       "      <td>27</td>\n",
       "      <td>34</td>\n",
       "      <td>72</td>\n",
       "      <td>0.0</td>\n",
       "      <td>1025</td>\n",
       "      <td>10</td>\n",
       "      <td>99</td>\n",
       "      <td>2016</td>\n",
       "      <td>3</td>\n",
       "      <td>0</td>\n",
       "    </tr>\n",
       "  </tbody>\n",
       "</table>\n",
       "</div>"
      ],
      "text/plain": [
       "   density_per_km   latitude  longitude  maxtempC  mintempC  totalSnow_cm  \\\n",
       "0    12625.800781 -34.603684 -58.381559        24         7           0.0   \n",
       "1    12625.800781 -34.603684 -58.381559        24         7           0.0   \n",
       "2    12625.800781 -34.603684 -58.381559        24         7           0.0   \n",
       "3    12625.800781 -34.603684 -58.381559        24         7           0.0   \n",
       "4    12625.800781 -34.603684 -58.381559        22        10           0.0   \n",
       "\n",
       "   sunHour  moon_illumination  DewPointC  WindGustKmph  cloudcover  humidity  \\\n",
       "0     11.6                 87          6            16           0        59   \n",
       "1     11.6                 87          6            16           0        59   \n",
       "2     11.6                 87          6            16           0        59   \n",
       "3     11.6                 87          6            16           0        59   \n",
       "4     11.5                 76         10            27          34        72   \n",
       "\n",
       "   precipMM  pressure  visibility  winddirDegree  year  month  Target  \n",
       "0       0.0      1018          10            189  2016      3       1  \n",
       "1       0.0      1018          10            189  2016      3       0  \n",
       "2       0.0      1018          10            189  2016      3       1  \n",
       "3       0.0      1018          10            189  2016      3       0  \n",
       "4       0.0      1025          10             99  2016      3       0  "
      ]
     },
     "execution_count": 4,
     "metadata": {},
     "output_type": "execute_result"
    }
   ],
   "source": [
    "df = pd.read_csv('../input/zikavirusdataset/classification_dataset.csv')\n",
    "df.head()"
   ]
  },
  {
   "cell_type": "code",
   "execution_count": 5,
   "metadata": {
    "execution": {
     "iopub.execute_input": "2021-09-19T15:27:26.478810Z",
     "iopub.status.busy": "2021-09-19T15:27:26.478387Z",
     "iopub.status.idle": "2021-09-19T15:27:26.557312Z",
     "shell.execute_reply": "2021-09-19T15:27:26.556548Z",
     "shell.execute_reply.started": "2021-09-19T15:27:26.478777Z"
    }
   },
   "outputs": [],
   "source": [
    "df = df.drop_duplicates(keep='first', inplace=False)"
   ]
  },
  {
   "cell_type": "code",
   "execution_count": 6,
   "metadata": {
    "execution": {
     "iopub.execute_input": "2021-09-19T15:27:37.979304Z",
     "iopub.status.busy": "2021-09-19T15:27:37.978628Z",
     "iopub.status.idle": "2021-09-19T15:27:37.984677Z",
     "shell.execute_reply": "2021-09-19T15:27:37.983832Z",
     "shell.execute_reply.started": "2021-09-19T15:27:37.979260Z"
    }
   },
   "outputs": [
    {
     "data": {
      "text/plain": [
       "(75345, 19)"
      ]
     },
     "execution_count": 6,
     "metadata": {},
     "output_type": "execute_result"
    }
   ],
   "source": [
    "df.shape"
   ]
  },
  {
   "cell_type": "code",
   "execution_count": 12,
   "metadata": {
    "execution": {
     "iopub.execute_input": "2021-09-19T15:31:47.061839Z",
     "iopub.status.busy": "2021-09-19T15:31:47.061280Z",
     "iopub.status.idle": "2021-09-19T15:31:47.124722Z",
     "shell.execute_reply": "2021-09-19T15:31:47.123802Z",
     "shell.execute_reply.started": "2021-09-19T15:31:47.061804Z"
    }
   },
   "outputs": [
    {
     "data": {
      "text/html": [
       "<div>\n",
       "<style scoped>\n",
       "    .dataframe tbody tr th:only-of-type {\n",
       "        vertical-align: middle;\n",
       "    }\n",
       "\n",
       "    .dataframe tbody tr th {\n",
       "        vertical-align: top;\n",
       "    }\n",
       "\n",
       "    .dataframe thead th {\n",
       "        text-align: right;\n",
       "    }\n",
       "</style>\n",
       "<table border=\"1\" class=\"dataframe\">\n",
       "  <thead>\n",
       "    <tr style=\"text-align: right;\">\n",
       "      <th></th>\n",
       "      <th>Target</th>\n",
       "      <th>density_per_km</th>\n",
       "      <th>latitude</th>\n",
       "      <th>longitude</th>\n",
       "      <th>maxtempC</th>\n",
       "      <th>mintempC</th>\n",
       "      <th>totalSnow_cm</th>\n",
       "      <th>sunHour</th>\n",
       "      <th>moon_illumination</th>\n",
       "      <th>DewPointC</th>\n",
       "      <th>WindGustKmph</th>\n",
       "      <th>cloudcover</th>\n",
       "      <th>humidity</th>\n",
       "      <th>precipMM</th>\n",
       "      <th>pressure</th>\n",
       "      <th>visibility</th>\n",
       "      <th>winddirDegree</th>\n",
       "      <th>year</th>\n",
       "      <th>month</th>\n",
       "    </tr>\n",
       "  </thead>\n",
       "  <tbody>\n",
       "    <tr>\n",
       "      <th>0</th>\n",
       "      <td>1</td>\n",
       "      <td>0.505636</td>\n",
       "      <td>0.196981</td>\n",
       "      <td>0.742734</td>\n",
       "      <td>0.641791</td>\n",
       "      <td>0.567164</td>\n",
       "      <td>0.0</td>\n",
       "      <td>0.625806</td>\n",
       "      <td>0.87</td>\n",
       "      <td>0.622642</td>\n",
       "      <td>0.164835</td>\n",
       "      <td>0.00</td>\n",
       "      <td>0.559140</td>\n",
       "      <td>0.000000</td>\n",
       "      <td>0.602941</td>\n",
       "      <td>1.0</td>\n",
       "      <td>0.531429</td>\n",
       "      <td>0.333333</td>\n",
       "      <td>0.181818</td>\n",
       "    </tr>\n",
       "    <tr>\n",
       "      <th>1</th>\n",
       "      <td>0</td>\n",
       "      <td>0.505636</td>\n",
       "      <td>0.196981</td>\n",
       "      <td>0.742734</td>\n",
       "      <td>0.641791</td>\n",
       "      <td>0.567164</td>\n",
       "      <td>0.0</td>\n",
       "      <td>0.625806</td>\n",
       "      <td>0.87</td>\n",
       "      <td>0.622642</td>\n",
       "      <td>0.164835</td>\n",
       "      <td>0.00</td>\n",
       "      <td>0.559140</td>\n",
       "      <td>0.000000</td>\n",
       "      <td>0.602941</td>\n",
       "      <td>1.0</td>\n",
       "      <td>0.531429</td>\n",
       "      <td>0.333333</td>\n",
       "      <td>0.181818</td>\n",
       "    </tr>\n",
       "    <tr>\n",
       "      <th>2</th>\n",
       "      <td>0</td>\n",
       "      <td>0.505636</td>\n",
       "      <td>0.196981</td>\n",
       "      <td>0.742734</td>\n",
       "      <td>0.611940</td>\n",
       "      <td>0.611940</td>\n",
       "      <td>0.0</td>\n",
       "      <td>0.619355</td>\n",
       "      <td>0.76</td>\n",
       "      <td>0.698113</td>\n",
       "      <td>0.285714</td>\n",
       "      <td>0.34</td>\n",
       "      <td>0.698925</td>\n",
       "      <td>0.000000</td>\n",
       "      <td>0.705882</td>\n",
       "      <td>1.0</td>\n",
       "      <td>0.274286</td>\n",
       "      <td>0.333333</td>\n",
       "      <td>0.181818</td>\n",
       "    </tr>\n",
       "    <tr>\n",
       "      <th>3</th>\n",
       "      <td>1</td>\n",
       "      <td>0.505636</td>\n",
       "      <td>0.196981</td>\n",
       "      <td>0.742734</td>\n",
       "      <td>0.611940</td>\n",
       "      <td>0.611940</td>\n",
       "      <td>0.0</td>\n",
       "      <td>0.619355</td>\n",
       "      <td>0.76</td>\n",
       "      <td>0.698113</td>\n",
       "      <td>0.285714</td>\n",
       "      <td>0.34</td>\n",
       "      <td>0.698925</td>\n",
       "      <td>0.000000</td>\n",
       "      <td>0.705882</td>\n",
       "      <td>1.0</td>\n",
       "      <td>0.274286</td>\n",
       "      <td>0.333333</td>\n",
       "      <td>0.181818</td>\n",
       "    </tr>\n",
       "    <tr>\n",
       "      <th>4</th>\n",
       "      <td>0</td>\n",
       "      <td>0.505636</td>\n",
       "      <td>0.196981</td>\n",
       "      <td>0.742734</td>\n",
       "      <td>0.611940</td>\n",
       "      <td>0.731343</td>\n",
       "      <td>0.0</td>\n",
       "      <td>0.432258</td>\n",
       "      <td>0.26</td>\n",
       "      <td>0.792453</td>\n",
       "      <td>0.175824</td>\n",
       "      <td>0.61</td>\n",
       "      <td>0.763441</td>\n",
       "      <td>0.097011</td>\n",
       "      <td>0.558824</td>\n",
       "      <td>0.8</td>\n",
       "      <td>0.291429</td>\n",
       "      <td>0.333333</td>\n",
       "      <td>0.272727</td>\n",
       "    </tr>\n",
       "  </tbody>\n",
       "</table>\n",
       "</div>"
      ],
      "text/plain": [
       "   Target  density_per_km  latitude  longitude  maxtempC  mintempC  \\\n",
       "0       1        0.505636  0.196981   0.742734  0.641791  0.567164   \n",
       "1       0        0.505636  0.196981   0.742734  0.641791  0.567164   \n",
       "2       0        0.505636  0.196981   0.742734  0.611940  0.611940   \n",
       "3       1        0.505636  0.196981   0.742734  0.611940  0.611940   \n",
       "4       0        0.505636  0.196981   0.742734  0.611940  0.731343   \n",
       "\n",
       "   totalSnow_cm   sunHour  moon_illumination  DewPointC  WindGustKmph  \\\n",
       "0           0.0  0.625806               0.87   0.622642      0.164835   \n",
       "1           0.0  0.625806               0.87   0.622642      0.164835   \n",
       "2           0.0  0.619355               0.76   0.698113      0.285714   \n",
       "3           0.0  0.619355               0.76   0.698113      0.285714   \n",
       "4           0.0  0.432258               0.26   0.792453      0.175824   \n",
       "\n",
       "   cloudcover  humidity  precipMM  pressure  visibility  winddirDegree  \\\n",
       "0        0.00  0.559140  0.000000  0.602941         1.0       0.531429   \n",
       "1        0.00  0.559140  0.000000  0.602941         1.0       0.531429   \n",
       "2        0.34  0.698925  0.000000  0.705882         1.0       0.274286   \n",
       "3        0.34  0.698925  0.000000  0.705882         1.0       0.274286   \n",
       "4        0.61  0.763441  0.097011  0.558824         0.8       0.291429   \n",
       "\n",
       "       year     month  \n",
       "0  0.333333  0.181818  \n",
       "1  0.333333  0.181818  \n",
       "2  0.333333  0.181818  \n",
       "3  0.333333  0.181818  \n",
       "4  0.333333  0.272727  "
      ]
     },
     "execution_count": 12,
     "metadata": {},
     "output_type": "execute_result"
    }
   ],
   "source": [
    "feature_scale = [feature for feature in df.columns if feature not in ['Target']]\n",
    "\n",
    "scaler=MinMaxScaler()\n",
    "scaler.fit(df[feature_scale])\n",
    "\n",
    "# transform the train and test set, and add on the Id and SalePrice variables\n",
    "data = pd.concat([df[['Target']].reset_index(drop=True),\n",
    "                    pd.DataFrame(scaler.transform(df[feature_scale]), columns=feature_scale)],axis=1)\n",
    "\n",
    "data.head()"
   ]
  },
  {
   "cell_type": "code",
   "execution_count": 13,
   "metadata": {
    "execution": {
     "iopub.execute_input": "2021-09-19T15:31:48.461397Z",
     "iopub.status.busy": "2021-09-19T15:31:48.461111Z",
     "iopub.status.idle": "2021-09-19T15:31:48.533631Z",
     "shell.execute_reply": "2021-09-19T15:31:48.532918Z",
     "shell.execute_reply.started": "2021-09-19T15:31:48.461361Z"
    }
   },
   "outputs": [],
   "source": [
    "X = data.drop('Target',axis=1)\n",
    "y = data['Target']\n",
    "\n",
    "X_train,X_test,y_train,y_test = train_test_split(X,y,test_size=0.50,random_state=10,stratify=y) #train test split in 50:50 ratio"
   ]
  },
  {
   "cell_type": "code",
   "execution_count": 14,
   "metadata": {
    "execution": {
     "iopub.execute_input": "2021-09-19T15:33:59.782306Z",
     "iopub.status.busy": "2021-09-19T15:33:59.781645Z",
     "iopub.status.idle": "2021-09-19T15:33:59.787182Z",
     "shell.execute_reply": "2021-09-19T15:33:59.786570Z",
     "shell.execute_reply.started": "2021-09-19T15:33:59.782269Z"
    }
   },
   "outputs": [
    {
     "data": {
      "text/plain": [
       "((37672, 18), (37672,))"
      ]
     },
     "execution_count": 14,
     "metadata": {},
     "output_type": "execute_result"
    }
   ],
   "source": [
    "X_train.shape, y_train.shape"
   ]
  },
  {
   "cell_type": "markdown",
   "metadata": {},
   "source": [
    "# Ensembling & Stacking models"
   ]
  },
  {
   "cell_type": "code",
   "execution_count": 7,
   "metadata": {
    "execution": {
     "iopub.execute_input": "2021-09-19T15:28:55.263858Z",
     "iopub.status.busy": "2021-09-19T15:28:55.263173Z",
     "iopub.status.idle": "2021-09-19T15:28:55.270400Z",
     "shell.execute_reply": "2021-09-19T15:28:55.269401Z",
     "shell.execute_reply.started": "2021-09-19T15:28:55.263821Z"
    }
   },
   "outputs": [],
   "source": [
    "# Model Class to be used for different ML algorithms\n",
    "class ClassifierModel(object):\n",
    "    def __init__(self, clf, params=None):\n",
    "        self.clf = clf(**params)\n",
    "\n",
    "    def train(self, x_train, y_train):\n",
    "        self.clf.fit(x_train, y_train)\n",
    "    \n",
    "    def fit(self,x,y):\n",
    "        return self.clf.fit(x,y)\n",
    "    \n",
    "    def feature_importances(self,x,y):\n",
    "        return self.clf.fit(x,y).feature_importances_\n",
    "    \n",
    "    def predict(self, x):\n",
    "        return self.clf.predict(x)"
   ]
  },
  {
   "cell_type": "code",
   "execution_count": 23,
   "metadata": {
    "execution": {
     "iopub.execute_input": "2021-09-19T15:44:24.927267Z",
     "iopub.status.busy": "2021-09-19T15:44:24.927014Z",
     "iopub.status.idle": "2021-09-19T15:44:24.932577Z",
     "shell.execute_reply": "2021-09-19T15:44:24.931899Z",
     "shell.execute_reply.started": "2021-09-19T15:44:24.927239Z"
    }
   },
   "outputs": [],
   "source": [
    "def trainModel(model, x_train, y_train, x_test, n_folds, seed):\n",
    "    cv = KFold(n_splits= n_folds, random_state=seed)\n",
    "    scores = cross_val_score(model.clf, x_train, y_train, scoring='accuracy', cv=cv, n_jobs=-1)\n",
    "    y_pred = cross_val_predict(model.clf, x_train, y_train, cv=cv, n_jobs=-1)\n",
    "    return scores, y_pred"
   ]
  },
  {
   "cell_type": "markdown",
   "metadata": {},
   "source": [
    "## 1. CatBoost"
   ]
  },
  {
   "cell_type": "code",
   "execution_count": 35,
   "metadata": {
    "execution": {
     "iopub.execute_input": "2021-09-19T15:54:32.624253Z",
     "iopub.status.busy": "2021-09-19T15:54:32.624001Z",
     "iopub.status.idle": "2021-09-19T15:56:42.751391Z",
     "shell.execute_reply": "2021-09-19T15:56:42.750661Z",
     "shell.execute_reply.started": "2021-09-19T15:54:32.624225Z"
    }
   },
   "outputs": [
    {
     "data": {
      "text/plain": [
       "array([0.59747843, 0.59628401, 0.61149456, 0.6007433 , 0.59052296])"
      ]
     },
     "execution_count": 35,
     "metadata": {},
     "output_type": "execute_result"
    }
   ],
   "source": [
    "cat_params = {\n",
    "    'depth': 3,\n",
    "    'learning_rate': 0.02,\n",
    "    'l2_leaf_reg': 10,\n",
    "    'loss_function': 'Logloss',\n",
    "    'eval_metric': 'Accuracy',\n",
    "    'verbose': False\n",
    "}\n",
    "cat_model = ClassifierModel(clf=CatBoostClassifier, params=cat_params)\n",
    "cat_scores, cat_train_pred = trainModel(cat_model,X_train, y_train, X_test, 5, 0) \n",
    "cat_scores"
   ]
  },
  {
   "cell_type": "code",
   "execution_count": 36,
   "metadata": {
    "execution": {
     "iopub.execute_input": "2021-09-19T15:56:42.753631Z",
     "iopub.status.busy": "2021-09-19T15:56:42.753113Z",
     "iopub.status.idle": "2021-09-19T15:56:54.044542Z",
     "shell.execute_reply": "2021-09-19T15:56:54.043834Z",
     "shell.execute_reply.started": "2021-09-19T15:56:42.753593Z"
    }
   },
   "outputs": [
    {
     "data": {
      "text/plain": [
       "array([8.34301509e+00, 3.25492939e+01, 3.47574622e+01, 2.00930951e+00,\n",
       "       2.75741587e+00, 1.70797906e-02, 4.44119495e-01, 4.69182827e-01,\n",
       "       5.49959302e+00, 7.92637077e-01, 2.13325321e-01, 9.27040511e-01,\n",
       "       1.88065199e-01, 3.36551959e-01, 2.68927065e-02, 6.76696118e-01,\n",
       "       6.71638188e+00, 3.27593759e+00])"
      ]
     },
     "execution_count": 36,
     "metadata": {},
     "output_type": "execute_result"
    }
   ],
   "source": [
    "# Getting features importance \n",
    "cat_features = cat_model.feature_importances(X_train,y_train)\n",
    "cat_features"
   ]
  },
  {
   "cell_type": "markdown",
   "metadata": {},
   "source": [
    "## 2. AdaBoost"
   ]
  },
  {
   "cell_type": "code",
   "execution_count": 27,
   "metadata": {
    "execution": {
     "iopub.execute_input": "2021-09-19T15:49:21.297819Z",
     "iopub.status.busy": "2021-09-19T15:49:21.297559Z",
     "iopub.status.idle": "2021-09-19T15:51:15.188649Z",
     "shell.execute_reply": "2021-09-19T15:51:15.187972Z",
     "shell.execute_reply.started": "2021-09-19T15:49:21.297793Z"
    }
   },
   "outputs": [
    {
     "data": {
      "text/plain": [
       "array([0.59601858, 0.59893829, 0.61202548, 0.59755774, 0.5953013 ])"
      ]
     },
     "execution_count": 27,
     "metadata": {},
     "output_type": "execute_result"
    }
   ],
   "source": [
    "ada_params = {\n",
    "    'learning_rate': 0.1,\n",
    "    'n_estimators': 500,\n",
    "}\n",
    "ada_model = ClassifierModel(clf=AdaBoostClassifier, params=ada_params)\n",
    "ada_scores, ada_train_pred = trainModel(ada_model,X_train, y_train, X_test, 5, 0) \n",
    "ada_scores"
   ]
  },
  {
   "cell_type": "code",
   "execution_count": 28,
   "metadata": {
    "execution": {
     "iopub.execute_input": "2021-09-19T15:51:15.190769Z",
     "iopub.status.busy": "2021-09-19T15:51:15.190284Z",
     "iopub.status.idle": "2021-09-19T15:51:32.202459Z",
     "shell.execute_reply": "2021-09-19T15:51:32.201799Z",
     "shell.execute_reply.started": "2021-09-19T15:51:15.190734Z"
    }
   },
   "outputs": [
    {
     "data": {
      "text/plain": [
       "array([0.102, 0.506, 0.172, 0.028, 0.018, 0.   , 0.004, 0.   , 0.032,\n",
       "       0.008, 0.   , 0.018, 0.   , 0.004, 0.   , 0.006, 0.042, 0.06 ])"
      ]
     },
     "execution_count": 28,
     "metadata": {},
     "output_type": "execute_result"
    }
   ],
   "source": [
    "# Getting features importance \n",
    "ada_features = ada_model.feature_importances(X_train,y_train)\n",
    "ada_features"
   ]
  },
  {
   "cell_type": "markdown",
   "metadata": {},
   "source": [
    "## 3. XGBoost"
   ]
  },
  {
   "cell_type": "code",
   "execution_count": 65,
   "metadata": {
    "execution": {
     "iopub.execute_input": "2021-09-19T16:17:20.840160Z",
     "iopub.status.busy": "2021-09-19T16:17:20.839887Z",
     "iopub.status.idle": "2021-09-19T16:17:27.086829Z",
     "shell.execute_reply": "2021-09-19T16:17:27.086096Z",
     "shell.execute_reply.started": "2021-09-19T16:17:20.840129Z"
    }
   },
   "outputs": [
    {
     "data": {
      "text/plain": [
       "array([0.59761115, 0.59681486, 0.61069817, 0.59370852, 0.58574462])"
      ]
     },
     "execution_count": 65,
     "metadata": {},
     "output_type": "execute_result"
    }
   ],
   "source": [
    "# Gradient Boosting parameters\n",
    "gb_params = {\n",
    "    'colsample_bytree': 0.7,\n",
    "    'gamma': 0.2,\n",
    "    'learning_rate': 0.3,\n",
    "    'max_depth': 3,\n",
    "    'min_child_weight': 5,\n",
    "    'objective':'binary:logistic',\n",
    "    'eval_metric': 'logloss',\n",
    "    'tree_method':'gpu_hist'\n",
    "}\n",
    "gbc_model = ClassifierModel(clf=XGBClassifier, params=gb_params)\n",
    "gbc_scores, gbc_train_pred  = trainModel(gbc_model,X_train, y_train, X_test, 5, 0) # Random Forest\n",
    "gbc_scores"
   ]
  },
  {
   "cell_type": "code",
   "execution_count": 66,
   "metadata": {
    "execution": {
     "iopub.execute_input": "2021-09-19T16:17:30.167361Z",
     "iopub.status.busy": "2021-09-19T16:17:30.166765Z",
     "iopub.status.idle": "2021-09-19T16:17:30.317315Z",
     "shell.execute_reply": "2021-09-19T16:17:30.316661Z",
     "shell.execute_reply.started": "2021-09-19T16:17:30.167308Z"
    }
   },
   "outputs": [
    {
     "data": {
      "text/plain": [
       "array([0.05245697, 0.11457556, 0.09949939, 0.06273969, 0.11399798,\n",
       "       0.00903043, 0.0207065 , 0.02426713, 0.20348077, 0.02499611,\n",
       "       0.01900807, 0.02477778, 0.01419837, 0.01712074, 0.01155237,\n",
       "       0.02053501, 0.08678521, 0.08027191], dtype=float32)"
      ]
     },
     "execution_count": 66,
     "metadata": {},
     "output_type": "execute_result"
    }
   ],
   "source": [
    "# Getting features importance \n",
    "gbc_features = gbc_model.feature_importances(X_train,y_train)\n",
    "gbc_features"
   ]
  },
  {
   "cell_type": "markdown",
   "metadata": {},
   "source": [
    "## 4. RandomForest"
   ]
  },
  {
   "cell_type": "code",
   "execution_count": 67,
   "metadata": {
    "execution": {
     "iopub.execute_input": "2021-09-19T16:17:42.848184Z",
     "iopub.status.busy": "2021-09-19T16:17:42.847907Z",
     "iopub.status.idle": "2021-09-19T16:19:41.987435Z",
     "shell.execute_reply": "2021-09-19T16:19:41.986713Z",
     "shell.execute_reply.started": "2021-09-19T16:17:42.848153Z"
    }
   },
   "outputs": [
    {
     "data": {
      "text/plain": [
       "array([0.59575315, 0.58832117, 0.60459251, 0.59662862, 0.58614282])"
      ]
     },
     "execution_count": 67,
     "metadata": {},
     "output_type": "execute_result"
    }
   ],
   "source": [
    "# Random Forest parameters\n",
    "rf_params = {\n",
    "    'n_estimators': 500,\n",
    "    'max_depth': 8,\n",
    "    'criterion': 'entropy',\n",
    "    'max_features' : 'sqrt',\n",
    "}\n",
    "rfc_model = ClassifierModel(clf=RandomForestClassifier, params=rf_params)\n",
    "rfc_scores , rfc_train_pred= trainModel(rfc_model,X_train, y_train, X_test, 5, 0)\n",
    "rfc_scores"
   ]
  },
  {
   "cell_type": "code",
   "execution_count": 48,
   "metadata": {
    "execution": {
     "iopub.execute_input": "2021-09-19T16:04:52.482226Z",
     "iopub.status.busy": "2021-09-19T16:04:52.479947Z",
     "iopub.status.idle": "2021-09-19T16:05:10.508664Z",
     "shell.execute_reply": "2021-09-19T16:05:10.507741Z",
     "shell.execute_reply.started": "2021-09-19T16:04:52.482171Z"
    }
   },
   "outputs": [
    {
     "data": {
      "text/plain": [
       "array([0.0991171 , 0.18212245, 0.20728742, 0.05791408, 0.0798977 ,\n",
       "       0.00080829, 0.0221582 , 0.01213565, 0.09096311, 0.02661363,\n",
       "       0.02104943, 0.02792995, 0.01710457, 0.01666045, 0.00669135,\n",
       "       0.0299898 , 0.0545579 , 0.04699893])"
      ]
     },
     "execution_count": 48,
     "metadata": {},
     "output_type": "execute_result"
    }
   ],
   "source": [
    "# Getting features importance \n",
    "rfc_features = rfc_model.feature_importances(X_train,y_train)\n",
    "rfc_features"
   ]
  },
  {
   "cell_type": "markdown",
   "metadata": {},
   "source": [
    "## 5. Decision Tree"
   ]
  },
  {
   "cell_type": "code",
   "execution_count": 68,
   "metadata": {
    "execution": {
     "iopub.execute_input": "2021-09-19T16:19:41.989704Z",
     "iopub.status.busy": "2021-09-19T16:19:41.989217Z",
     "iopub.status.idle": "2021-09-19T16:19:43.571628Z",
     "shell.execute_reply": "2021-09-19T16:19:43.570953Z",
     "shell.execute_reply.started": "2021-09-19T16:19:41.989669Z"
    }
   },
   "outputs": [
    {
     "data": {
      "text/plain": [
       "array([0.58845388, 0.58566689, 0.59968144, 0.58999204, 0.59198301])"
      ]
     },
     "execution_count": 68,
     "metadata": {},
     "output_type": "execute_result"
    }
   ],
   "source": [
    "# Random Forest parameters\n",
    "dt_params = {\n",
    "    'max_depth': 5,\n",
    "    'criterion': 'gini',\n",
    "    'min_samples_leaf': 10,\n",
    "    'min_samples_split': 5,\n",
    "    'splitter': 'best',\n",
    "}\n",
    "dtc_model = ClassifierModel(clf=DecisionTreeClassifier, params=dt_params)\n",
    "dtc_scores, dtc_train_pred = trainModel(dtc_model,X_train, y_train, X_test, 5, 0)\n",
    "dtc_scores"
   ]
  },
  {
   "cell_type": "code",
   "execution_count": 69,
   "metadata": {
    "execution": {
     "iopub.execute_input": "2021-09-19T16:19:43.577432Z",
     "iopub.status.busy": "2021-09-19T16:19:43.575468Z",
     "iopub.status.idle": "2021-09-19T16:19:43.756388Z",
     "shell.execute_reply": "2021-09-19T16:19:43.755710Z",
     "shell.execute_reply.started": "2021-09-19T16:19:43.577383Z"
    }
   },
   "outputs": [
    {
     "data": {
      "text/plain": [
       "array([0.0426071 , 0.42174615, 0.23623582, 0.00142914, 0.        ,\n",
       "       0.        , 0.        , 0.        , 0.20796164, 0.        ,\n",
       "       0.        , 0.01334769, 0.00159791, 0.        , 0.        ,\n",
       "       0.        , 0.05457612, 0.02049841])"
      ]
     },
     "execution_count": 69,
     "metadata": {},
     "output_type": "execute_result"
    }
   ],
   "source": [
    "# Getting features importance \n",
    "dtc_features = dtc_model.feature_importances(X_train,y_train)\n",
    "dtc_features"
   ]
  },
  {
   "cell_type": "markdown",
   "metadata": {},
   "source": [
    "## Features Importance"
   ]
  },
  {
   "cell_type": "code",
   "execution_count": 53,
   "metadata": {
    "execution": {
     "iopub.execute_input": "2021-09-19T16:08:22.533426Z",
     "iopub.status.busy": "2021-09-19T16:08:22.532681Z",
     "iopub.status.idle": "2021-09-19T16:08:22.540264Z",
     "shell.execute_reply": "2021-09-19T16:08:22.539388Z",
     "shell.execute_reply.started": "2021-09-19T16:08:22.533386Z"
    }
   },
   "outputs": [],
   "source": [
    "# Create a dataframe with features\n",
    "feature_dataframe = pd.DataFrame( {'features': X.columns.values,\n",
    "    'CatBoost featureImp': cat_features,\n",
    "    'AdaBoost featureImp': ada_features,\n",
    "    'XGBoost featureImp': gbc_features,\n",
    "    'Random Forest featureImp': rfc_features,\n",
    "    'Decision Trees featureImp': dtc_features,\n",
    "    })"
   ]
  },
  {
   "cell_type": "code",
   "execution_count": 60,
   "metadata": {
    "execution": {
     "iopub.execute_input": "2021-09-19T16:10:57.766950Z",
     "iopub.status.busy": "2021-09-19T16:10:57.766247Z",
     "iopub.status.idle": "2021-09-19T16:10:57.787523Z",
     "shell.execute_reply": "2021-09-19T16:10:57.786793Z",
     "shell.execute_reply.started": "2021-09-19T16:10:57.766915Z"
    }
   },
   "outputs": [
    {
     "data": {
      "text/html": [
       "<div>\n",
       "<style scoped>\n",
       "    .dataframe tbody tr th:only-of-type {\n",
       "        vertical-align: middle;\n",
       "    }\n",
       "\n",
       "    .dataframe tbody tr th {\n",
       "        vertical-align: top;\n",
       "    }\n",
       "\n",
       "    .dataframe thead th {\n",
       "        text-align: right;\n",
       "    }\n",
       "</style>\n",
       "<table border=\"1\" class=\"dataframe\">\n",
       "  <thead>\n",
       "    <tr style=\"text-align: right;\">\n",
       "      <th></th>\n",
       "      <th>features</th>\n",
       "      <th>CatBoost featureImp</th>\n",
       "      <th>AdaBoost featureImp</th>\n",
       "      <th>XGBoost featureImp</th>\n",
       "      <th>Random Forest featureImp</th>\n",
       "      <th>Decision Trees featureImp</th>\n",
       "      <th>mean</th>\n",
       "    </tr>\n",
       "  </thead>\n",
       "  <tbody>\n",
       "    <tr>\n",
       "      <th>2</th>\n",
       "      <td>longitude</td>\n",
       "      <td>34.757462</td>\n",
       "      <td>0.172</td>\n",
       "      <td>0.099499</td>\n",
       "      <td>0.207287</td>\n",
       "      <td>0.243210</td>\n",
       "      <td>7.095892</td>\n",
       "    </tr>\n",
       "    <tr>\n",
       "      <th>1</th>\n",
       "      <td>latitude</td>\n",
       "      <td>32.549294</td>\n",
       "      <td>0.506</td>\n",
       "      <td>0.114576</td>\n",
       "      <td>0.182122</td>\n",
       "      <td>0.414772</td>\n",
       "      <td>6.753353</td>\n",
       "    </tr>\n",
       "    <tr>\n",
       "      <th>0</th>\n",
       "      <td>density_per_km</td>\n",
       "      <td>8.343015</td>\n",
       "      <td>0.102</td>\n",
       "      <td>0.052457</td>\n",
       "      <td>0.099117</td>\n",
       "      <td>0.042607</td>\n",
       "      <td>1.727839</td>\n",
       "    </tr>\n",
       "    <tr>\n",
       "      <th>16</th>\n",
       "      <td>year</td>\n",
       "      <td>6.716382</td>\n",
       "      <td>0.042</td>\n",
       "      <td>0.086785</td>\n",
       "      <td>0.054558</td>\n",
       "      <td>0.054576</td>\n",
       "      <td>1.390860</td>\n",
       "    </tr>\n",
       "    <tr>\n",
       "      <th>8</th>\n",
       "      <td>DewPointC</td>\n",
       "      <td>5.499593</td>\n",
       "      <td>0.032</td>\n",
       "      <td>0.203481</td>\n",
       "      <td>0.090963</td>\n",
       "      <td>0.207962</td>\n",
       "      <td>1.206800</td>\n",
       "    </tr>\n",
       "    <tr>\n",
       "      <th>17</th>\n",
       "      <td>month</td>\n",
       "      <td>3.275938</td>\n",
       "      <td>0.060</td>\n",
       "      <td>0.080272</td>\n",
       "      <td>0.046999</td>\n",
       "      <td>0.020498</td>\n",
       "      <td>0.696741</td>\n",
       "    </tr>\n",
       "    <tr>\n",
       "      <th>4</th>\n",
       "      <td>mintempC</td>\n",
       "      <td>2.757416</td>\n",
       "      <td>0.018</td>\n",
       "      <td>0.113998</td>\n",
       "      <td>0.079898</td>\n",
       "      <td>0.000000</td>\n",
       "      <td>0.593862</td>\n",
       "    </tr>\n",
       "    <tr>\n",
       "      <th>3</th>\n",
       "      <td>maxtempC</td>\n",
       "      <td>2.009310</td>\n",
       "      <td>0.028</td>\n",
       "      <td>0.062740</td>\n",
       "      <td>0.057914</td>\n",
       "      <td>0.001429</td>\n",
       "      <td>0.431878</td>\n",
       "    </tr>\n",
       "    <tr>\n",
       "      <th>11</th>\n",
       "      <td>humidity</td>\n",
       "      <td>0.927041</td>\n",
       "      <td>0.018</td>\n",
       "      <td>0.024778</td>\n",
       "      <td>0.027930</td>\n",
       "      <td>0.013348</td>\n",
       "      <td>0.202219</td>\n",
       "    </tr>\n",
       "    <tr>\n",
       "      <th>9</th>\n",
       "      <td>WindGustKmph</td>\n",
       "      <td>0.792637</td>\n",
       "      <td>0.008</td>\n",
       "      <td>0.024996</td>\n",
       "      <td>0.026614</td>\n",
       "      <td>0.000000</td>\n",
       "      <td>0.170449</td>\n",
       "    </tr>\n",
       "    <tr>\n",
       "      <th>15</th>\n",
       "      <td>winddirDegree</td>\n",
       "      <td>0.676696</td>\n",
       "      <td>0.006</td>\n",
       "      <td>0.020535</td>\n",
       "      <td>0.029990</td>\n",
       "      <td>0.000000</td>\n",
       "      <td>0.146644</td>\n",
       "    </tr>\n",
       "    <tr>\n",
       "      <th>7</th>\n",
       "      <td>moon_illumination</td>\n",
       "      <td>0.469183</td>\n",
       "      <td>0.000</td>\n",
       "      <td>0.024267</td>\n",
       "      <td>0.012136</td>\n",
       "      <td>0.000000</td>\n",
       "      <td>0.101117</td>\n",
       "    </tr>\n",
       "    <tr>\n",
       "      <th>6</th>\n",
       "      <td>sunHour</td>\n",
       "      <td>0.444119</td>\n",
       "      <td>0.004</td>\n",
       "      <td>0.020707</td>\n",
       "      <td>0.022158</td>\n",
       "      <td>0.000000</td>\n",
       "      <td>0.098197</td>\n",
       "    </tr>\n",
       "    <tr>\n",
       "      <th>13</th>\n",
       "      <td>pressure</td>\n",
       "      <td>0.336552</td>\n",
       "      <td>0.004</td>\n",
       "      <td>0.017121</td>\n",
       "      <td>0.016660</td>\n",
       "      <td>0.000000</td>\n",
       "      <td>0.074867</td>\n",
       "    </tr>\n",
       "    <tr>\n",
       "      <th>10</th>\n",
       "      <td>cloudcover</td>\n",
       "      <td>0.213325</td>\n",
       "      <td>0.000</td>\n",
       "      <td>0.019008</td>\n",
       "      <td>0.021049</td>\n",
       "      <td>0.000000</td>\n",
       "      <td>0.050677</td>\n",
       "    </tr>\n",
       "    <tr>\n",
       "      <th>12</th>\n",
       "      <td>precipMM</td>\n",
       "      <td>0.188065</td>\n",
       "      <td>0.000</td>\n",
       "      <td>0.014198</td>\n",
       "      <td>0.017105</td>\n",
       "      <td>0.001598</td>\n",
       "      <td>0.044193</td>\n",
       "    </tr>\n",
       "    <tr>\n",
       "      <th>14</th>\n",
       "      <td>visibility</td>\n",
       "      <td>0.026893</td>\n",
       "      <td>0.000</td>\n",
       "      <td>0.011552</td>\n",
       "      <td>0.006691</td>\n",
       "      <td>0.000000</td>\n",
       "      <td>0.009027</td>\n",
       "    </tr>\n",
       "    <tr>\n",
       "      <th>5</th>\n",
       "      <td>totalSnow_cm</td>\n",
       "      <td>0.017080</td>\n",
       "      <td>0.000</td>\n",
       "      <td>0.009030</td>\n",
       "      <td>0.000808</td>\n",
       "      <td>0.000000</td>\n",
       "      <td>0.005384</td>\n",
       "    </tr>\n",
       "  </tbody>\n",
       "</table>\n",
       "</div>"
      ],
      "text/plain": [
       "             features  CatBoost featureImp  AdaBoost featureImp  \\\n",
       "2           longitude            34.757462                0.172   \n",
       "1            latitude            32.549294                0.506   \n",
       "0      density_per_km             8.343015                0.102   \n",
       "16               year             6.716382                0.042   \n",
       "8           DewPointC             5.499593                0.032   \n",
       "17              month             3.275938                0.060   \n",
       "4            mintempC             2.757416                0.018   \n",
       "3            maxtempC             2.009310                0.028   \n",
       "11           humidity             0.927041                0.018   \n",
       "9        WindGustKmph             0.792637                0.008   \n",
       "15      winddirDegree             0.676696                0.006   \n",
       "7   moon_illumination             0.469183                0.000   \n",
       "6             sunHour             0.444119                0.004   \n",
       "13           pressure             0.336552                0.004   \n",
       "10         cloudcover             0.213325                0.000   \n",
       "12           precipMM             0.188065                0.000   \n",
       "14         visibility             0.026893                0.000   \n",
       "5        totalSnow_cm             0.017080                0.000   \n",
       "\n",
       "    XGBoost featureImp  Random Forest featureImp  Decision Trees featureImp  \\\n",
       "2             0.099499                  0.207287                   0.243210   \n",
       "1             0.114576                  0.182122                   0.414772   \n",
       "0             0.052457                  0.099117                   0.042607   \n",
       "16            0.086785                  0.054558                   0.054576   \n",
       "8             0.203481                  0.090963                   0.207962   \n",
       "17            0.080272                  0.046999                   0.020498   \n",
       "4             0.113998                  0.079898                   0.000000   \n",
       "3             0.062740                  0.057914                   0.001429   \n",
       "11            0.024778                  0.027930                   0.013348   \n",
       "9             0.024996                  0.026614                   0.000000   \n",
       "15            0.020535                  0.029990                   0.000000   \n",
       "7             0.024267                  0.012136                   0.000000   \n",
       "6             0.020707                  0.022158                   0.000000   \n",
       "13            0.017121                  0.016660                   0.000000   \n",
       "10            0.019008                  0.021049                   0.000000   \n",
       "12            0.014198                  0.017105                   0.001598   \n",
       "14            0.011552                  0.006691                   0.000000   \n",
       "5             0.009030                  0.000808                   0.000000   \n",
       "\n",
       "        mean  \n",
       "2   7.095892  \n",
       "1   6.753353  \n",
       "0   1.727839  \n",
       "16  1.390860  \n",
       "8   1.206800  \n",
       "17  0.696741  \n",
       "4   0.593862  \n",
       "3   0.431878  \n",
       "11  0.202219  \n",
       "9   0.170449  \n",
       "15  0.146644  \n",
       "7   0.101117  \n",
       "6   0.098197  \n",
       "13  0.074867  \n",
       "10  0.050677  \n",
       "12  0.044193  \n",
       "14  0.009027  \n",
       "5   0.005384  "
      ]
     },
     "execution_count": 60,
     "metadata": {},
     "output_type": "execute_result"
    }
   ],
   "source": [
    "# Create the new column containing the average of values\n",
    "feature_dataframe['mean'] = feature_dataframe.mean(axis= 1) # axis = 1 computes the mean row-wise\n",
    "feature_dataframe = feature_dataframe.sort_values(by='mean',ascending=False)\n",
    "feature_dataframe"
   ]
  },
  {
   "cell_type": "code",
   "execution_count": 61,
   "metadata": {
    "execution": {
     "iopub.execute_input": "2021-09-19T16:11:02.615272Z",
     "iopub.status.busy": "2021-09-19T16:11:02.614616Z",
     "iopub.status.idle": "2021-09-19T16:11:02.653024Z",
     "shell.execute_reply": "2021-09-19T16:11:02.652148Z",
     "shell.execute_reply.started": "2021-09-19T16:11:02.615238Z"
    }
   },
   "outputs": [
    {
     "data": {
      "application/vnd.plotly.v1+json": {
       "config": {
        "linkText": "Export to plot.ly",
        "plotlyServerURL": "https://plot.ly",
        "showLink": false
       },
       "data": [
        {
         "marker": {
          "color": [
           7.095891721341197,
           6.753352846230341,
           1.7278392511868435,
           1.3908602215746273,
           1.2067997080539288,
           0.6967413685091208,
           0.5938623099314931,
           0.43187848386848376,
           0.20221918760118693,
           0.1704493637228227,
           0.14664418534983473,
           0.10111712170879168,
           0.09819683950915742,
           0.07486663010887899,
           0.05067656498873179,
           0.04419321001381852,
           0.009027285160963806,
           0.005383701139780401
          ],
          "colorscale": [
           [
            0,
            "rgb(12,51,131)"
           ],
           [
            0.25,
            "rgb(10,136,186)"
           ],
           [
            0.5,
            "rgb(242,211,56)"
           ],
           [
            0.75,
            "rgb(242,143,56)"
           ],
           [
            1,
            "rgb(217,30,30)"
           ]
          ],
          "reversescale": false,
          "showscale": true
         },
         "opacity": 0.6,
         "type": "bar",
         "width": 0.5,
         "x": [
          "longitude",
          "latitude",
          "density_per_km",
          "year",
          "DewPointC",
          "month",
          "mintempC",
          "maxtempC",
          "humidity",
          "WindGustKmph",
          "winddirDegree",
          "moon_illumination",
          "sunHour",
          "pressure",
          "cloudcover",
          "precipMM",
          "visibility",
          "totalSnow_cm"
         ],
         "y": [
          7.095891721341197,
          6.753352846230341,
          1.7278392511868435,
          1.3908602215746273,
          1.2067997080539288,
          0.6967413685091208,
          0.5938623099314931,
          0.43187848386848376,
          0.20221918760118693,
          0.1704493637228227,
          0.14664418534983473,
          0.10111712170879168,
          0.09819683950915742,
          0.07486663010887899,
          0.05067656498873179,
          0.04419321001381852,
          0.009027285160963806,
          0.005383701139780401
         ]
        }
       ],
       "layout": {
        "autosize": true,
        "hovermode": "closest",
        "showlegend": false,
        "template": {
         "data": {
          "bar": [
           {
            "error_x": {
             "color": "#2a3f5f"
            },
            "error_y": {
             "color": "#2a3f5f"
            },
            "marker": {
             "line": {
              "color": "#E5ECF6",
              "width": 0.5
             },
             "pattern": {
              "fillmode": "overlay",
              "size": 10,
              "solidity": 0.2
             }
            },
            "type": "bar"
           }
          ],
          "barpolar": [
           {
            "marker": {
             "line": {
              "color": "#E5ECF6",
              "width": 0.5
             },
             "pattern": {
              "fillmode": "overlay",
              "size": 10,
              "solidity": 0.2
             }
            },
            "type": "barpolar"
           }
          ],
          "carpet": [
           {
            "aaxis": {
             "endlinecolor": "#2a3f5f",
             "gridcolor": "white",
             "linecolor": "white",
             "minorgridcolor": "white",
             "startlinecolor": "#2a3f5f"
            },
            "baxis": {
             "endlinecolor": "#2a3f5f",
             "gridcolor": "white",
             "linecolor": "white",
             "minorgridcolor": "white",
             "startlinecolor": "#2a3f5f"
            },
            "type": "carpet"
           }
          ],
          "choropleth": [
           {
            "colorbar": {
             "outlinewidth": 0,
             "ticks": ""
            },
            "type": "choropleth"
           }
          ],
          "contour": [
           {
            "colorbar": {
             "outlinewidth": 0,
             "ticks": ""
            },
            "colorscale": [
             [
              0,
              "#0d0887"
             ],
             [
              0.1111111111111111,
              "#46039f"
             ],
             [
              0.2222222222222222,
              "#7201a8"
             ],
             [
              0.3333333333333333,
              "#9c179e"
             ],
             [
              0.4444444444444444,
              "#bd3786"
             ],
             [
              0.5555555555555556,
              "#d8576b"
             ],
             [
              0.6666666666666666,
              "#ed7953"
             ],
             [
              0.7777777777777778,
              "#fb9f3a"
             ],
             [
              0.8888888888888888,
              "#fdca26"
             ],
             [
              1,
              "#f0f921"
             ]
            ],
            "type": "contour"
           }
          ],
          "contourcarpet": [
           {
            "colorbar": {
             "outlinewidth": 0,
             "ticks": ""
            },
            "type": "contourcarpet"
           }
          ],
          "heatmap": [
           {
            "colorbar": {
             "outlinewidth": 0,
             "ticks": ""
            },
            "colorscale": [
             [
              0,
              "#0d0887"
             ],
             [
              0.1111111111111111,
              "#46039f"
             ],
             [
              0.2222222222222222,
              "#7201a8"
             ],
             [
              0.3333333333333333,
              "#9c179e"
             ],
             [
              0.4444444444444444,
              "#bd3786"
             ],
             [
              0.5555555555555556,
              "#d8576b"
             ],
             [
              0.6666666666666666,
              "#ed7953"
             ],
             [
              0.7777777777777778,
              "#fb9f3a"
             ],
             [
              0.8888888888888888,
              "#fdca26"
             ],
             [
              1,
              "#f0f921"
             ]
            ],
            "type": "heatmap"
           }
          ],
          "heatmapgl": [
           {
            "colorbar": {
             "outlinewidth": 0,
             "ticks": ""
            },
            "colorscale": [
             [
              0,
              "#0d0887"
             ],
             [
              0.1111111111111111,
              "#46039f"
             ],
             [
              0.2222222222222222,
              "#7201a8"
             ],
             [
              0.3333333333333333,
              "#9c179e"
             ],
             [
              0.4444444444444444,
              "#bd3786"
             ],
             [
              0.5555555555555556,
              "#d8576b"
             ],
             [
              0.6666666666666666,
              "#ed7953"
             ],
             [
              0.7777777777777778,
              "#fb9f3a"
             ],
             [
              0.8888888888888888,
              "#fdca26"
             ],
             [
              1,
              "#f0f921"
             ]
            ],
            "type": "heatmapgl"
           }
          ],
          "histogram": [
           {
            "marker": {
             "pattern": {
              "fillmode": "overlay",
              "size": 10,
              "solidity": 0.2
             }
            },
            "type": "histogram"
           }
          ],
          "histogram2d": [
           {
            "colorbar": {
             "outlinewidth": 0,
             "ticks": ""
            },
            "colorscale": [
             [
              0,
              "#0d0887"
             ],
             [
              0.1111111111111111,
              "#46039f"
             ],
             [
              0.2222222222222222,
              "#7201a8"
             ],
             [
              0.3333333333333333,
              "#9c179e"
             ],
             [
              0.4444444444444444,
              "#bd3786"
             ],
             [
              0.5555555555555556,
              "#d8576b"
             ],
             [
              0.6666666666666666,
              "#ed7953"
             ],
             [
              0.7777777777777778,
              "#fb9f3a"
             ],
             [
              0.8888888888888888,
              "#fdca26"
             ],
             [
              1,
              "#f0f921"
             ]
            ],
            "type": "histogram2d"
           }
          ],
          "histogram2dcontour": [
           {
            "colorbar": {
             "outlinewidth": 0,
             "ticks": ""
            },
            "colorscale": [
             [
              0,
              "#0d0887"
             ],
             [
              0.1111111111111111,
              "#46039f"
             ],
             [
              0.2222222222222222,
              "#7201a8"
             ],
             [
              0.3333333333333333,
              "#9c179e"
             ],
             [
              0.4444444444444444,
              "#bd3786"
             ],
             [
              0.5555555555555556,
              "#d8576b"
             ],
             [
              0.6666666666666666,
              "#ed7953"
             ],
             [
              0.7777777777777778,
              "#fb9f3a"
             ],
             [
              0.8888888888888888,
              "#fdca26"
             ],
             [
              1,
              "#f0f921"
             ]
            ],
            "type": "histogram2dcontour"
           }
          ],
          "mesh3d": [
           {
            "colorbar": {
             "outlinewidth": 0,
             "ticks": ""
            },
            "type": "mesh3d"
           }
          ],
          "parcoords": [
           {
            "line": {
             "colorbar": {
              "outlinewidth": 0,
              "ticks": ""
             }
            },
            "type": "parcoords"
           }
          ],
          "pie": [
           {
            "automargin": true,
            "type": "pie"
           }
          ],
          "scatter": [
           {
            "marker": {
             "colorbar": {
              "outlinewidth": 0,
              "ticks": ""
             }
            },
            "type": "scatter"
           }
          ],
          "scatter3d": [
           {
            "line": {
             "colorbar": {
              "outlinewidth": 0,
              "ticks": ""
             }
            },
            "marker": {
             "colorbar": {
              "outlinewidth": 0,
              "ticks": ""
             }
            },
            "type": "scatter3d"
           }
          ],
          "scattercarpet": [
           {
            "marker": {
             "colorbar": {
              "outlinewidth": 0,
              "ticks": ""
             }
            },
            "type": "scattercarpet"
           }
          ],
          "scattergeo": [
           {
            "marker": {
             "colorbar": {
              "outlinewidth": 0,
              "ticks": ""
             }
            },
            "type": "scattergeo"
           }
          ],
          "scattergl": [
           {
            "marker": {
             "colorbar": {
              "outlinewidth": 0,
              "ticks": ""
             }
            },
            "type": "scattergl"
           }
          ],
          "scattermapbox": [
           {
            "marker": {
             "colorbar": {
              "outlinewidth": 0,
              "ticks": ""
             }
            },
            "type": "scattermapbox"
           }
          ],
          "scatterpolar": [
           {
            "marker": {
             "colorbar": {
              "outlinewidth": 0,
              "ticks": ""
             }
            },
            "type": "scatterpolar"
           }
          ],
          "scatterpolargl": [
           {
            "marker": {
             "colorbar": {
              "outlinewidth": 0,
              "ticks": ""
             }
            },
            "type": "scatterpolargl"
           }
          ],
          "scatterternary": [
           {
            "marker": {
             "colorbar": {
              "outlinewidth": 0,
              "ticks": ""
             }
            },
            "type": "scatterternary"
           }
          ],
          "surface": [
           {
            "colorbar": {
             "outlinewidth": 0,
             "ticks": ""
            },
            "colorscale": [
             [
              0,
              "#0d0887"
             ],
             [
              0.1111111111111111,
              "#46039f"
             ],
             [
              0.2222222222222222,
              "#7201a8"
             ],
             [
              0.3333333333333333,
              "#9c179e"
             ],
             [
              0.4444444444444444,
              "#bd3786"
             ],
             [
              0.5555555555555556,
              "#d8576b"
             ],
             [
              0.6666666666666666,
              "#ed7953"
             ],
             [
              0.7777777777777778,
              "#fb9f3a"
             ],
             [
              0.8888888888888888,
              "#fdca26"
             ],
             [
              1,
              "#f0f921"
             ]
            ],
            "type": "surface"
           }
          ],
          "table": [
           {
            "cells": {
             "fill": {
              "color": "#EBF0F8"
             },
             "line": {
              "color": "white"
             }
            },
            "header": {
             "fill": {
              "color": "#C8D4E3"
             },
             "line": {
              "color": "white"
             }
            },
            "type": "table"
           }
          ]
         },
         "layout": {
          "annotationdefaults": {
           "arrowcolor": "#2a3f5f",
           "arrowhead": 0,
           "arrowwidth": 1
          },
          "autotypenumbers": "strict",
          "coloraxis": {
           "colorbar": {
            "outlinewidth": 0,
            "ticks": ""
           }
          },
          "colorscale": {
           "diverging": [
            [
             0,
             "#8e0152"
            ],
            [
             0.1,
             "#c51b7d"
            ],
            [
             0.2,
             "#de77ae"
            ],
            [
             0.3,
             "#f1b6da"
            ],
            [
             0.4,
             "#fde0ef"
            ],
            [
             0.5,
             "#f7f7f7"
            ],
            [
             0.6,
             "#e6f5d0"
            ],
            [
             0.7,
             "#b8e186"
            ],
            [
             0.8,
             "#7fbc41"
            ],
            [
             0.9,
             "#4d9221"
            ],
            [
             1,
             "#276419"
            ]
           ],
           "sequential": [
            [
             0,
             "#0d0887"
            ],
            [
             0.1111111111111111,
             "#46039f"
            ],
            [
             0.2222222222222222,
             "#7201a8"
            ],
            [
             0.3333333333333333,
             "#9c179e"
            ],
            [
             0.4444444444444444,
             "#bd3786"
            ],
            [
             0.5555555555555556,
             "#d8576b"
            ],
            [
             0.6666666666666666,
             "#ed7953"
            ],
            [
             0.7777777777777778,
             "#fb9f3a"
            ],
            [
             0.8888888888888888,
             "#fdca26"
            ],
            [
             1,
             "#f0f921"
            ]
           ],
           "sequentialminus": [
            [
             0,
             "#0d0887"
            ],
            [
             0.1111111111111111,
             "#46039f"
            ],
            [
             0.2222222222222222,
             "#7201a8"
            ],
            [
             0.3333333333333333,
             "#9c179e"
            ],
            [
             0.4444444444444444,
             "#bd3786"
            ],
            [
             0.5555555555555556,
             "#d8576b"
            ],
            [
             0.6666666666666666,
             "#ed7953"
            ],
            [
             0.7777777777777778,
             "#fb9f3a"
            ],
            [
             0.8888888888888888,
             "#fdca26"
            ],
            [
             1,
             "#f0f921"
            ]
           ]
          },
          "colorway": [
           "#636efa",
           "#EF553B",
           "#00cc96",
           "#ab63fa",
           "#FFA15A",
           "#19d3f3",
           "#FF6692",
           "#B6E880",
           "#FF97FF",
           "#FECB52"
          ],
          "font": {
           "color": "#2a3f5f"
          },
          "geo": {
           "bgcolor": "white",
           "lakecolor": "white",
           "landcolor": "#E5ECF6",
           "showlakes": true,
           "showland": true,
           "subunitcolor": "white"
          },
          "hoverlabel": {
           "align": "left"
          },
          "hovermode": "closest",
          "mapbox": {
           "style": "light"
          },
          "paper_bgcolor": "white",
          "plot_bgcolor": "#E5ECF6",
          "polar": {
           "angularaxis": {
            "gridcolor": "white",
            "linecolor": "white",
            "ticks": ""
           },
           "bgcolor": "#E5ECF6",
           "radialaxis": {
            "gridcolor": "white",
            "linecolor": "white",
            "ticks": ""
           }
          },
          "scene": {
           "xaxis": {
            "backgroundcolor": "#E5ECF6",
            "gridcolor": "white",
            "gridwidth": 2,
            "linecolor": "white",
            "showbackground": true,
            "ticks": "",
            "zerolinecolor": "white"
           },
           "yaxis": {
            "backgroundcolor": "#E5ECF6",
            "gridcolor": "white",
            "gridwidth": 2,
            "linecolor": "white",
            "showbackground": true,
            "ticks": "",
            "zerolinecolor": "white"
           },
           "zaxis": {
            "backgroundcolor": "#E5ECF6",
            "gridcolor": "white",
            "gridwidth": 2,
            "linecolor": "white",
            "showbackground": true,
            "ticks": "",
            "zerolinecolor": "white"
           }
          },
          "shapedefaults": {
           "line": {
            "color": "#2a3f5f"
           }
          },
          "ternary": {
           "aaxis": {
            "gridcolor": "white",
            "linecolor": "white",
            "ticks": ""
           },
           "baxis": {
            "gridcolor": "white",
            "linecolor": "white",
            "ticks": ""
           },
           "bgcolor": "#E5ECF6",
           "caxis": {
            "gridcolor": "white",
            "linecolor": "white",
            "ticks": ""
           }
          },
          "title": {
           "x": 0.05
          },
          "xaxis": {
           "automargin": true,
           "gridcolor": "white",
           "linecolor": "white",
           "ticks": "",
           "title": {
            "standoff": 15
           },
           "zerolinecolor": "white",
           "zerolinewidth": 2
          },
          "yaxis": {
           "automargin": true,
           "gridcolor": "white",
           "linecolor": "white",
           "ticks": "",
           "title": {
            "standoff": 15
           },
           "zerolinecolor": "white",
           "zerolinewidth": 2
          }
         }
        },
        "title": {
         "text": "Barplots of Mean Feature Importance"
        },
        "xaxis": {
         "autorange": true,
         "range": [
          -0.5,
          17.5
         ],
         "type": "category"
        },
        "yaxis": {
         "autorange": true,
         "gridwidth": 2,
         "range": [
          0,
          7.469359706674944
         ],
         "ticklen": 5,
         "title": {
          "text": "Feature Importance"
         },
         "type": "linear"
        }
       }
      },
      "image/png": "[encoded data removed]",
      "text/html": [
       "<div>                            <div id=\"1d0f2579-44bf-443a-bb8a-79ff5ffd1566\" class=\"plotly-graph-div\" style=\"height:525px; width:100%;\"></div>            <script type=\"text/javascript\">                require([\"plotly\"], function(Plotly) {                    window.PLOTLYENV=window.PLOTLYENV || {};                                    if (document.getElementById(\"1d0f2579-44bf-443a-bb8a-79ff5ffd1566\")) {                    Plotly.newPlot(                        \"1d0f2579-44bf-443a-bb8a-79ff5ffd1566\",                        [{\"marker\":{\"color\":[7.095891721341197,6.753352846230341,1.7278392511868435,1.3908602215746273,1.2067997080539288,0.6967413685091208,0.5938623099314931,0.43187848386848376,0.20221918760118693,0.1704493637228227,0.14664418534983473,0.10111712170879168,0.09819683950915742,0.07486663010887899,0.05067656498873179,0.04419321001381852,0.009027285160963806,0.005383701139780401],\"colorscale\":[[0.0,\"rgb(12,51,131)\"],[0.25,\"rgb(10,136,186)\"],[0.5,\"rgb(242,211,56)\"],[0.75,\"rgb(242,143,56)\"],[1.0,\"rgb(217,30,30)\"]],\"reversescale\":false,\"showscale\":true},\"opacity\":0.6,\"type\":\"bar\",\"width\":0.5,\"x\":[\"longitude\",\"latitude\",\"density_per_km\",\"year\",\"DewPointC\",\"month\",\"mintempC\",\"maxtempC\",\"humidity\",\"WindGustKmph\",\"winddirDegree\",\"moon_illumination\",\"sunHour\",\"pressure\",\"cloudcover\",\"precipMM\",\"visibility\",\"totalSnow_cm\"],\"y\":[7.095891721341197,6.753352846230341,1.7278392511868435,1.3908602215746273,1.2067997080539288,0.6967413685091208,0.5938623099314931,0.43187848386848376,0.20221918760118693,0.1704493637228227,0.14664418534983473,0.10111712170879168,0.09819683950915742,0.07486663010887899,0.05067656498873179,0.04419321001381852,0.009027285160963806,0.005383701139780401]}],                        {\"autosize\":true,\"hovermode\":\"closest\",\"showlegend\":false,\"template\":{\"data\":{\"bar\":[{\"error_x\":{\"color\":\"#2a3f5f\"},\"error_y\":{\"color\":\"#2a3f5f\"},\"marker\":{\"line\":{\"color\":\"#E5ECF6\",\"width\":0.5},\"pattern\":{\"fillmode\":\"overlay\",\"size\":10,\"solidity\":0.2}},\"type\":\"bar\"}],\"barpolar\":[{\"marker\":{\"line\":{\"color\":\"#E5ECF6\",\"width\":0.5},\"pattern\":{\"fillmode\":\"overlay\",\"size\":10,\"solidity\":0.2}},\"type\":\"barpolar\"}],\"carpet\":[{\"aaxis\":{\"endlinecolor\":\"#2a3f5f\",\"gridcolor\":\"white\",\"linecolor\":\"white\",\"minorgridcolor\":\"white\",\"startlinecolor\":\"#2a3f5f\"},\"baxis\":{\"endlinecolor\":\"#2a3f5f\",\"gridcolor\":\"white\",\"linecolor\":\"white\",\"minorgridcolor\":\"white\",\"startlinecolor\":\"#2a3f5f\"},\"type\":\"carpet\"}],\"choropleth\":[{\"colorbar\":{\"outlinewidth\":0,\"ticks\":\"\"},\"type\":\"choropleth\"}],\"contour\":[{\"colorbar\":{\"outlinewidth\":0,\"ticks\":\"\"},\"colorscale\":[[0.0,\"#0d0887\"],[0.1111111111111111,\"#46039f\"],[0.2222222222222222,\"#7201a8\"],[0.3333333333333333,\"#9c179e\"],[0.4444444444444444,\"#bd3786\"],[0.5555555555555556,\"#d8576b\"],[0.6666666666666666,\"#ed7953\"],[0.7777777777777778,\"#fb9f3a\"],[0.8888888888888888,\"#fdca26\"],[1.0,\"#f0f921\"]],\"type\":\"contour\"}],\"contourcarpet\":[{\"colorbar\":{\"outlinewidth\":0,\"ticks\":\"\"},\"type\":\"contourcarpet\"}],\"heatmap\":[{\"colorbar\":{\"outlinewidth\":0,\"ticks\":\"\"},\"colorscale\":[[0.0,\"#0d0887\"],[0.1111111111111111,\"#46039f\"],[0.2222222222222222,\"#7201a8\"],[0.3333333333333333,\"#9c179e\"],[0.4444444444444444,\"#bd3786\"],[0.5555555555555556,\"#d8576b\"],[0.6666666666666666,\"#ed7953\"],[0.7777777777777778,\"#fb9f3a\"],[0.8888888888888888,\"#fdca26\"],[1.0,\"#f0f921\"]],\"type\":\"heatmap\"}],\"heatmapgl\":[{\"colorbar\":{\"outlinewidth\":0,\"ticks\":\"\"},\"colorscale\":[[0.0,\"#0d0887\"],[0.1111111111111111,\"#46039f\"],[0.2222222222222222,\"#7201a8\"],[0.3333333333333333,\"#9c179e\"],[0.4444444444444444,\"#bd3786\"],[0.5555555555555556,\"#d8576b\"],[0.6666666666666666,\"#ed7953\"],[0.7777777777777778,\"#fb9f3a\"],[0.8888888888888888,\"#fdca26\"],[1.0,\"#f0f921\"]],\"type\":\"heatmapgl\"}],\"histogram\":[{\"marker\":{\"pattern\":{\"fillmode\":\"overlay\",\"size\":10,\"solidity\":0.2}},\"type\":\"histogram\"}],\"histogram2d\":[{\"colorbar\":{\"outlinewidth\":0,\"ticks\":\"\"},\"colorscale\":[[0.0,\"#0d0887\"],[0.1111111111111111,\"#46039f\"],[0.2222222222222222,\"#7201a8\"],[0.3333333333333333,\"#9c179e\"],[0.4444444444444444,\"#bd3786\"],[0.5555555555555556,\"#d8576b\"],[0.6666666666666666,\"#ed7953\"],[0.7777777777777778,\"#fb9f3a\"],[0.8888888888888888,\"#fdca26\"],[1.0,\"#f0f921\"]],\"type\":\"histogram2d\"}],\"histogram2dcontour\":[{\"colorbar\":{\"outlinewidth\":0,\"ticks\":\"\"},\"colorscale\":[[0.0,\"#0d0887\"],[0.1111111111111111,\"#46039f\"],[0.2222222222222222,\"#7201a8\"],[0.3333333333333333,\"#9c179e\"],[0.4444444444444444,\"#bd3786\"],[0.5555555555555556,\"#d8576b\"],[0.6666666666666666,\"#ed7953\"],[0.7777777777777778,\"#fb9f3a\"],[0.8888888888888888,\"#fdca26\"],[1.0,\"#f0f921\"]],\"type\":\"histogram2dcontour\"}],\"mesh3d\":[{\"colorbar\":{\"outlinewidth\":0,\"ticks\":\"\"},\"type\":\"mesh3d\"}],\"parcoords\":[{\"line\":{\"colorbar\":{\"outlinewidth\":0,\"ticks\":\"\"}},\"type\":\"parcoords\"}],\"pie\":[{\"automargin\":true,\"type\":\"pie\"}],\"scatter\":[{\"marker\":{\"colorbar\":{\"outlinewidth\":0,\"ticks\":\"\"}},\"type\":\"scatter\"}],\"scatter3d\":[{\"line\":{\"colorbar\":{\"outlinewidth\":0,\"ticks\":\"\"}},\"marker\":{\"colorbar\":{\"outlinewidth\":0,\"ticks\":\"\"}},\"type\":\"scatter3d\"}],\"scattercarpet\":[{\"marker\":{\"colorbar\":{\"outlinewidth\":0,\"ticks\":\"\"}},\"type\":\"scattercarpet\"}],\"scattergeo\":[{\"marker\":{\"colorbar\":{\"outlinewidth\":0,\"ticks\":\"\"}},\"type\":\"scattergeo\"}],\"scattergl\":[{\"marker\":{\"colorbar\":{\"outlinewidth\":0,\"ticks\":\"\"}},\"type\":\"scattergl\"}],\"scattermapbox\":[{\"marker\":{\"colorbar\":{\"outlinewidth\":0,\"ticks\":\"\"}},\"type\":\"scattermapbox\"}],\"scatterpolar\":[{\"marker\":{\"colorbar\":{\"outlinewidth\":0,\"ticks\":\"\"}},\"type\":\"scatterpolar\"}],\"scatterpolargl\":[{\"marker\":{\"colorbar\":{\"outlinewidth\":0,\"ticks\":\"\"}},\"type\":\"scatterpolargl\"}],\"scatterternary\":[{\"marker\":{\"colorbar\":{\"outlinewidth\":0,\"ticks\":\"\"}},\"type\":\"scatterternary\"}],\"surface\":[{\"colorbar\":{\"outlinewidth\":0,\"ticks\":\"\"},\"colorscale\":[[0.0,\"#0d0887\"],[0.1111111111111111,\"#46039f\"],[0.2222222222222222,\"#7201a8\"],[0.3333333333333333,\"#9c179e\"],[0.4444444444444444,\"#bd3786\"],[0.5555555555555556,\"#d8576b\"],[0.6666666666666666,\"#ed7953\"],[0.7777777777777778,\"#fb9f3a\"],[0.8888888888888888,\"#fdca26\"],[1.0,\"#f0f921\"]],\"type\":\"surface\"}],\"table\":[{\"cells\":{\"fill\":{\"color\":\"#EBF0F8\"},\"line\":{\"color\":\"white\"}},\"header\":{\"fill\":{\"color\":\"#C8D4E3\"},\"line\":{\"color\":\"white\"}},\"type\":\"table\"}]},\"layout\":{\"annotationdefaults\":{\"arrowcolor\":\"#2a3f5f\",\"arrowhead\":0,\"arrowwidth\":1},\"autotypenumbers\":\"strict\",\"coloraxis\":{\"colorbar\":{\"outlinewidth\":0,\"ticks\":\"\"}},\"colorscale\":{\"diverging\":[[0,\"#8e0152\"],[0.1,\"#c51b7d\"],[0.2,\"#de77ae\"],[0.3,\"#f1b6da\"],[0.4,\"#fde0ef\"],[0.5,\"#f7f7f7\"],[0.6,\"#e6f5d0\"],[0.7,\"#b8e186\"],[0.8,\"#7fbc41\"],[0.9,\"#4d9221\"],[1,\"#276419\"]],\"sequential\":[[0.0,\"#0d0887\"],[0.1111111111111111,\"#46039f\"],[0.2222222222222222,\"#7201a8\"],[0.3333333333333333,\"#9c179e\"],[0.4444444444444444,\"#bd3786\"],[0.5555555555555556,\"#d8576b\"],[0.6666666666666666,\"#ed7953\"],[0.7777777777777778,\"#fb9f3a\"],[0.8888888888888888,\"#fdca26\"],[1.0,\"#f0f921\"]],\"sequentialminus\":[[0.0,\"#0d0887\"],[0.1111111111111111,\"#46039f\"],[0.2222222222222222,\"#7201a8\"],[0.3333333333333333,\"#9c179e\"],[0.4444444444444444,\"#bd3786\"],[0.5555555555555556,\"#d8576b\"],[0.6666666666666666,\"#ed7953\"],[0.7777777777777778,\"#fb9f3a\"],[0.8888888888888888,\"#fdca26\"],[1.0,\"#f0f921\"]]},\"colorway\":[\"#636efa\",\"#EF553B\",\"#00cc96\",\"#ab63fa\",\"#FFA15A\",\"#19d3f3\",\"#FF6692\",\"#B6E880\",\"#FF97FF\",\"#FECB52\"],\"font\":{\"color\":\"#2a3f5f\"},\"geo\":{\"bgcolor\":\"white\",\"lakecolor\":\"white\",\"landcolor\":\"#E5ECF6\",\"showlakes\":true,\"showland\":true,\"subunitcolor\":\"white\"},\"hoverlabel\":{\"align\":\"left\"},\"hovermode\":\"closest\",\"mapbox\":{\"style\":\"light\"},\"paper_bgcolor\":\"white\",\"plot_bgcolor\":\"#E5ECF6\",\"polar\":{\"angularaxis\":{\"gridcolor\":\"white\",\"linecolor\":\"white\",\"ticks\":\"\"},\"bgcolor\":\"#E5ECF6\",\"radialaxis\":{\"gridcolor\":\"white\",\"linecolor\":\"white\",\"ticks\":\"\"}},\"scene\":{\"xaxis\":{\"backgroundcolor\":\"#E5ECF6\",\"gridcolor\":\"white\",\"gridwidth\":2,\"linecolor\":\"white\",\"showbackground\":true,\"ticks\":\"\",\"zerolinecolor\":\"white\"},\"yaxis\":{\"backgroundcolor\":\"#E5ECF6\",\"gridcolor\":\"white\",\"gridwidth\":2,\"linecolor\":\"white\",\"showbackground\":true,\"ticks\":\"\",\"zerolinecolor\":\"white\"},\"zaxis\":{\"backgroundcolor\":\"#E5ECF6\",\"gridcolor\":\"white\",\"gridwidth\":2,\"linecolor\":\"white\",\"showbackground\":true,\"ticks\":\"\",\"zerolinecolor\":\"white\"}},\"shapedefaults\":{\"line\":{\"color\":\"#2a3f5f\"}},\"ternary\":{\"aaxis\":{\"gridcolor\":\"white\",\"linecolor\":\"white\",\"ticks\":\"\"},\"baxis\":{\"gridcolor\":\"white\",\"linecolor\":\"white\",\"ticks\":\"\"},\"bgcolor\":\"#E5ECF6\",\"caxis\":{\"gridcolor\":\"white\",\"linecolor\":\"white\",\"ticks\":\"\"}},\"title\":{\"x\":0.05},\"xaxis\":{\"automargin\":true,\"gridcolor\":\"white\",\"linecolor\":\"white\",\"ticks\":\"\",\"title\":{\"standoff\":15},\"zerolinecolor\":\"white\",\"zerolinewidth\":2},\"yaxis\":{\"automargin\":true,\"gridcolor\":\"white\",\"linecolor\":\"white\",\"ticks\":\"\",\"title\":{\"standoff\":15},\"zerolinecolor\":\"white\",\"zerolinewidth\":2}}},\"title\":{\"text\":\"Barplots of Mean Feature Importance\"},\"yaxis\":{\"gridwidth\":2,\"ticklen\":5,\"title\":{\"text\":\"Feature Importance\"}}},                        {\"responsive\": true}                    ).then(function(){\n",
       "                            \n",
       "var gd = document.getElementById('1d0f2579-44bf-443a-bb8a-79ff5ffd1566');\n",
       "var x = new MutationObserver(function (mutations, observer) {{\n",
       "        var display = window.getComputedStyle(gd).display;\n",
       "        if (!display || display === 'none') {{\n",
       "            console.log([gd, 'removed!']);\n",
       "            Plotly.purge(gd);\n",
       "            observer.disconnect();\n",
       "        }}\n",
       "}});\n",
       "\n",
       "// Listen for the removal of the full notebook cells\n",
       "var notebookContainer = gd.closest('#notebook-container');\n",
       "if (notebookContainer) {{\n",
       "    x.observe(notebookContainer, {childList: true});\n",
       "}}\n",
       "\n",
       "// Listen for the clearing of the current output cell\n",
       "var outputEl = gd.closest('.output');\n",
       "if (outputEl) {{\n",
       "    x.observe(outputEl, {childList: true});\n",
       "}}\n",
       "\n",
       "                        })                };                });            </script>        </div>"
      ]
     },
     "metadata": {},
     "output_type": "display_data"
    }
   ],
   "source": [
    "y = feature_dataframe['mean'].values\n",
    "x = feature_dataframe['features'].values\n",
    "data = [go.Bar(\n",
    "            x= x,\n",
    "             y= y,\n",
    "            width = 0.5,\n",
    "            marker=dict(\n",
    "               color = feature_dataframe['mean'].values,\n",
    "            colorscale='Portland',\n",
    "            showscale=True,\n",
    "            reversescale = False\n",
    "            ),\n",
    "            opacity=0.6\n",
    "        )]\n",
    "\n",
    "layout= go.Layout(\n",
    "    autosize= True,\n",
    "    title= 'Barplots of Mean Feature Importance',\n",
    "    hovermode= 'closest',\n",
    "    yaxis=dict(\n",
    "        title= 'Feature Importance',\n",
    "        ticklen= 5,\n",
    "        gridwidth= 2\n",
    "    ),\n",
    "    showlegend= False\n",
    ")\n",
    "fig = go.Figure(data=data, layout=layout)\n",
    "py.iplot(fig, filename='bar-direct-labels')"
   ]
  },
  {
   "cell_type": "code",
   "execution_count": 71,
   "metadata": {
    "execution": {
     "iopub.execute_input": "2021-09-19T16:21:08.848765Z",
     "iopub.status.busy": "2021-09-19T16:21:08.848497Z",
     "iopub.status.idle": "2021-09-19T16:21:08.865191Z",
     "shell.execute_reply": "2021-09-19T16:21:08.864374Z",
     "shell.execute_reply.started": "2021-09-19T16:21:08.848737Z"
    }
   },
   "outputs": [
    {
     "data": {
      "text/html": [
       "<div>\n",
       "<style scoped>\n",
       "    .dataframe tbody tr th:only-of-type {\n",
       "        vertical-align: middle;\n",
       "    }\n",
       "\n",
       "    .dataframe tbody tr th {\n",
       "        vertical-align: top;\n",
       "    }\n",
       "\n",
       "    .dataframe thead th {\n",
       "        text-align: right;\n",
       "    }\n",
       "</style>\n",
       "<table border=\"1\" class=\"dataframe\">\n",
       "  <thead>\n",
       "    <tr style=\"text-align: right;\">\n",
       "      <th></th>\n",
       "      <th>CatBoost</th>\n",
       "      <th>AdaBoost</th>\n",
       "      <th>XGBoost</th>\n",
       "      <th>DesicionTree</th>\n",
       "      <th>RandomForest</th>\n",
       "    </tr>\n",
       "  </thead>\n",
       "  <tbody>\n",
       "    <tr>\n",
       "      <th>0</th>\n",
       "      <td>0.597478</td>\n",
       "      <td>0.596019</td>\n",
       "      <td>0.597611</td>\n",
       "      <td>0.588454</td>\n",
       "      <td>0.595753</td>\n",
       "    </tr>\n",
       "    <tr>\n",
       "      <th>1</th>\n",
       "      <td>0.596284</td>\n",
       "      <td>0.598938</td>\n",
       "      <td>0.596815</td>\n",
       "      <td>0.585667</td>\n",
       "      <td>0.588321</td>\n",
       "    </tr>\n",
       "    <tr>\n",
       "      <th>2</th>\n",
       "      <td>0.611495</td>\n",
       "      <td>0.612025</td>\n",
       "      <td>0.610698</td>\n",
       "      <td>0.599681</td>\n",
       "      <td>0.604593</td>\n",
       "    </tr>\n",
       "    <tr>\n",
       "      <th>3</th>\n",
       "      <td>0.600743</td>\n",
       "      <td>0.597558</td>\n",
       "      <td>0.593709</td>\n",
       "      <td>0.589992</td>\n",
       "      <td>0.596629</td>\n",
       "    </tr>\n",
       "    <tr>\n",
       "      <th>4</th>\n",
       "      <td>0.590523</td>\n",
       "      <td>0.595301</td>\n",
       "      <td>0.585745</td>\n",
       "      <td>0.591983</td>\n",
       "      <td>0.586143</td>\n",
       "    </tr>\n",
       "  </tbody>\n",
       "</table>\n",
       "</div>"
      ],
      "text/plain": [
       "   CatBoost  AdaBoost   XGBoost  DesicionTree  RandomForest\n",
       "0  0.597478  0.596019  0.597611      0.588454      0.595753\n",
       "1  0.596284  0.598938  0.596815      0.585667      0.588321\n",
       "2  0.611495  0.612025  0.610698      0.599681      0.604593\n",
       "3  0.600743  0.597558  0.593709      0.589992      0.596629\n",
       "4  0.590523  0.595301  0.585745      0.591983      0.586143"
      ]
     },
     "execution_count": 71,
     "metadata": {},
     "output_type": "execute_result"
    }
   ],
   "source": [
    "acc_pred_train = pd.DataFrame ({\n",
    "    'CatBoost': cat_scores.ravel(),\n",
    "    'AdaBoost': ada_scores.ravel(),\n",
    "    'XGBoost': gbc_scores.ravel(),\n",
    "    'DesicionTree': dtc_scores.ravel(),\n",
    "    'RandomForest': rfc_scores.ravel(),\n",
    "    })\n",
    "acc_pred_train.head()"
   ]
  },
  {
   "cell_type": "code",
   "execution_count": 78,
   "metadata": {
    "execution": {
     "iopub.execute_input": "2021-09-19T16:25:05.434993Z",
     "iopub.status.busy": "2021-09-19T16:25:05.434739Z",
     "iopub.status.idle": "2021-09-19T16:25:05.778728Z",
     "shell.execute_reply": "2021-09-19T16:25:05.778038Z",
     "shell.execute_reply.started": "2021-09-19T16:25:05.434966Z"
    }
   },
   "outputs": [
    {
     "data": {
      "text/plain": [
       "<AxesSubplot:title={'center':'Pearson correlation of features'}>"
      ]
     },
     "execution_count": 78,
     "metadata": {},
     "output_type": "execute_result"
    },
    {
     "data": {
      "image/png": "[encoded data removed]",
      "text/plain": [
       "<Figure size 576x360 with 2 Axes>"
      ]
     },
     "metadata": {
      "needs_background": "light"
     },
     "output_type": "display_data"
    }
   ],
   "source": [
    "colormap = plt.cm.RdBu\n",
    "plt.figure(figsize=(8,5))\n",
    "plt.title('Pearson correlation of features', y=1.05, size=15)\n",
    "sns.heatmap(acc_pred_train.astype(float).corr(), annot=True)"
   ]
  },
  {
   "cell_type": "code",
   "execution_count": 73,
   "metadata": {
    "execution": {
     "iopub.execute_input": "2021-09-19T16:24:22.723526Z",
     "iopub.status.busy": "2021-09-19T16:24:22.722803Z",
     "iopub.status.idle": "2021-09-19T16:24:22.730124Z",
     "shell.execute_reply": "2021-09-19T16:24:22.729471Z",
     "shell.execute_reply.started": "2021-09-19T16:24:22.723489Z"
    }
   },
   "outputs": [
    {
     "data": {
      "text/plain": [
       "array([[0, 0, 0, 0, 0],\n",
       "       [0, 0, 1, 0, 0],\n",
       "       [1, 1, 1, 1, 1],\n",
       "       ...,\n",
       "       [1, 1, 1, 1, 1],\n",
       "       [0, 0, 1, 0, 0],\n",
       "       [0, 0, 0, 0, 0]])"
      ]
     },
     "execution_count": 73,
     "metadata": {},
     "output_type": "execute_result"
    }
   ],
   "source": [
    "x_train = np.column_stack(( cat_train_pred, ada_train_pred, gbc_train_pred, dtc_train_pred, rfc_train_pred))\n",
    "x_train"
   ]
  },
  {
   "cell_type": "code",
   "execution_count": 76,
   "metadata": {
    "execution": {
     "iopub.execute_input": "2021-09-19T16:24:49.477822Z",
     "iopub.status.busy": "2021-09-19T16:24:49.477190Z",
     "iopub.status.idle": "2021-09-19T16:24:49.483136Z",
     "shell.execute_reply": "2021-09-19T16:24:49.482297Z",
     "shell.execute_reply.started": "2021-09-19T16:24:49.477789Z"
    }
   },
   "outputs": [
    {
     "data": {
      "text/plain": [
       "(37672, 5)"
      ]
     },
     "execution_count": 76,
     "metadata": {},
     "output_type": "execute_result"
    }
   ],
   "source": [
    "x_train.shape"
   ]
  },
  {
   "cell_type": "code",
   "execution_count": 75,
   "metadata": {
    "execution": {
     "iopub.execute_input": "2021-09-19T16:24:46.738705Z",
     "iopub.status.busy": "2021-09-19T16:24:46.738152Z",
     "iopub.status.idle": "2021-09-19T16:24:46.749517Z",
     "shell.execute_reply": "2021-09-19T16:24:46.748846Z",
     "shell.execute_reply.started": "2021-09-19T16:24:46.738668Z"
    }
   },
   "outputs": [
    {
     "data": {
      "text/html": [
       "<div>\n",
       "<style scoped>\n",
       "    .dataframe tbody tr th:only-of-type {\n",
       "        vertical-align: middle;\n",
       "    }\n",
       "\n",
       "    .dataframe tbody tr th {\n",
       "        vertical-align: top;\n",
       "    }\n",
       "\n",
       "    .dataframe thead th {\n",
       "        text-align: right;\n",
       "    }\n",
       "</style>\n",
       "<table border=\"1\" class=\"dataframe\">\n",
       "  <thead>\n",
       "    <tr style=\"text-align: right;\">\n",
       "      <th></th>\n",
       "      <th>CatBoost</th>\n",
       "      <th>AdaBoost</th>\n",
       "      <th>XGBoost</th>\n",
       "      <th>DesicionTree</th>\n",
       "      <th>RandomForest</th>\n",
       "    </tr>\n",
       "  </thead>\n",
       "  <tbody>\n",
       "    <tr>\n",
       "      <th>0</th>\n",
       "      <td>0.597478</td>\n",
       "      <td>0.596019</td>\n",
       "      <td>0.597611</td>\n",
       "      <td>0.588454</td>\n",
       "      <td>0.595753</td>\n",
       "    </tr>\n",
       "    <tr>\n",
       "      <th>1</th>\n",
       "      <td>0.596284</td>\n",
       "      <td>0.598938</td>\n",
       "      <td>0.596815</td>\n",
       "      <td>0.585667</td>\n",
       "      <td>0.588321</td>\n",
       "    </tr>\n",
       "    <tr>\n",
       "      <th>2</th>\n",
       "      <td>0.611495</td>\n",
       "      <td>0.612025</td>\n",
       "      <td>0.610698</td>\n",
       "      <td>0.599681</td>\n",
       "      <td>0.604593</td>\n",
       "    </tr>\n",
       "    <tr>\n",
       "      <th>3</th>\n",
       "      <td>0.600743</td>\n",
       "      <td>0.597558</td>\n",
       "      <td>0.593709</td>\n",
       "      <td>0.589992</td>\n",
       "      <td>0.596629</td>\n",
       "    </tr>\n",
       "    <tr>\n",
       "      <th>4</th>\n",
       "      <td>0.590523</td>\n",
       "      <td>0.595301</td>\n",
       "      <td>0.585745</td>\n",
       "      <td>0.591983</td>\n",
       "      <td>0.586143</td>\n",
       "    </tr>\n",
       "  </tbody>\n",
       "</table>\n",
       "</div>"
      ],
      "text/plain": [
       "   CatBoost  AdaBoost   XGBoost  DesicionTree  RandomForest\n",
       "0  0.597478  0.596019  0.597611      0.588454      0.595753\n",
       "1  0.596284  0.598938  0.596815      0.585667      0.588321\n",
       "2  0.611495  0.612025  0.610698      0.599681      0.604593\n",
       "3  0.600743  0.597558  0.593709      0.589992      0.596629\n",
       "4  0.590523  0.595301  0.585745      0.591983      0.586143"
      ]
     },
     "execution_count": 75,
     "metadata": {},
     "output_type": "execute_result"
    }
   ],
   "source": [
    "acc_pred_train"
   ]
  },
  {
   "cell_type": "code",
   "execution_count": 80,
   "metadata": {
    "execution": {
     "iopub.execute_input": "2021-09-19T16:27:41.641069Z",
     "iopub.status.busy": "2021-09-19T16:27:41.640791Z",
     "iopub.status.idle": "2021-09-19T16:27:41.648109Z",
     "shell.execute_reply": "2021-09-19T16:27:41.647176Z",
     "shell.execute_reply.started": "2021-09-19T16:27:41.641034Z"
    }
   },
   "outputs": [],
   "source": [
    "def trainStackModel(x_train, y_train, x_test, n_folds, seed):\n",
    "    cv = KFold(n_splits= n_folds, random_state=seed)\n",
    "    gbm = CatBoostClassifier(\n",
    "        depth=3,learning_rate=0.02,\n",
    "        l2_leaf_reg=10,\n",
    "        loss_function='Logloss', \n",
    "        eval_metric='Accuracy',\n",
    "        verbose=False).fit(x_train, y_train)\n",
    "    \n",
    "    scores = cross_val_score(gbm, x_train, y_train, scoring='accuracy', cv=cv)\n",
    "    return scores"
   ]
  },
  {
   "cell_type": "code",
   "execution_count": 82,
   "metadata": {
    "execution": {
     "iopub.execute_input": "2021-09-19T16:27:58.855912Z",
     "iopub.status.busy": "2021-09-19T16:27:58.855643Z",
     "iopub.status.idle": "2021-09-19T16:28:44.290739Z",
     "shell.execute_reply": "2021-09-19T16:28:44.289997Z",
     "shell.execute_reply.started": "2021-09-19T16:27:58.855883Z"
    }
   },
   "outputs": [],
   "source": [
    "stackModel_scores = trainStackModel(x_train, y_train, X_test, 5, 0)"
   ]
  },
  {
   "cell_type": "code",
   "execution_count": 83,
   "metadata": {
    "execution": {
     "iopub.execute_input": "2021-09-19T16:28:44.292920Z",
     "iopub.status.busy": "2021-09-19T16:28:44.292654Z",
     "iopub.status.idle": "2021-09-19T16:28:44.307832Z",
     "shell.execute_reply": "2021-09-19T16:28:44.307053Z",
     "shell.execute_reply.started": "2021-09-19T16:28:44.292888Z"
    }
   },
   "outputs": [
    {
     "data": {
      "text/html": [
       "<div>\n",
       "<style scoped>\n",
       "    .dataframe tbody tr th:only-of-type {\n",
       "        vertical-align: middle;\n",
       "    }\n",
       "\n",
       "    .dataframe tbody tr th {\n",
       "        vertical-align: top;\n",
       "    }\n",
       "\n",
       "    .dataframe thead th {\n",
       "        text-align: right;\n",
       "    }\n",
       "</style>\n",
       "<table border=\"1\" class=\"dataframe\">\n",
       "  <thead>\n",
       "    <tr style=\"text-align: right;\">\n",
       "      <th></th>\n",
       "      <th>CatBoost</th>\n",
       "      <th>AdaBoost</th>\n",
       "      <th>XGBoost</th>\n",
       "      <th>DesicionTree</th>\n",
       "      <th>RandomForest</th>\n",
       "      <th>stackingModel</th>\n",
       "    </tr>\n",
       "  </thead>\n",
       "  <tbody>\n",
       "    <tr>\n",
       "      <th>0</th>\n",
       "      <td>0.597478</td>\n",
       "      <td>0.596019</td>\n",
       "      <td>0.597611</td>\n",
       "      <td>0.588454</td>\n",
       "      <td>0.595753</td>\n",
       "      <td>0.598673</td>\n",
       "    </tr>\n",
       "    <tr>\n",
       "      <th>1</th>\n",
       "      <td>0.596284</td>\n",
       "      <td>0.598938</td>\n",
       "      <td>0.596815</td>\n",
       "      <td>0.585667</td>\n",
       "      <td>0.588321</td>\n",
       "      <td>0.598275</td>\n",
       "    </tr>\n",
       "    <tr>\n",
       "      <th>2</th>\n",
       "      <td>0.611495</td>\n",
       "      <td>0.612025</td>\n",
       "      <td>0.610698</td>\n",
       "      <td>0.599681</td>\n",
       "      <td>0.604593</td>\n",
       "      <td>0.615477</td>\n",
       "    </tr>\n",
       "    <tr>\n",
       "      <th>3</th>\n",
       "      <td>0.600743</td>\n",
       "      <td>0.597558</td>\n",
       "      <td>0.593709</td>\n",
       "      <td>0.589992</td>\n",
       "      <td>0.596629</td>\n",
       "      <td>0.601274</td>\n",
       "    </tr>\n",
       "    <tr>\n",
       "      <th>4</th>\n",
       "      <td>0.590523</td>\n",
       "      <td>0.595301</td>\n",
       "      <td>0.585745</td>\n",
       "      <td>0.591983</td>\n",
       "      <td>0.586143</td>\n",
       "      <td>0.590788</td>\n",
       "    </tr>\n",
       "  </tbody>\n",
       "</table>\n",
       "</div>"
      ],
      "text/plain": [
       "   CatBoost  AdaBoost   XGBoost  DesicionTree  RandomForest  stackingModel\n",
       "0  0.597478  0.596019  0.597611      0.588454      0.595753       0.598673\n",
       "1  0.596284  0.598938  0.596815      0.585667      0.588321       0.598275\n",
       "2  0.611495  0.612025  0.610698      0.599681      0.604593       0.615477\n",
       "3  0.600743  0.597558  0.593709      0.589992      0.596629       0.601274\n",
       "4  0.590523  0.595301  0.585745      0.591983      0.586143       0.590788"
      ]
     },
     "execution_count": 83,
     "metadata": {},
     "output_type": "execute_result"
    }
   ],
   "source": [
    "acc_pred_train['stackingModel'] = stackModel_scores\n",
    "acc_pred_train"
   ]
  },
  {
   "cell_type": "code",
   "execution_count": null,
   "metadata": {},
   "outputs": [],
   "source": []
  },
  {
   "cell_type": "code",
   "execution_count": null,
   "metadata": {},
   "outputs": [],
   "source": []
  },
  {
   "cell_type": "code",
   "execution_count": null,
   "metadata": {},
   "outputs": [],
   "source": []
  },
  {
   "cell_type": "code",
   "execution_count": null,
   "metadata": {},
   "outputs": [],
   "source": []
  }
 ],
 "metadata": {
  "kernelspec": {
   "display_name": "Python 3",
   "language": "python",
   "name": "python3"
  },
  "language_info": {
   "codemirror_mode": {
    "name": "ipython",
    "version": 3
   },
   "file_extension": ".py",
   "mimetype": "text/x-python",
   "name": "python",
   "nbconvert_exporter": "python",
   "pygments_lexer": "ipython3",
   "version": "3.7.11"
  },
  "varInspector": {
   "cols": {
    "lenName": 16,
    "lenType": 16,
    "lenVar": 40
   },
   "kernels_config": {
    "python": {
     "delete_cmd_postfix": "",
     "delete_cmd_prefix": "del ",
     "library": "var_list.py",
     "varRefreshCmd": "print(var_dic_list())"
    },
    "r": {
     "delete_cmd_postfix": ") ",
     "delete_cmd_prefix": "rm(",
     "library": "var_list.r",
     "varRefreshCmd": "cat(var_dic_list()) "
    }
   },
   "types_to_exclude": [
    "module",
    "function",
    "builtin_function_or_method",
    "instance",
    "_Feature"
   ],
   "window_display": false
  }
 },
 "nbformat": 4,
 "nbformat_minor": 4
}
