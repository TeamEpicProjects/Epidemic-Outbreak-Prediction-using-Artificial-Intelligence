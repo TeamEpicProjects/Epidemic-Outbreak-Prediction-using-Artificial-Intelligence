{
  "nbformat": 4,
  "nbformat_minor": 0,
  "metadata": {
    "colab": {
      "name": "Auto_Sklearn",
      "provenance": [],
      "collapsed_sections": []
    },
    "kernelspec": {
      "name": "python3",
      "display_name": "Python 3"
    },
    "language_info": {
      "name": "python"
    },
    "accelerator": "GPU"
  },
  "cells": [
    {
      "cell_type": "code",
      "metadata": {
        "id": "Bf5xddPCDe3Y"
      },
      "source": [
        "!sudo apt-get install build-essential swig\n",
        "!pip install auto-sklearn==0.11.1"
      ],
      "execution_count": null,
      "outputs": []
    },
    {
      "cell_type": "code",
      "metadata": {
        "id": "cq_Urr9N_jVX"
      },
      "source": [
        "import pandas as pd\n",
        "import sklearn\n",
        "import autosklearn.classification as classifier\n",
        "from sklearn.model_selection import train_test_split"
      ],
      "execution_count": 1,
      "outputs": []
    },
    {
      "cell_type": "code",
      "metadata": {
        "colab": {
          "base_uri": "https://localhost:8080/",
          "height": 224
        },
        "id": "PYUjdzNNAFEO",
        "outputId": "b6556317-f779-4d62-b760-f981b8e0411e"
      },
      "source": [
        "df = pd.read_csv('/content/drive/MyDrive/ZikaVirus/classification_dataset.csv')\n",
        "df.head()"
      ],
      "execution_count": 2,
      "outputs": [
        {
          "output_type": "execute_result",
          "data": {
            "text/html": [
              "<div>\n",
              "<style scoped>\n",
              "    .dataframe tbody tr th:only-of-type {\n",
              "        vertical-align: middle;\n",
              "    }\n",
              "\n",
              "    .dataframe tbody tr th {\n",
              "        vertical-align: top;\n",
              "    }\n",
              "\n",
              "    .dataframe thead th {\n",
              "        text-align: right;\n",
              "    }\n",
              "</style>\n",
              "<table border=\"1\" class=\"dataframe\">\n",
              "  <thead>\n",
              "    <tr style=\"text-align: right;\">\n",
              "      <th></th>\n",
              "      <th>density_per_km</th>\n",
              "      <th>latitude</th>\n",
              "      <th>longitude</th>\n",
              "      <th>maxtempC</th>\n",
              "      <th>mintempC</th>\n",
              "      <th>totalSnow_cm</th>\n",
              "      <th>sunHour</th>\n",
              "      <th>moon_illumination</th>\n",
              "      <th>DewPointC</th>\n",
              "      <th>WindGustKmph</th>\n",
              "      <th>cloudcover</th>\n",
              "      <th>humidity</th>\n",
              "      <th>precipMM</th>\n",
              "      <th>pressure</th>\n",
              "      <th>visibility</th>\n",
              "      <th>winddirDegree</th>\n",
              "      <th>year</th>\n",
              "      <th>month</th>\n",
              "      <th>Target</th>\n",
              "    </tr>\n",
              "  </thead>\n",
              "  <tbody>\n",
              "    <tr>\n",
              "      <th>0</th>\n",
              "      <td>12625.800781</td>\n",
              "      <td>-34.603684</td>\n",
              "      <td>-58.381559</td>\n",
              "      <td>24</td>\n",
              "      <td>7</td>\n",
              "      <td>0.0</td>\n",
              "      <td>11.6</td>\n",
              "      <td>87</td>\n",
              "      <td>6</td>\n",
              "      <td>16</td>\n",
              "      <td>0</td>\n",
              "      <td>59</td>\n",
              "      <td>0.0</td>\n",
              "      <td>1018</td>\n",
              "      <td>10</td>\n",
              "      <td>189</td>\n",
              "      <td>2016</td>\n",
              "      <td>3</td>\n",
              "      <td>1</td>\n",
              "    </tr>\n",
              "    <tr>\n",
              "      <th>1</th>\n",
              "      <td>12625.800781</td>\n",
              "      <td>-34.603684</td>\n",
              "      <td>-58.381559</td>\n",
              "      <td>24</td>\n",
              "      <td>7</td>\n",
              "      <td>0.0</td>\n",
              "      <td>11.6</td>\n",
              "      <td>87</td>\n",
              "      <td>6</td>\n",
              "      <td>16</td>\n",
              "      <td>0</td>\n",
              "      <td>59</td>\n",
              "      <td>0.0</td>\n",
              "      <td>1018</td>\n",
              "      <td>10</td>\n",
              "      <td>189</td>\n",
              "      <td>2016</td>\n",
              "      <td>3</td>\n",
              "      <td>0</td>\n",
              "    </tr>\n",
              "    <tr>\n",
              "      <th>2</th>\n",
              "      <td>12625.800781</td>\n",
              "      <td>-34.603684</td>\n",
              "      <td>-58.381559</td>\n",
              "      <td>24</td>\n",
              "      <td>7</td>\n",
              "      <td>0.0</td>\n",
              "      <td>11.6</td>\n",
              "      <td>87</td>\n",
              "      <td>6</td>\n",
              "      <td>16</td>\n",
              "      <td>0</td>\n",
              "      <td>59</td>\n",
              "      <td>0.0</td>\n",
              "      <td>1018</td>\n",
              "      <td>10</td>\n",
              "      <td>189</td>\n",
              "      <td>2016</td>\n",
              "      <td>3</td>\n",
              "      <td>1</td>\n",
              "    </tr>\n",
              "    <tr>\n",
              "      <th>3</th>\n",
              "      <td>12625.800781</td>\n",
              "      <td>-34.603684</td>\n",
              "      <td>-58.381559</td>\n",
              "      <td>24</td>\n",
              "      <td>7</td>\n",
              "      <td>0.0</td>\n",
              "      <td>11.6</td>\n",
              "      <td>87</td>\n",
              "      <td>6</td>\n",
              "      <td>16</td>\n",
              "      <td>0</td>\n",
              "      <td>59</td>\n",
              "      <td>0.0</td>\n",
              "      <td>1018</td>\n",
              "      <td>10</td>\n",
              "      <td>189</td>\n",
              "      <td>2016</td>\n",
              "      <td>3</td>\n",
              "      <td>0</td>\n",
              "    </tr>\n",
              "    <tr>\n",
              "      <th>4</th>\n",
              "      <td>12625.800781</td>\n",
              "      <td>-34.603684</td>\n",
              "      <td>-58.381559</td>\n",
              "      <td>22</td>\n",
              "      <td>10</td>\n",
              "      <td>0.0</td>\n",
              "      <td>11.5</td>\n",
              "      <td>76</td>\n",
              "      <td>10</td>\n",
              "      <td>27</td>\n",
              "      <td>34</td>\n",
              "      <td>72</td>\n",
              "      <td>0.0</td>\n",
              "      <td>1025</td>\n",
              "      <td>10</td>\n",
              "      <td>99</td>\n",
              "      <td>2016</td>\n",
              "      <td>3</td>\n",
              "      <td>0</td>\n",
              "    </tr>\n",
              "  </tbody>\n",
              "</table>\n",
              "</div>"
            ],
            "text/plain": [
              "   density_per_km   latitude  longitude  ...  year  month  Target\n",
              "0    12625.800781 -34.603684 -58.381559  ...  2016      3       1\n",
              "1    12625.800781 -34.603684 -58.381559  ...  2016      3       0\n",
              "2    12625.800781 -34.603684 -58.381559  ...  2016      3       1\n",
              "3    12625.800781 -34.603684 -58.381559  ...  2016      3       0\n",
              "4    12625.800781 -34.603684 -58.381559  ...  2016      3       0\n",
              "\n",
              "[5 rows x 19 columns]"
            ]
          },
          "metadata": {},
          "execution_count": 2
        }
      ]
    },
    {
      "cell_type": "code",
      "metadata": {
        "colab": {
          "base_uri": "https://localhost:8080/"
        },
        "id": "9QSg_UC-ApZE",
        "outputId": "d07c249d-3f16-4180-da2c-fce4168368ec"
      },
      "source": [
        "df.duplicated().sum()"
      ],
      "execution_count": 3,
      "outputs": [
        {
          "output_type": "execute_result",
          "data": {
            "text/plain": [
              "79878"
            ]
          },
          "metadata": {},
          "execution_count": 3
        }
      ]
    },
    {
      "cell_type": "code",
      "metadata": {
        "id": "akhY5OASApb0"
      },
      "source": [
        "# Remove duplicate rows\n",
        "df = df.drop_duplicates(keep='first', inplace=False)"
      ],
      "execution_count": 4,
      "outputs": []
    },
    {
      "cell_type": "code",
      "metadata": {
        "colab": {
          "base_uri": "https://localhost:8080/"
        },
        "id": "g409swoaApei",
        "outputId": "db922d56-e9e6-471d-8bc6-959595d6c9b7"
      },
      "source": [
        "df.shape"
      ],
      "execution_count": 5,
      "outputs": [
        {
          "output_type": "execute_result",
          "data": {
            "text/plain": [
              "(75345, 19)"
            ]
          },
          "metadata": {},
          "execution_count": 5
        }
      ]
    },
    {
      "cell_type": "code",
      "metadata": {
        "id": "ef2quiHBAphE"
      },
      "source": [
        "X = df.drop('Target',axis=1)\n",
        "y = df['Target']\n",
        "\n",
        "X_train,X_test,y_train,y_test = train_test_split(X,y,test_size=0.40,random_state=0, stratify =y) #train test split in 50:50 ratio"
      ],
      "execution_count": 6,
      "outputs": []
    },
    {
      "cell_type": "code",
      "metadata": {
        "colab": {
          "base_uri": "https://localhost:8080/"
        },
        "id": "k4hBfqFuApjt",
        "outputId": "603cdfc8-bfe3-45c9-8d67-00b65af60dee"
      },
      "source": [
        "X_train.shape, y_train.shape, X_test.shape, X_test.shape "
      ],
      "execution_count": 7,
      "outputs": [
        {
          "output_type": "execute_result",
          "data": {
            "text/plain": [
              "((45207, 18), (45207,), (30138, 18), (30138, 18))"
            ]
          },
          "metadata": {},
          "execution_count": 7
        }
      ]
    },
    {
      "cell_type": "code",
      "metadata": {
        "colab": {
          "base_uri": "https://localhost:8080/"
        },
        "id": "n8L2PpN5BtkL",
        "outputId": "a1765789-eb4d-4b7b-af73-8a94fe9f0cd3"
      },
      "source": [
        "cls = classifier.AutoSklearnClassifier()\n",
        "cls.fit(X_train, y_train)"
      ],
      "execution_count": 8,
      "outputs": [
        {
          "output_type": "stream",
          "name": "stderr",
          "text": [
            "INFO:numexpr.utils:NumExpr defaulting to 2 threads.\n",
            "/usr/local/lib/python3.7/dist-packages/sklearn/base.py:197: FutureWarning: From version 0.24, get_params will raise an AttributeError if a parameter cannot be retrieved as an instance attribute. Previously it would return None.\n",
            "  FutureWarning)\n"
          ]
        },
        {
          "output_type": "execute_result",
          "data": {
            "text/plain": [
              "AutoSklearnClassifier(dask_client=None,\n",
              "                      delete_output_folder_after_terminate=True,\n",
              "                      delete_tmp_folder_after_terminate=True,\n",
              "                      disable_evaluator_output=False, ensemble_nbest=50,\n",
              "                      ensemble_size=50, exclude_estimators=None,\n",
              "                      exclude_preprocessors=None, get_smac_object_callback=None,\n",
              "                      include_estimators=None, include_preprocessors=None,\n",
              "                      initial_configurations_via_metalearning=25,\n",
              "                      load_models=None, logging_config=None,\n",
              "                      max_models_on_disc=50, memory_limit=3072,\n",
              "                      metadata_directory=None, metric=None, n_jobs=None,\n",
              "                      output_folder=None, per_run_time_limit=360,\n",
              "                      resampling_strategy='holdout',\n",
              "                      resampling_strategy_arguments=None, seed=1,\n",
              "                      smac_scenario_args=None, time_left_for_this_task=3600,\n",
              "                      tmp_folder=None)"
            ]
          },
          "metadata": {},
          "execution_count": 8
        }
      ]
    },
    {
      "cell_type": "code",
      "metadata": {
        "colab": {
          "base_uri": "https://localhost:8080/"
        },
        "id": "_ras0PUJDT8o",
        "outputId": "4e325003-fb00-4463-b184-33becffdc3ae"
      },
      "source": [
        "from sklearn.metrics import accuracy_score\n",
        "y_pred = cls.predict(X_test)\n",
        "score = accuracy_score(y_test,y_pred)\n",
        "print(score)"
      ],
      "execution_count": 11,
      "outputs": [
        {
          "output_type": "stream",
          "name": "stdout",
          "text": [
            "0.6066427765611521\n"
          ]
        }
      ]
    },
    {
      "cell_type": "code",
      "metadata": {
        "colab": {
          "base_uri": "https://localhost:8080/",
          "height": 137
        },
        "id": "VnJKSJQ_Btmt",
        "outputId": "05690153-0bdc-47cb-ec77-35aad71de829"
      },
      "source": [
        "automlclassifier.show_models()"
      ],
      "execution_count": 34,
      "outputs": [
        {
          "output_type": "execute_result",
          "data": {
            "application/vnd.google.colaboratory.intrinsic+json": {
              "type": "string"
            },
            "text/plain": [
              "\"[(0.740000, SimpleClassificationPipeline({'balancing:strategy': 'weighting', 'classifier:__choice__': 'gradient_boosting', 'data_preprocessing:categorical_transformer:categorical_encoding:__choice__': 'no_encoding', 'data_preprocessing:categorical_transformer:category_coalescence:__choice__': 'minority_coalescer', 'data_preprocessing:numerical_transformer:imputation:strategy': 'most_frequent', 'data_preprocessing:numerical_transformer:rescaling:__choice__': 'robust_scaler', 'feature_preprocessor:__choice__': 'feature_agglomeration', 'classifier:gradient_boosting:early_stop': 'valid', 'classifier:gradient_boosting:l2_regularization': 1.1405999445539755e-10, 'classifier:gradient_boosting:learning_rate': 0.048615687753229546, 'classifier:gradient_boosting:loss': 'auto', 'classifier:gradient_boosting:max_bins': 255, 'classifier:gradient_boosting:max_depth': 'None', 'classifier:gradient_boosting:max_leaf_nodes': 17, 'classifier:gradient_boosting:min_samples_leaf': 52, 'classifier:gradient_boosting:scoring': 'loss', 'classifier:gradient_boosting:tol': 1e-07, 'data_preprocessing:categorical_transformer:category_coalescence:minority_coalescer:minimum_fraction': 0.010000000000000004, 'data_preprocessing:numerical_transformer:rescaling:robust_scaler:q_max': 0.9721677247204844, 'data_preprocessing:numerical_transformer:rescaling:robust_scaler:q_min': 0.004533711440038035, 'feature_preprocessor:feature_agglomeration:affinity': 'euclidean', 'feature_preprocessor:feature_agglomeration:linkage': 'ward', 'feature_preprocessor:feature_agglomeration:n_clusters': 39, 'feature_preprocessor:feature_agglomeration:pooling_func': 'max', 'classifier:gradient_boosting:n_iter_no_change': 14, 'classifier:gradient_boosting:validation_fraction': 0.0699165066173704},\\ndataset_properties={\\n  'task': 1,\\n  'sparse': False,\\n  'multilabel': False,\\n  'multiclass': False,\\n  'target_type': 'classification',\\n  'signed': False})),\\n(0.260000, SimpleClassificationPipeline({'balancing:strategy': 'none', 'classifier:__choice__': 'adaboost', 'data_preprocessing:categorical_transformer:categorical_encoding:__choice__': 'no_encoding', 'data_preprocessing:categorical_transformer:category_coalescence:__choice__': 'minority_coalescer', 'data_preprocessing:numerical_transformer:imputation:strategy': 'mean', 'data_preprocessing:numerical_transformer:rescaling:__choice__': 'none', 'feature_preprocessor:__choice__': 'feature_agglomeration', 'classifier:adaboost:algorithm': 'SAMME', 'classifier:adaboost:learning_rate': 0.24450259891578513, 'classifier:adaboost:max_depth': 9, 'classifier:adaboost:n_estimators': 368, 'data_preprocessing:categorical_transformer:category_coalescence:minority_coalescer:minimum_fraction': 0.41818357427140496, 'feature_preprocessor:feature_agglomeration:affinity': 'euclidean', 'feature_preprocessor:feature_agglomeration:linkage': 'complete', 'feature_preprocessor:feature_agglomeration:n_clusters': 42, 'feature_preprocessor:feature_agglomeration:pooling_func': 'mean'},\\ndataset_properties={\\n  'task': 1,\\n  'sparse': False,\\n  'multilabel': False,\\n  'multiclass': False,\\n  'target_type': 'classification',\\n  'signed': False})),\\n]\""
            ]
          },
          "metadata": {},
          "execution_count": 34
        }
      ]
    }
  ]
}