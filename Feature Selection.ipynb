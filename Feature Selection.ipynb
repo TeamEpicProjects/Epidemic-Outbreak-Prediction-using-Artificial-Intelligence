{
 "cells": [
  {
   "cell_type": "code",
   "execution_count": 1,
   "id": "412c85ba",
   "metadata": {},
   "outputs": [],
   "source": [
    "# import library\n",
    "import pandas as pd\n",
    "import numpy as np\n",
    "import matplotlib.pyplot as plt\n",
    "import seaborn as sns\n",
    "sns.set()\n",
    "\n",
    "import matplotlib.style as style\n",
    "%matplotlib inline\n",
    "style.use('ggplot')\n",
    "\n",
    "import warnings\n",
    "warnings.simplefilter(\"ignore\")\n",
    "\n",
    "pd.pandas.set_option('display.max_columns',None)"
   ]
  },
  {
   "cell_type": "code",
   "execution_count": 2,
   "id": "13526266",
   "metadata": {},
   "outputs": [
    {
     "data": {
      "text/html": [
       "<div>\n",
       "<style scoped>\n",
       "    .dataframe tbody tr th:only-of-type {\n",
       "        vertical-align: middle;\n",
       "    }\n",
       "\n",
       "    .dataframe tbody tr th {\n",
       "        vertical-align: top;\n",
       "    }\n",
       "\n",
       "    .dataframe thead th {\n",
       "        text-align: right;\n",
       "    }\n",
       "</style>\n",
       "<table border=\"1\" class=\"dataframe\">\n",
       "  <thead>\n",
       "    <tr style=\"text-align: right;\">\n",
       "      <th></th>\n",
       "      <th>density_per_km</th>\n",
       "      <th>latitude</th>\n",
       "      <th>longitude</th>\n",
       "      <th>maxtempC</th>\n",
       "      <th>mintempC</th>\n",
       "      <th>totalSnow_cm</th>\n",
       "      <th>sunHour</th>\n",
       "      <th>uvIndex</th>\n",
       "      <th>moon_illumination</th>\n",
       "      <th>DewPointC</th>\n",
       "      <th>FeelsLikeC</th>\n",
       "      <th>HeatIndexC</th>\n",
       "      <th>WindChillC</th>\n",
       "      <th>WindGustKmph</th>\n",
       "      <th>cloudcover</th>\n",
       "      <th>humidity</th>\n",
       "      <th>precipMM</th>\n",
       "      <th>pressure</th>\n",
       "      <th>tempC</th>\n",
       "      <th>visibility</th>\n",
       "      <th>winddirDegree</th>\n",
       "      <th>windspeedKmph</th>\n",
       "      <th>year</th>\n",
       "      <th>month</th>\n",
       "      <th>Target</th>\n",
       "    </tr>\n",
       "  </thead>\n",
       "  <tbody>\n",
       "    <tr>\n",
       "      <th>0</th>\n",
       "      <td>12625.800781</td>\n",
       "      <td>-34.603684</td>\n",
       "      <td>-58.381559</td>\n",
       "      <td>24</td>\n",
       "      <td>7</td>\n",
       "      <td>0.0</td>\n",
       "      <td>11.6</td>\n",
       "      <td>5</td>\n",
       "      <td>87</td>\n",
       "      <td>6</td>\n",
       "      <td>14</td>\n",
       "      <td>15</td>\n",
       "      <td>14</td>\n",
       "      <td>16</td>\n",
       "      <td>0</td>\n",
       "      <td>59</td>\n",
       "      <td>0.0</td>\n",
       "      <td>1018</td>\n",
       "      <td>24</td>\n",
       "      <td>10</td>\n",
       "      <td>189</td>\n",
       "      <td>10</td>\n",
       "      <td>2016</td>\n",
       "      <td>3</td>\n",
       "      <td>1</td>\n",
       "    </tr>\n",
       "    <tr>\n",
       "      <th>1</th>\n",
       "      <td>12625.800781</td>\n",
       "      <td>-34.603684</td>\n",
       "      <td>-58.381559</td>\n",
       "      <td>24</td>\n",
       "      <td>7</td>\n",
       "      <td>0.0</td>\n",
       "      <td>11.6</td>\n",
       "      <td>5</td>\n",
       "      <td>87</td>\n",
       "      <td>6</td>\n",
       "      <td>14</td>\n",
       "      <td>15</td>\n",
       "      <td>14</td>\n",
       "      <td>16</td>\n",
       "      <td>0</td>\n",
       "      <td>59</td>\n",
       "      <td>0.0</td>\n",
       "      <td>1018</td>\n",
       "      <td>24</td>\n",
       "      <td>10</td>\n",
       "      <td>189</td>\n",
       "      <td>10</td>\n",
       "      <td>2016</td>\n",
       "      <td>3</td>\n",
       "      <td>0</td>\n",
       "    </tr>\n",
       "    <tr>\n",
       "      <th>2</th>\n",
       "      <td>12625.800781</td>\n",
       "      <td>-34.603684</td>\n",
       "      <td>-58.381559</td>\n",
       "      <td>24</td>\n",
       "      <td>7</td>\n",
       "      <td>0.0</td>\n",
       "      <td>11.6</td>\n",
       "      <td>5</td>\n",
       "      <td>87</td>\n",
       "      <td>6</td>\n",
       "      <td>14</td>\n",
       "      <td>15</td>\n",
       "      <td>14</td>\n",
       "      <td>16</td>\n",
       "      <td>0</td>\n",
       "      <td>59</td>\n",
       "      <td>0.0</td>\n",
       "      <td>1018</td>\n",
       "      <td>24</td>\n",
       "      <td>10</td>\n",
       "      <td>189</td>\n",
       "      <td>10</td>\n",
       "      <td>2016</td>\n",
       "      <td>3</td>\n",
       "      <td>1</td>\n",
       "    </tr>\n",
       "    <tr>\n",
       "      <th>3</th>\n",
       "      <td>12625.800781</td>\n",
       "      <td>-34.603684</td>\n",
       "      <td>-58.381559</td>\n",
       "      <td>24</td>\n",
       "      <td>7</td>\n",
       "      <td>0.0</td>\n",
       "      <td>11.6</td>\n",
       "      <td>5</td>\n",
       "      <td>87</td>\n",
       "      <td>6</td>\n",
       "      <td>14</td>\n",
       "      <td>15</td>\n",
       "      <td>14</td>\n",
       "      <td>16</td>\n",
       "      <td>0</td>\n",
       "      <td>59</td>\n",
       "      <td>0.0</td>\n",
       "      <td>1018</td>\n",
       "      <td>24</td>\n",
       "      <td>10</td>\n",
       "      <td>189</td>\n",
       "      <td>10</td>\n",
       "      <td>2016</td>\n",
       "      <td>3</td>\n",
       "      <td>0</td>\n",
       "    </tr>\n",
       "    <tr>\n",
       "      <th>4</th>\n",
       "      <td>12625.800781</td>\n",
       "      <td>-34.603684</td>\n",
       "      <td>-58.381559</td>\n",
       "      <td>22</td>\n",
       "      <td>10</td>\n",
       "      <td>0.0</td>\n",
       "      <td>11.5</td>\n",
       "      <td>5</td>\n",
       "      <td>76</td>\n",
       "      <td>10</td>\n",
       "      <td>14</td>\n",
       "      <td>16</td>\n",
       "      <td>14</td>\n",
       "      <td>27</td>\n",
       "      <td>34</td>\n",
       "      <td>72</td>\n",
       "      <td>0.0</td>\n",
       "      <td>1025</td>\n",
       "      <td>22</td>\n",
       "      <td>10</td>\n",
       "      <td>99</td>\n",
       "      <td>18</td>\n",
       "      <td>2016</td>\n",
       "      <td>3</td>\n",
       "      <td>0</td>\n",
       "    </tr>\n",
       "  </tbody>\n",
       "</table>\n",
       "</div>"
      ],
      "text/plain": [
       "   density_per_km   latitude  longitude  maxtempC  mintempC  totalSnow_cm  \\\n",
       "0    12625.800781 -34.603684 -58.381559        24         7           0.0   \n",
       "1    12625.800781 -34.603684 -58.381559        24         7           0.0   \n",
       "2    12625.800781 -34.603684 -58.381559        24         7           0.0   \n",
       "3    12625.800781 -34.603684 -58.381559        24         7           0.0   \n",
       "4    12625.800781 -34.603684 -58.381559        22        10           0.0   \n",
       "\n",
       "   sunHour  uvIndex  moon_illumination  DewPointC  FeelsLikeC  HeatIndexC  \\\n",
       "0     11.6        5                 87          6          14          15   \n",
       "1     11.6        5                 87          6          14          15   \n",
       "2     11.6        5                 87          6          14          15   \n",
       "3     11.6        5                 87          6          14          15   \n",
       "4     11.5        5                 76         10          14          16   \n",
       "\n",
       "   WindChillC  WindGustKmph  cloudcover  humidity  precipMM  pressure  tempC  \\\n",
       "0          14            16           0        59       0.0      1018     24   \n",
       "1          14            16           0        59       0.0      1018     24   \n",
       "2          14            16           0        59       0.0      1018     24   \n",
       "3          14            16           0        59       0.0      1018     24   \n",
       "4          14            27          34        72       0.0      1025     22   \n",
       "\n",
       "   visibility  winddirDegree  windspeedKmph  year  month  Target  \n",
       "0          10            189             10  2016      3       1  \n",
       "1          10            189             10  2016      3       0  \n",
       "2          10            189             10  2016      3       1  \n",
       "3          10            189             10  2016      3       0  \n",
       "4          10             99             18  2016      3       0  "
      ]
     },
     "execution_count": 2,
     "metadata": {},
     "output_type": "execute_result"
    }
   ],
   "source": [
    "df = pd.read_csv('classification_dataset.csv')\n",
    "df.head()"
   ]
  },
  {
   "cell_type": "code",
   "execution_count": 57,
   "id": "a50c0811",
   "metadata": {},
   "outputs": [
    {
     "data": {
      "text/plain": [
       "0    89843\n",
       "1    65380\n",
       "Name: Target, dtype: int64"
      ]
     },
     "execution_count": 57,
     "metadata": {},
     "output_type": "execute_result"
    }
   ],
   "source": [
    "df.Target.value_counts()"
   ]
  },
  {
   "cell_type": "markdown",
   "id": "297d2c7a",
   "metadata": {},
   "source": [
    "## Feature Scaling "
   ]
  },
  {
   "cell_type": "code",
   "execution_count": 3,
   "id": "2fadd73e",
   "metadata": {},
   "outputs": [],
   "source": [
    "feature_scale=[feature for feature in df.columns if feature not in ['Target']]"
   ]
  },
  {
   "cell_type": "code",
   "execution_count": 4,
   "id": "5cbc8828",
   "metadata": {},
   "outputs": [
    {
     "data": {
      "text/plain": [
       "MinMaxScaler()"
      ]
     },
     "execution_count": 4,
     "metadata": {},
     "output_type": "execute_result"
    }
   ],
   "source": [
    "from sklearn.preprocessing import MinMaxScaler\n",
    "\n",
    "scaler=MinMaxScaler()\n",
    "scaler.fit(df[feature_scale])"
   ]
  },
  {
   "cell_type": "code",
   "execution_count": 5,
   "id": "a03de345",
   "metadata": {},
   "outputs": [],
   "source": [
    "# transform the train and test set, and add on the Id and SalePrice variables\n",
    "data = pd.concat([df[['Target']].reset_index(drop=True),\n",
    "                    pd.DataFrame(scaler.transform(df[feature_scale]), columns=feature_scale)],axis=1)"
   ]
  },
  {
   "cell_type": "code",
   "execution_count": 6,
   "id": "3a089fda",
   "metadata": {},
   "outputs": [
    {
     "data": {
      "text/html": [
       "<div>\n",
       "<style scoped>\n",
       "    .dataframe tbody tr th:only-of-type {\n",
       "        vertical-align: middle;\n",
       "    }\n",
       "\n",
       "    .dataframe tbody tr th {\n",
       "        vertical-align: top;\n",
       "    }\n",
       "\n",
       "    .dataframe thead th {\n",
       "        text-align: right;\n",
       "    }\n",
       "</style>\n",
       "<table border=\"1\" class=\"dataframe\">\n",
       "  <thead>\n",
       "    <tr style=\"text-align: right;\">\n",
       "      <th></th>\n",
       "      <th>Target</th>\n",
       "      <th>density_per_km</th>\n",
       "      <th>latitude</th>\n",
       "      <th>longitude</th>\n",
       "      <th>maxtempC</th>\n",
       "      <th>mintempC</th>\n",
       "      <th>totalSnow_cm</th>\n",
       "      <th>sunHour</th>\n",
       "      <th>uvIndex</th>\n",
       "      <th>moon_illumination</th>\n",
       "      <th>DewPointC</th>\n",
       "      <th>FeelsLikeC</th>\n",
       "      <th>HeatIndexC</th>\n",
       "      <th>WindChillC</th>\n",
       "      <th>WindGustKmph</th>\n",
       "      <th>cloudcover</th>\n",
       "      <th>humidity</th>\n",
       "      <th>precipMM</th>\n",
       "      <th>pressure</th>\n",
       "      <th>tempC</th>\n",
       "      <th>visibility</th>\n",
       "      <th>winddirDegree</th>\n",
       "      <th>windspeedKmph</th>\n",
       "      <th>year</th>\n",
       "      <th>month</th>\n",
       "    </tr>\n",
       "  </thead>\n",
       "  <tbody>\n",
       "    <tr>\n",
       "      <th>0</th>\n",
       "      <td>1</td>\n",
       "      <td>0.505636</td>\n",
       "      <td>0.196981</td>\n",
       "      <td>0.742734</td>\n",
       "      <td>0.641791</td>\n",
       "      <td>0.567164</td>\n",
       "      <td>0.0</td>\n",
       "      <td>0.625806</td>\n",
       "      <td>0.444444</td>\n",
       "      <td>0.87</td>\n",
       "      <td>0.622642</td>\n",
       "      <td>0.619718</td>\n",
       "      <td>0.573770</td>\n",
       "      <td>0.628571</td>\n",
       "      <td>0.164835</td>\n",
       "      <td>0.00</td>\n",
       "      <td>0.559140</td>\n",
       "      <td>0.0</td>\n",
       "      <td>0.602941</td>\n",
       "      <td>0.641791</td>\n",
       "      <td>1.0</td>\n",
       "      <td>0.531429</td>\n",
       "      <td>0.152542</td>\n",
       "      <td>0.333333</td>\n",
       "      <td>0.181818</td>\n",
       "    </tr>\n",
       "    <tr>\n",
       "      <th>1</th>\n",
       "      <td>0</td>\n",
       "      <td>0.505636</td>\n",
       "      <td>0.196981</td>\n",
       "      <td>0.742734</td>\n",
       "      <td>0.641791</td>\n",
       "      <td>0.567164</td>\n",
       "      <td>0.0</td>\n",
       "      <td>0.625806</td>\n",
       "      <td>0.444444</td>\n",
       "      <td>0.87</td>\n",
       "      <td>0.622642</td>\n",
       "      <td>0.619718</td>\n",
       "      <td>0.573770</td>\n",
       "      <td>0.628571</td>\n",
       "      <td>0.164835</td>\n",
       "      <td>0.00</td>\n",
       "      <td>0.559140</td>\n",
       "      <td>0.0</td>\n",
       "      <td>0.602941</td>\n",
       "      <td>0.641791</td>\n",
       "      <td>1.0</td>\n",
       "      <td>0.531429</td>\n",
       "      <td>0.152542</td>\n",
       "      <td>0.333333</td>\n",
       "      <td>0.181818</td>\n",
       "    </tr>\n",
       "    <tr>\n",
       "      <th>2</th>\n",
       "      <td>1</td>\n",
       "      <td>0.505636</td>\n",
       "      <td>0.196981</td>\n",
       "      <td>0.742734</td>\n",
       "      <td>0.641791</td>\n",
       "      <td>0.567164</td>\n",
       "      <td>0.0</td>\n",
       "      <td>0.625806</td>\n",
       "      <td>0.444444</td>\n",
       "      <td>0.87</td>\n",
       "      <td>0.622642</td>\n",
       "      <td>0.619718</td>\n",
       "      <td>0.573770</td>\n",
       "      <td>0.628571</td>\n",
       "      <td>0.164835</td>\n",
       "      <td>0.00</td>\n",
       "      <td>0.559140</td>\n",
       "      <td>0.0</td>\n",
       "      <td>0.602941</td>\n",
       "      <td>0.641791</td>\n",
       "      <td>1.0</td>\n",
       "      <td>0.531429</td>\n",
       "      <td>0.152542</td>\n",
       "      <td>0.333333</td>\n",
       "      <td>0.181818</td>\n",
       "    </tr>\n",
       "    <tr>\n",
       "      <th>3</th>\n",
       "      <td>0</td>\n",
       "      <td>0.505636</td>\n",
       "      <td>0.196981</td>\n",
       "      <td>0.742734</td>\n",
       "      <td>0.641791</td>\n",
       "      <td>0.567164</td>\n",
       "      <td>0.0</td>\n",
       "      <td>0.625806</td>\n",
       "      <td>0.444444</td>\n",
       "      <td>0.87</td>\n",
       "      <td>0.622642</td>\n",
       "      <td>0.619718</td>\n",
       "      <td>0.573770</td>\n",
       "      <td>0.628571</td>\n",
       "      <td>0.164835</td>\n",
       "      <td>0.00</td>\n",
       "      <td>0.559140</td>\n",
       "      <td>0.0</td>\n",
       "      <td>0.602941</td>\n",
       "      <td>0.641791</td>\n",
       "      <td>1.0</td>\n",
       "      <td>0.531429</td>\n",
       "      <td>0.152542</td>\n",
       "      <td>0.333333</td>\n",
       "      <td>0.181818</td>\n",
       "    </tr>\n",
       "    <tr>\n",
       "      <th>4</th>\n",
       "      <td>0</td>\n",
       "      <td>0.505636</td>\n",
       "      <td>0.196981</td>\n",
       "      <td>0.742734</td>\n",
       "      <td>0.611940</td>\n",
       "      <td>0.611940</td>\n",
       "      <td>0.0</td>\n",
       "      <td>0.619355</td>\n",
       "      <td>0.444444</td>\n",
       "      <td>0.76</td>\n",
       "      <td>0.698113</td>\n",
       "      <td>0.619718</td>\n",
       "      <td>0.590164</td>\n",
       "      <td>0.628571</td>\n",
       "      <td>0.285714</td>\n",
       "      <td>0.34</td>\n",
       "      <td>0.698925</td>\n",
       "      <td>0.0</td>\n",
       "      <td>0.705882</td>\n",
       "      <td>0.611940</td>\n",
       "      <td>1.0</td>\n",
       "      <td>0.274286</td>\n",
       "      <td>0.288136</td>\n",
       "      <td>0.333333</td>\n",
       "      <td>0.181818</td>\n",
       "    </tr>\n",
       "  </tbody>\n",
       "</table>\n",
       "</div>"
      ],
      "text/plain": [
       "   Target  density_per_km  latitude  longitude  maxtempC  mintempC  \\\n",
       "0       1        0.505636  0.196981   0.742734  0.641791  0.567164   \n",
       "1       0        0.505636  0.196981   0.742734  0.641791  0.567164   \n",
       "2       1        0.505636  0.196981   0.742734  0.641791  0.567164   \n",
       "3       0        0.505636  0.196981   0.742734  0.641791  0.567164   \n",
       "4       0        0.505636  0.196981   0.742734  0.611940  0.611940   \n",
       "\n",
       "   totalSnow_cm   sunHour   uvIndex  moon_illumination  DewPointC  FeelsLikeC  \\\n",
       "0           0.0  0.625806  0.444444               0.87   0.622642    0.619718   \n",
       "1           0.0  0.625806  0.444444               0.87   0.622642    0.619718   \n",
       "2           0.0  0.625806  0.444444               0.87   0.622642    0.619718   \n",
       "3           0.0  0.625806  0.444444               0.87   0.622642    0.619718   \n",
       "4           0.0  0.619355  0.444444               0.76   0.698113    0.619718   \n",
       "\n",
       "   HeatIndexC  WindChillC  WindGustKmph  cloudcover  humidity  precipMM  \\\n",
       "0    0.573770    0.628571      0.164835        0.00  0.559140       0.0   \n",
       "1    0.573770    0.628571      0.164835        0.00  0.559140       0.0   \n",
       "2    0.573770    0.628571      0.164835        0.00  0.559140       0.0   \n",
       "3    0.573770    0.628571      0.164835        0.00  0.559140       0.0   \n",
       "4    0.590164    0.628571      0.285714        0.34  0.698925       0.0   \n",
       "\n",
       "   pressure     tempC  visibility  winddirDegree  windspeedKmph      year  \\\n",
       "0  0.602941  0.641791         1.0       0.531429       0.152542  0.333333   \n",
       "1  0.602941  0.641791         1.0       0.531429       0.152542  0.333333   \n",
       "2  0.602941  0.641791         1.0       0.531429       0.152542  0.333333   \n",
       "3  0.602941  0.641791         1.0       0.531429       0.152542  0.333333   \n",
       "4  0.705882  0.611940         1.0       0.274286       0.288136  0.333333   \n",
       "\n",
       "      month  \n",
       "0  0.181818  \n",
       "1  0.181818  \n",
       "2  0.181818  \n",
       "3  0.181818  \n",
       "4  0.181818  "
      ]
     },
     "execution_count": 6,
     "metadata": {},
     "output_type": "execute_result"
    }
   ],
   "source": [
    "data.head()"
   ]
  },
  {
   "cell_type": "code",
   "execution_count": 7,
   "id": "18987232",
   "metadata": {},
   "outputs": [],
   "source": [
    "X = data.iloc[:,1:]  #independent columns\n",
    "y = data['Target'] #dependent column"
   ]
  },
  {
   "cell_type": "markdown",
   "id": "ace1f521",
   "metadata": {},
   "source": [
    "## 1. ExtraTreesClassifier"
   ]
  },
  {
   "cell_type": "code",
   "execution_count": 8,
   "id": "92e08963",
   "metadata": {},
   "outputs": [
    {
     "data": {
      "text/plain": [
       "ExtraTreesClassifier()"
      ]
     },
     "execution_count": 8,
     "metadata": {},
     "output_type": "execute_result"
    }
   ],
   "source": [
    "from sklearn.ensemble import ExtraTreesClassifier\n",
    "import matplotlib.pyplot as plt\n",
    "model = ExtraTreesClassifier()\n",
    "model.fit(X,y)"
   ]
  },
  {
   "cell_type": "code",
   "execution_count": 9,
   "id": "7b70ec12",
   "metadata": {},
   "outputs": [
    {
     "data": {
      "image/png": "[encoded data removed]",
      "text/plain": [
       "<Figure size 432x288 with 1 Axes>"
      ]
     },
     "metadata": {},
     "output_type": "display_data"
    }
   ],
   "source": [
    "#plot graph of feature importances for better visualization\n",
    "feat_importances = pd.Series(model.feature_importances_, index=X.columns)\n",
    "feat_importances.nlargest(15).plot(kind='barh')\n",
    "plt.show()"
   ]
  },
  {
   "cell_type": "markdown",
   "id": "741b5654",
   "metadata": {},
   "source": [
    "## 2. Univariate Selection"
   ]
  },
  {
   "cell_type": "code",
   "execution_count": 10,
   "id": "95ba7431",
   "metadata": {},
   "outputs": [],
   "source": [
    "from sklearn.feature_selection import SelectKBest\n",
    "from sklearn.feature_selection import chi2\n",
    "\n",
    "#apply SelectKBest class to extract top 10 best features\n",
    "bestfeatures = SelectKBest(score_func=chi2, k=10)\n",
    "fit = bestfeatures.fit(X,y)\n",
    "\n",
    "dfscores = pd.DataFrame(fit.scores_)\n",
    "dfcolumns = pd.DataFrame(X.columns)\n",
    "\n",
    "#concat two dataframes for better visualization \n",
    "featureScores = pd.concat([dfcolumns,dfscores],axis=1)\n",
    "featureScores.columns = ['Specs','Score']  #naming the dataframe columns"
   ]
  },
  {
   "cell_type": "code",
   "execution_count": 43,
   "id": "1d399610",
   "metadata": {},
   "outputs": [
    {
     "name": "stdout",
     "output_type": "stream",
     "text": [
      "                Specs       Score\n",
      "0      density_per_km   97.332319\n",
      "1            latitude    5.112327\n",
      "2           longitude    4.210208\n",
      "3            maxtempC   33.278623\n",
      "4            mintempC   42.256613\n",
      "5        totalSnow_cm    2.041244\n",
      "6             sunHour    1.958065\n",
      "7             uvIndex   80.242440\n",
      "8   moon_illumination    0.547551\n",
      "9           DewPointC   53.727708\n",
      "10         FeelsLikeC   49.499415\n",
      "11         HeatIndexC   68.146960\n",
      "12         WindChillC   35.821717\n",
      "13       WindGustKmph    1.023603\n",
      "14         cloudcover   44.404810\n",
      "15           humidity    0.002153\n",
      "16           precipMM   12.674314\n",
      "17           pressure    3.291495\n",
      "18              tempC   33.278623\n",
      "19         visibility    0.629041\n",
      "20      winddirDegree   36.602227\n",
      "21      windspeedKmph    0.682749\n",
      "22               year   11.317654\n",
      "23              month  532.636888\n"
     ]
    }
   ],
   "source": [
    "print(featureScores)"
   ]
  },
  {
   "cell_type": "code",
   "execution_count": 44,
   "id": "2933b931",
   "metadata": {},
   "outputs": [
    {
     "name": "stdout",
     "output_type": "stream",
     "text": [
      "             Specs       Score\n",
      "23           month  532.636888\n",
      "0   density_per_km   97.332319\n",
      "7          uvIndex   80.242440\n",
      "11      HeatIndexC   68.146960\n",
      "9        DewPointC   53.727708\n",
      "10      FeelsLikeC   49.499415\n",
      "14      cloudcover   44.404810\n",
      "4         mintempC   42.256613\n",
      "20   winddirDegree   36.602227\n",
      "12      WindChillC   35.821717\n",
      "3         maxtempC   33.278623\n",
      "18           tempC   33.278623\n",
      "16        precipMM   12.674314\n",
      "22            year   11.317654\n",
      "1         latitude    5.112327\n",
      "2        longitude    4.210208\n",
      "17        pressure    3.291495\n",
      "5     totalSnow_cm    2.041244\n",
      "6          sunHour    1.958065\n",
      "13    WindGustKmph    1.023603\n"
     ]
    }
   ],
   "source": [
    "print(featureScores.nlargest(20,'Score'))"
   ]
  },
  {
   "cell_type": "markdown",
   "id": "b605b43b",
   "metadata": {},
   "source": [
    "## 3. Infromation gain"
   ]
  },
  {
   "cell_type": "code",
   "execution_count": 14,
   "id": "21135422",
   "metadata": {},
   "outputs": [],
   "source": [
    "from sklearn.feature_selection import mutual_info_classif\n",
    "mutual_info = mutual_info_classif(X,y)"
   ]
  },
  {
   "cell_type": "code",
   "execution_count": 16,
   "id": "87606c5e",
   "metadata": {},
   "outputs": [
    {
     "data": {
      "text/plain": [
       "longitude            0.176484\n",
       "latitude             0.176193\n",
       "density_per_km       0.174904\n",
       "WindChillC           0.018988\n",
       "sunHour              0.018290\n",
       "FeelsLikeC           0.017522\n",
       "HeatIndexC           0.017493\n",
       "moon_illumination    0.017361\n",
       "month                0.016606\n",
       "mintempC             0.015565\n",
       "DewPointC            0.014972\n",
       "tempC                0.014766\n",
       "maxtempC             0.014076\n",
       "uvIndex              0.012615\n",
       "winddirDegree        0.008947\n",
       "year                 0.007899\n",
       "visibility           0.007791\n",
       "pressure             0.007363\n",
       "precipMM             0.006749\n",
       "cloudcover           0.006406\n",
       "humidity             0.003720\n",
       "windspeedKmph        0.002888\n",
       "totalSnow_cm         0.001855\n",
       "WindGustKmph         0.001172\n",
       "dtype: float64"
      ]
     },
     "execution_count": 16,
     "metadata": {},
     "output_type": "execute_result"
    }
   ],
   "source": [
    "mutual_data = pd.Series(mutual_info,index=X.columns)\n",
    "mutual_data.sort_values(ascending=False)"
   ]
  },
  {
   "cell_type": "code",
   "execution_count": 22,
   "id": "9984d930",
   "metadata": {},
   "outputs": [
    {
     "data": {
      "text/plain": [
       "<AxesSubplot:>"
      ]
     },
     "execution_count": 22,
     "metadata": {},
     "output_type": "execute_result"
    },
    {
     "data": {
      "image/png": "[encoded data removed]",
      "text/plain": [
       "<Figure size 1080x288 with 1 Axes>"
      ]
     },
     "metadata": {},
     "output_type": "display_data"
    }
   ],
   "source": [
    "mutual_data.sort_values(ascending=False).plot.bar(figsize=(15,4))"
   ]
  },
  {
   "cell_type": "code",
   "execution_count": 40,
   "id": "147a6f00",
   "metadata": {},
   "outputs": [
    {
     "data": {
      "text/plain": [
       "Index(['density_per_km', 'latitude', 'longitude', 'maxtempC', 'mintempC',\n",
       "       'sunHour', 'uvIndex', 'moon_illumination', 'DewPointC', 'FeelsLikeC',\n",
       "       'HeatIndexC', 'WindChillC', 'tempC', 'winddirDegree', 'month'],\n",
       "      dtype='object')"
      ]
     },
     "execution_count": 40,
     "metadata": {},
     "output_type": "execute_result"
    }
   ],
   "source": [
    "select_col = SelectKBest(mutual_info_classif,k=15)\n",
    "select_col.fit(X,y)\n",
    "X.columns[select_col.get_support()]"
   ]
  },
  {
   "cell_type": "markdown",
   "id": "b77ba5c0",
   "metadata": {},
   "source": [
    "## 4. XGBoost"
   ]
  },
  {
   "cell_type": "code",
   "execution_count": 49,
   "id": "87eba1da",
   "metadata": {},
   "outputs": [
    {
     "name": "stdout",
     "output_type": "stream",
     "text": [
      "[16:55:26] WARNING: C:/Users/Administrator/workspace/xgboost-win64_release_1.4.0/src/learner.cc:1095: Starting in XGBoost 1.3.0, the default evaluation metric used with the objective 'binary:logistic' was changed from 'error' to 'logloss'. Explicitly set eval_metric if you'd like to restore the old behavior.\n",
      "[0.05159293 0.09280258 0.1152081  0.01598148 0.03800148 0.00678905\n",
      " 0.01002214 0.01058826 0.02051948 0.07770837 0.10691417 0.18041389\n",
      " 0.06357768 0.00959945 0.01180435 0.01824766 0.00509056 0.01525628\n",
      " 0.         0.00478698 0.01432518 0.00956384 0.04571524 0.07549087]\n"
     ]
    },
    {
     "data": {
      "image/png": "[encoded data removed]",
      "text/plain": [
       "<Figure size 432x288 with 1 Axes>"
      ]
     },
     "metadata": {},
     "output_type": "display_data"
    }
   ],
   "source": [
    "# plot feature importance manually\n",
    "from numpy import loadtxt\n",
    "from xgboost import XGBClassifier\n",
    "from matplotlib import pyplot\n",
    "\n",
    "# fit model no training data\n",
    "model = XGBClassifier()\n",
    "model.fit(X, y)\n",
    "# feature importance\n",
    "print(model.feature_importances_)\n",
    "# plot\n",
    "plt.bar(range(len(model.feature_importances_)), model.feature_importances_)\n",
    "plt.show()"
   ]
  },
  {
   "cell_type": "code",
   "execution_count": 55,
   "id": "930a7d10",
   "metadata": {},
   "outputs": [
    {
     "data": {
      "text/plain": [
       "HeatIndexC           0.180414\n",
       "longitude            0.115208\n",
       "FeelsLikeC           0.106914\n",
       "latitude             0.092803\n",
       "DewPointC            0.077708\n",
       "month                0.075491\n",
       "WindChillC           0.063578\n",
       "density_per_km       0.051593\n",
       "year                 0.045715\n",
       "mintempC             0.038001\n",
       "moon_illumination    0.020519\n",
       "humidity             0.018248\n",
       "maxtempC             0.015981\n",
       "pressure             0.015256\n",
       "winddirDegree        0.014325\n",
       "cloudcover           0.011804\n",
       "uvIndex              0.010588\n",
       "sunHour              0.010022\n",
       "WindGustKmph         0.009599\n",
       "windspeedKmph        0.009564\n",
       "totalSnow_cm         0.006789\n",
       "precipMM             0.005091\n",
       "visibility           0.004787\n",
       "tempC                0.000000\n",
       "dtype: float32"
      ]
     },
     "execution_count": 55,
     "metadata": {},
     "output_type": "execute_result"
    }
   ],
   "source": [
    "feat_importance = pd.Series(model.feature_importances_,index=X.columns)\n",
    "feat_importance.sort_values(ascending=False)"
   ]
  },
  {
   "cell_type": "code",
   "execution_count": 52,
   "id": "cee858bf",
   "metadata": {},
   "outputs": [
    {
     "data": {
      "text/plain": [
       "<AxesSubplot:>"
      ]
     },
     "execution_count": 52,
     "metadata": {},
     "output_type": "execute_result"
    },
    {
     "data": {
      "image/png": "[encoded data removed]",
      "text/plain": [
       "<Figure size 720x288 with 1 Axes>"
      ]
     },
     "metadata": {},
     "output_type": "display_data"
    }
   ],
   "source": [
    "feat_importance = pd.Series(model.feature_importances_,index=X.columns)\n",
    "feat_importance.sort_values(ascending=False)\n",
    "feat_importance.sort_values(ascending=False).plot.bar(figsize=(10,4))"
   ]
  },
  {
   "cell_type": "code",
   "execution_count": 38,
   "id": "1dc3b6b2",
   "metadata": {},
   "outputs": [
    {
     "data": {
      "text/plain": [
       "25"
      ]
     },
     "execution_count": 38,
     "metadata": {},
     "output_type": "execute_result"
    }
   ],
   "source": [
    "len(df.columns)"
   ]
  }
 ],
 "metadata": {
  "kernelspec": {
   "display_name": "Python 3",
   "language": "python",
   "name": "python3"
  },
  "language_info": {
   "codemirror_mode": {
    "name": "ipython",
    "version": 3
   },
   "file_extension": ".py",
   "mimetype": "text/x-python",
   "name": "python",
   "nbconvert_exporter": "python",
   "pygments_lexer": "ipython3",
   "version": "3.7.11"
  },
  "varInspector": {
   "cols": {
    "lenName": 16,
    "lenType": 16,
    "lenVar": 40
   },
   "kernels_config": {
    "python": {
     "delete_cmd_postfix": "",
     "delete_cmd_prefix": "del ",
     "library": "var_list.py",
     "varRefreshCmd": "print(var_dic_list())"
    },
    "r": {
     "delete_cmd_postfix": ") ",
     "delete_cmd_prefix": "rm(",
     "library": "var_list.r",
     "varRefreshCmd": "cat(var_dic_list()) "
    }
   },
   "types_to_exclude": [
    "module",
    "function",
    "builtin_function_or_method",
    "instance",
    "_Feature"
   ],
   "window_display": false
  }
 },
 "nbformat": 4,
 "nbformat_minor": 5
}
