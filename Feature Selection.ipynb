{
 "cells": [
  {
   "cell_type": "code",
   "execution_count": 1,
   "id": "412c85ba",
   "metadata": {},
   "outputs": [],
   "source": [
    "# import library\n",
    "import pandas as pd\n",
    "import numpy as np\n",
    "import matplotlib.pyplot as plt\n",
    "import seaborn as sns\n",
    "sns.set()\n",
    "\n",
    "import matplotlib.style as style\n",
    "%matplotlib inline\n",
    "style.use('ggplot')\n",
    "\n",
    "import warnings\n",
    "warnings.simplefilter(\"ignore\")\n",
    "\n",
    "pd.pandas.set_option('display.max_columns',None)"
   ]
  },
  {
   "cell_type": "code",
   "execution_count": 7,
   "id": "13526266",
   "metadata": {},
   "outputs": [
    {
     "data": {
      "text/html": [
       "<div>\n",
       "<style scoped>\n",
       "    .dataframe tbody tr th:only-of-type {\n",
       "        vertical-align: middle;\n",
       "    }\n",
       "\n",
       "    .dataframe tbody tr th {\n",
       "        vertical-align: top;\n",
       "    }\n",
       "\n",
       "    .dataframe thead th {\n",
       "        text-align: right;\n",
       "    }\n",
       "</style>\n",
       "<table border=\"1\" class=\"dataframe\">\n",
       "  <thead>\n",
       "    <tr style=\"text-align: right;\">\n",
       "      <th></th>\n",
       "      <th>density_per_km</th>\n",
       "      <th>latitude</th>\n",
       "      <th>longitude</th>\n",
       "      <th>maxtempC</th>\n",
       "      <th>mintempC</th>\n",
       "      <th>totalSnow_cm</th>\n",
       "      <th>sunHour</th>\n",
       "      <th>uvIndex</th>\n",
       "      <th>moon_illumination</th>\n",
       "      <th>DewPointC</th>\n",
       "      <th>FeelsLikeC</th>\n",
       "      <th>HeatIndexC</th>\n",
       "      <th>WindChillC</th>\n",
       "      <th>WindGustKmph</th>\n",
       "      <th>cloudcover</th>\n",
       "      <th>humidity</th>\n",
       "      <th>precipMM</th>\n",
       "      <th>pressure</th>\n",
       "      <th>tempC</th>\n",
       "      <th>visibility</th>\n",
       "      <th>winddirDegree</th>\n",
       "      <th>windspeedKmph</th>\n",
       "      <th>year</th>\n",
       "      <th>month</th>\n",
       "      <th>Target</th>\n",
       "    </tr>\n",
       "  </thead>\n",
       "  <tbody>\n",
       "    <tr>\n",
       "      <th>0</th>\n",
       "      <td>12625.800781</td>\n",
       "      <td>-34.603684</td>\n",
       "      <td>-58.381559</td>\n",
       "      <td>24</td>\n",
       "      <td>7</td>\n",
       "      <td>0.0</td>\n",
       "      <td>11.6</td>\n",
       "      <td>5</td>\n",
       "      <td>87</td>\n",
       "      <td>6</td>\n",
       "      <td>14</td>\n",
       "      <td>15</td>\n",
       "      <td>14</td>\n",
       "      <td>16</td>\n",
       "      <td>0</td>\n",
       "      <td>59</td>\n",
       "      <td>0.0</td>\n",
       "      <td>1018</td>\n",
       "      <td>24</td>\n",
       "      <td>10</td>\n",
       "      <td>189</td>\n",
       "      <td>10</td>\n",
       "      <td>2016</td>\n",
       "      <td>3</td>\n",
       "      <td>1</td>\n",
       "    </tr>\n",
       "    <tr>\n",
       "      <th>1</th>\n",
       "      <td>12625.800781</td>\n",
       "      <td>-34.603684</td>\n",
       "      <td>-58.381559</td>\n",
       "      <td>24</td>\n",
       "      <td>7</td>\n",
       "      <td>0.0</td>\n",
       "      <td>11.6</td>\n",
       "      <td>5</td>\n",
       "      <td>87</td>\n",
       "      <td>6</td>\n",
       "      <td>14</td>\n",
       "      <td>15</td>\n",
       "      <td>14</td>\n",
       "      <td>16</td>\n",
       "      <td>0</td>\n",
       "      <td>59</td>\n",
       "      <td>0.0</td>\n",
       "      <td>1018</td>\n",
       "      <td>24</td>\n",
       "      <td>10</td>\n",
       "      <td>189</td>\n",
       "      <td>10</td>\n",
       "      <td>2016</td>\n",
       "      <td>3</td>\n",
       "      <td>0</td>\n",
       "    </tr>\n",
       "    <tr>\n",
       "      <th>2</th>\n",
       "      <td>12625.800781</td>\n",
       "      <td>-34.603684</td>\n",
       "      <td>-58.381559</td>\n",
       "      <td>24</td>\n",
       "      <td>7</td>\n",
       "      <td>0.0</td>\n",
       "      <td>11.6</td>\n",
       "      <td>5</td>\n",
       "      <td>87</td>\n",
       "      <td>6</td>\n",
       "      <td>14</td>\n",
       "      <td>15</td>\n",
       "      <td>14</td>\n",
       "      <td>16</td>\n",
       "      <td>0</td>\n",
       "      <td>59</td>\n",
       "      <td>0.0</td>\n",
       "      <td>1018</td>\n",
       "      <td>24</td>\n",
       "      <td>10</td>\n",
       "      <td>189</td>\n",
       "      <td>10</td>\n",
       "      <td>2016</td>\n",
       "      <td>3</td>\n",
       "      <td>1</td>\n",
       "    </tr>\n",
       "    <tr>\n",
       "      <th>3</th>\n",
       "      <td>12625.800781</td>\n",
       "      <td>-34.603684</td>\n",
       "      <td>-58.381559</td>\n",
       "      <td>24</td>\n",
       "      <td>7</td>\n",
       "      <td>0.0</td>\n",
       "      <td>11.6</td>\n",
       "      <td>5</td>\n",
       "      <td>87</td>\n",
       "      <td>6</td>\n",
       "      <td>14</td>\n",
       "      <td>15</td>\n",
       "      <td>14</td>\n",
       "      <td>16</td>\n",
       "      <td>0</td>\n",
       "      <td>59</td>\n",
       "      <td>0.0</td>\n",
       "      <td>1018</td>\n",
       "      <td>24</td>\n",
       "      <td>10</td>\n",
       "      <td>189</td>\n",
       "      <td>10</td>\n",
       "      <td>2016</td>\n",
       "      <td>3</td>\n",
       "      <td>0</td>\n",
       "    </tr>\n",
       "    <tr>\n",
       "      <th>4</th>\n",
       "      <td>12625.800781</td>\n",
       "      <td>-34.603684</td>\n",
       "      <td>-58.381559</td>\n",
       "      <td>22</td>\n",
       "      <td>10</td>\n",
       "      <td>0.0</td>\n",
       "      <td>11.5</td>\n",
       "      <td>5</td>\n",
       "      <td>76</td>\n",
       "      <td>10</td>\n",
       "      <td>14</td>\n",
       "      <td>16</td>\n",
       "      <td>14</td>\n",
       "      <td>27</td>\n",
       "      <td>34</td>\n",
       "      <td>72</td>\n",
       "      <td>0.0</td>\n",
       "      <td>1025</td>\n",
       "      <td>22</td>\n",
       "      <td>10</td>\n",
       "      <td>99</td>\n",
       "      <td>18</td>\n",
       "      <td>2016</td>\n",
       "      <td>3</td>\n",
       "      <td>0</td>\n",
       "    </tr>\n",
       "  </tbody>\n",
       "</table>\n",
       "</div>"
      ],
      "text/plain": [
       "   density_per_km   latitude  longitude  maxtempC  mintempC  totalSnow_cm  \\\n",
       "0    12625.800781 -34.603684 -58.381559        24         7           0.0   \n",
       "1    12625.800781 -34.603684 -58.381559        24         7           0.0   \n",
       "2    12625.800781 -34.603684 -58.381559        24         7           0.0   \n",
       "3    12625.800781 -34.603684 -58.381559        24         7           0.0   \n",
       "4    12625.800781 -34.603684 -58.381559        22        10           0.0   \n",
       "\n",
       "   sunHour  uvIndex  moon_illumination  DewPointC  FeelsLikeC  HeatIndexC  \\\n",
       "0     11.6        5                 87          6          14          15   \n",
       "1     11.6        5                 87          6          14          15   \n",
       "2     11.6        5                 87          6          14          15   \n",
       "3     11.6        5                 87          6          14          15   \n",
       "4     11.5        5                 76         10          14          16   \n",
       "\n",
       "   WindChillC  WindGustKmph  cloudcover  humidity  precipMM  pressure  tempC  \\\n",
       "0          14            16           0        59       0.0      1018     24   \n",
       "1          14            16           0        59       0.0      1018     24   \n",
       "2          14            16           0        59       0.0      1018     24   \n",
       "3          14            16           0        59       0.0      1018     24   \n",
       "4          14            27          34        72       0.0      1025     22   \n",
       "\n",
       "   visibility  winddirDegree  windspeedKmph  year  month  Target  \n",
       "0          10            189             10  2016      3       1  \n",
       "1          10            189             10  2016      3       0  \n",
       "2          10            189             10  2016      3       1  \n",
       "3          10            189             10  2016      3       0  \n",
       "4          10             99             18  2016      3       0  "
      ]
     },
     "execution_count": 7,
     "metadata": {},
     "output_type": "execute_result"
    }
   ],
   "source": [
    "df = pd.read_csv('classification_dataset.csv')\n",
    "df.head()"
   ]
  },
  {
   "cell_type": "code",
   "execution_count": 8,
   "id": "e10b1247",
   "metadata": {},
   "outputs": [
    {
     "data": {
      "text/plain": [
       "(155223, 25)"
      ]
     },
     "execution_count": 8,
     "metadata": {},
     "output_type": "execute_result"
    }
   ],
   "source": [
    "df.shape"
   ]
  },
  {
   "cell_type": "code",
   "execution_count": 9,
   "id": "a50c0811",
   "metadata": {},
   "outputs": [
    {
     "data": {
      "text/plain": [
       "0    89843\n",
       "1    65380\n",
       "Name: Target, dtype: int64"
      ]
     },
     "execution_count": 9,
     "metadata": {},
     "output_type": "execute_result"
    }
   ],
   "source": [
    "df.Target.value_counts()"
   ]
  },
  {
   "cell_type": "code",
   "execution_count": 10,
   "id": "8315acde",
   "metadata": {},
   "outputs": [
    {
     "data": {
      "text/plain": [
       "79877"
      ]
     },
     "execution_count": 10,
     "metadata": {},
     "output_type": "execute_result"
    }
   ],
   "source": [
    "# Total no of duplicate rows\n",
    "df.duplicated().sum()"
   ]
  },
  {
   "cell_type": "code",
   "execution_count": 11,
   "id": "47d7aadd",
   "metadata": {},
   "outputs": [],
   "source": [
    "# Remove duplicate rows\n",
    "df = df.drop_duplicates(keep='first', inplace=False)"
   ]
  },
  {
   "cell_type": "code",
   "execution_count": 12,
   "id": "33af50d5",
   "metadata": {},
   "outputs": [
    {
     "data": {
      "text/plain": [
       "(75346, 25)"
      ]
     },
     "execution_count": 12,
     "metadata": {},
     "output_type": "execute_result"
    }
   ],
   "source": [
    "df.shape"
   ]
  },
  {
   "cell_type": "code",
   "execution_count": 13,
   "id": "e44941b2",
   "metadata": {},
   "outputs": [
    {
     "data": {
      "text/plain": [
       "0    40734\n",
       "1    34612\n",
       "Name: Target, dtype: int64"
      ]
     },
     "execution_count": 13,
     "metadata": {},
     "output_type": "execute_result"
    }
   ],
   "source": [
    "df.Target.value_counts()"
   ]
  },
  {
   "cell_type": "code",
   "execution_count": 14,
   "id": "d039c368",
   "metadata": {},
   "outputs": [
    {
     "data": {
      "text/plain": [
       "Index(['density_per_km', 'latitude', 'longitude', 'maxtempC', 'mintempC',\n",
       "       'totalSnow_cm', 'sunHour', 'uvIndex', 'moon_illumination', 'DewPointC',\n",
       "       'FeelsLikeC', 'HeatIndexC', 'WindChillC', 'WindGustKmph', 'cloudcover',\n",
       "       'humidity', 'precipMM', 'pressure', 'tempC', 'visibility',\n",
       "       'winddirDegree', 'windspeedKmph', 'year', 'month', 'Target'],\n",
       "      dtype='object')"
      ]
     },
     "execution_count": 14,
     "metadata": {},
     "output_type": "execute_result"
    }
   ],
   "source": [
    "df.columns"
   ]
  },
  {
   "cell_type": "markdown",
   "id": "297d2c7a",
   "metadata": {},
   "source": [
    "## Feature Scaling "
   ]
  },
  {
   "cell_type": "code",
   "execution_count": 15,
   "id": "2fadd73e",
   "metadata": {},
   "outputs": [],
   "source": [
    "feature_scale = [feature for feature in df.columns if feature in ['density_per_km','precipMM']]"
   ]
  },
  {
   "cell_type": "code",
   "execution_count": 16,
   "id": "5cbc8828",
   "metadata": {},
   "outputs": [
    {
     "data": {
      "text/plain": [
       "MinMaxScaler()"
      ]
     },
     "execution_count": 16,
     "metadata": {},
     "output_type": "execute_result"
    }
   ],
   "source": [
    "from sklearn.preprocessing import MinMaxScaler\n",
    "\n",
    "scaler=MinMaxScaler()\n",
    "scaler.fit(df[feature_scale])"
   ]
  },
  {
   "cell_type": "code",
   "execution_count": 19,
   "id": "a03de345",
   "metadata": {},
   "outputs": [],
   "source": [
    "# transform the train and test set, and add on the Id and SalePrice variables\n",
    "data = pd.concat([df[['Target','latitude', 'longitude', 'maxtempC', 'mintempC',\n",
    "       'totalSnow_cm', 'sunHour', 'uvIndex', 'moon_illumination', 'DewPointC',\n",
    "       'FeelsLikeC', 'HeatIndexC', 'WindChillC', 'WindGustKmph', 'cloudcover',\n",
    "       'humidity', 'pressure', 'tempC', 'visibility',\n",
    "       'winddirDegree', 'windspeedKmph', 'year', 'month']].reset_index(drop=True),\n",
    "                    pd.DataFrame(scaler.transform(df[feature_scale]), columns=feature_scale)],axis=1)"
   ]
  },
  {
   "cell_type": "code",
   "execution_count": 20,
   "id": "3a089fda",
   "metadata": {},
   "outputs": [
    {
     "data": {
      "text/html": [
       "<div>\n",
       "<style scoped>\n",
       "    .dataframe tbody tr th:only-of-type {\n",
       "        vertical-align: middle;\n",
       "    }\n",
       "\n",
       "    .dataframe tbody tr th {\n",
       "        vertical-align: top;\n",
       "    }\n",
       "\n",
       "    .dataframe thead th {\n",
       "        text-align: right;\n",
       "    }\n",
       "</style>\n",
       "<table border=\"1\" class=\"dataframe\">\n",
       "  <thead>\n",
       "    <tr style=\"text-align: right;\">\n",
       "      <th></th>\n",
       "      <th>Target</th>\n",
       "      <th>latitude</th>\n",
       "      <th>longitude</th>\n",
       "      <th>maxtempC</th>\n",
       "      <th>mintempC</th>\n",
       "      <th>totalSnow_cm</th>\n",
       "      <th>sunHour</th>\n",
       "      <th>uvIndex</th>\n",
       "      <th>moon_illumination</th>\n",
       "      <th>DewPointC</th>\n",
       "      <th>FeelsLikeC</th>\n",
       "      <th>HeatIndexC</th>\n",
       "      <th>WindChillC</th>\n",
       "      <th>WindGustKmph</th>\n",
       "      <th>cloudcover</th>\n",
       "      <th>humidity</th>\n",
       "      <th>pressure</th>\n",
       "      <th>tempC</th>\n",
       "      <th>visibility</th>\n",
       "      <th>winddirDegree</th>\n",
       "      <th>windspeedKmph</th>\n",
       "      <th>year</th>\n",
       "      <th>month</th>\n",
       "      <th>density_per_km</th>\n",
       "      <th>precipMM</th>\n",
       "    </tr>\n",
       "  </thead>\n",
       "  <tbody>\n",
       "    <tr>\n",
       "      <th>0</th>\n",
       "      <td>1</td>\n",
       "      <td>-34.603684</td>\n",
       "      <td>-58.381559</td>\n",
       "      <td>24</td>\n",
       "      <td>7</td>\n",
       "      <td>0.0</td>\n",
       "      <td>11.6</td>\n",
       "      <td>5</td>\n",
       "      <td>87</td>\n",
       "      <td>6</td>\n",
       "      <td>14</td>\n",
       "      <td>15</td>\n",
       "      <td>14</td>\n",
       "      <td>16</td>\n",
       "      <td>0</td>\n",
       "      <td>59</td>\n",
       "      <td>1018</td>\n",
       "      <td>24</td>\n",
       "      <td>10</td>\n",
       "      <td>189</td>\n",
       "      <td>10</td>\n",
       "      <td>2016</td>\n",
       "      <td>3</td>\n",
       "      <td>0.505636</td>\n",
       "      <td>0.000000</td>\n",
       "    </tr>\n",
       "    <tr>\n",
       "      <th>1</th>\n",
       "      <td>0</td>\n",
       "      <td>-34.603684</td>\n",
       "      <td>-58.381559</td>\n",
       "      <td>24</td>\n",
       "      <td>7</td>\n",
       "      <td>0.0</td>\n",
       "      <td>11.6</td>\n",
       "      <td>5</td>\n",
       "      <td>87</td>\n",
       "      <td>6</td>\n",
       "      <td>14</td>\n",
       "      <td>15</td>\n",
       "      <td>14</td>\n",
       "      <td>16</td>\n",
       "      <td>0</td>\n",
       "      <td>59</td>\n",
       "      <td>1018</td>\n",
       "      <td>24</td>\n",
       "      <td>10</td>\n",
       "      <td>189</td>\n",
       "      <td>10</td>\n",
       "      <td>2016</td>\n",
       "      <td>3</td>\n",
       "      <td>0.505636</td>\n",
       "      <td>0.000000</td>\n",
       "    </tr>\n",
       "    <tr>\n",
       "      <th>2</th>\n",
       "      <td>0</td>\n",
       "      <td>-34.603684</td>\n",
       "      <td>-58.381559</td>\n",
       "      <td>22</td>\n",
       "      <td>10</td>\n",
       "      <td>0.0</td>\n",
       "      <td>11.5</td>\n",
       "      <td>5</td>\n",
       "      <td>76</td>\n",
       "      <td>10</td>\n",
       "      <td>14</td>\n",
       "      <td>16</td>\n",
       "      <td>14</td>\n",
       "      <td>27</td>\n",
       "      <td>34</td>\n",
       "      <td>72</td>\n",
       "      <td>1025</td>\n",
       "      <td>22</td>\n",
       "      <td>10</td>\n",
       "      <td>99</td>\n",
       "      <td>18</td>\n",
       "      <td>2016</td>\n",
       "      <td>3</td>\n",
       "      <td>0.505636</td>\n",
       "      <td>0.000000</td>\n",
       "    </tr>\n",
       "    <tr>\n",
       "      <th>3</th>\n",
       "      <td>1</td>\n",
       "      <td>-34.603684</td>\n",
       "      <td>-58.381559</td>\n",
       "      <td>22</td>\n",
       "      <td>10</td>\n",
       "      <td>0.0</td>\n",
       "      <td>11.5</td>\n",
       "      <td>5</td>\n",
       "      <td>76</td>\n",
       "      <td>10</td>\n",
       "      <td>14</td>\n",
       "      <td>16</td>\n",
       "      <td>14</td>\n",
       "      <td>27</td>\n",
       "      <td>34</td>\n",
       "      <td>72</td>\n",
       "      <td>1025</td>\n",
       "      <td>22</td>\n",
       "      <td>10</td>\n",
       "      <td>99</td>\n",
       "      <td>18</td>\n",
       "      <td>2016</td>\n",
       "      <td>3</td>\n",
       "      <td>0.505636</td>\n",
       "      <td>0.000000</td>\n",
       "    </tr>\n",
       "    <tr>\n",
       "      <th>4</th>\n",
       "      <td>0</td>\n",
       "      <td>-34.603684</td>\n",
       "      <td>-58.381559</td>\n",
       "      <td>22</td>\n",
       "      <td>18</td>\n",
       "      <td>0.0</td>\n",
       "      <td>8.6</td>\n",
       "      <td>4</td>\n",
       "      <td>26</td>\n",
       "      <td>15</td>\n",
       "      <td>19</td>\n",
       "      <td>20</td>\n",
       "      <td>19</td>\n",
       "      <td>17</td>\n",
       "      <td>61</td>\n",
       "      <td>78</td>\n",
       "      <td>1015</td>\n",
       "      <td>22</td>\n",
       "      <td>8</td>\n",
       "      <td>105</td>\n",
       "      <td>11</td>\n",
       "      <td>2016</td>\n",
       "      <td>4</td>\n",
       "      <td>0.505636</td>\n",
       "      <td>0.097011</td>\n",
       "    </tr>\n",
       "  </tbody>\n",
       "</table>\n",
       "</div>"
      ],
      "text/plain": [
       "   Target   latitude  longitude  maxtempC  mintempC  totalSnow_cm  sunHour  \\\n",
       "0       1 -34.603684 -58.381559        24         7           0.0     11.6   \n",
       "1       0 -34.603684 -58.381559        24         7           0.0     11.6   \n",
       "2       0 -34.603684 -58.381559        22        10           0.0     11.5   \n",
       "3       1 -34.603684 -58.381559        22        10           0.0     11.5   \n",
       "4       0 -34.603684 -58.381559        22        18           0.0      8.6   \n",
       "\n",
       "   uvIndex  moon_illumination  DewPointC  FeelsLikeC  HeatIndexC  WindChillC  \\\n",
       "0        5                 87          6          14          15          14   \n",
       "1        5                 87          6          14          15          14   \n",
       "2        5                 76         10          14          16          14   \n",
       "3        5                 76         10          14          16          14   \n",
       "4        4                 26         15          19          20          19   \n",
       "\n",
       "   WindGustKmph  cloudcover  humidity  pressure  tempC  visibility  \\\n",
       "0            16           0        59      1018     24          10   \n",
       "1            16           0        59      1018     24          10   \n",
       "2            27          34        72      1025     22          10   \n",
       "3            27          34        72      1025     22          10   \n",
       "4            17          61        78      1015     22           8   \n",
       "\n",
       "   winddirDegree  windspeedKmph  year  month  density_per_km  precipMM  \n",
       "0            189             10  2016      3        0.505636  0.000000  \n",
       "1            189             10  2016      3        0.505636  0.000000  \n",
       "2             99             18  2016      3        0.505636  0.000000  \n",
       "3             99             18  2016      3        0.505636  0.000000  \n",
       "4            105             11  2016      4        0.505636  0.097011  "
      ]
     },
     "execution_count": 20,
     "metadata": {},
     "output_type": "execute_result"
    }
   ],
   "source": [
    "data.head()"
   ]
  },
  {
   "cell_type": "code",
   "execution_count": 21,
   "id": "18987232",
   "metadata": {},
   "outputs": [],
   "source": [
    "X = data.iloc[:,1:]  #independent columns\n",
    "y = data['Target'] #dependent column"
   ]
  },
  {
   "cell_type": "markdown",
   "id": "ace1f521",
   "metadata": {},
   "source": [
    "## 1. ExtraTreesClassifier"
   ]
  },
  {
   "cell_type": "code",
   "execution_count": 23,
   "id": "92e08963",
   "metadata": {},
   "outputs": [
    {
     "data": {
      "text/plain": [
       "ExtraTreesClassifier()"
      ]
     },
     "execution_count": 23,
     "metadata": {},
     "output_type": "execute_result"
    }
   ],
   "source": [
    "from sklearn.ensemble import ExtraTreesClassifier\n",
    "model = ExtraTreesClassifier()\n",
    "model.fit(X,y)"
   ]
  },
  {
   "cell_type": "code",
   "execution_count": 28,
   "id": "a54e151b",
   "metadata": {},
   "outputs": [
    {
     "data": {
      "text/plain": [
       "array([0.13382998, 0.14805329, 0.03015149, 0.03693139, 0.00048468,\n",
       "       0.02898026, 0.02152372, 0.02487591, 0.03788563, 0.02986766,\n",
       "       0.03338505, 0.02911458, 0.0273519 , 0.0289908 , 0.03128379,\n",
       "       0.02762196, 0.02751105, 0.01816366, 0.03253689, 0.02751806,\n",
       "       0.03858376, 0.04767245, 0.11360022, 0.0240818 ])"
      ]
     },
     "execution_count": 28,
     "metadata": {},
     "output_type": "execute_result"
    }
   ],
   "source": [
    "model.feature_importances_"
   ]
  },
  {
   "cell_type": "code",
   "execution_count": 35,
   "id": "7b70ec12",
   "metadata": {},
   "outputs": [
    {
     "data": {
      "image/png": "[encoded data removed]",
      "text/plain": [
       "<Figure size 432x288 with 1 Axes>"
      ]
     },
     "metadata": {},
     "output_type": "display_data"
    }
   ],
   "source": [
    "#plot graph of feature importances for better visualization\n",
    "feat_importances = pd.Series(model.feature_importances_, index=X.columns)\n",
    "feat_importances.nlargest(24).plot(kind='barh')\n",
    "plt.show()"
   ]
  },
  {
   "cell_type": "code",
   "execution_count": 38,
   "id": "76b717d1",
   "metadata": {},
   "outputs": [
    {
     "name": "stdout",
     "output_type": "stream",
     "text": [
      "longitude            0.148053\n",
      "latitude             0.133830\n",
      "density_per_km       0.113600\n",
      "month                0.047672\n",
      "year                 0.038584\n",
      "DewPointC            0.037886\n",
      "mintempC             0.036931\n",
      "HeatIndexC           0.033385\n",
      "winddirDegree        0.032537\n",
      "humidity             0.031284\n",
      "maxtempC             0.030151\n",
      "FeelsLikeC           0.029868\n",
      "WindChillC           0.029115\n",
      "cloudcover           0.028991\n",
      "sunHour              0.028980\n",
      "pressure             0.027622\n",
      "windspeedKmph        0.027518\n",
      "tempC                0.027511\n",
      "WindGustKmph         0.027352\n",
      "moon_illumination    0.024876\n",
      "precipMM             0.024082\n",
      "uvIndex              0.021524\n",
      "visibility           0.018164\n",
      "totalSnow_cm         0.000485\n",
      "dtype: float64\n"
     ]
    }
   ],
   "source": [
    "print(feat_importances.nlargest(24))"
   ]
  },
  {
   "cell_type": "markdown",
   "id": "b605b43b",
   "metadata": {},
   "source": [
    "## 2. Infromation gain"
   ]
  },
  {
   "cell_type": "code",
   "execution_count": 42,
   "id": "21135422",
   "metadata": {},
   "outputs": [],
   "source": [
    "from sklearn.feature_selection import mutual_info_classif\n",
    "\n",
    "mutual_info = mutual_info_classif(X,y)"
   ]
  },
  {
   "cell_type": "code",
   "execution_count": 43,
   "id": "87606c5e",
   "metadata": {},
   "outputs": [
    {
     "data": {
      "text/plain": [
       "latitude             0.102152\n",
       "longitude            0.101001\n",
       "density_per_km       0.100218\n",
       "DewPointC            0.014741\n",
       "HeatIndexC           0.012366\n",
       "mintempC             0.010714\n",
       "uvIndex              0.010249\n",
       "FeelsLikeC           0.009778\n",
       "maxtempC             0.009214\n",
       "year                 0.008793\n",
       "WindChillC           0.008685\n",
       "tempC                0.006772\n",
       "sunHour              0.006116\n",
       "moon_illumination    0.005568\n",
       "visibility           0.004853\n",
       "month                0.004231\n",
       "precipMM             0.002809\n",
       "cloudcover           0.002336\n",
       "humidity             0.001881\n",
       "winddirDegree        0.001771\n",
       "pressure             0.000526\n",
       "totalSnow_cm         0.000196\n",
       "windspeedKmph        0.000000\n",
       "WindGustKmph         0.000000\n",
       "dtype: float64"
      ]
     },
     "execution_count": 43,
     "metadata": {},
     "output_type": "execute_result"
    }
   ],
   "source": [
    "mutual_data = pd.Series(mutual_info,index=X.columns)\n",
    "mutual_data.sort_values(ascending=False)"
   ]
  },
  {
   "cell_type": "code",
   "execution_count": 44,
   "id": "9984d930",
   "metadata": {},
   "outputs": [
    {
     "data": {
      "text/plain": [
       "<AxesSubplot:>"
      ]
     },
     "execution_count": 44,
     "metadata": {},
     "output_type": "execute_result"
    },
    {
     "data": {
      "image/png": "[encoded data removed]",
      "text/plain": [
       "<Figure size 1080x288 with 1 Axes>"
      ]
     },
     "metadata": {},
     "output_type": "display_data"
    }
   ],
   "source": [
    "mutual_data.sort_values(ascending=False).plot.bar(figsize=(15,4))"
   ]
  },
  {
   "cell_type": "code",
   "execution_count": 46,
   "id": "147a6f00",
   "metadata": {},
   "outputs": [
    {
     "data": {
      "text/plain": [
       "Index(['latitude', 'longitude', 'maxtempC', 'mintempC', 'sunHour', 'uvIndex',\n",
       "       'moon_illumination', 'DewPointC', 'FeelsLikeC', 'HeatIndexC',\n",
       "       'WindChillC', 'cloudcover', 'humidity', 'pressure', 'tempC',\n",
       "       'visibility', 'winddirDegree', 'year', 'month', 'density_per_km'],\n",
       "      dtype='object')"
      ]
     },
     "execution_count": 46,
     "metadata": {},
     "output_type": "execute_result"
    }
   ],
   "source": [
    "select_col = SelectKBest(mutual_info_classif,k=20)\n",
    "select_col.fit(X,y)\n",
    "X.columns[select_col.get_support()]"
   ]
  },
  {
   "cell_type": "markdown",
   "id": "b77ba5c0",
   "metadata": {},
   "source": [
    "## 3. XGBoost"
   ]
  },
  {
   "cell_type": "code",
   "execution_count": 54,
   "id": "87eba1da",
   "metadata": {},
   "outputs": [
    {
     "name": "stdout",
     "output_type": "stream",
     "text": [
      "[11:16:44] WARNING: C:/Users/Administrator/workspace/xgboost-win64_release_1.4.0/src/learner.cc:1095: Starting in XGBoost 1.3.0, the default evaluation metric used with the objective 'binary:logistic' was changed from 'error' to 'logloss'. Explicitly set eval_metric if you'd like to restore the old behavior.\n",
      "[0.12249829 0.10448384 0.02573625 0.03464723 0.         0.01265276\n",
      " 0.00977605 0.02592792 0.15543634 0.03859988 0.04747077 0.11372995\n",
      " 0.01676717 0.01423195 0.02122833 0.01762823 0.         0.01091673\n",
      " 0.01735139 0.01856353 0.06418895 0.04718906 0.06722211 0.01375327]\n"
     ]
    },
    {
     "data": {
      "image/png": "[encoded data removed]",
      "text/plain": [
       "<Figure size 432x288 with 1 Axes>"
      ]
     },
     "metadata": {},
     "output_type": "display_data"
    }
   ],
   "source": [
    "# plot feature importance manually\n",
    "from numpy import loadtxt\n",
    "from xgboost import XGBClassifier\n",
    "from matplotlib import pyplot\n",
    "\n",
    "# fit model no training data\n",
    "model = XGBClassifier()\n",
    "model.fit(X, y)\n",
    "# feature importance\n",
    "print(model.feature_importances_)\n",
    "# plot\n",
    "plt.bar(range(len(model.feature_importances_)), model.feature_importances_)\n",
    "plt.show()"
   ]
  },
  {
   "cell_type": "code",
   "execution_count": 55,
   "id": "930a7d10",
   "metadata": {},
   "outputs": [
    {
     "data": {
      "text/plain": [
       "DewPointC            0.155436\n",
       "latitude             0.122498\n",
       "WindChillC           0.113730\n",
       "longitude            0.104484\n",
       "density_per_km       0.067222\n",
       "year                 0.064189\n",
       "HeatIndexC           0.047471\n",
       "month                0.047189\n",
       "FeelsLikeC           0.038600\n",
       "mintempC             0.034647\n",
       "moon_illumination    0.025928\n",
       "maxtempC             0.025736\n",
       "humidity             0.021228\n",
       "windspeedKmph        0.018564\n",
       "pressure             0.017628\n",
       "winddirDegree        0.017351\n",
       "WindGustKmph         0.016767\n",
       "cloudcover           0.014232\n",
       "precipMM             0.013753\n",
       "sunHour              0.012653\n",
       "visibility           0.010917\n",
       "uvIndex              0.009776\n",
       "tempC                0.000000\n",
       "totalSnow_cm         0.000000\n",
       "dtype: float32"
      ]
     },
     "execution_count": 55,
     "metadata": {},
     "output_type": "execute_result"
    }
   ],
   "source": [
    "feat_importance = pd.Series(model.feature_importances_,index=X.columns)\n",
    "feat_importance.sort_values(ascending=False)"
   ]
  },
  {
   "cell_type": "code",
   "execution_count": 56,
   "id": "cee858bf",
   "metadata": {},
   "outputs": [
    {
     "data": {
      "text/plain": [
       "<AxesSubplot:>"
      ]
     },
     "execution_count": 56,
     "metadata": {},
     "output_type": "execute_result"
    },
    {
     "data": {
      "image/png": "[encoded data removed]",
      "text/plain": [
       "<Figure size 720x288 with 1 Axes>"
      ]
     },
     "metadata": {},
     "output_type": "display_data"
    }
   ],
   "source": [
    "feat_importance = pd.Series(model.feature_importances_,index=X.columns)\n",
    "feat_importance.sort_values(ascending=False)\n",
    "feat_importance.sort_values(ascending=False).plot.bar(figsize=(10,4))"
   ]
  },
  {
   "cell_type": "code",
   "execution_count": 50,
   "id": "1dc3b6b2",
   "metadata": {},
   "outputs": [
    {
     "data": {
      "text/plain": [
       "25"
      ]
     },
     "execution_count": 50,
     "metadata": {},
     "output_type": "execute_result"
    }
   ],
   "source": [
    "len(df.columns)"
   ]
  }
 ],
 "metadata": {
  "kernelspec": {
   "display_name": "Python 3",
   "language": "python",
   "name": "python3"
  },
  "language_info": {
   "codemirror_mode": {
    "name": "ipython",
    "version": 3
   },
   "file_extension": ".py",
   "mimetype": "text/x-python",
   "name": "python",
   "nbconvert_exporter": "python",
   "pygments_lexer": "ipython3",
   "version": "3.7.11"
  },
  "varInspector": {
   "cols": {
    "lenName": 16,
    "lenType": 16,
    "lenVar": 40
   },
   "kernels_config": {
    "python": {
     "delete_cmd_postfix": "",
     "delete_cmd_prefix": "del ",
     "library": "var_list.py",
     "varRefreshCmd": "print(var_dic_list())"
    },
    "r": {
     "delete_cmd_postfix": ") ",
     "delete_cmd_prefix": "rm(",
     "library": "var_list.r",
     "varRefreshCmd": "cat(var_dic_list()) "
    }
   },
   "types_to_exclude": [
    "module",
    "function",
    "builtin_function_or_method",
    "instance",
    "_Feature"
   ],
   "window_display": false
  }
 },
 "nbformat": 4,
 "nbformat_minor": 5
}
