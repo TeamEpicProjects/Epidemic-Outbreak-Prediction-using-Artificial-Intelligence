{
  "nbformat": 4,
  "nbformat_minor": 0,
  "metadata": {
    "colab": {
      "name": "Zika_world.ipynb",
      "provenance": []
    },
    "kernelspec": {
      "name": "python3",
      "display_name": "Python 3"
    },
    "language_info": {
      "name": "python"
    }
  },
  "cells": [
    {
      "cell_type": "code",
      "metadata": {
        "colab": {
          "base_uri": "https://localhost:8080/"
        },
        "id": "RT2Q2jOomWfC",
        "outputId": "2053c57a-910b-4aa2-9c2f-79681966f571"
      },
      "source": [
        "# import pandas as pd\n",
        "# import matplotlib.pyplot as plt\n",
        "# import geopandas\n",
        "!apt install gdal-bin python-gdal python3-gdal \n",
        "!apt install python3-rtree \n",
        "!pip install git+git://github.com/geopandas/geopandas.git\n",
        "!pip install descartes\n",
        "!pip install folium\n",
        "!pip install plotly_express"
      ],
      "execution_count": null,
      "outputs": [
        {
          "output_type": "stream",
          "name": "stdout",
          "text": [
            "Reading package lists... Done\n",
            "Building dependency tree       \n",
            "Reading state information... Done\n",
            "gdal-bin is already the newest version (2.2.3+dfsg-2).\n",
            "python-gdal is already the newest version (2.2.3+dfsg-2).\n",
            "python3-gdal is already the newest version (2.2.3+dfsg-2).\n",
            "0 upgraded, 0 newly installed, 0 to remove and 40 not upgraded.\n",
            "Reading package lists... Done\n",
            "Building dependency tree       \n",
            "Reading state information... Done\n",
            "python3-rtree is already the newest version (0.8.3+ds-1).\n",
            "0 upgraded, 0 newly installed, 0 to remove and 40 not upgraded.\n",
            "Collecting git+git://github.com/geopandas/geopandas.git\n",
            "  Cloning git://github.com/geopandas/geopandas.git to /tmp/pip-req-build-rr6s2ibd\n",
            "  Running command git clone -q git://github.com/geopandas/geopandas.git /tmp/pip-req-build-rr6s2ibd\n",
            "Requirement already satisfied: pandas>=0.25.0 in /usr/local/lib/python3.7/dist-packages (from geopandas==0.9.0+75.g187287b) (1.1.5)\n",
            "Requirement already satisfied: shapely>=1.6 in /usr/local/lib/python3.7/dist-packages (from geopandas==0.9.0+75.g187287b) (1.7.1)\n",
            "Requirement already satisfied: fiona>=1.8 in /usr/local/lib/python3.7/dist-packages (from geopandas==0.9.0+75.g187287b) (1.8.20)\n",
            "Requirement already satisfied: pyproj>=2.2.0 in /usr/local/lib/python3.7/dist-packages (from geopandas==0.9.0+75.g187287b) (3.2.0)\n",
            "Requirement already satisfied: attrs>=17 in /usr/local/lib/python3.7/dist-packages (from fiona>=1.8->geopandas==0.9.0+75.g187287b) (21.2.0)\n",
            "Requirement already satisfied: cligj>=0.5 in /usr/local/lib/python3.7/dist-packages (from fiona>=1.8->geopandas==0.9.0+75.g187287b) (0.7.2)\n",
            "Requirement already satisfied: click>=4.0 in /usr/local/lib/python3.7/dist-packages (from fiona>=1.8->geopandas==0.9.0+75.g187287b) (7.1.2)\n",
            "Requirement already satisfied: munch in /usr/local/lib/python3.7/dist-packages (from fiona>=1.8->geopandas==0.9.0+75.g187287b) (2.5.0)\n",
            "Requirement already satisfied: six>=1.7 in /usr/local/lib/python3.7/dist-packages (from fiona>=1.8->geopandas==0.9.0+75.g187287b) (1.15.0)\n",
            "Requirement already satisfied: setuptools in /usr/local/lib/python3.7/dist-packages (from fiona>=1.8->geopandas==0.9.0+75.g187287b) (57.4.0)\n",
            "Requirement already satisfied: certifi in /usr/local/lib/python3.7/dist-packages (from fiona>=1.8->geopandas==0.9.0+75.g187287b) (2021.5.30)\n",
            "Requirement already satisfied: click-plugins>=1.0 in /usr/local/lib/python3.7/dist-packages (from fiona>=1.8->geopandas==0.9.0+75.g187287b) (1.1.1)\n",
            "Requirement already satisfied: numpy>=1.15.4 in /usr/local/lib/python3.7/dist-packages (from pandas>=0.25.0->geopandas==0.9.0+75.g187287b) (1.19.5)\n",
            "Requirement already satisfied: pytz>=2017.2 in /usr/local/lib/python3.7/dist-packages (from pandas>=0.25.0->geopandas==0.9.0+75.g187287b) (2018.9)\n",
            "Requirement already satisfied: python-dateutil>=2.7.3 in /usr/local/lib/python3.7/dist-packages (from pandas>=0.25.0->geopandas==0.9.0+75.g187287b) (2.8.2)\n",
            "Requirement already satisfied: descartes in /usr/local/lib/python3.7/dist-packages (1.1.0)\n",
            "Requirement already satisfied: matplotlib in /usr/local/lib/python3.7/dist-packages (from descartes) (3.2.2)\n",
            "Requirement already satisfied: kiwisolver>=1.0.1 in /usr/local/lib/python3.7/dist-packages (from matplotlib->descartes) (1.3.1)\n",
            "Requirement already satisfied: numpy>=1.11 in /usr/local/lib/python3.7/dist-packages (from matplotlib->descartes) (1.19.5)\n",
            "Requirement already satisfied: pyparsing!=2.0.4,!=2.1.2,!=2.1.6,>=2.0.1 in /usr/local/lib/python3.7/dist-packages (from matplotlib->descartes) (2.4.7)\n",
            "Requirement already satisfied: python-dateutil>=2.1 in /usr/local/lib/python3.7/dist-packages (from matplotlib->descartes) (2.8.2)\n",
            "Requirement already satisfied: cycler>=0.10 in /usr/local/lib/python3.7/dist-packages (from matplotlib->descartes) (0.10.0)\n",
            "Requirement already satisfied: six in /usr/local/lib/python3.7/dist-packages (from cycler>=0.10->matplotlib->descartes) (1.15.0)\n",
            "Requirement already satisfied: folium in /usr/local/lib/python3.7/dist-packages (0.8.3)\n",
            "Requirement already satisfied: numpy in /usr/local/lib/python3.7/dist-packages (from folium) (1.19.5)\n",
            "Requirement already satisfied: requests in /usr/local/lib/python3.7/dist-packages (from folium) (2.23.0)\n",
            "Requirement already satisfied: six in /usr/local/lib/python3.7/dist-packages (from folium) (1.15.0)\n",
            "Requirement already satisfied: jinja2 in /usr/local/lib/python3.7/dist-packages (from folium) (2.11.3)\n",
            "Requirement already satisfied: branca>=0.3.0 in /usr/local/lib/python3.7/dist-packages (from folium) (0.4.2)\n",
            "Requirement already satisfied: MarkupSafe>=0.23 in /usr/local/lib/python3.7/dist-packages (from jinja2->folium) (2.0.1)\n",
            "Requirement already satisfied: certifi>=2017.4.17 in /usr/local/lib/python3.7/dist-packages (from requests->folium) (2021.5.30)\n",
            "Requirement already satisfied: chardet<4,>=3.0.2 in /usr/local/lib/python3.7/dist-packages (from requests->folium) (3.0.4)\n",
            "Requirement already satisfied: urllib3!=1.25.0,!=1.25.1,<1.26,>=1.21.1 in /usr/local/lib/python3.7/dist-packages (from requests->folium) (1.24.3)\n",
            "Requirement already satisfied: idna<3,>=2.5 in /usr/local/lib/python3.7/dist-packages (from requests->folium) (2.10)\n",
            "Requirement already satisfied: plotly_express in /usr/local/lib/python3.7/dist-packages (0.4.1)\n",
            "Requirement already satisfied: statsmodels>=0.9.0 in /usr/local/lib/python3.7/dist-packages (from plotly_express) (0.10.2)\n",
            "Requirement already satisfied: patsy>=0.5 in /usr/local/lib/python3.7/dist-packages (from plotly_express) (0.5.1)\n",
            "Requirement already satisfied: plotly>=4.1.0 in /usr/local/lib/python3.7/dist-packages (from plotly_express) (4.4.1)\n",
            "Requirement already satisfied: scipy>=0.18 in /usr/local/lib/python3.7/dist-packages (from plotly_express) (1.4.1)\n",
            "Requirement already satisfied: pandas>=0.20.0 in /usr/local/lib/python3.7/dist-packages (from plotly_express) (1.1.5)\n",
            "Requirement already satisfied: numpy>=1.11 in /usr/local/lib/python3.7/dist-packages (from plotly_express) (1.19.5)\n",
            "Requirement already satisfied: pytz>=2017.2 in /usr/local/lib/python3.7/dist-packages (from pandas>=0.20.0->plotly_express) (2018.9)\n",
            "Requirement already satisfied: python-dateutil>=2.7.3 in /usr/local/lib/python3.7/dist-packages (from pandas>=0.20.0->plotly_express) (2.8.2)\n",
            "Requirement already satisfied: six in /usr/local/lib/python3.7/dist-packages (from patsy>=0.5->plotly_express) (1.15.0)\n",
            "Requirement already satisfied: retrying>=1.3.3 in /usr/local/lib/python3.7/dist-packages (from plotly>=4.1.0->plotly_express) (1.3.3)\n"
          ]
        }
      ]
    },
    {
      "cell_type": "code",
      "metadata": {
        "id": "kcdGwfGXqdUM"
      },
      "source": [
        "import pandas as pd\n",
        "import numpy as np\n",
        "import geopandas as gpd\n",
        "from shapely.geometry import Point\n",
        "import matplotlib\n",
        "import matplotlib.pyplot as plt \n",
        "import folium\n",
        "import plotly_express as px"
      ],
      "execution_count": null,
      "outputs": []
    },
    {
      "cell_type": "code",
      "metadata": {
        "colab": {
          "base_uri": "https://localhost:8080/",
          "height": 205
        },
        "id": "KkMFzkjArAc4",
        "outputId": "17ef32cb-d761-46a0-cc8d-279c9c380acf"
      },
      "source": [
        "zika = pd.read_csv('zikavirus.csv', usecols=['report_date', 'location', 'cases'])\n",
        "zika.head()"
      ],
      "execution_count": null,
      "outputs": [
        {
          "output_type": "execute_result",
          "data": {
            "text/html": [
              "<div>\n",
              "<style scoped>\n",
              "    .dataframe tbody tr th:only-of-type {\n",
              "        vertical-align: middle;\n",
              "    }\n",
              "\n",
              "    .dataframe tbody tr th {\n",
              "        vertical-align: top;\n",
              "    }\n",
              "\n",
              "    .dataframe thead th {\n",
              "        text-align: right;\n",
              "    }\n",
              "</style>\n",
              "<table border=\"1\" class=\"dataframe\">\n",
              "  <thead>\n",
              "    <tr style=\"text-align: right;\">\n",
              "      <th></th>\n",
              "      <th>report_date</th>\n",
              "      <th>location</th>\n",
              "      <th>cases</th>\n",
              "    </tr>\n",
              "  </thead>\n",
              "  <tbody>\n",
              "    <tr>\n",
              "      <th>0</th>\n",
              "      <td>2017-01-12</td>\n",
              "      <td>Argentina-Buenos_Aires</td>\n",
              "      <td>0.0</td>\n",
              "    </tr>\n",
              "    <tr>\n",
              "      <th>1</th>\n",
              "      <td>2017-01-12</td>\n",
              "      <td>Argentina-CABA</td>\n",
              "      <td>1.0</td>\n",
              "    </tr>\n",
              "    <tr>\n",
              "      <th>2</th>\n",
              "      <td>2017-01-12</td>\n",
              "      <td>Argentina-Cordoba</td>\n",
              "      <td>2.0</td>\n",
              "    </tr>\n",
              "    <tr>\n",
              "      <th>3</th>\n",
              "      <td>2017-01-12</td>\n",
              "      <td>Argentina-Entre_Rios</td>\n",
              "      <td>0.0</td>\n",
              "    </tr>\n",
              "    <tr>\n",
              "      <th>4</th>\n",
              "      <td>2017-01-12</td>\n",
              "      <td>Argentina-Santa_Fe</td>\n",
              "      <td>2.0</td>\n",
              "    </tr>\n",
              "  </tbody>\n",
              "</table>\n",
              "</div>"
            ],
            "text/plain": [
              "  report_date                location cases\n",
              "0  2017-01-12  Argentina-Buenos_Aires   0.0\n",
              "1  2017-01-12          Argentina-CABA   1.0\n",
              "2  2017-01-12       Argentina-Cordoba   2.0\n",
              "3  2017-01-12    Argentina-Entre_Rios   0.0\n",
              "4  2017-01-12      Argentina-Santa_Fe   2.0"
            ]
          },
          "metadata": {},
          "execution_count": 53
        }
      ]
    },
    {
      "cell_type": "code",
      "metadata": {
        "colab": {
          "base_uri": "https://localhost:8080/",
          "height": 205
        },
        "id": "wUw5olobvMVG",
        "outputId": "5529af72-ae92-4587-8684-1170d1c4c995"
      },
      "source": [
        "zika = zika.dropna(how = 'all')\n",
        "zika.drop(zika[zika['report_date'] == '18437'].index, inplace = True)\n",
        "zika['cases'] = zika['cases'].astype(float)\n",
        "zika['cases'] = zika['cases'].fillna(0)\n",
        "zika['cases'] = zika['cases'].astype(int)\n",
        "zika['report_date'] = pd.to_datetime(zika['report_date'], format=\"%Y-%m-%d\")\n",
        "# zika['year'] = pd.DatetimeIndex(zika['report_date']).year\n",
        "# zika['month'] = pd.DatetimeIndex(zika['report_date']).month\n",
        "zika.head()"
      ],
      "execution_count": null,
      "outputs": [
        {
          "output_type": "execute_result",
          "data": {
            "text/html": [
              "<div>\n",
              "<style scoped>\n",
              "    .dataframe tbody tr th:only-of-type {\n",
              "        vertical-align: middle;\n",
              "    }\n",
              "\n",
              "    .dataframe tbody tr th {\n",
              "        vertical-align: top;\n",
              "    }\n",
              "\n",
              "    .dataframe thead th {\n",
              "        text-align: right;\n",
              "    }\n",
              "</style>\n",
              "<table border=\"1\" class=\"dataframe\">\n",
              "  <thead>\n",
              "    <tr style=\"text-align: right;\">\n",
              "      <th></th>\n",
              "      <th>report_date</th>\n",
              "      <th>location</th>\n",
              "      <th>cases</th>\n",
              "    </tr>\n",
              "  </thead>\n",
              "  <tbody>\n",
              "    <tr>\n",
              "      <th>0</th>\n",
              "      <td>2017-01-12</td>\n",
              "      <td>Argentina-Buenos_Aires</td>\n",
              "      <td>0</td>\n",
              "    </tr>\n",
              "    <tr>\n",
              "      <th>1</th>\n",
              "      <td>2017-01-12</td>\n",
              "      <td>Argentina-CABA</td>\n",
              "      <td>1</td>\n",
              "    </tr>\n",
              "    <tr>\n",
              "      <th>2</th>\n",
              "      <td>2017-01-12</td>\n",
              "      <td>Argentina-Cordoba</td>\n",
              "      <td>2</td>\n",
              "    </tr>\n",
              "    <tr>\n",
              "      <th>3</th>\n",
              "      <td>2017-01-12</td>\n",
              "      <td>Argentina-Entre_Rios</td>\n",
              "      <td>0</td>\n",
              "    </tr>\n",
              "    <tr>\n",
              "      <th>4</th>\n",
              "      <td>2017-01-12</td>\n",
              "      <td>Argentina-Santa_Fe</td>\n",
              "      <td>2</td>\n",
              "    </tr>\n",
              "  </tbody>\n",
              "</table>\n",
              "</div>"
            ],
            "text/plain": [
              "  report_date                location  cases\n",
              "0  2017-01-12  Argentina-Buenos_Aires      0\n",
              "1  2017-01-12          Argentina-CABA      1\n",
              "2  2017-01-12       Argentina-Cordoba      2\n",
              "3  2017-01-12    Argentina-Entre_Rios      0\n",
              "4  2017-01-12      Argentina-Santa_Fe      2"
            ]
          },
          "metadata": {},
          "execution_count": 54
        }
      ]
    },
    {
      "cell_type": "code",
      "metadata": {
        "colab": {
          "base_uri": "https://localhost:8080/",
          "height": 205
        },
        "id": "ai76cdc6wXSh",
        "outputId": "ba2bf195-c5e5-49a5-b51d-8bb39d599c9a"
      },
      "source": [
        "# create new column country and state\n",
        "country = []\n",
        "state = []\n",
        "\n",
        "# iterate location\n",
        "for mystring in zika['location']:\n",
        "    first_partitioned_string = mystring.rpartition('-')\n",
        "    country_name = first_partitioned_string[0]\n",
        "    state_name = first_partitioned_string[2]\n",
        "    country.append(country_name.strip())\n",
        "    state.append(state_name.strip())\n",
        "    \n",
        "zika.insert(1, \"country\",country, True)  \n",
        "zika.insert(2, \"state\",state, True)\n",
        "zika = zika.drop(['location'],axis=1)\n",
        "\n",
        "zika = zika.drop(['state'], axis=1)\n",
        "# zika = zika[['report_date, country, state, cases']]\n",
        "zika.head()"
      ],
      "execution_count": null,
      "outputs": [
        {
          "output_type": "execute_result",
          "data": {
            "text/html": [
              "<div>\n",
              "<style scoped>\n",
              "    .dataframe tbody tr th:only-of-type {\n",
              "        vertical-align: middle;\n",
              "    }\n",
              "\n",
              "    .dataframe tbody tr th {\n",
              "        vertical-align: top;\n",
              "    }\n",
              "\n",
              "    .dataframe thead th {\n",
              "        text-align: right;\n",
              "    }\n",
              "</style>\n",
              "<table border=\"1\" class=\"dataframe\">\n",
              "  <thead>\n",
              "    <tr style=\"text-align: right;\">\n",
              "      <th></th>\n",
              "      <th>report_date</th>\n",
              "      <th>country</th>\n",
              "      <th>cases</th>\n",
              "    </tr>\n",
              "  </thead>\n",
              "  <tbody>\n",
              "    <tr>\n",
              "      <th>0</th>\n",
              "      <td>2017-01-12</td>\n",
              "      <td>Argentina</td>\n",
              "      <td>0</td>\n",
              "    </tr>\n",
              "    <tr>\n",
              "      <th>1</th>\n",
              "      <td>2017-01-12</td>\n",
              "      <td>Argentina</td>\n",
              "      <td>1</td>\n",
              "    </tr>\n",
              "    <tr>\n",
              "      <th>2</th>\n",
              "      <td>2017-01-12</td>\n",
              "      <td>Argentina</td>\n",
              "      <td>2</td>\n",
              "    </tr>\n",
              "    <tr>\n",
              "      <th>3</th>\n",
              "      <td>2017-01-12</td>\n",
              "      <td>Argentina</td>\n",
              "      <td>0</td>\n",
              "    </tr>\n",
              "    <tr>\n",
              "      <th>4</th>\n",
              "      <td>2017-01-12</td>\n",
              "      <td>Argentina</td>\n",
              "      <td>2</td>\n",
              "    </tr>\n",
              "  </tbody>\n",
              "</table>\n",
              "</div>"
            ],
            "text/plain": [
              "  report_date    country  cases\n",
              "0  2017-01-12  Argentina      0\n",
              "1  2017-01-12  Argentina      1\n",
              "2  2017-01-12  Argentina      2\n",
              "3  2017-01-12  Argentina      0\n",
              "4  2017-01-12  Argentina      2"
            ]
          },
          "metadata": {},
          "execution_count": 55
        }
      ]
    },
    {
      "cell_type": "code",
      "metadata": {
        "colab": {
          "base_uri": "https://localhost:8080/",
          "height": 205
        },
        "id": "O0h1IHQhsNGc",
        "outputId": "78d59c03-6387-4bff-a260-58a1b2cf1187"
      },
      "source": [
        "latlong = pd.read_csv('latlong.csv', usecols=['latitude', 'longitude', 'country'])\n",
        "latlong.head()"
      ],
      "execution_count": null,
      "outputs": [
        {
          "output_type": "execute_result",
          "data": {
            "text/html": [
              "<div>\n",
              "<style scoped>\n",
              "    .dataframe tbody tr th:only-of-type {\n",
              "        vertical-align: middle;\n",
              "    }\n",
              "\n",
              "    .dataframe tbody tr th {\n",
              "        vertical-align: top;\n",
              "    }\n",
              "\n",
              "    .dataframe thead th {\n",
              "        text-align: right;\n",
              "    }\n",
              "</style>\n",
              "<table border=\"1\" class=\"dataframe\">\n",
              "  <thead>\n",
              "    <tr style=\"text-align: right;\">\n",
              "      <th></th>\n",
              "      <th>latitude</th>\n",
              "      <th>longitude</th>\n",
              "      <th>country</th>\n",
              "    </tr>\n",
              "  </thead>\n",
              "  <tbody>\n",
              "    <tr>\n",
              "      <th>0</th>\n",
              "      <td>-38.725</td>\n",
              "      <td>-62.169</td>\n",
              "      <td>Argentina</td>\n",
              "    </tr>\n",
              "    <tr>\n",
              "      <th>1</th>\n",
              "      <td>-34.676</td>\n",
              "      <td>-58.643</td>\n",
              "      <td>Argentina</td>\n",
              "    </tr>\n",
              "    <tr>\n",
              "      <th>2</th>\n",
              "      <td>-34.610</td>\n",
              "      <td>-58.613</td>\n",
              "      <td>Argentina</td>\n",
              "    </tr>\n",
              "    <tr>\n",
              "      <th>3</th>\n",
              "      <td>-34.822</td>\n",
              "      <td>-58.536</td>\n",
              "      <td>Argentina</td>\n",
              "    </tr>\n",
              "    <tr>\n",
              "      <th>4</th>\n",
              "      <td>-34.559</td>\n",
              "      <td>-58.416</td>\n",
              "      <td>Argentina</td>\n",
              "    </tr>\n",
              "  </tbody>\n",
              "</table>\n",
              "</div>"
            ],
            "text/plain": [
              "   latitude  longitude    country\n",
              "0   -38.725    -62.169  Argentina\n",
              "1   -34.676    -58.643  Argentina\n",
              "2   -34.610    -58.613  Argentina\n",
              "3   -34.822    -58.536  Argentina\n",
              "4   -34.559    -58.416  Argentina"
            ]
          },
          "metadata": {},
          "execution_count": 56
        }
      ]
    },
    {
      "cell_type": "code",
      "metadata": {
        "colab": {
          "base_uri": "https://localhost:8080/",
          "height": 422
        },
        "id": "NgZ_lcD802KZ",
        "outputId": "a9b46c66-3ead-4eed-fc82-09aa4eb40f21"
      },
      "source": [
        "df = pd.merge(zika, latlong, on=['country'])\n",
        "df"
      ],
      "execution_count": null,
      "outputs": [
        {
          "output_type": "execute_result",
          "data": {
            "text/html": [
              "<div>\n",
              "<style scoped>\n",
              "    .dataframe tbody tr th:only-of-type {\n",
              "        vertical-align: middle;\n",
              "    }\n",
              "\n",
              "    .dataframe tbody tr th {\n",
              "        vertical-align: top;\n",
              "    }\n",
              "\n",
              "    .dataframe thead th {\n",
              "        text-align: right;\n",
              "    }\n",
              "</style>\n",
              "<table border=\"1\" class=\"dataframe\">\n",
              "  <thead>\n",
              "    <tr style=\"text-align: right;\">\n",
              "      <th></th>\n",
              "      <th>report_date</th>\n",
              "      <th>country</th>\n",
              "      <th>cases</th>\n",
              "      <th>latitude</th>\n",
              "      <th>longitude</th>\n",
              "    </tr>\n",
              "  </thead>\n",
              "  <tbody>\n",
              "    <tr>\n",
              "      <th>0</th>\n",
              "      <td>2017-01-12</td>\n",
              "      <td>Argentina</td>\n",
              "      <td>0</td>\n",
              "      <td>-38.725</td>\n",
              "      <td>-62.169</td>\n",
              "    </tr>\n",
              "    <tr>\n",
              "      <th>1</th>\n",
              "      <td>2017-01-12</td>\n",
              "      <td>Argentina</td>\n",
              "      <td>0</td>\n",
              "      <td>-34.676</td>\n",
              "      <td>-58.643</td>\n",
              "    </tr>\n",
              "    <tr>\n",
              "      <th>2</th>\n",
              "      <td>2017-01-12</td>\n",
              "      <td>Argentina</td>\n",
              "      <td>0</td>\n",
              "      <td>-34.610</td>\n",
              "      <td>-58.613</td>\n",
              "    </tr>\n",
              "    <tr>\n",
              "      <th>3</th>\n",
              "      <td>2017-01-12</td>\n",
              "      <td>Argentina</td>\n",
              "      <td>0</td>\n",
              "      <td>-34.822</td>\n",
              "      <td>-58.536</td>\n",
              "    </tr>\n",
              "    <tr>\n",
              "      <th>4</th>\n",
              "      <td>2017-01-12</td>\n",
              "      <td>Argentina</td>\n",
              "      <td>0</td>\n",
              "      <td>-34.559</td>\n",
              "      <td>-58.416</td>\n",
              "    </tr>\n",
              "    <tr>\n",
              "      <th>...</th>\n",
              "      <td>...</td>\n",
              "      <td>...</td>\n",
              "      <td>...</td>\n",
              "      <td>...</td>\n",
              "      <td>...</td>\n",
              "    </tr>\n",
              "    <tr>\n",
              "      <th>3253458</th>\n",
              "      <td>2016-03-28</td>\n",
              "      <td>Panama</td>\n",
              "      <td>0</td>\n",
              "      <td>8.391</td>\n",
              "      <td>-82.435</td>\n",
              "    </tr>\n",
              "    <tr>\n",
              "      <th>3253459</th>\n",
              "      <td>2016-03-28</td>\n",
              "      <td>Panama</td>\n",
              "      <td>0</td>\n",
              "      <td>9.341</td>\n",
              "      <td>-82.251</td>\n",
              "    </tr>\n",
              "    <tr>\n",
              "      <th>3253460</th>\n",
              "      <td>2016-03-28</td>\n",
              "      <td>Panama</td>\n",
              "      <td>0</td>\n",
              "      <td>8.973</td>\n",
              "      <td>-79.556</td>\n",
              "    </tr>\n",
              "    <tr>\n",
              "      <th>3253461</th>\n",
              "      <td>2016-03-28</td>\n",
              "      <td>Panama</td>\n",
              "      <td>0</td>\n",
              "      <td>9.071</td>\n",
              "      <td>-79.383</td>\n",
              "    </tr>\n",
              "    <tr>\n",
              "      <th>3253462</th>\n",
              "      <td>2016-03-28</td>\n",
              "      <td>Panama</td>\n",
              "      <td>0</td>\n",
              "      <td>8.086</td>\n",
              "      <td>-80.945</td>\n",
              "    </tr>\n",
              "  </tbody>\n",
              "</table>\n",
              "<p>3253463 rows × 5 columns</p>\n",
              "</div>"
            ],
            "text/plain": [
              "        report_date    country  cases  latitude  longitude\n",
              "0        2017-01-12  Argentina      0   -38.725    -62.169\n",
              "1        2017-01-12  Argentina      0   -34.676    -58.643\n",
              "2        2017-01-12  Argentina      0   -34.610    -58.613\n",
              "3        2017-01-12  Argentina      0   -34.822    -58.536\n",
              "4        2017-01-12  Argentina      0   -34.559    -58.416\n",
              "...             ...        ...    ...       ...        ...\n",
              "3253458  2016-03-28     Panama      0     8.391    -82.435\n",
              "3253459  2016-03-28     Panama      0     9.341    -82.251\n",
              "3253460  2016-03-28     Panama      0     8.973    -79.556\n",
              "3253461  2016-03-28     Panama      0     9.071    -79.383\n",
              "3253462  2016-03-28     Panama      0     8.086    -80.945\n",
              "\n",
              "[3253463 rows x 5 columns]"
            ]
          },
          "metadata": {},
          "execution_count": 57
        }
      ]
    },
    {
      "cell_type": "code",
      "metadata": {
        "colab": {
          "base_uri": "https://localhost:8080/"
        },
        "id": "UMK4Rwtf1R-j",
        "outputId": "8bd156d6-3a1a-4c99-c819-48a69032cc91"
      },
      "source": [
        "df.shape"
      ],
      "execution_count": null,
      "outputs": [
        {
          "output_type": "execute_result",
          "data": {
            "text/plain": [
              "(3253463, 5)"
            ]
          },
          "metadata": {},
          "execution_count": 58
        }
      ]
    },
    {
      "cell_type": "code",
      "metadata": {
        "id": "SqtfnsHx2dif"
      },
      "source": [
        "# df.plot(x=\"longitude\", y=\"latitude\", kind=\"scatter\", c=\"cases\",\n",
        "#         colormap=\"YlOrRd\")"
      ],
      "execution_count": null,
      "outputs": []
    },
    {
      "cell_type": "code",
      "metadata": {
        "colab": {
          "base_uri": "https://localhost:8080/",
          "height": 595
        },
        "id": "QD-IWCTT3hfW",
        "outputId": "03f369fc-476b-4fa2-a15b-b2644043c22a"
      },
      "source": [
        "countries = gpd.read_file(gpd.datasets.get_path(\"naturalearth_lowres\"))\n",
        "countries"
      ],
      "execution_count": null,
      "outputs": [
        {
          "output_type": "execute_result",
          "data": {
            "text/html": [
              "<div>\n",
              "<style scoped>\n",
              "    .dataframe tbody tr th:only-of-type {\n",
              "        vertical-align: middle;\n",
              "    }\n",
              "\n",
              "    .dataframe tbody tr th {\n",
              "        vertical-align: top;\n",
              "    }\n",
              "\n",
              "    .dataframe thead th {\n",
              "        text-align: right;\n",
              "    }\n",
              "</style>\n",
              "<table border=\"1\" class=\"dataframe\">\n",
              "  <thead>\n",
              "    <tr style=\"text-align: right;\">\n",
              "      <th></th>\n",
              "      <th>pop_est</th>\n",
              "      <th>continent</th>\n",
              "      <th>name</th>\n",
              "      <th>iso_a3</th>\n",
              "      <th>gdp_md_est</th>\n",
              "      <th>geometry</th>\n",
              "    </tr>\n",
              "  </thead>\n",
              "  <tbody>\n",
              "    <tr>\n",
              "      <th>0</th>\n",
              "      <td>920938</td>\n",
              "      <td>Oceania</td>\n",
              "      <td>Fiji</td>\n",
              "      <td>FJI</td>\n",
              "      <td>8374.0</td>\n",
              "      <td>MULTIPOLYGON (((180.00000 -16.06713, 180.00000...</td>\n",
              "    </tr>\n",
              "    <tr>\n",
              "      <th>1</th>\n",
              "      <td>53950935</td>\n",
              "      <td>Africa</td>\n",
              "      <td>Tanzania</td>\n",
              "      <td>TZA</td>\n",
              "      <td>150600.0</td>\n",
              "      <td>POLYGON ((33.90371 -0.95000, 34.07262 -1.05982...</td>\n",
              "    </tr>\n",
              "    <tr>\n",
              "      <th>2</th>\n",
              "      <td>603253</td>\n",
              "      <td>Africa</td>\n",
              "      <td>W. Sahara</td>\n",
              "      <td>ESH</td>\n",
              "      <td>906.5</td>\n",
              "      <td>POLYGON ((-8.66559 27.65643, -8.66512 27.58948...</td>\n",
              "    </tr>\n",
              "    <tr>\n",
              "      <th>3</th>\n",
              "      <td>35623680</td>\n",
              "      <td>North America</td>\n",
              "      <td>Canada</td>\n",
              "      <td>CAN</td>\n",
              "      <td>1674000.0</td>\n",
              "      <td>MULTIPOLYGON (((-122.84000 49.00000, -122.9742...</td>\n",
              "    </tr>\n",
              "    <tr>\n",
              "      <th>4</th>\n",
              "      <td>326625791</td>\n",
              "      <td>North America</td>\n",
              "      <td>United States of America</td>\n",
              "      <td>USA</td>\n",
              "      <td>18560000.0</td>\n",
              "      <td>MULTIPOLYGON (((-122.84000 49.00000, -120.0000...</td>\n",
              "    </tr>\n",
              "    <tr>\n",
              "      <th>...</th>\n",
              "      <td>...</td>\n",
              "      <td>...</td>\n",
              "      <td>...</td>\n",
              "      <td>...</td>\n",
              "      <td>...</td>\n",
              "      <td>...</td>\n",
              "    </tr>\n",
              "    <tr>\n",
              "      <th>172</th>\n",
              "      <td>7111024</td>\n",
              "      <td>Europe</td>\n",
              "      <td>Serbia</td>\n",
              "      <td>SRB</td>\n",
              "      <td>101800.0</td>\n",
              "      <td>POLYGON ((18.82982 45.90887, 18.82984 45.90888...</td>\n",
              "    </tr>\n",
              "    <tr>\n",
              "      <th>173</th>\n",
              "      <td>642550</td>\n",
              "      <td>Europe</td>\n",
              "      <td>Montenegro</td>\n",
              "      <td>MNE</td>\n",
              "      <td>10610.0</td>\n",
              "      <td>POLYGON ((20.07070 42.58863, 19.80161 42.50009...</td>\n",
              "    </tr>\n",
              "    <tr>\n",
              "      <th>174</th>\n",
              "      <td>1895250</td>\n",
              "      <td>Europe</td>\n",
              "      <td>Kosovo</td>\n",
              "      <td>-99</td>\n",
              "      <td>18490.0</td>\n",
              "      <td>POLYGON ((20.59025 41.85541, 20.52295 42.21787...</td>\n",
              "    </tr>\n",
              "    <tr>\n",
              "      <th>175</th>\n",
              "      <td>1218208</td>\n",
              "      <td>North America</td>\n",
              "      <td>Trinidad and Tobago</td>\n",
              "      <td>TTO</td>\n",
              "      <td>43570.0</td>\n",
              "      <td>POLYGON ((-61.68000 10.76000, -61.10500 10.890...</td>\n",
              "    </tr>\n",
              "    <tr>\n",
              "      <th>176</th>\n",
              "      <td>13026129</td>\n",
              "      <td>Africa</td>\n",
              "      <td>S. Sudan</td>\n",
              "      <td>SSD</td>\n",
              "      <td>20880.0</td>\n",
              "      <td>POLYGON ((30.83385 3.50917, 29.95350 4.17370, ...</td>\n",
              "    </tr>\n",
              "  </tbody>\n",
              "</table>\n",
              "<p>177 rows × 6 columns</p>\n",
              "</div>"
            ],
            "text/plain": [
              "       pop_est  ...                                           geometry\n",
              "0       920938  ...  MULTIPOLYGON (((180.00000 -16.06713, 180.00000...\n",
              "1     53950935  ...  POLYGON ((33.90371 -0.95000, 34.07262 -1.05982...\n",
              "2       603253  ...  POLYGON ((-8.66559 27.65643, -8.66512 27.58948...\n",
              "3     35623680  ...  MULTIPOLYGON (((-122.84000 49.00000, -122.9742...\n",
              "4    326625791  ...  MULTIPOLYGON (((-122.84000 49.00000, -120.0000...\n",
              "..         ...  ...                                                ...\n",
              "172    7111024  ...  POLYGON ((18.82982 45.90887, 18.82984 45.90888...\n",
              "173     642550  ...  POLYGON ((20.07070 42.58863, 19.80161 42.50009...\n",
              "174    1895250  ...  POLYGON ((20.59025 41.85541, 20.52295 42.21787...\n",
              "175    1218208  ...  POLYGON ((-61.68000 10.76000, -61.10500 10.890...\n",
              "176   13026129  ...  POLYGON ((30.83385 3.50917, 29.95350 4.17370, ...\n",
              "\n",
              "[177 rows x 6 columns]"
            ]
          },
          "metadata": {},
          "execution_count": 145
        }
      ]
    },
    {
      "cell_type": "code",
      "metadata": {
        "colab": {
          "base_uri": "https://localhost:8080/",
          "height": 228
        },
        "id": "iMpsy3cp3pzp",
        "outputId": "0d200c08-e99b-4a75-d004-024c5de56fd9"
      },
      "source": [
        "countries.plot(color=\"lightgrey\")"
      ],
      "execution_count": null,
      "outputs": [
        {
          "output_type": "execute_result",
          "data": {
            "text/plain": [
              "<matplotlib.axes._subplots.AxesSubplot at 0x7f9596d4d9d0>"
            ]
          },
          "metadata": {},
          "execution_count": 61
        },
        {
          "output_type": "display_data",
          "data": {
            "image/png": "[encoded data removed]",
            "text/plain": [
              "<Figure size 432x288 with 1 Axes>"
            ]
          },
          "metadata": {
            "needs_background": "light"
          }
        }
      ]
    },
    {
      "cell_type": "code",
      "metadata": {
        "colab": {
          "base_uri": "https://localhost:8080/",
          "height": 283
        },
        "id": "ELAO7DskWmBb",
        "outputId": "080360e3-8032-48bc-e9a2-9a802f4fd7d3"
      },
      "source": [
        "countries[countries[\"continent\"] == \"South America\"].plot(color=\"lightgrey\")"
      ],
      "execution_count": null,
      "outputs": [
        {
          "output_type": "execute_result",
          "data": {
            "text/plain": [
              "<matplotlib.axes._subplots.AxesSubplot at 0x7f9595a86950>"
            ]
          },
          "metadata": {},
          "execution_count": 147
        },
        {
          "output_type": "display_data",
          "data": {
            "image/png": "[encoded data removed]",
            "text/plain": [
              "<Figure size 432x288 with 1 Axes>"
            ]
          },
          "metadata": {
            "needs_background": "light"
          }
        }
      ]
    },
    {
      "cell_type": "code",
      "metadata": {
        "colab": {
          "base_uri": "https://localhost:8080/",
          "height": 112
        },
        "id": "mWsxzKvt5zL9",
        "outputId": "01c3c93a-d00c-4cc8-bb07-004fe633ccb6"
      },
      "source": [
        "df.agg(Min_date=('report_date', np.min), Maximum_Date=('report_date', np.max))"
      ],
      "execution_count": null,
      "outputs": [
        {
          "output_type": "execute_result",
          "data": {
            "text/html": [
              "<div>\n",
              "<style scoped>\n",
              "    .dataframe tbody tr th:only-of-type {\n",
              "        vertical-align: middle;\n",
              "    }\n",
              "\n",
              "    .dataframe tbody tr th {\n",
              "        vertical-align: top;\n",
              "    }\n",
              "\n",
              "    .dataframe thead th {\n",
              "        text-align: right;\n",
              "    }\n",
              "</style>\n",
              "<table border=\"1\" class=\"dataframe\">\n",
              "  <thead>\n",
              "    <tr style=\"text-align: right;\">\n",
              "      <th></th>\n",
              "      <th>report_date</th>\n",
              "    </tr>\n",
              "  </thead>\n",
              "  <tbody>\n",
              "    <tr>\n",
              "      <th>Min_date</th>\n",
              "      <td>2015-11-28</td>\n",
              "    </tr>\n",
              "    <tr>\n",
              "      <th>Maximum_Date</th>\n",
              "      <td>2018-06-30</td>\n",
              "    </tr>\n",
              "  </tbody>\n",
              "</table>\n",
              "</div>"
            ],
            "text/plain": [
              "             report_date\n",
              "Min_date      2015-11-28\n",
              "Maximum_Date  2018-06-30"
            ]
          },
          "metadata": {},
          "execution_count": 62
        }
      ]
    },
    {
      "cell_type": "code",
      "metadata": {
        "colab": {
          "base_uri": "https://localhost:8080/",
          "height": 422
        },
        "id": "SvgBv7P467ES",
        "outputId": "3e86a898-0f57-4e2f-bf5d-7005111d09e8"
      },
      "source": [
        "df1 =  df[(df['report_date'] > '2018-02-01') & (df['report_date'] <= '2018-02-28')]\n",
        "df1"
      ],
      "execution_count": null,
      "outputs": [
        {
          "output_type": "execute_result",
          "data": {
            "text/html": [
              "<div>\n",
              "<style scoped>\n",
              "    .dataframe tbody tr th:only-of-type {\n",
              "        vertical-align: middle;\n",
              "    }\n",
              "\n",
              "    .dataframe tbody tr th {\n",
              "        vertical-align: top;\n",
              "    }\n",
              "\n",
              "    .dataframe thead th {\n",
              "        text-align: right;\n",
              "    }\n",
              "</style>\n",
              "<table border=\"1\" class=\"dataframe\">\n",
              "  <thead>\n",
              "    <tr style=\"text-align: right;\">\n",
              "      <th></th>\n",
              "      <th>report_date</th>\n",
              "      <th>country</th>\n",
              "      <th>cases</th>\n",
              "      <th>latitude</th>\n",
              "      <th>longitude</th>\n",
              "    </tr>\n",
              "  </thead>\n",
              "  <tbody>\n",
              "    <tr>\n",
              "      <th>2474340</th>\n",
              "      <td>2018-02-03</td>\n",
              "      <td>Mexico</td>\n",
              "      <td>0</td>\n",
              "      <td>26.956</td>\n",
              "      <td>-101.470</td>\n",
              "    </tr>\n",
              "    <tr>\n",
              "      <th>2474341</th>\n",
              "      <td>2018-02-03</td>\n",
              "      <td>Mexico</td>\n",
              "      <td>0</td>\n",
              "      <td>28.627</td>\n",
              "      <td>-100.535</td>\n",
              "    </tr>\n",
              "    <tr>\n",
              "      <th>2474342</th>\n",
              "      <td>2018-02-03</td>\n",
              "      <td>Mexico</td>\n",
              "      <td>0</td>\n",
              "      <td>18.835</td>\n",
              "      <td>-99.261</td>\n",
              "    </tr>\n",
              "    <tr>\n",
              "      <th>2474343</th>\n",
              "      <td>2018-02-03</td>\n",
              "      <td>Mexico</td>\n",
              "      <td>0</td>\n",
              "      <td>16.449</td>\n",
              "      <td>-95.094</td>\n",
              "    </tr>\n",
              "    <tr>\n",
              "      <th>2474344</th>\n",
              "      <td>2018-02-03</td>\n",
              "      <td>Mexico</td>\n",
              "      <td>0</td>\n",
              "      <td>16.757</td>\n",
              "      <td>-99.754</td>\n",
              "    </tr>\n",
              "    <tr>\n",
              "      <th>...</th>\n",
              "      <td>...</td>\n",
              "      <td>...</td>\n",
              "      <td>...</td>\n",
              "      <td>...</td>\n",
              "      <td>...</td>\n",
              "    </tr>\n",
              "    <tr>\n",
              "      <th>2500063</th>\n",
              "      <td>2018-02-24</td>\n",
              "      <td>Mexico</td>\n",
              "      <td>0</td>\n",
              "      <td>19.397</td>\n",
              "      <td>-102.039</td>\n",
              "    </tr>\n",
              "    <tr>\n",
              "      <th>2500064</th>\n",
              "      <td>2018-02-24</td>\n",
              "      <td>Mexico</td>\n",
              "      <td>0</td>\n",
              "      <td>19.146</td>\n",
              "      <td>-96.187</td>\n",
              "    </tr>\n",
              "    <tr>\n",
              "      <th>2500065</th>\n",
              "      <td>2018-02-24</td>\n",
              "      <td>Mexico</td>\n",
              "      <td>0</td>\n",
              "      <td>17.997</td>\n",
              "      <td>-92.817</td>\n",
              "    </tr>\n",
              "    <tr>\n",
              "      <th>2500066</th>\n",
              "      <td>2018-02-24</td>\n",
              "      <td>Mexico</td>\n",
              "      <td>0</td>\n",
              "      <td>22.897</td>\n",
              "      <td>-102.687</td>\n",
              "    </tr>\n",
              "    <tr>\n",
              "      <th>2500067</th>\n",
              "      <td>2018-02-24</td>\n",
              "      <td>Mexico</td>\n",
              "      <td>0</td>\n",
              "      <td>17.602</td>\n",
              "      <td>-101.461</td>\n",
              "    </tr>\n",
              "  </tbody>\n",
              "</table>\n",
              "<p>25728 rows × 5 columns</p>\n",
              "</div>"
            ],
            "text/plain": [
              "        report_date country  cases  latitude  longitude\n",
              "2474340  2018-02-03  Mexico      0    26.956   -101.470\n",
              "2474341  2018-02-03  Mexico      0    28.627   -100.535\n",
              "2474342  2018-02-03  Mexico      0    18.835    -99.261\n",
              "2474343  2018-02-03  Mexico      0    16.449    -95.094\n",
              "2474344  2018-02-03  Mexico      0    16.757    -99.754\n",
              "...             ...     ...    ...       ...        ...\n",
              "2500063  2018-02-24  Mexico      0    19.397   -102.039\n",
              "2500064  2018-02-24  Mexico      0    19.146    -96.187\n",
              "2500065  2018-02-24  Mexico      0    17.997    -92.817\n",
              "2500066  2018-02-24  Mexico      0    22.897   -102.687\n",
              "2500067  2018-02-24  Mexico      0    17.602   -101.461\n",
              "\n",
              "[25728 rows x 5 columns]"
            ]
          },
          "metadata": {},
          "execution_count": 143
        }
      ]
    },
    {
      "cell_type": "code",
      "metadata": {
        "colab": {
          "base_uri": "https://localhost:8080/",
          "height": 693
        },
        "id": "qiJhuX6b32Jx",
        "outputId": "453edc3c-79ff-4bfe-cd4a-dec68ff8d594"
      },
      "source": [
        "# initialize an axis\n",
        "fig, ax = plt.subplots(figsize=(14,12))\n",
        "\n",
        "# plot map on axis\n",
        "countries = gpd.read_file(  gpd.datasets.get_path(\"naturalearth_lowres\"))\n",
        "countries.plot(color=\"lightgrey\", ax=ax)\n",
        "\n",
        "# plot points\n",
        "df1.plot(x=\"longitude\", y=\"latitude\", kind=\"scatter\", \n",
        "        c=\"cases\",  colormap=\"Dark2\", \n",
        "        title='February 2018', \n",
        "        ax=ax)\n",
        "# add grid\n",
        "ax.grid(b=True, alpha=0.5)\n",
        "plt.show()"
      ],
      "execution_count": null,
      "outputs": [
        {
          "output_type": "display_data",
          "data": {
            "image/png": "[encoded data removed]",
            "text/plain": [
              "<Figure size 1008x864 with 2 Axes>"
            ]
          },
          "metadata": {
            "needs_background": "light"
          }
        }
      ]
    },
    {
      "cell_type": "code",
      "metadata": {
        "id": "k-ddqYGc78ef"
      },
      "source": [
        ""
      ],
      "execution_count": null,
      "outputs": []
    }
  ]
}