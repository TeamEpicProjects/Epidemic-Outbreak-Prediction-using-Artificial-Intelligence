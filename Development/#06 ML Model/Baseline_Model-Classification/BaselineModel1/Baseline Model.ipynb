{
 "cells": [
  {
   "cell_type": "code",
   "execution_count": 29,
   "id": "9b0c51b1",
   "metadata": {
    "hide_input": true
   },
   "outputs": [],
   "source": [
    "import numpy as np #import numpy\n",
    "import pandas as pd #import pandas\n",
    "import seaborn as sns # import seaborn\n",
    "import matplotlib.pyplot as plt #import pyplot\n",
    "from scipy.stats import pearsonr #for pearson's correlation\n",
    "\n",
    "from sklearn.model_selection import train_test_split #for splitting the data in train and test\n",
    "from sklearn.preprocessing import StandardScaler,MinMaxScaler,RobustScaler #for various scaling methods\n",
    "from sklearn.linear_model import LogisticRegression #for LogisticRegression\n",
    "from sklearn.naive_bayes import GaussianNB #for NaiveBayes\n",
    "from sklearn.neighbors import KNeighborsClassifier #for KNN\n",
    "from sklearn.svm import SVC #for Support vector classifier\n",
    "from sklearn.model_selection import cross_val_score\n",
    "from sklearn.tree import DecisionTreeClassifier\n",
    "\n",
    "from sklearn.ensemble import RandomForestClassifier\n",
    "\n",
    "from sklearn.metrics import accuracy_score,confusion_matrix,recall_score #for accuracy matrices\n",
    "from sklearn.metrics import precision_score,classification_report,roc_auc_score,precision_score #for accuracy matrices\n"
   ]
  },
  {
   "cell_type": "code",
   "execution_count": 3,
   "id": "f05d4c12",
   "metadata": {
    "hide_input": false
   },
   "outputs": [],
   "source": [
    "# import library\n",
    "import pandas as pd\n",
    "import numpy as np\n",
    "import matplotlib.pyplot as plt\n",
    "import seaborn as sns\n",
    "sns.set()\n",
    "\n",
    "import matplotlib.style as style\n",
    "%matplotlib inline\n",
    "style.use('ggplot')\n",
    "\n",
    "from sklearn.preprocessing import MinMaxScaler\n",
    "from sklearn.model_selection import train_test_split\n",
    "\n",
    "import warnings\n",
    "warnings.simplefilter(\"ignore\")\n",
    "\n",
    "pd.pandas.set_option('display.max_columns',None)"
   ]
  },
  {
   "cell_type": "code",
   "execution_count": 42,
   "id": "ecaa7c39",
   "metadata": {},
   "outputs": [
    {
     "data": {
      "text/html": [
       "<div>\n",
       "<style scoped>\n",
       "    .dataframe tbody tr th:only-of-type {\n",
       "        vertical-align: middle;\n",
       "    }\n",
       "\n",
       "    .dataframe tbody tr th {\n",
       "        vertical-align: top;\n",
       "    }\n",
       "\n",
       "    .dataframe thead th {\n",
       "        text-align: right;\n",
       "    }\n",
       "</style>\n",
       "<table border=\"1\" class=\"dataframe\">\n",
       "  <thead>\n",
       "    <tr style=\"text-align: right;\">\n",
       "      <th></th>\n",
       "      <th>density_per_km</th>\n",
       "      <th>latitude</th>\n",
       "      <th>longitude</th>\n",
       "      <th>maxtempC</th>\n",
       "      <th>mintempC</th>\n",
       "      <th>totalSnow_cm</th>\n",
       "      <th>sunHour</th>\n",
       "      <th>moon_illumination</th>\n",
       "      <th>DewPointC</th>\n",
       "      <th>WindGustKmph</th>\n",
       "      <th>cloudcover</th>\n",
       "      <th>humidity</th>\n",
       "      <th>precipMM</th>\n",
       "      <th>pressure</th>\n",
       "      <th>visibility</th>\n",
       "      <th>winddirDegree</th>\n",
       "      <th>year</th>\n",
       "      <th>month</th>\n",
       "      <th>Target</th>\n",
       "    </tr>\n",
       "  </thead>\n",
       "  <tbody>\n",
       "    <tr>\n",
       "      <th>0</th>\n",
       "      <td>12625.800781</td>\n",
       "      <td>-34.603684</td>\n",
       "      <td>-58.381559</td>\n",
       "      <td>24</td>\n",
       "      <td>7</td>\n",
       "      <td>0.0</td>\n",
       "      <td>11.6</td>\n",
       "      <td>87</td>\n",
       "      <td>6</td>\n",
       "      <td>16</td>\n",
       "      <td>0</td>\n",
       "      <td>59</td>\n",
       "      <td>0.0</td>\n",
       "      <td>1018</td>\n",
       "      <td>10</td>\n",
       "      <td>189</td>\n",
       "      <td>2016</td>\n",
       "      <td>3</td>\n",
       "      <td>1</td>\n",
       "    </tr>\n",
       "    <tr>\n",
       "      <th>1</th>\n",
       "      <td>12625.800781</td>\n",
       "      <td>-34.603684</td>\n",
       "      <td>-58.381559</td>\n",
       "      <td>24</td>\n",
       "      <td>7</td>\n",
       "      <td>0.0</td>\n",
       "      <td>11.6</td>\n",
       "      <td>87</td>\n",
       "      <td>6</td>\n",
       "      <td>16</td>\n",
       "      <td>0</td>\n",
       "      <td>59</td>\n",
       "      <td>0.0</td>\n",
       "      <td>1018</td>\n",
       "      <td>10</td>\n",
       "      <td>189</td>\n",
       "      <td>2016</td>\n",
       "      <td>3</td>\n",
       "      <td>0</td>\n",
       "    </tr>\n",
       "    <tr>\n",
       "      <th>2</th>\n",
       "      <td>12625.800781</td>\n",
       "      <td>-34.603684</td>\n",
       "      <td>-58.381559</td>\n",
       "      <td>24</td>\n",
       "      <td>7</td>\n",
       "      <td>0.0</td>\n",
       "      <td>11.6</td>\n",
       "      <td>87</td>\n",
       "      <td>6</td>\n",
       "      <td>16</td>\n",
       "      <td>0</td>\n",
       "      <td>59</td>\n",
       "      <td>0.0</td>\n",
       "      <td>1018</td>\n",
       "      <td>10</td>\n",
       "      <td>189</td>\n",
       "      <td>2016</td>\n",
       "      <td>3</td>\n",
       "      <td>1</td>\n",
       "    </tr>\n",
       "    <tr>\n",
       "      <th>3</th>\n",
       "      <td>12625.800781</td>\n",
       "      <td>-34.603684</td>\n",
       "      <td>-58.381559</td>\n",
       "      <td>24</td>\n",
       "      <td>7</td>\n",
       "      <td>0.0</td>\n",
       "      <td>11.6</td>\n",
       "      <td>87</td>\n",
       "      <td>6</td>\n",
       "      <td>16</td>\n",
       "      <td>0</td>\n",
       "      <td>59</td>\n",
       "      <td>0.0</td>\n",
       "      <td>1018</td>\n",
       "      <td>10</td>\n",
       "      <td>189</td>\n",
       "      <td>2016</td>\n",
       "      <td>3</td>\n",
       "      <td>0</td>\n",
       "    </tr>\n",
       "    <tr>\n",
       "      <th>4</th>\n",
       "      <td>12625.800781</td>\n",
       "      <td>-34.603684</td>\n",
       "      <td>-58.381559</td>\n",
       "      <td>22</td>\n",
       "      <td>10</td>\n",
       "      <td>0.0</td>\n",
       "      <td>11.5</td>\n",
       "      <td>76</td>\n",
       "      <td>10</td>\n",
       "      <td>27</td>\n",
       "      <td>34</td>\n",
       "      <td>72</td>\n",
       "      <td>0.0</td>\n",
       "      <td>1025</td>\n",
       "      <td>10</td>\n",
       "      <td>99</td>\n",
       "      <td>2016</td>\n",
       "      <td>3</td>\n",
       "      <td>0</td>\n",
       "    </tr>\n",
       "  </tbody>\n",
       "</table>\n",
       "</div>"
      ],
      "text/plain": [
       "   density_per_km   latitude  longitude  maxtempC  mintempC  totalSnow_cm  \\\n",
       "0    12625.800781 -34.603684 -58.381559        24         7           0.0   \n",
       "1    12625.800781 -34.603684 -58.381559        24         7           0.0   \n",
       "2    12625.800781 -34.603684 -58.381559        24         7           0.0   \n",
       "3    12625.800781 -34.603684 -58.381559        24         7           0.0   \n",
       "4    12625.800781 -34.603684 -58.381559        22        10           0.0   \n",
       "\n",
       "   sunHour  moon_illumination  DewPointC  WindGustKmph  cloudcover  humidity  \\\n",
       "0     11.6                 87          6            16           0        59   \n",
       "1     11.6                 87          6            16           0        59   \n",
       "2     11.6                 87          6            16           0        59   \n",
       "3     11.6                 87          6            16           0        59   \n",
       "4     11.5                 76         10            27          34        72   \n",
       "\n",
       "   precipMM  pressure  visibility  winddirDegree  year  month  Target  \n",
       "0       0.0      1018          10            189  2016      3       1  \n",
       "1       0.0      1018          10            189  2016      3       0  \n",
       "2       0.0      1018          10            189  2016      3       1  \n",
       "3       0.0      1018          10            189  2016      3       0  \n",
       "4       0.0      1025          10             99  2016      3       0  "
      ]
     },
     "execution_count": 42,
     "metadata": {},
     "output_type": "execute_result"
    }
   ],
   "source": [
    "df = pd.read_csv('classification_dataset.csv')\n",
    "df.head()"
   ]
  },
  {
   "cell_type": "code",
   "execution_count": 5,
   "id": "2f1c508e",
   "metadata": {},
   "outputs": [
    {
     "data": {
      "text/plain": [
       "Index(['density_per_km', 'latitude', 'longitude', 'maxtempC', 'mintempC',\n",
       "       'totalSnow_cm', 'sunHour', 'moon_illumination', 'DewPointC',\n",
       "       'WindGustKmph', 'cloudcover', 'humidity', 'precipMM', 'pressure',\n",
       "       'visibility', 'winddirDegree', 'year', 'month', 'Target'],\n",
       "      dtype='object')"
      ]
     },
     "execution_count": 5,
     "metadata": {},
     "output_type": "execute_result"
    }
   ],
   "source": [
    "df.columns"
   ]
  },
  {
   "cell_type": "code",
   "execution_count": 6,
   "id": "6154770f",
   "metadata": {},
   "outputs": [
    {
     "data": {
      "text/plain": [
       "(155223, 19)"
      ]
     },
     "execution_count": 6,
     "metadata": {},
     "output_type": "execute_result"
    }
   ],
   "source": [
    "df.shape"
   ]
  },
  {
   "cell_type": "code",
   "execution_count": 7,
   "id": "5288761a",
   "metadata": {},
   "outputs": [
    {
     "data": {
      "text/plain": [
       "0    89843\n",
       "1    65380\n",
       "Name: Target, dtype: int64"
      ]
     },
     "execution_count": 7,
     "metadata": {},
     "output_type": "execute_result"
    }
   ],
   "source": [
    "df.Target.value_counts()"
   ]
  },
  {
   "cell_type": "code",
   "execution_count": 43,
   "id": "ef7dfc2b",
   "metadata": {},
   "outputs": [
    {
     "data": {
      "text/plain": [
       "79878"
      ]
     },
     "execution_count": 43,
     "metadata": {},
     "output_type": "execute_result"
    }
   ],
   "source": [
    "# Total no of duplicate rows\n",
    "df.duplicated().sum()"
   ]
  },
  {
   "cell_type": "code",
   "execution_count": 44,
   "id": "1095363f",
   "metadata": {},
   "outputs": [],
   "source": [
    "# Remove duplicate rows\n",
    "df = df.drop_duplicates(keep='first', inplace=False)"
   ]
  },
  {
   "cell_type": "markdown",
   "id": "0e60cf16",
   "metadata": {},
   "source": [
    "# Method 1"
   ]
  },
  {
   "cell_type": "code",
   "execution_count": 31,
   "id": "5e18649e",
   "metadata": {
    "hide_input": false
   },
   "outputs": [
    {
     "name": "stdout",
     "output_type": "stream",
     "text": [
      "Accuracy of Logistic Regression :0.57\n",
      "Accuracy of Naive Bayes :0.56\n",
      "Accuracy of Random forest :0.44\n",
      "Accuracy of Decision Tree :0.42\n"
     ]
    }
   ],
   "source": [
    "feature_scale = [feature for feature in df.columns if feature in ['density_per_km','precipMM']]\n",
    "\n",
    "scaler=MinMaxScaler()\n",
    "scaler.fit(df[feature_scale])\n",
    "\n",
    "# transform the train and test set, and add on the Id and SalePrice variables\n",
    "data = pd.concat([df[['Target','latitude', 'longitude', 'maxtempC', 'mintempC',\n",
    "       'totalSnow_cm', 'sunHour', 'moon_illumination', 'DewPointC',\n",
    "       'WindGustKmph', 'cloudcover', 'humidity', 'pressure',\n",
    "       'visibility', 'winddirDegree', 'year', 'month']].reset_index(drop=True),\n",
    "                    pd.DataFrame(scaler.transform(df[feature_scale]), columns=feature_scale)],axis=1)\n",
    "\n",
    "X = data[['latitude', 'longitude', 'maxtempC', 'mintempC',\n",
    "       'totalSnow_cm', 'sunHour', 'moon_illumination', 'DewPointC',\n",
    "       'WindGustKmph', 'cloudcover', 'humidity', 'pressure', 'visibility',\n",
    "       'winddirDegree', 'year', 'month', 'density_per_km', 'precipMM']]\n",
    "\n",
    "y = data['Target']\n",
    "\n",
    "X = df.drop('Target',axis=1) #independent dimensions  \n",
    "y = df['Target'] #selecting target column\n",
    "X_train,X_test,y_train,y_test = train_test_split(X,y,test_size=0.50,random_state=1) #train test split in 50:50 ratio\n",
    "\n",
    "# Logistic Regression\n",
    "logic_r = LogisticRegression() \n",
    "logic_r.fit(X_train,y_train) \n",
    "log_y_pred = logic_r.predict(X_test)\n",
    "LR_accuracy = accuracy_score(y_test,log_y_pred)\n",
    "print('Accuracy of Logistic Regression :{:.2f}'.format(LR_accuracy))\n",
    "\n",
    "# Naive bayes\n",
    "NB = GaussianNB()   #Instantiate the Gaussian Naive bayes \n",
    "NB.fit(X_train,y_train) #Call the fit method of NB to train the model or to learn the parameters of model\n",
    "NB_y_pred = NB.predict(X_test)\n",
    "NB_accuracy = accuracy_score(y_test,NB_y_pred)\n",
    "print('Accuracy of Naive Bayes :{:.2f}'.format(NB_accuracy))\n",
    "\n",
    "# Random forest\n",
    "classifier=RandomForestClassifier()\n",
    "classifier.fit(X_train,y_train)\n",
    "rand_y_pred=classifier.predict(X_test)\n",
    "print('Accuracy of Random forest :{:.2f}'.format(accuracy_score(y_test,rand_y_pred)))\n",
    "\n",
    "# Decision Tree\n",
    "dtree=DecisionTreeClassifier()\n",
    "dtree.fit(X_train,y_train)\n",
    "tree_y_pred = dtree.predict(X_test)\n",
    "print('Accuracy of Decision Tree :{:.2f}'.format(accuracy_score(y_test,tree_y_pred)))"
   ]
  },
  {
   "cell_type": "markdown",
   "id": "a630038b",
   "metadata": {},
   "source": [
    "# Method 2 - MinMaxScaler"
   ]
  },
  {
   "cell_type": "code",
   "execution_count": 45,
   "id": "1ade6e82",
   "metadata": {
    "hide_input": true
   },
   "outputs": [
    {
     "name": "stdout",
     "output_type": "stream",
     "text": [
      "Accuracy of Logistic Regression :0.57\n",
      "Accuracy of Naive Bayes :0.56\n",
      "Accuracy of Random forest :0.44\n",
      "Accuracy of Decision Tree :0.42\n"
     ]
    }
   ],
   "source": [
    "feature_scale = [feature for feature in df.columns if feature not in ['Target']]\n",
    "\n",
    "scaler=MinMaxScaler()\n",
    "scaler.fit(df[feature_scale])\n",
    "\n",
    "# transform the train and test set, and add on the Id and SalePrice variables\n",
    "data = pd.concat([df[['Target']].reset_index(drop=True),\n",
    "                    pd.DataFrame(scaler.transform(df[feature_scale]), columns=feature_scale)],axis=1)\n",
    "\n",
    "X = data[['latitude', 'longitude', 'maxtempC', 'mintempC',\n",
    "       'totalSnow_cm', 'sunHour', 'moon_illumination', 'DewPointC',\n",
    "       'WindGustKmph', 'cloudcover', 'humidity', 'pressure', 'visibility',\n",
    "       'winddirDegree', 'year', 'month', 'density_per_km', 'precipMM']]\n",
    "\n",
    "y = data['Target']\n",
    "\n",
    "X = df.drop('Target',axis=1) #independent dimensions  \n",
    "y = df['Target'] #selecting target column\n",
    "X_train,X_test,y_train,y_test = train_test_split(X,y,test_size=0.50,random_state=1) #train test split in 50:50 ratio\n",
    "\n",
    "# Logistic Regression\n",
    "logic_r = LogisticRegression() \n",
    "logic_r.fit(X_train,y_train) \n",
    "log_y_pred = logic_r.predict(X_test)\n",
    "LR_accuracy = accuracy_score(y_test,log_y_pred)\n",
    "print('Accuracy of Logistic Regression :{:.2f}'.format(LR_accuracy))\n",
    "\n",
    "# Naive bayes\n",
    "NB = GaussianNB()   #Instantiate the Gaussian Naive bayes \n",
    "NB.fit(X_train,y_train) #Call the fit method of NB to train the model or to learn the parameters of model\n",
    "NB_y_pred = NB.predict(X_test)\n",
    "NB_accuracy = accuracy_score(y_test,NB_y_pred)\n",
    "print('Accuracy of Naive Bayes :{:.2f}'.format(NB_accuracy))\n",
    "\n",
    "# Random forest\n",
    "classifier=RandomForestClassifier()\n",
    "classifier.fit(X_train,y_train)\n",
    "rand_y_pred=classifier.predict(X_test)\n",
    "print('Accuracy of Random forest :{:.2f}'.format(accuracy_score(y_test,rand_y_pred)))\n",
    "\n",
    "# Decision Tree\n",
    "dtree=DecisionTreeClassifier()\n",
    "dtree.fit(X_train,y_train)\n",
    "tree_y_pred = dtree.predict(X_test)\n",
    "print('Accuracy of Decision Tree :{:.2f}'.format(accuracy_score(y_test,tree_y_pred)))"
   ]
  },
  {
   "cell_type": "markdown",
   "id": "94f62cd9",
   "metadata": {},
   "source": [
    "# Method 3 - StandardScaler"
   ]
  },
  {
   "cell_type": "code",
   "execution_count": 40,
   "id": "ea9cd2ae",
   "metadata": {
    "hide_input": true
   },
   "outputs": [
    {
     "name": "stdout",
     "output_type": "stream",
     "text": [
      "Accuracy of Logistic Regression :0.57\n",
      "Accuracy of Naive Bayes :0.56\n",
      "Accuracy of Random forest :0.44\n",
      "Accuracy of Decision Tree :0.42\n"
     ]
    }
   ],
   "source": [
    "feature_scale = [feature for feature in df.columns if feature not in ['Target']]\n",
    "\n",
    "scaler=StandardScaler()\n",
    "scaler.fit(df[feature_scale])\n",
    "\n",
    "# transform the train and test set, and add on the Id and SalePrice variables\n",
    "data = pd.concat([df[['Target']].reset_index(drop=True),\n",
    "                    pd.DataFrame(scaler.transform(df[feature_scale]), columns=feature_scale)],axis=1)\n",
    "\n",
    "X = data[['latitude', 'longitude', 'maxtempC', 'mintempC',\n",
    "       'totalSnow_cm', 'sunHour', 'moon_illumination', 'DewPointC',\n",
    "       'WindGustKmph', 'cloudcover', 'humidity', 'pressure', 'visibility',\n",
    "       'winddirDegree', 'year', 'month', 'density_per_km', 'precipMM']]\n",
    "\n",
    "y = data['Target']\n",
    "\n",
    "X = df.drop('Target',axis=1) #independent dimensions  \n",
    "y = df['Target'] #selecting target column\n",
    "X_train,X_test,y_train,y_test = train_test_split(X,y,test_size=0.50,random_state=1) #train test split in 50:50 ratio\n",
    "\n",
    "# Logistic Regression\n",
    "logic_r = LogisticRegression() \n",
    "logic_r.fit(X_train,y_train) \n",
    "log_y_pred = logic_r.predict(X_test)\n",
    "LR_accuracy = accuracy_score(y_test,log_y_pred)\n",
    "print('Accuracy of Logistic Regression :{:.2f}'.format(LR_accuracy))\n",
    "\n",
    "# Naive bayes\n",
    "NB = GaussianNB()   #Instantiate the Gaussian Naive bayes \n",
    "NB.fit(X_train,y_train) #Call the fit method of NB to train the model or to learn the parameters of model\n",
    "NB_y_pred = NB.predict(X_test)\n",
    "NB_accuracy = accuracy_score(y_test,NB_y_pred)\n",
    "print('Accuracy of Naive Bayes :{:.2f}'.format(NB_accuracy))\n",
    "\n",
    "# Random forest\n",
    "classifier=RandomForestClassifier()\n",
    "classifier.fit(X_train,y_train)\n",
    "rand_y_pred=classifier.predict(X_test)\n",
    "print('Accuracy of Random forest :{:.2f}'.format(accuracy_score(y_test,rand_y_pred)))\n",
    "\n",
    "# Decision Tree\n",
    "dtree=DecisionTreeClassifier()\n",
    "dtree.fit(X_train,y_train)\n",
    "tree_y_pred = dtree.predict(X_test)\n",
    "print('Accuracy of Decision Tree :{:.2f}'.format(accuracy_score(y_test,tree_y_pred)))"
   ]
  },
  {
   "cell_type": "markdown",
   "id": "49b78887",
   "metadata": {},
   "source": [
    "# Method 4 - RobustScaler"
   ]
  },
  {
   "cell_type": "code",
   "execution_count": 46,
   "id": "e4038f2c",
   "metadata": {
    "hide_input": true
   },
   "outputs": [
    {
     "name": "stdout",
     "output_type": "stream",
     "text": [
      "Accuracy of Logistic Regression :0.57\n",
      "Accuracy of Naive Bayes :0.56\n",
      "Accuracy of Random forest :0.44\n",
      "Accuracy of Decision Tree :0.42\n"
     ]
    }
   ],
   "source": [
    "feature_scale = [feature for feature in df.columns if feature not in ['Target']]\n",
    "\n",
    "scaler=RobustScaler()\n",
    "scaler.fit(df[feature_scale])\n",
    "\n",
    "# transform the train and test set, and add on the Id and SalePrice variables\n",
    "data = pd.concat([df[['Target']].reset_index(drop=True),\n",
    "                    pd.DataFrame(scaler.transform(df[feature_scale]), columns=feature_scale)],axis=1)\n",
    "\n",
    "X = data[['latitude', 'longitude', 'maxtempC', 'mintempC',\n",
    "       'totalSnow_cm', 'sunHour', 'moon_illumination', 'DewPointC',\n",
    "       'WindGustKmph', 'cloudcover', 'humidity', 'pressure', 'visibility',\n",
    "       'winddirDegree', 'year', 'month', 'density_per_km', 'precipMM']]\n",
    "\n",
    "y = data['Target']\n",
    "\n",
    "X = df.drop('Target',axis=1) #independent dimensions  \n",
    "y = df['Target'] #selecting target column\n",
    "X_train,X_test,y_train,y_test = train_test_split(X,y,test_size=0.50,random_state=1) #train test split in 50:50 ratio\n",
    "\n",
    "# Logistic Regression\n",
    "logic_r = LogisticRegression() \n",
    "logic_r.fit(X_train,y_train) \n",
    "log_y_pred = logic_r.predict(X_test)\n",
    "LR_accuracy = accuracy_score(y_test,log_y_pred)\n",
    "print('Accuracy of Logistic Regression :{:.2f}'.format(LR_accuracy))\n",
    "\n",
    "# Naive bayes\n",
    "NB = GaussianNB()   #Instantiate the Gaussian Naive bayes \n",
    "NB.fit(X_train,y_train) #Call the fit method of NB to train the model or to learn the parameters of model\n",
    "NB_y_pred = NB.predict(X_test)\n",
    "NB_accuracy = accuracy_score(y_test,NB_y_pred)\n",
    "print('Accuracy of Naive Bayes :{:.2f}'.format(NB_accuracy))\n",
    "\n",
    "# Random forest\n",
    "classifier=RandomForestClassifier()\n",
    "classifier.fit(X_train,y_train)\n",
    "rand_y_pred=classifier.predict(X_test)\n",
    "print('Accuracy of Random forest :{:.2f}'.format(accuracy_score(y_test,rand_y_pred)))\n",
    "\n",
    "# Decision Tree\n",
    "dtree=DecisionTreeClassifier()\n",
    "dtree.fit(X_train,y_train)\n",
    "tree_y_pred = dtree.predict(X_test)\n",
    "print('Accuracy of Decision Tree :{:.2f}'.format(accuracy_score(y_test,tree_y_pred)))"
   ]
  },
  {
   "cell_type": "code",
   "execution_count": null,
   "id": "0a9abdbb",
   "metadata": {},
   "outputs": [],
   "source": []
  },
  {
   "cell_type": "code",
   "execution_count": 51,
   "id": "e228dc93",
   "metadata": {},
   "outputs": [
    {
     "name": "stdout",
     "output_type": "stream",
     "text": [
      "Accuracy of Logistic Regression :0.56\n",
      "Accuracy of Naive Bayes :0.56\n",
      "Accuracy of Random forest :0.43\n",
      "Accuracy of Decision Tree :0.42\n"
     ]
    }
   ],
   "source": [
    "feature_scale = [feature for feature in df.columns if feature not in ['Target']]\n",
    "\n",
    "scaler=MinMaxScaler()\n",
    "scaler.fit(df[feature_scale])\n",
    "\n",
    "# transform the train and test set, and add on the Id and SalePrice variables\n",
    "data = pd.concat([df[['Target']].reset_index(drop=True),\n",
    "                    pd.DataFrame(scaler.transform(df[feature_scale]), columns=feature_scale)],axis=1)\n",
    "\n",
    "X = data[['latitude', 'longitude', 'maxtempC', 'mintempC',\n",
    "       'totalSnow_cm', 'sunHour', 'moon_illumination', 'DewPointC',\n",
    "       'WindGustKmph', 'cloudcover', 'humidity', 'pressure', 'visibility',\n",
    "       'winddirDegree', 'year', 'month', 'density_per_km']]\n",
    "\n",
    "y = data['Target']\n",
    "\n",
    "X = df.drop('Target',axis=1) #independent dimensions  \n",
    "y = df['Target'] #selecting target column\n",
    "X_train,X_test,y_train,y_test = train_test_split(X,y,test_size=0.50,random_state=10) #train test split in 50:50 ratio\n",
    "\n",
    "# Logistic Regression\n",
    "logic_r = LogisticRegression() \n",
    "logic_r.fit(X_train,y_train) \n",
    "log_y_pred = logic_r.predict(X_test)\n",
    "LR_accuracy = accuracy_score(y_test,log_y_pred)\n",
    "print('Accuracy of Logistic Regression :{:.2f}'.format(LR_accuracy))\n",
    "\n",
    "# Naive bayes\n",
    "NB = GaussianNB()   #Instantiate the Gaussian Naive bayes \n",
    "NB.fit(X_train,y_train) #Call the fit method of NB to train the model or to learn the parameters of model\n",
    "NB_y_pred = NB.predict(X_test)\n",
    "NB_accuracy = accuracy_score(y_test,NB_y_pred)\n",
    "print('Accuracy of Naive Bayes :{:.2f}'.format(NB_accuracy))\n",
    "\n",
    "# Random forest\n",
    "classifier=RandomForestClassifier()\n",
    "classifier.fit(X_train,y_train)\n",
    "rand_y_pred=classifier.predict(X_test)\n",
    "print('Accuracy of Random forest :{:.2f}'.format(accuracy_score(y_test,rand_y_pred)))\n",
    "\n",
    "# Decision Tree\n",
    "dtree=DecisionTreeClassifier()\n",
    "dtree.fit(X_train,y_train)\n",
    "tree_y_pred = dtree.predict(X_test)\n",
    "print('Accuracy of Decision Tree :{:.2f}'.format(accuracy_score(y_test,tree_y_pred)))"
   ]
  }
 ],
 "metadata": {
  "kernelspec": {
   "display_name": "Python 3",
   "language": "python",
   "name": "python3"
  },
  "language_info": {
   "codemirror_mode": {
    "name": "ipython",
    "version": 3
   },
   "file_extension": ".py",
   "mimetype": "text/x-python",
   "name": "python",
   "nbconvert_exporter": "python",
   "pygments_lexer": "ipython3",
   "version": "3.7.11"
  },
  "varInspector": {
   "cols": {
    "lenName": 16,
    "lenType": 16,
    "lenVar": 40
   },
   "kernels_config": {
    "python": {
     "delete_cmd_postfix": "",
     "delete_cmd_prefix": "del ",
     "library": "var_list.py",
     "varRefreshCmd": "print(var_dic_list())"
    },
    "r": {
     "delete_cmd_postfix": ") ",
     "delete_cmd_prefix": "rm(",
     "library": "var_list.r",
     "varRefreshCmd": "cat(var_dic_list()) "
    }
   },
   "types_to_exclude": [
    "module",
    "function",
    "builtin_function_or_method",
    "instance",
    "_Feature"
   ],
   "window_display": false
  }
 },
 "nbformat": 4,
 "nbformat_minor": 5
}
