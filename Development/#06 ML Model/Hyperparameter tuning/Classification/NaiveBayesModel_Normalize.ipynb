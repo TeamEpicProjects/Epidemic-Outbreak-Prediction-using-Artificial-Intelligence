{
 "cells": [
  {
   "cell_type": "code",
   "execution_count": 1,
   "id": "984d0e42",
   "metadata": {},
   "outputs": [],
   "source": [
    "from sklearn.model_selection import train_test_split #for splitting the data in train and test\n",
    "from sklearn.preprocessing import MinMaxScaler #for various scaling methods\n",
    "from sklearn.model_selection import cross_val_score\n",
    "from sklearn.naive_bayes import GaussianNB\n",
    "\n",
    "from sklearn.metrics import accuracy_score,confusion_matrix,recall_score #for accuracy matrices\n",
    "from sklearn.metrics import precision_score,classification_report,roc_auc_score,precision_score #for accuracy matrices"
   ]
  },
  {
   "cell_type": "code",
   "execution_count": 2,
   "id": "1ac68c77",
   "metadata": {},
   "outputs": [],
   "source": [
    "# import library\n",
    "import pandas as pd\n",
    "import numpy as np\n",
    "import matplotlib.pyplot as plt\n",
    "import seaborn as sns\n",
    "sns.set()\n",
    "\n",
    "import matplotlib.style as style\n",
    "%matplotlib inline\n",
    "style.use('ggplot')\n",
    "\n",
    "from sklearn.preprocessing import MinMaxScaler\n",
    "from sklearn.model_selection import train_test_split\n",
    "\n",
    "import warnings\n",
    "warnings.simplefilter(\"ignore\")\n",
    "\n",
    "pd.pandas.set_option('display.max_columns',None)"
   ]
  },
  {
   "cell_type": "code",
   "execution_count": 3,
   "id": "2702252e",
   "metadata": {},
   "outputs": [
    {
     "data": {
      "text/html": [
       "<div>\n",
       "<style scoped>\n",
       "    .dataframe tbody tr th:only-of-type {\n",
       "        vertical-align: middle;\n",
       "    }\n",
       "\n",
       "    .dataframe tbody tr th {\n",
       "        vertical-align: top;\n",
       "    }\n",
       "\n",
       "    .dataframe thead th {\n",
       "        text-align: right;\n",
       "    }\n",
       "</style>\n",
       "<table border=\"1\" class=\"dataframe\">\n",
       "  <thead>\n",
       "    <tr style=\"text-align: right;\">\n",
       "      <th></th>\n",
       "      <th>density_per_km</th>\n",
       "      <th>latitude</th>\n",
       "      <th>longitude</th>\n",
       "      <th>maxtempC</th>\n",
       "      <th>mintempC</th>\n",
       "      <th>totalSnow_cm</th>\n",
       "      <th>sunHour</th>\n",
       "      <th>moon_illumination</th>\n",
       "      <th>DewPointC</th>\n",
       "      <th>WindGustKmph</th>\n",
       "      <th>cloudcover</th>\n",
       "      <th>humidity</th>\n",
       "      <th>precipMM</th>\n",
       "      <th>pressure</th>\n",
       "      <th>visibility</th>\n",
       "      <th>winddirDegree</th>\n",
       "      <th>year</th>\n",
       "      <th>month</th>\n",
       "      <th>Target</th>\n",
       "    </tr>\n",
       "  </thead>\n",
       "  <tbody>\n",
       "    <tr>\n",
       "      <th>0</th>\n",
       "      <td>12625.800781</td>\n",
       "      <td>-34.603684</td>\n",
       "      <td>-58.381559</td>\n",
       "      <td>24</td>\n",
       "      <td>7</td>\n",
       "      <td>0.0</td>\n",
       "      <td>11.6</td>\n",
       "      <td>87</td>\n",
       "      <td>6</td>\n",
       "      <td>16</td>\n",
       "      <td>0</td>\n",
       "      <td>59</td>\n",
       "      <td>0.0</td>\n",
       "      <td>1018</td>\n",
       "      <td>10</td>\n",
       "      <td>189</td>\n",
       "      <td>2016</td>\n",
       "      <td>3</td>\n",
       "      <td>1</td>\n",
       "    </tr>\n",
       "    <tr>\n",
       "      <th>1</th>\n",
       "      <td>12625.800781</td>\n",
       "      <td>-34.603684</td>\n",
       "      <td>-58.381559</td>\n",
       "      <td>24</td>\n",
       "      <td>7</td>\n",
       "      <td>0.0</td>\n",
       "      <td>11.6</td>\n",
       "      <td>87</td>\n",
       "      <td>6</td>\n",
       "      <td>16</td>\n",
       "      <td>0</td>\n",
       "      <td>59</td>\n",
       "      <td>0.0</td>\n",
       "      <td>1018</td>\n",
       "      <td>10</td>\n",
       "      <td>189</td>\n",
       "      <td>2016</td>\n",
       "      <td>3</td>\n",
       "      <td>0</td>\n",
       "    </tr>\n",
       "    <tr>\n",
       "      <th>2</th>\n",
       "      <td>12625.800781</td>\n",
       "      <td>-34.603684</td>\n",
       "      <td>-58.381559</td>\n",
       "      <td>24</td>\n",
       "      <td>7</td>\n",
       "      <td>0.0</td>\n",
       "      <td>11.6</td>\n",
       "      <td>87</td>\n",
       "      <td>6</td>\n",
       "      <td>16</td>\n",
       "      <td>0</td>\n",
       "      <td>59</td>\n",
       "      <td>0.0</td>\n",
       "      <td>1018</td>\n",
       "      <td>10</td>\n",
       "      <td>189</td>\n",
       "      <td>2016</td>\n",
       "      <td>3</td>\n",
       "      <td>1</td>\n",
       "    </tr>\n",
       "    <tr>\n",
       "      <th>3</th>\n",
       "      <td>12625.800781</td>\n",
       "      <td>-34.603684</td>\n",
       "      <td>-58.381559</td>\n",
       "      <td>24</td>\n",
       "      <td>7</td>\n",
       "      <td>0.0</td>\n",
       "      <td>11.6</td>\n",
       "      <td>87</td>\n",
       "      <td>6</td>\n",
       "      <td>16</td>\n",
       "      <td>0</td>\n",
       "      <td>59</td>\n",
       "      <td>0.0</td>\n",
       "      <td>1018</td>\n",
       "      <td>10</td>\n",
       "      <td>189</td>\n",
       "      <td>2016</td>\n",
       "      <td>3</td>\n",
       "      <td>0</td>\n",
       "    </tr>\n",
       "    <tr>\n",
       "      <th>4</th>\n",
       "      <td>12625.800781</td>\n",
       "      <td>-34.603684</td>\n",
       "      <td>-58.381559</td>\n",
       "      <td>22</td>\n",
       "      <td>10</td>\n",
       "      <td>0.0</td>\n",
       "      <td>11.5</td>\n",
       "      <td>76</td>\n",
       "      <td>10</td>\n",
       "      <td>27</td>\n",
       "      <td>34</td>\n",
       "      <td>72</td>\n",
       "      <td>0.0</td>\n",
       "      <td>1025</td>\n",
       "      <td>10</td>\n",
       "      <td>99</td>\n",
       "      <td>2016</td>\n",
       "      <td>3</td>\n",
       "      <td>0</td>\n",
       "    </tr>\n",
       "  </tbody>\n",
       "</table>\n",
       "</div>"
      ],
      "text/plain": [
       "   density_per_km   latitude  longitude  maxtempC  mintempC  totalSnow_cm  \\\n",
       "0    12625.800781 -34.603684 -58.381559        24         7           0.0   \n",
       "1    12625.800781 -34.603684 -58.381559        24         7           0.0   \n",
       "2    12625.800781 -34.603684 -58.381559        24         7           0.0   \n",
       "3    12625.800781 -34.603684 -58.381559        24         7           0.0   \n",
       "4    12625.800781 -34.603684 -58.381559        22        10           0.0   \n",
       "\n",
       "   sunHour  moon_illumination  DewPointC  WindGustKmph  cloudcover  humidity  \\\n",
       "0     11.6                 87          6            16           0        59   \n",
       "1     11.6                 87          6            16           0        59   \n",
       "2     11.6                 87          6            16           0        59   \n",
       "3     11.6                 87          6            16           0        59   \n",
       "4     11.5                 76         10            27          34        72   \n",
       "\n",
       "   precipMM  pressure  visibility  winddirDegree  year  month  Target  \n",
       "0       0.0      1018          10            189  2016      3       1  \n",
       "1       0.0      1018          10            189  2016      3       0  \n",
       "2       0.0      1018          10            189  2016      3       1  \n",
       "3       0.0      1018          10            189  2016      3       0  \n",
       "4       0.0      1025          10             99  2016      3       0  "
      ]
     },
     "execution_count": 3,
     "metadata": {},
     "output_type": "execute_result"
    }
   ],
   "source": [
    "df = pd.read_csv('classification_dataset.csv')\n",
    "df.head()"
   ]
  },
  {
   "cell_type": "code",
   "execution_count": 4,
   "id": "0df96412",
   "metadata": {},
   "outputs": [
    {
     "data": {
      "text/plain": [
       "(155223, 19)"
      ]
     },
     "execution_count": 4,
     "metadata": {},
     "output_type": "execute_result"
    }
   ],
   "source": [
    "df.shape"
   ]
  },
  {
   "cell_type": "code",
   "execution_count": 5,
   "id": "5eb59e6d",
   "metadata": {},
   "outputs": [
    {
     "data": {
      "text/plain": [
       "Index(['density_per_km', 'latitude', 'longitude', 'maxtempC', 'mintempC',\n",
       "       'totalSnow_cm', 'sunHour', 'moon_illumination', 'DewPointC',\n",
       "       'WindGustKmph', 'cloudcover', 'humidity', 'precipMM', 'pressure',\n",
       "       'visibility', 'winddirDegree', 'year', 'month', 'Target'],\n",
       "      dtype='object')"
      ]
     },
     "execution_count": 5,
     "metadata": {},
     "output_type": "execute_result"
    }
   ],
   "source": [
    "df.columns"
   ]
  },
  {
   "cell_type": "code",
   "execution_count": 6,
   "id": "3cdf48b3",
   "metadata": {},
   "outputs": [
    {
     "data": {
      "text/plain": [
       "79878"
      ]
     },
     "execution_count": 6,
     "metadata": {},
     "output_type": "execute_result"
    }
   ],
   "source": [
    "# Total no of duplicate rows\n",
    "df.duplicated().sum()"
   ]
  },
  {
   "cell_type": "code",
   "execution_count": 7,
   "id": "7faf271e",
   "metadata": {},
   "outputs": [],
   "source": [
    "# Remove duplicate rows\n",
    "df = df.drop_duplicates(keep='first', inplace=False)"
   ]
  },
  {
   "cell_type": "code",
   "execution_count": 8,
   "id": "3721748c",
   "metadata": {},
   "outputs": [
    {
     "data": {
      "text/plain": [
       "(75345, 19)"
      ]
     },
     "execution_count": 8,
     "metadata": {},
     "output_type": "execute_result"
    }
   ],
   "source": [
    "df.shape"
   ]
  },
  {
   "cell_type": "markdown",
   "id": "653e42ee",
   "metadata": {},
   "source": [
    "## Feature Scaling"
   ]
  },
  {
   "cell_type": "code",
   "execution_count": 9,
   "id": "ff096d29",
   "metadata": {},
   "outputs": [
    {
     "data": {
      "text/html": [
       "<div>\n",
       "<style scoped>\n",
       "    .dataframe tbody tr th:only-of-type {\n",
       "        vertical-align: middle;\n",
       "    }\n",
       "\n",
       "    .dataframe tbody tr th {\n",
       "        vertical-align: top;\n",
       "    }\n",
       "\n",
       "    .dataframe thead th {\n",
       "        text-align: right;\n",
       "    }\n",
       "</style>\n",
       "<table border=\"1\" class=\"dataframe\">\n",
       "  <thead>\n",
       "    <tr style=\"text-align: right;\">\n",
       "      <th></th>\n",
       "      <th>Target</th>\n",
       "      <th>density_per_km</th>\n",
       "      <th>latitude</th>\n",
       "      <th>longitude</th>\n",
       "      <th>maxtempC</th>\n",
       "      <th>mintempC</th>\n",
       "      <th>totalSnow_cm</th>\n",
       "      <th>sunHour</th>\n",
       "      <th>moon_illumination</th>\n",
       "      <th>DewPointC</th>\n",
       "      <th>WindGustKmph</th>\n",
       "      <th>cloudcover</th>\n",
       "      <th>humidity</th>\n",
       "      <th>precipMM</th>\n",
       "      <th>pressure</th>\n",
       "      <th>visibility</th>\n",
       "      <th>winddirDegree</th>\n",
       "      <th>year</th>\n",
       "      <th>month</th>\n",
       "    </tr>\n",
       "  </thead>\n",
       "  <tbody>\n",
       "    <tr>\n",
       "      <th>0</th>\n",
       "      <td>1</td>\n",
       "      <td>0.505636</td>\n",
       "      <td>0.196981</td>\n",
       "      <td>0.742734</td>\n",
       "      <td>0.641791</td>\n",
       "      <td>0.567164</td>\n",
       "      <td>0.0</td>\n",
       "      <td>0.625806</td>\n",
       "      <td>0.87</td>\n",
       "      <td>0.622642</td>\n",
       "      <td>0.164835</td>\n",
       "      <td>0.00</td>\n",
       "      <td>0.559140</td>\n",
       "      <td>0.000000</td>\n",
       "      <td>0.602941</td>\n",
       "      <td>1.0</td>\n",
       "      <td>0.531429</td>\n",
       "      <td>0.333333</td>\n",
       "      <td>0.181818</td>\n",
       "    </tr>\n",
       "    <tr>\n",
       "      <th>1</th>\n",
       "      <td>0</td>\n",
       "      <td>0.505636</td>\n",
       "      <td>0.196981</td>\n",
       "      <td>0.742734</td>\n",
       "      <td>0.641791</td>\n",
       "      <td>0.567164</td>\n",
       "      <td>0.0</td>\n",
       "      <td>0.625806</td>\n",
       "      <td>0.87</td>\n",
       "      <td>0.622642</td>\n",
       "      <td>0.164835</td>\n",
       "      <td>0.00</td>\n",
       "      <td>0.559140</td>\n",
       "      <td>0.000000</td>\n",
       "      <td>0.602941</td>\n",
       "      <td>1.0</td>\n",
       "      <td>0.531429</td>\n",
       "      <td>0.333333</td>\n",
       "      <td>0.181818</td>\n",
       "    </tr>\n",
       "    <tr>\n",
       "      <th>2</th>\n",
       "      <td>0</td>\n",
       "      <td>0.505636</td>\n",
       "      <td>0.196981</td>\n",
       "      <td>0.742734</td>\n",
       "      <td>0.611940</td>\n",
       "      <td>0.611940</td>\n",
       "      <td>0.0</td>\n",
       "      <td>0.619355</td>\n",
       "      <td>0.76</td>\n",
       "      <td>0.698113</td>\n",
       "      <td>0.285714</td>\n",
       "      <td>0.34</td>\n",
       "      <td>0.698925</td>\n",
       "      <td>0.000000</td>\n",
       "      <td>0.705882</td>\n",
       "      <td>1.0</td>\n",
       "      <td>0.274286</td>\n",
       "      <td>0.333333</td>\n",
       "      <td>0.181818</td>\n",
       "    </tr>\n",
       "    <tr>\n",
       "      <th>3</th>\n",
       "      <td>1</td>\n",
       "      <td>0.505636</td>\n",
       "      <td>0.196981</td>\n",
       "      <td>0.742734</td>\n",
       "      <td>0.611940</td>\n",
       "      <td>0.611940</td>\n",
       "      <td>0.0</td>\n",
       "      <td>0.619355</td>\n",
       "      <td>0.76</td>\n",
       "      <td>0.698113</td>\n",
       "      <td>0.285714</td>\n",
       "      <td>0.34</td>\n",
       "      <td>0.698925</td>\n",
       "      <td>0.000000</td>\n",
       "      <td>0.705882</td>\n",
       "      <td>1.0</td>\n",
       "      <td>0.274286</td>\n",
       "      <td>0.333333</td>\n",
       "      <td>0.181818</td>\n",
       "    </tr>\n",
       "    <tr>\n",
       "      <th>4</th>\n",
       "      <td>0</td>\n",
       "      <td>0.505636</td>\n",
       "      <td>0.196981</td>\n",
       "      <td>0.742734</td>\n",
       "      <td>0.611940</td>\n",
       "      <td>0.731343</td>\n",
       "      <td>0.0</td>\n",
       "      <td>0.432258</td>\n",
       "      <td>0.26</td>\n",
       "      <td>0.792453</td>\n",
       "      <td>0.175824</td>\n",
       "      <td>0.61</td>\n",
       "      <td>0.763441</td>\n",
       "      <td>0.097011</td>\n",
       "      <td>0.558824</td>\n",
       "      <td>0.8</td>\n",
       "      <td>0.291429</td>\n",
       "      <td>0.333333</td>\n",
       "      <td>0.272727</td>\n",
       "    </tr>\n",
       "  </tbody>\n",
       "</table>\n",
       "</div>"
      ],
      "text/plain": [
       "   Target  density_per_km  latitude  longitude  maxtempC  mintempC  \\\n",
       "0       1        0.505636  0.196981   0.742734  0.641791  0.567164   \n",
       "1       0        0.505636  0.196981   0.742734  0.641791  0.567164   \n",
       "2       0        0.505636  0.196981   0.742734  0.611940  0.611940   \n",
       "3       1        0.505636  0.196981   0.742734  0.611940  0.611940   \n",
       "4       0        0.505636  0.196981   0.742734  0.611940  0.731343   \n",
       "\n",
       "   totalSnow_cm   sunHour  moon_illumination  DewPointC  WindGustKmph  \\\n",
       "0           0.0  0.625806               0.87   0.622642      0.164835   \n",
       "1           0.0  0.625806               0.87   0.622642      0.164835   \n",
       "2           0.0  0.619355               0.76   0.698113      0.285714   \n",
       "3           0.0  0.619355               0.76   0.698113      0.285714   \n",
       "4           0.0  0.432258               0.26   0.792453      0.175824   \n",
       "\n",
       "   cloudcover  humidity  precipMM  pressure  visibility  winddirDegree  \\\n",
       "0        0.00  0.559140  0.000000  0.602941         1.0       0.531429   \n",
       "1        0.00  0.559140  0.000000  0.602941         1.0       0.531429   \n",
       "2        0.34  0.698925  0.000000  0.705882         1.0       0.274286   \n",
       "3        0.34  0.698925  0.000000  0.705882         1.0       0.274286   \n",
       "4        0.61  0.763441  0.097011  0.558824         0.8       0.291429   \n",
       "\n",
       "       year     month  \n",
       "0  0.333333  0.181818  \n",
       "1  0.333333  0.181818  \n",
       "2  0.333333  0.181818  \n",
       "3  0.333333  0.181818  \n",
       "4  0.333333  0.272727  "
      ]
     },
     "execution_count": 9,
     "metadata": {},
     "output_type": "execute_result"
    }
   ],
   "source": [
    "feature_scale = [feature for feature in df.columns if feature not in ['Target']]\n",
    "\n",
    "scaler=MinMaxScaler()\n",
    "scaler.fit(df[feature_scale])\n",
    "\n",
    "# transform the train and test set, and add on the Id and SalePrice variables\n",
    "data = pd.concat([df[['Target']].reset_index(drop=True),\n",
    "                    pd.DataFrame(scaler.transform(df[feature_scale]), columns=feature_scale)],axis=1)\n",
    "\n",
    "data.head()"
   ]
  },
  {
   "cell_type": "markdown",
   "id": "841f5183",
   "metadata": {},
   "source": [
    "# Train Test split"
   ]
  },
  {
   "cell_type": "code",
   "execution_count": 10,
   "id": "b4746690",
   "metadata": {},
   "outputs": [],
   "source": [
    "X = data.drop('Target',axis=1)\n",
    "y = data['Target']\n",
    "\n",
    "X_train,X_test,y_train,y_test = train_test_split(X,y,test_size=0.50,random_state=10) #train test split in 50:50 ratio"
   ]
  },
  {
   "cell_type": "code",
   "execution_count": 11,
   "id": "f121e510",
   "metadata": {},
   "outputs": [
    {
     "data": {
      "text/html": [
       "<div>\n",
       "<style scoped>\n",
       "    .dataframe tbody tr th:only-of-type {\n",
       "        vertical-align: middle;\n",
       "    }\n",
       "\n",
       "    .dataframe tbody tr th {\n",
       "        vertical-align: top;\n",
       "    }\n",
       "\n",
       "    .dataframe thead th {\n",
       "        text-align: right;\n",
       "    }\n",
       "</style>\n",
       "<table border=\"1\" class=\"dataframe\">\n",
       "  <thead>\n",
       "    <tr style=\"text-align: right;\">\n",
       "      <th></th>\n",
       "      <th>density_per_km</th>\n",
       "      <th>latitude</th>\n",
       "      <th>longitude</th>\n",
       "      <th>maxtempC</th>\n",
       "      <th>mintempC</th>\n",
       "      <th>totalSnow_cm</th>\n",
       "      <th>sunHour</th>\n",
       "      <th>moon_illumination</th>\n",
       "      <th>DewPointC</th>\n",
       "      <th>WindGustKmph</th>\n",
       "      <th>cloudcover</th>\n",
       "      <th>humidity</th>\n",
       "      <th>precipMM</th>\n",
       "      <th>pressure</th>\n",
       "      <th>visibility</th>\n",
       "      <th>winddirDegree</th>\n",
       "      <th>year</th>\n",
       "      <th>month</th>\n",
       "    </tr>\n",
       "  </thead>\n",
       "  <tbody>\n",
       "    <tr>\n",
       "      <th>18866</th>\n",
       "      <td>0.000897</td>\n",
       "      <td>0.596817</td>\n",
       "      <td>0.573923</td>\n",
       "      <td>0.656716</td>\n",
       "      <td>0.656716</td>\n",
       "      <td>0.0</td>\n",
       "      <td>0.625806</td>\n",
       "      <td>0.11</td>\n",
       "      <td>0.830189</td>\n",
       "      <td>0.054945</td>\n",
       "      <td>0.40</td>\n",
       "      <td>0.892473</td>\n",
       "      <td>0.149179</td>\n",
       "      <td>0.514706</td>\n",
       "      <td>0.6</td>\n",
       "      <td>0.700000</td>\n",
       "      <td>0.333333</td>\n",
       "      <td>0.272727</td>\n",
       "    </tr>\n",
       "    <tr>\n",
       "      <th>39309</th>\n",
       "      <td>0.011305</td>\n",
       "      <td>0.643994</td>\n",
       "      <td>0.554194</td>\n",
       "      <td>0.537313</td>\n",
       "      <td>0.611940</td>\n",
       "      <td>0.0</td>\n",
       "      <td>0.625806</td>\n",
       "      <td>0.53</td>\n",
       "      <td>0.698113</td>\n",
       "      <td>0.109890</td>\n",
       "      <td>0.20</td>\n",
       "      <td>0.720430</td>\n",
       "      <td>0.002931</td>\n",
       "      <td>0.558824</td>\n",
       "      <td>1.0</td>\n",
       "      <td>0.400000</td>\n",
       "      <td>0.333333</td>\n",
       "      <td>0.636364</td>\n",
       "    </tr>\n",
       "    <tr>\n",
       "      <th>70300</th>\n",
       "      <td>0.324189</td>\n",
       "      <td>0.622078</td>\n",
       "      <td>0.490980</td>\n",
       "      <td>0.731343</td>\n",
       "      <td>0.835821</td>\n",
       "      <td>0.0</td>\n",
       "      <td>0.645161</td>\n",
       "      <td>0.56</td>\n",
       "      <td>0.943396</td>\n",
       "      <td>0.109890</td>\n",
       "      <td>0.37</td>\n",
       "      <td>0.774194</td>\n",
       "      <td>0.000879</td>\n",
       "      <td>0.500000</td>\n",
       "      <td>1.0</td>\n",
       "      <td>0.451429</td>\n",
       "      <td>0.666667</td>\n",
       "      <td>0.454545</td>\n",
       "    </tr>\n",
       "    <tr>\n",
       "      <th>49555</th>\n",
       "      <td>0.003224</td>\n",
       "      <td>0.551994</td>\n",
       "      <td>0.534216</td>\n",
       "      <td>0.567164</td>\n",
       "      <td>0.656716</td>\n",
       "      <td>0.0</td>\n",
       "      <td>0.625806</td>\n",
       "      <td>0.36</td>\n",
       "      <td>0.754717</td>\n",
       "      <td>0.076923</td>\n",
       "      <td>0.41</td>\n",
       "      <td>0.849462</td>\n",
       "      <td>0.107855</td>\n",
       "      <td>0.573529</td>\n",
       "      <td>0.8</td>\n",
       "      <td>0.697143</td>\n",
       "      <td>0.333333</td>\n",
       "      <td>0.909091</td>\n",
       "    </tr>\n",
       "    <tr>\n",
       "      <th>27057</th>\n",
       "      <td>0.001310</td>\n",
       "      <td>0.539316</td>\n",
       "      <td>0.526928</td>\n",
       "      <td>0.611940</td>\n",
       "      <td>0.761194</td>\n",
       "      <td>0.0</td>\n",
       "      <td>0.380645</td>\n",
       "      <td>0.48</td>\n",
       "      <td>0.905660</td>\n",
       "      <td>0.054945</td>\n",
       "      <td>0.75</td>\n",
       "      <td>0.978495</td>\n",
       "      <td>0.036928</td>\n",
       "      <td>0.573529</td>\n",
       "      <td>0.9</td>\n",
       "      <td>0.388571</td>\n",
       "      <td>0.333333</td>\n",
       "      <td>0.363636</td>\n",
       "    </tr>\n",
       "  </tbody>\n",
       "</table>\n",
       "</div>"
      ],
      "text/plain": [
       "       density_per_km  latitude  longitude  maxtempC  mintempC  totalSnow_cm  \\\n",
       "18866        0.000897  0.596817   0.573923  0.656716  0.656716           0.0   \n",
       "39309        0.011305  0.643994   0.554194  0.537313  0.611940           0.0   \n",
       "70300        0.324189  0.622078   0.490980  0.731343  0.835821           0.0   \n",
       "49555        0.003224  0.551994   0.534216  0.567164  0.656716           0.0   \n",
       "27057        0.001310  0.539316   0.526928  0.611940  0.761194           0.0   \n",
       "\n",
       "        sunHour  moon_illumination  DewPointC  WindGustKmph  cloudcover  \\\n",
       "18866  0.625806               0.11   0.830189      0.054945        0.40   \n",
       "39309  0.625806               0.53   0.698113      0.109890        0.20   \n",
       "70300  0.645161               0.56   0.943396      0.109890        0.37   \n",
       "49555  0.625806               0.36   0.754717      0.076923        0.41   \n",
       "27057  0.380645               0.48   0.905660      0.054945        0.75   \n",
       "\n",
       "       humidity  precipMM  pressure  visibility  winddirDegree      year  \\\n",
       "18866  0.892473  0.149179  0.514706         0.6       0.700000  0.333333   \n",
       "39309  0.720430  0.002931  0.558824         1.0       0.400000  0.333333   \n",
       "70300  0.774194  0.000879  0.500000         1.0       0.451429  0.666667   \n",
       "49555  0.849462  0.107855  0.573529         0.8       0.697143  0.333333   \n",
       "27057  0.978495  0.036928  0.573529         0.9       0.388571  0.333333   \n",
       "\n",
       "          month  \n",
       "18866  0.272727  \n",
       "39309  0.636364  \n",
       "70300  0.454545  \n",
       "49555  0.909091  \n",
       "27057  0.363636  "
      ]
     },
     "execution_count": 11,
     "metadata": {},
     "output_type": "execute_result"
    }
   ],
   "source": [
    "X_train.head()"
   ]
  },
  {
   "cell_type": "markdown",
   "id": "966f577d",
   "metadata": {},
   "source": [
    "# Naive Bayes"
   ]
  },
  {
   "cell_type": "code",
   "execution_count": 12,
   "id": "6c7b604a",
   "metadata": {},
   "outputs": [
    {
     "name": "stdout",
     "output_type": "stream",
     "text": [
      "[[ 9968 10341]\n",
      " [ 6317 11047]]\n",
      "0.5578265601359064\n",
      "              precision    recall  f1-score   support\n",
      "\n",
      "           0       0.61      0.49      0.54     20309\n",
      "           1       0.52      0.64      0.57     17364\n",
      "\n",
      "    accuracy                           0.56     37673\n",
      "   macro avg       0.56      0.56      0.56     37673\n",
      "weighted avg       0.57      0.56      0.56     37673\n",
      "\n"
     ]
    }
   ],
   "source": [
    "nbModel = GaussianNB()\n",
    "nbModel.fit(X_train, y_train) \n",
    "nbModelpred = nbModel.predict(X_test)\n",
    "\n",
    "print(confusion_matrix(y_test,nbModelpred))\n",
    "print(accuracy_score(y_test,nbModelpred))\n",
    "print(classification_report(y_test,nbModelpred))"
   ]
  },
  {
   "cell_type": "code",
   "execution_count": 13,
   "id": "efbdd197",
   "metadata": {},
   "outputs": [
    {
     "name": "stdout",
     "output_type": "stream",
     "text": [
      "0.5165045820086029 : is the precision score\n",
      "0.6362013360976734 : is the recall score\n",
      "0.5701383154417836 : is the f1 score\n"
     ]
    }
   ],
   "source": [
    "from sklearn.metrics import precision_score\n",
    "print(precision_score(y_test, nbModelpred), \": is the precision score\")\n",
    "\n",
    "from sklearn.metrics import recall_score\n",
    "print(recall_score(y_test, nbModelpred), \": is the recall score\")\n",
    "\n",
    "from sklearn.metrics import f1_score\n",
    "print(f1_score(y_test, nbModelpred), \": is the f1 score\")"
   ]
  },
  {
   "cell_type": "markdown",
   "id": "a91431f2",
   "metadata": {},
   "source": [
    "### K Fold Cross Validation"
   ]
  },
  {
   "cell_type": "code",
   "execution_count": 14,
   "id": "96268ddb",
   "metadata": {},
   "outputs": [
    {
     "name": "stdout",
     "output_type": "stream",
     "text": [
      "[0.58248175 0.54200398 0.5402787  0.54372926 0.54426012 0.54698699\n",
      " 0.52933369 0.50650385 0.39235466 0.48221396]\n",
      "Max : 0.5824817518248175\n",
      "Min : 0.39235465887974513\n",
      "Mean : 0.5210146966576119\n"
     ]
    }
   ],
   "source": [
    "from sklearn.model_selection import KFold\n",
    "from sklearn.model_selection import cross_val_score\n",
    "\n",
    "kfold_validation=KFold(10)\n",
    "\n",
    "model = GaussianNB() \n",
    "results=cross_val_score(model,X,y,cv=kfold_validation)\n",
    "print(results)\n",
    "print('Max :',np.max(results))\n",
    "print('Min :',np.min(results))\n",
    "print('Mean :',np.mean(results))"
   ]
  },
  {
   "cell_type": "markdown",
   "id": "083fb817",
   "metadata": {},
   "source": [
    "### Stratified K-fold Cross Validation"
   ]
  },
  {
   "cell_type": "code",
   "execution_count": 15,
   "id": "bed36c84",
   "metadata": {},
   "outputs": [
    {
     "name": "stdout",
     "output_type": "stream",
     "text": [
      "0.4852190177367136\n"
     ]
    }
   ],
   "source": [
    "from sklearn.model_selection import StratifiedKFold\n",
    "skfold=StratifiedKFold(n_splits=10)\n",
    "model = GaussianNB() \n",
    "scores=cross_val_score(model,X,y,cv=skfold)\n",
    "print(np.mean(scores))"
   ]
  },
  {
   "cell_type": "code",
   "execution_count": 16,
   "id": "da95c846",
   "metadata": {},
   "outputs": [
    {
     "data": {
      "text/plain": [
       "array([0.51785003, 0.57876576, 0.53377571, 0.44021234, 0.52859987,\n",
       "       0.54127953, 0.39009822, 0.40111495, 0.45288028, 0.46761349])"
      ]
     },
     "execution_count": 16,
     "metadata": {},
     "output_type": "execute_result"
    }
   ],
   "source": [
    "scores"
   ]
  },
  {
   "cell_type": "code",
   "execution_count": 17,
   "id": "9117943e",
   "metadata": {},
   "outputs": [
    {
     "name": "stdout",
     "output_type": "stream",
     "text": [
      "Max : 0.5787657597876577\n",
      "Min : 0.3900982213963366\n",
      "Mean : 0.4852190177367136\n"
     ]
    }
   ],
   "source": [
    "print('Max :',np.max(scores))\n",
    "print('Min :',np.min(scores))\n",
    "print('Mean :',np.mean(scores))"
   ]
  },
  {
   "cell_type": "markdown",
   "id": "1c82ce10",
   "metadata": {},
   "source": [
    "## Graphical Analysis"
   ]
  },
  {
   "cell_type": "code",
   "execution_count": 18,
   "id": "f1d23683",
   "metadata": {},
   "outputs": [
    {
     "data": {
      "image/png": "[encoded data removed]",
      "text/plain": [
       "<Figure size 432x288 with 1 Axes>"
      ]
     },
     "metadata": {},
     "output_type": "display_data"
    }
   ],
   "source": [
    "from sklearn.metrics import roc_curve, auc\n",
    "\n",
    "probs               = nbModel.predict_proba(X_test)\n",
    "preds               = probs[:,1]\n",
    "fpr, tpr, threshold = roc_curve(y_test, preds)\n",
    "roc_auc             = auc(fpr, tpr)\n",
    "\n",
    "plt.title('Receiver Operating Characteristic')\n",
    "plt.plot(fpr, tpr, 'b', label = 'AUC = %0.2f' % roc_auc)\n",
    "plt.legend(loc = 'lower right')\n",
    "plt.plot([0, 1], [0, 1],'r--')\n",
    "plt.xlim([0, 1])\n",
    "plt.ylim([0, 1])\n",
    "plt.ylabel('True Positive Rate')\n",
    "plt.xlabel('False Positive Rate')\n",
    "plt.show()"
   ]
  },
  {
   "cell_type": "markdown",
   "id": "bc5928ba",
   "metadata": {},
   "source": [
    "# Tuning the model using grid searchCV\n",
    "- var_smoothing is a stability calculation to widen (or smooth) the curve and therefore account for more samples that are further away from the distribution mean.\n",
    "- In this case, np.logspace returns numbers spaced evenly on a log scale, starts from 0, ends at -9, and generates 100 samples."
   ]
  },
  {
   "cell_type": "code",
   "execution_count": 19,
   "id": "322e6fa0",
   "metadata": {
    "scrolled": true
   },
   "outputs": [
    {
     "name": "stdout",
     "output_type": "stream",
     "text": [
      "Fitting 10 folds for each of 100 candidates, totalling 1000 fits\n",
      "Best: 0.573901 using {'var_smoothing': 0.43287612810830584}\n",
      "0.565831 (0.009507) with: {'var_smoothing': 1.0}\n",
      "0.569680 (0.012063) with: {'var_smoothing': 0.8111308307896871}\n",
      "0.571936 (0.010570) with: {'var_smoothing': 0.657933224657568}\n",
      "0.572733 (0.007948) with: {'var_smoothing': 0.533669923120631}\n",
      "0.573901 (0.007748) with: {'var_smoothing': 0.43287612810830584}\n",
      "0.572786 (0.006294) with: {'var_smoothing': 0.3511191734215131}\n",
      "0.573105 (0.006345) with: {'var_smoothing': 0.2848035868435802}\n",
      "0.571087 (0.005626) with: {'var_smoothing': 0.23101297000831597}\n",
      "0.569760 (0.006348) with: {'var_smoothing': 0.1873817422860384}\n",
      "0.569176 (0.006718) with: {'var_smoothing': 0.15199110829529336}\n",
      "0.568831 (0.006507) with: {'var_smoothing': 0.12328467394420659}\n",
      "0.567451 (0.006304) with: {'var_smoothing': 0.1}\n",
      "0.566522 (0.005733) with: {'var_smoothing': 0.08111308307896872}\n",
      "0.564929 (0.005906) with: {'var_smoothing': 0.0657933224657568}\n",
      "0.564106 (0.005807) with: {'var_smoothing': 0.0533669923120631}\n",
      "0.563044 (0.006143) with: {'var_smoothing': 0.04328761281083057}\n",
      "0.562699 (0.006134) with: {'var_smoothing': 0.03511191734215131}\n",
      "0.562115 (0.006038) with: {'var_smoothing': 0.02848035868435802}\n",
      "0.561876 (0.005743) with: {'var_smoothing': 0.02310129700083159}\n",
      "0.561478 (0.005444) with: {'var_smoothing': 0.01873817422860384}\n",
      "0.561399 (0.005600) with: {'var_smoothing': 0.01519911082952933}\n",
      "0.561213 (0.005668) with: {'var_smoothing': 0.012328467394420659}\n",
      "0.561160 (0.005626) with: {'var_smoothing': 0.01}\n",
      "0.561319 (0.005894) with: {'var_smoothing': 0.008111308307896872}\n",
      "0.561478 (0.006125) with: {'var_smoothing': 0.006579332246575682}\n",
      "0.561160 (0.006466) with: {'var_smoothing': 0.005336699231206307}\n",
      "0.561133 (0.006299) with: {'var_smoothing': 0.004328761281083057}\n",
      "0.560788 (0.006196) with: {'var_smoothing': 0.003511191734215131}\n",
      "0.560151 (0.006446) with: {'var_smoothing': 0.002848035868435802}\n",
      "0.559753 (0.006492) with: {'var_smoothing': 0.0023101297000831605}\n",
      "0.559063 (0.006783) with: {'var_smoothing': 0.001873817422860383}\n",
      "0.558903 (0.006436) with: {'var_smoothing': 0.0015199110829529332}\n",
      "0.558558 (0.006509) with: {'var_smoothing': 0.0012328467394420659}\n",
      "0.558239 (0.006643) with: {'var_smoothing': 0.001}\n",
      "0.557178 (0.006757) with: {'var_smoothing': 0.0008111308307896872}\n",
      "0.556912 (0.006802) with: {'var_smoothing': 0.0006579332246575676}\n",
      "0.557602 (0.006790) with: {'var_smoothing': 0.0005336699231206307}\n",
      "0.557576 (0.006605) with: {'var_smoothing': 0.0004328761281083057}\n",
      "0.557045 (0.006802) with: {'var_smoothing': 0.0003511191734215131}\n",
      "0.556567 (0.007018) with: {'var_smoothing': 0.0002848035868435802}\n",
      "0.556673 (0.007391) with: {'var_smoothing': 0.0002310129700083158}\n",
      "0.556143 (0.007572) with: {'var_smoothing': 0.0001873817422860383}\n",
      "0.555930 (0.007742) with: {'var_smoothing': 0.0001519911082952933}\n",
      "0.555373 (0.007700) with: {'var_smoothing': 0.0001232846739442066}\n",
      "0.555267 (0.007907) with: {'var_smoothing': 0.0001}\n",
      "0.555293 (0.007878) with: {'var_smoothing': 8.111308307896872e-05}\n",
      "0.555373 (0.007926) with: {'var_smoothing': 6.579332246575683e-05}\n",
      "0.555213 (0.007953) with: {'var_smoothing': 5.3366992312063123e-05}\n",
      "0.555293 (0.007734) with: {'var_smoothing': 4.328761281083062e-05}\n",
      "0.555160 (0.007946) with: {'var_smoothing': 3.511191734215127e-05}\n",
      "0.555214 (0.008143) with: {'var_smoothing': 2.848035868435799e-05}\n",
      "0.555187 (0.008208) with: {'var_smoothing': 2.310129700083158e-05}\n",
      "0.555267 (0.008059) with: {'var_smoothing': 1.873817422860383e-05}\n",
      "0.555320 (0.008051) with: {'var_smoothing': 1.5199110829529332e-05}\n",
      "0.555267 (0.008073) with: {'var_smoothing': 1.2328467394420658e-05}\n",
      "0.555187 (0.008106) with: {'var_smoothing': 1e-05}\n",
      "0.555187 (0.008145) with: {'var_smoothing': 8.111308307896873e-06}\n",
      "0.555160 (0.008079) with: {'var_smoothing': 6.579332246575683e-06}\n",
      "0.555107 (0.008019) with: {'var_smoothing': 5.336699231206313e-06}\n",
      "0.555081 (0.007887) with: {'var_smoothing': 4.328761281083053e-06}\n",
      "0.555081 (0.007852) with: {'var_smoothing': 3.5111917342151275e-06}\n",
      "0.555054 (0.007853) with: {'var_smoothing': 2.848035868435799e-06}\n",
      "0.555107 (0.007843) with: {'var_smoothing': 2.310129700083158e-06}\n",
      "0.555081 (0.007808) with: {'var_smoothing': 1.873817422860383e-06}\n",
      "0.555054 (0.007814) with: {'var_smoothing': 1.519911082952933e-06}\n",
      "0.555028 (0.007854) with: {'var_smoothing': 1.232846739442066e-06}\n",
      "0.555001 (0.007861) with: {'var_smoothing': 1e-06}\n",
      "0.555028 (0.007821) with: {'var_smoothing': 8.111308307896872e-07}\n",
      "0.555028 (0.007821) with: {'var_smoothing': 6.579332246575682e-07}\n",
      "0.555028 (0.007821) with: {'var_smoothing': 5.336699231206313e-07}\n",
      "0.555028 (0.007821) with: {'var_smoothing': 4.3287612810830526e-07}\n",
      "0.555028 (0.007821) with: {'var_smoothing': 3.5111917342151277e-07}\n",
      "0.555028 (0.007821) with: {'var_smoothing': 2.848035868435799e-07}\n",
      "0.555028 (0.007821) with: {'var_smoothing': 2.310129700083158e-07}\n",
      "0.555028 (0.007821) with: {'var_smoothing': 1.873817422860383e-07}\n",
      "0.555028 (0.007821) with: {'var_smoothing': 1.519911082952933e-07}\n",
      "0.555028 (0.007821) with: {'var_smoothing': 1.232846739442066e-07}\n",
      "0.555028 (0.007821) with: {'var_smoothing': 1e-07}\n",
      "0.555028 (0.007821) with: {'var_smoothing': 8.111308307896873e-08}\n",
      "0.555001 (0.007824) with: {'var_smoothing': 6.579332246575682e-08}\n",
      "0.554975 (0.007828) with: {'var_smoothing': 5.336699231206302e-08}\n",
      "0.554975 (0.007828) with: {'var_smoothing': 4.3287612810830526e-08}\n",
      "0.554975 (0.007828) with: {'var_smoothing': 3.5111917342151277e-08}\n",
      "0.554975 (0.007828) with: {'var_smoothing': 2.848035868435799e-08}\n",
      "0.554975 (0.007828) with: {'var_smoothing': 2.310129700083158e-08}\n",
      "0.554975 (0.007828) with: {'var_smoothing': 1.873817422860383e-08}\n",
      "0.554975 (0.007828) with: {'var_smoothing': 1.519911082952933e-08}\n",
      "0.554975 (0.007828) with: {'var_smoothing': 1.232846739442066e-08}\n",
      "0.554975 (0.007828) with: {'var_smoothing': 1e-08}\n",
      "0.554975 (0.007828) with: {'var_smoothing': 8.111308307896856e-09}\n",
      "0.554975 (0.007828) with: {'var_smoothing': 6.579332246575682e-09}\n",
      "0.554975 (0.007828) with: {'var_smoothing': 5.336699231206302e-09}\n",
      "0.554975 (0.007828) with: {'var_smoothing': 4.328761281083061e-09}\n",
      "0.554975 (0.007828) with: {'var_smoothing': 3.5111917342151273e-09}\n",
      "0.554975 (0.007828) with: {'var_smoothing': 2.848035868435805e-09}\n",
      "0.554975 (0.007828) with: {'var_smoothing': 2.310129700083158e-09}\n",
      "0.554975 (0.007828) with: {'var_smoothing': 1.873817422860387e-09}\n",
      "0.554975 (0.007828) with: {'var_smoothing': 1.519911082952933e-09}\n",
      "0.554975 (0.007828) with: {'var_smoothing': 1.2328467394420635e-09}\n",
      "0.554975 (0.007828) with: {'var_smoothing': 1e-09}\n"
     ]
    }
   ],
   "source": [
    "# example of grid searching key hyperparametres for logistic regression\n",
    "from sklearn.model_selection import KFold\n",
    "from sklearn.model_selection import GridSearchCV\n",
    "\n",
    "model = GaussianNB() \n",
    "\n",
    "# define models and parameters\n",
    "\n",
    "param_grid_nb = {\n",
    "    'var_smoothing': np.logspace(0,-9, num=100)  # Calculation Stability to Widen (or Smooth) the Curve\n",
    "}\n",
    "\n",
    "cv = KFold(n_splits=10)\n",
    "\n",
    "grid_search = GridSearchCV(estimator=model, param_grid=param_grid_nb, verbose=1,cv=cv, n_jobs=1)\n",
    "grid_result = grid_search.fit(X_train, y_train)\n",
    "\n",
    "\n",
    "# summarize results\n",
    "print(\"Best: %f using %s\" % (grid_result.best_score_, grid_result.best_params_))\n",
    "means = grid_result.cv_results_['mean_test_score']\n",
    "stds = grid_result.cv_results_['std_test_score']\n",
    "params = grid_result.cv_results_['params']\n",
    "for mean, stdev, param in zip(means, stds, params):\n",
    "    print(\"%f (%f) with: %r\" % (mean, stdev, param))"
   ]
  },
  {
   "cell_type": "code",
   "execution_count": 20,
   "id": "eb6f0cad",
   "metadata": {},
   "outputs": [
    {
     "data": {
      "text/plain": [
       "0.5739005468204437"
      ]
     },
     "execution_count": 20,
     "metadata": {},
     "output_type": "execute_result"
    }
   ],
   "source": [
    "accuracy = grid_result.best_score_\n",
    "accuracy"
   ]
  },
  {
   "cell_type": "code",
   "execution_count": 21,
   "id": "38feacb9",
   "metadata": {},
   "outputs": [
    {
     "data": {
      "text/plain": [
       "{'var_smoothing': 0.43287612810830584}"
      ]
     },
     "execution_count": 21,
     "metadata": {},
     "output_type": "execute_result"
    }
   ],
   "source": [
    "grid_result.best_params_"
   ]
  },
  {
   "cell_type": "markdown",
   "id": "ab1aa152",
   "metadata": {},
   "source": [
    "## Model with parameters"
   ]
  },
  {
   "cell_type": "code",
   "execution_count": 26,
   "id": "420bae53",
   "metadata": {},
   "outputs": [
    {
     "name": "stdout",
     "output_type": "stream",
     "text": [
      "[[14000  6309]\n",
      " [ 9860  7504]]\n",
      "0.5708066785230802\n",
      "              precision    recall  f1-score   support\n",
      "\n",
      "           0       0.59      0.69      0.63     20309\n",
      "           1       0.54      0.43      0.48     17364\n",
      "\n",
      "    accuracy                           0.57     37673\n",
      "   macro avg       0.57      0.56      0.56     37673\n",
      "weighted avg       0.57      0.57      0.56     37673\n",
      "\n"
     ]
    }
   ],
   "source": [
    "nbModel2 = GaussianNB(var_smoothing=0.43287612810830584)\n",
    "nbModel2.fit(X_train, y_train) \n",
    "nbModelpred2 = nbModel2.predict(X_test)\n",
    "print(confusion_matrix(y_test,nbModelpred2))\n",
    "print(accuracy_score(y_test,nbModelpred2))\n",
    "print(classification_report(y_test,nbModelpred2))"
   ]
  },
  {
   "cell_type": "code",
   "execution_count": 27,
   "id": "340b61bd",
   "metadata": {},
   "outputs": [
    {
     "name": "stdout",
     "output_type": "stream",
     "text": [
      "0.5432563527112141 : is the precision score\n",
      "0.4321584888274591 : is the recall score\n",
      "0.4813805048593514 : is the f1 score\n"
     ]
    }
   ],
   "source": [
    "from sklearn.metrics import precision_score\n",
    "print(precision_score(y_test, nbModelpred2), \": is the precision score\")\n",
    "\n",
    "from sklearn.metrics import recall_score\n",
    "print(recall_score(y_test, nbModelpred2), \": is the recall score\")\n",
    "\n",
    "from sklearn.metrics import f1_score\n",
    "print(f1_score(y_test, nbModelpred2), \": is the f1 score\")"
   ]
  },
  {
   "cell_type": "markdown",
   "id": "cdd9bfc2",
   "metadata": {},
   "source": [
    "## Graphical Analysis"
   ]
  },
  {
   "cell_type": "code",
   "execution_count": 28,
   "id": "a7f141f8",
   "metadata": {},
   "outputs": [
    {
     "data": {
      "image/png": "[encoded data removed]",
      "text/plain": [
       "<Figure size 432x288 with 1 Axes>"
      ]
     },
     "metadata": {},
     "output_type": "display_data"
    }
   ],
   "source": [
    "from sklearn.metrics import roc_curve, auc\n",
    "\n",
    "probs               = nbModel2.predict_proba(X_test)\n",
    "preds               = probs[:,1]\n",
    "fpr, tpr, threshold = roc_curve(y_test, preds)\n",
    "roc_auc             = auc(fpr, tpr)\n",
    "\n",
    "plt.title('Receiver Operating Characteristic')\n",
    "plt.plot(fpr, tpr, 'b', label = 'AUC = %0.2f' % roc_auc)\n",
    "plt.legend(loc = 'lower right')\n",
    "plt.plot([0, 1], [0, 1],'r--')\n",
    "plt.xlim([0, 1])\n",
    "plt.ylim([0, 1])\n",
    "plt.ylabel('True Positive Rate')\n",
    "plt.xlabel('False Positive Rate')\n",
    "plt.show()"
   ]
  },
  {
   "cell_type": "code",
   "execution_count": 29,
   "id": "6e7517e9",
   "metadata": {},
   "outputs": [
    {
     "name": "stdout",
     "output_type": "stream",
     "text": [
      "Accuracy before tuning : 0.5578265601359064\n",
      "\n",
      "Accuracy after tuning : 0.5708066785230802\n"
     ]
    }
   ],
   "source": [
    "print('Accuracy before tuning :',accuracy_score(y_test,nbModelpred))\n",
    "print()\n",
    "print('Accuracy after tuning :',accuracy_score(y_test,nbModelpred2))"
   ]
  }
 ],
 "metadata": {
  "kernelspec": {
   "display_name": "Python 3",
   "language": "python",
   "name": "python3"
  },
  "language_info": {
   "codemirror_mode": {
    "name": "ipython",
    "version": 3
   },
   "file_extension": ".py",
   "mimetype": "text/x-python",
   "name": "python",
   "nbconvert_exporter": "python",
   "pygments_lexer": "ipython3",
   "version": "3.7.11"
  },
  "varInspector": {
   "cols": {
    "lenName": 16,
    "lenType": 16,
    "lenVar": 40
   },
   "kernels_config": {
    "python": {
     "delete_cmd_postfix": "",
     "delete_cmd_prefix": "del ",
     "library": "var_list.py",
     "varRefreshCmd": "print(var_dic_list())"
    },
    "r": {
     "delete_cmd_postfix": ") ",
     "delete_cmd_prefix": "rm(",
     "library": "var_list.r",
     "varRefreshCmd": "cat(var_dic_list()) "
    }
   },
   "types_to_exclude": [
    "module",
    "function",
    "builtin_function_or_method",
    "instance",
    "_Feature"
   ],
   "window_display": false
  }
 },
 "nbformat": 4,
 "nbformat_minor": 5
}
