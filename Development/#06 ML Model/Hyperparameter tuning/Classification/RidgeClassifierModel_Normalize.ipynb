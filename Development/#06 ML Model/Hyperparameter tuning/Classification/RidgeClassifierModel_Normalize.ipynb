{
 "cells": [
  {
   "cell_type": "code",
   "execution_count": 13,
   "id": "d5c23c75",
   "metadata": {},
   "outputs": [],
   "source": [
    "from sklearn.model_selection import train_test_split #for splitting the data in train and test\n",
    "from sklearn.preprocessing import MinMaxScaler #for various scaling methods\n",
    "from sklearn.svm import SVC #for Support vector classifier\n",
    "from sklearn.model_selection import cross_val_score\n",
    "from sklearn.linear_model import RidgeClassifier\n",
    "\n",
    "from sklearn.metrics import accuracy_score,confusion_matrix,recall_score #for accuracy matrices\n",
    "from sklearn.metrics import precision_score,classification_report,roc_auc_score,precision_score #for accuracy matrices"
   ]
  },
  {
   "cell_type": "code",
   "execution_count": 2,
   "id": "780e3c8f",
   "metadata": {},
   "outputs": [],
   "source": [
    "# import library\n",
    "import pandas as pd\n",
    "import numpy as np\n",
    "import matplotlib.pyplot as plt\n",
    "import seaborn as sns\n",
    "sns.set()\n",
    "\n",
    "import matplotlib.style as style\n",
    "%matplotlib inline\n",
    "style.use('ggplot')\n",
    "\n",
    "from sklearn.preprocessing import MinMaxScaler\n",
    "from sklearn.model_selection import train_test_split\n",
    "\n",
    "import warnings\n",
    "warnings.simplefilter(\"ignore\")\n",
    "\n",
    "pd.pandas.set_option('display.max_columns',None)"
   ]
  },
  {
   "cell_type": "code",
   "execution_count": 3,
   "id": "245a7836",
   "metadata": {},
   "outputs": [
    {
     "data": {
      "text/html": [
       "<div>\n",
       "<style scoped>\n",
       "    .dataframe tbody tr th:only-of-type {\n",
       "        vertical-align: middle;\n",
       "    }\n",
       "\n",
       "    .dataframe tbody tr th {\n",
       "        vertical-align: top;\n",
       "    }\n",
       "\n",
       "    .dataframe thead th {\n",
       "        text-align: right;\n",
       "    }\n",
       "</style>\n",
       "<table border=\"1\" class=\"dataframe\">\n",
       "  <thead>\n",
       "    <tr style=\"text-align: right;\">\n",
       "      <th></th>\n",
       "      <th>density_per_km</th>\n",
       "      <th>latitude</th>\n",
       "      <th>longitude</th>\n",
       "      <th>maxtempC</th>\n",
       "      <th>mintempC</th>\n",
       "      <th>totalSnow_cm</th>\n",
       "      <th>sunHour</th>\n",
       "      <th>moon_illumination</th>\n",
       "      <th>DewPointC</th>\n",
       "      <th>WindGustKmph</th>\n",
       "      <th>cloudcover</th>\n",
       "      <th>humidity</th>\n",
       "      <th>precipMM</th>\n",
       "      <th>pressure</th>\n",
       "      <th>visibility</th>\n",
       "      <th>winddirDegree</th>\n",
       "      <th>year</th>\n",
       "      <th>month</th>\n",
       "      <th>Target</th>\n",
       "    </tr>\n",
       "  </thead>\n",
       "  <tbody>\n",
       "    <tr>\n",
       "      <th>0</th>\n",
       "      <td>12625.800781</td>\n",
       "      <td>-34.603684</td>\n",
       "      <td>-58.381559</td>\n",
       "      <td>24</td>\n",
       "      <td>7</td>\n",
       "      <td>0.0</td>\n",
       "      <td>11.6</td>\n",
       "      <td>87</td>\n",
       "      <td>6</td>\n",
       "      <td>16</td>\n",
       "      <td>0</td>\n",
       "      <td>59</td>\n",
       "      <td>0.0</td>\n",
       "      <td>1018</td>\n",
       "      <td>10</td>\n",
       "      <td>189</td>\n",
       "      <td>2016</td>\n",
       "      <td>3</td>\n",
       "      <td>1</td>\n",
       "    </tr>\n",
       "    <tr>\n",
       "      <th>1</th>\n",
       "      <td>12625.800781</td>\n",
       "      <td>-34.603684</td>\n",
       "      <td>-58.381559</td>\n",
       "      <td>24</td>\n",
       "      <td>7</td>\n",
       "      <td>0.0</td>\n",
       "      <td>11.6</td>\n",
       "      <td>87</td>\n",
       "      <td>6</td>\n",
       "      <td>16</td>\n",
       "      <td>0</td>\n",
       "      <td>59</td>\n",
       "      <td>0.0</td>\n",
       "      <td>1018</td>\n",
       "      <td>10</td>\n",
       "      <td>189</td>\n",
       "      <td>2016</td>\n",
       "      <td>3</td>\n",
       "      <td>0</td>\n",
       "    </tr>\n",
       "    <tr>\n",
       "      <th>2</th>\n",
       "      <td>12625.800781</td>\n",
       "      <td>-34.603684</td>\n",
       "      <td>-58.381559</td>\n",
       "      <td>24</td>\n",
       "      <td>7</td>\n",
       "      <td>0.0</td>\n",
       "      <td>11.6</td>\n",
       "      <td>87</td>\n",
       "      <td>6</td>\n",
       "      <td>16</td>\n",
       "      <td>0</td>\n",
       "      <td>59</td>\n",
       "      <td>0.0</td>\n",
       "      <td>1018</td>\n",
       "      <td>10</td>\n",
       "      <td>189</td>\n",
       "      <td>2016</td>\n",
       "      <td>3</td>\n",
       "      <td>1</td>\n",
       "    </tr>\n",
       "    <tr>\n",
       "      <th>3</th>\n",
       "      <td>12625.800781</td>\n",
       "      <td>-34.603684</td>\n",
       "      <td>-58.381559</td>\n",
       "      <td>24</td>\n",
       "      <td>7</td>\n",
       "      <td>0.0</td>\n",
       "      <td>11.6</td>\n",
       "      <td>87</td>\n",
       "      <td>6</td>\n",
       "      <td>16</td>\n",
       "      <td>0</td>\n",
       "      <td>59</td>\n",
       "      <td>0.0</td>\n",
       "      <td>1018</td>\n",
       "      <td>10</td>\n",
       "      <td>189</td>\n",
       "      <td>2016</td>\n",
       "      <td>3</td>\n",
       "      <td>0</td>\n",
       "    </tr>\n",
       "    <tr>\n",
       "      <th>4</th>\n",
       "      <td>12625.800781</td>\n",
       "      <td>-34.603684</td>\n",
       "      <td>-58.381559</td>\n",
       "      <td>22</td>\n",
       "      <td>10</td>\n",
       "      <td>0.0</td>\n",
       "      <td>11.5</td>\n",
       "      <td>76</td>\n",
       "      <td>10</td>\n",
       "      <td>27</td>\n",
       "      <td>34</td>\n",
       "      <td>72</td>\n",
       "      <td>0.0</td>\n",
       "      <td>1025</td>\n",
       "      <td>10</td>\n",
       "      <td>99</td>\n",
       "      <td>2016</td>\n",
       "      <td>3</td>\n",
       "      <td>0</td>\n",
       "    </tr>\n",
       "  </tbody>\n",
       "</table>\n",
       "</div>"
      ],
      "text/plain": [
       "   density_per_km   latitude  longitude  maxtempC  mintempC  totalSnow_cm  \\\n",
       "0    12625.800781 -34.603684 -58.381559        24         7           0.0   \n",
       "1    12625.800781 -34.603684 -58.381559        24         7           0.0   \n",
       "2    12625.800781 -34.603684 -58.381559        24         7           0.0   \n",
       "3    12625.800781 -34.603684 -58.381559        24         7           0.0   \n",
       "4    12625.800781 -34.603684 -58.381559        22        10           0.0   \n",
       "\n",
       "   sunHour  moon_illumination  DewPointC  WindGustKmph  cloudcover  humidity  \\\n",
       "0     11.6                 87          6            16           0        59   \n",
       "1     11.6                 87          6            16           0        59   \n",
       "2     11.6                 87          6            16           0        59   \n",
       "3     11.6                 87          6            16           0        59   \n",
       "4     11.5                 76         10            27          34        72   \n",
       "\n",
       "   precipMM  pressure  visibility  winddirDegree  year  month  Target  \n",
       "0       0.0      1018          10            189  2016      3       1  \n",
       "1       0.0      1018          10            189  2016      3       0  \n",
       "2       0.0      1018          10            189  2016      3       1  \n",
       "3       0.0      1018          10            189  2016      3       0  \n",
       "4       0.0      1025          10             99  2016      3       0  "
      ]
     },
     "execution_count": 3,
     "metadata": {},
     "output_type": "execute_result"
    }
   ],
   "source": [
    "df = pd.read_csv('classification_dataset.csv')\n",
    "df.head()"
   ]
  },
  {
   "cell_type": "code",
   "execution_count": 4,
   "id": "945c48dc",
   "metadata": {},
   "outputs": [
    {
     "data": {
      "text/plain": [
       "(155223, 19)"
      ]
     },
     "execution_count": 4,
     "metadata": {},
     "output_type": "execute_result"
    }
   ],
   "source": [
    "df.shape"
   ]
  },
  {
   "cell_type": "code",
   "execution_count": 5,
   "id": "6982b8ec",
   "metadata": {},
   "outputs": [
    {
     "data": {
      "text/plain": [
       "Index(['density_per_km', 'latitude', 'longitude', 'maxtempC', 'mintempC',\n",
       "       'totalSnow_cm', 'sunHour', 'moon_illumination', 'DewPointC',\n",
       "       'WindGustKmph', 'cloudcover', 'humidity', 'precipMM', 'pressure',\n",
       "       'visibility', 'winddirDegree', 'year', 'month', 'Target'],\n",
       "      dtype='object')"
      ]
     },
     "execution_count": 5,
     "metadata": {},
     "output_type": "execute_result"
    }
   ],
   "source": [
    "df.columns"
   ]
  },
  {
   "cell_type": "code",
   "execution_count": 6,
   "id": "bfd8f230",
   "metadata": {},
   "outputs": [
    {
     "data": {
      "text/plain": [
       "79878"
      ]
     },
     "execution_count": 6,
     "metadata": {},
     "output_type": "execute_result"
    }
   ],
   "source": [
    "# Total no of duplicate rows\n",
    "df.duplicated().sum()"
   ]
  },
  {
   "cell_type": "code",
   "execution_count": 7,
   "id": "1a62d97f",
   "metadata": {},
   "outputs": [],
   "source": [
    "# Remove duplicate rows\n",
    "df = df.drop_duplicates(keep='first', inplace=False)"
   ]
  },
  {
   "cell_type": "code",
   "execution_count": 8,
   "id": "cd59c66b",
   "metadata": {},
   "outputs": [
    {
     "data": {
      "text/plain": [
       "(75345, 19)"
      ]
     },
     "execution_count": 8,
     "metadata": {},
     "output_type": "execute_result"
    }
   ],
   "source": [
    "df.shape"
   ]
  },
  {
   "cell_type": "markdown",
   "id": "76293ce5",
   "metadata": {},
   "source": [
    "## Feature Scaling"
   ]
  },
  {
   "cell_type": "code",
   "execution_count": 9,
   "id": "7b9443a2",
   "metadata": {},
   "outputs": [
    {
     "data": {
      "text/html": [
       "<div>\n",
       "<style scoped>\n",
       "    .dataframe tbody tr th:only-of-type {\n",
       "        vertical-align: middle;\n",
       "    }\n",
       "\n",
       "    .dataframe tbody tr th {\n",
       "        vertical-align: top;\n",
       "    }\n",
       "\n",
       "    .dataframe thead th {\n",
       "        text-align: right;\n",
       "    }\n",
       "</style>\n",
       "<table border=\"1\" class=\"dataframe\">\n",
       "  <thead>\n",
       "    <tr style=\"text-align: right;\">\n",
       "      <th></th>\n",
       "      <th>Target</th>\n",
       "      <th>density_per_km</th>\n",
       "      <th>latitude</th>\n",
       "      <th>longitude</th>\n",
       "      <th>maxtempC</th>\n",
       "      <th>mintempC</th>\n",
       "      <th>totalSnow_cm</th>\n",
       "      <th>sunHour</th>\n",
       "      <th>moon_illumination</th>\n",
       "      <th>DewPointC</th>\n",
       "      <th>WindGustKmph</th>\n",
       "      <th>cloudcover</th>\n",
       "      <th>humidity</th>\n",
       "      <th>precipMM</th>\n",
       "      <th>pressure</th>\n",
       "      <th>visibility</th>\n",
       "      <th>winddirDegree</th>\n",
       "      <th>year</th>\n",
       "      <th>month</th>\n",
       "    </tr>\n",
       "  </thead>\n",
       "  <tbody>\n",
       "    <tr>\n",
       "      <th>0</th>\n",
       "      <td>1</td>\n",
       "      <td>0.505636</td>\n",
       "      <td>0.196981</td>\n",
       "      <td>0.742734</td>\n",
       "      <td>0.641791</td>\n",
       "      <td>0.567164</td>\n",
       "      <td>0.0</td>\n",
       "      <td>0.625806</td>\n",
       "      <td>0.87</td>\n",
       "      <td>0.622642</td>\n",
       "      <td>0.164835</td>\n",
       "      <td>0.00</td>\n",
       "      <td>0.559140</td>\n",
       "      <td>0.000000</td>\n",
       "      <td>0.602941</td>\n",
       "      <td>1.0</td>\n",
       "      <td>0.531429</td>\n",
       "      <td>0.333333</td>\n",
       "      <td>0.181818</td>\n",
       "    </tr>\n",
       "    <tr>\n",
       "      <th>1</th>\n",
       "      <td>0</td>\n",
       "      <td>0.505636</td>\n",
       "      <td>0.196981</td>\n",
       "      <td>0.742734</td>\n",
       "      <td>0.641791</td>\n",
       "      <td>0.567164</td>\n",
       "      <td>0.0</td>\n",
       "      <td>0.625806</td>\n",
       "      <td>0.87</td>\n",
       "      <td>0.622642</td>\n",
       "      <td>0.164835</td>\n",
       "      <td>0.00</td>\n",
       "      <td>0.559140</td>\n",
       "      <td>0.000000</td>\n",
       "      <td>0.602941</td>\n",
       "      <td>1.0</td>\n",
       "      <td>0.531429</td>\n",
       "      <td>0.333333</td>\n",
       "      <td>0.181818</td>\n",
       "    </tr>\n",
       "    <tr>\n",
       "      <th>2</th>\n",
       "      <td>0</td>\n",
       "      <td>0.505636</td>\n",
       "      <td>0.196981</td>\n",
       "      <td>0.742734</td>\n",
       "      <td>0.611940</td>\n",
       "      <td>0.611940</td>\n",
       "      <td>0.0</td>\n",
       "      <td>0.619355</td>\n",
       "      <td>0.76</td>\n",
       "      <td>0.698113</td>\n",
       "      <td>0.285714</td>\n",
       "      <td>0.34</td>\n",
       "      <td>0.698925</td>\n",
       "      <td>0.000000</td>\n",
       "      <td>0.705882</td>\n",
       "      <td>1.0</td>\n",
       "      <td>0.274286</td>\n",
       "      <td>0.333333</td>\n",
       "      <td>0.181818</td>\n",
       "    </tr>\n",
       "    <tr>\n",
       "      <th>3</th>\n",
       "      <td>1</td>\n",
       "      <td>0.505636</td>\n",
       "      <td>0.196981</td>\n",
       "      <td>0.742734</td>\n",
       "      <td>0.611940</td>\n",
       "      <td>0.611940</td>\n",
       "      <td>0.0</td>\n",
       "      <td>0.619355</td>\n",
       "      <td>0.76</td>\n",
       "      <td>0.698113</td>\n",
       "      <td>0.285714</td>\n",
       "      <td>0.34</td>\n",
       "      <td>0.698925</td>\n",
       "      <td>0.000000</td>\n",
       "      <td>0.705882</td>\n",
       "      <td>1.0</td>\n",
       "      <td>0.274286</td>\n",
       "      <td>0.333333</td>\n",
       "      <td>0.181818</td>\n",
       "    </tr>\n",
       "    <tr>\n",
       "      <th>4</th>\n",
       "      <td>0</td>\n",
       "      <td>0.505636</td>\n",
       "      <td>0.196981</td>\n",
       "      <td>0.742734</td>\n",
       "      <td>0.611940</td>\n",
       "      <td>0.731343</td>\n",
       "      <td>0.0</td>\n",
       "      <td>0.432258</td>\n",
       "      <td>0.26</td>\n",
       "      <td>0.792453</td>\n",
       "      <td>0.175824</td>\n",
       "      <td>0.61</td>\n",
       "      <td>0.763441</td>\n",
       "      <td>0.097011</td>\n",
       "      <td>0.558824</td>\n",
       "      <td>0.8</td>\n",
       "      <td>0.291429</td>\n",
       "      <td>0.333333</td>\n",
       "      <td>0.272727</td>\n",
       "    </tr>\n",
       "  </tbody>\n",
       "</table>\n",
       "</div>"
      ],
      "text/plain": [
       "   Target  density_per_km  latitude  longitude  maxtempC  mintempC  \\\n",
       "0       1        0.505636  0.196981   0.742734  0.641791  0.567164   \n",
       "1       0        0.505636  0.196981   0.742734  0.641791  0.567164   \n",
       "2       0        0.505636  0.196981   0.742734  0.611940  0.611940   \n",
       "3       1        0.505636  0.196981   0.742734  0.611940  0.611940   \n",
       "4       0        0.505636  0.196981   0.742734  0.611940  0.731343   \n",
       "\n",
       "   totalSnow_cm   sunHour  moon_illumination  DewPointC  WindGustKmph  \\\n",
       "0           0.0  0.625806               0.87   0.622642      0.164835   \n",
       "1           0.0  0.625806               0.87   0.622642      0.164835   \n",
       "2           0.0  0.619355               0.76   0.698113      0.285714   \n",
       "3           0.0  0.619355               0.76   0.698113      0.285714   \n",
       "4           0.0  0.432258               0.26   0.792453      0.175824   \n",
       "\n",
       "   cloudcover  humidity  precipMM  pressure  visibility  winddirDegree  \\\n",
       "0        0.00  0.559140  0.000000  0.602941         1.0       0.531429   \n",
       "1        0.00  0.559140  0.000000  0.602941         1.0       0.531429   \n",
       "2        0.34  0.698925  0.000000  0.705882         1.0       0.274286   \n",
       "3        0.34  0.698925  0.000000  0.705882         1.0       0.274286   \n",
       "4        0.61  0.763441  0.097011  0.558824         0.8       0.291429   \n",
       "\n",
       "       year     month  \n",
       "0  0.333333  0.181818  \n",
       "1  0.333333  0.181818  \n",
       "2  0.333333  0.181818  \n",
       "3  0.333333  0.181818  \n",
       "4  0.333333  0.272727  "
      ]
     },
     "execution_count": 9,
     "metadata": {},
     "output_type": "execute_result"
    }
   ],
   "source": [
    "feature_scale = [feature for feature in df.columns if feature not in ['Target']]\n",
    "\n",
    "scaler=MinMaxScaler()\n",
    "scaler.fit(df[feature_scale])\n",
    "\n",
    "# transform the train and test set, and add on the Id and SalePrice variables\n",
    "data = pd.concat([df[['Target']].reset_index(drop=True),\n",
    "                    pd.DataFrame(scaler.transform(df[feature_scale]), columns=feature_scale)],axis=1)\n",
    "\n",
    "data.head()"
   ]
  },
  {
   "cell_type": "markdown",
   "id": "c37d2729",
   "metadata": {},
   "source": [
    "# Train Test split"
   ]
  },
  {
   "cell_type": "code",
   "execution_count": 10,
   "id": "56e1089f",
   "metadata": {},
   "outputs": [],
   "source": [
    "X = data.drop('Target',axis=1)\n",
    "y = data['Target']\n",
    "\n",
    "X_train,X_test,y_train,y_test = train_test_split(X,y,test_size=0.50,random_state=10, stratify=y)"
   ]
  },
  {
   "cell_type": "code",
   "execution_count": 11,
   "id": "750e487d",
   "metadata": {},
   "outputs": [
    {
     "data": {
      "text/html": [
       "<div>\n",
       "<style scoped>\n",
       "    .dataframe tbody tr th:only-of-type {\n",
       "        vertical-align: middle;\n",
       "    }\n",
       "\n",
       "    .dataframe tbody tr th {\n",
       "        vertical-align: top;\n",
       "    }\n",
       "\n",
       "    .dataframe thead th {\n",
       "        text-align: right;\n",
       "    }\n",
       "</style>\n",
       "<table border=\"1\" class=\"dataframe\">\n",
       "  <thead>\n",
       "    <tr style=\"text-align: right;\">\n",
       "      <th></th>\n",
       "      <th>density_per_km</th>\n",
       "      <th>latitude</th>\n",
       "      <th>longitude</th>\n",
       "      <th>maxtempC</th>\n",
       "      <th>mintempC</th>\n",
       "      <th>totalSnow_cm</th>\n",
       "      <th>sunHour</th>\n",
       "      <th>moon_illumination</th>\n",
       "      <th>DewPointC</th>\n",
       "      <th>WindGustKmph</th>\n",
       "      <th>cloudcover</th>\n",
       "      <th>humidity</th>\n",
       "      <th>precipMM</th>\n",
       "      <th>pressure</th>\n",
       "      <th>visibility</th>\n",
       "      <th>winddirDegree</th>\n",
       "      <th>year</th>\n",
       "      <th>month</th>\n",
       "    </tr>\n",
       "  </thead>\n",
       "  <tbody>\n",
       "    <tr>\n",
       "      <th>9747</th>\n",
       "      <td>0.002883</td>\n",
       "      <td>0.588673</td>\n",
       "      <td>0.563257</td>\n",
       "      <td>0.537313</td>\n",
       "      <td>0.597015</td>\n",
       "      <td>0.0</td>\n",
       "      <td>0.625806</td>\n",
       "      <td>0.34</td>\n",
       "      <td>0.698113</td>\n",
       "      <td>0.087912</td>\n",
       "      <td>0.47</td>\n",
       "      <td>0.849462</td>\n",
       "      <td>0.006155</td>\n",
       "      <td>0.529412</td>\n",
       "      <td>0.6</td>\n",
       "      <td>0.437143</td>\n",
       "      <td>0.333333</td>\n",
       "      <td>0.090909</td>\n",
       "    </tr>\n",
       "    <tr>\n",
       "      <th>26293</th>\n",
       "      <td>0.000128</td>\n",
       "      <td>0.565977</td>\n",
       "      <td>0.552531</td>\n",
       "      <td>0.626866</td>\n",
       "      <td>0.701493</td>\n",
       "      <td>0.0</td>\n",
       "      <td>0.554839</td>\n",
       "      <td>0.48</td>\n",
       "      <td>0.849057</td>\n",
       "      <td>0.054945</td>\n",
       "      <td>0.56</td>\n",
       "      <td>0.881720</td>\n",
       "      <td>0.118406</td>\n",
       "      <td>0.558824</td>\n",
       "      <td>0.7</td>\n",
       "      <td>0.742857</td>\n",
       "      <td>0.333333</td>\n",
       "      <td>0.363636</td>\n",
       "    </tr>\n",
       "    <tr>\n",
       "      <th>41021</th>\n",
       "      <td>0.004803</td>\n",
       "      <td>0.645345</td>\n",
       "      <td>0.577569</td>\n",
       "      <td>0.791045</td>\n",
       "      <td>0.850746</td>\n",
       "      <td>0.0</td>\n",
       "      <td>0.625806</td>\n",
       "      <td>0.81</td>\n",
       "      <td>0.924528</td>\n",
       "      <td>0.252747</td>\n",
       "      <td>0.18</td>\n",
       "      <td>0.623656</td>\n",
       "      <td>0.007327</td>\n",
       "      <td>0.470588</td>\n",
       "      <td>1.0</td>\n",
       "      <td>0.225714</td>\n",
       "      <td>0.333333</td>\n",
       "      <td>0.636364</td>\n",
       "    </tr>\n",
       "    <tr>\n",
       "      <th>12705</th>\n",
       "      <td>0.001296</td>\n",
       "      <td>0.579009</td>\n",
       "      <td>0.530510</td>\n",
       "      <td>0.671642</td>\n",
       "      <td>0.701493</td>\n",
       "      <td>0.0</td>\n",
       "      <td>0.625806</td>\n",
       "      <td>0.14</td>\n",
       "      <td>0.792453</td>\n",
       "      <td>0.065934</td>\n",
       "      <td>0.21</td>\n",
       "      <td>0.731183</td>\n",
       "      <td>0.027550</td>\n",
       "      <td>0.529412</td>\n",
       "      <td>0.9</td>\n",
       "      <td>0.600000</td>\n",
       "      <td>0.333333</td>\n",
       "      <td>0.181818</td>\n",
       "    </tr>\n",
       "    <tr>\n",
       "      <th>48883</th>\n",
       "      <td>0.000317</td>\n",
       "      <td>0.582719</td>\n",
       "      <td>0.525652</td>\n",
       "      <td>0.641791</td>\n",
       "      <td>0.656716</td>\n",
       "      <td>0.0</td>\n",
       "      <td>0.625806</td>\n",
       "      <td>0.02</td>\n",
       "      <td>0.754717</td>\n",
       "      <td>0.021978</td>\n",
       "      <td>0.33</td>\n",
       "      <td>0.698925</td>\n",
       "      <td>0.030481</td>\n",
       "      <td>0.544118</td>\n",
       "      <td>0.9</td>\n",
       "      <td>0.397143</td>\n",
       "      <td>0.333333</td>\n",
       "      <td>0.818182</td>\n",
       "    </tr>\n",
       "  </tbody>\n",
       "</table>\n",
       "</div>"
      ],
      "text/plain": [
       "       density_per_km  latitude  longitude  maxtempC  mintempC  totalSnow_cm  \\\n",
       "9747         0.002883  0.588673   0.563257  0.537313  0.597015           0.0   \n",
       "26293        0.000128  0.565977   0.552531  0.626866  0.701493           0.0   \n",
       "41021        0.004803  0.645345   0.577569  0.791045  0.850746           0.0   \n",
       "12705        0.001296  0.579009   0.530510  0.671642  0.701493           0.0   \n",
       "48883        0.000317  0.582719   0.525652  0.641791  0.656716           0.0   \n",
       "\n",
       "        sunHour  moon_illumination  DewPointC  WindGustKmph  cloudcover  \\\n",
       "9747   0.625806               0.34   0.698113      0.087912        0.47   \n",
       "26293  0.554839               0.48   0.849057      0.054945        0.56   \n",
       "41021  0.625806               0.81   0.924528      0.252747        0.18   \n",
       "12705  0.625806               0.14   0.792453      0.065934        0.21   \n",
       "48883  0.625806               0.02   0.754717      0.021978        0.33   \n",
       "\n",
       "       humidity  precipMM  pressure  visibility  winddirDegree      year  \\\n",
       "9747   0.849462  0.006155  0.529412         0.6       0.437143  0.333333   \n",
       "26293  0.881720  0.118406  0.558824         0.7       0.742857  0.333333   \n",
       "41021  0.623656  0.007327  0.470588         1.0       0.225714  0.333333   \n",
       "12705  0.731183  0.027550  0.529412         0.9       0.600000  0.333333   \n",
       "48883  0.698925  0.030481  0.544118         0.9       0.397143  0.333333   \n",
       "\n",
       "          month  \n",
       "9747   0.090909  \n",
       "26293  0.363636  \n",
       "41021  0.636364  \n",
       "12705  0.181818  \n",
       "48883  0.818182  "
      ]
     },
     "execution_count": 11,
     "metadata": {},
     "output_type": "execute_result"
    }
   ],
   "source": [
    "X_train.head()"
   ]
  },
  {
   "cell_type": "markdown",
   "id": "67cba278",
   "metadata": {},
   "source": [
    "# RidgeClassifier"
   ]
  },
  {
   "cell_type": "code",
   "execution_count": 15,
   "id": "d3d3f76d",
   "metadata": {},
   "outputs": [
    {
     "name": "stdout",
     "output_type": "stream",
     "text": [
      "Accuracy of RidgeClassifier :0.5697\n",
      "[[14493  5874]\n",
      " [10338  6968]]\n",
      "              precision    recall  f1-score   support\n",
      "\n",
      "           0       0.58      0.71      0.64     20367\n",
      "           1       0.54      0.40      0.46     17306\n",
      "\n",
      "    accuracy                           0.57     37673\n",
      "   macro avg       0.56      0.56      0.55     37673\n",
      "weighted avg       0.56      0.57      0.56     37673\n",
      "\n"
     ]
    }
   ],
   "source": [
    "ridge = RidgeClassifier() \n",
    "ridge.fit(X_train,y_train) \n",
    "ridge_pred = ridge.predict(X_test)\n",
    "print('Accuracy of RidgeClassifier :{:.4f}'.format(accuracy_score(y_test,ridge_pred)))\n",
    "print(confusion_matrix(y_test,ridge_pred))\n",
    "print(classification_report(y_test,ridge_pred))"
   ]
  },
  {
   "cell_type": "markdown",
   "id": "ce108cd2",
   "metadata": {},
   "source": [
    "### K Fold Cross Validation"
   ]
  },
  {
   "cell_type": "code",
   "execution_count": 16,
   "id": "d7fd120f",
   "metadata": {},
   "outputs": [
    {
     "name": "stdout",
     "output_type": "stream",
     "text": [
      "[0.66489715 0.59163902 0.56323822 0.5554081  0.55089582 0.55495089\n",
      " 0.54273958 0.38731086 0.41040616 0.50955668]\n",
      "Max : 0.6648971466489715\n",
      "Min : 0.3873108574462437\n",
      "Mean : 0.5331042463724283\n"
     ]
    }
   ],
   "source": [
    "from sklearn.model_selection import KFold\n",
    "from sklearn.model_selection import cross_val_score\n",
    "\n",
    "kfold_validation=KFold(10)\n",
    "\n",
    "model = LogisticRegression() \n",
    "results=cross_val_score(model,X,y,cv=kfold_validation)\n",
    "print(results)\n",
    "print('Max :',np.max(results))\n",
    "print('Min :',np.min(results))\n",
    "print('Mean :',np.mean(results))"
   ]
  },
  {
   "cell_type": "markdown",
   "id": "3794c895",
   "metadata": {},
   "source": [
    "### Stratified K-fold Cross Validation"
   ]
  },
  {
   "cell_type": "code",
   "execution_count": 17,
   "id": "367ee3b4",
   "metadata": {},
   "outputs": [
    {
     "name": "stdout",
     "output_type": "stream",
     "text": [
      "0.4953713939849589\n"
     ]
    }
   ],
   "source": [
    "from sklearn.model_selection import StratifiedKFold\n",
    "skfold=StratifiedKFold(n_splits=10)\n",
    "model = LogisticRegression() \n",
    "scores=cross_val_score(model,X,y,cv=skfold)\n",
    "print(np.mean(scores))"
   ]
  },
  {
   "cell_type": "code",
   "execution_count": 18,
   "id": "8ea5eb0b",
   "metadata": {},
   "outputs": [
    {
     "data": {
      "text/plain": [
       "array([0.5421367 , 0.56987392, 0.56522893, 0.50245521, 0.53948242,\n",
       "       0.55760552, 0.46018051, 0.26148128, 0.47571011, 0.47955933])"
      ]
     },
     "execution_count": 18,
     "metadata": {},
     "output_type": "execute_result"
    }
   ],
   "source": [
    "scores"
   ]
  },
  {
   "cell_type": "code",
   "execution_count": 20,
   "id": "dcd81354",
   "metadata": {},
   "outputs": [
    {
     "name": "stdout",
     "output_type": "stream",
     "text": [
      "Max : 0.5698739216987392\n",
      "Min : 0.26148128484204936\n",
      "Mean : 0.4953713939849589\n"
     ]
    }
   ],
   "source": [
    "print('Max :',np.max(scores))\n",
    "print('Min :',np.min(scores))\n",
    "print('Mean :',np.mean(scores))"
   ]
  },
  {
   "cell_type": "markdown",
   "id": "5ba436e0",
   "metadata": {},
   "source": [
    "# Tuning the model using grid searchCV\n",
    "- Ridge regression is a penalized linear regression model for predicting a numerical value.\n",
    "- Nevertheless, it can be very effective when applied to classification.\n",
    "- Perhaps the most important parameter to tune is the regularization strength (alpha). A good starting point might be values in the range [0.1 to 1.0]\n",
    "\n",
    "1. alpha in [0.1, 0.2, 0.3, 0.4, 0.5, 0.6, 0.7, 0.8, 0.9, 1.0]"
   ]
  },
  {
   "cell_type": "code",
   "execution_count": 22,
   "id": "2326221f",
   "metadata": {},
   "outputs": [
    {
     "name": "stdout",
     "output_type": "stream",
     "text": [
      "Fitting 10 folds for each of 10 candidates, totalling 100 fits\n",
      "[CV] END ..........................................alpha=0.1; total time=   0.0s\n",
      "[CV] END ..........................................alpha=0.1; total time=   0.0s\n",
      "[CV] END ..........................................alpha=0.1; total time=   0.0s\n",
      "[CV] END ..........................................alpha=0.1; total time=   0.0s\n",
      "[CV] END ..........................................alpha=0.1; total time=   0.0s\n",
      "[CV] END ..........................................alpha=0.1; total time=   0.0s\n",
      "[CV] END ..........................................alpha=0.1; total time=   0.0s\n",
      "[CV] END ..........................................alpha=0.1; total time=   0.0s\n",
      "[CV] END ..........................................alpha=0.1; total time=   0.0s\n",
      "[CV] END ..........................................alpha=0.1; total time=   0.0s\n",
      "[CV] END ..........................................alpha=0.2; total time=   0.0s\n",
      "[CV] END ..........................................alpha=0.2; total time=   0.0s\n",
      "[CV] END ..........................................alpha=0.2; total time=   0.0s\n",
      "[CV] END ..........................................alpha=0.2; total time=   0.0s\n",
      "[CV] END ..........................................alpha=0.2; total time=   0.0s\n",
      "[CV] END ..........................................alpha=0.2; total time=   0.0s\n",
      "[CV] END ..........................................alpha=0.2; total time=   0.0s\n",
      "[CV] END ..........................................alpha=0.2; total time=   0.0s\n",
      "[CV] END ..........................................alpha=0.2; total time=   0.0s\n",
      "[CV] END ..........................................alpha=0.2; total time=   0.0s\n",
      "[CV] END ..........................................alpha=0.3; total time=   0.0s\n",
      "[CV] END ..........................................alpha=0.3; total time=   0.0s\n",
      "[CV] END ..........................................alpha=0.3; total time=   0.0s\n",
      "[CV] END ..........................................alpha=0.3; total time=   0.0s\n",
      "[CV] END ..........................................alpha=0.3; total time=   0.0s\n",
      "[CV] END ..........................................alpha=0.3; total time=   0.0s\n",
      "[CV] END ..........................................alpha=0.3; total time=   0.0s\n",
      "[CV] END ..........................................alpha=0.3; total time=   0.0s\n",
      "[CV] END ..........................................alpha=0.3; total time=   0.0s\n",
      "[CV] END ..........................................alpha=0.3; total time=   0.0s\n",
      "[CV] END ..........................................alpha=0.4; total time=   0.0s\n",
      "[CV] END ..........................................alpha=0.4; total time=   0.0s\n",
      "[CV] END ..........................................alpha=0.4; total time=   0.0s\n",
      "[CV] END ..........................................alpha=0.4; total time=   0.0s\n",
      "[CV] END ..........................................alpha=0.4; total time=   0.0s\n",
      "[CV] END ..........................................alpha=0.4; total time=   0.0s\n",
      "[CV] END ..........................................alpha=0.4; total time=   0.0s\n",
      "[CV] END ..........................................alpha=0.4; total time=   0.0s\n",
      "[CV] END ..........................................alpha=0.4; total time=   0.0s\n",
      "[CV] END ..........................................alpha=0.4; total time=   0.0s\n",
      "[CV] END ..........................................alpha=0.5; total time=   0.0s\n",
      "[CV] END ..........................................alpha=0.5; total time=   0.0s\n",
      "[CV] END ..........................................alpha=0.5; total time=   0.0s\n",
      "[CV] END ..........................................alpha=0.5; total time=   0.0s\n",
      "[CV] END ..........................................alpha=0.5; total time=   0.0s\n",
      "[CV] END ..........................................alpha=0.5; total time=   0.0s\n",
      "[CV] END ..........................................alpha=0.5; total time=   0.0s\n",
      "[CV] END ..........................................alpha=0.5; total time=   0.0s\n",
      "[CV] END ..........................................alpha=0.5; total time=   0.0s\n",
      "[CV] END ..........................................alpha=0.5; total time=   0.0s\n",
      "[CV] END ..........................................alpha=0.6; total time=   0.0s\n",
      "[CV] END ..........................................alpha=0.6; total time=   0.0s\n",
      "[CV] END ..........................................alpha=0.6; total time=   0.0s\n",
      "[CV] END ..........................................alpha=0.6; total time=   0.0s\n",
      "[CV] END ..........................................alpha=0.6; total time=   0.0s\n",
      "[CV] END ..........................................alpha=0.6; total time=   0.0s\n",
      "[CV] END ..........................................alpha=0.6; total time=   0.0s\n",
      "[CV] END ..........................................alpha=0.6; total time=   0.0s\n",
      "[CV] END ..........................................alpha=0.6; total time=   0.0s\n",
      "[CV] END ..........................................alpha=0.6; total time=   0.0s\n",
      "[CV] END ..........................................alpha=0.7; total time=   0.0s\n",
      "[CV] END ..........................................alpha=0.7; total time=   0.0s\n",
      "[CV] END ..........................................alpha=0.7; total time=   0.0s\n",
      "[CV] END ..........................................alpha=0.7; total time=   0.0s\n",
      "[CV] END ..........................................alpha=0.7; total time=   0.0s\n",
      "[CV] END ..........................................alpha=0.7; total time=   0.0s\n",
      "[CV] END ..........................................alpha=0.7; total time=   0.0s\n",
      "[CV] END ..........................................alpha=0.7; total time=   0.0s\n",
      "[CV] END ..........................................alpha=0.7; total time=   0.0s\n",
      "[CV] END ..........................................alpha=0.7; total time=   0.0s\n",
      "[CV] END ..........................................alpha=0.8; total time=   0.0s\n",
      "[CV] END ..........................................alpha=0.8; total time=   0.0s\n",
      "[CV] END ..........................................alpha=0.8; total time=   0.0s\n",
      "[CV] END ..........................................alpha=0.8; total time=   0.0s\n",
      "[CV] END ..........................................alpha=0.8; total time=   0.0s\n",
      "[CV] END ..........................................alpha=0.8; total time=   0.0s\n",
      "[CV] END ..........................................alpha=0.8; total time=   0.0s\n",
      "[CV] END ..........................................alpha=0.8; total time=   0.0s\n",
      "[CV] END ..........................................alpha=0.8; total time=   0.0s\n",
      "[CV] END ..........................................alpha=0.8; total time=   0.0s\n",
      "[CV] END ..........................................alpha=0.9; total time=   0.0s\n",
      "[CV] END ..........................................alpha=0.9; total time=   0.0s\n",
      "[CV] END ..........................................alpha=0.9; total time=   0.0s\n",
      "[CV] END ..........................................alpha=0.9; total time=   0.0s\n",
      "[CV] END ..........................................alpha=0.9; total time=   0.0s\n",
      "[CV] END ..........................................alpha=0.9; total time=   0.0s\n",
      "[CV] END ..........................................alpha=0.9; total time=   0.0s\n",
      "[CV] END ..........................................alpha=0.9; total time=   0.0s\n",
      "[CV] END ..........................................alpha=0.9; total time=   0.0s\n",
      "[CV] END ..........................................alpha=0.9; total time=   0.0s\n",
      "[CV] END ..........................................alpha=1.0; total time=   0.0s\n",
      "[CV] END ..........................................alpha=1.0; total time=   0.0s\n",
      "[CV] END ..........................................alpha=1.0; total time=   0.0s\n",
      "[CV] END ..........................................alpha=1.0; total time=   0.0s\n",
      "[CV] END ..........................................alpha=1.0; total time=   0.0s\n",
      "[CV] END ..........................................alpha=1.0; total time=   0.0s\n",
      "[CV] END ..........................................alpha=1.0; total time=   0.0s\n",
      "[CV] END ..........................................alpha=1.0; total time=   0.0s\n",
      "[CV] END ..........................................alpha=1.0; total time=   0.0s\n",
      "[CV] END ..........................................alpha=1.0; total time=   0.0s\n",
      "Best: 0.570981 using {'alpha': 0.1}\n",
      "0.570981 (0.006248) with: {'alpha': 0.1}\n",
      "0.570822 (0.006227) with: {'alpha': 0.2}\n",
      "0.570795 (0.006119) with: {'alpha': 0.3}\n",
      "0.570848 (0.006175) with: {'alpha': 0.4}\n",
      "0.570795 (0.006083) with: {'alpha': 0.5}\n",
      "0.570610 (0.005986) with: {'alpha': 0.6}\n",
      "0.570769 (0.005995) with: {'alpha': 0.7}\n",
      "0.570981 (0.005996) with: {'alpha': 0.8}\n",
      "0.570902 (0.006117) with: {'alpha': 0.9}\n",
      "0.570902 (0.006252) with: {'alpha': 1.0}\n"
     ]
    }
   ],
   "source": [
    "# example of grid searching key hyperparametres for logistic regression\n",
    "from sklearn.model_selection import KFold\n",
    "from sklearn.model_selection import GridSearchCV\n",
    "\n",
    "model = RidgeClassifier() \n",
    "\n",
    "# define models and parameters\n",
    "alpha = [0.1, 0.2, 0.3, 0.4, 0.5, 0.6, 0.7, 0.8, 0.9, 1.0]\n",
    "\n",
    "# define grid search\n",
    "grid = dict(alpha=alpha)\n",
    "\n",
    "cv = KFold(n_splits=10)\n",
    "\n",
    "grid_search = GridSearchCV(estimator=model, param_grid=grid, n_jobs=1, cv=cv, scoring='accuracy',error_score=0,verbose=2)\n",
    "grid_result = grid_search.fit(X_train,y_train)\n",
    "\n",
    "# summarize results\n",
    "print(\"Best: %f using %s\" % (grid_result.best_score_, grid_result.best_params_))\n",
    "means = grid_result.cv_results_['mean_test_score']\n",
    "stds = grid_result.cv_results_['std_test_score']\n",
    "params = grid_result.cv_results_['params']\n",
    "for mean, stdev, param in zip(means, stds, params):\n",
    "    print(\"%f (%f) with: %r\" % (mean, stdev, param))"
   ]
  },
  {
   "cell_type": "code",
   "execution_count": 23,
   "id": "88de23d7",
   "metadata": {},
   "outputs": [
    {
     "data": {
      "text/plain": [
       "0.5709812191807614"
      ]
     },
     "execution_count": 23,
     "metadata": {},
     "output_type": "execute_result"
    }
   ],
   "source": [
    "accuracy = grid_result.best_score_\n",
    "accuracy"
   ]
  },
  {
   "cell_type": "code",
   "execution_count": 24,
   "id": "4c4baa69",
   "metadata": {},
   "outputs": [
    {
     "data": {
      "text/plain": [
       "{'alpha': 0.1}"
      ]
     },
     "execution_count": 24,
     "metadata": {},
     "output_type": "execute_result"
    }
   ],
   "source": [
    "grid_result.best_params_"
   ]
  },
  {
   "cell_type": "markdown",
   "id": "9dc0c6e5",
   "metadata": {},
   "source": [
    "## Model with parameters"
   ]
  },
  {
   "cell_type": "code",
   "execution_count": 32,
   "id": "29393695",
   "metadata": {},
   "outputs": [
    {
     "name": "stdout",
     "output_type": "stream",
     "text": [
      "Accuracy of RidgeClassifier :0.5699\n",
      "[[14428  5939]\n",
      " [10264  7042]]\n",
      "              precision    recall  f1-score   support\n",
      "\n",
      "           0       0.58      0.71      0.64     20367\n",
      "           1       0.54      0.41      0.47     17306\n",
      "\n",
      "    accuracy                           0.57     37673\n",
      "   macro avg       0.56      0.56      0.55     37673\n",
      "weighted avg       0.57      0.57      0.56     37673\n",
      "\n"
     ]
    }
   ],
   "source": [
    "ridge_model = RidgeClassifier(alpha=0.1) \n",
    "ridge_model.fit(X_train,y_train) \n",
    "ridge_model_pred = ridge_model.predict(X_test)\n",
    "print('Accuracy of RidgeClassifier :{:.4f}'.format(accuracy_score(y_test,ridge_model_pred)))\n",
    "print(confusion_matrix(y_test,ridge_model_pred))\n",
    "print(classification_report(y_test,ridge_model_pred))"
   ]
  },
  {
   "cell_type": "code",
   "execution_count": 36,
   "id": "6c329293",
   "metadata": {},
   "outputs": [
    {
     "name": "stdout",
     "output_type": "stream",
     "text": [
      "Accuracy before tuning : 0.5696652775197091\n",
      "\n",
      "Accuracy after tuning : 0.5699041754041356\n"
     ]
    }
   ],
   "source": [
    "print('Accuracy before tuning :',accuracy_score(y_test,ridge_pred))\n",
    "print('\\nAccuracy after tuning :',accuracy_score(y_test,ridge_model_pred))"
   ]
  }
 ],
 "metadata": {
  "kernelspec": {
   "display_name": "Python 3",
   "language": "python",
   "name": "python3"
  },
  "language_info": {
   "codemirror_mode": {
    "name": "ipython",
    "version": 3
   },
   "file_extension": ".py",
   "mimetype": "text/x-python",
   "name": "python",
   "nbconvert_exporter": "python",
   "pygments_lexer": "ipython3",
   "version": "3.7.11"
  },
  "varInspector": {
   "cols": {
    "lenName": 16,
    "lenType": 16,
    "lenVar": 40
   },
   "kernels_config": {
    "python": {
     "delete_cmd_postfix": "",
     "delete_cmd_prefix": "del ",
     "library": "var_list.py",
     "varRefreshCmd": "print(var_dic_list())"
    },
    "r": {
     "delete_cmd_postfix": ") ",
     "delete_cmd_prefix": "rm(",
     "library": "var_list.r",
     "varRefreshCmd": "cat(var_dic_list()) "
    }
   },
   "types_to_exclude": [
    "module",
    "function",
    "builtin_function_or_method",
    "instance",
    "_Feature"
   ],
   "window_display": false
  }
 },
 "nbformat": 4,
 "nbformat_minor": 5
}
