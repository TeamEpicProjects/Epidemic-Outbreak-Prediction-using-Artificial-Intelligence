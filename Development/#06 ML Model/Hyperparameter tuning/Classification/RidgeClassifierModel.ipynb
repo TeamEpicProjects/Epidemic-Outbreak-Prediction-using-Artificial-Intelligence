{
 "cells": [
  {
   "cell_type": "code",
   "execution_count": 1,
   "id": "d5c23c75",
   "metadata": {},
   "outputs": [],
   "source": [
    "from sklearn.model_selection import train_test_split #for splitting the data in train and test\n",
    "from sklearn.preprocessing import MinMaxScaler #for various scaling methods\n",
    "from sklearn.model_selection import cross_val_score\n",
    "from sklearn.linear_model import RidgeClassifier\n",
    "\n",
    "from sklearn.metrics import accuracy_score,confusion_matrix,recall_score #for accuracy matrices\n",
    "from sklearn.metrics import precision_score,classification_report,roc_auc_score,precision_score #for accuracy matrices\n"
   ]
  },
  {
   "cell_type": "code",
   "execution_count": 2,
   "id": "780e3c8f",
   "metadata": {},
   "outputs": [],
   "source": [
    "# import library\n",
    "import pandas as pd\n",
    "import numpy as np\n",
    "import matplotlib.pyplot as plt\n",
    "import seaborn as sns\n",
    "sns.set()\n",
    "\n",
    "import matplotlib.style as style\n",
    "%matplotlib inline\n",
    "style.use('ggplot')\n",
    "\n",
    "from sklearn.preprocessing import MinMaxScaler\n",
    "from sklearn.model_selection import train_test_split\n",
    "\n",
    "import warnings\n",
    "warnings.simplefilter(\"ignore\")\n",
    "\n",
    "pd.pandas.set_option('display.max_columns',None)"
   ]
  },
  {
   "cell_type": "code",
   "execution_count": 3,
   "id": "245a7836",
   "metadata": {},
   "outputs": [
    {
     "data": {
      "text/html": [
       "<div>\n",
       "<style scoped>\n",
       "    .dataframe tbody tr th:only-of-type {\n",
       "        vertical-align: middle;\n",
       "    }\n",
       "\n",
       "    .dataframe tbody tr th {\n",
       "        vertical-align: top;\n",
       "    }\n",
       "\n",
       "    .dataframe thead th {\n",
       "        text-align: right;\n",
       "    }\n",
       "</style>\n",
       "<table border=\"1\" class=\"dataframe\">\n",
       "  <thead>\n",
       "    <tr style=\"text-align: right;\">\n",
       "      <th></th>\n",
       "      <th>density_per_km</th>\n",
       "      <th>latitude</th>\n",
       "      <th>longitude</th>\n",
       "      <th>maxtempC</th>\n",
       "      <th>mintempC</th>\n",
       "      <th>totalSnow_cm</th>\n",
       "      <th>sunHour</th>\n",
       "      <th>moon_illumination</th>\n",
       "      <th>DewPointC</th>\n",
       "      <th>WindGustKmph</th>\n",
       "      <th>cloudcover</th>\n",
       "      <th>humidity</th>\n",
       "      <th>precipMM</th>\n",
       "      <th>pressure</th>\n",
       "      <th>visibility</th>\n",
       "      <th>winddirDegree</th>\n",
       "      <th>year</th>\n",
       "      <th>month</th>\n",
       "      <th>Target</th>\n",
       "    </tr>\n",
       "  </thead>\n",
       "  <tbody>\n",
       "    <tr>\n",
       "      <th>0</th>\n",
       "      <td>12625.800781</td>\n",
       "      <td>-34.603684</td>\n",
       "      <td>-58.381559</td>\n",
       "      <td>24</td>\n",
       "      <td>7</td>\n",
       "      <td>0.0</td>\n",
       "      <td>11.6</td>\n",
       "      <td>87</td>\n",
       "      <td>6</td>\n",
       "      <td>16</td>\n",
       "      <td>0</td>\n",
       "      <td>59</td>\n",
       "      <td>0.0</td>\n",
       "      <td>1018</td>\n",
       "      <td>10</td>\n",
       "      <td>189</td>\n",
       "      <td>2016</td>\n",
       "      <td>3</td>\n",
       "      <td>1</td>\n",
       "    </tr>\n",
       "    <tr>\n",
       "      <th>1</th>\n",
       "      <td>12625.800781</td>\n",
       "      <td>-34.603684</td>\n",
       "      <td>-58.381559</td>\n",
       "      <td>24</td>\n",
       "      <td>7</td>\n",
       "      <td>0.0</td>\n",
       "      <td>11.6</td>\n",
       "      <td>87</td>\n",
       "      <td>6</td>\n",
       "      <td>16</td>\n",
       "      <td>0</td>\n",
       "      <td>59</td>\n",
       "      <td>0.0</td>\n",
       "      <td>1018</td>\n",
       "      <td>10</td>\n",
       "      <td>189</td>\n",
       "      <td>2016</td>\n",
       "      <td>3</td>\n",
       "      <td>0</td>\n",
       "    </tr>\n",
       "    <tr>\n",
       "      <th>2</th>\n",
       "      <td>12625.800781</td>\n",
       "      <td>-34.603684</td>\n",
       "      <td>-58.381559</td>\n",
       "      <td>24</td>\n",
       "      <td>7</td>\n",
       "      <td>0.0</td>\n",
       "      <td>11.6</td>\n",
       "      <td>87</td>\n",
       "      <td>6</td>\n",
       "      <td>16</td>\n",
       "      <td>0</td>\n",
       "      <td>59</td>\n",
       "      <td>0.0</td>\n",
       "      <td>1018</td>\n",
       "      <td>10</td>\n",
       "      <td>189</td>\n",
       "      <td>2016</td>\n",
       "      <td>3</td>\n",
       "      <td>1</td>\n",
       "    </tr>\n",
       "    <tr>\n",
       "      <th>3</th>\n",
       "      <td>12625.800781</td>\n",
       "      <td>-34.603684</td>\n",
       "      <td>-58.381559</td>\n",
       "      <td>24</td>\n",
       "      <td>7</td>\n",
       "      <td>0.0</td>\n",
       "      <td>11.6</td>\n",
       "      <td>87</td>\n",
       "      <td>6</td>\n",
       "      <td>16</td>\n",
       "      <td>0</td>\n",
       "      <td>59</td>\n",
       "      <td>0.0</td>\n",
       "      <td>1018</td>\n",
       "      <td>10</td>\n",
       "      <td>189</td>\n",
       "      <td>2016</td>\n",
       "      <td>3</td>\n",
       "      <td>0</td>\n",
       "    </tr>\n",
       "    <tr>\n",
       "      <th>4</th>\n",
       "      <td>12625.800781</td>\n",
       "      <td>-34.603684</td>\n",
       "      <td>-58.381559</td>\n",
       "      <td>22</td>\n",
       "      <td>10</td>\n",
       "      <td>0.0</td>\n",
       "      <td>11.5</td>\n",
       "      <td>76</td>\n",
       "      <td>10</td>\n",
       "      <td>27</td>\n",
       "      <td>34</td>\n",
       "      <td>72</td>\n",
       "      <td>0.0</td>\n",
       "      <td>1025</td>\n",
       "      <td>10</td>\n",
       "      <td>99</td>\n",
       "      <td>2016</td>\n",
       "      <td>3</td>\n",
       "      <td>0</td>\n",
       "    </tr>\n",
       "  </tbody>\n",
       "</table>\n",
       "</div>"
      ],
      "text/plain": [
       "   density_per_km   latitude  longitude  maxtempC  mintempC  totalSnow_cm  \\\n",
       "0    12625.800781 -34.603684 -58.381559        24         7           0.0   \n",
       "1    12625.800781 -34.603684 -58.381559        24         7           0.0   \n",
       "2    12625.800781 -34.603684 -58.381559        24         7           0.0   \n",
       "3    12625.800781 -34.603684 -58.381559        24         7           0.0   \n",
       "4    12625.800781 -34.603684 -58.381559        22        10           0.0   \n",
       "\n",
       "   sunHour  moon_illumination  DewPointC  WindGustKmph  cloudcover  humidity  \\\n",
       "0     11.6                 87          6            16           0        59   \n",
       "1     11.6                 87          6            16           0        59   \n",
       "2     11.6                 87          6            16           0        59   \n",
       "3     11.6                 87          6            16           0        59   \n",
       "4     11.5                 76         10            27          34        72   \n",
       "\n",
       "   precipMM  pressure  visibility  winddirDegree  year  month  Target  \n",
       "0       0.0      1018          10            189  2016      3       1  \n",
       "1       0.0      1018          10            189  2016      3       0  \n",
       "2       0.0      1018          10            189  2016      3       1  \n",
       "3       0.0      1018          10            189  2016      3       0  \n",
       "4       0.0      1025          10             99  2016      3       0  "
      ]
     },
     "execution_count": 3,
     "metadata": {},
     "output_type": "execute_result"
    }
   ],
   "source": [
    "df = pd.read_csv('classification_dataset.csv')\n",
    "df.head()"
   ]
  },
  {
   "cell_type": "code",
   "execution_count": 4,
   "id": "945c48dc",
   "metadata": {},
   "outputs": [
    {
     "data": {
      "text/plain": [
       "(155223, 19)"
      ]
     },
     "execution_count": 4,
     "metadata": {},
     "output_type": "execute_result"
    }
   ],
   "source": [
    "df.shape"
   ]
  },
  {
   "cell_type": "code",
   "execution_count": 5,
   "id": "6982b8ec",
   "metadata": {},
   "outputs": [
    {
     "data": {
      "text/plain": [
       "Index(['density_per_km', 'latitude', 'longitude', 'maxtempC', 'mintempC',\n",
       "       'totalSnow_cm', 'sunHour', 'moon_illumination', 'DewPointC',\n",
       "       'WindGustKmph', 'cloudcover', 'humidity', 'precipMM', 'pressure',\n",
       "       'visibility', 'winddirDegree', 'year', 'month', 'Target'],\n",
       "      dtype='object')"
      ]
     },
     "execution_count": 5,
     "metadata": {},
     "output_type": "execute_result"
    }
   ],
   "source": [
    "df.columns"
   ]
  },
  {
   "cell_type": "code",
   "execution_count": 6,
   "id": "bfd8f230",
   "metadata": {},
   "outputs": [
    {
     "data": {
      "text/plain": [
       "79878"
      ]
     },
     "execution_count": 6,
     "metadata": {},
     "output_type": "execute_result"
    }
   ],
   "source": [
    "# Total no of duplicate rows\n",
    "df.duplicated().sum()"
   ]
  },
  {
   "cell_type": "code",
   "execution_count": 7,
   "id": "1a62d97f",
   "metadata": {},
   "outputs": [],
   "source": [
    "# Remove duplicate rows\n",
    "df = df.drop_duplicates(keep='first', inplace=False)"
   ]
  },
  {
   "cell_type": "code",
   "execution_count": 8,
   "id": "cd59c66b",
   "metadata": {},
   "outputs": [
    {
     "data": {
      "text/plain": [
       "(75345, 19)"
      ]
     },
     "execution_count": 8,
     "metadata": {},
     "output_type": "execute_result"
    }
   ],
   "source": [
    "df.shape"
   ]
  },
  {
   "cell_type": "markdown",
   "id": "76293ce5",
   "metadata": {},
   "source": [
    "## Feature Scaling"
   ]
  },
  {
   "cell_type": "code",
   "execution_count": 9,
   "id": "7b9443a2",
   "metadata": {},
   "outputs": [
    {
     "data": {
      "text/html": [
       "<div>\n",
       "<style scoped>\n",
       "    .dataframe tbody tr th:only-of-type {\n",
       "        vertical-align: middle;\n",
       "    }\n",
       "\n",
       "    .dataframe tbody tr th {\n",
       "        vertical-align: top;\n",
       "    }\n",
       "\n",
       "    .dataframe thead th {\n",
       "        text-align: right;\n",
       "    }\n",
       "</style>\n",
       "<table border=\"1\" class=\"dataframe\">\n",
       "  <thead>\n",
       "    <tr style=\"text-align: right;\">\n",
       "      <th></th>\n",
       "      <th>Target</th>\n",
       "      <th>latitude</th>\n",
       "      <th>longitude</th>\n",
       "      <th>maxtempC</th>\n",
       "      <th>mintempC</th>\n",
       "      <th>totalSnow_cm</th>\n",
       "      <th>sunHour</th>\n",
       "      <th>moon_illumination</th>\n",
       "      <th>DewPointC</th>\n",
       "      <th>WindGustKmph</th>\n",
       "      <th>cloudcover</th>\n",
       "      <th>humidity</th>\n",
       "      <th>pressure</th>\n",
       "      <th>visibility</th>\n",
       "      <th>winddirDegree</th>\n",
       "      <th>year</th>\n",
       "      <th>month</th>\n",
       "      <th>density_per_km</th>\n",
       "      <th>precipMM</th>\n",
       "    </tr>\n",
       "  </thead>\n",
       "  <tbody>\n",
       "    <tr>\n",
       "      <th>0</th>\n",
       "      <td>1</td>\n",
       "      <td>-34.603684</td>\n",
       "      <td>-58.381559</td>\n",
       "      <td>24</td>\n",
       "      <td>7</td>\n",
       "      <td>0.0</td>\n",
       "      <td>11.6</td>\n",
       "      <td>87</td>\n",
       "      <td>6</td>\n",
       "      <td>16</td>\n",
       "      <td>0</td>\n",
       "      <td>59</td>\n",
       "      <td>1018</td>\n",
       "      <td>10</td>\n",
       "      <td>189</td>\n",
       "      <td>2016</td>\n",
       "      <td>3</td>\n",
       "      <td>0.505636</td>\n",
       "      <td>0.000000</td>\n",
       "    </tr>\n",
       "    <tr>\n",
       "      <th>1</th>\n",
       "      <td>0</td>\n",
       "      <td>-34.603684</td>\n",
       "      <td>-58.381559</td>\n",
       "      <td>24</td>\n",
       "      <td>7</td>\n",
       "      <td>0.0</td>\n",
       "      <td>11.6</td>\n",
       "      <td>87</td>\n",
       "      <td>6</td>\n",
       "      <td>16</td>\n",
       "      <td>0</td>\n",
       "      <td>59</td>\n",
       "      <td>1018</td>\n",
       "      <td>10</td>\n",
       "      <td>189</td>\n",
       "      <td>2016</td>\n",
       "      <td>3</td>\n",
       "      <td>0.505636</td>\n",
       "      <td>0.000000</td>\n",
       "    </tr>\n",
       "    <tr>\n",
       "      <th>2</th>\n",
       "      <td>0</td>\n",
       "      <td>-34.603684</td>\n",
       "      <td>-58.381559</td>\n",
       "      <td>22</td>\n",
       "      <td>10</td>\n",
       "      <td>0.0</td>\n",
       "      <td>11.5</td>\n",
       "      <td>76</td>\n",
       "      <td>10</td>\n",
       "      <td>27</td>\n",
       "      <td>34</td>\n",
       "      <td>72</td>\n",
       "      <td>1025</td>\n",
       "      <td>10</td>\n",
       "      <td>99</td>\n",
       "      <td>2016</td>\n",
       "      <td>3</td>\n",
       "      <td>0.505636</td>\n",
       "      <td>0.000000</td>\n",
       "    </tr>\n",
       "    <tr>\n",
       "      <th>3</th>\n",
       "      <td>1</td>\n",
       "      <td>-34.603684</td>\n",
       "      <td>-58.381559</td>\n",
       "      <td>22</td>\n",
       "      <td>10</td>\n",
       "      <td>0.0</td>\n",
       "      <td>11.5</td>\n",
       "      <td>76</td>\n",
       "      <td>10</td>\n",
       "      <td>27</td>\n",
       "      <td>34</td>\n",
       "      <td>72</td>\n",
       "      <td>1025</td>\n",
       "      <td>10</td>\n",
       "      <td>99</td>\n",
       "      <td>2016</td>\n",
       "      <td>3</td>\n",
       "      <td>0.505636</td>\n",
       "      <td>0.000000</td>\n",
       "    </tr>\n",
       "    <tr>\n",
       "      <th>4</th>\n",
       "      <td>0</td>\n",
       "      <td>-34.603684</td>\n",
       "      <td>-58.381559</td>\n",
       "      <td>22</td>\n",
       "      <td>18</td>\n",
       "      <td>0.0</td>\n",
       "      <td>8.6</td>\n",
       "      <td>26</td>\n",
       "      <td>15</td>\n",
       "      <td>17</td>\n",
       "      <td>61</td>\n",
       "      <td>78</td>\n",
       "      <td>1015</td>\n",
       "      <td>8</td>\n",
       "      <td>105</td>\n",
       "      <td>2016</td>\n",
       "      <td>4</td>\n",
       "      <td>0.505636</td>\n",
       "      <td>0.097011</td>\n",
       "    </tr>\n",
       "  </tbody>\n",
       "</table>\n",
       "</div>"
      ],
      "text/plain": [
       "   Target   latitude  longitude  maxtempC  mintempC  totalSnow_cm  sunHour  \\\n",
       "0       1 -34.603684 -58.381559        24         7           0.0     11.6   \n",
       "1       0 -34.603684 -58.381559        24         7           0.0     11.6   \n",
       "2       0 -34.603684 -58.381559        22        10           0.0     11.5   \n",
       "3       1 -34.603684 -58.381559        22        10           0.0     11.5   \n",
       "4       0 -34.603684 -58.381559        22        18           0.0      8.6   \n",
       "\n",
       "   moon_illumination  DewPointC  WindGustKmph  cloudcover  humidity  pressure  \\\n",
       "0                 87          6            16           0        59      1018   \n",
       "1                 87          6            16           0        59      1018   \n",
       "2                 76         10            27          34        72      1025   \n",
       "3                 76         10            27          34        72      1025   \n",
       "4                 26         15            17          61        78      1015   \n",
       "\n",
       "   visibility  winddirDegree  year  month  density_per_km  precipMM  \n",
       "0          10            189  2016      3        0.505636  0.000000  \n",
       "1          10            189  2016      3        0.505636  0.000000  \n",
       "2          10             99  2016      3        0.505636  0.000000  \n",
       "3          10             99  2016      3        0.505636  0.000000  \n",
       "4           8            105  2016      4        0.505636  0.097011  "
      ]
     },
     "execution_count": 9,
     "metadata": {},
     "output_type": "execute_result"
    }
   ],
   "source": [
    "feature_scale = [feature for feature in df.columns if feature in ['density_per_km','precipMM']]\n",
    "\n",
    "scaler=MinMaxScaler()\n",
    "scaler.fit(df[feature_scale])\n",
    "\n",
    "# transform the train and test set, and add on the Id and SalePrice variables\n",
    "data = pd.concat([df[['Target','latitude', 'longitude', 'maxtempC', 'mintempC',\n",
    "       'totalSnow_cm', 'sunHour', 'moon_illumination', 'DewPointC',\n",
    "       'WindGustKmph', 'cloudcover', 'humidity', 'pressure',\n",
    "       'visibility', 'winddirDegree', 'year', 'month']].reset_index(drop=True),\n",
    "                    pd.DataFrame(scaler.transform(df[feature_scale]), columns=feature_scale)],axis=1)\n",
    "\n",
    "data.head()"
   ]
  },
  {
   "cell_type": "markdown",
   "id": "c37d2729",
   "metadata": {},
   "source": [
    "# Train Test split"
   ]
  },
  {
   "cell_type": "code",
   "execution_count": 10,
   "id": "56e1089f",
   "metadata": {},
   "outputs": [],
   "source": [
    "X = data.drop('Target',axis=1)\n",
    "y = data['Target']\n",
    "\n",
    "X_train,X_test,y_train,y_test = train_test_split(X,y,test_size=0.50,random_state=10, stratify=y)"
   ]
  },
  {
   "cell_type": "code",
   "execution_count": 11,
   "id": "750e487d",
   "metadata": {},
   "outputs": [
    {
     "data": {
      "text/html": [
       "<div>\n",
       "<style scoped>\n",
       "    .dataframe tbody tr th:only-of-type {\n",
       "        vertical-align: middle;\n",
       "    }\n",
       "\n",
       "    .dataframe tbody tr th {\n",
       "        vertical-align: top;\n",
       "    }\n",
       "\n",
       "    .dataframe thead th {\n",
       "        text-align: right;\n",
       "    }\n",
       "</style>\n",
       "<table border=\"1\" class=\"dataframe\">\n",
       "  <thead>\n",
       "    <tr style=\"text-align: right;\">\n",
       "      <th></th>\n",
       "      <th>latitude</th>\n",
       "      <th>longitude</th>\n",
       "      <th>maxtempC</th>\n",
       "      <th>mintempC</th>\n",
       "      <th>totalSnow_cm</th>\n",
       "      <th>sunHour</th>\n",
       "      <th>moon_illumination</th>\n",
       "      <th>DewPointC</th>\n",
       "      <th>WindGustKmph</th>\n",
       "      <th>cloudcover</th>\n",
       "      <th>humidity</th>\n",
       "      <th>pressure</th>\n",
       "      <th>visibility</th>\n",
       "      <th>winddirDegree</th>\n",
       "      <th>year</th>\n",
       "      <th>month</th>\n",
       "      <th>density_per_km</th>\n",
       "      <th>precipMM</th>\n",
       "    </tr>\n",
       "  </thead>\n",
       "  <tbody>\n",
       "    <tr>\n",
       "      <th>9747</th>\n",
       "      <td>5.566838</td>\n",
       "      <td>-73.450095</td>\n",
       "      <td>17</td>\n",
       "      <td>9</td>\n",
       "      <td>0.0</td>\n",
       "      <td>11.6</td>\n",
       "      <td>34</td>\n",
       "      <td>10</td>\n",
       "      <td>9</td>\n",
       "      <td>47</td>\n",
       "      <td>86</td>\n",
       "      <td>1013</td>\n",
       "      <td>6</td>\n",
       "      <td>156</td>\n",
       "      <td>2016</td>\n",
       "      <td>2</td>\n",
       "      <td>0.002883</td>\n",
       "      <td>0.006155</td>\n",
       "    </tr>\n",
       "    <tr>\n",
       "      <th>26293</th>\n",
       "      <td>3.239241</td>\n",
       "      <td>-74.350661</td>\n",
       "      <td>23</td>\n",
       "      <td>16</td>\n",
       "      <td>0.0</td>\n",
       "      <td>10.5</td>\n",
       "      <td>48</td>\n",
       "      <td>18</td>\n",
       "      <td>6</td>\n",
       "      <td>56</td>\n",
       "      <td>89</td>\n",
       "      <td>1015</td>\n",
       "      <td>7</td>\n",
       "      <td>263</td>\n",
       "      <td>2016</td>\n",
       "      <td>5</td>\n",
       "      <td>0.000128</td>\n",
       "      <td>0.118406</td>\n",
       "    </tr>\n",
       "    <tr>\n",
       "      <th>41021</th>\n",
       "      <td>11.378934</td>\n",
       "      <td>-72.248517</td>\n",
       "      <td>34</td>\n",
       "      <td>26</td>\n",
       "      <td>0.0</td>\n",
       "      <td>11.6</td>\n",
       "      <td>81</td>\n",
       "      <td>22</td>\n",
       "      <td>24</td>\n",
       "      <td>18</td>\n",
       "      <td>65</td>\n",
       "      <td>1009</td>\n",
       "      <td>10</td>\n",
       "      <td>82</td>\n",
       "      <td>2016</td>\n",
       "      <td>8</td>\n",
       "      <td>0.004803</td>\n",
       "      <td>0.007327</td>\n",
       "    </tr>\n",
       "    <tr>\n",
       "      <th>12705</th>\n",
       "      <td>4.575712</td>\n",
       "      <td>-76.199521</td>\n",
       "      <td>26</td>\n",
       "      <td>16</td>\n",
       "      <td>0.0</td>\n",
       "      <td>11.6</td>\n",
       "      <td>14</td>\n",
       "      <td>15</td>\n",
       "      <td>7</td>\n",
       "      <td>21</td>\n",
       "      <td>75</td>\n",
       "      <td>1013</td>\n",
       "      <td>9</td>\n",
       "      <td>213</td>\n",
       "      <td>2016</td>\n",
       "      <td>3</td>\n",
       "      <td>0.001296</td>\n",
       "      <td>0.027550</td>\n",
       "    </tr>\n",
       "    <tr>\n",
       "      <th>48883</th>\n",
       "      <td>4.956167</td>\n",
       "      <td>-76.607349</td>\n",
       "      <td>24</td>\n",
       "      <td>13</td>\n",
       "      <td>0.0</td>\n",
       "      <td>11.6</td>\n",
       "      <td>2</td>\n",
       "      <td>13</td>\n",
       "      <td>3</td>\n",
       "      <td>33</td>\n",
       "      <td>72</td>\n",
       "      <td>1014</td>\n",
       "      <td>9</td>\n",
       "      <td>142</td>\n",
       "      <td>2016</td>\n",
       "      <td>10</td>\n",
       "      <td>0.000317</td>\n",
       "      <td>0.030481</td>\n",
       "    </tr>\n",
       "  </tbody>\n",
       "</table>\n",
       "</div>"
      ],
      "text/plain": [
       "        latitude  longitude  maxtempC  mintempC  totalSnow_cm  sunHour  \\\n",
       "9747    5.566838 -73.450095        17         9           0.0     11.6   \n",
       "26293   3.239241 -74.350661        23        16           0.0     10.5   \n",
       "41021  11.378934 -72.248517        34        26           0.0     11.6   \n",
       "12705   4.575712 -76.199521        26        16           0.0     11.6   \n",
       "48883   4.956167 -76.607349        24        13           0.0     11.6   \n",
       "\n",
       "       moon_illumination  DewPointC  WindGustKmph  cloudcover  humidity  \\\n",
       "9747                  34         10             9          47        86   \n",
       "26293                 48         18             6          56        89   \n",
       "41021                 81         22            24          18        65   \n",
       "12705                 14         15             7          21        75   \n",
       "48883                  2         13             3          33        72   \n",
       "\n",
       "       pressure  visibility  winddirDegree  year  month  density_per_km  \\\n",
       "9747       1013           6            156  2016      2        0.002883   \n",
       "26293      1015           7            263  2016      5        0.000128   \n",
       "41021      1009          10             82  2016      8        0.004803   \n",
       "12705      1013           9            213  2016      3        0.001296   \n",
       "48883      1014           9            142  2016     10        0.000317   \n",
       "\n",
       "       precipMM  \n",
       "9747   0.006155  \n",
       "26293  0.118406  \n",
       "41021  0.007327  \n",
       "12705  0.027550  \n",
       "48883  0.030481  "
      ]
     },
     "execution_count": 11,
     "metadata": {},
     "output_type": "execute_result"
    }
   ],
   "source": [
    "X_train.head()"
   ]
  },
  {
   "cell_type": "markdown",
   "id": "67cba278",
   "metadata": {},
   "source": [
    "# RidgeClassifier"
   ]
  },
  {
   "cell_type": "code",
   "execution_count": 12,
   "id": "d3d3f76d",
   "metadata": {},
   "outputs": [
    {
     "name": "stdout",
     "output_type": "stream",
     "text": [
      "Accuracy of RidgeClassifier :0.5697\n",
      "[[14411  5956]\n",
      " [10254  7052]]\n",
      "              precision    recall  f1-score   support\n",
      "\n",
      "           0       0.58      0.71      0.64     20367\n",
      "           1       0.54      0.41      0.47     17306\n",
      "\n",
      "    accuracy                           0.57     37673\n",
      "   macro avg       0.56      0.56      0.55     37673\n",
      "weighted avg       0.56      0.57      0.56     37673\n",
      "\n"
     ]
    }
   ],
   "source": [
    "ridge = RidgeClassifier() \n",
    "ridge.fit(X_train,y_train) \n",
    "ridge_pred = ridge.predict(X_test)\n",
    "print('Accuracy of RidgeClassifier :{:.4f}'.format(accuracy_score(y_test,ridge_pred)))\n",
    "print(confusion_matrix(y_test,ridge_pred))\n",
    "print(classification_report(y_test,ridge_pred))"
   ]
  },
  {
   "cell_type": "markdown",
   "id": "ce108cd2",
   "metadata": {},
   "source": [
    "### K Fold Cross Validation"
   ]
  },
  {
   "cell_type": "code",
   "execution_count": 14,
   "id": "d7fd120f",
   "metadata": {},
   "outputs": [
    {
     "name": "stdout",
     "output_type": "stream",
     "text": [
      "[0.66290644 0.59097545 0.56376908 0.55527538 0.55063039 0.55495089\n",
      " 0.54260685 0.3866472  0.41544996 0.50982214]\n",
      "Max : 0.6629064366290643\n",
      "Min : 0.3866471993628882\n",
      "Mean : 0.5333033772665884\n"
     ]
    }
   ],
   "source": [
    "from sklearn.model_selection import KFold\n",
    "from sklearn.model_selection import cross_val_score\n",
    "\n",
    "kfold_validation=KFold(10)\n",
    "\n",
    "model = RidgeClassifier() \n",
    "results=cross_val_score(model,X,y,cv=kfold_validation)\n",
    "print(results)\n",
    "print('Max :',np.max(results))\n",
    "print('Min :',np.min(results))\n",
    "print('Mean :',np.mean(results))"
   ]
  },
  {
   "cell_type": "markdown",
   "id": "3794c895",
   "metadata": {},
   "source": [
    "### Stratified K-fold Cross Validation"
   ]
  },
  {
   "cell_type": "code",
   "execution_count": 15,
   "id": "367ee3b4",
   "metadata": {},
   "outputs": [
    {
     "name": "stdout",
     "output_type": "stream",
     "text": [
      "0.4957164750498911\n"
     ]
    }
   ],
   "source": [
    "from sklearn.model_selection import StratifiedKFold\n",
    "skfold=StratifiedKFold(n_splits=10)\n",
    "model = RidgeClassifier() \n",
    "scores=cross_val_score(model,X,y,cv=skfold)\n",
    "print(np.mean(scores))"
   ]
  },
  {
   "cell_type": "code",
   "execution_count": 16,
   "id": "8ea5eb0b",
   "metadata": {},
   "outputs": [
    {
     "data": {
      "text/plain": [
       "array([0.54187127, 0.56960849, 0.56828135, 0.50218978, 0.53881885,\n",
       "       0.55216353, 0.46270242, 0.26426865, 0.48062118, 0.47663924])"
      ]
     },
     "execution_count": 16,
     "metadata": {},
     "output_type": "execute_result"
    }
   ],
   "source": [
    "scores"
   ]
  },
  {
   "cell_type": "code",
   "execution_count": 17,
   "id": "dcd81354",
   "metadata": {},
   "outputs": [
    {
     "name": "stdout",
     "output_type": "stream",
     "text": [
      "Max : 0.5696084936960849\n",
      "Min : 0.2642686487921423\n",
      "Mean : 0.4957164750498911\n"
     ]
    }
   ],
   "source": [
    "print('Max :',np.max(scores))\n",
    "print('Min :',np.min(scores))\n",
    "print('Mean :',np.mean(scores))"
   ]
  },
  {
   "cell_type": "markdown",
   "id": "5ba436e0",
   "metadata": {},
   "source": [
    "# Tuning the model using grid searchCV\n",
    "- Ridge regression is a penalized linear regression model for predicting a numerical value.\n",
    "- Nevertheless, it can be very effective when applied to classification.\n",
    "- Perhaps the most important parameter to tune is the regularization strength (alpha). A good starting point might be values in the range [0.1 to 1.0]\n",
    "\n",
    "1. alpha in [0.1, 0.2, 0.3, 0.4, 0.5, 0.6, 0.7, 0.8, 0.9, 1.0]"
   ]
  },
  {
   "cell_type": "code",
   "execution_count": 18,
   "id": "2326221f",
   "metadata": {},
   "outputs": [
    {
     "name": "stdout",
     "output_type": "stream",
     "text": [
      "Fitting 10 folds for each of 10 candidates, totalling 100 fits\n",
      "[CV] END ..........................................alpha=0.1; total time=   0.0s\n",
      "[CV] END ..........................................alpha=0.1; total time=   0.0s\n",
      "[CV] END ..........................................alpha=0.1; total time=   0.0s\n",
      "[CV] END ..........................................alpha=0.1; total time=   0.0s\n",
      "[CV] END ..........................................alpha=0.1; total time=   0.0s\n",
      "[CV] END ..........................................alpha=0.1; total time=   0.0s\n",
      "[CV] END ..........................................alpha=0.1; total time=   0.0s\n",
      "[CV] END ..........................................alpha=0.1; total time=   0.0s\n",
      "[CV] END ..........................................alpha=0.1; total time=   0.0s\n",
      "[CV] END ..........................................alpha=0.1; total time=   0.0s\n",
      "[CV] END ..........................................alpha=0.2; total time=   0.0s\n",
      "[CV] END ..........................................alpha=0.2; total time=   0.0s\n",
      "[CV] END ..........................................alpha=0.2; total time=   0.0s\n",
      "[CV] END ..........................................alpha=0.2; total time=   0.0s\n",
      "[CV] END ..........................................alpha=0.2; total time=   0.0s\n",
      "[CV] END ..........................................alpha=0.2; total time=   0.0s\n",
      "[CV] END ..........................................alpha=0.2; total time=   0.0s\n",
      "[CV] END ..........................................alpha=0.2; total time=   0.0s\n",
      "[CV] END ..........................................alpha=0.2; total time=   0.0s\n",
      "[CV] END ..........................................alpha=0.2; total time=   0.0s\n",
      "[CV] END ..........................................alpha=0.3; total time=   0.0s\n",
      "[CV] END ..........................................alpha=0.3; total time=   0.0s\n",
      "[CV] END ..........................................alpha=0.3; total time=   0.0s\n",
      "[CV] END ..........................................alpha=0.3; total time=   0.0s\n",
      "[CV] END ..........................................alpha=0.3; total time=   0.0s\n",
      "[CV] END ..........................................alpha=0.3; total time=   0.0s\n",
      "[CV] END ..........................................alpha=0.3; total time=   0.0s\n",
      "[CV] END ..........................................alpha=0.3; total time=   0.0s\n",
      "[CV] END ..........................................alpha=0.3; total time=   0.0s\n",
      "[CV] END ..........................................alpha=0.3; total time=   0.0s\n",
      "[CV] END ..........................................alpha=0.4; total time=   0.0s\n",
      "[CV] END ..........................................alpha=0.4; total time=   0.0s\n",
      "[CV] END ..........................................alpha=0.4; total time=   0.0s\n",
      "[CV] END ..........................................alpha=0.4; total time=   0.0s\n",
      "[CV] END ..........................................alpha=0.4; total time=   0.0s\n",
      "[CV] END ..........................................alpha=0.4; total time=   0.0s\n",
      "[CV] END ..........................................alpha=0.4; total time=   0.0s\n",
      "[CV] END ..........................................alpha=0.4; total time=   0.0s\n",
      "[CV] END ..........................................alpha=0.4; total time=   0.0s\n",
      "[CV] END ..........................................alpha=0.4; total time=   0.0s\n",
      "[CV] END ..........................................alpha=0.5; total time=   0.0s\n",
      "[CV] END ..........................................alpha=0.5; total time=   0.0s\n",
      "[CV] END ..........................................alpha=0.5; total time=   0.0s\n",
      "[CV] END ..........................................alpha=0.5; total time=   0.0s\n",
      "[CV] END ..........................................alpha=0.5; total time=   0.0s\n",
      "[CV] END ..........................................alpha=0.5; total time=   0.0s\n",
      "[CV] END ..........................................alpha=0.5; total time=   0.0s\n",
      "[CV] END ..........................................alpha=0.5; total time=   0.0s\n",
      "[CV] END ..........................................alpha=0.5; total time=   0.0s\n",
      "[CV] END ..........................................alpha=0.5; total time=   0.0s\n",
      "[CV] END ..........................................alpha=0.6; total time=   0.0s\n",
      "[CV] END ..........................................alpha=0.6; total time=   0.0s\n",
      "[CV] END ..........................................alpha=0.6; total time=   0.0s\n",
      "[CV] END ..........................................alpha=0.6; total time=   0.0s\n",
      "[CV] END ..........................................alpha=0.6; total time=   0.0s\n",
      "[CV] END ..........................................alpha=0.6; total time=   0.0s\n",
      "[CV] END ..........................................alpha=0.6; total time=   0.0s\n",
      "[CV] END ..........................................alpha=0.6; total time=   0.0s\n",
      "[CV] END ..........................................alpha=0.6; total time=   0.0s\n",
      "[CV] END ..........................................alpha=0.6; total time=   0.0s\n",
      "[CV] END ..........................................alpha=0.7; total time=   0.0s\n",
      "[CV] END ..........................................alpha=0.7; total time=   0.0s\n",
      "[CV] END ..........................................alpha=0.7; total time=   0.0s\n",
      "[CV] END ..........................................alpha=0.7; total time=   0.0s\n",
      "[CV] END ..........................................alpha=0.7; total time=   0.0s\n",
      "[CV] END ..........................................alpha=0.7; total time=   0.0s\n",
      "[CV] END ..........................................alpha=0.7; total time=   0.0s\n",
      "[CV] END ..........................................alpha=0.7; total time=   0.0s\n",
      "[CV] END ..........................................alpha=0.7; total time=   0.0s\n",
      "[CV] END ..........................................alpha=0.7; total time=   0.0s\n",
      "[CV] END ..........................................alpha=0.8; total time=   0.0s\n",
      "[CV] END ..........................................alpha=0.8; total time=   0.0s\n",
      "[CV] END ..........................................alpha=0.8; total time=   0.0s\n",
      "[CV] END ..........................................alpha=0.8; total time=   0.0s\n",
      "[CV] END ..........................................alpha=0.8; total time=   0.0s\n",
      "[CV] END ..........................................alpha=0.8; total time=   0.0s\n",
      "[CV] END ..........................................alpha=0.8; total time=   0.0s\n",
      "[CV] END ..........................................alpha=0.8; total time=   0.0s\n",
      "[CV] END ..........................................alpha=0.8; total time=   0.0s\n",
      "[CV] END ..........................................alpha=0.8; total time=   0.0s\n",
      "[CV] END ..........................................alpha=0.9; total time=   0.0s\n",
      "[CV] END ..........................................alpha=0.9; total time=   0.0s\n",
      "[CV] END ..........................................alpha=0.9; total time=   0.0s\n",
      "[CV] END ..........................................alpha=0.9; total time=   0.0s\n",
      "[CV] END ..........................................alpha=0.9; total time=   0.0s\n",
      "[CV] END ..........................................alpha=0.9; total time=   0.0s\n",
      "[CV] END ..........................................alpha=0.9; total time=   0.0s\n",
      "[CV] END ..........................................alpha=0.9; total time=   0.0s\n",
      "[CV] END ..........................................alpha=0.9; total time=   0.0s\n",
      "[CV] END ..........................................alpha=0.9; total time=   0.0s\n",
      "[CV] END ..........................................alpha=1.0; total time=   0.0s\n",
      "[CV] END ..........................................alpha=1.0; total time=   0.0s\n",
      "[CV] END ..........................................alpha=1.0; total time=   0.0s\n",
      "[CV] END ..........................................alpha=1.0; total time=   0.0s\n",
      "[CV] END ..........................................alpha=1.0; total time=   0.0s\n",
      "[CV] END ..........................................alpha=1.0; total time=   0.0s\n",
      "[CV] END ..........................................alpha=1.0; total time=   0.0s\n",
      "[CV] END ..........................................alpha=1.0; total time=   0.0s\n",
      "[CV] END ..........................................alpha=1.0; total time=   0.0s\n",
      "[CV] END ..........................................alpha=1.0; total time=   0.0s\n",
      "Best: 0.570795 using {'alpha': 0.5}\n",
      "0.570769 (0.006083) with: {'alpha': 0.1}\n",
      "0.570769 (0.006083) with: {'alpha': 0.2}\n",
      "0.570769 (0.006083) with: {'alpha': 0.3}\n",
      "0.570769 (0.006083) with: {'alpha': 0.4}\n",
      "0.570795 (0.006119) with: {'alpha': 0.5}\n",
      "0.570795 (0.006119) with: {'alpha': 0.6}\n",
      "0.570795 (0.006119) with: {'alpha': 0.7}\n",
      "0.570795 (0.006119) with: {'alpha': 0.8}\n",
      "0.570795 (0.006119) with: {'alpha': 0.9}\n",
      "0.570795 (0.006119) with: {'alpha': 1.0}\n"
     ]
    }
   ],
   "source": [
    "# example of grid searching key hyperparametres for logistic regression\n",
    "from sklearn.model_selection import KFold\n",
    "from sklearn.model_selection import GridSearchCV\n",
    "\n",
    "model = RidgeClassifier() \n",
    "\n",
    "# define models and parameters\n",
    "alpha = [0.1, 0.2, 0.3, 0.4, 0.5, 0.6, 0.7, 0.8, 0.9, 1.0]\n",
    "\n",
    "# define grid search\n",
    "grid = dict(alpha=alpha)\n",
    "\n",
    "cv = KFold(n_splits=10)\n",
    "\n",
    "grid_search = GridSearchCV(estimator=model, param_grid=grid, n_jobs=1, cv=cv, scoring='accuracy',error_score=0,verbose=2)\n",
    "grid_result = grid_search.fit(X_train,y_train)\n",
    "\n",
    "# summarize results\n",
    "print(\"Best: %f using %s\" % (grid_result.best_score_, grid_result.best_params_))\n",
    "means = grid_result.cv_results_['mean_test_score']\n",
    "stds = grid_result.cv_results_['std_test_score']\n",
    "params = grid_result.cv_results_['params']\n",
    "for mean, stdev, param in zip(means, stds, params):\n",
    "    print(\"%f (%f) with: %r\" % (mean, stdev, param))"
   ]
  },
  {
   "cell_type": "code",
   "execution_count": 19,
   "id": "88de23d7",
   "metadata": {},
   "outputs": [
    {
     "data": {
      "text/plain": [
       "0.5707954019626243"
      ]
     },
     "execution_count": 19,
     "metadata": {},
     "output_type": "execute_result"
    }
   ],
   "source": [
    "accuracy = grid_result.best_score_\n",
    "accuracy"
   ]
  },
  {
   "cell_type": "code",
   "execution_count": 20,
   "id": "4c4baa69",
   "metadata": {},
   "outputs": [
    {
     "data": {
      "text/plain": [
       "{'alpha': 0.5}"
      ]
     },
     "execution_count": 20,
     "metadata": {},
     "output_type": "execute_result"
    }
   ],
   "source": [
    "grid_result.best_params_"
   ]
  },
  {
   "cell_type": "markdown",
   "id": "9dc0c6e5",
   "metadata": {},
   "source": [
    "## Model with parameters"
   ]
  },
  {
   "cell_type": "code",
   "execution_count": 27,
   "id": "29393695",
   "metadata": {},
   "outputs": [
    {
     "name": "stdout",
     "output_type": "stream",
     "text": [
      "Accuracy of RidgeClassifier :0.5697\n",
      "[[14410  5957]\n",
      " [10253  7053]]\n",
      "              precision    recall  f1-score   support\n",
      "\n",
      "           0       0.58      0.71      0.64     20367\n",
      "           1       0.54      0.41      0.47     17306\n",
      "\n",
      "    accuracy                           0.57     37673\n",
      "   macro avg       0.56      0.56      0.55     37673\n",
      "weighted avg       0.56      0.57      0.56     37673\n",
      "\n"
     ]
    }
   ],
   "source": [
    "ridge_model = RidgeClassifier(alpha=0.5) \n",
    "ridge_model.fit(X_train,y_train) \n",
    "ridge_model_pred = ridge_model.predict(X_test)\n",
    "print('Accuracy of RidgeClassifier :{:.4f}'.format(accuracy_score(y_test,ridge_model_pred)))\n",
    "print(confusion_matrix(y_test,ridge_model_pred))\n",
    "print(classification_report(y_test,ridge_model_pred))"
   ]
  },
  {
   "cell_type": "code",
   "execution_count": 22,
   "id": "6c329293",
   "metadata": {},
   "outputs": [
    {
     "name": "stdout",
     "output_type": "stream",
     "text": [
      "Accuracy before tuning : 0.5697183659384705\n",
      "\n",
      "Accuracy after tuning : 0.5697183659384705\n"
     ]
    }
   ],
   "source": [
    "print('Accuracy before tuning :',accuracy_score(y_test,ridge_pred))\n",
    "print('\\nAccuracy after tuning :',accuracy_score(y_test,ridge_model_pred))"
   ]
  }
 ],
 "metadata": {
  "kernelspec": {
   "display_name": "Python 3",
   "language": "python",
   "name": "python3"
  },
  "language_info": {
   "codemirror_mode": {
    "name": "ipython",
    "version": 3
   },
   "file_extension": ".py",
   "mimetype": "text/x-python",
   "name": "python",
   "nbconvert_exporter": "python",
   "pygments_lexer": "ipython3",
   "version": "3.7.11"
  },
  "varInspector": {
   "cols": {
    "lenName": 16,
    "lenType": 16,
    "lenVar": 40
   },
   "kernels_config": {
    "python": {
     "delete_cmd_postfix": "",
     "delete_cmd_prefix": "del ",
     "library": "var_list.py",
     "varRefreshCmd": "print(var_dic_list())"
    },
    "r": {
     "delete_cmd_postfix": ") ",
     "delete_cmd_prefix": "rm(",
     "library": "var_list.r",
     "varRefreshCmd": "cat(var_dic_list()) "
    }
   },
   "types_to_exclude": [
    "module",
    "function",
    "builtin_function_or_method",
    "instance",
    "_Feature"
   ],
   "window_display": false
  }
 },
 "nbformat": 4,
 "nbformat_minor": 5
}
