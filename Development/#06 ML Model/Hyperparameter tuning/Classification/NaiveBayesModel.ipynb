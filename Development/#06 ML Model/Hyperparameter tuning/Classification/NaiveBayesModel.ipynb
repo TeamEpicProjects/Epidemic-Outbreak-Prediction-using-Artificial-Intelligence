{
 "cells": [
  {
   "cell_type": "code",
   "execution_count": 1,
   "id": "984d0e42",
   "metadata": {},
   "outputs": [],
   "source": [
    "from sklearn.model_selection import train_test_split #for splitting the data in train and test\n",
    "from sklearn.preprocessing import MinMaxScaler #for various scaling methods\n",
    "from sklearn.model_selection import cross_val_score\n",
    "from sklearn.naive_bayes import GaussianNB\n",
    "\n",
    "from sklearn.metrics import accuracy_score,confusion_matrix,recall_score #for accuracy matrices\n",
    "from sklearn.metrics import precision_score,classification_report,roc_auc_score,precision_score #for accuracy matrices"
   ]
  },
  {
   "cell_type": "code",
   "execution_count": 2,
   "id": "1ac68c77",
   "metadata": {},
   "outputs": [],
   "source": [
    "# import library\n",
    "import pandas as pd\n",
    "import numpy as np\n",
    "import matplotlib.pyplot as plt\n",
    "import seaborn as sns\n",
    "sns.set()\n",
    "\n",
    "import matplotlib.style as style\n",
    "%matplotlib inline\n",
    "style.use('ggplot')\n",
    "\n",
    "from sklearn.preprocessing import MinMaxScaler\n",
    "from sklearn.model_selection import train_test_split\n",
    "\n",
    "import warnings\n",
    "warnings.simplefilter(\"ignore\")\n",
    "\n",
    "pd.pandas.set_option('display.max_columns',None)"
   ]
  },
  {
   "cell_type": "code",
   "execution_count": 3,
   "id": "2702252e",
   "metadata": {},
   "outputs": [
    {
     "data": {
      "text/html": [
       "<div>\n",
       "<style scoped>\n",
       "    .dataframe tbody tr th:only-of-type {\n",
       "        vertical-align: middle;\n",
       "    }\n",
       "\n",
       "    .dataframe tbody tr th {\n",
       "        vertical-align: top;\n",
       "    }\n",
       "\n",
       "    .dataframe thead th {\n",
       "        text-align: right;\n",
       "    }\n",
       "</style>\n",
       "<table border=\"1\" class=\"dataframe\">\n",
       "  <thead>\n",
       "    <tr style=\"text-align: right;\">\n",
       "      <th></th>\n",
       "      <th>density_per_km</th>\n",
       "      <th>latitude</th>\n",
       "      <th>longitude</th>\n",
       "      <th>maxtempC</th>\n",
       "      <th>mintempC</th>\n",
       "      <th>totalSnow_cm</th>\n",
       "      <th>sunHour</th>\n",
       "      <th>moon_illumination</th>\n",
       "      <th>DewPointC</th>\n",
       "      <th>WindGustKmph</th>\n",
       "      <th>cloudcover</th>\n",
       "      <th>humidity</th>\n",
       "      <th>precipMM</th>\n",
       "      <th>pressure</th>\n",
       "      <th>visibility</th>\n",
       "      <th>winddirDegree</th>\n",
       "      <th>year</th>\n",
       "      <th>month</th>\n",
       "      <th>Target</th>\n",
       "    </tr>\n",
       "  </thead>\n",
       "  <tbody>\n",
       "    <tr>\n",
       "      <th>0</th>\n",
       "      <td>12625.800781</td>\n",
       "      <td>-34.603684</td>\n",
       "      <td>-58.381559</td>\n",
       "      <td>24</td>\n",
       "      <td>7</td>\n",
       "      <td>0.0</td>\n",
       "      <td>11.6</td>\n",
       "      <td>87</td>\n",
       "      <td>6</td>\n",
       "      <td>16</td>\n",
       "      <td>0</td>\n",
       "      <td>59</td>\n",
       "      <td>0.0</td>\n",
       "      <td>1018</td>\n",
       "      <td>10</td>\n",
       "      <td>189</td>\n",
       "      <td>2016</td>\n",
       "      <td>3</td>\n",
       "      <td>1</td>\n",
       "    </tr>\n",
       "    <tr>\n",
       "      <th>1</th>\n",
       "      <td>12625.800781</td>\n",
       "      <td>-34.603684</td>\n",
       "      <td>-58.381559</td>\n",
       "      <td>24</td>\n",
       "      <td>7</td>\n",
       "      <td>0.0</td>\n",
       "      <td>11.6</td>\n",
       "      <td>87</td>\n",
       "      <td>6</td>\n",
       "      <td>16</td>\n",
       "      <td>0</td>\n",
       "      <td>59</td>\n",
       "      <td>0.0</td>\n",
       "      <td>1018</td>\n",
       "      <td>10</td>\n",
       "      <td>189</td>\n",
       "      <td>2016</td>\n",
       "      <td>3</td>\n",
       "      <td>0</td>\n",
       "    </tr>\n",
       "    <tr>\n",
       "      <th>2</th>\n",
       "      <td>12625.800781</td>\n",
       "      <td>-34.603684</td>\n",
       "      <td>-58.381559</td>\n",
       "      <td>24</td>\n",
       "      <td>7</td>\n",
       "      <td>0.0</td>\n",
       "      <td>11.6</td>\n",
       "      <td>87</td>\n",
       "      <td>6</td>\n",
       "      <td>16</td>\n",
       "      <td>0</td>\n",
       "      <td>59</td>\n",
       "      <td>0.0</td>\n",
       "      <td>1018</td>\n",
       "      <td>10</td>\n",
       "      <td>189</td>\n",
       "      <td>2016</td>\n",
       "      <td>3</td>\n",
       "      <td>1</td>\n",
       "    </tr>\n",
       "    <tr>\n",
       "      <th>3</th>\n",
       "      <td>12625.800781</td>\n",
       "      <td>-34.603684</td>\n",
       "      <td>-58.381559</td>\n",
       "      <td>24</td>\n",
       "      <td>7</td>\n",
       "      <td>0.0</td>\n",
       "      <td>11.6</td>\n",
       "      <td>87</td>\n",
       "      <td>6</td>\n",
       "      <td>16</td>\n",
       "      <td>0</td>\n",
       "      <td>59</td>\n",
       "      <td>0.0</td>\n",
       "      <td>1018</td>\n",
       "      <td>10</td>\n",
       "      <td>189</td>\n",
       "      <td>2016</td>\n",
       "      <td>3</td>\n",
       "      <td>0</td>\n",
       "    </tr>\n",
       "    <tr>\n",
       "      <th>4</th>\n",
       "      <td>12625.800781</td>\n",
       "      <td>-34.603684</td>\n",
       "      <td>-58.381559</td>\n",
       "      <td>22</td>\n",
       "      <td>10</td>\n",
       "      <td>0.0</td>\n",
       "      <td>11.5</td>\n",
       "      <td>76</td>\n",
       "      <td>10</td>\n",
       "      <td>27</td>\n",
       "      <td>34</td>\n",
       "      <td>72</td>\n",
       "      <td>0.0</td>\n",
       "      <td>1025</td>\n",
       "      <td>10</td>\n",
       "      <td>99</td>\n",
       "      <td>2016</td>\n",
       "      <td>3</td>\n",
       "      <td>0</td>\n",
       "    </tr>\n",
       "  </tbody>\n",
       "</table>\n",
       "</div>"
      ],
      "text/plain": [
       "   density_per_km   latitude  longitude  maxtempC  mintempC  totalSnow_cm  \\\n",
       "0    12625.800781 -34.603684 -58.381559        24         7           0.0   \n",
       "1    12625.800781 -34.603684 -58.381559        24         7           0.0   \n",
       "2    12625.800781 -34.603684 -58.381559        24         7           0.0   \n",
       "3    12625.800781 -34.603684 -58.381559        24         7           0.0   \n",
       "4    12625.800781 -34.603684 -58.381559        22        10           0.0   \n",
       "\n",
       "   sunHour  moon_illumination  DewPointC  WindGustKmph  cloudcover  humidity  \\\n",
       "0     11.6                 87          6            16           0        59   \n",
       "1     11.6                 87          6            16           0        59   \n",
       "2     11.6                 87          6            16           0        59   \n",
       "3     11.6                 87          6            16           0        59   \n",
       "4     11.5                 76         10            27          34        72   \n",
       "\n",
       "   precipMM  pressure  visibility  winddirDegree  year  month  Target  \n",
       "0       0.0      1018          10            189  2016      3       1  \n",
       "1       0.0      1018          10            189  2016      3       0  \n",
       "2       0.0      1018          10            189  2016      3       1  \n",
       "3       0.0      1018          10            189  2016      3       0  \n",
       "4       0.0      1025          10             99  2016      3       0  "
      ]
     },
     "execution_count": 3,
     "metadata": {},
     "output_type": "execute_result"
    }
   ],
   "source": [
    "df = pd.read_csv('classification_dataset.csv')\n",
    "df.head()"
   ]
  },
  {
   "cell_type": "code",
   "execution_count": 4,
   "id": "0df96412",
   "metadata": {},
   "outputs": [
    {
     "data": {
      "text/plain": [
       "(155223, 19)"
      ]
     },
     "execution_count": 4,
     "metadata": {},
     "output_type": "execute_result"
    }
   ],
   "source": [
    "df.shape"
   ]
  },
  {
   "cell_type": "code",
   "execution_count": 5,
   "id": "5eb59e6d",
   "metadata": {},
   "outputs": [
    {
     "data": {
      "text/plain": [
       "Index(['density_per_km', 'latitude', 'longitude', 'maxtempC', 'mintempC',\n",
       "       'totalSnow_cm', 'sunHour', 'moon_illumination', 'DewPointC',\n",
       "       'WindGustKmph', 'cloudcover', 'humidity', 'precipMM', 'pressure',\n",
       "       'visibility', 'winddirDegree', 'year', 'month', 'Target'],\n",
       "      dtype='object')"
      ]
     },
     "execution_count": 5,
     "metadata": {},
     "output_type": "execute_result"
    }
   ],
   "source": [
    "df.columns"
   ]
  },
  {
   "cell_type": "code",
   "execution_count": 6,
   "id": "3cdf48b3",
   "metadata": {},
   "outputs": [
    {
     "data": {
      "text/plain": [
       "79878"
      ]
     },
     "execution_count": 6,
     "metadata": {},
     "output_type": "execute_result"
    }
   ],
   "source": [
    "# Total no of duplicate rows\n",
    "df.duplicated().sum()"
   ]
  },
  {
   "cell_type": "code",
   "execution_count": 7,
   "id": "7faf271e",
   "metadata": {},
   "outputs": [],
   "source": [
    "# Remove duplicate rows\n",
    "df = df.drop_duplicates(keep='first', inplace=False)"
   ]
  },
  {
   "cell_type": "code",
   "execution_count": 8,
   "id": "3721748c",
   "metadata": {},
   "outputs": [
    {
     "data": {
      "text/plain": [
       "(75345, 19)"
      ]
     },
     "execution_count": 8,
     "metadata": {},
     "output_type": "execute_result"
    }
   ],
   "source": [
    "df.shape"
   ]
  },
  {
   "cell_type": "markdown",
   "id": "653e42ee",
   "metadata": {},
   "source": [
    "## Feature Scaling"
   ]
  },
  {
   "cell_type": "code",
   "execution_count": 9,
   "id": "ff096d29",
   "metadata": {},
   "outputs": [
    {
     "data": {
      "text/html": [
       "<div>\n",
       "<style scoped>\n",
       "    .dataframe tbody tr th:only-of-type {\n",
       "        vertical-align: middle;\n",
       "    }\n",
       "\n",
       "    .dataframe tbody tr th {\n",
       "        vertical-align: top;\n",
       "    }\n",
       "\n",
       "    .dataframe thead th {\n",
       "        text-align: right;\n",
       "    }\n",
       "</style>\n",
       "<table border=\"1\" class=\"dataframe\">\n",
       "  <thead>\n",
       "    <tr style=\"text-align: right;\">\n",
       "      <th></th>\n",
       "      <th>Target</th>\n",
       "      <th>latitude</th>\n",
       "      <th>longitude</th>\n",
       "      <th>maxtempC</th>\n",
       "      <th>mintempC</th>\n",
       "      <th>totalSnow_cm</th>\n",
       "      <th>sunHour</th>\n",
       "      <th>moon_illumination</th>\n",
       "      <th>DewPointC</th>\n",
       "      <th>WindGustKmph</th>\n",
       "      <th>cloudcover</th>\n",
       "      <th>humidity</th>\n",
       "      <th>pressure</th>\n",
       "      <th>visibility</th>\n",
       "      <th>winddirDegree</th>\n",
       "      <th>year</th>\n",
       "      <th>month</th>\n",
       "      <th>density_per_km</th>\n",
       "      <th>precipMM</th>\n",
       "    </tr>\n",
       "  </thead>\n",
       "  <tbody>\n",
       "    <tr>\n",
       "      <th>0</th>\n",
       "      <td>1</td>\n",
       "      <td>-34.603684</td>\n",
       "      <td>-58.381559</td>\n",
       "      <td>24</td>\n",
       "      <td>7</td>\n",
       "      <td>0.0</td>\n",
       "      <td>11.6</td>\n",
       "      <td>87</td>\n",
       "      <td>6</td>\n",
       "      <td>16</td>\n",
       "      <td>0</td>\n",
       "      <td>59</td>\n",
       "      <td>1018</td>\n",
       "      <td>10</td>\n",
       "      <td>189</td>\n",
       "      <td>2016</td>\n",
       "      <td>3</td>\n",
       "      <td>0.505636</td>\n",
       "      <td>0.000000</td>\n",
       "    </tr>\n",
       "    <tr>\n",
       "      <th>1</th>\n",
       "      <td>0</td>\n",
       "      <td>-34.603684</td>\n",
       "      <td>-58.381559</td>\n",
       "      <td>24</td>\n",
       "      <td>7</td>\n",
       "      <td>0.0</td>\n",
       "      <td>11.6</td>\n",
       "      <td>87</td>\n",
       "      <td>6</td>\n",
       "      <td>16</td>\n",
       "      <td>0</td>\n",
       "      <td>59</td>\n",
       "      <td>1018</td>\n",
       "      <td>10</td>\n",
       "      <td>189</td>\n",
       "      <td>2016</td>\n",
       "      <td>3</td>\n",
       "      <td>0.505636</td>\n",
       "      <td>0.000000</td>\n",
       "    </tr>\n",
       "    <tr>\n",
       "      <th>2</th>\n",
       "      <td>0</td>\n",
       "      <td>-34.603684</td>\n",
       "      <td>-58.381559</td>\n",
       "      <td>22</td>\n",
       "      <td>10</td>\n",
       "      <td>0.0</td>\n",
       "      <td>11.5</td>\n",
       "      <td>76</td>\n",
       "      <td>10</td>\n",
       "      <td>27</td>\n",
       "      <td>34</td>\n",
       "      <td>72</td>\n",
       "      <td>1025</td>\n",
       "      <td>10</td>\n",
       "      <td>99</td>\n",
       "      <td>2016</td>\n",
       "      <td>3</td>\n",
       "      <td>0.505636</td>\n",
       "      <td>0.000000</td>\n",
       "    </tr>\n",
       "    <tr>\n",
       "      <th>3</th>\n",
       "      <td>1</td>\n",
       "      <td>-34.603684</td>\n",
       "      <td>-58.381559</td>\n",
       "      <td>22</td>\n",
       "      <td>10</td>\n",
       "      <td>0.0</td>\n",
       "      <td>11.5</td>\n",
       "      <td>76</td>\n",
       "      <td>10</td>\n",
       "      <td>27</td>\n",
       "      <td>34</td>\n",
       "      <td>72</td>\n",
       "      <td>1025</td>\n",
       "      <td>10</td>\n",
       "      <td>99</td>\n",
       "      <td>2016</td>\n",
       "      <td>3</td>\n",
       "      <td>0.505636</td>\n",
       "      <td>0.000000</td>\n",
       "    </tr>\n",
       "    <tr>\n",
       "      <th>4</th>\n",
       "      <td>0</td>\n",
       "      <td>-34.603684</td>\n",
       "      <td>-58.381559</td>\n",
       "      <td>22</td>\n",
       "      <td>18</td>\n",
       "      <td>0.0</td>\n",
       "      <td>8.6</td>\n",
       "      <td>26</td>\n",
       "      <td>15</td>\n",
       "      <td>17</td>\n",
       "      <td>61</td>\n",
       "      <td>78</td>\n",
       "      <td>1015</td>\n",
       "      <td>8</td>\n",
       "      <td>105</td>\n",
       "      <td>2016</td>\n",
       "      <td>4</td>\n",
       "      <td>0.505636</td>\n",
       "      <td>0.097011</td>\n",
       "    </tr>\n",
       "  </tbody>\n",
       "</table>\n",
       "</div>"
      ],
      "text/plain": [
       "   Target   latitude  longitude  maxtempC  mintempC  totalSnow_cm  sunHour  \\\n",
       "0       1 -34.603684 -58.381559        24         7           0.0     11.6   \n",
       "1       0 -34.603684 -58.381559        24         7           0.0     11.6   \n",
       "2       0 -34.603684 -58.381559        22        10           0.0     11.5   \n",
       "3       1 -34.603684 -58.381559        22        10           0.0     11.5   \n",
       "4       0 -34.603684 -58.381559        22        18           0.0      8.6   \n",
       "\n",
       "   moon_illumination  DewPointC  WindGustKmph  cloudcover  humidity  pressure  \\\n",
       "0                 87          6            16           0        59      1018   \n",
       "1                 87          6            16           0        59      1018   \n",
       "2                 76         10            27          34        72      1025   \n",
       "3                 76         10            27          34        72      1025   \n",
       "4                 26         15            17          61        78      1015   \n",
       "\n",
       "   visibility  winddirDegree  year  month  density_per_km  precipMM  \n",
       "0          10            189  2016      3        0.505636  0.000000  \n",
       "1          10            189  2016      3        0.505636  0.000000  \n",
       "2          10             99  2016      3        0.505636  0.000000  \n",
       "3          10             99  2016      3        0.505636  0.000000  \n",
       "4           8            105  2016      4        0.505636  0.097011  "
      ]
     },
     "execution_count": 9,
     "metadata": {},
     "output_type": "execute_result"
    }
   ],
   "source": [
    "feature_scale = [feature for feature in df.columns if feature in ['density_per_km','precipMM']]\n",
    "\n",
    "scaler=MinMaxScaler()\n",
    "scaler.fit(df[feature_scale])\n",
    "\n",
    "# transform the train and test set, and add on the Id and SalePrice variables\n",
    "data = pd.concat([df[['Target','latitude', 'longitude', 'maxtempC', 'mintempC',\n",
    "       'totalSnow_cm', 'sunHour', 'moon_illumination', 'DewPointC',\n",
    "       'WindGustKmph', 'cloudcover', 'humidity', 'pressure',\n",
    "       'visibility', 'winddirDegree', 'year', 'month']].reset_index(drop=True),\n",
    "                    pd.DataFrame(scaler.transform(df[feature_scale]), columns=feature_scale)],axis=1)\n",
    "\n",
    "data.head()"
   ]
  },
  {
   "cell_type": "markdown",
   "id": "841f5183",
   "metadata": {},
   "source": [
    "# Train Test split"
   ]
  },
  {
   "cell_type": "code",
   "execution_count": 10,
   "id": "b4746690",
   "metadata": {},
   "outputs": [],
   "source": [
    "X = data.drop('Target',axis=1)\n",
    "y = data['Target']\n",
    "\n",
    "X_train,X_test,y_train,y_test = train_test_split(X,y,test_size=0.50,random_state=10) #train test split in 50:50 ratio"
   ]
  },
  {
   "cell_type": "code",
   "execution_count": 11,
   "id": "f121e510",
   "metadata": {},
   "outputs": [
    {
     "data": {
      "text/html": [
       "<div>\n",
       "<style scoped>\n",
       "    .dataframe tbody tr th:only-of-type {\n",
       "        vertical-align: middle;\n",
       "    }\n",
       "\n",
       "    .dataframe tbody tr th {\n",
       "        vertical-align: top;\n",
       "    }\n",
       "\n",
       "    .dataframe thead th {\n",
       "        text-align: right;\n",
       "    }\n",
       "</style>\n",
       "<table border=\"1\" class=\"dataframe\">\n",
       "  <thead>\n",
       "    <tr style=\"text-align: right;\">\n",
       "      <th></th>\n",
       "      <th>latitude</th>\n",
       "      <th>longitude</th>\n",
       "      <th>maxtempC</th>\n",
       "      <th>mintempC</th>\n",
       "      <th>totalSnow_cm</th>\n",
       "      <th>sunHour</th>\n",
       "      <th>moon_illumination</th>\n",
       "      <th>DewPointC</th>\n",
       "      <th>WindGustKmph</th>\n",
       "      <th>cloudcover</th>\n",
       "      <th>humidity</th>\n",
       "      <th>pressure</th>\n",
       "      <th>visibility</th>\n",
       "      <th>winddirDegree</th>\n",
       "      <th>year</th>\n",
       "      <th>month</th>\n",
       "      <th>density_per_km</th>\n",
       "      <th>precipMM</th>\n",
       "    </tr>\n",
       "  </thead>\n",
       "  <tbody>\n",
       "    <tr>\n",
       "      <th>18866</th>\n",
       "      <td>6.402013</td>\n",
       "      <td>-72.554634</td>\n",
       "      <td>25</td>\n",
       "      <td>13</td>\n",
       "      <td>0.0</td>\n",
       "      <td>11.6</td>\n",
       "      <td>11</td>\n",
       "      <td>17</td>\n",
       "      <td>6</td>\n",
       "      <td>40</td>\n",
       "      <td>90</td>\n",
       "      <td>1012</td>\n",
       "      <td>6</td>\n",
       "      <td>248</td>\n",
       "      <td>2016</td>\n",
       "      <td>4</td>\n",
       "      <td>0.000897</td>\n",
       "      <td>0.149179</td>\n",
       "    </tr>\n",
       "    <tr>\n",
       "      <th>39309</th>\n",
       "      <td>11.240355</td>\n",
       "      <td>-74.211023</td>\n",
       "      <td>17</td>\n",
       "      <td>10</td>\n",
       "      <td>0.0</td>\n",
       "      <td>11.6</td>\n",
       "      <td>53</td>\n",
       "      <td>10</td>\n",
       "      <td>11</td>\n",
       "      <td>20</td>\n",
       "      <td>74</td>\n",
       "      <td>1015</td>\n",
       "      <td>10</td>\n",
       "      <td>143</td>\n",
       "      <td>2016</td>\n",
       "      <td>8</td>\n",
       "      <td>0.011305</td>\n",
       "      <td>0.002931</td>\n",
       "    </tr>\n",
       "    <tr>\n",
       "      <th>70300</th>\n",
       "      <td>8.992761</td>\n",
       "      <td>-79.518348</td>\n",
       "      <td>30</td>\n",
       "      <td>25</td>\n",
       "      <td>0.0</td>\n",
       "      <td>11.9</td>\n",
       "      <td>56</td>\n",
       "      <td>23</td>\n",
       "      <td>11</td>\n",
       "      <td>37</td>\n",
       "      <td>79</td>\n",
       "      <td>1011</td>\n",
       "      <td>10</td>\n",
       "      <td>161</td>\n",
       "      <td>2017</td>\n",
       "      <td>6</td>\n",
       "      <td>0.324189</td>\n",
       "      <td>0.000879</td>\n",
       "    </tr>\n",
       "    <tr>\n",
       "      <th>49555</th>\n",
       "      <td>1.805165</td>\n",
       "      <td>-75.888340</td>\n",
       "      <td>19</td>\n",
       "      <td>13</td>\n",
       "      <td>0.0</td>\n",
       "      <td>11.6</td>\n",
       "      <td>36</td>\n",
       "      <td>13</td>\n",
       "      <td>8</td>\n",
       "      <td>41</td>\n",
       "      <td>86</td>\n",
       "      <td>1016</td>\n",
       "      <td>8</td>\n",
       "      <td>247</td>\n",
       "      <td>2016</td>\n",
       "      <td>11</td>\n",
       "      <td>0.003224</td>\n",
       "      <td>0.107855</td>\n",
       "    </tr>\n",
       "    <tr>\n",
       "      <th>27057</th>\n",
       "      <td>0.504929</td>\n",
       "      <td>-76.500191</td>\n",
       "      <td>22</td>\n",
       "      <td>20</td>\n",
       "      <td>0.0</td>\n",
       "      <td>7.8</td>\n",
       "      <td>48</td>\n",
       "      <td>21</td>\n",
       "      <td>6</td>\n",
       "      <td>75</td>\n",
       "      <td>98</td>\n",
       "      <td>1016</td>\n",
       "      <td>9</td>\n",
       "      <td>139</td>\n",
       "      <td>2016</td>\n",
       "      <td>5</td>\n",
       "      <td>0.001310</td>\n",
       "      <td>0.036928</td>\n",
       "    </tr>\n",
       "  </tbody>\n",
       "</table>\n",
       "</div>"
      ],
      "text/plain": [
       "        latitude  longitude  maxtempC  mintempC  totalSnow_cm  sunHour  \\\n",
       "18866   6.402013 -72.554634        25        13           0.0     11.6   \n",
       "39309  11.240355 -74.211023        17        10           0.0     11.6   \n",
       "70300   8.992761 -79.518348        30        25           0.0     11.9   \n",
       "49555   1.805165 -75.888340        19        13           0.0     11.6   \n",
       "27057   0.504929 -76.500191        22        20           0.0      7.8   \n",
       "\n",
       "       moon_illumination  DewPointC  WindGustKmph  cloudcover  humidity  \\\n",
       "18866                 11         17             6          40        90   \n",
       "39309                 53         10            11          20        74   \n",
       "70300                 56         23            11          37        79   \n",
       "49555                 36         13             8          41        86   \n",
       "27057                 48         21             6          75        98   \n",
       "\n",
       "       pressure  visibility  winddirDegree  year  month  density_per_km  \\\n",
       "18866      1012           6            248  2016      4        0.000897   \n",
       "39309      1015          10            143  2016      8        0.011305   \n",
       "70300      1011          10            161  2017      6        0.324189   \n",
       "49555      1016           8            247  2016     11        0.003224   \n",
       "27057      1016           9            139  2016      5        0.001310   \n",
       "\n",
       "       precipMM  \n",
       "18866  0.149179  \n",
       "39309  0.002931  \n",
       "70300  0.000879  \n",
       "49555  0.107855  \n",
       "27057  0.036928  "
      ]
     },
     "execution_count": 11,
     "metadata": {},
     "output_type": "execute_result"
    }
   ],
   "source": [
    "X_train.head()"
   ]
  },
  {
   "cell_type": "markdown",
   "id": "966f577d",
   "metadata": {},
   "source": [
    "# Naive Bayes"
   ]
  },
  {
   "cell_type": "code",
   "execution_count": 29,
   "id": "6c7b604a",
   "metadata": {},
   "outputs": [
    {
     "name": "stdout",
     "output_type": "stream",
     "text": [
      "[[ 9967 10342]\n",
      " [ 6316 11048]]\n",
      "0.5578265601359064\n",
      "              precision    recall  f1-score   support\n",
      "\n",
      "           0       0.61      0.49      0.54     20309\n",
      "           1       0.52      0.64      0.57     17364\n",
      "\n",
      "    accuracy                           0.56     37673\n",
      "   macro avg       0.56      0.56      0.56     37673\n",
      "weighted avg       0.57      0.56      0.56     37673\n",
      "\n"
     ]
    }
   ],
   "source": [
    "nbModel = GaussianNB()\n",
    "nbModel.fit(X_train, y_train) \n",
    "nbModelpred = nbModel.predict(X_test)\n",
    "\n",
    "print(confusion_matrix(y_test,nbModelpred))\n",
    "print(accuracy_score(y_test,nbModelpred))\n",
    "print(classification_report(y_test,nbModelpred))"
   ]
  },
  {
   "cell_type": "code",
   "execution_count": 30,
   "id": "efbdd197",
   "metadata": {},
   "outputs": [
    {
     "name": "stdout",
     "output_type": "stream",
     "text": [
      "0.516503038803179 : is the precision score\n",
      "0.636258926514628 : is the recall score\n",
      "0.5701604995613357 : is the f1 score\n"
     ]
    }
   ],
   "source": [
    "from sklearn.metrics import precision_score\n",
    "print(precision_score(y_test, nbModelpred), \": is the precision score\")\n",
    "\n",
    "from sklearn.metrics import recall_score\n",
    "print(recall_score(y_test, nbModelpred), \": is the recall score\")\n",
    "\n",
    "from sklearn.metrics import f1_score\n",
    "print(f1_score(y_test, nbModelpred), \": is the f1 score\")"
   ]
  },
  {
   "cell_type": "markdown",
   "id": "a91431f2",
   "metadata": {},
   "source": [
    "### K Fold Cross Validation"
   ]
  },
  {
   "cell_type": "code",
   "execution_count": 14,
   "id": "96268ddb",
   "metadata": {},
   "outputs": [
    {
     "name": "stdout",
     "output_type": "stream",
     "text": [
      "[0.58248175 0.54200398 0.5402787  0.54372926 0.54426012 0.54698699\n",
      " 0.52933369 0.50637112 0.39235466 0.48234669]\n",
      "Max : 0.5824817518248175\n",
      "Min : 0.39235465887974513\n",
      "Mean : 0.5210146966576118\n"
     ]
    }
   ],
   "source": [
    "from sklearn.model_selection import KFold\n",
    "from sklearn.model_selection import cross_val_score\n",
    "\n",
    "kfold_validation=KFold(10)\n",
    "\n",
    "model = GaussianNB() \n",
    "results=cross_val_score(model,X,y,cv=kfold_validation)\n",
    "print(results)\n",
    "print('Max :',np.max(results))\n",
    "print('Min :',np.min(results))\n",
    "print('Mean :',np.mean(results))"
   ]
  },
  {
   "cell_type": "markdown",
   "id": "083fb817",
   "metadata": {},
   "source": [
    "### Stratified K-fold Cross Validation"
   ]
  },
  {
   "cell_type": "code",
   "execution_count": 15,
   "id": "bed36c84",
   "metadata": {},
   "outputs": [
    {
     "name": "stdout",
     "output_type": "stream",
     "text": [
      "0.48523228913684635\n"
     ]
    }
   ],
   "source": [
    "from sklearn.model_selection import StratifiedKFold\n",
    "skfold=StratifiedKFold(n_splits=10)\n",
    "model = GaussianNB() \n",
    "scores=cross_val_score(model,X,y,cv=skfold)\n",
    "print(np.mean(scores))"
   ]
  },
  {
   "cell_type": "code",
   "execution_count": 16,
   "id": "da95c846",
   "metadata": {},
   "outputs": [
    {
     "data": {
      "text/plain": [
       "array([0.51785003, 0.57876576, 0.533643  , 0.44021234, 0.5288653 ,\n",
       "       0.54127953, 0.39009822, 0.40111495, 0.45288028, 0.46761349])"
      ]
     },
     "execution_count": 16,
     "metadata": {},
     "output_type": "execute_result"
    }
   ],
   "source": [
    "scores"
   ]
  },
  {
   "cell_type": "code",
   "execution_count": 17,
   "id": "9117943e",
   "metadata": {},
   "outputs": [
    {
     "name": "stdout",
     "output_type": "stream",
     "text": [
      "Max : 0.5787657597876577\n",
      "Min : 0.3900982213963366\n",
      "Mean : 0.48523228913684635\n"
     ]
    }
   ],
   "source": [
    "print('Max :',np.max(scores))\n",
    "print('Min :',np.min(scores))\n",
    "print('Mean :',np.mean(scores))"
   ]
  },
  {
   "cell_type": "markdown",
   "id": "1c82ce10",
   "metadata": {},
   "source": [
    "## Graphical Analysis"
   ]
  },
  {
   "cell_type": "code",
   "execution_count": 19,
   "id": "f1d23683",
   "metadata": {},
   "outputs": [
    {
     "data": {
      "image/png": "[encoded data removed]",
      "text/plain": [
       "<Figure size 432x288 with 1 Axes>"
      ]
     },
     "metadata": {},
     "output_type": "display_data"
    }
   ],
   "source": [
    "from sklearn.metrics import roc_curve, auc\n",
    "\n",
    "probs               = nbModel.predict_proba(X_test)\n",
    "preds               = probs[:,1]\n",
    "fpr, tpr, threshold = roc_curve(y_test, preds)\n",
    "roc_auc             = auc(fpr, tpr)\n",
    "\n",
    "plt.title('Receiver Operating Characteristic')\n",
    "plt.plot(fpr, tpr, 'b', label = 'AUC = %0.2f' % roc_auc)\n",
    "plt.legend(loc = 'lower right')\n",
    "plt.plot([0, 1], [0, 1],'r--')\n",
    "plt.xlim([0, 1])\n",
    "plt.ylim([0, 1])\n",
    "plt.ylabel('True Positive Rate')\n",
    "plt.xlabel('False Positive Rate')\n",
    "plt.show()"
   ]
  },
  {
   "cell_type": "markdown",
   "id": "bc5928ba",
   "metadata": {},
   "source": [
    "# Tuning the model using grid searchCV\n",
    "- var_smoothing is a stability calculation to widen (or smooth) the curve and therefore account for more samples that are further away from the distribution mean.\n",
    "- In this case, np.logspace returns numbers spaced evenly on a log scale, starts from 0, ends at -9, and generates 100 samples."
   ]
  },
  {
   "cell_type": "code",
   "execution_count": 22,
   "id": "322e6fa0",
   "metadata": {
    "scrolled": true
   },
   "outputs": [
    {
     "name": "stdout",
     "output_type": "stream",
     "text": [
      "Fitting 10 folds for each of 100 candidates, totalling 1000 fits\n",
      "Best: 0.564531 using {'var_smoothing': 0.0015199110829529332}\n",
      "0.542180 (0.007894) with: {'var_smoothing': 1.0}\n",
      "0.542180 (0.007894) with: {'var_smoothing': 0.8111308307896871}\n",
      "0.541994 (0.007678) with: {'var_smoothing': 0.657933224657568}\n",
      "0.541888 (0.007696) with: {'var_smoothing': 0.533669923120631}\n",
      "0.542498 (0.008317) with: {'var_smoothing': 0.43287612810830584}\n",
      "0.544117 (0.008757) with: {'var_smoothing': 0.3511191734215131}\n",
      "0.543056 (0.009070) with: {'var_smoothing': 0.2848035868435802}\n",
      "0.543719 (0.009341) with: {'var_smoothing': 0.23101297000831597}\n",
      "0.543294 (0.008547) with: {'var_smoothing': 0.1873817422860384}\n",
      "0.544250 (0.008703) with: {'var_smoothing': 0.15199110829529336}\n",
      "0.545392 (0.007773) with: {'var_smoothing': 0.12328467394420659}\n",
      "0.549294 (0.008717) with: {'var_smoothing': 0.1}\n",
      "0.556222 (0.010666) with: {'var_smoothing': 0.08111308307896872}\n",
      "0.562327 (0.007839) with: {'var_smoothing': 0.0657933224657568}\n",
      "0.563442 (0.007024) with: {'var_smoothing': 0.0533669923120631}\n",
      "0.564345 (0.006548) with: {'var_smoothing': 0.04328761281083057}\n",
      "0.564477 (0.006695) with: {'var_smoothing': 0.03511191734215131}\n",
      "0.564159 (0.007420) with: {'var_smoothing': 0.02848035868435802}\n",
      "0.563734 (0.007019) with: {'var_smoothing': 0.02310129700083159}\n",
      "0.563655 (0.006370) with: {'var_smoothing': 0.01873817422860384}\n",
      "0.562965 (0.006415) with: {'var_smoothing': 0.01519911082952933}\n",
      "0.562513 (0.006570) with: {'var_smoothing': 0.012328467394420659}\n",
      "0.562009 (0.005959) with: {'var_smoothing': 0.01}\n",
      "0.562407 (0.006519) with: {'var_smoothing': 0.008111308307896872}\n",
      "0.563071 (0.005916) with: {'var_smoothing': 0.006579332246575682}\n",
      "0.563496 (0.005860) with: {'var_smoothing': 0.005336699231206307}\n",
      "0.563814 (0.006099) with: {'var_smoothing': 0.004328761281083057}\n",
      "0.563655 (0.006001) with: {'var_smoothing': 0.003511191734215131}\n",
      "0.563814 (0.005897) with: {'var_smoothing': 0.002848035868435802}\n",
      "0.564026 (0.005533) with: {'var_smoothing': 0.0023101297000831605}\n",
      "0.564239 (0.005633) with: {'var_smoothing': 0.001873817422860383}\n",
      "0.564531 (0.005509) with: {'var_smoothing': 0.0015199110829529332}\n",
      "0.564106 (0.005794) with: {'var_smoothing': 0.0012328467394420659}\n",
      "0.564000 (0.005957) with: {'var_smoothing': 0.001}\n",
      "0.563867 (0.005750) with: {'var_smoothing': 0.0008111308307896872}\n",
      "0.563681 (0.005390) with: {'var_smoothing': 0.0006579332246575676}\n",
      "0.563575 (0.005606) with: {'var_smoothing': 0.0005336699231206307}\n",
      "0.563389 (0.005929) with: {'var_smoothing': 0.0004328761281083057}\n",
      "0.563841 (0.006230) with: {'var_smoothing': 0.0003511191734215131}\n",
      "0.563496 (0.006635) with: {'var_smoothing': 0.0002848035868435802}\n",
      "0.562965 (0.006940) with: {'var_smoothing': 0.0002310129700083158}\n",
      "0.562513 (0.006865) with: {'var_smoothing': 0.0001873817422860383}\n",
      "0.562089 (0.006700) with: {'var_smoothing': 0.0001519911082952933}\n",
      "0.561903 (0.006730) with: {'var_smoothing': 0.0001232846739442066}\n",
      "0.561531 (0.006418) with: {'var_smoothing': 0.0001}\n",
      "0.560629 (0.005874) with: {'var_smoothing': 8.111308307896872e-05}\n",
      "0.559779 (0.005824) with: {'var_smoothing': 6.579332246575683e-05}\n",
      "0.559461 (0.006035) with: {'var_smoothing': 5.3366992312063123e-05}\n",
      "0.559169 (0.006578) with: {'var_smoothing': 4.328761281083062e-05}\n",
      "0.558983 (0.006783) with: {'var_smoothing': 3.511191734215127e-05}\n",
      "0.559222 (0.006917) with: {'var_smoothing': 2.848035868435799e-05}\n",
      "0.559063 (0.006953) with: {'var_smoothing': 2.310129700083158e-05}\n",
      "0.558479 (0.007710) with: {'var_smoothing': 1.873817422860383e-05}\n",
      "0.557974 (0.007923) with: {'var_smoothing': 1.5199110829529332e-05}\n",
      "0.557788 (0.007360) with: {'var_smoothing': 1.2328467394420658e-05}\n",
      "0.557311 (0.007513) with: {'var_smoothing': 1e-05}\n",
      "0.556753 (0.008192) with: {'var_smoothing': 8.111308307896873e-06}\n",
      "0.556541 (0.008399) with: {'var_smoothing': 6.579332246575683e-06}\n",
      "0.556037 (0.008246) with: {'var_smoothing': 5.336699231206313e-06}\n",
      "0.556329 (0.008104) with: {'var_smoothing': 4.328761281083053e-06}\n",
      "0.555983 (0.008152) with: {'var_smoothing': 3.5111917342151275e-06}\n",
      "0.556063 (0.008476) with: {'var_smoothing': 2.848035868435799e-06}\n",
      "0.556010 (0.008482) with: {'var_smoothing': 2.310129700083158e-06}\n",
      "0.556036 (0.008657) with: {'var_smoothing': 1.873817422860383e-06}\n",
      "0.556143 (0.009067) with: {'var_smoothing': 1.519911082952933e-06}\n",
      "0.555851 (0.008684) with: {'var_smoothing': 1.232846739442066e-06}\n",
      "0.555798 (0.008927) with: {'var_smoothing': 1e-06}\n",
      "0.555771 (0.008491) with: {'var_smoothing': 8.111308307896872e-07}\n",
      "0.555399 (0.008688) with: {'var_smoothing': 6.579332246575682e-07}\n",
      "0.555506 (0.008503) with: {'var_smoothing': 5.336699231206313e-07}\n",
      "0.555585 (0.008773) with: {'var_smoothing': 4.3287612810830526e-07}\n",
      "0.555559 (0.009016) with: {'var_smoothing': 3.5111917342151277e-07}\n",
      "0.555267 (0.008291) with: {'var_smoothing': 2.848035868435799e-07}\n",
      "0.554868 (0.007991) with: {'var_smoothing': 2.310129700083158e-07}\n",
      "0.554789 (0.007900) with: {'var_smoothing': 1.873817422860383e-07}\n",
      "0.554683 (0.007894) with: {'var_smoothing': 1.519911082952933e-07}\n",
      "0.554815 (0.007943) with: {'var_smoothing': 1.232846739442066e-07}\n",
      "0.554975 (0.007772) with: {'var_smoothing': 1e-07}\n",
      "0.555001 (0.007608) with: {'var_smoothing': 8.111308307896873e-08}\n",
      "0.555028 (0.007685) with: {'var_smoothing': 6.579332246575682e-08}\n",
      "0.555240 (0.007828) with: {'var_smoothing': 5.336699231206302e-08}\n",
      "0.555346 (0.008017) with: {'var_smoothing': 4.3287612810830526e-08}\n",
      "0.555293 (0.007987) with: {'var_smoothing': 3.5111917342151277e-08}\n",
      "0.555267 (0.007947) with: {'var_smoothing': 2.848035868435799e-08}\n",
      "0.555240 (0.008002) with: {'var_smoothing': 2.310129700083158e-08}\n",
      "0.555054 (0.007910) with: {'var_smoothing': 1.873817422860383e-08}\n",
      "0.554868 (0.007914) with: {'var_smoothing': 1.519911082952933e-08}\n",
      "0.554895 (0.007841) with: {'var_smoothing': 1.232846739442066e-08}\n",
      "0.554868 (0.007780) with: {'var_smoothing': 1e-08}\n",
      "0.554895 (0.007841) with: {'var_smoothing': 8.111308307896856e-09}\n",
      "0.554868 (0.007783) with: {'var_smoothing': 6.579332246575682e-09}\n",
      "0.554948 (0.007812) with: {'var_smoothing': 5.336699231206302e-09}\n",
      "0.554948 (0.007812) with: {'var_smoothing': 4.328761281083061e-09}\n",
      "0.554975 (0.007805) with: {'var_smoothing': 3.5111917342151273e-09}\n",
      "0.555001 (0.007766) with: {'var_smoothing': 2.848035868435805e-09}\n",
      "0.554975 (0.007805) with: {'var_smoothing': 2.310129700083158e-09}\n",
      "0.554975 (0.007805) with: {'var_smoothing': 1.873817422860387e-09}\n",
      "0.554922 (0.007805) with: {'var_smoothing': 1.519911082952933e-09}\n",
      "0.554922 (0.007805) with: {'var_smoothing': 1.2328467394420635e-09}\n",
      "0.554922 (0.007805) with: {'var_smoothing': 1e-09}\n"
     ]
    }
   ],
   "source": [
    "# example of grid searching key hyperparametres for logistic regression\n",
    "from sklearn.model_selection import KFold\n",
    "from sklearn.model_selection import GridSearchCV\n",
    "\n",
    "model = GaussianNB() \n",
    "\n",
    "# define models and parameters\n",
    "\n",
    "param_grid_nb = {\n",
    "    'var_smoothing': np.logspace(0,-9, num=100)  # Calculation Stability to Widen (or Smooth) the Curve\n",
    "}\n",
    "\n",
    "cv = KFold(n_splits=10)\n",
    "\n",
    "grid_search = GridSearchCV(estimator=model, param_grid=param_grid_nb, verbose=1,cv=cv, n_jobs=1)\n",
    "grid_result = grid_search.fit(X_train, y_train)\n",
    "\n",
    "\n",
    "# summarize results\n",
    "print(\"Best: %f using %s\" % (grid_result.best_score_, grid_result.best_params_))\n",
    "means = grid_result.cv_results_['mean_test_score']\n",
    "stds = grid_result.cv_results_['std_test_score']\n",
    "params = grid_result.cv_results_['params']\n",
    "for mean, stdev, param in zip(means, stds, params):\n",
    "    print(\"%f (%f) with: %r\" % (mean, stdev, param))"
   ]
  },
  {
   "cell_type": "code",
   "execution_count": 23,
   "id": "eb6f0cad",
   "metadata": {},
   "outputs": [
    {
     "data": {
      "text/plain": [
       "0.5645308289610805"
      ]
     },
     "execution_count": 23,
     "metadata": {},
     "output_type": "execute_result"
    }
   ],
   "source": [
    "accuracy = grid_result.best_score_\n",
    "accuracy"
   ]
  },
  {
   "cell_type": "code",
   "execution_count": 24,
   "id": "38feacb9",
   "metadata": {},
   "outputs": [
    {
     "data": {
      "text/plain": [
       "{'var_smoothing': 0.0015199110829529332}"
      ]
     },
     "execution_count": 24,
     "metadata": {},
     "output_type": "execute_result"
    }
   ],
   "source": [
    "grid_result.best_params_"
   ]
  },
  {
   "cell_type": "markdown",
   "id": "ab1aa152",
   "metadata": {},
   "source": [
    "## Model with parameters"
   ]
  },
  {
   "cell_type": "code",
   "execution_count": 31,
   "id": "420bae53",
   "metadata": {},
   "outputs": [
    {
     "name": "stdout",
     "output_type": "stream",
     "text": [
      "[[10809  9500]\n",
      " [ 7060 10304]]\n",
      "0.5604278926552173\n",
      "              precision    recall  f1-score   support\n",
      "\n",
      "           0       0.60      0.53      0.57     20309\n",
      "           1       0.52      0.59      0.55     17364\n",
      "\n",
      "    accuracy                           0.56     37673\n",
      "   macro avg       0.56      0.56      0.56     37673\n",
      "weighted avg       0.57      0.56      0.56     37673\n",
      "\n"
     ]
    }
   ],
   "source": [
    "nbModel2 = GaussianNB(var_smoothing=0.0015199110829529332)\n",
    "nbModel2.fit(X_train, y_train) \n",
    "nbModelpred2 = nbModel2.predict(X_test)\n",
    "print(confusion_matrix(y_test,nbModelpred2))\n",
    "print(accuracy_score(y_test,nbModelpred2))\n",
    "print(classification_report(y_test,nbModelpred2))"
   ]
  },
  {
   "cell_type": "code",
   "execution_count": 32,
   "id": "340b61bd",
   "metadata": {},
   "outputs": [
    {
     "name": "stdout",
     "output_type": "stream",
     "text": [
      "0.5202989295091901 : is the precision score\n",
      "0.5934116563003916 : is the recall score\n",
      "0.5544554455445544 : is the f1 score\n"
     ]
    }
   ],
   "source": [
    "from sklearn.metrics import precision_score\n",
    "print(precision_score(y_test, nbModelpred2), \": is the precision score\")\n",
    "\n",
    "from sklearn.metrics import recall_score\n",
    "print(recall_score(y_test, nbModelpred2), \": is the recall score\")\n",
    "\n",
    "from sklearn.metrics import f1_score\n",
    "print(f1_score(y_test, nbModelpred2), \": is the f1 score\")"
   ]
  },
  {
   "cell_type": "markdown",
   "id": "cdd9bfc2",
   "metadata": {},
   "source": [
    "## Graphical Analysis"
   ]
  },
  {
   "cell_type": "code",
   "execution_count": 33,
   "id": "a7f141f8",
   "metadata": {},
   "outputs": [
    {
     "data": {
      "image/png": "[encoded data removed]",
      "text/plain": [
       "<Figure size 432x288 with 1 Axes>"
      ]
     },
     "metadata": {},
     "output_type": "display_data"
    }
   ],
   "source": [
    "from sklearn.metrics import roc_curve, auc\n",
    "\n",
    "probs               = nbModel2.predict_proba(X_test)\n",
    "preds               = probs[:,1]\n",
    "fpr, tpr, threshold = roc_curve(y_test, preds)\n",
    "roc_auc             = auc(fpr, tpr)\n",
    "\n",
    "plt.title('Receiver Operating Characteristic')\n",
    "plt.plot(fpr, tpr, 'b', label = 'AUC = %0.2f' % roc_auc)\n",
    "plt.legend(loc = 'lower right')\n",
    "plt.plot([0, 1], [0, 1],'r--')\n",
    "plt.xlim([0, 1])\n",
    "plt.ylim([0, 1])\n",
    "plt.ylabel('True Positive Rate')\n",
    "plt.xlabel('False Positive Rate')\n",
    "plt.show()"
   ]
  },
  {
   "cell_type": "code",
   "execution_count": 34,
   "id": "6e7517e9",
   "metadata": {},
   "outputs": [
    {
     "name": "stdout",
     "output_type": "stream",
     "text": [
      "Accuracy before tuning : 0.5578265601359064\n",
      "\n",
      "Accuracy after tuning : 0.5604278926552173\n"
     ]
    }
   ],
   "source": [
    "print('Accuracy before tuning :',accuracy_score(y_test,nbModelpred))\n",
    "print()\n",
    "print('Accuracy after tuning :',accuracy_score(y_test,nbModelpred2))"
   ]
  }
 ],
 "metadata": {
  "kernelspec": {
   "display_name": "Python 3",
   "language": "python",
   "name": "python3"
  },
  "language_info": {
   "codemirror_mode": {
    "name": "ipython",
    "version": 3
   },
   "file_extension": ".py",
   "mimetype": "text/x-python",
   "name": "python",
   "nbconvert_exporter": "python",
   "pygments_lexer": "ipython3",
   "version": "3.7.11"
  },
  "varInspector": {
   "cols": {
    "lenName": 16,
    "lenType": 16,
    "lenVar": 40
   },
   "kernels_config": {
    "python": {
     "delete_cmd_postfix": "",
     "delete_cmd_prefix": "del ",
     "library": "var_list.py",
     "varRefreshCmd": "print(var_dic_list())"
    },
    "r": {
     "delete_cmd_postfix": ") ",
     "delete_cmd_prefix": "rm(",
     "library": "var_list.r",
     "varRefreshCmd": "cat(var_dic_list()) "
    }
   },
   "types_to_exclude": [
    "module",
    "function",
    "builtin_function_or_method",
    "instance",
    "_Feature"
   ],
   "window_display": false
  }
 },
 "nbformat": 4,
 "nbformat_minor": 5
}
