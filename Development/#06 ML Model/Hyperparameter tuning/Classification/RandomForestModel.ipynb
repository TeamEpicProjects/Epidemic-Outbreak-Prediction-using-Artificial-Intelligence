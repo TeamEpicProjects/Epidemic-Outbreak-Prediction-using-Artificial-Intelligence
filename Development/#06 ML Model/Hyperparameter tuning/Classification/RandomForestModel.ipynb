{
 "cells": [
  {
   "cell_type": "code",
   "execution_count": 3,
   "id": "d5c23c75",
   "metadata": {
    "id": "d5c23c75"
   },
   "outputs": [],
   "source": [
    "from sklearn.model_selection import train_test_split #for splitting the data in train and test\n",
    "from sklearn.preprocessing import MinMaxScaler #for various scaling methods\n",
    "from sklearn.linear_model import LogisticRegression #for LogisticRegression\n",
    "from sklearn.model_selection import cross_val_score\n",
    "from sklearn.ensemble import RandomForestClassifier\n",
    "\n",
    "from sklearn.metrics import accuracy_score,confusion_matrix,recall_score #for accuracy matrices\n",
    "from sklearn.metrics import precision_score,classification_report,roc_auc_score,precision_score #for accuracy matrices"
   ]
  },
  {
   "cell_type": "code",
   "execution_count": 4,
   "id": "780e3c8f",
   "metadata": {
    "id": "780e3c8f"
   },
   "outputs": [],
   "source": [
    "# import library\n",
    "import pandas as pd\n",
    "import numpy as np\n",
    "import matplotlib.pyplot as plt\n",
    "import seaborn as sns\n",
    "sns.set()\n",
    "\n",
    "import matplotlib.style as style\n",
    "%matplotlib inline\n",
    "style.use('ggplot')\n",
    "\n",
    "from sklearn.preprocessing import MinMaxScaler\n",
    "from sklearn.model_selection import train_test_split\n",
    "\n",
    "import warnings\n",
    "warnings.simplefilter(\"ignore\")\n",
    "\n",
    "pd.pandas.set_option('display.max_columns',None)"
   ]
  },
  {
   "cell_type": "code",
   "execution_count": 1,
   "id": "ximY2mBTxcje",
   "metadata": {
    "colab": {
     "base_uri": "https://localhost:8080/"
    },
    "id": "ximY2mBTxcje",
    "outputId": "dd74917f-75a0-4f94-b494-7443e94fe476"
   },
   "outputs": [
    {
     "name": "stdout",
     "output_type": "stream",
     "text": [
      "Found GPU at: /device:GPU:0\n"
     ]
    }
   ],
   "source": [
    "%tensorflow_version 2.x\n",
    "import tensorflow as tf\n",
    "device_name = tf.test.gpu_device_name()\n",
    "if device_name != '/device:GPU:0':\n",
    "  raise SystemError('GPU device not found')\n",
    "print('Found GPU at: {}'.format(device_name))"
   ]
  },
  {
   "cell_type": "code",
   "execution_count": 6,
   "id": "ilFFgdOkXuJN",
   "metadata": {
    "colab": {
     "base_uri": "https://localhost:8080/"
    },
    "id": "ilFFgdOkXuJN",
    "outputId": "37601e95-8929-4607-9c46-c15dcea6ee0d"
   },
   "outputs": [
    {
     "name": "stdout",
     "output_type": "stream",
     "text": [
      "Mounted at /content/drive\n"
     ]
    }
   ],
   "source": [
    "from google.colab import drive\n",
    "drive.mount('/content/drive')"
   ]
  },
  {
   "cell_type": "code",
   "execution_count": 7,
   "id": "245a7836",
   "metadata": {
    "colab": {
     "base_uri": "https://localhost:8080/",
     "height": 224
    },
    "id": "245a7836",
    "outputId": "0402695d-d797-4225-8134-6776dc3c3ece"
   },
   "outputs": [
    {
     "data": {
      "text/html": [
       "<div>\n",
       "<style scoped>\n",
       "    .dataframe tbody tr th:only-of-type {\n",
       "        vertical-align: middle;\n",
       "    }\n",
       "\n",
       "    .dataframe tbody tr th {\n",
       "        vertical-align: top;\n",
       "    }\n",
       "\n",
       "    .dataframe thead th {\n",
       "        text-align: right;\n",
       "    }\n",
       "</style>\n",
       "<table border=\"1\" class=\"dataframe\">\n",
       "  <thead>\n",
       "    <tr style=\"text-align: right;\">\n",
       "      <th></th>\n",
       "      <th>density_per_km</th>\n",
       "      <th>latitude</th>\n",
       "      <th>longitude</th>\n",
       "      <th>maxtempC</th>\n",
       "      <th>mintempC</th>\n",
       "      <th>totalSnow_cm</th>\n",
       "      <th>sunHour</th>\n",
       "      <th>moon_illumination</th>\n",
       "      <th>DewPointC</th>\n",
       "      <th>WindGustKmph</th>\n",
       "      <th>cloudcover</th>\n",
       "      <th>humidity</th>\n",
       "      <th>precipMM</th>\n",
       "      <th>pressure</th>\n",
       "      <th>visibility</th>\n",
       "      <th>winddirDegree</th>\n",
       "      <th>year</th>\n",
       "      <th>month</th>\n",
       "      <th>Target</th>\n",
       "    </tr>\n",
       "  </thead>\n",
       "  <tbody>\n",
       "    <tr>\n",
       "      <th>0</th>\n",
       "      <td>12625.800781</td>\n",
       "      <td>-34.603684</td>\n",
       "      <td>-58.381559</td>\n",
       "      <td>24</td>\n",
       "      <td>7</td>\n",
       "      <td>0.0</td>\n",
       "      <td>11.6</td>\n",
       "      <td>87</td>\n",
       "      <td>6</td>\n",
       "      <td>16</td>\n",
       "      <td>0</td>\n",
       "      <td>59</td>\n",
       "      <td>0.0</td>\n",
       "      <td>1018</td>\n",
       "      <td>10</td>\n",
       "      <td>189</td>\n",
       "      <td>2016</td>\n",
       "      <td>3</td>\n",
       "      <td>1</td>\n",
       "    </tr>\n",
       "    <tr>\n",
       "      <th>1</th>\n",
       "      <td>12625.800781</td>\n",
       "      <td>-34.603684</td>\n",
       "      <td>-58.381559</td>\n",
       "      <td>24</td>\n",
       "      <td>7</td>\n",
       "      <td>0.0</td>\n",
       "      <td>11.6</td>\n",
       "      <td>87</td>\n",
       "      <td>6</td>\n",
       "      <td>16</td>\n",
       "      <td>0</td>\n",
       "      <td>59</td>\n",
       "      <td>0.0</td>\n",
       "      <td>1018</td>\n",
       "      <td>10</td>\n",
       "      <td>189</td>\n",
       "      <td>2016</td>\n",
       "      <td>3</td>\n",
       "      <td>0</td>\n",
       "    </tr>\n",
       "    <tr>\n",
       "      <th>2</th>\n",
       "      <td>12625.800781</td>\n",
       "      <td>-34.603684</td>\n",
       "      <td>-58.381559</td>\n",
       "      <td>24</td>\n",
       "      <td>7</td>\n",
       "      <td>0.0</td>\n",
       "      <td>11.6</td>\n",
       "      <td>87</td>\n",
       "      <td>6</td>\n",
       "      <td>16</td>\n",
       "      <td>0</td>\n",
       "      <td>59</td>\n",
       "      <td>0.0</td>\n",
       "      <td>1018</td>\n",
       "      <td>10</td>\n",
       "      <td>189</td>\n",
       "      <td>2016</td>\n",
       "      <td>3</td>\n",
       "      <td>1</td>\n",
       "    </tr>\n",
       "    <tr>\n",
       "      <th>3</th>\n",
       "      <td>12625.800781</td>\n",
       "      <td>-34.603684</td>\n",
       "      <td>-58.381559</td>\n",
       "      <td>24</td>\n",
       "      <td>7</td>\n",
       "      <td>0.0</td>\n",
       "      <td>11.6</td>\n",
       "      <td>87</td>\n",
       "      <td>6</td>\n",
       "      <td>16</td>\n",
       "      <td>0</td>\n",
       "      <td>59</td>\n",
       "      <td>0.0</td>\n",
       "      <td>1018</td>\n",
       "      <td>10</td>\n",
       "      <td>189</td>\n",
       "      <td>2016</td>\n",
       "      <td>3</td>\n",
       "      <td>0</td>\n",
       "    </tr>\n",
       "    <tr>\n",
       "      <th>4</th>\n",
       "      <td>12625.800781</td>\n",
       "      <td>-34.603684</td>\n",
       "      <td>-58.381559</td>\n",
       "      <td>22</td>\n",
       "      <td>10</td>\n",
       "      <td>0.0</td>\n",
       "      <td>11.5</td>\n",
       "      <td>76</td>\n",
       "      <td>10</td>\n",
       "      <td>27</td>\n",
       "      <td>34</td>\n",
       "      <td>72</td>\n",
       "      <td>0.0</td>\n",
       "      <td>1025</td>\n",
       "      <td>10</td>\n",
       "      <td>99</td>\n",
       "      <td>2016</td>\n",
       "      <td>3</td>\n",
       "      <td>0</td>\n",
       "    </tr>\n",
       "  </tbody>\n",
       "</table>\n",
       "</div>"
      ],
      "text/plain": [
       "   density_per_km   latitude  longitude  maxtempC  mintempC  totalSnow_cm  \\\n",
       "0    12625.800781 -34.603684 -58.381559        24         7           0.0   \n",
       "1    12625.800781 -34.603684 -58.381559        24         7           0.0   \n",
       "2    12625.800781 -34.603684 -58.381559        24         7           0.0   \n",
       "3    12625.800781 -34.603684 -58.381559        24         7           0.0   \n",
       "4    12625.800781 -34.603684 -58.381559        22        10           0.0   \n",
       "\n",
       "   sunHour  moon_illumination  DewPointC  WindGustKmph  cloudcover  humidity  \\\n",
       "0     11.6                 87          6            16           0        59   \n",
       "1     11.6                 87          6            16           0        59   \n",
       "2     11.6                 87          6            16           0        59   \n",
       "3     11.6                 87          6            16           0        59   \n",
       "4     11.5                 76         10            27          34        72   \n",
       "\n",
       "   precipMM  pressure  visibility  winddirDegree  year  month  Target  \n",
       "0       0.0      1018          10            189  2016      3       1  \n",
       "1       0.0      1018          10            189  2016      3       0  \n",
       "2       0.0      1018          10            189  2016      3       1  \n",
       "3       0.0      1018          10            189  2016      3       0  \n",
       "4       0.0      1025          10             99  2016      3       0  "
      ]
     },
     "execution_count": 7,
     "metadata": {},
     "output_type": "execute_result"
    }
   ],
   "source": [
    "df = pd.read_csv('/content/drive/MyDrive/ZikaVirus/classification_dataset.csv')\n",
    "df.head()"
   ]
  },
  {
   "cell_type": "code",
   "execution_count": 8,
   "id": "945c48dc",
   "metadata": {
    "colab": {
     "base_uri": "https://localhost:8080/"
    },
    "id": "945c48dc",
    "outputId": "211d0a37-ca24-4af8-e8a2-6065fe21ee30"
   },
   "outputs": [
    {
     "data": {
      "text/plain": [
       "(155223, 19)"
      ]
     },
     "execution_count": 8,
     "metadata": {},
     "output_type": "execute_result"
    }
   ],
   "source": [
    "df.shape"
   ]
  },
  {
   "cell_type": "code",
   "execution_count": 9,
   "id": "6982b8ec",
   "metadata": {
    "colab": {
     "base_uri": "https://localhost:8080/"
    },
    "id": "6982b8ec",
    "outputId": "99cc88ac-5b91-49c8-f0f6-55427136f8cb"
   },
   "outputs": [
    {
     "data": {
      "text/plain": [
       "Index(['density_per_km', 'latitude', 'longitude', 'maxtempC', 'mintempC',\n",
       "       'totalSnow_cm', 'sunHour', 'moon_illumination', 'DewPointC',\n",
       "       'WindGustKmph', 'cloudcover', 'humidity', 'precipMM', 'pressure',\n",
       "       'visibility', 'winddirDegree', 'year', 'month', 'Target'],\n",
       "      dtype='object')"
      ]
     },
     "execution_count": 9,
     "metadata": {},
     "output_type": "execute_result"
    }
   ],
   "source": [
    "df.columns"
   ]
  },
  {
   "cell_type": "code",
   "execution_count": 10,
   "id": "bfd8f230",
   "metadata": {
    "colab": {
     "base_uri": "https://localhost:8080/"
    },
    "id": "bfd8f230",
    "outputId": "2b59cb3e-938f-4868-c14c-5ac805980787"
   },
   "outputs": [
    {
     "data": {
      "text/plain": [
       "79878"
      ]
     },
     "execution_count": 10,
     "metadata": {},
     "output_type": "execute_result"
    }
   ],
   "source": [
    "# Total no of duplicate rows\n",
    "df.duplicated().sum()"
   ]
  },
  {
   "cell_type": "code",
   "execution_count": 11,
   "id": "1a62d97f",
   "metadata": {
    "id": "1a62d97f"
   },
   "outputs": [],
   "source": [
    "# Remove duplicate rows\n",
    "df = df.drop_duplicates(keep='first', inplace=False)"
   ]
  },
  {
   "cell_type": "code",
   "execution_count": 12,
   "id": "WLHDPEOAhdGU",
   "metadata": {
    "colab": {
     "base_uri": "https://localhost:8080/"
    },
    "id": "WLHDPEOAhdGU",
    "outputId": "388941f8-1843-4e0a-f0cb-8c208e3119fe"
   },
   "outputs": [
    {
     "data": {
      "text/plain": [
       "(75345, 19)"
      ]
     },
     "execution_count": 12,
     "metadata": {},
     "output_type": "execute_result"
    }
   ],
   "source": [
    "df.shape"
   ]
  },
  {
   "cell_type": "markdown",
   "id": "76293ce5",
   "metadata": {
    "id": "76293ce5"
   },
   "source": [
    "## Feature Scaling"
   ]
  },
  {
   "cell_type": "code",
   "execution_count": 13,
   "id": "7b9443a2",
   "metadata": {
    "colab": {
     "base_uri": "https://localhost:8080/",
     "height": 224
    },
    "id": "7b9443a2",
    "outputId": "5f5861a3-295f-4536-8677-2f98a666425e"
   },
   "outputs": [
    {
     "data": {
      "text/html": [
       "<div>\n",
       "<style scoped>\n",
       "    .dataframe tbody tr th:only-of-type {\n",
       "        vertical-align: middle;\n",
       "    }\n",
       "\n",
       "    .dataframe tbody tr th {\n",
       "        vertical-align: top;\n",
       "    }\n",
       "\n",
       "    .dataframe thead th {\n",
       "        text-align: right;\n",
       "    }\n",
       "</style>\n",
       "<table border=\"1\" class=\"dataframe\">\n",
       "  <thead>\n",
       "    <tr style=\"text-align: right;\">\n",
       "      <th></th>\n",
       "      <th>Target</th>\n",
       "      <th>density_per_km</th>\n",
       "      <th>latitude</th>\n",
       "      <th>longitude</th>\n",
       "      <th>maxtempC</th>\n",
       "      <th>mintempC</th>\n",
       "      <th>totalSnow_cm</th>\n",
       "      <th>sunHour</th>\n",
       "      <th>moon_illumination</th>\n",
       "      <th>DewPointC</th>\n",
       "      <th>WindGustKmph</th>\n",
       "      <th>cloudcover</th>\n",
       "      <th>humidity</th>\n",
       "      <th>precipMM</th>\n",
       "      <th>pressure</th>\n",
       "      <th>visibility</th>\n",
       "      <th>winddirDegree</th>\n",
       "      <th>year</th>\n",
       "      <th>month</th>\n",
       "    </tr>\n",
       "  </thead>\n",
       "  <tbody>\n",
       "    <tr>\n",
       "      <th>0</th>\n",
       "      <td>1</td>\n",
       "      <td>0.505636</td>\n",
       "      <td>0.196981</td>\n",
       "      <td>0.742734</td>\n",
       "      <td>0.641791</td>\n",
       "      <td>0.567164</td>\n",
       "      <td>0.0</td>\n",
       "      <td>0.625806</td>\n",
       "      <td>0.87</td>\n",
       "      <td>0.622642</td>\n",
       "      <td>0.164835</td>\n",
       "      <td>0.00</td>\n",
       "      <td>0.559140</td>\n",
       "      <td>0.000000</td>\n",
       "      <td>0.602941</td>\n",
       "      <td>1.0</td>\n",
       "      <td>0.531429</td>\n",
       "      <td>0.333333</td>\n",
       "      <td>0.181818</td>\n",
       "    </tr>\n",
       "    <tr>\n",
       "      <th>1</th>\n",
       "      <td>0</td>\n",
       "      <td>0.505636</td>\n",
       "      <td>0.196981</td>\n",
       "      <td>0.742734</td>\n",
       "      <td>0.641791</td>\n",
       "      <td>0.567164</td>\n",
       "      <td>0.0</td>\n",
       "      <td>0.625806</td>\n",
       "      <td>0.87</td>\n",
       "      <td>0.622642</td>\n",
       "      <td>0.164835</td>\n",
       "      <td>0.00</td>\n",
       "      <td>0.559140</td>\n",
       "      <td>0.000000</td>\n",
       "      <td>0.602941</td>\n",
       "      <td>1.0</td>\n",
       "      <td>0.531429</td>\n",
       "      <td>0.333333</td>\n",
       "      <td>0.181818</td>\n",
       "    </tr>\n",
       "    <tr>\n",
       "      <th>2</th>\n",
       "      <td>0</td>\n",
       "      <td>0.505636</td>\n",
       "      <td>0.196981</td>\n",
       "      <td>0.742734</td>\n",
       "      <td>0.611940</td>\n",
       "      <td>0.611940</td>\n",
       "      <td>0.0</td>\n",
       "      <td>0.619355</td>\n",
       "      <td>0.76</td>\n",
       "      <td>0.698113</td>\n",
       "      <td>0.285714</td>\n",
       "      <td>0.34</td>\n",
       "      <td>0.698925</td>\n",
       "      <td>0.000000</td>\n",
       "      <td>0.705882</td>\n",
       "      <td>1.0</td>\n",
       "      <td>0.274286</td>\n",
       "      <td>0.333333</td>\n",
       "      <td>0.181818</td>\n",
       "    </tr>\n",
       "    <tr>\n",
       "      <th>3</th>\n",
       "      <td>1</td>\n",
       "      <td>0.505636</td>\n",
       "      <td>0.196981</td>\n",
       "      <td>0.742734</td>\n",
       "      <td>0.611940</td>\n",
       "      <td>0.611940</td>\n",
       "      <td>0.0</td>\n",
       "      <td>0.619355</td>\n",
       "      <td>0.76</td>\n",
       "      <td>0.698113</td>\n",
       "      <td>0.285714</td>\n",
       "      <td>0.34</td>\n",
       "      <td>0.698925</td>\n",
       "      <td>0.000000</td>\n",
       "      <td>0.705882</td>\n",
       "      <td>1.0</td>\n",
       "      <td>0.274286</td>\n",
       "      <td>0.333333</td>\n",
       "      <td>0.181818</td>\n",
       "    </tr>\n",
       "    <tr>\n",
       "      <th>4</th>\n",
       "      <td>0</td>\n",
       "      <td>0.505636</td>\n",
       "      <td>0.196981</td>\n",
       "      <td>0.742734</td>\n",
       "      <td>0.611940</td>\n",
       "      <td>0.731343</td>\n",
       "      <td>0.0</td>\n",
       "      <td>0.432258</td>\n",
       "      <td>0.26</td>\n",
       "      <td>0.792453</td>\n",
       "      <td>0.175824</td>\n",
       "      <td>0.61</td>\n",
       "      <td>0.763441</td>\n",
       "      <td>0.097011</td>\n",
       "      <td>0.558824</td>\n",
       "      <td>0.8</td>\n",
       "      <td>0.291429</td>\n",
       "      <td>0.333333</td>\n",
       "      <td>0.272727</td>\n",
       "    </tr>\n",
       "  </tbody>\n",
       "</table>\n",
       "</div>"
      ],
      "text/plain": [
       "   Target  density_per_km  latitude  longitude  maxtempC  mintempC  \\\n",
       "0       1        0.505636  0.196981   0.742734  0.641791  0.567164   \n",
       "1       0        0.505636  0.196981   0.742734  0.641791  0.567164   \n",
       "2       0        0.505636  0.196981   0.742734  0.611940  0.611940   \n",
       "3       1        0.505636  0.196981   0.742734  0.611940  0.611940   \n",
       "4       0        0.505636  0.196981   0.742734  0.611940  0.731343   \n",
       "\n",
       "   totalSnow_cm   sunHour  moon_illumination  DewPointC  WindGustKmph  \\\n",
       "0           0.0  0.625806               0.87   0.622642      0.164835   \n",
       "1           0.0  0.625806               0.87   0.622642      0.164835   \n",
       "2           0.0  0.619355               0.76   0.698113      0.285714   \n",
       "3           0.0  0.619355               0.76   0.698113      0.285714   \n",
       "4           0.0  0.432258               0.26   0.792453      0.175824   \n",
       "\n",
       "   cloudcover  humidity  precipMM  pressure  visibility  winddirDegree  \\\n",
       "0        0.00  0.559140  0.000000  0.602941         1.0       0.531429   \n",
       "1        0.00  0.559140  0.000000  0.602941         1.0       0.531429   \n",
       "2        0.34  0.698925  0.000000  0.705882         1.0       0.274286   \n",
       "3        0.34  0.698925  0.000000  0.705882         1.0       0.274286   \n",
       "4        0.61  0.763441  0.097011  0.558824         0.8       0.291429   \n",
       "\n",
       "       year     month  \n",
       "0  0.333333  0.181818  \n",
       "1  0.333333  0.181818  \n",
       "2  0.333333  0.181818  \n",
       "3  0.333333  0.181818  \n",
       "4  0.333333  0.272727  "
      ]
     },
     "execution_count": 13,
     "metadata": {},
     "output_type": "execute_result"
    }
   ],
   "source": [
    "feature_scale = [feature for feature in df.columns if feature not in ['Target']]\n",
    "\n",
    "scaler=MinMaxScaler()\n",
    "scaler.fit(df[feature_scale])\n",
    "\n",
    "# transform the train and test set, and add on the Id and SalePrice variables\n",
    "data = pd.concat([df[['Target']].reset_index(drop=True),\n",
    "                    pd.DataFrame(scaler.transform(df[feature_scale]), columns=feature_scale)],axis=1)\n",
    "\n",
    "data.head()"
   ]
  },
  {
   "cell_type": "markdown",
   "id": "c37d2729",
   "metadata": {
    "id": "c37d2729"
   },
   "source": [
    "# Train Test split"
   ]
  },
  {
   "cell_type": "code",
   "execution_count": 14,
   "id": "56e1089f",
   "metadata": {
    "id": "56e1089f"
   },
   "outputs": [],
   "source": [
    "X = data.drop('Target',axis=1)\n",
    "y = data['Target']\n",
    "\n",
    "X_train,X_test,y_train,y_test = train_test_split(X,y,test_size=0.50,random_state=10, stratify=y) #train test split in 50:50 ratio"
   ]
  },
  {
   "cell_type": "code",
   "execution_count": 15,
   "id": "750e487d",
   "metadata": {
    "colab": {
     "base_uri": "https://localhost:8080/",
     "height": 224
    },
    "id": "750e487d",
    "outputId": "c24d7e20-850c-4ad7-f22c-3c3a50a0c54a"
   },
   "outputs": [
    {
     "data": {
      "text/html": [
       "<div>\n",
       "<style scoped>\n",
       "    .dataframe tbody tr th:only-of-type {\n",
       "        vertical-align: middle;\n",
       "    }\n",
       "\n",
       "    .dataframe tbody tr th {\n",
       "        vertical-align: top;\n",
       "    }\n",
       "\n",
       "    .dataframe thead th {\n",
       "        text-align: right;\n",
       "    }\n",
       "</style>\n",
       "<table border=\"1\" class=\"dataframe\">\n",
       "  <thead>\n",
       "    <tr style=\"text-align: right;\">\n",
       "      <th></th>\n",
       "      <th>density_per_km</th>\n",
       "      <th>latitude</th>\n",
       "      <th>longitude</th>\n",
       "      <th>maxtempC</th>\n",
       "      <th>mintempC</th>\n",
       "      <th>totalSnow_cm</th>\n",
       "      <th>sunHour</th>\n",
       "      <th>moon_illumination</th>\n",
       "      <th>DewPointC</th>\n",
       "      <th>WindGustKmph</th>\n",
       "      <th>cloudcover</th>\n",
       "      <th>humidity</th>\n",
       "      <th>precipMM</th>\n",
       "      <th>pressure</th>\n",
       "      <th>visibility</th>\n",
       "      <th>winddirDegree</th>\n",
       "      <th>year</th>\n",
       "      <th>month</th>\n",
       "    </tr>\n",
       "  </thead>\n",
       "  <tbody>\n",
       "    <tr>\n",
       "      <th>9747</th>\n",
       "      <td>0.002883</td>\n",
       "      <td>0.588673</td>\n",
       "      <td>0.563257</td>\n",
       "      <td>0.537313</td>\n",
       "      <td>0.597015</td>\n",
       "      <td>0.0</td>\n",
       "      <td>0.625806</td>\n",
       "      <td>0.34</td>\n",
       "      <td>0.698113</td>\n",
       "      <td>0.087912</td>\n",
       "      <td>0.47</td>\n",
       "      <td>0.849462</td>\n",
       "      <td>0.006155</td>\n",
       "      <td>0.529412</td>\n",
       "      <td>0.6</td>\n",
       "      <td>0.437143</td>\n",
       "      <td>0.333333</td>\n",
       "      <td>0.090909</td>\n",
       "    </tr>\n",
       "    <tr>\n",
       "      <th>26293</th>\n",
       "      <td>0.000128</td>\n",
       "      <td>0.565977</td>\n",
       "      <td>0.552531</td>\n",
       "      <td>0.626866</td>\n",
       "      <td>0.701493</td>\n",
       "      <td>0.0</td>\n",
       "      <td>0.554839</td>\n",
       "      <td>0.48</td>\n",
       "      <td>0.849057</td>\n",
       "      <td>0.054945</td>\n",
       "      <td>0.56</td>\n",
       "      <td>0.881720</td>\n",
       "      <td>0.118406</td>\n",
       "      <td>0.558824</td>\n",
       "      <td>0.7</td>\n",
       "      <td>0.742857</td>\n",
       "      <td>0.333333</td>\n",
       "      <td>0.363636</td>\n",
       "    </tr>\n",
       "    <tr>\n",
       "      <th>41021</th>\n",
       "      <td>0.004803</td>\n",
       "      <td>0.645345</td>\n",
       "      <td>0.577569</td>\n",
       "      <td>0.791045</td>\n",
       "      <td>0.850746</td>\n",
       "      <td>0.0</td>\n",
       "      <td>0.625806</td>\n",
       "      <td>0.81</td>\n",
       "      <td>0.924528</td>\n",
       "      <td>0.252747</td>\n",
       "      <td>0.18</td>\n",
       "      <td>0.623656</td>\n",
       "      <td>0.007327</td>\n",
       "      <td>0.470588</td>\n",
       "      <td>1.0</td>\n",
       "      <td>0.225714</td>\n",
       "      <td>0.333333</td>\n",
       "      <td>0.636364</td>\n",
       "    </tr>\n",
       "    <tr>\n",
       "      <th>12705</th>\n",
       "      <td>0.001296</td>\n",
       "      <td>0.579009</td>\n",
       "      <td>0.530510</td>\n",
       "      <td>0.671642</td>\n",
       "      <td>0.701493</td>\n",
       "      <td>0.0</td>\n",
       "      <td>0.625806</td>\n",
       "      <td>0.14</td>\n",
       "      <td>0.792453</td>\n",
       "      <td>0.065934</td>\n",
       "      <td>0.21</td>\n",
       "      <td>0.731183</td>\n",
       "      <td>0.027550</td>\n",
       "      <td>0.529412</td>\n",
       "      <td>0.9</td>\n",
       "      <td>0.600000</td>\n",
       "      <td>0.333333</td>\n",
       "      <td>0.181818</td>\n",
       "    </tr>\n",
       "    <tr>\n",
       "      <th>48883</th>\n",
       "      <td>0.000317</td>\n",
       "      <td>0.582719</td>\n",
       "      <td>0.525652</td>\n",
       "      <td>0.641791</td>\n",
       "      <td>0.656716</td>\n",
       "      <td>0.0</td>\n",
       "      <td>0.625806</td>\n",
       "      <td>0.02</td>\n",
       "      <td>0.754717</td>\n",
       "      <td>0.021978</td>\n",
       "      <td>0.33</td>\n",
       "      <td>0.698925</td>\n",
       "      <td>0.030481</td>\n",
       "      <td>0.544118</td>\n",
       "      <td>0.9</td>\n",
       "      <td>0.397143</td>\n",
       "      <td>0.333333</td>\n",
       "      <td>0.818182</td>\n",
       "    </tr>\n",
       "  </tbody>\n",
       "</table>\n",
       "</div>"
      ],
      "text/plain": [
       "       density_per_km  latitude  longitude  maxtempC  mintempC  totalSnow_cm  \\\n",
       "9747         0.002883  0.588673   0.563257  0.537313  0.597015           0.0   \n",
       "26293        0.000128  0.565977   0.552531  0.626866  0.701493           0.0   \n",
       "41021        0.004803  0.645345   0.577569  0.791045  0.850746           0.0   \n",
       "12705        0.001296  0.579009   0.530510  0.671642  0.701493           0.0   \n",
       "48883        0.000317  0.582719   0.525652  0.641791  0.656716           0.0   \n",
       "\n",
       "        sunHour  moon_illumination  DewPointC  WindGustKmph  cloudcover  \\\n",
       "9747   0.625806               0.34   0.698113      0.087912        0.47   \n",
       "26293  0.554839               0.48   0.849057      0.054945        0.56   \n",
       "41021  0.625806               0.81   0.924528      0.252747        0.18   \n",
       "12705  0.625806               0.14   0.792453      0.065934        0.21   \n",
       "48883  0.625806               0.02   0.754717      0.021978        0.33   \n",
       "\n",
       "       humidity  precipMM  pressure  visibility  winddirDegree      year  \\\n",
       "9747   0.849462  0.006155  0.529412         0.6       0.437143  0.333333   \n",
       "26293  0.881720  0.118406  0.558824         0.7       0.742857  0.333333   \n",
       "41021  0.623656  0.007327  0.470588         1.0       0.225714  0.333333   \n",
       "12705  0.731183  0.027550  0.529412         0.9       0.600000  0.333333   \n",
       "48883  0.698925  0.030481  0.544118         0.9       0.397143  0.333333   \n",
       "\n",
       "          month  \n",
       "9747   0.090909  \n",
       "26293  0.363636  \n",
       "41021  0.636364  \n",
       "12705  0.181818  \n",
       "48883  0.818182  "
      ]
     },
     "execution_count": 15,
     "metadata": {},
     "output_type": "execute_result"
    }
   ],
   "source": [
    "X_train.head()"
   ]
  },
  {
   "cell_type": "markdown",
   "id": "67cba278",
   "metadata": {
    "id": "67cba278"
   },
   "source": [
    "# Random Forest"
   ]
  },
  {
   "cell_type": "code",
   "execution_count": 28,
   "id": "d3d3f76d",
   "metadata": {
    "colab": {
     "base_uri": "https://localhost:8080/"
    },
    "id": "d3d3f76d",
    "outputId": "16508b5f-ee7e-45da-b61c-e0846f237522"
   },
   "outputs": [
    {
     "name": "stdout",
     "output_type": "stream",
     "text": [
      "[[ 9957 10410]\n",
      " [10964  6342]]\n",
      "0.43264406869641386\n",
      "              precision    recall  f1-score   support\n",
      "\n",
      "           0       0.48      0.49      0.48     20367\n",
      "           1       0.38      0.37      0.37     17306\n",
      "\n",
      "    accuracy                           0.43     37673\n",
      "   macro avg       0.43      0.43      0.43     37673\n",
      "weighted avg       0.43      0.43      0.43     37673\n",
      "\n"
     ]
    }
   ],
   "source": [
    "rf_classifier=RandomForestClassifier(n_estimators=20).fit(X_train,y_train)\n",
    "y_pred=rf_classifier.predict(X_test)\n",
    "print(confusion_matrix(y_test,y_pred))\n",
    "print(accuracy_score(y_test,y_pred))\n",
    "print(classification_report(y_test,y_pred))"
   ]
  },
  {
   "cell_type": "markdown",
   "id": "ce108cd2",
   "metadata": {
    "id": "ce108cd2"
   },
   "source": [
    "### K Fold Cross Validation"
   ]
  },
  {
   "cell_type": "code",
   "execution_count": null,
   "id": "d7fd120f",
   "metadata": {
    "colab": {
     "base_uri": "https://localhost:8080/"
    },
    "id": "d7fd120f",
    "outputId": "3d034e63-8bd7-4152-9019-7dacd22d00c3"
   },
   "outputs": [
    {
     "name": "stdout",
     "output_type": "stream",
     "text": [
      "[0.54917054 0.59402787 0.58779031 0.58155275 0.57996019 0.58109902\n",
      " 0.57791346 0.50995487 0.41173347 0.53557207]\n",
      "Max : 0.5940278699402787\n",
      "Min : 0.4117334749137245\n",
      "Mean : 0.5508774555128892\n"
     ]
    }
   ],
   "source": [
    "from sklearn.model_selection import KFold\n",
    "from sklearn.model_selection import cross_val_score\n",
    "\n",
    "kfold_validation=KFold(10)\n",
    "\n",
    "model = RandomForestClassifier() \n",
    "results=cross_val_score(model,X,y,cv=kfold_validation)\n",
    "print(results)\n",
    "print('Max :',np.max(results))\n",
    "print('Min :',np.min(results))\n",
    "print('Mean :',np.mean(results))"
   ]
  },
  {
   "cell_type": "markdown",
   "id": "3794c895",
   "metadata": {
    "id": "3794c895"
   },
   "source": [
    "### Stratified K-fold Cross Validation"
   ]
  },
  {
   "cell_type": "code",
   "execution_count": null,
   "id": "367ee3b4",
   "metadata": {
    "colab": {
     "base_uri": "https://localhost:8080/"
    },
    "id": "367ee3b4",
    "outputId": "f23125c7-6261-4a61-9ad8-7057c5141651"
   },
   "outputs": [
    {
     "name": "stdout",
     "output_type": "stream",
     "text": [
      "[0.45189117 0.2540146  0.14240212 0.10670206 0.05560717 0.01566233\n",
      " 0.00451287 0.13379347 0.40629148 0.48553225]\n",
      "Max : 0.4855322537828511\n",
      "Min : 0.004512874966817096\n",
      "Mean : 0.20564095278576974\n"
     ]
    }
   ],
   "source": [
    "from sklearn.model_selection import StratifiedKFold\n",
    "skfold=StratifiedKFold(n_splits=10)\n",
    "model = RandomForestClassifier() \n",
    "scores=cross_val_score(model,X,y,cv=skfold)\n",
    "print(scores)\n",
    "print('Max :',np.max(scores))\n",
    "print('Min :',np.min(scores))\n",
    "print('Mean :',np.mean(scores))"
   ]
  },
  {
   "cell_type": "markdown",
   "id": "ffaafd7f",
   "metadata": {
    "id": "ffaafd7f"
   },
   "source": [
    "## Graphical Analysis"
   ]
  },
  {
   "cell_type": "code",
   "execution_count": null,
   "id": "dc25e993",
   "metadata": {
    "colab": {
     "base_uri": "https://localhost:8080/",
     "height": 302
    },
    "id": "dc25e993",
    "outputId": "de0725b0-b18d-48c9-9b19-84837aac223f"
   },
   "outputs": [
    {
     "data": {
      "image/png": "[encoded data removed]",
      "text/plain": [
       "<Figure size 432x288 with 1 Axes>"
      ]
     },
     "metadata": {},
     "output_type": "display_data"
    }
   ],
   "source": [
    "from sklearn.metrics import roc_curve, auc\n",
    "\n",
    "probs               = rf_classifier.predict_proba(X_test)\n",
    "preds               = probs[:,1]\n",
    "fpr, tpr, threshold = roc_curve(y_test, preds)\n",
    "roc_auc             = auc(fpr, tpr)\n",
    "\n",
    "plt.title('Receiver Operating Characteristic')\n",
    "plt.plot(fpr, tpr, 'b', label = 'AUC = %0.2f' % roc_auc)\n",
    "plt.legend(loc = 'lower right')\n",
    "plt.plot([0, 1], [0, 1],'r--')\n",
    "plt.xlim([0, 1])\n",
    "plt.ylim([0, 1])\n",
    "plt.ylabel('True Positive Rate')\n",
    "plt.xlabel('False Positive Rate')\n",
    "plt.show()"
   ]
  },
  {
   "cell_type": "markdown",
   "id": "5ba436e0",
   "metadata": {
    "id": "5ba436e0"
   },
   "source": [
    "# Tuning the model using grid searchCV\n"
   ]
  },
  {
   "cell_type": "code",
   "execution_count": null,
   "id": "2326221f",
   "metadata": {
    "colab": {
     "base_uri": "https://localhost:8080/"
    },
    "id": "2326221f",
    "outputId": "e70587c1-daa0-4ed9-dbcc-e9740a421c5c",
    "scrolled": true
   },
   "outputs": [
    {
     "metadata": {
      "tags": null
     },
     "name": "stdout",
     "output_type": "stream",
     "text": [
      "Fitting 30 folds for each of 12 candidates, totalling 360 fits\n",
      "[CV] criterion=entropy, max_features=sqrt, n_estimators=10 ...........\n"
     ]
    },
    {
     "metadata": {
      "tags": null
     },
     "name": "stderr",
     "output_type": "stream",
     "text": [
      "[Parallel(n_jobs=1)]: Using backend SequentialBackend with 1 concurrent workers.\n"
     ]
    },
    {
     "metadata": {
      "tags": null
     },
     "name": "stdout",
     "output_type": "stream",
     "text": [
      "[CV]  criterion=entropy, max_features=sqrt, n_estimators=10, total=   1.2s\n",
      "[CV] criterion=entropy, max_features=sqrt, n_estimators=10 ...........\n"
     ]
    },
    {
     "metadata": {
      "tags": null
     },
     "name": "stderr",
     "output_type": "stream",
     "text": [
      "[Parallel(n_jobs=1)]: Done   1 out of   1 | elapsed:    1.2s remaining:    0.0s\n"
     ]
    },
    {
     "name": "stdout",
     "output_type": "stream",
     "text": [
      "[CV]  criterion=entropy, max_features=sqrt, n_estimators=10, total=   1.2s\n",
      "[CV] criterion=entropy, max_features=sqrt, n_estimators=10 ...........\n",
      "[CV]  criterion=entropy, max_features=sqrt, n_estimators=10, total=   1.2s\n",
      "[CV] criterion=entropy, max_features=sqrt, n_estimators=10 ...........\n",
      "[CV]  criterion=entropy, max_features=sqrt, n_estimators=10, total=   1.2s\n",
      "[CV] criterion=entropy, max_features=sqrt, n_estimators=10 ...........\n",
      "[CV]  criterion=entropy, max_features=sqrt, n_estimators=10, total=   1.2s\n",
      "[CV] criterion=entropy, max_features=sqrt, n_estimators=10 ...........\n",
      "[CV]  criterion=entropy, max_features=sqrt, n_estimators=10, total=   1.2s\n",
      "[CV] criterion=entropy, max_features=sqrt, n_estimators=10 ...........\n",
      "[CV]  criterion=entropy, max_features=sqrt, n_estimators=10, total=   1.2s\n",
      "[CV] criterion=entropy, max_features=sqrt, n_estimators=10 ...........\n",
      "[CV]  criterion=entropy, max_features=sqrt, n_estimators=10, total=   1.2s\n",
      "[CV] criterion=entropy, max_features=sqrt, n_estimators=10 ...........\n",
      "[CV]  criterion=entropy, max_features=sqrt, n_estimators=10, total=   1.2s\n",
      "[CV] criterion=entropy, max_features=sqrt, n_estimators=10 ...........\n",
      "[CV]  criterion=entropy, max_features=sqrt, n_estimators=10, total=   1.2s\n",
      "[CV] criterion=entropy, max_features=sqrt, n_estimators=10 ...........\n",
      "[CV]  criterion=entropy, max_features=sqrt, n_estimators=10, total=   1.2s\n",
      "[CV] criterion=entropy, max_features=sqrt, n_estimators=10 ...........\n",
      "[CV]  criterion=entropy, max_features=sqrt, n_estimators=10, total=   1.2s\n",
      "[CV] criterion=entropy, max_features=sqrt, n_estimators=10 ...........\n",
      "[CV]  criterion=entropy, max_features=sqrt, n_estimators=10, total=   1.2s\n",
      "[CV] criterion=entropy, max_features=sqrt, n_estimators=10 ...........\n",
      "[CV]  criterion=entropy, max_features=sqrt, n_estimators=10, total=   1.2s\n",
      "[CV] criterion=entropy, max_features=sqrt, n_estimators=10 ...........\n",
      "[CV]  criterion=entropy, max_features=sqrt, n_estimators=10, total=   1.2s\n",
      "[CV] criterion=entropy, max_features=sqrt, n_estimators=10 ...........\n",
      "[CV]  criterion=entropy, max_features=sqrt, n_estimators=10, total=   1.2s\n",
      "[CV] criterion=entropy, max_features=sqrt, n_estimators=10 ...........\n",
      "[CV]  criterion=entropy, max_features=sqrt, n_estimators=10, total=   1.2s\n",
      "[CV] criterion=entropy, max_features=sqrt, n_estimators=10 ...........\n",
      "[CV]  criterion=entropy, max_features=sqrt, n_estimators=10, total=   1.2s\n",
      "[CV] criterion=entropy, max_features=sqrt, n_estimators=10 ...........\n",
      "[CV]  criterion=entropy, max_features=sqrt, n_estimators=10, total=   1.2s\n",
      "[CV] criterion=entropy, max_features=sqrt, n_estimators=10 ...........\n",
      "[CV]  criterion=entropy, max_features=sqrt, n_estimators=10, total=   1.2s\n",
      "[CV] criterion=entropy, max_features=sqrt, n_estimators=10 ...........\n",
      "[CV]  criterion=entropy, max_features=sqrt, n_estimators=10, total=   1.2s\n",
      "[CV] criterion=entropy, max_features=sqrt, n_estimators=10 ...........\n",
      "[CV]  criterion=entropy, max_features=sqrt, n_estimators=10, total=   1.2s\n",
      "[CV] criterion=entropy, max_features=sqrt, n_estimators=10 ...........\n",
      "[CV]  criterion=entropy, max_features=sqrt, n_estimators=10, total=   1.2s\n",
      "[CV] criterion=entropy, max_features=sqrt, n_estimators=10 ...........\n",
      "[CV]  criterion=entropy, max_features=sqrt, n_estimators=10, total=   1.2s\n",
      "[CV] criterion=entropy, max_features=sqrt, n_estimators=10 ...........\n",
      "[CV]  criterion=entropy, max_features=sqrt, n_estimators=10, total=   1.2s\n",
      "[CV] criterion=entropy, max_features=sqrt, n_estimators=10 ...........\n",
      "[CV]  criterion=entropy, max_features=sqrt, n_estimators=10, total=   1.2s\n",
      "[CV] criterion=entropy, max_features=sqrt, n_estimators=10 ...........\n",
      "[CV]  criterion=entropy, max_features=sqrt, n_estimators=10, total=   1.2s\n",
      "[CV] criterion=entropy, max_features=sqrt, n_estimators=10 ...........\n",
      "[CV]  criterion=entropy, max_features=sqrt, n_estimators=10, total=   1.2s\n",
      "[CV] criterion=entropy, max_features=sqrt, n_estimators=10 ...........\n",
      "[CV]  criterion=entropy, max_features=sqrt, n_estimators=10, total=   1.2s\n",
      "[CV] criterion=entropy, max_features=sqrt, n_estimators=10 ...........\n",
      "[CV]  criterion=entropy, max_features=sqrt, n_estimators=10, total=   1.2s\n",
      "[CV] criterion=entropy, max_features=sqrt, n_estimators=100 ..........\n",
      "[CV]  criterion=entropy, max_features=sqrt, n_estimators=100, total=  11.8s\n",
      "[CV] criterion=entropy, max_features=sqrt, n_estimators=100 ..........\n",
      "[CV]  criterion=entropy, max_features=sqrt, n_estimators=100, total=  11.8s\n",
      "[CV] criterion=entropy, max_features=sqrt, n_estimators=100 ..........\n",
      "[CV]  criterion=entropy, max_features=sqrt, n_estimators=100, total=  11.8s\n",
      "[CV] criterion=entropy, max_features=sqrt, n_estimators=100 ..........\n",
      "[CV]  criterion=entropy, max_features=sqrt, n_estimators=100, total=  11.7s\n",
      "[CV] criterion=entropy, max_features=sqrt, n_estimators=100 ..........\n",
      "[CV]  criterion=entropy, max_features=sqrt, n_estimators=100, total=  11.7s\n",
      "[CV] criterion=entropy, max_features=sqrt, n_estimators=100 ..........\n",
      "[CV]  criterion=entropy, max_features=sqrt, n_estimators=100, total=  11.6s\n",
      "[CV] criterion=entropy, max_features=sqrt, n_estimators=100 ..........\n",
      "[CV]  criterion=entropy, max_features=sqrt, n_estimators=100, total=  11.9s\n",
      "[CV] criterion=entropy, max_features=sqrt, n_estimators=100 ..........\n",
      "[CV]  criterion=entropy, max_features=sqrt, n_estimators=100, total=  11.6s\n",
      "[CV] criterion=entropy, max_features=sqrt, n_estimators=100 ..........\n",
      "[CV]  criterion=entropy, max_features=sqrt, n_estimators=100, total=  11.7s\n",
      "[CV] criterion=entropy, max_features=sqrt, n_estimators=100 ..........\n",
      "[CV]  criterion=entropy, max_features=sqrt, n_estimators=100, total=  11.6s\n",
      "[CV] criterion=entropy, max_features=sqrt, n_estimators=100 ..........\n",
      "[CV]  criterion=entropy, max_features=sqrt, n_estimators=100, total=  11.8s\n",
      "[CV] criterion=entropy, max_features=sqrt, n_estimators=100 ..........\n",
      "[CV]  criterion=entropy, max_features=sqrt, n_estimators=100, total=  11.7s\n",
      "[CV] criterion=entropy, max_features=sqrt, n_estimators=100 ..........\n",
      "[CV]  criterion=entropy, max_features=sqrt, n_estimators=100, total=  11.7s\n",
      "[CV] criterion=entropy, max_features=sqrt, n_estimators=100 ..........\n",
      "[CV]  criterion=entropy, max_features=sqrt, n_estimators=100, total=  11.6s\n",
      "[CV] criterion=entropy, max_features=sqrt, n_estimators=100 ..........\n",
      "[CV]  criterion=entropy, max_features=sqrt, n_estimators=100, total=  11.6s\n",
      "[CV] criterion=entropy, max_features=sqrt, n_estimators=100 ..........\n",
      "[CV]  criterion=entropy, max_features=sqrt, n_estimators=100, total=  11.8s\n",
      "[CV] criterion=entropy, max_features=sqrt, n_estimators=100 ..........\n",
      "[CV]  criterion=entropy, max_features=sqrt, n_estimators=100, total=  11.6s\n",
      "[CV] criterion=entropy, max_features=sqrt, n_estimators=100 ..........\n",
      "[CV]  criterion=entropy, max_features=sqrt, n_estimators=100, total=  11.7s\n",
      "[CV] criterion=entropy, max_features=sqrt, n_estimators=100 ..........\n",
      "[CV]  criterion=entropy, max_features=sqrt, n_estimators=100, total=  11.5s\n",
      "[CV] criterion=entropy, max_features=sqrt, n_estimators=100 ..........\n",
      "[CV]  criterion=entropy, max_features=sqrt, n_estimators=100, total=  11.7s\n",
      "[CV] criterion=entropy, max_features=sqrt, n_estimators=100 ..........\n",
      "[CV]  criterion=entropy, max_features=sqrt, n_estimators=100, total=  11.8s\n",
      "[CV] criterion=entropy, max_features=sqrt, n_estimators=100 ..........\n",
      "[CV]  criterion=entropy, max_features=sqrt, n_estimators=100, total=  11.7s\n",
      "[CV] criterion=entropy, max_features=sqrt, n_estimators=100 ..........\n",
      "[CV]  criterion=entropy, max_features=sqrt, n_estimators=100, total=  11.8s\n",
      "[CV] criterion=entropy, max_features=sqrt, n_estimators=100 ..........\n",
      "[CV]  criterion=entropy, max_features=sqrt, n_estimators=100, total=  11.8s\n",
      "[CV] criterion=entropy, max_features=sqrt, n_estimators=100 ..........\n",
      "[CV]  criterion=entropy, max_features=sqrt, n_estimators=100, total=  11.9s\n",
      "[CV] criterion=entropy, max_features=sqrt, n_estimators=100 ..........\n",
      "[CV]  criterion=entropy, max_features=sqrt, n_estimators=100, total=  11.9s\n",
      "[CV] criterion=entropy, max_features=sqrt, n_estimators=100 ..........\n",
      "[CV]  criterion=entropy, max_features=sqrt, n_estimators=100, total=  11.9s\n",
      "[CV] criterion=entropy, max_features=sqrt, n_estimators=100 ..........\n",
      "[CV]  criterion=entropy, max_features=sqrt, n_estimators=100, total=  11.8s\n",
      "[CV] criterion=entropy, max_features=sqrt, n_estimators=100 ..........\n",
      "[CV]  criterion=entropy, max_features=sqrt, n_estimators=100, total=  11.9s\n",
      "[CV] criterion=entropy, max_features=sqrt, n_estimators=100 ..........\n",
      "[CV]  criterion=entropy, max_features=sqrt, n_estimators=100, total=  11.8s\n",
      "[CV] criterion=entropy, max_features=sqrt, n_estimators=500 ..........\n",
      "[CV]  criterion=entropy, max_features=sqrt, n_estimators=500, total=  59.3s\n",
      "[CV] criterion=entropy, max_features=sqrt, n_estimators=500 ..........\n",
      "[CV]  criterion=entropy, max_features=sqrt, n_estimators=500, total=  58.5s\n",
      "[CV] criterion=entropy, max_features=sqrt, n_estimators=500 ..........\n",
      "[CV]  criterion=entropy, max_features=sqrt, n_estimators=500, total=  57.8s\n",
      "[CV] criterion=entropy, max_features=sqrt, n_estimators=500 ..........\n",
      "[CV]  criterion=entropy, max_features=sqrt, n_estimators=500, total=  57.9s\n",
      "[CV] criterion=entropy, max_features=sqrt, n_estimators=500 ..........\n",
      "[CV]  criterion=entropy, max_features=sqrt, n_estimators=500, total=  57.2s\n",
      "[CV] criterion=entropy, max_features=sqrt, n_estimators=500 ..........\n",
      "[CV]  criterion=entropy, max_features=sqrt, n_estimators=500, total=  58.1s\n",
      "[CV] criterion=entropy, max_features=sqrt, n_estimators=500 ..........\n",
      "[CV]  criterion=entropy, max_features=sqrt, n_estimators=500, total=  57.3s\n",
      "[CV] criterion=entropy, max_features=sqrt, n_estimators=500 ..........\n",
      "[CV]  criterion=entropy, max_features=sqrt, n_estimators=500, total=  57.6s\n",
      "[CV] criterion=entropy, max_features=sqrt, n_estimators=500 ..........\n",
      "[CV]  criterion=entropy, max_features=sqrt, n_estimators=500, total=  57.8s\n",
      "[CV] criterion=entropy, max_features=sqrt, n_estimators=500 ..........\n",
      "[CV]  criterion=entropy, max_features=sqrt, n_estimators=500, total=  57.7s\n",
      "[CV] criterion=entropy, max_features=sqrt, n_estimators=500 ..........\n",
      "[CV]  criterion=entropy, max_features=sqrt, n_estimators=500, total=  58.0s\n",
      "[CV] criterion=entropy, max_features=sqrt, n_estimators=500 ..........\n",
      "[CV]  criterion=entropy, max_features=sqrt, n_estimators=500, total=  58.7s\n",
      "[CV] criterion=entropy, max_features=sqrt, n_estimators=500 ..........\n",
      "[CV]  criterion=entropy, max_features=sqrt, n_estimators=500, total=  58.3s\n",
      "[CV] criterion=entropy, max_features=sqrt, n_estimators=500 ..........\n",
      "[CV]  criterion=entropy, max_features=sqrt, n_estimators=500, total=  57.9s\n",
      "[CV] criterion=entropy, max_features=sqrt, n_estimators=500 ..........\n",
      "[CV]  criterion=entropy, max_features=sqrt, n_estimators=500, total=  58.6s\n",
      "[CV] criterion=entropy, max_features=sqrt, n_estimators=500 ..........\n",
      "[CV]  criterion=entropy, max_features=sqrt, n_estimators=500, total=  59.0s\n",
      "[CV] criterion=entropy, max_features=sqrt, n_estimators=500 ..........\n",
      "[CV]  criterion=entropy, max_features=sqrt, n_estimators=500, total=  58.4s\n",
      "[CV] criterion=entropy, max_features=sqrt, n_estimators=500 ..........\n",
      "[CV]  criterion=entropy, max_features=sqrt, n_estimators=500, total=  58.9s\n",
      "[CV] criterion=entropy, max_features=sqrt, n_estimators=500 ..........\n",
      "[CV]  criterion=entropy, max_features=sqrt, n_estimators=500, total=  58.4s\n",
      "[CV] criterion=entropy, max_features=sqrt, n_estimators=500 ..........\n",
      "[CV]  criterion=entropy, max_features=sqrt, n_estimators=500, total=  59.2s\n",
      "[CV] criterion=entropy, max_features=sqrt, n_estimators=500 ..........\n",
      "[CV]  criterion=entropy, max_features=sqrt, n_estimators=500, total=  58.8s\n",
      "[CV] criterion=entropy, max_features=sqrt, n_estimators=500 ..........\n",
      "[CV]  criterion=entropy, max_features=sqrt, n_estimators=500, total=  58.6s\n",
      "[CV] criterion=entropy, max_features=sqrt, n_estimators=500 ..........\n",
      "[CV]  criterion=entropy, max_features=sqrt, n_estimators=500, total=  58.2s\n",
      "[CV] criterion=entropy, max_features=sqrt, n_estimators=500 ..........\n",
      "[CV]  criterion=entropy, max_features=sqrt, n_estimators=500, total=  58.9s\n",
      "[CV] criterion=entropy, max_features=sqrt, n_estimators=500 ..........\n",
      "[CV]  criterion=entropy, max_features=sqrt, n_estimators=500, total=  58.6s\n",
      "[CV] criterion=entropy, max_features=sqrt, n_estimators=500 ..........\n",
      "[CV]  criterion=entropy, max_features=sqrt, n_estimators=500, total=  58.8s\n",
      "[CV] criterion=entropy, max_features=sqrt, n_estimators=500 ..........\n",
      "[CV]  criterion=entropy, max_features=sqrt, n_estimators=500, total=  58.9s\n",
      "[CV] criterion=entropy, max_features=sqrt, n_estimators=500 ..........\n",
      "[CV]  criterion=entropy, max_features=sqrt, n_estimators=500, total=  58.5s\n",
      "[CV] criterion=entropy, max_features=sqrt, n_estimators=500 ..........\n",
      "[CV]  criterion=entropy, max_features=sqrt, n_estimators=500, total=  58.2s\n",
      "[CV] criterion=entropy, max_features=sqrt, n_estimators=500 ..........\n",
      "[CV]  criterion=entropy, max_features=sqrt, n_estimators=500, total=  57.8s\n",
      "[CV] criterion=entropy, max_features=log2, n_estimators=10 ...........\n",
      "[CV]  criterion=entropy, max_features=log2, n_estimators=10, total=   1.2s\n",
      "[CV] criterion=entropy, max_features=log2, n_estimators=10 ...........\n",
      "[CV]  criterion=entropy, max_features=log2, n_estimators=10, total=   1.2s\n",
      "[CV] criterion=entropy, max_features=log2, n_estimators=10 ...........\n",
      "[CV]  criterion=entropy, max_features=log2, n_estimators=10, total=   1.2s\n",
      "[CV] criterion=entropy, max_features=log2, n_estimators=10 ...........\n",
      "[CV]  criterion=entropy, max_features=log2, n_estimators=10, total=   1.2s\n",
      "[CV] criterion=entropy, max_features=log2, n_estimators=10 ...........\n",
      "[CV]  criterion=entropy, max_features=log2, n_estimators=10, total=   1.2s\n",
      "[CV] criterion=entropy, max_features=log2, n_estimators=10 ...........\n",
      "[CV]  criterion=entropy, max_features=log2, n_estimators=10, total=   1.2s\n",
      "[CV] criterion=entropy, max_features=log2, n_estimators=10 ...........\n",
      "[CV]  criterion=entropy, max_features=log2, n_estimators=10, total=   1.2s\n",
      "[CV] criterion=entropy, max_features=log2, n_estimators=10 ...........\n",
      "[CV]  criterion=entropy, max_features=log2, n_estimators=10, total=   1.2s\n",
      "[CV] criterion=entropy, max_features=log2, n_estimators=10 ...........\n",
      "[CV]  criterion=entropy, max_features=log2, n_estimators=10, total=   1.2s\n",
      "[CV] criterion=entropy, max_features=log2, n_estimators=10 ...........\n",
      "[CV]  criterion=entropy, max_features=log2, n_estimators=10, total=   1.2s\n",
      "[CV] criterion=entropy, max_features=log2, n_estimators=10 ...........\n",
      "[CV]  criterion=entropy, max_features=log2, n_estimators=10, total=   1.2s\n",
      "[CV] criterion=entropy, max_features=log2, n_estimators=10 ...........\n",
      "[CV]  criterion=entropy, max_features=log2, n_estimators=10, total=   1.2s\n",
      "[CV] criterion=entropy, max_features=log2, n_estimators=10 ...........\n",
      "[CV]  criterion=entropy, max_features=log2, n_estimators=10, total=   1.2s\n",
      "[CV] criterion=entropy, max_features=log2, n_estimators=10 ...........\n",
      "[CV]  criterion=entropy, max_features=log2, n_estimators=10, total=   1.2s\n",
      "[CV] criterion=entropy, max_features=log2, n_estimators=10 ...........\n",
      "[CV]  criterion=entropy, max_features=log2, n_estimators=10, total=   1.2s\n",
      "[CV] criterion=entropy, max_features=log2, n_estimators=10 ...........\n",
      "[CV]  criterion=entropy, max_features=log2, n_estimators=10, total=   1.2s\n",
      "[CV] criterion=entropy, max_features=log2, n_estimators=10 ...........\n",
      "[CV]  criterion=entropy, max_features=log2, n_estimators=10, total=   1.2s\n",
      "[CV] criterion=entropy, max_features=log2, n_estimators=10 ...........\n",
      "[CV]  criterion=entropy, max_features=log2, n_estimators=10, total=   1.2s\n",
      "[CV] criterion=entropy, max_features=log2, n_estimators=10 ...........\n",
      "[CV]  criterion=entropy, max_features=log2, n_estimators=10, total=   1.1s\n",
      "[CV] criterion=entropy, max_features=log2, n_estimators=10 ...........\n",
      "[CV]  criterion=entropy, max_features=log2, n_estimators=10, total=   1.2s\n",
      "[CV] criterion=entropy, max_features=log2, n_estimators=10 ...........\n",
      "[CV]  criterion=entropy, max_features=log2, n_estimators=10, total=   1.2s\n",
      "[CV] criterion=entropy, max_features=log2, n_estimators=10 ...........\n",
      "[CV]  criterion=entropy, max_features=log2, n_estimators=10, total=   1.2s\n",
      "[CV] criterion=entropy, max_features=log2, n_estimators=10 ...........\n",
      "[CV]  criterion=entropy, max_features=log2, n_estimators=10, total=   1.2s\n",
      "[CV] criterion=entropy, max_features=log2, n_estimators=10 ...........\n",
      "[CV]  criterion=entropy, max_features=log2, n_estimators=10, total=   1.2s\n",
      "[CV] criterion=entropy, max_features=log2, n_estimators=10 ...........\n",
      "[CV]  criterion=entropy, max_features=log2, n_estimators=10, total=   1.2s\n",
      "[CV] criterion=entropy, max_features=log2, n_estimators=10 ...........\n",
      "[CV]  criterion=entropy, max_features=log2, n_estimators=10, total=   1.2s\n",
      "[CV] criterion=entropy, max_features=log2, n_estimators=10 ...........\n",
      "[CV]  criterion=entropy, max_features=log2, n_estimators=10, total=   1.2s\n",
      "[CV] criterion=entropy, max_features=log2, n_estimators=10 ...........\n",
      "[CV]  criterion=entropy, max_features=log2, n_estimators=10, total=   1.2s\n",
      "[CV] criterion=entropy, max_features=log2, n_estimators=10 ...........\n",
      "[CV]  criterion=entropy, max_features=log2, n_estimators=10, total=   1.1s\n",
      "[CV] criterion=entropy, max_features=log2, n_estimators=10 ...........\n",
      "[CV]  criterion=entropy, max_features=log2, n_estimators=10, total=   1.2s\n",
      "[CV] criterion=entropy, max_features=log2, n_estimators=100 ..........\n",
      "[CV]  criterion=entropy, max_features=log2, n_estimators=100, total=  11.6s\n",
      "[CV] criterion=entropy, max_features=log2, n_estimators=100 ..........\n",
      "[CV]  criterion=entropy, max_features=log2, n_estimators=100, total=  11.6s\n",
      "[CV] criterion=entropy, max_features=log2, n_estimators=100 ..........\n",
      "[CV]  criterion=entropy, max_features=log2, n_estimators=100, total=  11.7s\n",
      "[CV] criterion=entropy, max_features=log2, n_estimators=100 ..........\n",
      "[CV]  criterion=entropy, max_features=log2, n_estimators=100, total=  11.6s\n",
      "[CV] criterion=entropy, max_features=log2, n_estimators=100 ..........\n",
      "[CV]  criterion=entropy, max_features=log2, n_estimators=100, total=  11.8s\n",
      "[CV] criterion=entropy, max_features=log2, n_estimators=100 ..........\n",
      "[CV]  criterion=entropy, max_features=log2, n_estimators=100, total=  11.8s\n",
      "[CV] criterion=entropy, max_features=log2, n_estimators=100 ..........\n",
      "[CV]  criterion=entropy, max_features=log2, n_estimators=100, total=  11.8s\n",
      "[CV] criterion=entropy, max_features=log2, n_estimators=100 ..........\n",
      "[CV]  criterion=entropy, max_features=log2, n_estimators=100, total=  12.0s\n",
      "[CV] criterion=entropy, max_features=log2, n_estimators=100 ..........\n",
      "[CV]  criterion=entropy, max_features=log2, n_estimators=100, total=  12.0s\n",
      "[CV] criterion=entropy, max_features=log2, n_estimators=100 ..........\n",
      "[CV]  criterion=entropy, max_features=log2, n_estimators=100, total=  11.7s\n",
      "[CV] criterion=entropy, max_features=log2, n_estimators=100 ..........\n",
      "[CV]  criterion=entropy, max_features=log2, n_estimators=100, total=  11.8s\n",
      "[CV] criterion=entropy, max_features=log2, n_estimators=100 ..........\n",
      "[CV]  criterion=entropy, max_features=log2, n_estimators=100, total=  11.7s\n",
      "[CV] criterion=entropy, max_features=log2, n_estimators=100 ..........\n",
      "[CV]  criterion=entropy, max_features=log2, n_estimators=100, total=  11.5s\n",
      "[CV] criterion=entropy, max_features=log2, n_estimators=100 ..........\n",
      "[CV]  criterion=entropy, max_features=log2, n_estimators=100, total=  11.6s\n",
      "[CV] criterion=entropy, max_features=log2, n_estimators=100 ..........\n",
      "[CV]  criterion=entropy, max_features=log2, n_estimators=100, total=  11.6s\n",
      "[CV] criterion=entropy, max_features=log2, n_estimators=100 ..........\n",
      "[CV]  criterion=entropy, max_features=log2, n_estimators=100, total=  11.7s\n",
      "[CV] criterion=entropy, max_features=log2, n_estimators=100 ..........\n",
      "[CV]  criterion=entropy, max_features=log2, n_estimators=100, total=  11.6s\n",
      "[CV] criterion=entropy, max_features=log2, n_estimators=100 ..........\n",
      "[CV]  criterion=entropy, max_features=log2, n_estimators=100, total=  11.7s\n",
      "[CV] criterion=entropy, max_features=log2, n_estimators=100 ..........\n",
      "[CV]  criterion=entropy, max_features=log2, n_estimators=100, total=  11.7s\n",
      "[CV] criterion=entropy, max_features=log2, n_estimators=100 ..........\n",
      "[CV]  criterion=entropy, max_features=log2, n_estimators=100, total=  11.9s\n",
      "[CV] criterion=entropy, max_features=log2, n_estimators=100 ..........\n",
      "[CV]  criterion=entropy, max_features=log2, n_estimators=100, total=  11.9s\n",
      "[CV] criterion=entropy, max_features=log2, n_estimators=100 ..........\n",
      "[CV]  criterion=entropy, max_features=log2, n_estimators=100, total=  11.9s\n",
      "[CV] criterion=entropy, max_features=log2, n_estimators=100 ..........\n",
      "[CV]  criterion=entropy, max_features=log2, n_estimators=100, total=  11.7s\n",
      "[CV] criterion=entropy, max_features=log2, n_estimators=100 ..........\n",
      "[CV]  criterion=entropy, max_features=log2, n_estimators=100, total=  11.9s\n",
      "[CV] criterion=entropy, max_features=log2, n_estimators=100 ..........\n",
      "[CV]  criterion=entropy, max_features=log2, n_estimators=100, total=  11.6s\n",
      "[CV] criterion=entropy, max_features=log2, n_estimators=100 ..........\n",
      "[CV]  criterion=entropy, max_features=log2, n_estimators=100, total=  11.6s\n",
      "[CV] criterion=entropy, max_features=log2, n_estimators=100 ..........\n",
      "[CV]  criterion=entropy, max_features=log2, n_estimators=100, total=  11.7s\n",
      "[CV] criterion=entropy, max_features=log2, n_estimators=100 ..........\n",
      "[CV]  criterion=entropy, max_features=log2, n_estimators=100, total=  11.6s\n",
      "[CV] criterion=entropy, max_features=log2, n_estimators=100 ..........\n",
      "[CV]  criterion=entropy, max_features=log2, n_estimators=100, total=  11.6s\n",
      "[CV] criterion=entropy, max_features=log2, n_estimators=100 ..........\n",
      "[CV]  criterion=entropy, max_features=log2, n_estimators=100, total=  11.5s\n",
      "[CV] criterion=entropy, max_features=log2, n_estimators=500 ..........\n",
      "[CV]  criterion=entropy, max_features=log2, n_estimators=500, total=  58.2s\n",
      "[CV] criterion=entropy, max_features=log2, n_estimators=500 ..........\n",
      "[CV]  criterion=entropy, max_features=log2, n_estimators=500, total=  58.2s\n",
      "[CV] criterion=entropy, max_features=log2, n_estimators=500 ..........\n",
      "[CV]  criterion=entropy, max_features=log2, n_estimators=500, total=  58.5s\n",
      "[CV] criterion=entropy, max_features=log2, n_estimators=500 ..........\n",
      "[CV]  criterion=entropy, max_features=log2, n_estimators=500, total=  58.1s\n",
      "[CV] criterion=entropy, max_features=log2, n_estimators=500 ..........\n",
      "[CV]  criterion=entropy, max_features=log2, n_estimators=500, total=  58.4s\n",
      "[CV] criterion=entropy, max_features=log2, n_estimators=500 ..........\n",
      "[CV]  criterion=entropy, max_features=log2, n_estimators=500, total=  58.0s\n",
      "[CV] criterion=entropy, max_features=log2, n_estimators=500 ..........\n",
      "[CV]  criterion=entropy, max_features=log2, n_estimators=500, total=  58.3s\n",
      "[CV] criterion=entropy, max_features=log2, n_estimators=500 ..........\n",
      "[CV]  criterion=entropy, max_features=log2, n_estimators=500, total=  59.2s\n",
      "[CV] criterion=entropy, max_features=log2, n_estimators=500 ..........\n",
      "[CV]  criterion=entropy, max_features=log2, n_estimators=500, total=  59.2s\n",
      "[CV] criterion=entropy, max_features=log2, n_estimators=500 ..........\n",
      "[CV]  criterion=entropy, max_features=log2, n_estimators=500, total=  59.0s\n",
      "[CV] criterion=entropy, max_features=log2, n_estimators=500 ..........\n",
      "[CV]  criterion=entropy, max_features=log2, n_estimators=500, total=  58.7s\n",
      "[CV] criterion=entropy, max_features=log2, n_estimators=500 ..........\n",
      "[CV]  criterion=entropy, max_features=log2, n_estimators=500, total=  59.3s\n",
      "[CV] criterion=entropy, max_features=log2, n_estimators=500 ..........\n",
      "[CV]  criterion=entropy, max_features=log2, n_estimators=500, total=  59.1s\n",
      "[CV] criterion=entropy, max_features=log2, n_estimators=500 ..........\n",
      "[CV]  criterion=entropy, max_features=log2, n_estimators=500, total=  58.1s\n",
      "[CV] criterion=entropy, max_features=log2, n_estimators=500 ..........\n",
      "[CV]  criterion=entropy, max_features=log2, n_estimators=500, total=  58.6s\n",
      "[CV] criterion=entropy, max_features=log2, n_estimators=500 ..........\n",
      "[CV]  criterion=entropy, max_features=log2, n_estimators=500, total=  59.0s\n",
      "[CV] criterion=entropy, max_features=log2, n_estimators=500 ..........\n",
      "[CV]  criterion=entropy, max_features=log2, n_estimators=500, total=  58.5s\n",
      "[CV] criterion=entropy, max_features=log2, n_estimators=500 ..........\n",
      "[CV]  criterion=entropy, max_features=log2, n_estimators=500, total=  59.1s\n",
      "[CV] criterion=entropy, max_features=log2, n_estimators=500 ..........\n",
      "[CV]  criterion=entropy, max_features=log2, n_estimators=500, total=  58.9s\n",
      "[CV] criterion=entropy, max_features=log2, n_estimators=500 ..........\n",
      "[CV]  criterion=entropy, max_features=log2, n_estimators=500, total=  58.3s\n",
      "[CV] criterion=entropy, max_features=log2, n_estimators=500 ..........\n",
      "[CV]  criterion=entropy, max_features=log2, n_estimators=500, total=  58.0s\n",
      "[CV] criterion=entropy, max_features=log2, n_estimators=500 ..........\n",
      "[CV]  criterion=entropy, max_features=log2, n_estimators=500, total=  58.4s\n",
      "[CV] criterion=entropy, max_features=log2, n_estimators=500 ..........\n",
      "[CV]  criterion=entropy, max_features=log2, n_estimators=500, total=  57.6s\n",
      "[CV] criterion=entropy, max_features=log2, n_estimators=500 ..........\n",
      "[CV]  criterion=entropy, max_features=log2, n_estimators=500, total=  57.8s\n",
      "[CV] criterion=entropy, max_features=log2, n_estimators=500 ..........\n",
      "[CV]  criterion=entropy, max_features=log2, n_estimators=500, total=  57.6s\n",
      "[CV] criterion=entropy, max_features=log2, n_estimators=500 ..........\n",
      "[CV]  criterion=entropy, max_features=log2, n_estimators=500, total=  58.0s\n",
      "[CV] criterion=entropy, max_features=log2, n_estimators=500 ..........\n",
      "[CV]  criterion=entropy, max_features=log2, n_estimators=500, total=  59.1s\n",
      "[CV] criterion=entropy, max_features=log2, n_estimators=500 ..........\n",
      "[CV]  criterion=entropy, max_features=log2, n_estimators=500, total=  58.1s\n",
      "[CV] criterion=entropy, max_features=log2, n_estimators=500 ..........\n",
      "[CV]  criterion=entropy, max_features=log2, n_estimators=500, total=  58.0s\n",
      "[CV] criterion=entropy, max_features=log2, n_estimators=500 ..........\n",
      "[CV]  criterion=entropy, max_features=log2, n_estimators=500, total=  58.3s\n",
      "[CV] criterion=gini, max_features=sqrt, n_estimators=10 ..............\n",
      "[CV]  criterion=gini, max_features=sqrt, n_estimators=10, total=   0.9s\n",
      "[CV] criterion=gini, max_features=sqrt, n_estimators=10 ..............\n",
      "[CV]  criterion=gini, max_features=sqrt, n_estimators=10, total=   0.9s\n",
      "[CV] criterion=gini, max_features=sqrt, n_estimators=10 ..............\n",
      "[CV]  criterion=gini, max_features=sqrt, n_estimators=10, total=   0.9s\n",
      "[CV] criterion=gini, max_features=sqrt, n_estimators=10 ..............\n",
      "[CV]  criterion=gini, max_features=sqrt, n_estimators=10, total=   0.8s\n",
      "[CV] criterion=gini, max_features=sqrt, n_estimators=10 ..............\n",
      "[CV]  criterion=gini, max_features=sqrt, n_estimators=10, total=   0.8s\n",
      "[CV] criterion=gini, max_features=sqrt, n_estimators=10 ..............\n",
      "[CV]  criterion=gini, max_features=sqrt, n_estimators=10, total=   0.9s\n",
      "[CV] criterion=gini, max_features=sqrt, n_estimators=10 ..............\n",
      "[CV]  criterion=gini, max_features=sqrt, n_estimators=10, total=   0.8s\n",
      "[CV] criterion=gini, max_features=sqrt, n_estimators=10 ..............\n",
      "[CV]  criterion=gini, max_features=sqrt, n_estimators=10, total=   0.9s\n",
      "[CV] criterion=gini, max_features=sqrt, n_estimators=10 ..............\n",
      "[CV]  criterion=gini, max_features=sqrt, n_estimators=10, total=   0.8s\n",
      "[CV] criterion=gini, max_features=sqrt, n_estimators=10 ..............\n",
      "[CV]  criterion=gini, max_features=sqrt, n_estimators=10, total=   0.9s\n",
      "[CV] criterion=gini, max_features=sqrt, n_estimators=10 ..............\n",
      "[CV]  criterion=gini, max_features=sqrt, n_estimators=10, total=   0.8s\n",
      "[CV] criterion=gini, max_features=sqrt, n_estimators=10 ..............\n",
      "[CV]  criterion=gini, max_features=sqrt, n_estimators=10, total=   0.9s\n",
      "[CV] criterion=gini, max_features=sqrt, n_estimators=10 ..............\n",
      "[CV]  criterion=gini, max_features=sqrt, n_estimators=10, total=   0.9s\n",
      "[CV] criterion=gini, max_features=sqrt, n_estimators=10 ..............\n",
      "[CV]  criterion=gini, max_features=sqrt, n_estimators=10, total=   0.8s\n",
      "[CV] criterion=gini, max_features=sqrt, n_estimators=10 ..............\n",
      "[CV]  criterion=gini, max_features=sqrt, n_estimators=10, total=   0.9s\n",
      "[CV] criterion=gini, max_features=sqrt, n_estimators=10 ..............\n",
      "[CV]  criterion=gini, max_features=sqrt, n_estimators=10, total=   0.9s\n",
      "[CV] criterion=gini, max_features=sqrt, n_estimators=10 ..............\n",
      "[CV]  criterion=gini, max_features=sqrt, n_estimators=10, total=   0.9s\n",
      "[CV] criterion=gini, max_features=sqrt, n_estimators=10 ..............\n",
      "[CV]  criterion=gini, max_features=sqrt, n_estimators=10, total=   0.9s\n",
      "[CV] criterion=gini, max_features=sqrt, n_estimators=10 ..............\n",
      "[CV]  criterion=gini, max_features=sqrt, n_estimators=10, total=   0.8s\n",
      "[CV] criterion=gini, max_features=sqrt, n_estimators=10 ..............\n",
      "[CV]  criterion=gini, max_features=sqrt, n_estimators=10, total=   0.8s\n",
      "[CV] criterion=gini, max_features=sqrt, n_estimators=10 ..............\n",
      "[CV]  criterion=gini, max_features=sqrt, n_estimators=10, total=   0.8s\n",
      "[CV] criterion=gini, max_features=sqrt, n_estimators=10 ..............\n",
      "[CV]  criterion=gini, max_features=sqrt, n_estimators=10, total=   0.9s\n",
      "[CV] criterion=gini, max_features=sqrt, n_estimators=10 ..............\n",
      "[CV]  criterion=gini, max_features=sqrt, n_estimators=10, total=   0.8s\n",
      "[CV] criterion=gini, max_features=sqrt, n_estimators=10 ..............\n",
      "[CV]  criterion=gini, max_features=sqrt, n_estimators=10, total=   0.8s\n",
      "[CV] criterion=gini, max_features=sqrt, n_estimators=10 ..............\n",
      "[CV]  criterion=gini, max_features=sqrt, n_estimators=10, total=   0.8s\n",
      "[CV] criterion=gini, max_features=sqrt, n_estimators=10 ..............\n",
      "[CV]  criterion=gini, max_features=sqrt, n_estimators=10, total=   0.8s\n",
      "[CV] criterion=gini, max_features=sqrt, n_estimators=10 ..............\n",
      "[CV]  criterion=gini, max_features=sqrt, n_estimators=10, total=   0.9s\n",
      "[CV] criterion=gini, max_features=sqrt, n_estimators=10 ..............\n",
      "[CV]  criterion=gini, max_features=sqrt, n_estimators=10, total=   0.9s\n",
      "[CV] criterion=gini, max_features=sqrt, n_estimators=10 ..............\n",
      "[CV]  criterion=gini, max_features=sqrt, n_estimators=10, total=   0.8s\n",
      "[CV] criterion=gini, max_features=sqrt, n_estimators=10 ..............\n",
      "[CV]  criterion=gini, max_features=sqrt, n_estimators=10, total=   0.9s\n",
      "[CV] criterion=gini, max_features=sqrt, n_estimators=100 .............\n",
      "[CV]  criterion=gini, max_features=sqrt, n_estimators=100, total=   8.2s\n",
      "[CV] criterion=gini, max_features=sqrt, n_estimators=100 .............\n",
      "[CV]  criterion=gini, max_features=sqrt, n_estimators=100, total=   8.3s\n",
      "[CV] criterion=gini, max_features=sqrt, n_estimators=100 .............\n",
      "[CV]  criterion=gini, max_features=sqrt, n_estimators=100, total=   8.4s\n",
      "[CV] criterion=gini, max_features=sqrt, n_estimators=100 .............\n",
      "[CV]  criterion=gini, max_features=sqrt, n_estimators=100, total=   8.4s\n",
      "[CV] criterion=gini, max_features=sqrt, n_estimators=100 .............\n",
      "[CV]  criterion=gini, max_features=sqrt, n_estimators=100, total=   8.3s\n",
      "[CV] criterion=gini, max_features=sqrt, n_estimators=100 .............\n",
      "[CV]  criterion=gini, max_features=sqrt, n_estimators=100, total=   8.2s\n",
      "[CV] criterion=gini, max_features=sqrt, n_estimators=100 .............\n",
      "[CV]  criterion=gini, max_features=sqrt, n_estimators=100, total=   8.3s\n",
      "[CV] criterion=gini, max_features=sqrt, n_estimators=100 .............\n",
      "[CV]  criterion=gini, max_features=sqrt, n_estimators=100, total=   8.2s\n",
      "[CV] criterion=gini, max_features=sqrt, n_estimators=100 .............\n",
      "[CV]  criterion=gini, max_features=sqrt, n_estimators=100, total=   8.2s\n",
      "[CV] criterion=gini, max_features=sqrt, n_estimators=100 .............\n",
      "[CV]  criterion=gini, max_features=sqrt, n_estimators=100, total=   8.2s\n",
      "[CV] criterion=gini, max_features=sqrt, n_estimators=100 .............\n",
      "[CV]  criterion=gini, max_features=sqrt, n_estimators=100, total=   8.3s\n",
      "[CV] criterion=gini, max_features=sqrt, n_estimators=100 .............\n",
      "[CV]  criterion=gini, max_features=sqrt, n_estimators=100, total=   8.3s\n",
      "[CV] criterion=gini, max_features=sqrt, n_estimators=100 .............\n",
      "[CV]  criterion=gini, max_features=sqrt, n_estimators=100, total=   8.3s\n",
      "[CV] criterion=gini, max_features=sqrt, n_estimators=100 .............\n",
      "[CV]  criterion=gini, max_features=sqrt, n_estimators=100, total=   8.2s\n",
      "[CV] criterion=gini, max_features=sqrt, n_estimators=100 .............\n",
      "[CV]  criterion=gini, max_features=sqrt, n_estimators=100, total=   8.3s\n",
      "[CV] criterion=gini, max_features=sqrt, n_estimators=100 .............\n",
      "[CV]  criterion=gini, max_features=sqrt, n_estimators=100, total=   8.3s\n",
      "[CV] criterion=gini, max_features=sqrt, n_estimators=100 .............\n",
      "[CV]  criterion=gini, max_features=sqrt, n_estimators=100, total=   8.3s\n",
      "[CV] criterion=gini, max_features=sqrt, n_estimators=100 .............\n",
      "[CV]  criterion=gini, max_features=sqrt, n_estimators=100, total=   8.3s\n",
      "[CV] criterion=gini, max_features=sqrt, n_estimators=100 .............\n",
      "[CV]  criterion=gini, max_features=sqrt, n_estimators=100, total=   8.3s\n",
      "[CV] criterion=gini, max_features=sqrt, n_estimators=100 .............\n",
      "[CV]  criterion=gini, max_features=sqrt, n_estimators=100, total=   8.2s\n",
      "[CV] criterion=gini, max_features=sqrt, n_estimators=100 .............\n",
      "[CV]  criterion=gini, max_features=sqrt, n_estimators=100, total=   8.3s\n",
      "[CV] criterion=gini, max_features=sqrt, n_estimators=100 .............\n",
      "[CV]  criterion=gini, max_features=sqrt, n_estimators=100, total=   8.3s\n",
      "[CV] criterion=gini, max_features=sqrt, n_estimators=100 .............\n",
      "[CV]  criterion=gini, max_features=sqrt, n_estimators=100, total=   8.1s\n",
      "[CV] criterion=gini, max_features=sqrt, n_estimators=100 .............\n",
      "[CV]  criterion=gini, max_features=sqrt, n_estimators=100, total=   8.2s\n",
      "[CV] criterion=gini, max_features=sqrt, n_estimators=100 .............\n",
      "[CV]  criterion=gini, max_features=sqrt, n_estimators=100, total=   8.2s\n",
      "[CV] criterion=gini, max_features=sqrt, n_estimators=100 .............\n",
      "[CV]  criterion=gini, max_features=sqrt, n_estimators=100, total=   8.2s\n",
      "[CV] criterion=gini, max_features=sqrt, n_estimators=100 .............\n",
      "[CV]  criterion=gini, max_features=sqrt, n_estimators=100, total=   8.2s\n",
      "[CV] criterion=gini, max_features=sqrt, n_estimators=100 .............\n",
      "[CV]  criterion=gini, max_features=sqrt, n_estimators=100, total=   8.2s\n",
      "[CV] criterion=gini, max_features=sqrt, n_estimators=100 .............\n",
      "[CV]  criterion=gini, max_features=sqrt, n_estimators=100, total=   8.2s\n",
      "[CV] criterion=gini, max_features=sqrt, n_estimators=100 .............\n",
      "[CV]  criterion=gini, max_features=sqrt, n_estimators=100, total=   8.3s\n",
      "[CV] criterion=gini, max_features=sqrt, n_estimators=500 .............\n",
      "[CV]  criterion=gini, max_features=sqrt, n_estimators=500, total=  41.3s\n",
      "[CV] criterion=gini, max_features=sqrt, n_estimators=500 .............\n",
      "[CV]  criterion=gini, max_features=sqrt, n_estimators=500, total=  41.6s\n",
      "[CV] criterion=gini, max_features=sqrt, n_estimators=500 .............\n",
      "[CV]  criterion=gini, max_features=sqrt, n_estimators=500, total=  41.4s\n",
      "[CV] criterion=gini, max_features=sqrt, n_estimators=500 .............\n",
      "[CV]  criterion=gini, max_features=sqrt, n_estimators=500, total=  41.2s\n",
      "[CV] criterion=gini, max_features=sqrt, n_estimators=500 .............\n",
      "[CV]  criterion=gini, max_features=sqrt, n_estimators=500, total=  41.1s\n",
      "[CV] criterion=gini, max_features=sqrt, n_estimators=500 .............\n",
      "[CV]  criterion=gini, max_features=sqrt, n_estimators=500, total=  41.7s\n",
      "[CV] criterion=gini, max_features=sqrt, n_estimators=500 .............\n",
      "[CV]  criterion=gini, max_features=sqrt, n_estimators=500, total=  41.9s\n",
      "[CV] criterion=gini, max_features=sqrt, n_estimators=500 .............\n",
      "[CV]  criterion=gini, max_features=sqrt, n_estimators=500, total=  41.2s\n",
      "[CV] criterion=gini, max_features=sqrt, n_estimators=500 .............\n",
      "[CV]  criterion=gini, max_features=sqrt, n_estimators=500, total=  41.1s\n",
      "[CV] criterion=gini, max_features=sqrt, n_estimators=500 .............\n",
      "[CV]  criterion=gini, max_features=sqrt, n_estimators=500, total=  41.4s\n",
      "[CV] criterion=gini, max_features=sqrt, n_estimators=500 .............\n",
      "[CV]  criterion=gini, max_features=sqrt, n_estimators=500, total=  41.5s\n",
      "[CV] criterion=gini, max_features=sqrt, n_estimators=500 .............\n",
      "[CV]  criterion=gini, max_features=sqrt, n_estimators=500, total=  41.5s\n",
      "[CV] criterion=gini, max_features=sqrt, n_estimators=500 .............\n",
      "[CV]  criterion=gini, max_features=sqrt, n_estimators=500, total=  41.5s\n",
      "[CV] criterion=gini, max_features=sqrt, n_estimators=500 .............\n",
      "[CV]  criterion=gini, max_features=sqrt, n_estimators=500, total=  41.2s\n",
      "[CV] criterion=gini, max_features=sqrt, n_estimators=500 .............\n",
      "[CV]  criterion=gini, max_features=sqrt, n_estimators=500, total=  41.3s\n",
      "[CV] criterion=gini, max_features=sqrt, n_estimators=500 .............\n",
      "[CV]  criterion=gini, max_features=sqrt, n_estimators=500, total=  41.8s\n",
      "[CV] criterion=gini, max_features=sqrt, n_estimators=500 .............\n",
      "[CV]  criterion=gini, max_features=sqrt, n_estimators=500, total=  42.2s\n",
      "[CV] criterion=gini, max_features=sqrt, n_estimators=500 .............\n",
      "[CV]  criterion=gini, max_features=sqrt, n_estimators=500, total=  42.4s\n",
      "[CV] criterion=gini, max_features=sqrt, n_estimators=500 .............\n",
      "[CV]  criterion=gini, max_features=sqrt, n_estimators=500, total=  41.3s\n",
      "[CV] criterion=gini, max_features=sqrt, n_estimators=500 .............\n",
      "[CV]  criterion=gini, max_features=sqrt, n_estimators=500, total=  41.5s\n",
      "[CV] criterion=gini, max_features=sqrt, n_estimators=500 .............\n",
      "[CV]  criterion=gini, max_features=sqrt, n_estimators=500, total=  41.8s\n",
      "[CV] criterion=gini, max_features=sqrt, n_estimators=500 .............\n",
      "[CV]  criterion=gini, max_features=sqrt, n_estimators=500, total=  41.5s\n",
      "[CV] criterion=gini, max_features=sqrt, n_estimators=500 .............\n",
      "[CV]  criterion=gini, max_features=sqrt, n_estimators=500, total=  41.5s\n",
      "[CV] criterion=gini, max_features=sqrt, n_estimators=500 .............\n",
      "[CV]  criterion=gini, max_features=sqrt, n_estimators=500, total=  41.8s\n",
      "[CV] criterion=gini, max_features=sqrt, n_estimators=500 .............\n",
      "[CV]  criterion=gini, max_features=sqrt, n_estimators=500, total=  41.6s\n",
      "[CV] criterion=gini, max_features=sqrt, n_estimators=500 .............\n",
      "[CV]  criterion=gini, max_features=sqrt, n_estimators=500, total=  42.2s\n",
      "[CV] criterion=gini, max_features=sqrt, n_estimators=500 .............\n",
      "[CV]  criterion=gini, max_features=sqrt, n_estimators=500, total=  42.2s\n",
      "[CV] criterion=gini, max_features=sqrt, n_estimators=500 .............\n",
      "[CV]  criterion=gini, max_features=sqrt, n_estimators=500, total=  42.3s\n",
      "[CV] criterion=gini, max_features=sqrt, n_estimators=500 .............\n",
      "[CV]  criterion=gini, max_features=sqrt, n_estimators=500, total=  41.7s\n",
      "[CV] criterion=gini, max_features=sqrt, n_estimators=500 .............\n",
      "[CV]  criterion=gini, max_features=sqrt, n_estimators=500, total=  41.6s\n",
      "[CV] criterion=gini, max_features=log2, n_estimators=10 ..............\n",
      "[CV]  criterion=gini, max_features=log2, n_estimators=10, total=   0.9s\n",
      "[CV] criterion=gini, max_features=log2, n_estimators=10 ..............\n",
      "[CV]  criterion=gini, max_features=log2, n_estimators=10, total=   0.9s\n",
      "[CV] criterion=gini, max_features=log2, n_estimators=10 ..............\n",
      "[CV]  criterion=gini, max_features=log2, n_estimators=10, total=   0.8s\n",
      "[CV] criterion=gini, max_features=log2, n_estimators=10 ..............\n",
      "[CV]  criterion=gini, max_features=log2, n_estimators=10, total=   0.8s\n",
      "[CV] criterion=gini, max_features=log2, n_estimators=10 ..............\n",
      "[CV]  criterion=gini, max_features=log2, n_estimators=10, total=   0.9s\n",
      "[CV] criterion=gini, max_features=log2, n_estimators=10 ..............\n",
      "[CV]  criterion=gini, max_features=log2, n_estimators=10, total=   0.9s\n",
      "[CV] criterion=gini, max_features=log2, n_estimators=10 ..............\n",
      "[CV]  criterion=gini, max_features=log2, n_estimators=10, total=   0.9s\n",
      "[CV] criterion=gini, max_features=log2, n_estimators=10 ..............\n",
      "[CV]  criterion=gini, max_features=log2, n_estimators=10, total=   0.8s\n",
      "[CV] criterion=gini, max_features=log2, n_estimators=10 ..............\n",
      "[CV]  criterion=gini, max_features=log2, n_estimators=10, total=   0.9s\n",
      "[CV] criterion=gini, max_features=log2, n_estimators=10 ..............\n",
      "[CV]  criterion=gini, max_features=log2, n_estimators=10, total=   0.8s\n",
      "[CV] criterion=gini, max_features=log2, n_estimators=10 ..............\n",
      "[CV]  criterion=gini, max_features=log2, n_estimators=10, total=   0.9s\n",
      "[CV] criterion=gini, max_features=log2, n_estimators=10 ..............\n",
      "[CV]  criterion=gini, max_features=log2, n_estimators=10, total=   0.8s\n",
      "[CV] criterion=gini, max_features=log2, n_estimators=10 ..............\n",
      "[CV]  criterion=gini, max_features=log2, n_estimators=10, total=   0.9s\n",
      "[CV] criterion=gini, max_features=log2, n_estimators=10 ..............\n",
      "[CV]  criterion=gini, max_features=log2, n_estimators=10, total=   0.8s\n",
      "[CV] criterion=gini, max_features=log2, n_estimators=10 ..............\n",
      "[CV]  criterion=gini, max_features=log2, n_estimators=10, total=   0.9s\n",
      "[CV] criterion=gini, max_features=log2, n_estimators=10 ..............\n",
      "[CV]  criterion=gini, max_features=log2, n_estimators=10, total=   0.9s\n",
      "[CV] criterion=gini, max_features=log2, n_estimators=10 ..............\n",
      "[CV]  criterion=gini, max_features=log2, n_estimators=10, total=   0.9s\n",
      "[CV] criterion=gini, max_features=log2, n_estimators=10 ..............\n",
      "[CV]  criterion=gini, max_features=log2, n_estimators=10, total=   0.9s\n",
      "[CV] criterion=gini, max_features=log2, n_estimators=10 ..............\n",
      "[CV]  criterion=gini, max_features=log2, n_estimators=10, total=   0.8s\n",
      "[CV] criterion=gini, max_features=log2, n_estimators=10 ..............\n",
      "[CV]  criterion=gini, max_features=log2, n_estimators=10, total=   0.9s\n",
      "[CV] criterion=gini, max_features=log2, n_estimators=10 ..............\n",
      "[CV]  criterion=gini, max_features=log2, n_estimators=10, total=   0.9s\n",
      "[CV] criterion=gini, max_features=log2, n_estimators=10 ..............\n",
      "[CV]  criterion=gini, max_features=log2, n_estimators=10, total=   0.9s\n",
      "[CV] criterion=gini, max_features=log2, n_estimators=10 ..............\n",
      "[CV]  criterion=gini, max_features=log2, n_estimators=10, total=   0.9s\n",
      "[CV] criterion=gini, max_features=log2, n_estimators=10 ..............\n",
      "[CV]  criterion=gini, max_features=log2, n_estimators=10, total=   0.9s\n",
      "[CV] criterion=gini, max_features=log2, n_estimators=10 ..............\n",
      "[CV]  criterion=gini, max_features=log2, n_estimators=10, total=   0.9s\n",
      "[CV] criterion=gini, max_features=log2, n_estimators=10 ..............\n",
      "[CV]  criterion=gini, max_features=log2, n_estimators=10, total=   0.9s\n",
      "[CV] criterion=gini, max_features=log2, n_estimators=10 ..............\n",
      "[CV]  criterion=gini, max_features=log2, n_estimators=10, total=   0.9s\n",
      "[CV] criterion=gini, max_features=log2, n_estimators=10 ..............\n",
      "[CV]  criterion=gini, max_features=log2, n_estimators=10, total=   0.8s\n",
      "[CV] criterion=gini, max_features=log2, n_estimators=10 ..............\n",
      "[CV]  criterion=gini, max_features=log2, n_estimators=10, total=   0.8s\n",
      "[CV] criterion=gini, max_features=log2, n_estimators=10 ..............\n",
      "[CV]  criterion=gini, max_features=log2, n_estimators=10, total=   0.9s\n",
      "[CV] criterion=gini, max_features=log2, n_estimators=100 .............\n",
      "[CV]  criterion=gini, max_features=log2, n_estimators=100, total=   8.3s\n",
      "[CV] criterion=gini, max_features=log2, n_estimators=100 .............\n",
      "[CV]  criterion=gini, max_features=log2, n_estimators=100, total=   8.3s\n",
      "[CV] criterion=gini, max_features=log2, n_estimators=100 .............\n",
      "[CV]  criterion=gini, max_features=log2, n_estimators=100, total=   8.3s\n",
      "[CV] criterion=gini, max_features=log2, n_estimators=100 .............\n",
      "[CV]  criterion=gini, max_features=log2, n_estimators=100, total=   8.3s\n",
      "[CV] criterion=gini, max_features=log2, n_estimators=100 .............\n",
      "[CV]  criterion=gini, max_features=log2, n_estimators=100, total=   8.3s\n",
      "[CV] criterion=gini, max_features=log2, n_estimators=100 .............\n",
      "[CV]  criterion=gini, max_features=log2, n_estimators=100, total=   8.3s\n",
      "[CV] criterion=gini, max_features=log2, n_estimators=100 .............\n",
      "[CV]  criterion=gini, max_features=log2, n_estimators=100, total=   8.3s\n",
      "[CV] criterion=gini, max_features=log2, n_estimators=100 .............\n",
      "[CV]  criterion=gini, max_features=log2, n_estimators=100, total=   8.4s\n",
      "[CV] criterion=gini, max_features=log2, n_estimators=100 .............\n",
      "[CV]  criterion=gini, max_features=log2, n_estimators=100, total=   8.4s\n",
      "[CV] criterion=gini, max_features=log2, n_estimators=100 .............\n",
      "[CV]  criterion=gini, max_features=log2, n_estimators=100, total=   8.4s\n",
      "[CV] criterion=gini, max_features=log2, n_estimators=100 .............\n",
      "[CV]  criterion=gini, max_features=log2, n_estimators=100, total=   8.4s\n",
      "[CV] criterion=gini, max_features=log2, n_estimators=100 .............\n",
      "[CV]  criterion=gini, max_features=log2, n_estimators=100, total=   8.6s\n",
      "[CV] criterion=gini, max_features=log2, n_estimators=100 .............\n",
      "[CV]  criterion=gini, max_features=log2, n_estimators=100, total=   8.4s\n",
      "[CV] criterion=gini, max_features=log2, n_estimators=100 .............\n",
      "[CV]  criterion=gini, max_features=log2, n_estimators=100, total=   8.3s\n",
      "[CV] criterion=gini, max_features=log2, n_estimators=100 .............\n",
      "[CV]  criterion=gini, max_features=log2, n_estimators=100, total=   8.3s\n",
      "[CV] criterion=gini, max_features=log2, n_estimators=100 .............\n",
      "[CV]  criterion=gini, max_features=log2, n_estimators=100, total=   8.4s\n",
      "[CV] criterion=gini, max_features=log2, n_estimators=100 .............\n",
      "[CV]  criterion=gini, max_features=log2, n_estimators=100, total=   8.3s\n",
      "[CV] criterion=gini, max_features=log2, n_estimators=100 .............\n",
      "[CV]  criterion=gini, max_features=log2, n_estimators=100, total=   8.3s\n",
      "[CV] criterion=gini, max_features=log2, n_estimators=100 .............\n",
      "[CV]  criterion=gini, max_features=log2, n_estimators=100, total=   8.2s\n",
      "[CV] criterion=gini, max_features=log2, n_estimators=100 .............\n",
      "[CV]  criterion=gini, max_features=log2, n_estimators=100, total=   8.3s\n",
      "[CV] criterion=gini, max_features=log2, n_estimators=100 .............\n",
      "[CV]  criterion=gini, max_features=log2, n_estimators=100, total=   8.4s\n",
      "[CV] criterion=gini, max_features=log2, n_estimators=100 .............\n",
      "[CV]  criterion=gini, max_features=log2, n_estimators=100, total=   8.6s\n",
      "[CV] criterion=gini, max_features=log2, n_estimators=100 .............\n",
      "[CV]  criterion=gini, max_features=log2, n_estimators=100, total=   8.3s\n",
      "[CV] criterion=gini, max_features=log2, n_estimators=100 .............\n",
      "[CV]  criterion=gini, max_features=log2, n_estimators=100, total=   8.1s\n",
      "[CV] criterion=gini, max_features=log2, n_estimators=100 .............\n",
      "[CV]  criterion=gini, max_features=log2, n_estimators=100, total=   8.2s\n",
      "[CV] criterion=gini, max_features=log2, n_estimators=100 .............\n",
      "[CV]  criterion=gini, max_features=log2, n_estimators=100, total=   8.4s\n",
      "[CV] criterion=gini, max_features=log2, n_estimators=100 .............\n",
      "[CV]  criterion=gini, max_features=log2, n_estimators=100, total=   8.2s\n",
      "[CV] criterion=gini, max_features=log2, n_estimators=100 .............\n",
      "[CV]  criterion=gini, max_features=log2, n_estimators=100, total=   8.2s\n",
      "[CV] criterion=gini, max_features=log2, n_estimators=100 .............\n",
      "[CV]  criterion=gini, max_features=log2, n_estimators=100, total=   8.4s\n",
      "[CV] criterion=gini, max_features=log2, n_estimators=100 .............\n",
      "[CV]  criterion=gini, max_features=log2, n_estimators=100, total=   8.4s\n",
      "[CV] criterion=gini, max_features=log2, n_estimators=500 .............\n",
      "[CV]  criterion=gini, max_features=log2, n_estimators=500, total=  41.6s\n",
      "[CV] criterion=gini, max_features=log2, n_estimators=500 .............\n",
      "[CV]  criterion=gini, max_features=log2, n_estimators=500, total=  42.1s\n",
      "[CV] criterion=gini, max_features=log2, n_estimators=500 .............\n",
      "[CV]  criterion=gini, max_features=log2, n_estimators=500, total=  41.9s\n",
      "[CV] criterion=gini, max_features=log2, n_estimators=500 .............\n",
      "[CV]  criterion=gini, max_features=log2, n_estimators=500, total=  42.3s\n",
      "[CV] criterion=gini, max_features=log2, n_estimators=500 .............\n",
      "[CV]  criterion=gini, max_features=log2, n_estimators=500, total=  42.6s\n",
      "[CV] criterion=gini, max_features=log2, n_estimators=500 .............\n",
      "[CV]  criterion=gini, max_features=log2, n_estimators=500, total=  42.3s\n",
      "[CV] criterion=gini, max_features=log2, n_estimators=500 .............\n",
      "[CV]  criterion=gini, max_features=log2, n_estimators=500, total=  42.0s\n",
      "[CV] criterion=gini, max_features=log2, n_estimators=500 .............\n",
      "[CV]  criterion=gini, max_features=log2, n_estimators=500, total=  42.4s\n",
      "[CV] criterion=gini, max_features=log2, n_estimators=500 .............\n",
      "[CV]  criterion=gini, max_features=log2, n_estimators=500, total=  41.6s\n",
      "[CV] criterion=gini, max_features=log2, n_estimators=500 .............\n",
      "[CV]  criterion=gini, max_features=log2, n_estimators=500, total=  41.7s\n",
      "[CV] criterion=gini, max_features=log2, n_estimators=500 .............\n",
      "[CV]  criterion=gini, max_features=log2, n_estimators=500, total=  42.1s\n",
      "[CV] criterion=gini, max_features=log2, n_estimators=500 .............\n",
      "[CV]  criterion=gini, max_features=log2, n_estimators=500, total=  42.3s\n",
      "[CV] criterion=gini, max_features=log2, n_estimators=500 .............\n",
      "[CV]  criterion=gini, max_features=log2, n_estimators=500, total=  42.2s\n",
      "[CV] criterion=gini, max_features=log2, n_estimators=500 .............\n",
      "[CV]  criterion=gini, max_features=log2, n_estimators=500, total=  42.0s\n",
      "[CV] criterion=gini, max_features=log2, n_estimators=500 .............\n",
      "[CV]  criterion=gini, max_features=log2, n_estimators=500, total=  42.3s\n",
      "[CV] criterion=gini, max_features=log2, n_estimators=500 .............\n",
      "[CV]  criterion=gini, max_features=log2, n_estimators=500, total=  42.5s\n",
      "[CV] criterion=gini, max_features=log2, n_estimators=500 .............\n",
      "[CV]  criterion=gini, max_features=log2, n_estimators=500, total=  41.8s\n",
      "[CV] criterion=gini, max_features=log2, n_estimators=500 .............\n",
      "[CV]  criterion=gini, max_features=log2, n_estimators=500, total=  42.3s\n",
      "[CV] criterion=gini, max_features=log2, n_estimators=500 .............\n",
      "[CV]  criterion=gini, max_features=log2, n_estimators=500, total=  42.1s\n",
      "[CV] criterion=gini, max_features=log2, n_estimators=500 .............\n",
      "[CV]  criterion=gini, max_features=log2, n_estimators=500, total=  42.5s\n",
      "[CV] criterion=gini, max_features=log2, n_estimators=500 .............\n",
      "[CV]  criterion=gini, max_features=log2, n_estimators=500, total=  42.4s\n",
      "[CV] criterion=gini, max_features=log2, n_estimators=500 .............\n",
      "[CV]  criterion=gini, max_features=log2, n_estimators=500, total=  41.8s\n",
      "[CV] criterion=gini, max_features=log2, n_estimators=500 .............\n",
      "[CV]  criterion=gini, max_features=log2, n_estimators=500, total=  40.2s\n",
      "[CV] criterion=gini, max_features=log2, n_estimators=500 .............\n",
      "[CV]  criterion=gini, max_features=log2, n_estimators=500, total=  41.3s\n",
      "[CV] criterion=gini, max_features=log2, n_estimators=500 .............\n",
      "[CV]  criterion=gini, max_features=log2, n_estimators=500, total=  42.1s\n",
      "[CV] criterion=gini, max_features=log2, n_estimators=500 .............\n",
      "[CV]  criterion=gini, max_features=log2, n_estimators=500, total=  40.8s\n",
      "[CV] criterion=gini, max_features=log2, n_estimators=500 .............\n",
      "[CV]  criterion=gini, max_features=log2, n_estimators=500, total=  41.1s\n",
      "[CV] criterion=gini, max_features=log2, n_estimators=500 .............\n",
      "[CV]  criterion=gini, max_features=log2, n_estimators=500, total=  41.6s\n",
      "[CV] criterion=gini, max_features=log2, n_estimators=500 .............\n",
      "[CV]  criterion=gini, max_features=log2, n_estimators=500, total=  40.5s\n",
      "[CV] criterion=gini, max_features=log2, n_estimators=500 .............\n",
      "[CV]  criterion=gini, max_features=log2, n_estimators=500, total=  40.7s\n"
     ]
    },
    {
     "name": "stderr",
     "output_type": "stream",
     "text": [
      "[Parallel(n_jobs=1)]: Done 360 out of 360 | elapsed: 123.0min finished\n"
     ]
    },
    {
     "name": "stdout",
     "output_type": "stream",
     "text": [
      "Best: 0.452936 using {'criterion': 'entropy', 'max_features': 'log2', 'n_estimators': 500}\n",
      "0.448175 (0.008275) with: {'criterion': 'entropy', 'max_features': 'sqrt', 'n_estimators': 10}\n",
      "0.452237 (0.008052) with: {'criterion': 'entropy', 'max_features': 'sqrt', 'n_estimators': 100}\n",
      "0.452892 (0.007794) with: {'criterion': 'entropy', 'max_features': 'sqrt', 'n_estimators': 500}\n",
      "0.447184 (0.007235) with: {'criterion': 'entropy', 'max_features': 'log2', 'n_estimators': 10}\n",
      "0.450467 (0.007535) with: {'criterion': 'entropy', 'max_features': 'log2', 'n_estimators': 100}\n",
      "0.452936 (0.008167) with: {'criterion': 'entropy', 'max_features': 'log2', 'n_estimators': 500}\n",
      "0.447618 (0.010117) with: {'criterion': 'gini', 'max_features': 'sqrt', 'n_estimators': 10}\n",
      "0.450671 (0.007847) with: {'criterion': 'gini', 'max_features': 'sqrt', 'n_estimators': 100}\n",
      "0.452600 (0.008339) with: {'criterion': 'gini', 'max_features': 'sqrt', 'n_estimators': 500}\n",
      "0.448052 (0.008563) with: {'criterion': 'gini', 'max_features': 'log2', 'n_estimators': 10}\n",
      "0.451564 (0.008130) with: {'criterion': 'gini', 'max_features': 'log2', 'n_estimators': 100}\n",
      "0.452104 (0.007773) with: {'criterion': 'gini', 'max_features': 'log2', 'n_estimators': 500}\n"
     ]
    }
   ],
   "source": [
    "# example of grid searching key hyperparameters for RandomForestClassifier\n",
    "from sklearn.datasets import make_blobs\n",
    "from sklearn.model_selection import RepeatedStratifiedKFold\n",
    "from sklearn.model_selection import GridSearchCV\n",
    "from sklearn.ensemble import RandomForestClassifier\n",
    "\n",
    "model = RandomForestClassifier()\n",
    "\n",
    "n_estimators = [10, 100, 500]\n",
    "max_features = ['sqrt', 'log2']\n",
    "criterion = ['entropy','gini']\n",
    "\n",
    "# define grid search\n",
    "grid = dict(n_estimators=n_estimators,max_features=max_features,criterion=criterion)\n",
    "\n",
    "cv = RepeatedStratifiedKFold(n_splits=10, n_repeats=3, random_state=1)\n",
    "\n",
    "grid_search = GridSearchCV(estimator=model, param_grid=grid, cv=cv, scoring='accuracy',error_score=0, verbose=2)\n",
    "grid_result = grid_search.fit(X_train, y_train)\n",
    "# summarize results\n",
    "print(\"Best: %f using %s\" % (grid_result.best_score_, grid_result.best_params_))\n",
    "means = grid_result.cv_results_['mean_test_score']\n",
    "stds = grid_result.cv_results_['std_test_score']\n",
    "params = grid_result.cv_results_['params']\n",
    "for mean, stdev, param in zip(means, stds, params):\n",
    "    print(\"%f (%f) with: %r\" % (mean, stdev, param))"
   ]
  },
  {
   "cell_type": "markdown",
   "id": "ieaJzPCimtNQ",
   "metadata": {
    "id": "ieaJzPCimtNQ"
   },
   "source": [
    "Best: 0.452936 using {'criterion': 'entropy', 'max_features': 'log2', 'n_estimators': 500}"
   ]
  },
  {
   "cell_type": "code",
   "execution_count": null,
   "id": "yV6e0vRxhJ7R",
   "metadata": {
    "id": "yV6e0vRxhJ7R"
   },
   "outputs": [],
   "source": []
  },
  {
   "cell_type": "code",
   "execution_count": null,
   "id": "88de23d7",
   "metadata": {
    "colab": {
     "base_uri": "https://localhost:8080/"
    },
    "id": "88de23d7",
    "outputId": "af4210b7-adf5-4057-fef6-71f7af486c81"
   },
   "outputs": [
    {
     "data": {
      "text/plain": [
       "RandomForestClassifier(bootstrap=True, ccp_alpha=0.0, class_weight=None,\n",
       "                       criterion='entropy', max_depth=None, max_features='log2',\n",
       "                       max_leaf_nodes=None, max_samples=None,\n",
       "                       min_impurity_decrease=0.0, min_impurity_split=None,\n",
       "                       min_samples_leaf=1, min_samples_split=2,\n",
       "                       min_weight_fraction_leaf=0.0, n_estimators=500,\n",
       "                       n_jobs=None, oob_score=False, random_state=None,\n",
       "                       verbose=0, warm_start=False)"
      ]
     },
     "execution_count": 26,
     "metadata": {},
     "output_type": "execute_result"
    }
   ],
   "source": [
    "grid_search.best_estimator_"
   ]
  },
  {
   "cell_type": "code",
   "execution_count": null,
   "id": "4c4baa69",
   "metadata": {
    "colab": {
     "base_uri": "https://localhost:8080/"
    },
    "id": "4c4baa69",
    "outputId": "cdb6d846-7390-4e85-eb7d-92cf8f9de355"
   },
   "outputs": [
    {
     "data": {
      "text/plain": [
       "RandomForestClassifier(bootstrap=True, ccp_alpha=0.0, class_weight=None,\n",
       "                       criterion='entropy', max_depth=None, max_features='log2',\n",
       "                       max_leaf_nodes=None, max_samples=None,\n",
       "                       min_impurity_decrease=0.0, min_impurity_split=None,\n",
       "                       min_samples_leaf=1, min_samples_split=2,\n",
       "                       min_weight_fraction_leaf=0.0, n_estimators=500,\n",
       "                       n_jobs=None, oob_score=False, random_state=None,\n",
       "                       verbose=0, warm_start=False)"
      ]
     },
     "execution_count": 29,
     "metadata": {},
     "output_type": "execute_result"
    }
   ],
   "source": [
    "best_grid=grid_search.best_estimator_\n",
    "best_grid"
   ]
  },
  {
   "cell_type": "markdown",
   "id": "24y7N02W2c6G",
   "metadata": {
    "id": "24y7N02W2c6G"
   },
   "source": [
    "## Model with parameters"
   ]
  },
  {
   "cell_type": "code",
   "execution_count": null,
   "id": "wBxveXCRB-vK",
   "metadata": {
    "colab": {
     "base_uri": "https://localhost:8080/"
    },
    "id": "wBxveXCRB-vK",
    "outputId": "b3e5847c-d8e5-46a2-8142-b64071f0a97e"
   },
   "outputs": [
    {
     "name": "stdout",
     "output_type": "stream",
     "text": [
      "[[10067 10300]\n",
      " [10912  6394]]\n",
      "Accuracy Score 0.4369442306160911\n",
      "Classification report:               precision    recall  f1-score   support\n",
      "\n",
      "           0       0.48      0.49      0.49     20367\n",
      "           1       0.38      0.37      0.38     17306\n",
      "\n",
      "    accuracy                           0.44     37673\n",
      "   macro avg       0.43      0.43      0.43     37673\n",
      "weighted avg       0.44      0.44      0.44     37673\n",
      "\n"
     ]
    }
   ],
   "source": [
    "y_pred=best_grid.predict(X_test)\n",
    "print(confusion_matrix(y_test,y_pred))\n",
    "print(\"Accuracy Score {}\".format(accuracy_score(y_test,y_pred)))\n",
    "print(\"Classification report: {}\".format(classification_report(y_test,y_pred)))"
   ]
  },
  {
   "cell_type": "code",
   "execution_count": 17,
   "id": "9sjzMctwB-y5",
   "metadata": {
    "colab": {
     "base_uri": "https://localhost:8080/"
    },
    "id": "9sjzMctwB-y5",
    "outputId": "75b1a24f-2928-413e-8b6d-21b024aca78b"
   },
   "outputs": [
    {
     "name": "stdout",
     "output_type": "stream",
     "text": [
      "0.43731584954742125\n",
      "[[10073 10294]\n",
      " [10904  6402]]\n",
      "              precision    recall  f1-score   support\n",
      "\n",
      "           0       0.48      0.49      0.49     20367\n",
      "           1       0.38      0.37      0.38     17306\n",
      "\n",
      "    accuracy                           0.44     37673\n",
      "   macro avg       0.43      0.43      0.43     37673\n",
      "weighted avg       0.44      0.44      0.44     37673\n",
      "\n"
     ]
    }
   ],
   "source": [
    "rf_classifier = RandomForestClassifier(criterion='entropy', max_depth=5, max_features='log2',n_estimators=500,)\n",
    "rf_classifier.fit(X_train,y_train)\n",
    "prediction=rf_classifier.predict(X_test)\n",
    "print(accuracy_score(y_test,prediction))\n",
    "print(confusion_matrix(y_test,prediction))\n",
    "print(classification_report(y_test,prediction))"
   ]
  },
  {
   "cell_type": "code",
   "execution_count": 18,
   "id": "rJa5AhuFB-2P",
   "metadata": {
    "colab": {
     "base_uri": "https://localhost:8080/"
    },
    "id": "rJa5AhuFB-2P",
    "outputId": "18d4b817-c474-4c8a-d33a-b223f4a3c5ef"
   },
   "outputs": [
    {
     "name": "stdout",
     "output_type": "stream",
     "text": [
      "0.5944575690813049\n",
      "[[15735  4632]\n",
      " [10646  6660]]\n",
      "              precision    recall  f1-score   support\n",
      "\n",
      "           0       0.60      0.77      0.67     20367\n",
      "           1       0.59      0.38      0.47     17306\n",
      "\n",
      "    accuracy                           0.59     37673\n",
      "   macro avg       0.59      0.58      0.57     37673\n",
      "weighted avg       0.59      0.59      0.58     37673\n",
      "\n"
     ]
    }
   ],
   "source": [
    "rf_classifier = RandomForestClassifier(criterion='entropy', max_depth=5, max_features='log2',n_estimators=500)\n",
    "rf_classifier.fit(X_train,y_train)\n",
    "prediction=rf_classifier.predict(X_test)\n",
    "print(accuracy_score(y_test,prediction))\n",
    "print(confusion_matrix(y_test,prediction))\n",
    "print(classification_report(y_test,prediction))"
   ]
  },
  {
   "cell_type": "code",
   "execution_count": 20,
   "id": "j3PIqYqizyml",
   "metadata": {
    "colab": {
     "base_uri": "https://localhost:8080/"
    },
    "id": "j3PIqYqizyml",
    "outputId": "b41d5f29-e488-4747-e22f-298479d0ba40"
   },
   "outputs": [
    {
     "name": "stdout",
     "output_type": "stream",
     "text": [
      "0.5950149974783001\n",
      "[[15849  4518]\n",
      " [10739  6567]]\n",
      "              precision    recall  f1-score   support\n",
      "\n",
      "           0       0.60      0.78      0.68     20367\n",
      "           1       0.59      0.38      0.46     17306\n",
      "\n",
      "    accuracy                           0.60     37673\n",
      "   macro avg       0.59      0.58      0.57     37673\n",
      "weighted avg       0.59      0.60      0.58     37673\n",
      "\n"
     ]
    }
   ],
   "source": [
    "rf_classifier = RandomForestClassifier(criterion='entropy', max_depth=8, max_features='log2',n_estimators=1000)\n",
    "rf_classifier.fit(X_train,y_train)\n",
    "prediction=rf_classifier.predict(X_test)\n",
    "print(accuracy_score(y_test,prediction))\n",
    "print(confusion_matrix(y_test,prediction))\n",
    "print(classification_report(y_test,prediction))"
   ]
  },
  {
   "cell_type": "code",
   "execution_count": 23,
   "id": "SfnCLMgd0aXB",
   "metadata": {
    "colab": {
     "base_uri": "https://localhost:8080/"
    },
    "id": "SfnCLMgd0aXB",
    "outputId": "8d2c65b9-7526-42bd-e6b8-e4bc7e01df71"
   },
   "outputs": [
    {
     "name": "stdout",
     "output_type": "stream",
     "text": [
      "0.5953600722002496\n",
      "[[15837  4530]\n",
      " [10714  6592]]\n",
      "              precision    recall  f1-score   support\n",
      "\n",
      "           0       0.60      0.78      0.68     20367\n",
      "           1       0.59      0.38      0.46     17306\n",
      "\n",
      "    accuracy                           0.60     37673\n",
      "   macro avg       0.59      0.58      0.57     37673\n",
      "weighted avg       0.59      0.60      0.58     37673\n",
      "\n"
     ]
    }
   ],
   "source": [
    "rf_classifier = RandomForestClassifier(criterion='gini', max_depth=5, max_features='sqrt',n_estimators=1000)\n",
    "rf_classifier.fit(X_train,y_train)\n",
    "prediction=rf_classifier.predict(X_test)\n",
    "print(accuracy_score(y_test,prediction))\n",
    "print(confusion_matrix(y_test,prediction))\n",
    "print(classification_report(y_test,prediction))"
   ]
  },
  {
   "cell_type": "code",
   "execution_count": 31,
   "id": "XXazm8PM0dOX",
   "metadata": {
    "colab": {
     "base_uri": "https://localhost:8080/"
    },
    "id": "XXazm8PM0dOX",
    "outputId": "e8956526-5f2d-4c08-c72c-62bc9ffde4a5"
   },
   "outputs": [
    {
     "name": "stdout",
     "output_type": "stream",
     "text": [
      "0.5954397048283917\n",
      "[[15855  4512]\n",
      " [10729  6577]]\n",
      "              precision    recall  f1-score   support\n",
      "\n",
      "           0       0.60      0.78      0.68     20367\n",
      "           1       0.59      0.38      0.46     17306\n",
      "\n",
      "    accuracy                           0.60     37673\n",
      "   macro avg       0.59      0.58      0.57     37673\n",
      "weighted avg       0.59      0.60      0.58     37673\n",
      "\n"
     ]
    }
   ],
   "source": [
    "rf_classifier = RandomForestClassifier(criterion='entropy', max_depth=8, max_features='sqrt',n_estimators=500)\n",
    "rf_classifier.fit(X_train,y_train)\n",
    "prediction=rf_classifier.predict(X_test)\n",
    "print(accuracy_score(y_test,prediction))\n",
    "print(confusion_matrix(y_test,prediction))\n",
    "print(classification_report(y_test,prediction))"
   ]
  },
  {
   "cell_type": "markdown",
   "id": "2d128437",
   "metadata": {
    "id": "2d128437"
   },
   "source": [
    "## Graphical Analysis"
   ]
  },
  {
   "cell_type": "code",
   "execution_count": 32,
   "id": "87482e3b",
   "metadata": {
    "colab": {
     "base_uri": "https://localhost:8080/",
     "height": 302
    },
    "id": "87482e3b",
    "outputId": "794a3a05-348e-4eac-faed-56daba9b6bd7"
   },
   "outputs": [
    {
     "data": {
      "image/png": "[encoded data removed]",
      "text/plain": [
       "<Figure size 432x288 with 1 Axes>"
      ]
     },
     "metadata": {},
     "output_type": "display_data"
    }
   ],
   "source": [
    "from sklearn.metrics import roc_curve, auc\n",
    "\n",
    "probs               = rf_classifier.predict_proba(X_test)\n",
    "preds               = probs[:,1]\n",
    "fpr, tpr, threshold = roc_curve(y_test, preds)\n",
    "roc_auc             = auc(fpr, tpr)\n",
    "\n",
    "plt.title('Receiver Operating Characteristic')\n",
    "plt.plot(fpr, tpr, 'b', label = 'AUC = %0.2f' % roc_auc)\n",
    "plt.legend(loc = 'lower right')\n",
    "plt.plot([0, 1], [0, 1],'r--')\n",
    "plt.xlim([0, 1])\n",
    "plt.ylim([0, 1])\n",
    "plt.ylabel('True Positive Rate')\n",
    "plt.xlabel('False Positive Rate')\n",
    "plt.show()"
   ]
  },
  {
   "cell_type": "code",
   "execution_count": 33,
   "id": "6c329293",
   "metadata": {
    "colab": {
     "base_uri": "https://localhost:8080/"
    },
    "id": "6c329293",
    "outputId": "7edd19a3-9a0e-4e04-c2b4-16662ff818f7"
   },
   "outputs": [
    {
     "name": "stdout",
     "output_type": "stream",
     "text": [
      "Accuracy before tuning : 0.43264406869641386\n",
      "\n",
      "Accuracy after tuning : 0.5954397048283917\n"
     ]
    }
   ],
   "source": [
    "print('Accuracy before tuning :',accuracy_score(y_test,y_pred))\n",
    "print()\n",
    "print('Accuracy after tuning :',accuracy_score(y_test,prediction))"
   ]
  }
 ],
 "metadata": {
  "accelerator": "GPU",
  "colab": {
   "collapsed_sections": [],
   "name": "RandomForestModel.ipynb",
   "provenance": []
  },
  "kernelspec": {
   "display_name": "Python 3",
   "language": "python",
   "name": "python3"
  },
  "language_info": {
   "codemirror_mode": {
    "name": "ipython",
    "version": 3
   },
   "file_extension": ".py",
   "mimetype": "text/x-python",
   "name": "python",
   "nbconvert_exporter": "python",
   "pygments_lexer": "ipython3",
   "version": "3.7.11"
  },
  "varInspector": {
   "cols": {
    "lenName": 16,
    "lenType": 16,
    "lenVar": 40
   },
   "kernels_config": {
    "python": {
     "delete_cmd_postfix": "",
     "delete_cmd_prefix": "del ",
     "library": "var_list.py",
     "varRefreshCmd": "print(var_dic_list())"
    },
    "r": {
     "delete_cmd_postfix": ") ",
     "delete_cmd_prefix": "rm(",
     "library": "var_list.r",
     "varRefreshCmd": "cat(var_dic_list()) "
    }
   },
   "types_to_exclude": [
    "module",
    "function",
    "builtin_function_or_method",
    "instance",
    "_Feature"
   ],
   "window_display": false
  }
 },
 "nbformat": 4,
 "nbformat_minor": 5
}
