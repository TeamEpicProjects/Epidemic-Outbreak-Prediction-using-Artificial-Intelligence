{
  "nbformat": 4,
  "nbformat_minor": 0,
  "metadata": {
    "colab": {
      "name": "HT_XGB.ipynb",
      "provenance": []
    },
    "kernelspec": {
      "name": "python3",
      "display_name": "Python 3"
    },
    "language_info": {
      "name": "python"
    },
    "accelerator": "GPU"
  },
  "cells": [
    {
      "cell_type": "code",
      "metadata": {
        "id": "6NFrdZyAk-G2"
      },
      "source": [
        "import pandas as pd\n",
        "from sklearn.model_selection import cross_val_score\n",
        "from sklearn.model_selection import RepeatedKFold\n",
        "from xgboost import XGBRegressor"
      ],
      "execution_count": null,
      "outputs": []
    },
    {
      "cell_type": "code",
      "metadata": {
        "colab": {
          "base_uri": "https://localhost:8080/",
          "height": 224
        },
        "id": "8FpwrYaQoXom",
        "outputId": "0cc95985-6265-4a30-c888-17304f906de6"
      },
      "source": [
        "data = pd.read_csv('regression_dataset.csv')\n",
        "data.head()"
      ],
      "execution_count": null,
      "outputs": [
        {
          "output_type": "execute_result",
          "data": {
            "text/html": [
              "<div>\n",
              "<style scoped>\n",
              "    .dataframe tbody tr th:only-of-type {\n",
              "        vertical-align: middle;\n",
              "    }\n",
              "\n",
              "    .dataframe tbody tr th {\n",
              "        vertical-align: top;\n",
              "    }\n",
              "\n",
              "    .dataframe thead th {\n",
              "        text-align: right;\n",
              "    }\n",
              "</style>\n",
              "<table border=\"1\" class=\"dataframe\">\n",
              "  <thead>\n",
              "    <tr style=\"text-align: right;\">\n",
              "      <th></th>\n",
              "      <th>cases</th>\n",
              "      <th>latitude</th>\n",
              "      <th>longitude</th>\n",
              "      <th>maxtempC</th>\n",
              "      <th>mintempC</th>\n",
              "      <th>totalSnow_cm</th>\n",
              "      <th>sunHour</th>\n",
              "      <th>uvIndex</th>\n",
              "      <th>moon_illumination</th>\n",
              "      <th>DewPointC</th>\n",
              "      <th>FeelsLikeC</th>\n",
              "      <th>HeatIndexC</th>\n",
              "      <th>WindChillC</th>\n",
              "      <th>WindGustKmph</th>\n",
              "      <th>cloudcover</th>\n",
              "      <th>humidity</th>\n",
              "      <th>pressure</th>\n",
              "      <th>tempC</th>\n",
              "      <th>visibility</th>\n",
              "      <th>winddirDegree</th>\n",
              "      <th>windspeedKmph</th>\n",
              "      <th>year</th>\n",
              "      <th>month</th>\n",
              "      <th>density_per_km</th>\n",
              "      <th>precipMM</th>\n",
              "    </tr>\n",
              "  </thead>\n",
              "  <tbody>\n",
              "    <tr>\n",
              "      <th>0</th>\n",
              "      <td>2</td>\n",
              "      <td>-34.603684</td>\n",
              "      <td>-58.381559</td>\n",
              "      <td>24</td>\n",
              "      <td>7</td>\n",
              "      <td>0.0</td>\n",
              "      <td>11.6</td>\n",
              "      <td>5</td>\n",
              "      <td>87</td>\n",
              "      <td>6</td>\n",
              "      <td>14</td>\n",
              "      <td>15</td>\n",
              "      <td>14</td>\n",
              "      <td>16</td>\n",
              "      <td>0</td>\n",
              "      <td>59</td>\n",
              "      <td>1018</td>\n",
              "      <td>24</td>\n",
              "      <td>10</td>\n",
              "      <td>189</td>\n",
              "      <td>10</td>\n",
              "      <td>2016</td>\n",
              "      <td>3</td>\n",
              "      <td>0.505636</td>\n",
              "      <td>0.0</td>\n",
              "    </tr>\n",
              "    <tr>\n",
              "      <th>1</th>\n",
              "      <td>0</td>\n",
              "      <td>-34.603684</td>\n",
              "      <td>-58.381559</td>\n",
              "      <td>24</td>\n",
              "      <td>7</td>\n",
              "      <td>0.0</td>\n",
              "      <td>11.6</td>\n",
              "      <td>5</td>\n",
              "      <td>87</td>\n",
              "      <td>6</td>\n",
              "      <td>14</td>\n",
              "      <td>15</td>\n",
              "      <td>14</td>\n",
              "      <td>16</td>\n",
              "      <td>0</td>\n",
              "      <td>59</td>\n",
              "      <td>1018</td>\n",
              "      <td>24</td>\n",
              "      <td>10</td>\n",
              "      <td>189</td>\n",
              "      <td>10</td>\n",
              "      <td>2016</td>\n",
              "      <td>3</td>\n",
              "      <td>0.505636</td>\n",
              "      <td>0.0</td>\n",
              "    </tr>\n",
              "    <tr>\n",
              "      <th>2</th>\n",
              "      <td>1</td>\n",
              "      <td>-34.603684</td>\n",
              "      <td>-58.381559</td>\n",
              "      <td>24</td>\n",
              "      <td>7</td>\n",
              "      <td>0.0</td>\n",
              "      <td>11.6</td>\n",
              "      <td>5</td>\n",
              "      <td>87</td>\n",
              "      <td>6</td>\n",
              "      <td>14</td>\n",
              "      <td>15</td>\n",
              "      <td>14</td>\n",
              "      <td>16</td>\n",
              "      <td>0</td>\n",
              "      <td>59</td>\n",
              "      <td>1018</td>\n",
              "      <td>24</td>\n",
              "      <td>10</td>\n",
              "      <td>189</td>\n",
              "      <td>10</td>\n",
              "      <td>2016</td>\n",
              "      <td>3</td>\n",
              "      <td>0.505636</td>\n",
              "      <td>0.0</td>\n",
              "    </tr>\n",
              "    <tr>\n",
              "      <th>3</th>\n",
              "      <td>0</td>\n",
              "      <td>-34.603684</td>\n",
              "      <td>-58.381559</td>\n",
              "      <td>22</td>\n",
              "      <td>10</td>\n",
              "      <td>0.0</td>\n",
              "      <td>11.5</td>\n",
              "      <td>5</td>\n",
              "      <td>76</td>\n",
              "      <td>10</td>\n",
              "      <td>14</td>\n",
              "      <td>16</td>\n",
              "      <td>14</td>\n",
              "      <td>27</td>\n",
              "      <td>34</td>\n",
              "      <td>72</td>\n",
              "      <td>1025</td>\n",
              "      <td>22</td>\n",
              "      <td>10</td>\n",
              "      <td>99</td>\n",
              "      <td>18</td>\n",
              "      <td>2016</td>\n",
              "      <td>4</td>\n",
              "      <td>0.505636</td>\n",
              "      <td>0.0</td>\n",
              "    </tr>\n",
              "    <tr>\n",
              "      <th>4</th>\n",
              "      <td>1</td>\n",
              "      <td>-34.603684</td>\n",
              "      <td>-58.381559</td>\n",
              "      <td>22</td>\n",
              "      <td>10</td>\n",
              "      <td>0.0</td>\n",
              "      <td>11.5</td>\n",
              "      <td>5</td>\n",
              "      <td>76</td>\n",
              "      <td>10</td>\n",
              "      <td>14</td>\n",
              "      <td>16</td>\n",
              "      <td>14</td>\n",
              "      <td>27</td>\n",
              "      <td>34</td>\n",
              "      <td>72</td>\n",
              "      <td>1025</td>\n",
              "      <td>22</td>\n",
              "      <td>10</td>\n",
              "      <td>99</td>\n",
              "      <td>18</td>\n",
              "      <td>2016</td>\n",
              "      <td>4</td>\n",
              "      <td>0.505636</td>\n",
              "      <td>0.0</td>\n",
              "    </tr>\n",
              "  </tbody>\n",
              "</table>\n",
              "</div>"
            ],
            "text/plain": [
              "   cases   latitude  longitude  maxtempC  ...  year  month  density_per_km  precipMM\n",
              "0      2 -34.603684 -58.381559        24  ...  2016      3        0.505636       0.0\n",
              "1      0 -34.603684 -58.381559        24  ...  2016      3        0.505636       0.0\n",
              "2      1 -34.603684 -58.381559        24  ...  2016      3        0.505636       0.0\n",
              "3      0 -34.603684 -58.381559        22  ...  2016      4        0.505636       0.0\n",
              "4      1 -34.603684 -58.381559        22  ...  2016      4        0.505636       0.0\n",
              "\n",
              "[5 rows x 25 columns]"
            ]
          },
          "metadata": {},
          "execution_count": 2
        }
      ]
    },
    {
      "cell_type": "code",
      "metadata": {
        "id": "wfG-IwEgocTB"
      },
      "source": [
        "X = data[['maxtempC', 'mintempC', 'windspeedKmph', 'year', 'month', 'density_per_km', 'precipMM', 'cloudcover',\n",
        "       'humidity','DewPointC', 'latitude', 'longitude','FeelsLikeC', 'winddirDegree', 'sunHour']]\n",
        "y = data['cases']"
      ],
      "execution_count": null,
      "outputs": []
    },
    {
      "cell_type": "code",
      "metadata": {
        "id": "OxZA6YPsodt6"
      },
      "source": [
        "from sklearn.model_selection import train_test_split\n",
        "X_train,X_test,y_train,y_test = train_test_split(X,y,test_size=0.2,random_state=10)"
      ],
      "execution_count": null,
      "outputs": []
    },
    {
      "cell_type": "code",
      "metadata": {
        "id": "ZhKfsTthogiL"
      },
      "source": [
        "# ## Hyper Parameter Optimization\n",
        "\n",
        "# params={\n",
        "#  \"learning_rate\"    : [0.005, 0.05, 0.10, 0.15, 0.20, 0.25, 0.30 ] ,\n",
        "#  \"max_depth\"        : [ 3, 4, 5, 6, 8, 10, 12, 15],\n",
        "#  \"min_child_weight\" : [ 1, 3, 5, 7 ],\n",
        "#  \"gamma\"            : [ 0.0, 0.1, 0.2 , 0.3, 0.4 ],\n",
        "#  \"colsample_bytree\" : [ 0.3, 0.4, 0.5 , 0.7 ],\n",
        "#  \"n_estimators\"     : [500, 1000, 1500, 2000]    \n",
        "# }"
      ],
      "execution_count": null,
      "outputs": []
    },
    {
      "cell_type": "code",
      "metadata": {
        "id": "28Vat9fNrXYb"
      },
      "source": [
        "# define model\n",
        "model = XGBRegressor(n_estimators=2000, learning_rate=0.25, max_depth= 15, min_child_weight=5, colsample_bytree=0.7)\n",
        "# define model evaluation method\n",
        "cv = RepeatedKFold(n_splits=10, n_repeats=3, random_state=1)\n",
        "# evaluate model\n",
        "scores = cross_val_score(model, X_train, y_train, scoring='neg_mean_squared_error', cv=cv, n_jobs=-1)"
      ],
      "execution_count": null,
      "outputs": []
    },
    {
      "cell_type": "code",
      "metadata": {
        "id": "-JjPUeeyHidu"
      },
      "source": [
        "import numpy as np\n",
        "\n",
        "print(scores)"
      ],
      "execution_count": null,
      "outputs": []
    },
    {
      "cell_type": "code",
      "metadata": {
        "id": "dDupnAoI8Akh"
      },
      "source": [
        ""
      ],
      "execution_count": null,
      "outputs": []
    }
  ]
}